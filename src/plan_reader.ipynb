{
 "cells": [
  {
   "cell_type": "code",
   "execution_count": 1,
   "metadata": {},
   "outputs": [],
   "source": [
    "import os\n",
    "from planner import PseudoPlanner\n"
   ]
  },
  {
   "cell_type": "code",
   "execution_count": 2,
   "metadata": {},
   "outputs": [
    {
     "name": "stdout",
     "output_type": "stream",
     "text": [
      "childsnack\n",
      "n-puzzle\n",
      "transport\n",
      "ferry\n",
      "rovers\n",
      "spanner\n",
      "miconic\n",
      "floortile\n",
      "blocksworld\n",
      "satellite\n",
      "sokoban\n"
     ]
    }
   ],
   "source": [
    "base_dir = \"../data/raw_plan_traces\"\n",
    "output_filepath = \"../data/plain_traces/plan.txt\"\n",
    "\n",
    "def parse_plan_file(file, planner):\n",
    "    with open(file, 'r') as f:\n",
    "        lines = f.readlines()\n",
    "    plan = []\n",
    "    for line in lines:\n",
    "        if line.startswith(\";\"):\n",
    "            break\n",
    "        action = line.strip().strip(\"()\").split(\" \")\n",
    "        action_name = action[0]\n",
    "        op = planner.domain.get_action(action_name)\n",
    "        assert op is not None, f\"Action {action_name} not found in domain\"\n",
    "\n",
    "        args = action[1:]\n",
    "        arg_types = [p.type_name for p in op.parameters]\n",
    "        arg_with_types = [arg + \"?\"+ t for arg, t in zip(args, arg_types)]\n",
    "        new_action = f\"({action_name} {' '.join(arg_with_types)})\"\n",
    "        plan.append(new_action)\n",
    "    return plan\n",
    "\n",
    "\n",
    "output_data = []\n",
    "for domain in os.listdir(base_dir):\n",
    "    print(domain)\n",
    "    if not os.path.isdir(os.path.join(base_dir, domain)):\n",
    "        continue\n",
    "    planner = PseudoPlanner(os.path.join(base_dir, domain, \"domain.pddl\")) \n",
    "    for dir in os.listdir(os.path.join(base_dir, domain)):\n",
    "        \n",
    "        if dir == \"training\":\n",
    "            for file in os.listdir(os.path.join(base_dir, domain, dir, \"easy\")):\n",
    "                if file.endswith(\".plan\"):\n",
    "                    plan = parse_plan_file(os.path.join(base_dir, domain, dir,\"easy\", file), planner)\n",
    "                    data = f\"{domain}&&{\"easy\"}&&{file}&&{len(plan)}&&{','.join(plan)}\\n\"\n",
    "                    output_data.append(data)\n",
    "        elif dir == \"testing\":\n",
    "            for difficulty in os.listdir(os.path.join(base_dir, domain, dir)):\n",
    "                for file in os.listdir(os.path.join(base_dir, domain, dir, difficulty)):\n",
    "                    if file.endswith(\".plan\"):\n",
    "                        plan = parse_plan_file(os.path.join(base_dir, domain, dir, difficulty, file), planner)\n",
    "                        data = f\"{domain}&&{difficulty}&&{file}&&{len(plan)}&&{','.join(plan)}\\n\"\n",
    "                        output_data.append(data)\n",
    "\n",
    "\n",
    "try:\n",
    "    with open(output_filepath, 'w', buffering=1) as file:  # Line buffered\n",
    "        for line in output_data:\n",
    "            file.write(line)\n",
    "except Exception as e:\n",
    "    print(f\"Error writing to file {file_path}: {e}\")"
   ]
  },
  {
   "cell_type": "code",
   "execution_count": null,
   "metadata": {},
   "outputs": [],
   "source": []
  }
 ],
 "metadata": {
  "kernelspec": {
   "display_name": "base",
   "language": "python",
   "name": "python3"
  },
  "language_info": {
   "codemirror_mode": {
    "name": "ipython",
    "version": 3
   },
   "file_extension": ".py",
   "mimetype": "text/x-python",
   "name": "python",
   "nbconvert_exporter": "python",
   "pygments_lexer": "ipython3",
   "version": "3.12.2"
  }
 },
 "nbformat": 4,
 "nbformat_minor": 2
}
