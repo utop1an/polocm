{
 "cells": [
  {
   "cell_type": "code",
   "execution_count": 11,
   "metadata": {},
   "outputs": [
    {
     "name": "stdout",
     "output_type": "stream",
     "text": [
      "The autoreload extension is already loaded. To reload it, use:\n",
      "  %reload_ext autoreload\n"
     ]
    }
   ],
   "source": [
    "%load_ext autoreload\n",
    "%autoreload 2"
   ]
  },
  {
   "cell_type": "code",
   "execution_count": 12,
   "metadata": {},
   "outputs": [],
   "source": [
    "from extract.polocm import AP, Hypothesis, POLOCM\n",
    "from traces import *\n",
    "from convertor import TopoConvertor\n",
    "from observation import PartialOrderedActionObservation, ObservedPartialOrderTraceList\n",
    "from extract.model import *\n",
    "import pulp as pl\n",
    "from tabulate import tabulate"
   ]
  },
  {
   "cell_type": "code",
   "execution_count": 13,
   "metadata": {},
   "outputs": [],
   "source": [
    "objects = {\n",
    "    \"A\": PlanningObject(\"unknown\", \"A\"),\n",
    "    \"B\": PlanningObject(\"unknown\", \"B\"),\n",
    "    \"C\": PlanningObject(\"unknown\", \"C\"),\n",
    "}\n",
    "\n",
    "actions = {\n",
    "    \"unstackAB\": Action(\"unstack\", [objects[\"A\"], objects[\"B\"]]),\n",
    "    \"unstackBC\": Action(\"unstack\", [objects[\"B\"], objects[\"C\"]]),\n",
    "    \"unstackCB\": Action(\"unstack\", [objects[\"C\"], objects[\"B\"]]),\n",
    "    \"unstackBA\": Action(\"unstack\", [objects[\"B\"], objects[\"A\"]]),\n",
    "    \"unstackAC\": Action(\"unstack\", [objects[\"A\"], objects[\"C\"]]),\n",
    "    \"unstackCA\": Action(\"unstack\", [objects[\"C\"], objects[\"A\"]]),\n",
    "    \"stackAB\": Action(\"stack\", [objects[\"A\"], objects[\"B\"]]),\n",
    "    \"stackBA\": Action(\"stack\", [objects[\"B\"], objects[\"A\"]]),\n",
    "    \"stackAC\": Action(\"stack\", [objects[\"A\"], objects[\"C\"]]),\n",
    "    \"stackCA\": Action(\"stack\", [objects[\"C\"], objects[\"A\"]]),\n",
    "    \"stackBC\": Action(\"stack\", [objects[\"B\"], objects[\"C\"]]),\n",
    "    \"stackCB\": Action(\"stack\", [objects[\"C\"], objects[\"B\"]]),\n",
    "    \"putdownA\": Action(\"putdown\", [objects[\"A\"]]),\n",
    "    \"putdownB\": Action(\"putdown\", [objects[\"B\"]]),\n",
    "    \"putdownC\": Action(\"putdown\", [objects[\"C\"]]),\n",
    "    \"pickupA\": Action(\"pickup\", [objects[\"A\"]]),\n",
    "    \"pickupB\": Action(\"pickup\", [objects[\"B\"]]),\n",
    "    \"pickupC\": Action(\"pickup\", [objects[\"C\"]]),\n",
    "}\n",
    "\n",
    "traces = TraceList(\n",
    "    [\n",
    "        Trace(\n",
    "            [\n",
    "                Step(State({}), actions[\"unstackAB\"], 0),\n",
    "                Step(State({}), actions[\"putdownA\"], 1),\n",
    "                Step(State({}), actions[\"pickupB\"], 2),\n",
    "                Step(State({}), actions[\"stackBC\"], 3),\n",
    "                Step(State({}), actions[\"unstackBC\"], 4),\n",
    "                Step(State({}), actions[\"stackBC\"], 5),\n",
    "                Step(State({}), actions[\"pickupA\"], 6),\n",
    "                Step(State({}), actions[\"stackAB\"], 7),\n",
    "            ]\n",
    "        ),\n",
    "        Trace(\n",
    "            [\n",
    "                Step(State({}),actions['unstackCB'], 0),\n",
    "                Step(State({}),actions['putdownC'], 1),\n",
    "                Step(State({}),actions['unstackBA'], 2),\n",
    "                Step(State({}),actions['putdownB'], 3),\n",
    "                Step(State({}),actions['pickupB'], 4),\n",
    "                Step(State({}),actions['stackBC'], 5),\n",
    "                Step(State({}),actions['pickupA'], 6),\n",
    "                Step(State({}),actions['stackAB'], 7),\n",
    "\n",
    "            ]\n",
    "        ),\n",
    "        Trace(\n",
    "            [\n",
    "                Step(State({}), actions[\"unstackCB\"], 0),\n",
    "                Step(State({}), actions[\"stackCA\"], 1),\n",
    "                Step(State({}), actions[\"pickupB\"], 2),\n",
    "                Step(State({}), actions[\"putdownB\"], 3),\n",
    "                Step(State({}), actions[\"pickupB\"], 4),\n",
    "                Step(State({}), actions[\"stackBC\"], 5),\n",
    "            ]\n",
    "        ),\n",
    "        \n",
    "    ]\n",
    ")\n"
   ]
  },
  {
   "cell_type": "code",
   "execution_count": 14,
   "metadata": {},
   "outputs": [],
   "source": [
    "convertor = TopoConvertor(\"flex\", True, True, 1)\n",
    "po_tracelist, dod = traces.topo(convertor, 0.2)\n",
    "obs_tracelist = po_tracelist.tokenize(PartialOrderedActionObservation, ObservedPartialOrderTraceList)"
   ]
  },
  {
   "cell_type": "code",
   "execution_count": 15,
   "metadata": {},
   "outputs": [
    {
     "data": {
      "text/markdown": [
       "## Solution FO matrix"
      ],
      "text/plain": [
       "<IPython.core.display.Markdown object>"
      ]
     },
     "metadata": {},
     "output_type": "display_data"
    },
    {
     "data": {
      "text/markdown": [
       "### Trace 0"
      ],
      "text/plain": [
       "<IPython.core.display.Markdown object>"
      ]
     },
     "metadata": {},
     "output_type": "display_data"
    },
    {
     "data": {
      "text/markdown": [
       "#### Obj zero"
      ],
      "text/plain": [
       "<IPython.core.display.Markdown object>"
      ]
     },
     "metadata": {},
     "output_type": "display_data"
    },
    {
     "name": "stdout",
     "output_type": "stream",
     "text": [
      "╒════════════╤═════════════╤════════════╤══════════════╤════════════╤══════════════╤══════════════╤════════════╤═════════════╕\n",
      "│            │   [2]pickup │   [5]stack │   [1]putdown │   [7]stack │   [0]unstack │   [4]unstack │   [3]stack │   [6]pickup │\n",
      "╞════════════╪═════════════╪════════════╪══════════════╪════════════╪══════════════╪══════════════╪════════════╪═════════════╡\n",
      "│ [2]pickup  │         nan │          0 │            0 │          0 │            0 │            0 │          1 │           0 │\n",
      "├────────────┼─────────────┼────────────┼──────────────┼────────────┼──────────────┼──────────────┼────────────┼─────────────┤\n",
      "│ [5]stack   │           0 │        nan │            0 │          0 │            0 │            0 │          0 │           1 │\n",
      "├────────────┼─────────────┼────────────┼──────────────┼────────────┼──────────────┼──────────────┼────────────┼─────────────┤\n",
      "│ [1]putdown │           1 │          0 │          nan │          0 │            0 │            0 │          0 │           0 │\n",
      "├────────────┼─────────────┼────────────┼──────────────┼────────────┼──────────────┼──────────────┼────────────┼─────────────┤\n",
      "│ [7]stack   │           0 │          0 │            0 │        nan │            0 │            0 │          0 │           0 │\n",
      "├────────────┼─────────────┼────────────┼──────────────┼────────────┼──────────────┼──────────────┼────────────┼─────────────┤\n",
      "│ [0]unstack │           0 │          0 │            1 │          0 │          nan │            0 │          0 │           0 │\n",
      "├────────────┼─────────────┼────────────┼──────────────┼────────────┼──────────────┼──────────────┼────────────┼─────────────┤\n",
      "│ [4]unstack │           0 │          1 │            0 │          0 │            0 │          nan │          0 │           0 │\n",
      "├────────────┼─────────────┼────────────┼──────────────┼────────────┼──────────────┼──────────────┼────────────┼─────────────┤\n",
      "│ [3]stack   │           0 │          0 │            0 │          0 │            0 │            1 │        nan │           0 │\n",
      "├────────────┼─────────────┼────────────┼──────────────┼────────────┼──────────────┼──────────────┼────────────┼─────────────┤\n",
      "│ [6]pickup  │           0 │          0 │            0 │          1 │            0 │            0 │          0 │         nan │\n",
      "╘════════════╧═════════════╧════════════╧══════════════╧════════════╧══════════════╧══════════════╧════════════╧═════════════╛\n"
     ]
    },
    {
     "data": {
      "text/markdown": [
       "#### Obj B"
      ],
      "text/plain": [
       "<IPython.core.display.Markdown object>"
      ]
     },
     "metadata": {},
     "output_type": "display_data"
    },
    {
     "name": "stdout",
     "output_type": "stream",
     "text": [
      "╒══════════════╤═══════════════╤══════════════╤══════════════╤════════════════╤════════════════╤══════════════╕\n",
      "│              │   [2]pickup.1 │   [5]stack.1 │   [7]stack.2 │   [0]unstack.2 │   [4]unstack.1 │   [3]stack.1 │\n",
      "╞══════════════╪═══════════════╪══════════════╪══════════════╪════════════════╪════════════════╪══════════════╡\n",
      "│ [2]pickup.1  │           nan │            0 │            0 │              0 │              0 │            1 │\n",
      "├──────────────┼───────────────┼──────────────┼──────────────┼────────────────┼────────────────┼──────────────┤\n",
      "│ [5]stack.1   │             0 │          nan │            1 │              0 │              0 │            0 │\n",
      "├──────────────┼───────────────┼──────────────┼──────────────┼────────────────┼────────────────┼──────────────┤\n",
      "│ [7]stack.2   │             0 │            0 │          nan │              0 │              0 │            0 │\n",
      "├──────────────┼───────────────┼──────────────┼──────────────┼────────────────┼────────────────┼──────────────┤\n",
      "│ [0]unstack.2 │             1 │            0 │            0 │            nan │              0 │            0 │\n",
      "├──────────────┼───────────────┼──────────────┼──────────────┼────────────────┼────────────────┼──────────────┤\n",
      "│ [4]unstack.1 │             0 │            1 │            0 │              0 │            nan │            0 │\n",
      "├──────────────┼───────────────┼──────────────┼──────────────┼────────────────┼────────────────┼──────────────┤\n",
      "│ [3]stack.1   │             0 │            0 │            0 │              0 │              1 │          nan │\n",
      "╘══════════════╧═══════════════╧══════════════╧══════════════╧════════════════╧════════════════╧══════════════╛\n"
     ]
    },
    {
     "data": {
      "text/markdown": [
       "#### Obj C"
      ],
      "text/plain": [
       "<IPython.core.display.Markdown object>"
      ]
     },
     "metadata": {},
     "output_type": "display_data"
    },
    {
     "name": "stdout",
     "output_type": "stream",
     "text": [
      "╒══════════════╤══════════════╤════════════════╤══════════════╕\n",
      "│              │   [5]stack.2 │   [4]unstack.2 │   [3]stack.2 │\n",
      "╞══════════════╪══════════════╪════════════════╪══════════════╡\n",
      "│ [5]stack.2   │          nan │              0 │            0 │\n",
      "├──────────────┼──────────────┼────────────────┼──────────────┤\n",
      "│ [4]unstack.2 │            1 │            nan │            0 │\n",
      "├──────────────┼──────────────┼────────────────┼──────────────┤\n",
      "│ [3]stack.2   │            0 │              1 │          nan │\n",
      "╘══════════════╧══════════════╧════════════════╧══════════════╛\n"
     ]
    },
    {
     "data": {
      "text/markdown": [
       "#### Obj A"
      ],
      "text/plain": [
       "<IPython.core.display.Markdown object>"
      ]
     },
     "metadata": {},
     "output_type": "display_data"
    },
    {
     "name": "stdout",
     "output_type": "stream",
     "text": [
      "╒══════════════╤════════════════╤══════════════╤════════════════╤═══════════════╕\n",
      "│              │   [1]putdown.1 │   [7]stack.1 │   [0]unstack.1 │   [6]pickup.1 │\n",
      "╞══════════════╪════════════════╪══════════════╪════════════════╪═══════════════╡\n",
      "│ [1]putdown.1 │            nan │            0 │              0 │             1 │\n",
      "├──────────────┼────────────────┼──────────────┼────────────────┼───────────────┤\n",
      "│ [7]stack.1   │              0 │          nan │              0 │             0 │\n",
      "├──────────────┼────────────────┼──────────────┼────────────────┼───────────────┤\n",
      "│ [0]unstack.1 │              1 │            0 │            nan │             0 │\n",
      "├──────────────┼────────────────┼──────────────┼────────────────┼───────────────┤\n",
      "│ [6]pickup.1  │              0 │            1 │              0 │           nan │\n",
      "╘══════════════╧════════════════╧══════════════╧════════════════╧═══════════════╛\n"
     ]
    },
    {
     "data": {
      "text/markdown": [
       "### Trace 1"
      ],
      "text/plain": [
       "<IPython.core.display.Markdown object>"
      ]
     },
     "metadata": {},
     "output_type": "display_data"
    },
    {
     "data": {
      "text/markdown": [
       "#### Obj zero"
      ],
      "text/plain": [
       "<IPython.core.display.Markdown object>"
      ]
     },
     "metadata": {},
     "output_type": "display_data"
    },
    {
     "name": "stdout",
     "output_type": "stream",
     "text": [
      "╒════════════╤════════════╤═════════════╤══════════════╤══════════════╤══════════════╤══════════════╤════════════╤═════════════╕\n",
      "│            │   [7]stack │   [4]pickup │   [2]unstack │   [0]unstack │   [3]putdown │   [1]putdown │   [5]stack │   [6]pickup │\n",
      "╞════════════╪════════════╪═════════════╪══════════════╪══════════════╪══════════════╪══════════════╪════════════╪═════════════╡\n",
      "│ [7]stack   │        nan │           0 │            0 │            0 │            0 │            0 │          0 │           0 │\n",
      "├────────────┼────────────┼─────────────┼──────────────┼──────────────┼──────────────┼──────────────┼────────────┼─────────────┤\n",
      "│ [4]pickup  │          0 │         nan │            0 │            0 │            0 │            0 │          1 │           0 │\n",
      "├────────────┼────────────┼─────────────┼──────────────┼──────────────┼──────────────┼──────────────┼────────────┼─────────────┤\n",
      "│ [2]unstack │          0 │           0 │          nan │            0 │            1 │            0 │          0 │           0 │\n",
      "├────────────┼────────────┼─────────────┼──────────────┼──────────────┼──────────────┼──────────────┼────────────┼─────────────┤\n",
      "│ [0]unstack │          0 │           0 │            0 │          nan │            0 │            1 │          0 │           0 │\n",
      "├────────────┼────────────┼─────────────┼──────────────┼──────────────┼──────────────┼──────────────┼────────────┼─────────────┤\n",
      "│ [3]putdown │          0 │           1 │            0 │            0 │          nan │            0 │          0 │           0 │\n",
      "├────────────┼────────────┼─────────────┼──────────────┼──────────────┼──────────────┼──────────────┼────────────┼─────────────┤\n",
      "│ [1]putdown │          0 │           0 │            1 │            0 │            0 │          nan │          0 │           0 │\n",
      "├────────────┼────────────┼─────────────┼──────────────┼──────────────┼──────────────┼──────────────┼────────────┼─────────────┤\n",
      "│ [5]stack   │          0 │           0 │            0 │            0 │            0 │            0 │        nan │           1 │\n",
      "├────────────┼────────────┼─────────────┼──────────────┼──────────────┼──────────────┼──────────────┼────────────┼─────────────┤\n",
      "│ [6]pickup  │          1 │           0 │            0 │            0 │            0 │            0 │          0 │         nan │\n",
      "╘════════════╧════════════╧═════════════╧══════════════╧══════════════╧══════════════╧══════════════╧════════════╧═════════════╛\n"
     ]
    },
    {
     "data": {
      "text/markdown": [
       "#### Obj A"
      ],
      "text/plain": [
       "<IPython.core.display.Markdown object>"
      ]
     },
     "metadata": {},
     "output_type": "display_data"
    },
    {
     "name": "stdout",
     "output_type": "stream",
     "text": [
      "╒══════════════╤══════════════╤════════════════╤═══════════════╕\n",
      "│              │   [7]stack.1 │   [2]unstack.2 │   [6]pickup.1 │\n",
      "╞══════════════╪══════════════╪════════════════╪═══════════════╡\n",
      "│ [7]stack.1   │          nan │              0 │             0 │\n",
      "├──────────────┼──────────────┼────────────────┼───────────────┤\n",
      "│ [2]unstack.2 │            0 │            nan │             1 │\n",
      "├──────────────┼──────────────┼────────────────┼───────────────┤\n",
      "│ [6]pickup.1  │            1 │              0 │           nan │\n",
      "╘══════════════╧══════════════╧════════════════╧═══════════════╛\n"
     ]
    },
    {
     "data": {
      "text/markdown": [
       "#### Obj B"
      ],
      "text/plain": [
       "<IPython.core.display.Markdown object>"
      ]
     },
     "metadata": {},
     "output_type": "display_data"
    },
    {
     "name": "stdout",
     "output_type": "stream",
     "text": [
      "╒══════════════╤══════════════╤═══════════════╤════════════════╤════════════════╤════════════════╤══════════════╕\n",
      "│              │   [7]stack.2 │   [4]pickup.1 │   [2]unstack.1 │   [0]unstack.2 │   [3]putdown.1 │   [5]stack.1 │\n",
      "╞══════════════╪══════════════╪═══════════════╪════════════════╪════════════════╪════════════════╪══════════════╡\n",
      "│ [7]stack.2   │          nan │             0 │              0 │              0 │              0 │            0 │\n",
      "├──────────────┼──────────────┼───────────────┼────────────────┼────────────────┼────────────────┼──────────────┤\n",
      "│ [4]pickup.1  │            0 │           nan │              0 │              0 │              0 │            1 │\n",
      "├──────────────┼──────────────┼───────────────┼────────────────┼────────────────┼────────────────┼──────────────┤\n",
      "│ [2]unstack.1 │            0 │             0 │            nan │              0 │              1 │            0 │\n",
      "├──────────────┼──────────────┼───────────────┼────────────────┼────────────────┼────────────────┼──────────────┤\n",
      "│ [0]unstack.2 │            0 │             0 │              1 │            nan │              0 │            0 │\n",
      "├──────────────┼──────────────┼───────────────┼────────────────┼────────────────┼────────────────┼──────────────┤\n",
      "│ [3]putdown.1 │            0 │             1 │              0 │              0 │            nan │            0 │\n",
      "├──────────────┼──────────────┼───────────────┼────────────────┼────────────────┼────────────────┼──────────────┤\n",
      "│ [5]stack.1   │            1 │             0 │              0 │              0 │              0 │          nan │\n",
      "╘══════════════╧══════════════╧═══════════════╧════════════════╧════════════════╧════════════════╧══════════════╛\n"
     ]
    },
    {
     "data": {
      "text/markdown": [
       "#### Obj C"
      ],
      "text/plain": [
       "<IPython.core.display.Markdown object>"
      ]
     },
     "metadata": {},
     "output_type": "display_data"
    },
    {
     "name": "stdout",
     "output_type": "stream",
     "text": [
      "╒══════════════╤════════════════╤════════════════╤══════════════╕\n",
      "│              │   [0]unstack.1 │   [1]putdown.1 │   [5]stack.2 │\n",
      "╞══════════════╪════════════════╪════════════════╪══════════════╡\n",
      "│ [0]unstack.1 │            nan │              1 │            0 │\n",
      "├──────────────┼────────────────┼────────────────┼──────────────┤\n",
      "│ [1]putdown.1 │              0 │            nan │            1 │\n",
      "├──────────────┼────────────────┼────────────────┼──────────────┤\n",
      "│ [5]stack.2   │              0 │              0 │          nan │\n",
      "╘══════════════╧════════════════╧════════════════╧══════════════╛\n"
     ]
    },
    {
     "data": {
      "text/markdown": [
       "### Trace 2"
      ],
      "text/plain": [
       "<IPython.core.display.Markdown object>"
      ]
     },
     "metadata": {},
     "output_type": "display_data"
    },
    {
     "data": {
      "text/markdown": [
       "#### Obj zero"
      ],
      "text/plain": [
       "<IPython.core.display.Markdown object>"
      ]
     },
     "metadata": {},
     "output_type": "display_data"
    },
    {
     "name": "stdout",
     "output_type": "stream",
     "text": [
      "╒════════════╤══════════════╤════════════╤══════════════╤═════════════╤════════════╤═════════════╕\n",
      "│            │   [0]unstack │   [5]stack │   [3]putdown │   [4]pickup │   [1]stack │   [2]pickup │\n",
      "╞════════════╪══════════════╪════════════╪══════════════╪═════════════╪════════════╪═════════════╡\n",
      "│ [0]unstack │          nan │          0 │            0 │           0 │          1 │           0 │\n",
      "├────────────┼──────────────┼────────────┼──────────────┼─────────────┼────────────┼─────────────┤\n",
      "│ [5]stack   │            0 │        nan │            0 │           0 │          0 │           0 │\n",
      "├────────────┼──────────────┼────────────┼──────────────┼─────────────┼────────────┼─────────────┤\n",
      "│ [3]putdown │            0 │          0 │          nan │           1 │          0 │           0 │\n",
      "├────────────┼──────────────┼────────────┼──────────────┼─────────────┼────────────┼─────────────┤\n",
      "│ [4]pickup  │            0 │          1 │            0 │         nan │          0 │           0 │\n",
      "├────────────┼──────────────┼────────────┼──────────────┼─────────────┼────────────┼─────────────┤\n",
      "│ [1]stack   │            0 │          0 │            0 │           0 │        nan │           1 │\n",
      "├────────────┼──────────────┼────────────┼──────────────┼─────────────┼────────────┼─────────────┤\n",
      "│ [2]pickup  │            0 │          0 │            1 │           0 │          0 │         nan │\n",
      "╘════════════╧══════════════╧════════════╧══════════════╧═════════════╧════════════╧═════════════╛\n"
     ]
    },
    {
     "data": {
      "text/markdown": [
       "#### Obj C"
      ],
      "text/plain": [
       "<IPython.core.display.Markdown object>"
      ]
     },
     "metadata": {},
     "output_type": "display_data"
    },
    {
     "name": "stdout",
     "output_type": "stream",
     "text": [
      "╒══════════════╤════════════════╤══════════════╤══════════════╕\n",
      "│              │   [0]unstack.1 │   [5]stack.2 │   [1]stack.1 │\n",
      "╞══════════════╪════════════════╪══════════════╪══════════════╡\n",
      "│ [0]unstack.1 │            nan │            0 │            1 │\n",
      "├──────────────┼────────────────┼──────────────┼──────────────┤\n",
      "│ [5]stack.2   │              0 │          nan │            0 │\n",
      "├──────────────┼────────────────┼──────────────┼──────────────┤\n",
      "│ [1]stack.1   │              0 │            1 │          nan │\n",
      "╘══════════════╧════════════════╧══════════════╧══════════════╛\n"
     ]
    },
    {
     "data": {
      "text/markdown": [
       "#### Obj B"
      ],
      "text/plain": [
       "<IPython.core.display.Markdown object>"
      ]
     },
     "metadata": {},
     "output_type": "display_data"
    },
    {
     "name": "stdout",
     "output_type": "stream",
     "text": [
      "╒══════════════╤════════════════╤══════════════╤════════════════╤═══════════════╤═══════════════╕\n",
      "│              │   [0]unstack.2 │   [5]stack.1 │   [3]putdown.1 │   [4]pickup.1 │   [2]pickup.1 │\n",
      "╞══════════════╪════════════════╪══════════════╪════════════════╪═══════════════╪═══════════════╡\n",
      "│ [0]unstack.2 │            nan │            0 │              0 │             0 │             1 │\n",
      "├──────────────┼────────────────┼──────────────┼────────────────┼───────────────┼───────────────┤\n",
      "│ [5]stack.1   │              0 │          nan │              0 │             0 │             0 │\n",
      "├──────────────┼────────────────┼──────────────┼────────────────┼───────────────┼───────────────┤\n",
      "│ [3]putdown.1 │              0 │            0 │            nan │             1 │             0 │\n",
      "├──────────────┼────────────────┼──────────────┼────────────────┼───────────────┼───────────────┤\n",
      "│ [4]pickup.1  │              0 │            1 │              0 │           nan │             0 │\n",
      "├──────────────┼────────────────┼──────────────┼────────────────┼───────────────┼───────────────┤\n",
      "│ [2]pickup.1  │              0 │            0 │              1 │             0 │           nan │\n",
      "╘══════════════╧════════════════╧══════════════╧════════════════╧═══════════════╧═══════════════╛\n"
     ]
    },
    {
     "data": {
      "text/markdown": [
       "#### Obj A"
      ],
      "text/plain": [
       "<IPython.core.display.Markdown object>"
      ]
     },
     "metadata": {},
     "output_type": "display_data"
    },
    {
     "name": "stdout",
     "output_type": "stream",
     "text": [
      "╒════════════╤══════════════╕\n",
      "│            │   [1]stack.2 │\n",
      "╞════════════╪══════════════╡\n",
      "│ [1]stack.2 │          nan │\n",
      "╘════════════╧══════════════╛\n"
     ]
    },
    {
     "data": {
      "text/markdown": [
       "## Solution AP matrix"
      ],
      "text/plain": [
       "<IPython.core.display.Markdown object>"
      ]
     },
     "metadata": {},
     "output_type": "display_data"
    },
    {
     "data": {
      "text/markdown": [
       "### Sort 0"
      ],
      "text/plain": [
       "<IPython.core.display.Markdown object>"
      ]
     },
     "metadata": {},
     "output_type": "display_data"
    },
    {
     "name": "stdout",
     "output_type": "stream",
     "text": [
      "╒═══════════╤═════════════╤═══════════╤════════════╤═════════════╕\n",
      "│           │   putdown.0 │   stack.0 │   pickup.0 │   unstack.0 │\n",
      "╞═══════════╪═════════════╪═══════════╪════════════╪═════════════╡\n",
      "│ putdown.0 │         nan │         0 │          1 │           1 │\n",
      "├───────────┼─────────────┼───────────┼────────────┼─────────────┤\n",
      "│ stack.0   │         nan │         0 │          1 │           1 │\n",
      "├───────────┼─────────────┼───────────┼────────────┼─────────────┤\n",
      "│ pickup.0  │           1 │         1 │          0 │           0 │\n",
      "├───────────┼─────────────┼───────────┼────────────┼─────────────┤\n",
      "│ unstack.0 │           1 │         1 │          0 │           0 │\n",
      "╘═══════════╧═════════════╧═══════════╧════════════╧═════════════╛\n"
     ]
    },
    {
     "data": {
      "text/markdown": [
       "### Sort 1"
      ],
      "text/plain": [
       "<IPython.core.display.Markdown object>"
      ]
     },
     "metadata": {},
     "output_type": "display_data"
    },
    {
     "name": "stdout",
     "output_type": "stream",
     "text": [
      "╒═══════════╤════════════╤═════════════╤═════════════╤═════════════╤═══════════╤═══════════╕\n",
      "│           │   pickup.1 │   putdown.1 │   unstack.2 │   unstack.1 │   stack.2 │   stack.1 │\n",
      "╞═══════════╪════════════╪═════════════╪═════════════╪═════════════╪═══════════╪═══════════╡\n",
      "│ pickup.1  │          0 │           1 │           0 │           0 │       nan │         1 │\n",
      "├───────────┼────────────┼─────────────┼─────────────┼─────────────┼───────────┼───────────┤\n",
      "│ putdown.1 │          1 │         nan │           0 │           0 │         1 │         0 │\n",
      "├───────────┼────────────┼─────────────┼─────────────┼─────────────┼───────────┼───────────┤\n",
      "│ unstack.2 │          1 │           0 │         nan │           1 │         1 │         0 │\n",
      "├───────────┼────────────┼─────────────┼─────────────┼─────────────┼───────────┼───────────┤\n",
      "│ unstack.1 │          0 │           1 │           0 │         nan │         0 │         1 │\n",
      "├───────────┼────────────┼─────────────┼─────────────┼─────────────┼───────────┼───────────┤\n",
      "│ stack.2   │        nan │         nan │           1 │           0 │         0 │         0 │\n",
      "├───────────┼────────────┼─────────────┼─────────────┼─────────────┼───────────┼───────────┤\n",
      "│ stack.1   │          0 │         nan │           0 │           1 │         1 │         0 │\n",
      "╘═══════════╧════════════╧═════════════╧═════════════╧═════════════╧═══════════╧═══════════╛\n",
      "MLP done...\n",
      "Sort.0 AML:\n"
     ]
    },
    {
     "data": {
      "text/html": [
       "<table>\n",
       "<thead>\n",
       "<tr><th>         </th><th style=\"text-align: right;\">  unstack.0</th><th style=\"text-align: right;\">  putdown.0</th><th style=\"text-align: right;\">  pickup.0</th><th style=\"text-align: right;\">  stack.0</th></tr>\n",
       "</thead>\n",
       "<tbody>\n",
       "<tr><td>unstack.0</td><td style=\"text-align: right;\">          0</td><td style=\"text-align: right;\">          3</td><td style=\"text-align: right;\">         0</td><td style=\"text-align: right;\">        2</td></tr>\n",
       "<tr><td>putdown.0</td><td style=\"text-align: right;\">          1</td><td style=\"text-align: right;\">          0</td><td style=\"text-align: right;\">         3</td><td style=\"text-align: right;\">        0</td></tr>\n",
       "<tr><td>pickup.0 </td><td style=\"text-align: right;\">          0</td><td style=\"text-align: right;\">          1</td><td style=\"text-align: right;\">         0</td><td style=\"text-align: right;\">        5</td></tr>\n",
       "<tr><td>stack.0  </td><td style=\"text-align: right;\">          1</td><td style=\"text-align: right;\">          0</td><td style=\"text-align: right;\">         3</td><td style=\"text-align: right;\">        0</td></tr>\n",
       "</tbody>\n",
       "</table>"
      ],
      "text/plain": [
       "'<table>\\n<thead>\\n<tr><th>         </th><th style=\"text-align: right;\">  unstack.0</th><th style=\"text-align: right;\">  putdown.0</th><th style=\"text-align: right;\">  pickup.0</th><th style=\"text-align: right;\">  stack.0</th></tr>\\n</thead>\\n<tbody>\\n<tr><td>unstack.0</td><td style=\"text-align: right;\">          0</td><td style=\"text-align: right;\">          3</td><td style=\"text-align: right;\">         0</td><td style=\"text-align: right;\">        2</td></tr>\\n<tr><td>putdown.0</td><td style=\"text-align: right;\">          1</td><td style=\"text-align: right;\">          0</td><td style=\"text-align: right;\">         3</td><td style=\"text-align: right;\">        0</td></tr>\\n<tr><td>pickup.0 </td><td style=\"text-align: right;\">          0</td><td style=\"text-align: right;\">          1</td><td style=\"text-align: right;\">         0</td><td style=\"text-align: right;\">        5</td></tr>\\n<tr><td>stack.0  </td><td style=\"text-align: right;\">          1</td><td style=\"text-align: right;\">          0</td><td style=\"text-align: right;\">         3</td><td style=\"text-align: right;\">        0</td></tr>\\n</tbody>\\n</table>'"
      ]
     },
     "metadata": {},
     "output_type": "display_data"
    },
    {
     "name": "stdout",
     "output_type": "stream",
     "text": [
      "Sort.1 AML:\n"
     ]
    },
    {
     "data": {
      "text/html": [
       "<table>\n",
       "<thead>\n",
       "<tr><th>         </th><th style=\"text-align: right;\">  unstack.2</th><th style=\"text-align: right;\">  pickup.1</th><th style=\"text-align: right;\">  stack.1</th><th style=\"text-align: right;\">  unstack.1</th><th style=\"text-align: right;\">  stack.2</th><th style=\"text-align: right;\">  putdown.1</th></tr>\n",
       "</thead>\n",
       "<tbody>\n",
       "<tr><td>unstack.2</td><td style=\"text-align: right;\">          0</td><td style=\"text-align: right;\">         3</td><td style=\"text-align: right;\">        0</td><td style=\"text-align: right;\">          1</td><td style=\"text-align: right;\">        1</td><td style=\"text-align: right;\">          0</td></tr>\n",
       "<tr><td>pickup.1 </td><td style=\"text-align: right;\">          0</td><td style=\"text-align: right;\">         0</td><td style=\"text-align: right;\">        5</td><td style=\"text-align: right;\">          0</td><td style=\"text-align: right;\">        0</td><td style=\"text-align: right;\">          1</td></tr>\n",
       "<tr><td>stack.1  </td><td style=\"text-align: right;\">          0</td><td style=\"text-align: right;\">         0</td><td style=\"text-align: right;\">        0</td><td style=\"text-align: right;\">          1</td><td style=\"text-align: right;\">        3</td><td style=\"text-align: right;\">          0</td></tr>\n",
       "<tr><td>unstack.1</td><td style=\"text-align: right;\">          0</td><td style=\"text-align: right;\">         0</td><td style=\"text-align: right;\">        2</td><td style=\"text-align: right;\">          0</td><td style=\"text-align: right;\">        0</td><td style=\"text-align: right;\">          3</td></tr>\n",
       "<tr><td>stack.2  </td><td style=\"text-align: right;\">          1</td><td style=\"text-align: right;\">         0</td><td style=\"text-align: right;\">        0</td><td style=\"text-align: right;\">          0</td><td style=\"text-align: right;\">        0</td><td style=\"text-align: right;\">          0</td></tr>\n",
       "<tr><td>putdown.1</td><td style=\"text-align: right;\">          0</td><td style=\"text-align: right;\">         3</td><td style=\"text-align: right;\">        0</td><td style=\"text-align: right;\">          0</td><td style=\"text-align: right;\">        1</td><td style=\"text-align: right;\">          0</td></tr>\n",
       "</tbody>\n",
       "</table>"
      ],
      "text/plain": [
       "'<table>\\n<thead>\\n<tr><th>         </th><th style=\"text-align: right;\">  unstack.2</th><th style=\"text-align: right;\">  pickup.1</th><th style=\"text-align: right;\">  stack.1</th><th style=\"text-align: right;\">  unstack.1</th><th style=\"text-align: right;\">  stack.2</th><th style=\"text-align: right;\">  putdown.1</th></tr>\\n</thead>\\n<tbody>\\n<tr><td>unstack.2</td><td style=\"text-align: right;\">          0</td><td style=\"text-align: right;\">         3</td><td style=\"text-align: right;\">        0</td><td style=\"text-align: right;\">          1</td><td style=\"text-align: right;\">        1</td><td style=\"text-align: right;\">          0</td></tr>\\n<tr><td>pickup.1 </td><td style=\"text-align: right;\">          0</td><td style=\"text-align: right;\">         0</td><td style=\"text-align: right;\">        5</td><td style=\"text-align: right;\">          0</td><td style=\"text-align: right;\">        0</td><td style=\"text-align: right;\">          1</td></tr>\\n<tr><td>stack.1  </td><td style=\"text-align: right;\">          0</td><td style=\"text-align: right;\">         0</td><td style=\"text-align: right;\">        0</td><td style=\"text-align: right;\">          1</td><td style=\"text-align: right;\">        3</td><td style=\"text-align: right;\">          0</td></tr>\\n<tr><td>unstack.1</td><td style=\"text-align: right;\">          0</td><td style=\"text-align: right;\">         0</td><td style=\"text-align: right;\">        2</td><td style=\"text-align: right;\">          0</td><td style=\"text-align: right;\">        0</td><td style=\"text-align: right;\">          3</td></tr>\\n<tr><td>stack.2  </td><td style=\"text-align: right;\">          1</td><td style=\"text-align: right;\">         0</td><td style=\"text-align: right;\">        0</td><td style=\"text-align: right;\">          0</td><td style=\"text-align: right;\">        0</td><td style=\"text-align: right;\">          0</td></tr>\\n<tr><td>putdown.1</td><td style=\"text-align: right;\">          0</td><td style=\"text-align: right;\">         3</td><td style=\"text-align: right;\">        0</td><td style=\"text-align: right;\">          0</td><td style=\"text-align: right;\">        1</td><td style=\"text-align: right;\">          0</td></tr>\\n</tbody>\\n</table>'"
      ]
     },
     "metadata": {},
     "output_type": "display_data"
    },
    {
     "name": "stdout",
     "output_type": "stream",
     "text": [
      "Zero Sort removed!\n",
      "bindings:\n",
      "{}\n",
      "\n",
      "fluents:\n",
      "{(F0S1state2 sort1),\n",
      " (F0S1state0 sort1),\n",
      " (F0S1state3 sort1),\n",
      " (F1S1state2 sort1),\n",
      " (F2S1state0 sort1),\n",
      " (F2S1state1 sort1),\n",
      " (F2S1state2 sort1),\n",
      " (F0S1state1 sort1),\n",
      " (F1S1state1 sort1),\n",
      " (F1S1state0 sort1)}\n",
      "\n",
      "actions:\n",
      "{(unstack sort1 sort1), (stack sort1 sort1), (pickup sort1), (putdown sort1)}\n",
      "\n"
     ]
    }
   ],
   "source": [
    "debug = {\n",
    "    'pstep6': True,\n",
    "    '2step0': True,\n",
    "    'step7':True\n",
    "}\n",
    "model,AP, _ = POLOCM(obs_tracelist, debug=debug)"
   ]
  },
  {
   "cell_type": "code",
   "execution_count": 16,
   "metadata": {},
   "outputs": [],
   "source": [
    "model.to_pddl('polocm')"
   ]
  },
  {
   "cell_type": "code",
   "execution_count": null,
   "metadata": {},
   "outputs": [],
   "source": []
  }
 ],
 "metadata": {
  "kernelspec": {
   "display_name": "base",
   "language": "python",
   "name": "python3"
  },
  "language_info": {
   "codemirror_mode": {
    "name": "ipython",
    "version": 3
   },
   "file_extension": ".py",
   "mimetype": "text/x-python",
   "name": "python",
   "nbconvert_exporter": "python",
   "pygments_lexer": "ipython3",
   "version": "3.12.2"
  }
 },
 "nbformat": 4,
 "nbformat_minor": 2
}
