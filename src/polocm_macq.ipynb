{
 "cells": [
  {
   "cell_type": "code",
   "execution_count": 39,
   "metadata": {},
   "outputs": [
    {
     "name": "stdout",
     "output_type": "stream",
     "text": [
      "The autoreload extension is already loaded. To reload it, use:\n",
      "  %reload_ext autoreload\n"
     ]
    }
   ],
   "source": [
    "%load_ext autoreload\n",
    "%autoreload 2"
   ]
  },
  {
   "cell_type": "code",
   "execution_count": 40,
   "metadata": {},
   "outputs": [],
   "source": [
    "from extract.polocm import AP, Hypothesis, POLOCM\n",
    "from traces import *\n",
    "from convertor import TopoConvertor\n",
    "from observation import PartialOrderedActionObservation, ObservedPartialOrderTraceList\n",
    "from extract.model import *\n",
    "import pulp as pl\n",
    "from tabulate import tabulate"
   ]
  },
  {
   "cell_type": "code",
   "execution_count": 41,
   "metadata": {},
   "outputs": [],
   "source": [
    "objects = {\n",
    "    \"A\": PlanningObject(\"unknown\", \"A\"),\n",
    "    \"B\": PlanningObject(\"unknown\", \"B\"),\n",
    "    \"C\": PlanningObject(\"unknown\", \"C\"),\n",
    "}\n",
    "\n",
    "actions = {\n",
    "    \"unstackAB\": Action(\"unstack\", [objects[\"A\"], objects[\"B\"]]),\n",
    "    \"unstackBC\": Action(\"unstack\", [objects[\"B\"], objects[\"C\"]]),\n",
    "    \"unstackCB\": Action(\"unstack\", [objects[\"C\"], objects[\"B\"]]),\n",
    "    \"unstackBA\": Action(\"unstack\", [objects[\"B\"], objects[\"A\"]]),\n",
    "    \"unstackAC\": Action(\"unstack\", [objects[\"A\"], objects[\"C\"]]),\n",
    "    \"unstackCA\": Action(\"unstack\", [objects[\"C\"], objects[\"A\"]]),\n",
    "    \"stackAB\": Action(\"stack\", [objects[\"A\"], objects[\"B\"]]),\n",
    "    \"stackBA\": Action(\"stack\", [objects[\"B\"], objects[\"A\"]]),\n",
    "    \"stackAC\": Action(\"stack\", [objects[\"A\"], objects[\"C\"]]),\n",
    "    \"stackCA\": Action(\"stack\", [objects[\"C\"], objects[\"A\"]]),\n",
    "    \"stackBC\": Action(\"stack\", [objects[\"B\"], objects[\"C\"]]),\n",
    "    \"stackCB\": Action(\"stack\", [objects[\"C\"], objects[\"B\"]]),\n",
    "    \"putdownA\": Action(\"putdown\", [objects[\"A\"]]),\n",
    "    \"putdownB\": Action(\"putdown\", [objects[\"B\"]]),\n",
    "    \"putdownC\": Action(\"putdown\", [objects[\"C\"]]),\n",
    "    \"pickupA\": Action(\"pickup\", [objects[\"A\"]]),\n",
    "    \"pickupB\": Action(\"pickup\", [objects[\"B\"]]),\n",
    "    \"pickupC\": Action(\"pickup\", [objects[\"C\"]]),\n",
    "}\n",
    "\n",
    "traces = TraceList(\n",
    "    [\n",
    "        Trace(\n",
    "            [\n",
    "                Step(State({}), actions[\"unstackAB\"], 0),\n",
    "                Step(State({}), actions[\"putdownA\"], 1),\n",
    "                Step(State({}), actions[\"pickupB\"], 2),\n",
    "                Step(State({}), actions[\"stackBC\"], 3),\n",
    "                Step(State({}), actions[\"unstackBC\"], 4),\n",
    "                Step(State({}), actions[\"stackBC\"], 5),\n",
    "                Step(State({}), actions[\"pickupA\"], 6),\n",
    "                Step(State({}), actions[\"stackAB\"], 7),\n",
    "            ]\n",
    "        ),\n",
    "        Trace(\n",
    "            [\n",
    "                Step(State({}),actions['unstackCB'], 0),\n",
    "                Step(State({}),actions['putdownC'], 1),\n",
    "                Step(State({}),actions['unstackBA'], 2),\n",
    "                Step(State({}),actions['putdownB'], 3),\n",
    "                Step(State({}),actions['pickupB'], 4),\n",
    "                Step(State({}),actions['stackBC'], 5),\n",
    "                Step(State({}),actions['pickupA'], 6),\n",
    "                Step(State({}),actions['stackAB'], 7),\n",
    "\n",
    "            ]\n",
    "        ),\n",
    "        Trace(\n",
    "            [\n",
    "                Step(State({}), actions[\"unstackCB\"], 0),\n",
    "                Step(State({}), actions[\"stackCA\"], 1),\n",
    "                Step(State({}), actions[\"pickupB\"], 2),\n",
    "                Step(State({}), actions[\"putdownB\"], 3),\n",
    "                Step(State({}), actions[\"pickupB\"], 4),\n",
    "                Step(State({}), actions[\"stackBC\"], 5),\n",
    "            ]\n",
    "        ),\n",
    "        \n",
    "    ]\n",
    ")\n"
   ]
  },
  {
   "cell_type": "code",
   "execution_count": 42,
   "metadata": {},
   "outputs": [
    {
     "name": "stdout",
     "output_type": "stream",
     "text": [
      "╒════════════╤══════════════╤══════════════╤═════════════╤════════════╤══════════════╤════════════╤═════════════╤════════════╕\n",
      "│            │   unstack[0] │   putdown[1] │   pickup[2] │   stack[3] │   unstack[4] │   stack[5] │   pickup[6] │   stack[7] │\n",
      "╞════════════╪══════════════╪══════════════╪═════════════╪════════════╪══════════════╪════════════╪═════════════╪════════════╡\n",
      "│ unstack[0] │          nan │            1 │           1 │        nan │            1 │          1 │           1 │          1 │\n",
      "├────────────┼──────────────┼──────────────┼─────────────┼────────────┼──────────────┼────────────┼─────────────┼────────────┤\n",
      "│ putdown[1] │          nan │          nan │           1 │        nan │            1 │          1 │           1 │          1 │\n",
      "├────────────┼──────────────┼──────────────┼─────────────┼────────────┼──────────────┼────────────┼─────────────┼────────────┤\n",
      "│ pickup[2]  │          nan │          nan │         nan │        nan │          nan │          1 │         nan │          1 │\n",
      "├────────────┼──────────────┼──────────────┼─────────────┼────────────┼──────────────┼────────────┼─────────────┼────────────┤\n",
      "│ stack[3]   │          nan │          nan │         nan │        nan │            1 │          1 │           1 │          1 │\n",
      "├────────────┼──────────────┼──────────────┼─────────────┼────────────┼──────────────┼────────────┼─────────────┼────────────┤\n",
      "│ unstack[4] │          nan │          nan │         nan │        nan │          nan │          1 │           1 │        nan │\n",
      "├────────────┼──────────────┼──────────────┼─────────────┼────────────┼──────────────┼────────────┼─────────────┼────────────┤\n",
      "│ stack[5]   │          nan │          nan │         nan │        nan │          nan │        nan │         nan │        nan │\n",
      "├────────────┼──────────────┼──────────────┼─────────────┼────────────┼──────────────┼────────────┼─────────────┼────────────┤\n",
      "│ pickup[6]  │          nan │          nan │         nan │        nan │          nan │        nan │         nan │        nan │\n",
      "├────────────┼──────────────┼──────────────┼─────────────┼────────────┼──────────────┼────────────┼─────────────┼────────────┤\n",
      "│ stack[7]   │          nan │          nan │         nan │        nan │          nan │        nan │         nan │        nan │\n",
      "╘════════════╧══════════════╧══════════════╧═════════════╧════════════╧══════════════╧════════════╧═════════════╧════════════╛\n"
     ]
    }
   ],
   "source": [
    "convertor = TopoConvertor(\"flex\", True, True, 2)\n",
    "po_tracelist = traces.topo(convertor, 0.3)\n",
    "print(tabulate(po_tracelist[0].comparable_matrix, headers='keys', tablefmt=\"fancy_grid\"))\n",
    "obs_tracelist = po_tracelist.tokenize(PartialOrderedActionObservation, ObservedPartialOrderTraceList)"
   ]
  },
  {
   "cell_type": "code",
   "execution_count": 47,
   "metadata": {},
   "outputs": [
    {
     "name": "stdout",
     "output_type": "stream",
     "text": [
      "Welcome to the CBC MILP Solver \n",
      "Version: 2.10.3 \n",
      "Build Date: Dec 15 2019 \n",
      "\n",
      "command line - /home/uto/miniconda3/lib/python3.12/site-packages/pulp/solverdir/cbc/linux/64/cbc /tmp/0073bbacd7274f91aa273b7ff4585358-pulp.mps -timeMode elapsed -branch -printingOptions all -solution /tmp/0073bbacd7274f91aa273b7ff4585358-pulp.sol (default strategy 1)\n",
      "At line 2 NAME          MODEL\n",
      "At line 3 ROWS\n",
      "At line 2287 COLUMNS\n",
      "At line 8448 RHS\n",
      "At line 10731 BOUNDS\n",
      "At line 11235 ENDATA\n",
      "Problem MODEL has 2282 rows, 503 columns and 5118 elements\n",
      "Coin0008I MODEL read with 0 errors\n",
      "Option for timeMode changed from cpu to elapsed\n",
      "Continuous objective value is 10.8333 - 0.02 seconds\n",
      "Cgl0003I 0 fixed, 0 tightened bounds, 501 strengthened rows, 62 substitutions\n",
      "Cgl0003I 0 fixed, 0 tightened bounds, 204 strengthened rows, 10 substitutions\n",
      "Cgl0003I 0 fixed, 0 tightened bounds, 62 strengthened rows, 0 substitutions\n",
      "Cgl0003I 0 fixed, 0 tightened bounds, 19 strengthened rows, 0 substitutions\n",
      "Cgl0003I 0 fixed, 0 tightened bounds, 4 strengthened rows, 0 substitutions\n",
      "Cgl0003I 0 fixed, 0 tightened bounds, 1 strengthened rows, 0 substitutions\n",
      "Cgl0003I 0 fixed, 0 tightened bounds, 1 strengthened rows, 0 substitutions\n",
      "Cgl0004I processed model has 805 rows, 197 columns (197 integer (197 of which binary)) and 2793 elements\n",
      "Cutoff increment increased from 1e-05 to 0.9999\n",
      "Cbc0045I 36 integer variables out of 197 objects (197 integer) have cost of 1 - high priority\n",
      "Cbc0045I branch on satisfied N create fake objective Y random cost Y\n",
      "Cbc0038I Initial state - 0 integers unsatisfied sum - 7.66054e-15\n",
      "Cbc0038I Solution found of 14\n",
      "Cbc0038I Before mini branch and bound, 197 integers at bound fixed and 0 continuous\n",
      "Cbc0038I Mini branch and bound did not improve solution (0.10 seconds)\n",
      "Cbc0038I After 0.10 seconds - Feasibility pump exiting with objective of 14 - took 0.00 seconds\n",
      "Cbc0012I Integer solution of 14 found by feasibility pump after 0 iterations and 0 nodes (0.10 seconds)\n",
      "Cbc0001I Search completed - best objective 14, took 0 iterations and 0 nodes (0.10 seconds)\n",
      "Cbc0035I Maximum depth 0, 0 variables fixed on reduced cost\n",
      "Cuts at root node changed objective from 14 to 14\n",
      "Probing was tried 0 times and created 0 cuts of which 0 were active after adding rounds of cuts (0.000 seconds)\n",
      "Gomory was tried 0 times and created 0 cuts of which 0 were active after adding rounds of cuts (0.000 seconds)\n",
      "Knapsack was tried 0 times and created 0 cuts of which 0 were active after adding rounds of cuts (0.000 seconds)\n",
      "Clique was tried 0 times and created 0 cuts of which 0 were active after adding rounds of cuts (0.000 seconds)\n",
      "MixedIntegerRounding2 was tried 0 times and created 0 cuts of which 0 were active after adding rounds of cuts (0.000 seconds)\n",
      "FlowCover was tried 0 times and created 0 cuts of which 0 were active after adding rounds of cuts (0.000 seconds)\n",
      "TwoMirCuts was tried 0 times and created 0 cuts of which 0 were active after adding rounds of cuts (0.000 seconds)\n",
      "ZeroHalf was tried 0 times and created 0 cuts of which 0 were active after adding rounds of cuts (0.000 seconds)\n",
      "\n",
      "Result - Optimal solution found\n",
      "\n",
      "Objective value:                14.00000000\n",
      "Enumerated nodes:               0\n",
      "Total iterations:               0\n",
      "Time (CPU seconds):             0.11\n",
      "Time (Wallclock seconds):       0.11\n",
      "\n",
      "Option for printingOptions changed from normal to all\n",
      "Total time (CPU seconds):       0.11   (Wallclock seconds):       0.12\n",
      "\n"
     ]
    },
    {
     "data": {
      "text/markdown": [
       "## Solution FO matrix"
      ],
      "text/plain": [
       "<IPython.core.display.Markdown object>"
      ]
     },
     "metadata": {},
     "output_type": "display_data"
    },
    {
     "data": {
      "text/markdown": [
       "### Trace 0"
      ],
      "text/plain": [
       "<IPython.core.display.Markdown object>"
      ]
     },
     "metadata": {},
     "output_type": "display_data"
    },
    {
     "data": {
      "text/markdown": [
       "#### Obj zero"
      ],
      "text/plain": [
       "<IPython.core.display.Markdown object>"
      ]
     },
     "metadata": {},
     "output_type": "display_data"
    },
    {
     "name": "stdout",
     "output_type": "stream",
     "text": [
      "╒════════════╤══════════════╤════════════╤══════════════╤═════════════╤═════════════╤════════════╤══════════════╤════════════╕\n",
      "│            │   [1]putdown │   [7]stack │   [0]unstack │   [2]pickup │   [6]pickup │   [3]stack │   [4]unstack │   [5]stack │\n",
      "╞════════════╪══════════════╪════════════╪══════════════╪═════════════╪═════════════╪════════════╪══════════════╪════════════╡\n",
      "│ [1]putdown │          nan │          0 │            0 │           1 │           0 │          0 │            0 │          0 │\n",
      "├────────────┼──────────────┼────────────┼──────────────┼─────────────┼─────────────┼────────────┼──────────────┼────────────┤\n",
      "│ [7]stack   │            0 │        nan │            0 │           0 │           0 │          0 │            0 │          0 │\n",
      "├────────────┼──────────────┼────────────┼──────────────┼─────────────┼─────────────┼────────────┼──────────────┼────────────┤\n",
      "│ [0]unstack │            1 │          0 │          nan │           0 │           0 │          0 │            0 │          0 │\n",
      "├────────────┼──────────────┼────────────┼──────────────┼─────────────┼─────────────┼────────────┼──────────────┼────────────┤\n",
      "│ [2]pickup  │            0 │          0 │            0 │         nan │           0 │          1 │            0 │          0 │\n",
      "├────────────┼──────────────┼────────────┼──────────────┼─────────────┼─────────────┼────────────┼──────────────┼────────────┤\n",
      "│ [6]pickup  │            0 │          1 │            0 │           0 │         nan │          0 │            0 │          0 │\n",
      "├────────────┼──────────────┼────────────┼──────────────┼─────────────┼─────────────┼────────────┼──────────────┼────────────┤\n",
      "│ [3]stack   │            0 │          0 │            0 │           0 │           0 │        nan │            1 │          0 │\n",
      "├────────────┼──────────────┼────────────┼──────────────┼─────────────┼─────────────┼────────────┼──────────────┼────────────┤\n",
      "│ [4]unstack │            0 │          0 │            0 │           0 │           0 │          0 │          nan │          1 │\n",
      "├────────────┼──────────────┼────────────┼──────────────┼─────────────┼─────────────┼────────────┼──────────────┼────────────┤\n",
      "│ [5]stack   │            0 │          0 │            0 │           0 │           1 │          0 │            0 │        nan │\n",
      "╘════════════╧══════════════╧════════════╧══════════════╧═════════════╧═════════════╧════════════╧══════════════╧════════════╛\n"
     ]
    },
    {
     "data": {
      "text/markdown": [
       "#### Obj A"
      ],
      "text/plain": [
       "<IPython.core.display.Markdown object>"
      ]
     },
     "metadata": {},
     "output_type": "display_data"
    },
    {
     "name": "stdout",
     "output_type": "stream",
     "text": [
      "╒══════════════╤════════════════╤══════════════╤════════════════╤═══════════════╕\n",
      "│              │   [1]putdown.1 │   [7]stack.1 │   [0]unstack.1 │   [6]pickup.1 │\n",
      "╞══════════════╪════════════════╪══════════════╪════════════════╪═══════════════╡\n",
      "│ [1]putdown.1 │            nan │            0 │              0 │             1 │\n",
      "├──────────────┼────────────────┼──────────────┼────────────────┼───────────────┤\n",
      "│ [7]stack.1   │              0 │          nan │              0 │             0 │\n",
      "├──────────────┼────────────────┼──────────────┼────────────────┼───────────────┤\n",
      "│ [0]unstack.1 │              1 │            0 │            nan │             0 │\n",
      "├──────────────┼────────────────┼──────────────┼────────────────┼───────────────┤\n",
      "│ [6]pickup.1  │              0 │            1 │              0 │           nan │\n",
      "╘══════════════╧════════════════╧══════════════╧════════════════╧═══════════════╛\n"
     ]
    },
    {
     "data": {
      "text/markdown": [
       "#### Obj B"
      ],
      "text/plain": [
       "<IPython.core.display.Markdown object>"
      ]
     },
     "metadata": {},
     "output_type": "display_data"
    },
    {
     "name": "stdout",
     "output_type": "stream",
     "text": [
      "╒══════════════╤══════════════╤════════════════╤═══════════════╤══════════════╤════════════════╤══════════════╕\n",
      "│              │   [7]stack.2 │   [0]unstack.2 │   [2]pickup.1 │   [3]stack.1 │   [4]unstack.1 │   [5]stack.1 │\n",
      "╞══════════════╪══════════════╪════════════════╪═══════════════╪══════════════╪════════════════╪══════════════╡\n",
      "│ [7]stack.2   │          nan │              0 │             0 │            0 │              0 │            0 │\n",
      "├──────────────┼──────────────┼────────────────┼───────────────┼──────────────┼────────────────┼──────────────┤\n",
      "│ [0]unstack.2 │            0 │            nan │             1 │            0 │              0 │            0 │\n",
      "├──────────────┼──────────────┼────────────────┼───────────────┼──────────────┼────────────────┼──────────────┤\n",
      "│ [2]pickup.1  │            0 │              0 │           nan │            1 │              0 │            0 │\n",
      "├──────────────┼──────────────┼────────────────┼───────────────┼──────────────┼────────────────┼──────────────┤\n",
      "│ [3]stack.1   │            0 │              0 │             0 │          nan │              1 │            0 │\n",
      "├──────────────┼──────────────┼────────────────┼───────────────┼──────────────┼────────────────┼──────────────┤\n",
      "│ [4]unstack.1 │            0 │              0 │             0 │            0 │            nan │            1 │\n",
      "├──────────────┼──────────────┼────────────────┼───────────────┼──────────────┼────────────────┼──────────────┤\n",
      "│ [5]stack.1   │            1 │              0 │             0 │            0 │              0 │          nan │\n",
      "╘══════════════╧══════════════╧════════════════╧═══════════════╧══════════════╧════════════════╧══════════════╛\n"
     ]
    },
    {
     "data": {
      "text/markdown": [
       "#### Obj C"
      ],
      "text/plain": [
       "<IPython.core.display.Markdown object>"
      ]
     },
     "metadata": {},
     "output_type": "display_data"
    },
    {
     "name": "stdout",
     "output_type": "stream",
     "text": [
      "╒══════════════╤══════════════╤════════════════╤══════════════╕\n",
      "│              │   [3]stack.2 │   [4]unstack.2 │   [5]stack.2 │\n",
      "╞══════════════╪══════════════╪════════════════╪══════════════╡\n",
      "│ [3]stack.2   │          nan │              1 │            0 │\n",
      "├──────────────┼──────────────┼────────────────┼──────────────┤\n",
      "│ [4]unstack.2 │            0 │            nan │            1 │\n",
      "├──────────────┼──────────────┼────────────────┼──────────────┤\n",
      "│ [5]stack.2   │            0 │              0 │          nan │\n",
      "╘══════════════╧══════════════╧════════════════╧══════════════╛\n"
     ]
    },
    {
     "data": {
      "text/markdown": [
       "### Trace 1"
      ],
      "text/plain": [
       "<IPython.core.display.Markdown object>"
      ]
     },
     "metadata": {},
     "output_type": "display_data"
    },
    {
     "data": {
      "text/markdown": [
       "#### Obj zero"
      ],
      "text/plain": [
       "<IPython.core.display.Markdown object>"
      ]
     },
     "metadata": {},
     "output_type": "display_data"
    },
    {
     "name": "stdout",
     "output_type": "stream",
     "text": [
      "╒════════════╤══════════════╤══════════════╤══════════════╤════════════╤══════════════╤═════════════╤════════════╤═════════════╕\n",
      "│            │   [0]unstack │   [3]putdown │   [1]putdown │   [7]stack │   [2]unstack │   [4]pickup │   [5]stack │   [6]pickup │\n",
      "╞════════════╪══════════════╪══════════════╪══════════════╪════════════╪══════════════╪═════════════╪════════════╪═════════════╡\n",
      "│ [0]unstack │          nan │            0 │            1 │          0 │            0 │           0 │          0 │           0 │\n",
      "├────────────┼──────────────┼──────────────┼──────────────┼────────────┼──────────────┼─────────────┼────────────┼─────────────┤\n",
      "│ [3]putdown │            0 │          nan │            0 │          0 │            0 │           1 │          0 │           0 │\n",
      "├────────────┼──────────────┼──────────────┼──────────────┼────────────┼──────────────┼─────────────┼────────────┼─────────────┤\n",
      "│ [1]putdown │            0 │            0 │          nan │          0 │            1 │           0 │          0 │           0 │\n",
      "├────────────┼──────────────┼──────────────┼──────────────┼────────────┼──────────────┼─────────────┼────────────┼─────────────┤\n",
      "│ [7]stack   │            0 │            0 │            0 │        nan │            0 │           0 │          0 │           0 │\n",
      "├────────────┼──────────────┼──────────────┼──────────────┼────────────┼──────────────┼─────────────┼────────────┼─────────────┤\n",
      "│ [2]unstack │            0 │            1 │            0 │          0 │          nan │           0 │          0 │           0 │\n",
      "├────────────┼──────────────┼──────────────┼──────────────┼────────────┼──────────────┼─────────────┼────────────┼─────────────┤\n",
      "│ [4]pickup  │            0 │            0 │            0 │          0 │            0 │         nan │          1 │           0 │\n",
      "├────────────┼──────────────┼──────────────┼──────────────┼────────────┼──────────────┼─────────────┼────────────┼─────────────┤\n",
      "│ [5]stack   │            0 │            0 │            0 │          0 │            0 │           0 │        nan │           1 │\n",
      "├────────────┼──────────────┼──────────────┼──────────────┼────────────┼──────────────┼─────────────┼────────────┼─────────────┤\n",
      "│ [6]pickup  │            0 │            0 │            0 │          1 │            0 │           0 │          0 │         nan │\n",
      "╘════════════╧══════════════╧══════════════╧══════════════╧════════════╧══════════════╧═════════════╧════════════╧═════════════╛\n"
     ]
    },
    {
     "data": {
      "text/markdown": [
       "#### Obj C"
      ],
      "text/plain": [
       "<IPython.core.display.Markdown object>"
      ]
     },
     "metadata": {},
     "output_type": "display_data"
    },
    {
     "name": "stdout",
     "output_type": "stream",
     "text": [
      "╒══════════════╤════════════════╤════════════════╤══════════════╕\n",
      "│              │   [0]unstack.1 │   [1]putdown.1 │   [5]stack.2 │\n",
      "╞══════════════╪════════════════╪════════════════╪══════════════╡\n",
      "│ [0]unstack.1 │            nan │              1 │            0 │\n",
      "├──────────────┼────────────────┼────────────────┼──────────────┤\n",
      "│ [1]putdown.1 │              0 │            nan │            1 │\n",
      "├──────────────┼────────────────┼────────────────┼──────────────┤\n",
      "│ [5]stack.2   │              0 │              0 │          nan │\n",
      "╘══════════════╧════════════════╧════════════════╧══════════════╛\n"
     ]
    },
    {
     "data": {
      "text/markdown": [
       "#### Obj B"
      ],
      "text/plain": [
       "<IPython.core.display.Markdown object>"
      ]
     },
     "metadata": {},
     "output_type": "display_data"
    },
    {
     "name": "stdout",
     "output_type": "stream",
     "text": [
      "╒══════════════╤════════════════╤════════════════╤══════════════╤════════════════╤═══════════════╤══════════════╕\n",
      "│              │   [0]unstack.2 │   [3]putdown.1 │   [7]stack.2 │   [2]unstack.1 │   [4]pickup.1 │   [5]stack.1 │\n",
      "╞══════════════╪════════════════╪════════════════╪══════════════╪════════════════╪═══════════════╪══════════════╡\n",
      "│ [0]unstack.2 │            nan │              0 │            0 │              1 │             0 │            0 │\n",
      "├──────────────┼────────────────┼────────────────┼──────────────┼────────────────┼───────────────┼──────────────┤\n",
      "│ [3]putdown.1 │              0 │            nan │            0 │              0 │             1 │            0 │\n",
      "├──────────────┼────────────────┼────────────────┼──────────────┼────────────────┼───────────────┼──────────────┤\n",
      "│ [7]stack.2   │              0 │              0 │          nan │              0 │             0 │            0 │\n",
      "├──────────────┼────────────────┼────────────────┼──────────────┼────────────────┼───────────────┼──────────────┤\n",
      "│ [2]unstack.1 │              0 │              1 │            0 │            nan │             0 │            0 │\n",
      "├──────────────┼────────────────┼────────────────┼──────────────┼────────────────┼───────────────┼──────────────┤\n",
      "│ [4]pickup.1  │              0 │              0 │            0 │              0 │           nan │            1 │\n",
      "├──────────────┼────────────────┼────────────────┼──────────────┼────────────────┼───────────────┼──────────────┤\n",
      "│ [5]stack.1   │              0 │              0 │            1 │              0 │             0 │          nan │\n",
      "╘══════════════╧════════════════╧════════════════╧══════════════╧════════════════╧═══════════════╧══════════════╛\n"
     ]
    },
    {
     "data": {
      "text/markdown": [
       "#### Obj A"
      ],
      "text/plain": [
       "<IPython.core.display.Markdown object>"
      ]
     },
     "metadata": {},
     "output_type": "display_data"
    },
    {
     "name": "stdout",
     "output_type": "stream",
     "text": [
      "╒══════════════╤══════════════╤════════════════╤═══════════════╕\n",
      "│              │   [7]stack.1 │   [2]unstack.2 │   [6]pickup.1 │\n",
      "╞══════════════╪══════════════╪════════════════╪═══════════════╡\n",
      "│ [7]stack.1   │          nan │              0 │             0 │\n",
      "├──────────────┼──────────────┼────────────────┼───────────────┤\n",
      "│ [2]unstack.2 │            0 │            nan │             1 │\n",
      "├──────────────┼──────────────┼────────────────┼───────────────┤\n",
      "│ [6]pickup.1  │            1 │              0 │           nan │\n",
      "╘══════════════╧══════════════╧════════════════╧═══════════════╛\n"
     ]
    },
    {
     "data": {
      "text/markdown": [
       "### Trace 2"
      ],
      "text/plain": [
       "<IPython.core.display.Markdown object>"
      ]
     },
     "metadata": {},
     "output_type": "display_data"
    },
    {
     "data": {
      "text/markdown": [
       "#### Obj zero"
      ],
      "text/plain": [
       "<IPython.core.display.Markdown object>"
      ]
     },
     "metadata": {},
     "output_type": "display_data"
    },
    {
     "name": "stdout",
     "output_type": "stream",
     "text": [
      "╒════════════╤══════════════╤════════════╤═════════════╤════════════╤══════════════╤═════════════╕\n",
      "│            │   [0]unstack │   [1]stack │   [4]pickup │   [5]stack │   [3]putdown │   [2]pickup │\n",
      "╞════════════╪══════════════╪════════════╪═════════════╪════════════╪══════════════╪═════════════╡\n",
      "│ [0]unstack │          nan │          1 │           0 │          0 │            0 │           0 │\n",
      "├────────────┼──────────────┼────────────┼─────────────┼────────────┼──────────────┼─────────────┤\n",
      "│ [1]stack   │            0 │        nan │           0 │          0 │            0 │           1 │\n",
      "├────────────┼──────────────┼────────────┼─────────────┼────────────┼──────────────┼─────────────┤\n",
      "│ [4]pickup  │            0 │          0 │         nan │          0 │            0 │           0 │\n",
      "├────────────┼──────────────┼────────────┼─────────────┼────────────┼──────────────┼─────────────┤\n",
      "│ [5]stack   │            0 │          0 │           0 │        nan │            1 │           0 │\n",
      "├────────────┼──────────────┼────────────┼─────────────┼────────────┼──────────────┼─────────────┤\n",
      "│ [3]putdown │            0 │          0 │           1 │          0 │          nan │           0 │\n",
      "├────────────┼──────────────┼────────────┼─────────────┼────────────┼──────────────┼─────────────┤\n",
      "│ [2]pickup  │            0 │          0 │           0 │          1 │            0 │         nan │\n",
      "╘════════════╧══════════════╧════════════╧═════════════╧════════════╧══════════════╧═════════════╛\n"
     ]
    },
    {
     "data": {
      "text/markdown": [
       "#### Obj C"
      ],
      "text/plain": [
       "<IPython.core.display.Markdown object>"
      ]
     },
     "metadata": {},
     "output_type": "display_data"
    },
    {
     "name": "stdout",
     "output_type": "stream",
     "text": [
      "╒══════════════╤════════════════╤══════════════╤══════════════╕\n",
      "│              │   [0]unstack.1 │   [1]stack.1 │   [5]stack.2 │\n",
      "╞══════════════╪════════════════╪══════════════╪══════════════╡\n",
      "│ [0]unstack.1 │            nan │            1 │            0 │\n",
      "├──────────────┼────────────────┼──────────────┼──────────────┤\n",
      "│ [1]stack.1   │              0 │          nan │            1 │\n",
      "├──────────────┼────────────────┼──────────────┼──────────────┤\n",
      "│ [5]stack.2   │              0 │            0 │          nan │\n",
      "╘══════════════╧════════════════╧══════════════╧══════════════╛\n"
     ]
    },
    {
     "data": {
      "text/markdown": [
       "#### Obj B"
      ],
      "text/plain": [
       "<IPython.core.display.Markdown object>"
      ]
     },
     "metadata": {},
     "output_type": "display_data"
    },
    {
     "name": "stdout",
     "output_type": "stream",
     "text": [
      "╒══════════════╤════════════════╤═══════════════╤══════════════╤════════════════╤═══════════════╕\n",
      "│              │   [0]unstack.2 │   [4]pickup.1 │   [5]stack.1 │   [3]putdown.1 │   [2]pickup.1 │\n",
      "╞══════════════╪════════════════╪═══════════════╪══════════════╪════════════════╪═══════════════╡\n",
      "│ [0]unstack.2 │            nan │             0 │            0 │              0 │             1 │\n",
      "├──────────────┼────────────────┼───────────────┼──────────────┼────────────────┼───────────────┤\n",
      "│ [4]pickup.1  │              0 │           nan │            0 │              0 │             0 │\n",
      "├──────────────┼────────────────┼───────────────┼──────────────┼────────────────┼───────────────┤\n",
      "│ [5]stack.1   │              0 │             0 │          nan │              1 │             0 │\n",
      "├──────────────┼────────────────┼───────────────┼──────────────┼────────────────┼───────────────┤\n",
      "│ [3]putdown.1 │              0 │             1 │            0 │            nan │             0 │\n",
      "├──────────────┼────────────────┼───────────────┼──────────────┼────────────────┼───────────────┤\n",
      "│ [2]pickup.1  │              0 │             0 │            1 │              0 │           nan │\n",
      "╘══════════════╧════════════════╧═══════════════╧══════════════╧════════════════╧═══════════════╛\n"
     ]
    },
    {
     "data": {
      "text/markdown": [
       "#### Obj A"
      ],
      "text/plain": [
       "<IPython.core.display.Markdown object>"
      ]
     },
     "metadata": {},
     "output_type": "display_data"
    },
    {
     "name": "stdout",
     "output_type": "stream",
     "text": [
      "╒════════════╤══════════════╕\n",
      "│            │   [1]stack.2 │\n",
      "╞════════════╪══════════════╡\n",
      "│ [1]stack.2 │          nan │\n",
      "╘════════════╧══════════════╛\n"
     ]
    },
    {
     "data": {
      "text/markdown": [
       "## Solution AP matrix"
      ],
      "text/plain": [
       "<IPython.core.display.Markdown object>"
      ]
     },
     "metadata": {},
     "output_type": "display_data"
    },
    {
     "data": {
      "text/markdown": [
       "### Sort 0"
      ],
      "text/plain": [
       "<IPython.core.display.Markdown object>"
      ]
     },
     "metadata": {},
     "output_type": "display_data"
    },
    {
     "name": "stdout",
     "output_type": "stream",
     "text": [
      "╒═══════════╤═══════════╤═════════════╤═════════════╤════════════╕\n",
      "│           │   stack.0 │   unstack.0 │   putdown.0 │   pickup.0 │\n",
      "╞═══════════╪═══════════╪═════════════╪═════════════╪════════════╡\n",
      "│ stack.0   │         0 │           1 │           1 │          1 │\n",
      "├───────────┼───────────┼─────────────┼─────────────┼────────────┤\n",
      "│ unstack.0 │         1 │           0 │           1 │          0 │\n",
      "├───────────┼───────────┼─────────────┼─────────────┼────────────┤\n",
      "│ putdown.0 │         0 │           1 │           0 │          1 │\n",
      "├───────────┼───────────┼─────────────┼─────────────┼────────────┤\n",
      "│ pickup.0  │         1 │           0 │           0 │          0 │\n",
      "╘═══════════╧═══════════╧═════════════╧═════════════╧════════════╛\n"
     ]
    },
    {
     "data": {
      "text/markdown": [
       "### Sort 1"
      ],
      "text/plain": [
       "<IPython.core.display.Markdown object>"
      ]
     },
     "metadata": {},
     "output_type": "display_data"
    },
    {
     "name": "stdout",
     "output_type": "stream",
     "text": [
      "╒═══════════╤════════════╤═════════════╤═══════════╤═════════════╤═════════════╤═══════════╕\n",
      "│           │   pickup.1 │   unstack.2 │   stack.1 │   unstack.1 │   putdown.1 │   stack.2 │\n",
      "╞═══════════╪════════════╪═════════════╪═══════════╪═════════════╪═════════════╪═══════════╡\n",
      "│ pickup.1  │          0 │         nan │         1 │           0 │           0 │         0 │\n",
      "├───────────┼────────────┼─────────────┼───────────┼─────────────┼─────────────┼───────────┤\n",
      "│ unstack.2 │          1 │         nan │         0 │           1 │           0 │         1 │\n",
      "├───────────┼────────────┼─────────────┼───────────┼─────────────┼─────────────┼───────────┤\n",
      "│ stack.1   │          0 │           0 │       nan │           1 │           1 │         1 │\n",
      "├───────────┼────────────┼─────────────┼───────────┼─────────────┼─────────────┼───────────┤\n",
      "│ unstack.1 │          0 │         nan │         1 │         nan │           1 │         0 │\n",
      "├───────────┼────────────┼─────────────┼───────────┼─────────────┼─────────────┼───────────┤\n",
      "│ putdown.1 │          1 │         nan │         0 │           0 │         nan │         1 │\n",
      "├───────────┼────────────┼─────────────┼───────────┼─────────────┼─────────────┼───────────┤\n",
      "│ stack.2   │        nan │           1 │         0 │           0 │         nan │       nan │\n",
      "╘═══════════╧════════════╧═════════════╧═══════════╧═════════════╧═════════════╧═══════════╛\n",
      "Sort.0 AML:\n"
     ]
    },
    {
     "data": {
      "text/html": [
       "<table>\n",
       "<thead>\n",
       "<tr><th>         </th><th style=\"text-align: right;\">  unstack.0</th><th style=\"text-align: right;\">  putdown.0</th><th style=\"text-align: right;\">  pickup.0</th><th style=\"text-align: right;\">  stack.0</th></tr>\n",
       "</thead>\n",
       "<tbody>\n",
       "<tr><td>unstack.0</td><td style=\"text-align: right;\">          0</td><td style=\"text-align: right;\">          3</td><td style=\"text-align: right;\">         0</td><td style=\"text-align: right;\">        2</td></tr>\n",
       "<tr><td>putdown.0</td><td style=\"text-align: right;\">          1</td><td style=\"text-align: right;\">          0</td><td style=\"text-align: right;\">         3</td><td style=\"text-align: right;\">        0</td></tr>\n",
       "<tr><td>pickup.0 </td><td style=\"text-align: right;\">          0</td><td style=\"text-align: right;\">          0</td><td style=\"text-align: right;\">         0</td><td style=\"text-align: right;\">        5</td></tr>\n",
       "<tr><td>stack.0  </td><td style=\"text-align: right;\">          1</td><td style=\"text-align: right;\">          1</td><td style=\"text-align: right;\">         3</td><td style=\"text-align: right;\">        0</td></tr>\n",
       "</tbody>\n",
       "</table>"
      ],
      "text/plain": [
       "'<table>\\n<thead>\\n<tr><th>         </th><th style=\"text-align: right;\">  unstack.0</th><th style=\"text-align: right;\">  putdown.0</th><th style=\"text-align: right;\">  pickup.0</th><th style=\"text-align: right;\">  stack.0</th></tr>\\n</thead>\\n<tbody>\\n<tr><td>unstack.0</td><td style=\"text-align: right;\">          0</td><td style=\"text-align: right;\">          3</td><td style=\"text-align: right;\">         0</td><td style=\"text-align: right;\">        2</td></tr>\\n<tr><td>putdown.0</td><td style=\"text-align: right;\">          1</td><td style=\"text-align: right;\">          0</td><td style=\"text-align: right;\">         3</td><td style=\"text-align: right;\">        0</td></tr>\\n<tr><td>pickup.0 </td><td style=\"text-align: right;\">          0</td><td style=\"text-align: right;\">          0</td><td style=\"text-align: right;\">         0</td><td style=\"text-align: right;\">        5</td></tr>\\n<tr><td>stack.0  </td><td style=\"text-align: right;\">          1</td><td style=\"text-align: right;\">          1</td><td style=\"text-align: right;\">         3</td><td style=\"text-align: right;\">        0</td></tr>\\n</tbody>\\n</table>'"
      ]
     },
     "metadata": {},
     "output_type": "display_data"
    },
    {
     "name": "stdout",
     "output_type": "stream",
     "text": [
      "Sort.1 AML:\n"
     ]
    },
    {
     "data": {
      "text/html": [
       "<table>\n",
       "<thead>\n",
       "<tr><th>         </th><th style=\"text-align: right;\">  unstack.1</th><th style=\"text-align: right;\">  putdown.1</th><th style=\"text-align: right;\">  pickup.1</th><th style=\"text-align: right;\">  stack.1</th><th style=\"text-align: right;\">  unstack.2</th><th style=\"text-align: right;\">  stack.2</th></tr>\n",
       "</thead>\n",
       "<tbody>\n",
       "<tr><td>unstack.1</td><td style=\"text-align: right;\">          0</td><td style=\"text-align: right;\">          3</td><td style=\"text-align: right;\">         0</td><td style=\"text-align: right;\">        2</td><td style=\"text-align: right;\">          0</td><td style=\"text-align: right;\">        0</td></tr>\n",
       "<tr><td>putdown.1</td><td style=\"text-align: right;\">          0</td><td style=\"text-align: right;\">          0</td><td style=\"text-align: right;\">         3</td><td style=\"text-align: right;\">        0</td><td style=\"text-align: right;\">          0</td><td style=\"text-align: right;\">        1</td></tr>\n",
       "<tr><td>pickup.1 </td><td style=\"text-align: right;\">          0</td><td style=\"text-align: right;\">          0</td><td style=\"text-align: right;\">         0</td><td style=\"text-align: right;\">        5</td><td style=\"text-align: right;\">          0</td><td style=\"text-align: right;\">        0</td></tr>\n",
       "<tr><td>stack.1  </td><td style=\"text-align: right;\">          1</td><td style=\"text-align: right;\">          1</td><td style=\"text-align: right;\">         0</td><td style=\"text-align: right;\">        0</td><td style=\"text-align: right;\">          0</td><td style=\"text-align: right;\">        3</td></tr>\n",
       "<tr><td>unstack.2</td><td style=\"text-align: right;\">          1</td><td style=\"text-align: right;\">          0</td><td style=\"text-align: right;\">         3</td><td style=\"text-align: right;\">        0</td><td style=\"text-align: right;\">          0</td><td style=\"text-align: right;\">        1</td></tr>\n",
       "<tr><td>stack.2  </td><td style=\"text-align: right;\">          0</td><td style=\"text-align: right;\">          0</td><td style=\"text-align: right;\">         0</td><td style=\"text-align: right;\">        0</td><td style=\"text-align: right;\">          1</td><td style=\"text-align: right;\">        0</td></tr>\n",
       "</tbody>\n",
       "</table>"
      ],
      "text/plain": [
       "'<table>\\n<thead>\\n<tr><th>         </th><th style=\"text-align: right;\">  unstack.1</th><th style=\"text-align: right;\">  putdown.1</th><th style=\"text-align: right;\">  pickup.1</th><th style=\"text-align: right;\">  stack.1</th><th style=\"text-align: right;\">  unstack.2</th><th style=\"text-align: right;\">  stack.2</th></tr>\\n</thead>\\n<tbody>\\n<tr><td>unstack.1</td><td style=\"text-align: right;\">          0</td><td style=\"text-align: right;\">          3</td><td style=\"text-align: right;\">         0</td><td style=\"text-align: right;\">        2</td><td style=\"text-align: right;\">          0</td><td style=\"text-align: right;\">        0</td></tr>\\n<tr><td>putdown.1</td><td style=\"text-align: right;\">          0</td><td style=\"text-align: right;\">          0</td><td style=\"text-align: right;\">         3</td><td style=\"text-align: right;\">        0</td><td style=\"text-align: right;\">          0</td><td style=\"text-align: right;\">        1</td></tr>\\n<tr><td>pickup.1 </td><td style=\"text-align: right;\">          0</td><td style=\"text-align: right;\">          0</td><td style=\"text-align: right;\">         0</td><td style=\"text-align: right;\">        5</td><td style=\"text-align: right;\">          0</td><td style=\"text-align: right;\">        0</td></tr>\\n<tr><td>stack.1  </td><td style=\"text-align: right;\">          1</td><td style=\"text-align: right;\">          1</td><td style=\"text-align: right;\">         0</td><td style=\"text-align: right;\">        0</td><td style=\"text-align: right;\">          0</td><td style=\"text-align: right;\">        3</td></tr>\\n<tr><td>unstack.2</td><td style=\"text-align: right;\">          1</td><td style=\"text-align: right;\">          0</td><td style=\"text-align: right;\">         3</td><td style=\"text-align: right;\">        0</td><td style=\"text-align: right;\">          0</td><td style=\"text-align: right;\">        1</td></tr>\\n<tr><td>stack.2  </td><td style=\"text-align: right;\">          0</td><td style=\"text-align: right;\">          0</td><td style=\"text-align: right;\">         0</td><td style=\"text-align: right;\">        0</td><td style=\"text-align: right;\">          1</td><td style=\"text-align: right;\">        0</td></tr>\\n</tbody>\\n</table>'"
      ]
     },
     "metadata": {},
     "output_type": "display_data"
    },
    {
     "name": "stderr",
     "output_type": "stream",
     "text": [
      "/home/uto/anu/codes/xLOCM/src/extract/polocm.py:1147: FutureWarning: Setting an item of incompatible dtype is deprecated and will raise an error in a future version of pandas. Value 'hole' has dtype incompatible with int64, please explicitly cast to a compatible dtype first.\n",
      "  df1.iloc[idx2,col] = 'hole'\n",
      "/home/uto/anu/codes/xLOCM/src/extract/polocm.py:1149: FutureWarning: Setting an item of incompatible dtype is deprecated and will raise an error in a future version of pandas. Value 'hole' has dtype incompatible with int64, please explicitly cast to a compatible dtype first.\n",
      "  df1.iloc[idx1, col] = 'hole'\n",
      "/home/uto/anu/codes/xLOCM/src/extract/polocm.py:1147: FutureWarning: Setting an item of incompatible dtype is deprecated and will raise an error in a future version of pandas. Value 'hole' has dtype incompatible with int64, please explicitly cast to a compatible dtype first.\n",
      "  df1.iloc[idx2,col] = 'hole'\n",
      "/home/uto/anu/codes/xLOCM/src/extract/polocm.py:1149: FutureWarning: Setting an item of incompatible dtype is deprecated and will raise an error in a future version of pandas. Value 'hole' has dtype incompatible with int64, please explicitly cast to a compatible dtype first.\n",
      "  df1.iloc[idx1, col] = 'hole'\n",
      "/home/uto/anu/codes/xLOCM/src/extract/polocm.py:1147: FutureWarning: Setting an item of incompatible dtype is deprecated and will raise an error in a future version of pandas. Value 'hole' has dtype incompatible with int64, please explicitly cast to a compatible dtype first.\n",
      "  df1.iloc[idx2,col] = 'hole'\n"
     ]
    },
    {
     "data": {
      "text/markdown": [
       "### Sort.0"
      ],
      "text/plain": [
       "<IPython.core.display.Markdown object>"
      ]
     },
     "metadata": {},
     "output_type": "display_data"
    },
    {
     "name": "stdout",
     "output_type": "stream",
     "text": [
      "no holes\n",
      "[]\n",
      "\n",
      "Removed redundancy transition set list\n",
      "[]\n"
     ]
    },
    {
     "data": {
      "text/markdown": [
       "#### Final transition set list"
      ],
      "text/plain": [
       "<IPython.core.display.Markdown object>"
      ]
     },
     "metadata": {},
     "output_type": "display_data"
    },
    {
     "name": "stdout",
     "output_type": "stream",
     "text": [
      "[{stack.0, unstack.0, putdown.0, pickup.0}]\n"
     ]
    },
    {
     "data": {
      "text/markdown": [
       "### Sort.1"
      ],
      "text/plain": [
       "<IPython.core.display.Markdown object>"
      ]
     },
     "metadata": {},
     "output_type": "display_data"
    },
    {
     "name": "stdout",
     "output_type": "stream",
     "text": [
      "8 holes\n"
     ]
    },
    {
     "data": {
      "text/markdown": [
       "#### Hole 1: {unstack.1}"
      ],
      "text/plain": [
       "<IPython.core.display.Markdown object>"
      ]
     },
     "metadata": {},
     "output_type": "display_data"
    },
    {
     "data": {
      "text/markdown": [
       "Checking candidate set *{unstack.1, putdown.1}* of **Sort.2** for well formedness and Validity"
      ],
      "text/plain": [
       "<IPython.core.display.Markdown object>"
      ]
     },
     "metadata": {},
     "output_type": "display_data"
    },
    {
     "data": {
      "text/html": [
       "<table>\n",
       "<thead>\n",
       "<tr><th>         </th><th style=\"text-align: right;\">  unstack.1</th><th style=\"text-align: right;\">  putdown.1</th></tr>\n",
       "</thead>\n",
       "<tbody>\n",
       "<tr><td>unstack.1</td><td style=\"text-align: right;\">          0</td><td style=\"text-align: right;\">          3</td></tr>\n",
       "<tr><td>putdown.1</td><td style=\"text-align: right;\">          0</td><td style=\"text-align: right;\">          0</td></tr>\n",
       "</tbody>\n",
       "</table>"
      ],
      "text/plain": [
       "'<table>\\n<thead>\\n<tr><th>         </th><th style=\"text-align: right;\">  unstack.1</th><th style=\"text-align: right;\">  putdown.1</th></tr>\\n</thead>\\n<tbody>\\n<tr><td>unstack.1</td><td style=\"text-align: right;\">          0</td><td style=\"text-align: right;\">          3</td></tr>\\n<tr><td>putdown.1</td><td style=\"text-align: right;\">          0</td><td style=\"text-align: right;\">          0</td></tr>\\n</tbody>\\n</table>'"
      ]
     },
     "metadata": {},
     "output_type": "display_data"
    },
    {
     "name": "stdout",
     "output_type": "stream",
     "text": [
      "0 1\n",
      "This subset is well-formed.\n",
      "This subset is valid.\n",
      "Adding this subset {unstack.1, putdown.1} to the locm2 transition set.\n",
      "Hole that is covered now:\n",
      "[unstack.1]\n"
     ]
    },
    {
     "data": {
      "text/markdown": [
       "#### Hole 2: {putdown.1}"
      ],
      "text/plain": [
       "<IPython.core.display.Markdown object>"
      ]
     },
     "metadata": {},
     "output_type": "display_data"
    },
    {
     "data": {
      "text/markdown": [
       "Hole {putdown.1} is already covered."
      ],
      "text/plain": [
       "<IPython.core.display.Markdown object>"
      ]
     },
     "metadata": {},
     "output_type": "display_data"
    },
    {
     "data": {
      "text/markdown": [
       "#### Hole 3: {unstack.1, putdown.1}"
      ],
      "text/plain": [
       "<IPython.core.display.Markdown object>"
      ]
     },
     "metadata": {},
     "output_type": "display_data"
    },
    {
     "data": {
      "text/markdown": [
       "Hole {unstack.1, putdown.1} is already covered."
      ],
      "text/plain": [
       "<IPython.core.display.Markdown object>"
      ]
     },
     "metadata": {},
     "output_type": "display_data"
    },
    {
     "data": {
      "text/markdown": [
       "#### Hole 4: {unstack.1, stack.2}"
      ],
      "text/plain": [
       "<IPython.core.display.Markdown object>"
      ]
     },
     "metadata": {},
     "output_type": "display_data"
    },
    {
     "data": {
      "text/markdown": [
       "Checking candidate set *{unstack.1, stack.2, unstack.2}* of **Sort.2** for well formedness and Validity"
      ],
      "text/plain": [
       "<IPython.core.display.Markdown object>"
      ]
     },
     "metadata": {},
     "output_type": "display_data"
    },
    {
     "data": {
      "text/html": [
       "<table>\n",
       "<thead>\n",
       "<tr><th>         </th><th style=\"text-align: right;\">  unstack.1</th><th style=\"text-align: right;\">  stack.2</th><th style=\"text-align: right;\">  unstack.2</th></tr>\n",
       "</thead>\n",
       "<tbody>\n",
       "<tr><td>unstack.1</td><td style=\"text-align: right;\">          0</td><td style=\"text-align: right;\">        0</td><td style=\"text-align: right;\">          0</td></tr>\n",
       "<tr><td>stack.2  </td><td style=\"text-align: right;\">          0</td><td style=\"text-align: right;\">        0</td><td style=\"text-align: right;\">          1</td></tr>\n",
       "<tr><td>unstack.2</td><td style=\"text-align: right;\">          1</td><td style=\"text-align: right;\">        1</td><td style=\"text-align: right;\">          0</td></tr>\n",
       "</tbody>\n",
       "</table>"
      ],
      "text/plain": [
       "'<table>\\n<thead>\\n<tr><th>         </th><th style=\"text-align: right;\">  unstack.1</th><th style=\"text-align: right;\">  stack.2</th><th style=\"text-align: right;\">  unstack.2</th></tr>\\n</thead>\\n<tbody>\\n<tr><td>unstack.1</td><td style=\"text-align: right;\">          0</td><td style=\"text-align: right;\">        0</td><td style=\"text-align: right;\">          0</td></tr>\\n<tr><td>stack.2  </td><td style=\"text-align: right;\">          0</td><td style=\"text-align: right;\">        0</td><td style=\"text-align: right;\">          1</td></tr>\\n<tr><td>unstack.2</td><td style=\"text-align: right;\">          1</td><td style=\"text-align: right;\">        1</td><td style=\"text-align: right;\">          0</td></tr>\\n</tbody>\\n</table>'"
      ]
     },
     "metadata": {},
     "output_type": "display_data"
    },
    {
     "name": "stdout",
     "output_type": "stream",
     "text": [
      "0 1\n",
      "0 2\n",
      "1 2\n",
      "This subset is well-formed.\n",
      "This subset is valid.\n",
      "Adding this subset {unstack.1, stack.2, unstack.2} to the locm2 transition set.\n",
      "Hole that is covered now:\n",
      "[unstack.1, stack.2]\n"
     ]
    },
    {
     "data": {
      "text/markdown": [
       "#### Hole 5: {stack.1, pickup.1}"
      ],
      "text/plain": [
       "<IPython.core.display.Markdown object>"
      ]
     },
     "metadata": {},
     "output_type": "display_data"
    },
    {
     "data": {
      "text/markdown": [
       "Checking candidate set *{stack.1, unstack.2, pickup.1}* of **Sort.2** for well formedness and Validity"
      ],
      "text/plain": [
       "<IPython.core.display.Markdown object>"
      ]
     },
     "metadata": {},
     "output_type": "display_data"
    },
    {
     "data": {
      "text/html": [
       "<table>\n",
       "<thead>\n",
       "<tr><th>         </th><th style=\"text-align: right;\">  stack.1</th><th style=\"text-align: right;\">  unstack.2</th><th style=\"text-align: right;\">  pickup.1</th></tr>\n",
       "</thead>\n",
       "<tbody>\n",
       "<tr><td>stack.1  </td><td style=\"text-align: right;\">        0</td><td style=\"text-align: right;\">          0</td><td style=\"text-align: right;\">         0</td></tr>\n",
       "<tr><td>unstack.2</td><td style=\"text-align: right;\">        0</td><td style=\"text-align: right;\">          0</td><td style=\"text-align: right;\">         3</td></tr>\n",
       "<tr><td>pickup.1 </td><td style=\"text-align: right;\">        5</td><td style=\"text-align: right;\">          0</td><td style=\"text-align: right;\">         0</td></tr>\n",
       "</tbody>\n",
       "</table>"
      ],
      "text/plain": [
       "'<table>\\n<thead>\\n<tr><th>         </th><th style=\"text-align: right;\">  stack.1</th><th style=\"text-align: right;\">  unstack.2</th><th style=\"text-align: right;\">  pickup.1</th></tr>\\n</thead>\\n<tbody>\\n<tr><td>stack.1  </td><td style=\"text-align: right;\">        0</td><td style=\"text-align: right;\">          0</td><td style=\"text-align: right;\">         0</td></tr>\\n<tr><td>unstack.2</td><td style=\"text-align: right;\">        0</td><td style=\"text-align: right;\">          0</td><td style=\"text-align: right;\">         3</td></tr>\\n<tr><td>pickup.1 </td><td style=\"text-align: right;\">        5</td><td style=\"text-align: right;\">          0</td><td style=\"text-align: right;\">         0</td></tr>\\n</tbody>\\n</table>'"
      ]
     },
     "metadata": {},
     "output_type": "display_data"
    },
    {
     "name": "stdout",
     "output_type": "stream",
     "text": [
      "0 1\n",
      "0 2\n",
      "1 2\n",
      "This subset is well-formed.\n",
      "This subset is valid.\n",
      "Adding this subset {stack.1, unstack.2, pickup.1} to the locm2 transition set.\n",
      "Hole that is covered now:\n",
      "[stack.1, pickup.1]\n"
     ]
    },
    {
     "data": {
      "text/markdown": [
       "#### Hole 6: {stack.1}"
      ],
      "text/plain": [
       "<IPython.core.display.Markdown object>"
      ]
     },
     "metadata": {},
     "output_type": "display_data"
    },
    {
     "data": {
      "text/markdown": [
       "Hole {stack.1} is already covered."
      ],
      "text/plain": [
       "<IPython.core.display.Markdown object>"
      ]
     },
     "metadata": {},
     "output_type": "display_data"
    },
    {
     "data": {
      "text/markdown": [
       "#### Hole 7: {putdown.1, pickup.1}"
      ],
      "text/plain": [
       "<IPython.core.display.Markdown object>"
      ]
     },
     "metadata": {},
     "output_type": "display_data"
    },
    {
     "data": {
      "text/markdown": [
       "Checking candidate set *{putdown.1, stack.2, pickup.1}* of **Sort.2** for well formedness and Validity"
      ],
      "text/plain": [
       "<IPython.core.display.Markdown object>"
      ]
     },
     "metadata": {},
     "output_type": "display_data"
    },
    {
     "data": {
      "text/html": [
       "<table>\n",
       "<thead>\n",
       "<tr><th>         </th><th style=\"text-align: right;\">  putdown.1</th><th style=\"text-align: right;\">  stack.2</th><th style=\"text-align: right;\">  pickup.1</th></tr>\n",
       "</thead>\n",
       "<tbody>\n",
       "<tr><td>putdown.1</td><td style=\"text-align: right;\">          0</td><td style=\"text-align: right;\">        1</td><td style=\"text-align: right;\">         3</td></tr>\n",
       "<tr><td>stack.2  </td><td style=\"text-align: right;\">          0</td><td style=\"text-align: right;\">        0</td><td style=\"text-align: right;\">         0</td></tr>\n",
       "<tr><td>pickup.1 </td><td style=\"text-align: right;\">          0</td><td style=\"text-align: right;\">        0</td><td style=\"text-align: right;\">         0</td></tr>\n",
       "</tbody>\n",
       "</table>"
      ],
      "text/plain": [
       "'<table>\\n<thead>\\n<tr><th>         </th><th style=\"text-align: right;\">  putdown.1</th><th style=\"text-align: right;\">  stack.2</th><th style=\"text-align: right;\">  pickup.1</th></tr>\\n</thead>\\n<tbody>\\n<tr><td>putdown.1</td><td style=\"text-align: right;\">          0</td><td style=\"text-align: right;\">        1</td><td style=\"text-align: right;\">         3</td></tr>\\n<tr><td>stack.2  </td><td style=\"text-align: right;\">          0</td><td style=\"text-align: right;\">        0</td><td style=\"text-align: right;\">         0</td></tr>\\n<tr><td>pickup.1 </td><td style=\"text-align: right;\">          0</td><td style=\"text-align: right;\">        0</td><td style=\"text-align: right;\">         0</td></tr>\\n</tbody>\\n</table>'"
      ]
     },
     "metadata": {},
     "output_type": "display_data"
    },
    {
     "name": "stdout",
     "output_type": "stream",
     "text": [
      "0 1\n",
      "0 2\n",
      "1 2\n",
      "This subset is well-formed.\n",
      "This subset is valid.\n",
      "Adding this subset {putdown.1, stack.2, pickup.1} to the locm2 transition set.\n",
      "Hole that is covered now:\n",
      "[putdown.1, pickup.1]\n"
     ]
    },
    {
     "data": {
      "text/markdown": [
       "#### Hole 8: {putdown.1, unstack.2}"
      ],
      "text/plain": [
       "<IPython.core.display.Markdown object>"
      ]
     },
     "metadata": {},
     "output_type": "display_data"
    },
    {
     "data": {
      "text/markdown": [
       "Checking candidate set *{putdown.1, stack.2, unstack.2}* of **Sort.2** for well formedness and Validity"
      ],
      "text/plain": [
       "<IPython.core.display.Markdown object>"
      ]
     },
     "metadata": {},
     "output_type": "display_data"
    },
    {
     "data": {
      "text/html": [
       "<table>\n",
       "<thead>\n",
       "<tr><th>         </th><th style=\"text-align: right;\">  putdown.1</th><th style=\"text-align: right;\">  stack.2</th><th style=\"text-align: right;\">  unstack.2</th></tr>\n",
       "</thead>\n",
       "<tbody>\n",
       "<tr><td>putdown.1</td><td style=\"text-align: right;\">          0</td><td style=\"text-align: right;\">        1</td><td style=\"text-align: right;\">          0</td></tr>\n",
       "<tr><td>stack.2  </td><td style=\"text-align: right;\">          0</td><td style=\"text-align: right;\">        0</td><td style=\"text-align: right;\">          1</td></tr>\n",
       "<tr><td>unstack.2</td><td style=\"text-align: right;\">          0</td><td style=\"text-align: right;\">        1</td><td style=\"text-align: right;\">          0</td></tr>\n",
       "</tbody>\n",
       "</table>"
      ],
      "text/plain": [
       "'<table>\\n<thead>\\n<tr><th>         </th><th style=\"text-align: right;\">  putdown.1</th><th style=\"text-align: right;\">  stack.2</th><th style=\"text-align: right;\">  unstack.2</th></tr>\\n</thead>\\n<tbody>\\n<tr><td>putdown.1</td><td style=\"text-align: right;\">          0</td><td style=\"text-align: right;\">        1</td><td style=\"text-align: right;\">          0</td></tr>\\n<tr><td>stack.2  </td><td style=\"text-align: right;\">          0</td><td style=\"text-align: right;\">        0</td><td style=\"text-align: right;\">          1</td></tr>\\n<tr><td>unstack.2</td><td style=\"text-align: right;\">          0</td><td style=\"text-align: right;\">        1</td><td style=\"text-align: right;\">          0</td></tr>\\n</tbody>\\n</table>'"
      ]
     },
     "metadata": {},
     "output_type": "display_data"
    },
    {
     "name": "stdout",
     "output_type": "stream",
     "text": [
      "0 1\n",
      "0 2\n",
      "1 2\n",
      "This subset is well-formed.\n",
      "This subset is valid.\n",
      "Adding this subset {putdown.1, stack.2, unstack.2} to the locm2 transition set.\n",
      "Hole that is covered now:\n",
      "[putdown.1, unstack.2]\n",
      "[{unstack.1, putdown.1}, {unstack.1, stack.2, unstack.2}, {stack.1, unstack.2, pickup.1}, {putdown.1, stack.2, pickup.1}, {putdown.1, stack.2, unstack.2}]\n",
      "\n",
      "Removed redundancy transition set list\n",
      "[{unstack.1, putdown.1}, {unstack.1, stack.2, unstack.2}, {stack.1, unstack.2, pickup.1}, {putdown.1, stack.2, pickup.1}, {putdown.1, stack.2, unstack.2}]\n"
     ]
    },
    {
     "data": {
      "text/markdown": [
       "#### Final transition set list"
      ],
      "text/plain": [
       "<IPython.core.display.Markdown object>"
      ]
     },
     "metadata": {},
     "output_type": "display_data"
    },
    {
     "name": "stdout",
     "output_type": "stream",
     "text": [
      "[{unstack.1, putdown.1}, {unstack.1, stack.2, unstack.2}, {stack.1, unstack.2, pickup.1}, {putdown.1, stack.2, pickup.1}, {putdown.1, stack.2, unstack.2}, {pickup.1, unstack.2, stack.1, unstack.1, putdown.1, stack.2}]\n",
      "TS_overall: \n",
      " [{FSM.0 @ Sort.0: {zero zero: [unstack.0, putdown.0, pickup.0, stack.0, unstack.0, stack.0, pickup.0, stack.0]}, FSM.0 @ Sort.1: {unknown A: [unstack.1, putdown.1], unknown B: [unstack.1], unknown C: []}, FSM.1 @ Sort.1: {unknown A: [unstack.1], unknown B: [unstack.2, unstack.1, stack.2], unknown C: [stack.2, unstack.2, stack.2]}, FSM.2 @ Sort.1: {unknown A: [pickup.1, stack.1], unknown B: [unstack.2, pickup.1, stack.1, stack.1], unknown C: [unstack.2]}, FSM.3 @ Sort.1: {unknown A: [putdown.1, pickup.1], unknown B: [pickup.1, stack.2], unknown C: [stack.2, stack.2]}, FSM.4 @ Sort.1: {unknown A: [putdown.1], unknown B: [unstack.2, stack.2], unknown C: [stack.2, unstack.2, stack.2]}, FSM.5 @ Sort.1: {unknown A: [unstack.1, putdown.1, pickup.1, stack.1], unknown B: [unstack.2, pickup.1, stack.1, unstack.1, stack.1, stack.2], unknown C: [stack.2, unstack.2, stack.2]}}, {FSM.0 @ Sort.0: {zero zero: [unstack.0, putdown.0, unstack.0, putdown.0, pickup.0, stack.0, pickup.0, stack.0]}, FSM.0 @ Sort.1: {unknown C: [unstack.1, putdown.1], unknown B: [unstack.1, putdown.1], unknown A: []}, FSM.1 @ Sort.1: {unknown C: [unstack.1, stack.2], unknown B: [unstack.2, unstack.1, stack.2], unknown A: [unstack.2]}, FSM.2 @ Sort.1: {unknown C: [], unknown B: [unstack.2, pickup.1, stack.1], unknown A: [unstack.2, pickup.1, stack.1]}, FSM.3 @ Sort.1: {unknown C: [putdown.1, stack.2], unknown B: [putdown.1, pickup.1, stack.2], unknown A: [pickup.1]}, FSM.4 @ Sort.1: {unknown C: [putdown.1, stack.2], unknown B: [unstack.2, putdown.1, stack.2], unknown A: [unstack.2]}, FSM.5 @ Sort.1: {unknown C: [unstack.1, putdown.1, stack.2], unknown B: [unstack.2, unstack.1, putdown.1, pickup.1, stack.1, stack.2], unknown A: [unstack.2, pickup.1, stack.1]}}, {FSM.0 @ Sort.0: {zero zero: [unstack.0, stack.0, pickup.0, stack.0, putdown.0, pickup.0]}, FSM.0 @ Sort.1: {unknown C: [unstack.1], unknown B: [putdown.1], unknown A: []}, FSM.1 @ Sort.1: {unknown C: [unstack.1, stack.2], unknown B: [unstack.2], unknown A: [stack.2]}, FSM.2 @ Sort.1: {unknown C: [stack.1], unknown B: [unstack.2, pickup.1, stack.1, pickup.1], unknown A: []}, FSM.3 @ Sort.1: {unknown C: [stack.2], unknown B: [pickup.1, putdown.1, pickup.1], unknown A: [stack.2]}, FSM.4 @ Sort.1: {unknown C: [stack.2], unknown B: [unstack.2, putdown.1], unknown A: [stack.2]}, FSM.5 @ Sort.1: {unknown C: [unstack.1, stack.1, stack.2], unknown B: [unstack.2, pickup.1, stack.1, putdown.1, pickup.1], unknown A: [stack.2]}}]\n",
      "ap_state_pointers: \n",
      " defaultdict(<class 'dict'>, {FSM.0 @ Sort.0: {stack.0: (1 -> 2), unstack.0: (3 -> 4), putdown.0: (5 -> 6), pickup.0: (7 -> 8)}, FSM.0 @ Sort.1: {unstack.1: (1 -> 2), putdown.1: (3 -> 4)}, FSM.1 @ Sort.1: {unstack.1: (1 -> 2), stack.2: (3 -> 4), unstack.2: (5 -> 6)}, FSM.2 @ Sort.1: {stack.1: (1 -> 2), unstack.2: (3 -> 4), pickup.1: (5 -> 6)}, FSM.3 @ Sort.1: {putdown.1: (1 -> 2), stack.2: (3 -> 4), pickup.1: (5 -> 6)}, FSM.4 @ Sort.1: {putdown.1: (1 -> 2), stack.2: (3 -> 4), unstack.2: (5 -> 6)}, FSM.5 @ Sort.1: {pickup.1: (1 -> 2), unstack.2: (3 -> 4), stack.1: (5 -> 6), unstack.1: (7 -> 8), putdown.1: (9 -> 10), stack.2: (11 -> 12)}})\n",
      "Initialize OS: \n",
      " defaultdict(<class 'list'>, {FSM.0 @ Sort.0: [{1}, {2}, {3}, {4}, {5}, {6}, {7}, {8}], FSM.0 @ Sort.1: [{1}, {2}, {3}, {4}], FSM.1 @ Sort.1: [{1}, {2}, {3}, {4}, {5}, {6}], FSM.2 @ Sort.1: [{1}, {2}, {3}, {4}, {5}, {6}], FSM.3 @ Sort.1: [{1}, {2}, {3}, {4}, {5}, {6}], FSM.4 @ Sort.1: [{1}, {2}, {3}, {4}, {5}, {6}], FSM.5 @ Sort.1: [{1}, {2}, {3}, {4}, {5}, {6}, {7}, {8}, {9}, {10}, {11}, {12}]})\n",
      "Zero Sort removed!\n",
      "Final OS: \n",
      " defaultdict(<class 'list'>, {FSM.0 @ Sort.0: [], FSM.0 @ Sort.1: [{1}, {2, 3}, {4}], FSM.1 @ Sort.1: [{2}, {1, 3, 6}, {4, 5}], FSM.2 @ Sort.1: [{1, 6}, {2}, {3}, {4, 5}], FSM.3 @ Sort.1: [{1}, {4}, {2, 3, 5}, {6}], FSM.4 @ Sort.1: [{1}, {2, 3, 6}, {4, 5}], FSM.5 @ Sort.1: [{3, 12}, {1, 2, 4, 5, 6, 7, 8, 9, 10, 11}]})\n"
     ]
    }
   ],
   "source": [
    "debug = {\n",
    "    'pstep6': True,\n",
    "    '2step0': True\n",
    "}\n",
    "model = POLOCM(obs_tracelist, debug=debug)"
   ]
  },
  {
   "cell_type": "code",
   "execution_count": 46,
   "metadata": {},
   "outputs": [
    {
     "name": "stdout",
     "output_type": "stream",
     "text": [
      "putdown\n",
      "{(fsmFSM.5 @ Sort.1_state1 sort1), (fsmFSM.4 @ Sort.1_state0 sort1), (fsmFSM.0 @ Sort.1_state1 sort1), (fsmFSM.3 @ Sort.1_state0 sort1)}\n",
      "[x0 (sort1)]\n",
      "(fsmFSM.5 @ Sort.1_state1 sort1)\n",
      "[0]\n",
      "(fsmFSM.4 @ Sort.1_state0 sort1)\n",
      "[0]\n",
      "(fsmFSM.0 @ Sort.1_state1 sort1)\n",
      "[0]\n",
      "(fsmFSM.3 @ Sort.1_state0 sort1)\n",
      "[0]\n",
      "pickup\n",
      "{(fsmFSM.5 @ Sort.1_state1 sort1), (fsmFSM.2 @ Sort.1_state3 sort1), (fsmFSM.3 @ Sort.1_state2 sort1)}\n",
      "[x0 (sort1)]\n",
      "(fsmFSM.5 @ Sort.1_state1 sort1)\n",
      "[0]\n",
      "(fsmFSM.2 @ Sort.1_state3 sort1)\n",
      "[0]\n",
      "(fsmFSM.3 @ Sort.1_state2 sort1)\n",
      "[0]\n",
      "unstack\n",
      "{(fsmFSM.2 @ Sort.1_state2 sort1), (fsmFSM.1 @ Sort.1_state2 sort1 sort1), (fsmFSM.4 @ Sort.1_state2 sort1 sort1), (fsmFSM.5 @ Sort.1_state0 sort1 sort1), (fsmFSM.5 @ Sort.1_state1 sort1), (fsmFSM.0 @ Sort.1_state0 sort1), (fsmFSM.1 @ Sort.1_state1 sort1 sort1)}\n",
      "[x0 (sort1), x1 (sort1)]\n",
      "(fsmFSM.2 @ Sort.1_state2 sort1)\n",
      "[1]\n",
      "(fsmFSM.1 @ Sort.1_state2 sort1 sort1)\n",
      "[1, 0]\n",
      "(fsmFSM.4 @ Sort.1_state2 sort1 sort1)\n",
      "[1, 0]\n",
      "(fsmFSM.5 @ Sort.1_state0 sort1 sort1)\n",
      "[1, 0]\n",
      "(fsmFSM.5 @ Sort.1_state1 sort1)\n",
      "[0]\n",
      "(fsmFSM.0 @ Sort.1_state0 sort1)\n",
      "[0]\n",
      "(fsmFSM.1 @ Sort.1_state1 sort1 sort1)\n",
      "[0, 0]\n",
      "stack\n",
      "{(fsmFSM.4 @ Sort.1_state1 sort1 sort1), (fsmFSM.3 @ Sort.1_state2 sort1), (fsmFSM.5 @ Sort.1_state1 sort1), (fsmFSM.1 @ Sort.1_state1 sort1 sort1), (fsmFSM.2 @ Sort.1_state0 sort1)}\n",
      "[x0 (sort1), x1 (sort1)]\n",
      "(fsmFSM.4 @ Sort.1_state1 sort1 sort1)\n",
      "[1, 0]\n",
      "(fsmFSM.3 @ Sort.1_state2 sort1)\n",
      "[1]\n",
      "(fsmFSM.5 @ Sort.1_state1 sort1)\n",
      "[0]\n",
      "(fsmFSM.1 @ Sort.1_state1 sort1 sort1)\n",
      "[1, 0]\n",
      "(fsmFSM.2 @ Sort.1_state0 sort1)\n",
      "[0]\n"
     ]
    }
   ],
   "source": [
    "model.to_pddl('polocm')"
   ]
  },
  {
   "cell_type": "code",
   "execution_count": null,
   "metadata": {},
   "outputs": [],
   "source": []
  }
 ],
 "metadata": {
  "kernelspec": {
   "display_name": "base",
   "language": "python",
   "name": "python3"
  },
  "language_info": {
   "codemirror_mode": {
    "name": "ipython",
    "version": 3
   },
   "file_extension": ".py",
   "mimetype": "text/x-python",
   "name": "python",
   "nbconvert_exporter": "python",
   "pygments_lexer": "ipython3",
   "version": "3.12.2"
  }
 },
 "nbformat": 4,
 "nbformat_minor": 2
}
