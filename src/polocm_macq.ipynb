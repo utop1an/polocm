{
 "cells": [
  {
   "cell_type": "code",
   "execution_count": 72,
   "metadata": {},
   "outputs": [
    {
     "name": "stdout",
     "output_type": "stream",
     "text": [
      "The autoreload extension is already loaded. To reload it, use:\n",
      "  %reload_ext autoreload\n"
     ]
    }
   ],
   "source": [
    "%load_ext autoreload\n",
    "%autoreload 2"
   ]
  },
  {
   "cell_type": "code",
   "execution_count": 73,
   "metadata": {},
   "outputs": [],
   "source": [
    "from extract.polocm import AP, Hypothesis, POLOCM\n",
    "from traces import *\n",
    "from convertor import TopoConvertor\n",
    "from observation import PartialOrderedActionObservation, ObservedPartialOrderTraceList\n",
    "from extract.model import *\n",
    "import pulp as pl\n",
    "from tabulate import tabulate"
   ]
  },
  {
   "cell_type": "code",
   "execution_count": 74,
   "metadata": {},
   "outputs": [],
   "source": [
    "objects = {\n",
    "    \"A\": PlanningObject(\"unknown\", \"A\"),\n",
    "    \"B\": PlanningObject(\"unknown\", \"B\"),\n",
    "    \"C\": PlanningObject(\"unknown\", \"C\"),\n",
    "}\n",
    "\n",
    "actions = {\n",
    "    \"unstackAB\": Action(\"unstack\", [objects[\"A\"], objects[\"B\"]]),\n",
    "    \"unstackBC\": Action(\"unstack\", [objects[\"B\"], objects[\"C\"]]),\n",
    "    \"unstackCB\": Action(\"unstack\", [objects[\"C\"], objects[\"B\"]]),\n",
    "    \"unstackBA\": Action(\"unstack\", [objects[\"B\"], objects[\"A\"]]),\n",
    "    \"unstackAC\": Action(\"unstack\", [objects[\"A\"], objects[\"C\"]]),\n",
    "    \"unstackCA\": Action(\"unstack\", [objects[\"C\"], objects[\"A\"]]),\n",
    "    \"stackAB\": Action(\"stack\", [objects[\"A\"], objects[\"B\"]]),\n",
    "    \"stackBA\": Action(\"stack\", [objects[\"B\"], objects[\"A\"]]),\n",
    "    \"stackAC\": Action(\"stack\", [objects[\"A\"], objects[\"C\"]]),\n",
    "    \"stackCA\": Action(\"stack\", [objects[\"C\"], objects[\"A\"]]),\n",
    "    \"stackBC\": Action(\"stack\", [objects[\"B\"], objects[\"C\"]]),\n",
    "    \"stackCB\": Action(\"stack\", [objects[\"C\"], objects[\"B\"]]),\n",
    "    \"putdownA\": Action(\"putdown\", [objects[\"A\"]]),\n",
    "    \"putdownB\": Action(\"putdown\", [objects[\"B\"]]),\n",
    "    \"putdownC\": Action(\"putdown\", [objects[\"C\"]]),\n",
    "    \"pickupA\": Action(\"pickup\", [objects[\"A\"]]),\n",
    "    \"pickupB\": Action(\"pickup\", [objects[\"B\"]]),\n",
    "    \"pickupC\": Action(\"pickup\", [objects[\"C\"]]),\n",
    "}\n",
    "\n",
    "traces = TraceList(\n",
    "    [\n",
    "        Trace(\n",
    "            [\n",
    "                Step(State({}), actions[\"unstackAB\"], 0),\n",
    "                Step(State({}), actions[\"putdownA\"], 1),\n",
    "                Step(State({}), actions[\"pickupB\"], 2),\n",
    "                Step(State({}), actions[\"stackBC\"], 3),\n",
    "                Step(State({}), actions[\"unstackBC\"], 4),\n",
    "                Step(State({}), actions[\"stackBC\"], 5),\n",
    "                Step(State({}), actions[\"pickupA\"], 6),\n",
    "                Step(State({}), actions[\"stackAB\"], 7),\n",
    "            ]\n",
    "        ),\n",
    "        Trace(\n",
    "            [\n",
    "                Step(State({}),actions['unstackCB'], 0),\n",
    "                Step(State({}),actions['putdownC'], 1),\n",
    "                Step(State({}),actions['unstackBA'], 2),\n",
    "                Step(State({}),actions['putdownB'], 3),\n",
    "                Step(State({}),actions['pickupB'], 4),\n",
    "                Step(State({}),actions['stackBC'], 5),\n",
    "                Step(State({}),actions['pickupA'], 6),\n",
    "                Step(State({}),actions['stackAB'], 7),\n",
    "\n",
    "            ]\n",
    "        ),\n",
    "        Trace(\n",
    "            [\n",
    "                Step(State({}), actions[\"unstackCB\"], 0),\n",
    "                Step(State({}), actions[\"stackCA\"], 1),\n",
    "                Step(State({}), actions[\"pickupB\"], 2),\n",
    "                Step(State({}), actions[\"putdownB\"], 3),\n",
    "                Step(State({}), actions[\"pickupB\"], 4),\n",
    "                Step(State({}), actions[\"stackBC\"], 5),\n",
    "            ]\n",
    "        ),\n",
    "        \n",
    "    ]\n",
    ")\n"
   ]
  },
  {
   "cell_type": "code",
   "execution_count": 75,
   "metadata": {},
   "outputs": [
    {
     "name": "stdout",
     "output_type": "stream",
     "text": [
      "╒════════════╤══════════════╤══════════════╤═════════════╤════════════╤══════════════╤════════════╤═════════════╤════════════╕\n",
      "│            │   unstack[0] │   putdown[1] │   pickup[2] │   stack[3] │   unstack[4] │   stack[5] │   pickup[6] │   stack[7] │\n",
      "╞════════════╪══════════════╪══════════════╪═════════════╪════════════╪══════════════╪════════════╪═════════════╪════════════╡\n",
      "│ unstack[0] │          nan │          nan │           1 │          1 │            1 │          1 │           1 │          1 │\n",
      "├────────────┼──────────────┼──────────────┼─────────────┼────────────┼──────────────┼────────────┼─────────────┼────────────┤\n",
      "│ putdown[1] │          nan │          nan │           1 │          1 │            1 │          1 │           1 │          1 │\n",
      "├────────────┼──────────────┼──────────────┼─────────────┼────────────┼──────────────┼────────────┼─────────────┼────────────┤\n",
      "│ pickup[2]  │          nan │          nan │         nan │        nan │            1 │          1 │           1 │          1 │\n",
      "├────────────┼──────────────┼──────────────┼─────────────┼────────────┼──────────────┼────────────┼─────────────┼────────────┤\n",
      "│ stack[3]   │          nan │          nan │         nan │        nan │          nan │          1 │           1 │          1 │\n",
      "├────────────┼──────────────┼──────────────┼─────────────┼────────────┼──────────────┼────────────┼─────────────┼────────────┤\n",
      "│ unstack[4] │          nan │          nan │         nan │        nan │          nan │        nan │           1 │          1 │\n",
      "├────────────┼──────────────┼──────────────┼─────────────┼────────────┼──────────────┼────────────┼─────────────┼────────────┤\n",
      "│ stack[5]   │          nan │          nan │         nan │        nan │          nan │        nan │           1 │        nan │\n",
      "├────────────┼──────────────┼──────────────┼─────────────┼────────────┼──────────────┼────────────┼─────────────┼────────────┤\n",
      "│ pickup[6]  │          nan │          nan │         nan │        nan │          nan │        nan │         nan │        nan │\n",
      "├────────────┼──────────────┼──────────────┼─────────────┼────────────┼──────────────┼────────────┼─────────────┼────────────┤\n",
      "│ stack[7]   │          nan │          nan │         nan │        nan │          nan │        nan │         nan │        nan │\n",
      "╘════════════╧══════════════╧══════════════╧═════════════╧════════════╧══════════════╧════════════╧═════════════╧════════════╛\n"
     ]
    }
   ],
   "source": [
    "convertor = TopoConvertor(\"flex\", True, True, 1)\n",
    "po_tracelist = traces.topo(convertor, 0.2)\n",
    "print(tabulate(po_tracelist[0].comparable_matrix, headers='keys', tablefmt=\"fancy_grid\"))\n",
    "obs_tracelist = po_tracelist.tokenize(PartialOrderedActionObservation, ObservedPartialOrderTraceList)"
   ]
  },
  {
   "cell_type": "code",
   "execution_count": 76,
   "metadata": {},
   "outputs": [
    {
     "name": "stdout",
     "output_type": "stream",
     "text": [
      "Welcome to the CBC MILP Solver \n",
      "Version: 2.10.3 \n",
      "Build Date: Dec 15 2019 \n",
      "\n",
      "command line - /home/uto/miniconda3/lib/python3.12/site-packages/pulp/solverdir/cbc/linux/64/cbc /tmp/c9c3ee221d0d4d119e7f5688116c517f-pulp.mps -timeMode elapsed -branch -printingOptions all -solution /tmp/c9c3ee221d0d4d119e7f5688116c517f-pulp.sol (default strategy 1)\n",
      "At line 2 NAME          MODEL\n",
      "At line 3 ROWS\n",
      "At line 1867 COLUMNS\n",
      "At line 6818 RHS\n",
      "At line 8681 BOUNDS\n",
      "At line 9104 ENDATA\n",
      "Problem MODEL has 1862 rows, 422 columns and 4068 elements\n",
      "Coin0008I MODEL read with 0 errors\n",
      "Option for timeMode changed from cpu to elapsed\n",
      "Continuous objective value is 13 - 0.01 seconds\n",
      "Cgl0003I 0 fixed, 0 tightened bounds, 437 strengthened rows, 128 substitutions\n",
      "Cgl0003I 4 fixed, 0 tightened bounds, 131 strengthened rows, 30 substitutions\n",
      "Cgl0003I 0 fixed, 0 tightened bounds, 59 strengthened rows, 1 substitutions\n",
      "Cgl0003I 0 fixed, 0 tightened bounds, 15 strengthened rows, 12 substitutions\n",
      "Cgl0003I 0 fixed, 0 tightened bounds, 5 strengthened rows, 4 substitutions\n",
      "Cgl0003I 0 fixed, 0 tightened bounds, 1 strengthened rows, 0 substitutions\n",
      "Cgl0004I processed model has 412 rows, 119 columns (119 integer (119 of which binary)) and 1408 elements\n",
      "Cutoff increment increased from 1e-05 to 0.9999\n",
      "Cbc0038I Initial state - 0 integers unsatisfied sum - 0\n",
      "Cbc0038I Solution found of 15\n",
      "Cbc0038I Before mini branch and bound, 119 integers at bound fixed and 0 continuous\n",
      "Cbc0038I Mini branch and bound did not improve solution (0.05 seconds)\n",
      "Cbc0038I After 0.05 seconds - Feasibility pump exiting with objective of 15 - took 0.00 seconds\n",
      "Cbc0012I Integer solution of 15 found by feasibility pump after 0 iterations and 0 nodes (0.05 seconds)\n",
      "Cbc0001I Search completed - best objective 15, took 0 iterations and 0 nodes (0.05 seconds)\n",
      "Cbc0035I Maximum depth 0, 0 variables fixed on reduced cost\n",
      "Cuts at root node changed objective from 15 to 15\n",
      "Probing was tried 0 times and created 0 cuts of which 0 were active after adding rounds of cuts (0.000 seconds)\n",
      "Gomory was tried 0 times and created 0 cuts of which 0 were active after adding rounds of cuts (0.000 seconds)\n",
      "Knapsack was tried 0 times and created 0 cuts of which 0 were active after adding rounds of cuts (0.000 seconds)\n",
      "Clique was tried 0 times and created 0 cuts of which 0 were active after adding rounds of cuts (0.000 seconds)\n",
      "MixedIntegerRounding2 was tried 0 times and created 0 cuts of which 0 were active after adding rounds of cuts (0.000 seconds)\n",
      "FlowCover was tried 0 times and created 0 cuts of which 0 were active after adding rounds of cuts (0.000 seconds)\n",
      "TwoMirCuts was tried 0 times and created 0 cuts of which 0 were active after adding rounds of cuts (0.000 seconds)\n",
      "ZeroHalf was tried 0 times and created 0 cuts of which 0 were active after adding rounds of cuts (0.000 seconds)\n",
      "\n",
      "Result - Optimal solution found\n",
      "\n",
      "Objective value:                15.00000000\n",
      "Enumerated nodes:               0\n",
      "Total iterations:               0\n",
      "Time (CPU seconds):             0.05\n",
      "Time (Wallclock seconds):       0.06\n",
      "\n",
      "Option for printingOptions changed from normal to all\n",
      "Total time (CPU seconds):       0.06   (Wallclock seconds):       0.06\n",
      "\n"
     ]
    },
    {
     "data": {
      "text/markdown": [
       "## Solution FO matrix"
      ],
      "text/plain": [
       "<IPython.core.display.Markdown object>"
      ]
     },
     "metadata": {},
     "output_type": "display_data"
    },
    {
     "data": {
      "text/markdown": [
       "### Trace 0"
      ],
      "text/plain": [
       "<IPython.core.display.Markdown object>"
      ]
     },
     "metadata": {},
     "output_type": "display_data"
    },
    {
     "data": {
      "text/markdown": [
       "#### Obj zero"
      ],
      "text/plain": [
       "<IPython.core.display.Markdown object>"
      ]
     },
     "metadata": {},
     "output_type": "display_data"
    },
    {
     "name": "stdout",
     "output_type": "stream",
     "text": [
      "╒════════════╤═════════════╤════════════╤══════════════╤════════════╤══════════════╤══════════════╤════════════╤═════════════╕\n",
      "│            │   [2]pickup │   [5]stack │   [1]putdown │   [7]stack │   [0]unstack │   [4]unstack │   [3]stack │   [6]pickup │\n",
      "╞════════════╪═════════════╪════════════╪══════════════╪════════════╪══════════════╪══════════════╪════════════╪═════════════╡\n",
      "│ [2]pickup  │         nan │          0 │            0 │          0 │            0 │            0 │          1 │           0 │\n",
      "├────────────┼─────────────┼────────────┼──────────────┼────────────┼──────────────┼──────────────┼────────────┼─────────────┤\n",
      "│ [5]stack   │           0 │        nan │            0 │          0 │            0 │            0 │          0 │           1 │\n",
      "├────────────┼─────────────┼────────────┼──────────────┼────────────┼──────────────┼──────────────┼────────────┼─────────────┤\n",
      "│ [1]putdown │           1 │          0 │          nan │          0 │            0 │            0 │          0 │           0 │\n",
      "├────────────┼─────────────┼────────────┼──────────────┼────────────┼──────────────┼──────────────┼────────────┼─────────────┤\n",
      "│ [7]stack   │           0 │          0 │            0 │        nan │            0 │            0 │          0 │           0 │\n",
      "├────────────┼─────────────┼────────────┼──────────────┼────────────┼──────────────┼──────────────┼────────────┼─────────────┤\n",
      "│ [0]unstack │           0 │          0 │            1 │          0 │          nan │            0 │          0 │           0 │\n",
      "├────────────┼─────────────┼────────────┼──────────────┼────────────┼──────────────┼──────────────┼────────────┼─────────────┤\n",
      "│ [4]unstack │           0 │          1 │            0 │          0 │            0 │          nan │          0 │           0 │\n",
      "├────────────┼─────────────┼────────────┼──────────────┼────────────┼──────────────┼──────────────┼────────────┼─────────────┤\n",
      "│ [3]stack   │           0 │          0 │            0 │          0 │            0 │            1 │        nan │           0 │\n",
      "├────────────┼─────────────┼────────────┼──────────────┼────────────┼──────────────┼──────────────┼────────────┼─────────────┤\n",
      "│ [6]pickup  │           0 │          0 │            0 │          1 │            0 │            0 │          0 │         nan │\n",
      "╘════════════╧═════════════╧════════════╧══════════════╧════════════╧══════════════╧══════════════╧════════════╧═════════════╛\n"
     ]
    },
    {
     "data": {
      "text/markdown": [
       "#### Obj B"
      ],
      "text/plain": [
       "<IPython.core.display.Markdown object>"
      ]
     },
     "metadata": {},
     "output_type": "display_data"
    },
    {
     "name": "stdout",
     "output_type": "stream",
     "text": [
      "╒══════════════╤═══════════════╤══════════════╤══════════════╤════════════════╤════════════════╤══════════════╕\n",
      "│              │   [2]pickup.1 │   [5]stack.1 │   [7]stack.2 │   [0]unstack.2 │   [4]unstack.1 │   [3]stack.1 │\n",
      "╞══════════════╪═══════════════╪══════════════╪══════════════╪════════════════╪════════════════╪══════════════╡\n",
      "│ [2]pickup.1  │           nan │            0 │            0 │              0 │              0 │            1 │\n",
      "├──────────────┼───────────────┼──────────────┼──────────────┼────────────────┼────────────────┼──────────────┤\n",
      "│ [5]stack.1   │             0 │          nan │            1 │              0 │              0 │            0 │\n",
      "├──────────────┼───────────────┼──────────────┼──────────────┼────────────────┼────────────────┼──────────────┤\n",
      "│ [7]stack.2   │             0 │            0 │          nan │              0 │              0 │            0 │\n",
      "├──────────────┼───────────────┼──────────────┼──────────────┼────────────────┼────────────────┼──────────────┤\n",
      "│ [0]unstack.2 │             1 │            0 │            0 │            nan │              0 │            0 │\n",
      "├──────────────┼───────────────┼──────────────┼──────────────┼────────────────┼────────────────┼──────────────┤\n",
      "│ [4]unstack.1 │             0 │            1 │            0 │              0 │            nan │            0 │\n",
      "├──────────────┼───────────────┼──────────────┼──────────────┼────────────────┼────────────────┼──────────────┤\n",
      "│ [3]stack.1   │             0 │            0 │            0 │              0 │              1 │          nan │\n",
      "╘══════════════╧═══════════════╧══════════════╧══════════════╧════════════════╧════════════════╧══════════════╛\n"
     ]
    },
    {
     "data": {
      "text/markdown": [
       "#### Obj C"
      ],
      "text/plain": [
       "<IPython.core.display.Markdown object>"
      ]
     },
     "metadata": {},
     "output_type": "display_data"
    },
    {
     "name": "stdout",
     "output_type": "stream",
     "text": [
      "╒══════════════╤══════════════╤════════════════╤══════════════╕\n",
      "│              │   [5]stack.2 │   [4]unstack.2 │   [3]stack.2 │\n",
      "╞══════════════╪══════════════╪════════════════╪══════════════╡\n",
      "│ [5]stack.2   │          nan │              0 │            0 │\n",
      "├──────────────┼──────────────┼────────────────┼──────────────┤\n",
      "│ [4]unstack.2 │            1 │            nan │            0 │\n",
      "├──────────────┼──────────────┼────────────────┼──────────────┤\n",
      "│ [3]stack.2   │            0 │              1 │          nan │\n",
      "╘══════════════╧══════════════╧════════════════╧══════════════╛\n"
     ]
    },
    {
     "data": {
      "text/markdown": [
       "#### Obj A"
      ],
      "text/plain": [
       "<IPython.core.display.Markdown object>"
      ]
     },
     "metadata": {},
     "output_type": "display_data"
    },
    {
     "name": "stdout",
     "output_type": "stream",
     "text": [
      "╒══════════════╤════════════════╤══════════════╤════════════════╤═══════════════╕\n",
      "│              │   [1]putdown.1 │   [7]stack.1 │   [0]unstack.1 │   [6]pickup.1 │\n",
      "╞══════════════╪════════════════╪══════════════╪════════════════╪═══════════════╡\n",
      "│ [1]putdown.1 │            nan │            0 │              0 │             1 │\n",
      "├──────────────┼────────────────┼──────────────┼────────────────┼───────────────┤\n",
      "│ [7]stack.1   │              0 │          nan │              0 │             0 │\n",
      "├──────────────┼────────────────┼──────────────┼────────────────┼───────────────┤\n",
      "│ [0]unstack.1 │              1 │            0 │            nan │             0 │\n",
      "├──────────────┼────────────────┼──────────────┼────────────────┼───────────────┤\n",
      "│ [6]pickup.1  │              0 │            1 │              0 │           nan │\n",
      "╘══════════════╧════════════════╧══════════════╧════════════════╧═══════════════╛\n"
     ]
    },
    {
     "data": {
      "text/markdown": [
       "### Trace 1"
      ],
      "text/plain": [
       "<IPython.core.display.Markdown object>"
      ]
     },
     "metadata": {},
     "output_type": "display_data"
    },
    {
     "data": {
      "text/markdown": [
       "#### Obj zero"
      ],
      "text/plain": [
       "<IPython.core.display.Markdown object>"
      ]
     },
     "metadata": {},
     "output_type": "display_data"
    },
    {
     "name": "stdout",
     "output_type": "stream",
     "text": [
      "╒════════════╤════════════╤═════════════╤══════════════╤══════════════╤══════════════╤══════════════╤════════════╤═════════════╕\n",
      "│            │   [7]stack │   [4]pickup │   [2]unstack │   [0]unstack │   [3]putdown │   [1]putdown │   [5]stack │   [6]pickup │\n",
      "╞════════════╪════════════╪═════════════╪══════════════╪══════════════╪══════════════╪══════════════╪════════════╪═════════════╡\n",
      "│ [7]stack   │        nan │           0 │            0 │            0 │            0 │            0 │          0 │           0 │\n",
      "├────────────┼────────────┼─────────────┼──────────────┼──────────────┼──────────────┼──────────────┼────────────┼─────────────┤\n",
      "│ [4]pickup  │          0 │         nan │            0 │            0 │            0 │            0 │          1 │           0 │\n",
      "├────────────┼────────────┼─────────────┼──────────────┼──────────────┼──────────────┼──────────────┼────────────┼─────────────┤\n",
      "│ [2]unstack │          0 │           0 │          nan │            0 │            1 │            0 │          0 │           0 │\n",
      "├────────────┼────────────┼─────────────┼──────────────┼──────────────┼──────────────┼──────────────┼────────────┼─────────────┤\n",
      "│ [0]unstack │          0 │           0 │            0 │          nan │            0 │            1 │          0 │           0 │\n",
      "├────────────┼────────────┼─────────────┼──────────────┼──────────────┼──────────────┼──────────────┼────────────┼─────────────┤\n",
      "│ [3]putdown │          0 │           1 │            0 │            0 │          nan │            0 │          0 │           0 │\n",
      "├────────────┼────────────┼─────────────┼──────────────┼──────────────┼──────────────┼──────────────┼────────────┼─────────────┤\n",
      "│ [1]putdown │          0 │           0 │            1 │            0 │            0 │          nan │          0 │           0 │\n",
      "├────────────┼────────────┼─────────────┼──────────────┼──────────────┼──────────────┼──────────────┼────────────┼─────────────┤\n",
      "│ [5]stack   │          0 │           0 │            0 │            0 │            0 │            0 │        nan │           1 │\n",
      "├────────────┼────────────┼─────────────┼──────────────┼──────────────┼──────────────┼──────────────┼────────────┼─────────────┤\n",
      "│ [6]pickup  │          1 │           0 │            0 │            0 │            0 │            0 │          0 │         nan │\n",
      "╘════════════╧════════════╧═════════════╧══════════════╧══════════════╧══════════════╧══════════════╧════════════╧═════════════╛\n"
     ]
    },
    {
     "data": {
      "text/markdown": [
       "#### Obj A"
      ],
      "text/plain": [
       "<IPython.core.display.Markdown object>"
      ]
     },
     "metadata": {},
     "output_type": "display_data"
    },
    {
     "name": "stdout",
     "output_type": "stream",
     "text": [
      "╒══════════════╤══════════════╤════════════════╤═══════════════╕\n",
      "│              │   [7]stack.1 │   [2]unstack.2 │   [6]pickup.1 │\n",
      "╞══════════════╪══════════════╪════════════════╪═══════════════╡\n",
      "│ [7]stack.1   │          nan │              0 │             0 │\n",
      "├──────────────┼──────────────┼────────────────┼───────────────┤\n",
      "│ [2]unstack.2 │            0 │            nan │             1 │\n",
      "├──────────────┼──────────────┼────────────────┼───────────────┤\n",
      "│ [6]pickup.1  │            1 │              0 │           nan │\n",
      "╘══════════════╧══════════════╧════════════════╧═══════════════╛\n"
     ]
    },
    {
     "data": {
      "text/markdown": [
       "#### Obj B"
      ],
      "text/plain": [
       "<IPython.core.display.Markdown object>"
      ]
     },
     "metadata": {},
     "output_type": "display_data"
    },
    {
     "name": "stdout",
     "output_type": "stream",
     "text": [
      "╒══════════════╤══════════════╤═══════════════╤════════════════╤════════════════╤════════════════╤══════════════╕\n",
      "│              │   [7]stack.2 │   [4]pickup.1 │   [2]unstack.1 │   [0]unstack.2 │   [3]putdown.1 │   [5]stack.1 │\n",
      "╞══════════════╪══════════════╪═══════════════╪════════════════╪════════════════╪════════════════╪══════════════╡\n",
      "│ [7]stack.2   │          nan │             0 │              0 │              0 │              0 │            0 │\n",
      "├──────────────┼──────────────┼───────────────┼────────────────┼────────────────┼────────────────┼──────────────┤\n",
      "│ [4]pickup.1  │            0 │           nan │              0 │              0 │              0 │            1 │\n",
      "├──────────────┼──────────────┼───────────────┼────────────────┼────────────────┼────────────────┼──────────────┤\n",
      "│ [2]unstack.1 │            0 │             0 │            nan │              0 │              1 │            0 │\n",
      "├──────────────┼──────────────┼───────────────┼────────────────┼────────────────┼────────────────┼──────────────┤\n",
      "│ [0]unstack.2 │            0 │             0 │              1 │            nan │              0 │            0 │\n",
      "├──────────────┼──────────────┼───────────────┼────────────────┼────────────────┼────────────────┼──────────────┤\n",
      "│ [3]putdown.1 │            0 │             1 │              0 │              0 │            nan │            0 │\n",
      "├──────────────┼──────────────┼───────────────┼────────────────┼────────────────┼────────────────┼──────────────┤\n",
      "│ [5]stack.1   │            1 │             0 │              0 │              0 │              0 │          nan │\n",
      "╘══════════════╧══════════════╧═══════════════╧════════════════╧════════════════╧════════════════╧══════════════╛\n"
     ]
    },
    {
     "data": {
      "text/markdown": [
       "#### Obj C"
      ],
      "text/plain": [
       "<IPython.core.display.Markdown object>"
      ]
     },
     "metadata": {},
     "output_type": "display_data"
    },
    {
     "name": "stdout",
     "output_type": "stream",
     "text": [
      "╒══════════════╤════════════════╤════════════════╤══════════════╕\n",
      "│              │   [0]unstack.1 │   [1]putdown.1 │   [5]stack.2 │\n",
      "╞══════════════╪════════════════╪════════════════╪══════════════╡\n",
      "│ [0]unstack.1 │            nan │              1 │            0 │\n",
      "├──────────────┼────────────────┼────────────────┼──────────────┤\n",
      "│ [1]putdown.1 │              0 │            nan │            1 │\n",
      "├──────────────┼────────────────┼────────────────┼──────────────┤\n",
      "│ [5]stack.2   │              0 │              0 │          nan │\n",
      "╘══════════════╧════════════════╧════════════════╧══════════════╛\n"
     ]
    },
    {
     "data": {
      "text/markdown": [
       "### Trace 2"
      ],
      "text/plain": [
       "<IPython.core.display.Markdown object>"
      ]
     },
     "metadata": {},
     "output_type": "display_data"
    },
    {
     "data": {
      "text/markdown": [
       "#### Obj zero"
      ],
      "text/plain": [
       "<IPython.core.display.Markdown object>"
      ]
     },
     "metadata": {},
     "output_type": "display_data"
    },
    {
     "name": "stdout",
     "output_type": "stream",
     "text": [
      "╒════════════╤══════════════╤════════════╤══════════════╤═════════════╤════════════╤═════════════╕\n",
      "│            │   [0]unstack │   [5]stack │   [3]putdown │   [4]pickup │   [1]stack │   [2]pickup │\n",
      "╞════════════╪══════════════╪════════════╪══════════════╪═════════════╪════════════╪═════════════╡\n",
      "│ [0]unstack │          nan │          0 │            0 │           0 │          1 │           0 │\n",
      "├────────────┼──────────────┼────────────┼──────────────┼─────────────┼────────────┼─────────────┤\n",
      "│ [5]stack   │            0 │        nan │            0 │           0 │          0 │           0 │\n",
      "├────────────┼──────────────┼────────────┼──────────────┼─────────────┼────────────┼─────────────┤\n",
      "│ [3]putdown │            0 │          0 │          nan │           1 │          0 │           0 │\n",
      "├────────────┼──────────────┼────────────┼──────────────┼─────────────┼────────────┼─────────────┤\n",
      "│ [4]pickup  │            0 │          1 │            0 │         nan │          0 │           0 │\n",
      "├────────────┼──────────────┼────────────┼──────────────┼─────────────┼────────────┼─────────────┤\n",
      "│ [1]stack   │            0 │          0 │            0 │           0 │        nan │           1 │\n",
      "├────────────┼──────────────┼────────────┼──────────────┼─────────────┼────────────┼─────────────┤\n",
      "│ [2]pickup  │            0 │          0 │            1 │           0 │          0 │         nan │\n",
      "╘════════════╧══════════════╧════════════╧══════════════╧═════════════╧════════════╧═════════════╛\n"
     ]
    },
    {
     "data": {
      "text/markdown": [
       "#### Obj C"
      ],
      "text/plain": [
       "<IPython.core.display.Markdown object>"
      ]
     },
     "metadata": {},
     "output_type": "display_data"
    },
    {
     "name": "stdout",
     "output_type": "stream",
     "text": [
      "╒══════════════╤════════════════╤══════════════╤══════════════╕\n",
      "│              │   [0]unstack.1 │   [5]stack.2 │   [1]stack.1 │\n",
      "╞══════════════╪════════════════╪══════════════╪══════════════╡\n",
      "│ [0]unstack.1 │            nan │            0 │            1 │\n",
      "├──────────────┼────────────────┼──────────────┼──────────────┤\n",
      "│ [5]stack.2   │              0 │          nan │            0 │\n",
      "├──────────────┼────────────────┼──────────────┼──────────────┤\n",
      "│ [1]stack.1   │              0 │            1 │          nan │\n",
      "╘══════════════╧════════════════╧══════════════╧══════════════╛\n"
     ]
    },
    {
     "data": {
      "text/markdown": [
       "#### Obj B"
      ],
      "text/plain": [
       "<IPython.core.display.Markdown object>"
      ]
     },
     "metadata": {},
     "output_type": "display_data"
    },
    {
     "name": "stdout",
     "output_type": "stream",
     "text": [
      "╒══════════════╤════════════════╤══════════════╤════════════════╤═══════════════╤═══════════════╕\n",
      "│              │   [0]unstack.2 │   [5]stack.1 │   [3]putdown.1 │   [4]pickup.1 │   [2]pickup.1 │\n",
      "╞══════════════╪════════════════╪══════════════╪════════════════╪═══════════════╪═══════════════╡\n",
      "│ [0]unstack.2 │            nan │            0 │              0 │             0 │             1 │\n",
      "├──────────────┼────────────────┼──────────────┼────────────────┼───────────────┼───────────────┤\n",
      "│ [5]stack.1   │              0 │          nan │              0 │             0 │             0 │\n",
      "├──────────────┼────────────────┼──────────────┼────────────────┼───────────────┼───────────────┤\n",
      "│ [3]putdown.1 │              0 │            0 │            nan │             1 │             0 │\n",
      "├──────────────┼────────────────┼──────────────┼────────────────┼───────────────┼───────────────┤\n",
      "│ [4]pickup.1  │              0 │            1 │              0 │           nan │             0 │\n",
      "├──────────────┼────────────────┼──────────────┼────────────────┼───────────────┼───────────────┤\n",
      "│ [2]pickup.1  │              0 │            0 │              1 │             0 │           nan │\n",
      "╘══════════════╧════════════════╧══════════════╧════════════════╧═══════════════╧═══════════════╛\n"
     ]
    },
    {
     "data": {
      "text/markdown": [
       "#### Obj A"
      ],
      "text/plain": [
       "<IPython.core.display.Markdown object>"
      ]
     },
     "metadata": {},
     "output_type": "display_data"
    },
    {
     "name": "stdout",
     "output_type": "stream",
     "text": [
      "╒════════════╤══════════════╕\n",
      "│            │   [1]stack.2 │\n",
      "╞════════════╪══════════════╡\n",
      "│ [1]stack.2 │          nan │\n",
      "╘════════════╧══════════════╛\n"
     ]
    },
    {
     "data": {
      "text/markdown": [
       "## Solution AP matrix"
      ],
      "text/plain": [
       "<IPython.core.display.Markdown object>"
      ]
     },
     "metadata": {},
     "output_type": "display_data"
    },
    {
     "data": {
      "text/markdown": [
       "### Sort 0"
      ],
      "text/plain": [
       "<IPython.core.display.Markdown object>"
      ]
     },
     "metadata": {},
     "output_type": "display_data"
    },
    {
     "name": "stdout",
     "output_type": "stream",
     "text": [
      "╒═══════════╤═══════════╤════════════╤═════════════╤═════════════╕\n",
      "│           │   stack.0 │   pickup.0 │   unstack.0 │   putdown.0 │\n",
      "╞═══════════╪═══════════╪════════════╪═════════════╪═════════════╡\n",
      "│ stack.0   │         0 │          1 │           1 │         nan │\n",
      "├───────────┼───────────┼────────────┼─────────────┼─────────────┤\n",
      "│ pickup.0  │         1 │          0 │           0 │           1 │\n",
      "├───────────┼───────────┼────────────┼─────────────┼─────────────┤\n",
      "│ unstack.0 │         1 │          0 │           0 │           1 │\n",
      "├───────────┼───────────┼────────────┼─────────────┼─────────────┤\n",
      "│ putdown.0 │         0 │          1 │           1 │         nan │\n",
      "╘═══════════╧═══════════╧════════════╧═════════════╧═════════════╛\n"
     ]
    },
    {
     "data": {
      "text/markdown": [
       "### Sort 1"
      ],
      "text/plain": [
       "<IPython.core.display.Markdown object>"
      ]
     },
     "metadata": {},
     "output_type": "display_data"
    },
    {
     "name": "stdout",
     "output_type": "stream",
     "text": [
      "╒═══════════╤═══════════╤═════════════╤═════════════╤═════════════╤═══════════╤════════════╕\n",
      "│           │   stack.1 │   unstack.1 │   unstack.2 │   putdown.1 │   stack.2 │   pickup.1 │\n",
      "╞═══════════╪═══════════╪═════════════╪═════════════╪═════════════╪═══════════╪════════════╡\n",
      "│ stack.1   │         0 │           1 │           0 │         nan │         1 │          0 │\n",
      "├───────────┼───────────┼─────────────┼─────────────┼─────────────┼───────────┼────────────┤\n",
      "│ unstack.1 │         1 │         nan │           0 │           1 │         0 │          0 │\n",
      "├───────────┼───────────┼─────────────┼─────────────┼─────────────┼───────────┼────────────┤\n",
      "│ unstack.2 │         0 │           1 │         nan │           0 │         1 │          1 │\n",
      "├───────────┼───────────┼─────────────┼─────────────┼─────────────┼───────────┼────────────┤\n",
      "│ putdown.1 │         0 │           0 │           0 │         nan │         1 │          1 │\n",
      "├───────────┼───────────┼─────────────┼─────────────┼─────────────┼───────────┼────────────┤\n",
      "│ stack.2   │         0 │           0 │           1 │         nan │         0 │        nan │\n",
      "├───────────┼───────────┼─────────────┼─────────────┼─────────────┼───────────┼────────────┤\n",
      "│ pickup.1  │         1 │           0 │           0 │           1 │       nan │          0 │\n",
      "╘═══════════╧═══════════╧═════════════╧═════════════╧═════════════╧═══════════╧════════════╛\n",
      "Sort.0 AML:\n"
     ]
    },
    {
     "data": {
      "text/html": [
       "<table>\n",
       "<thead>\n",
       "<tr><th>         </th><th style=\"text-align: right;\">  unstack.0</th><th style=\"text-align: right;\">  putdown.0</th><th style=\"text-align: right;\">  pickup.0</th><th style=\"text-align: right;\">  stack.0</th></tr>\n",
       "</thead>\n",
       "<tbody>\n",
       "<tr><td>unstack.0</td><td style=\"text-align: right;\">          0</td><td style=\"text-align: right;\">          3</td><td style=\"text-align: right;\">         0</td><td style=\"text-align: right;\">        2</td></tr>\n",
       "<tr><td>putdown.0</td><td style=\"text-align: right;\">          1</td><td style=\"text-align: right;\">          0</td><td style=\"text-align: right;\">         3</td><td style=\"text-align: right;\">        0</td></tr>\n",
       "<tr><td>pickup.0 </td><td style=\"text-align: right;\">          0</td><td style=\"text-align: right;\">          1</td><td style=\"text-align: right;\">         0</td><td style=\"text-align: right;\">        5</td></tr>\n",
       "<tr><td>stack.0  </td><td style=\"text-align: right;\">          1</td><td style=\"text-align: right;\">          0</td><td style=\"text-align: right;\">         3</td><td style=\"text-align: right;\">        0</td></tr>\n",
       "</tbody>\n",
       "</table>"
      ],
      "text/plain": [
       "'<table>\\n<thead>\\n<tr><th>         </th><th style=\"text-align: right;\">  unstack.0</th><th style=\"text-align: right;\">  putdown.0</th><th style=\"text-align: right;\">  pickup.0</th><th style=\"text-align: right;\">  stack.0</th></tr>\\n</thead>\\n<tbody>\\n<tr><td>unstack.0</td><td style=\"text-align: right;\">          0</td><td style=\"text-align: right;\">          3</td><td style=\"text-align: right;\">         0</td><td style=\"text-align: right;\">        2</td></tr>\\n<tr><td>putdown.0</td><td style=\"text-align: right;\">          1</td><td style=\"text-align: right;\">          0</td><td style=\"text-align: right;\">         3</td><td style=\"text-align: right;\">        0</td></tr>\\n<tr><td>pickup.0 </td><td style=\"text-align: right;\">          0</td><td style=\"text-align: right;\">          1</td><td style=\"text-align: right;\">         0</td><td style=\"text-align: right;\">        5</td></tr>\\n<tr><td>stack.0  </td><td style=\"text-align: right;\">          1</td><td style=\"text-align: right;\">          0</td><td style=\"text-align: right;\">         3</td><td style=\"text-align: right;\">        0</td></tr>\\n</tbody>\\n</table>'"
      ]
     },
     "metadata": {},
     "output_type": "display_data"
    },
    {
     "name": "stdout",
     "output_type": "stream",
     "text": [
      "Sort.1 AML:\n"
     ]
    },
    {
     "data": {
      "text/html": [
       "<table>\n",
       "<thead>\n",
       "<tr><th>         </th><th style=\"text-align: right;\">  unstack.2</th><th style=\"text-align: right;\">  pickup.1</th><th style=\"text-align: right;\">  stack.1</th><th style=\"text-align: right;\">  unstack.1</th><th style=\"text-align: right;\">  stack.2</th><th style=\"text-align: right;\">  putdown.1</th></tr>\n",
       "</thead>\n",
       "<tbody>\n",
       "<tr><td>unstack.2</td><td style=\"text-align: right;\">          0</td><td style=\"text-align: right;\">         3</td><td style=\"text-align: right;\">        0</td><td style=\"text-align: right;\">          1</td><td style=\"text-align: right;\">        1</td><td style=\"text-align: right;\">          0</td></tr>\n",
       "<tr><td>pickup.1 </td><td style=\"text-align: right;\">          0</td><td style=\"text-align: right;\">         0</td><td style=\"text-align: right;\">        5</td><td style=\"text-align: right;\">          0</td><td style=\"text-align: right;\">        0</td><td style=\"text-align: right;\">          1</td></tr>\n",
       "<tr><td>stack.1  </td><td style=\"text-align: right;\">          0</td><td style=\"text-align: right;\">         0</td><td style=\"text-align: right;\">        0</td><td style=\"text-align: right;\">          1</td><td style=\"text-align: right;\">        3</td><td style=\"text-align: right;\">          0</td></tr>\n",
       "<tr><td>unstack.1</td><td style=\"text-align: right;\">          0</td><td style=\"text-align: right;\">         0</td><td style=\"text-align: right;\">        2</td><td style=\"text-align: right;\">          0</td><td style=\"text-align: right;\">        0</td><td style=\"text-align: right;\">          3</td></tr>\n",
       "<tr><td>stack.2  </td><td style=\"text-align: right;\">          1</td><td style=\"text-align: right;\">         0</td><td style=\"text-align: right;\">        0</td><td style=\"text-align: right;\">          0</td><td style=\"text-align: right;\">        0</td><td style=\"text-align: right;\">          0</td></tr>\n",
       "<tr><td>putdown.1</td><td style=\"text-align: right;\">          0</td><td style=\"text-align: right;\">         3</td><td style=\"text-align: right;\">        0</td><td style=\"text-align: right;\">          0</td><td style=\"text-align: right;\">        1</td><td style=\"text-align: right;\">          0</td></tr>\n",
       "</tbody>\n",
       "</table>"
      ],
      "text/plain": [
       "'<table>\\n<thead>\\n<tr><th>         </th><th style=\"text-align: right;\">  unstack.2</th><th style=\"text-align: right;\">  pickup.1</th><th style=\"text-align: right;\">  stack.1</th><th style=\"text-align: right;\">  unstack.1</th><th style=\"text-align: right;\">  stack.2</th><th style=\"text-align: right;\">  putdown.1</th></tr>\\n</thead>\\n<tbody>\\n<tr><td>unstack.2</td><td style=\"text-align: right;\">          0</td><td style=\"text-align: right;\">         3</td><td style=\"text-align: right;\">        0</td><td style=\"text-align: right;\">          1</td><td style=\"text-align: right;\">        1</td><td style=\"text-align: right;\">          0</td></tr>\\n<tr><td>pickup.1 </td><td style=\"text-align: right;\">          0</td><td style=\"text-align: right;\">         0</td><td style=\"text-align: right;\">        5</td><td style=\"text-align: right;\">          0</td><td style=\"text-align: right;\">        0</td><td style=\"text-align: right;\">          1</td></tr>\\n<tr><td>stack.1  </td><td style=\"text-align: right;\">          0</td><td style=\"text-align: right;\">         0</td><td style=\"text-align: right;\">        0</td><td style=\"text-align: right;\">          1</td><td style=\"text-align: right;\">        3</td><td style=\"text-align: right;\">          0</td></tr>\\n<tr><td>unstack.1</td><td style=\"text-align: right;\">          0</td><td style=\"text-align: right;\">         0</td><td style=\"text-align: right;\">        2</td><td style=\"text-align: right;\">          0</td><td style=\"text-align: right;\">        0</td><td style=\"text-align: right;\">          3</td></tr>\\n<tr><td>stack.2  </td><td style=\"text-align: right;\">          1</td><td style=\"text-align: right;\">         0</td><td style=\"text-align: right;\">        0</td><td style=\"text-align: right;\">          0</td><td style=\"text-align: right;\">        0</td><td style=\"text-align: right;\">          0</td></tr>\\n<tr><td>putdown.1</td><td style=\"text-align: right;\">          0</td><td style=\"text-align: right;\">         3</td><td style=\"text-align: right;\">        0</td><td style=\"text-align: right;\">          0</td><td style=\"text-align: right;\">        1</td><td style=\"text-align: right;\">          0</td></tr>\\n</tbody>\\n</table>'"
      ]
     },
     "metadata": {},
     "output_type": "display_data"
    },
    {
     "name": "stderr",
     "output_type": "stream",
     "text": [
      "/home/uto/anu/codes/xLOCM/src/extract/polocm.py:1148: FutureWarning: Setting an item of incompatible dtype is deprecated and will raise an error in a future version of pandas. Value 'hole' has dtype incompatible with int64, please explicitly cast to a compatible dtype first.\n",
      "  df1.iloc[idx2,col] = 'hole'\n",
      "/home/uto/anu/codes/xLOCM/src/extract/polocm.py:1148: FutureWarning: Setting an item of incompatible dtype is deprecated and will raise an error in a future version of pandas. Value 'hole' has dtype incompatible with int64, please explicitly cast to a compatible dtype first.\n",
      "  df1.iloc[idx2,col] = 'hole'\n"
     ]
    },
    {
     "data": {
      "text/markdown": [
       "### Sort.0"
      ],
      "text/plain": [
       "<IPython.core.display.Markdown object>"
      ]
     },
     "metadata": {},
     "output_type": "display_data"
    },
    {
     "name": "stdout",
     "output_type": "stream",
     "text": [
      "no holes\n",
      "[]\n",
      "\n",
      "Removed redundancy transition set list\n",
      "[]\n"
     ]
    },
    {
     "data": {
      "text/markdown": [
       "#### Final transition set list"
      ],
      "text/plain": [
       "<IPython.core.display.Markdown object>"
      ]
     },
     "metadata": {},
     "output_type": "display_data"
    },
    {
     "name": "stdout",
     "output_type": "stream",
     "text": [
      "[{stack.0, unstack.0, pickup.0, putdown.0}]\n"
     ]
    },
    {
     "data": {
      "text/markdown": [
       "### Sort.1"
      ],
      "text/plain": [
       "<IPython.core.display.Markdown object>"
      ]
     },
     "metadata": {},
     "output_type": "display_data"
    },
    {
     "name": "stdout",
     "output_type": "stream",
     "text": [
      "2 holes\n"
     ]
    },
    {
     "data": {
      "text/markdown": [
       "#### Hole 1: {putdown.1, unstack.1}"
      ],
      "text/plain": [
       "<IPython.core.display.Markdown object>"
      ]
     },
     "metadata": {},
     "output_type": "display_data"
    },
    {
     "data": {
      "text/markdown": [
       "Checking candidate set *{putdown.1, stack.1, unstack.1}* of **Sort.2** for well formedness and Validity"
      ],
      "text/plain": [
       "<IPython.core.display.Markdown object>"
      ]
     },
     "metadata": {},
     "output_type": "display_data"
    },
    {
     "data": {
      "text/html": [
       "<table>\n",
       "<thead>\n",
       "<tr><th>         </th><th style=\"text-align: right;\">  putdown.1</th><th style=\"text-align: right;\">  stack.1</th><th style=\"text-align: right;\">  unstack.1</th></tr>\n",
       "</thead>\n",
       "<tbody>\n",
       "<tr><td>putdown.1</td><td style=\"text-align: right;\">          0</td><td style=\"text-align: right;\">        0</td><td style=\"text-align: right;\">          0</td></tr>\n",
       "<tr><td>stack.1  </td><td style=\"text-align: right;\">          0</td><td style=\"text-align: right;\">        0</td><td style=\"text-align: right;\">          1</td></tr>\n",
       "<tr><td>unstack.1</td><td style=\"text-align: right;\">          3</td><td style=\"text-align: right;\">        2</td><td style=\"text-align: right;\">          0</td></tr>\n",
       "</tbody>\n",
       "</table>"
      ],
      "text/plain": [
       "'<table>\\n<thead>\\n<tr><th>         </th><th style=\"text-align: right;\">  putdown.1</th><th style=\"text-align: right;\">  stack.1</th><th style=\"text-align: right;\">  unstack.1</th></tr>\\n</thead>\\n<tbody>\\n<tr><td>putdown.1</td><td style=\"text-align: right;\">          0</td><td style=\"text-align: right;\">        0</td><td style=\"text-align: right;\">          0</td></tr>\\n<tr><td>stack.1  </td><td style=\"text-align: right;\">          0</td><td style=\"text-align: right;\">        0</td><td style=\"text-align: right;\">          1</td></tr>\\n<tr><td>unstack.1</td><td style=\"text-align: right;\">          3</td><td style=\"text-align: right;\">        2</td><td style=\"text-align: right;\">          0</td></tr>\\n</tbody>\\n</table>'"
      ]
     },
     "metadata": {},
     "output_type": "display_data"
    },
    {
     "name": "stdout",
     "output_type": "stream",
     "text": [
      "0 1\n",
      "0 2\n",
      "1 2\n",
      "This subset is well-formed.\n",
      "This subset is valid.\n",
      "Adding this subset {putdown.1, stack.1, unstack.1} to the locm2 transition set.\n",
      "Hole that is covered now:\n",
      "[putdown.1, unstack.1]\n"
     ]
    },
    {
     "data": {
      "text/markdown": [
       "#### Hole 2: {stack.1, pickup.1}"
      ],
      "text/plain": [
       "<IPython.core.display.Markdown object>"
      ]
     },
     "metadata": {},
     "output_type": "display_data"
    },
    {
     "data": {
      "text/markdown": [
       "Checking candidate set *{stack.2, stack.1, pickup.1}* of **Sort.2** for well formedness and Validity"
      ],
      "text/plain": [
       "<IPython.core.display.Markdown object>"
      ]
     },
     "metadata": {},
     "output_type": "display_data"
    },
    {
     "data": {
      "text/html": [
       "<table>\n",
       "<thead>\n",
       "<tr><th>        </th><th style=\"text-align: right;\">  stack.2</th><th style=\"text-align: right;\">  stack.1</th><th style=\"text-align: right;\">  pickup.1</th></tr>\n",
       "</thead>\n",
       "<tbody>\n",
       "<tr><td>stack.2 </td><td style=\"text-align: right;\">        0</td><td style=\"text-align: right;\">        0</td><td style=\"text-align: right;\">         0</td></tr>\n",
       "<tr><td>stack.1 </td><td style=\"text-align: right;\">        3</td><td style=\"text-align: right;\">        0</td><td style=\"text-align: right;\">         0</td></tr>\n",
       "<tr><td>pickup.1</td><td style=\"text-align: right;\">        0</td><td style=\"text-align: right;\">        5</td><td style=\"text-align: right;\">         0</td></tr>\n",
       "</tbody>\n",
       "</table>"
      ],
      "text/plain": [
       "'<table>\\n<thead>\\n<tr><th>        </th><th style=\"text-align: right;\">  stack.2</th><th style=\"text-align: right;\">  stack.1</th><th style=\"text-align: right;\">  pickup.1</th></tr>\\n</thead>\\n<tbody>\\n<tr><td>stack.2 </td><td style=\"text-align: right;\">        0</td><td style=\"text-align: right;\">        0</td><td style=\"text-align: right;\">         0</td></tr>\\n<tr><td>stack.1 </td><td style=\"text-align: right;\">        3</td><td style=\"text-align: right;\">        0</td><td style=\"text-align: right;\">         0</td></tr>\\n<tr><td>pickup.1</td><td style=\"text-align: right;\">        0</td><td style=\"text-align: right;\">        5</td><td style=\"text-align: right;\">         0</td></tr>\\n</tbody>\\n</table>'"
      ]
     },
     "metadata": {},
     "output_type": "display_data"
    },
    {
     "name": "stdout",
     "output_type": "stream",
     "text": [
      "0 1\n",
      "0 2\n",
      "1 2\n",
      "This subset is well-formed.\n",
      "This subset is valid.\n",
      "Adding this subset {stack.2, stack.1, pickup.1} to the locm2 transition set.\n",
      "Hole that is covered now:\n",
      "[stack.1, pickup.1]\n",
      "[{putdown.1, stack.1, unstack.1}, {stack.2, stack.1, pickup.1}]\n",
      "\n",
      "Removed redundancy transition set list\n",
      "[{putdown.1, stack.1, unstack.1}, {stack.2, stack.1, pickup.1}]\n"
     ]
    },
    {
     "data": {
      "text/markdown": [
       "#### Final transition set list"
      ],
      "text/plain": [
       "<IPython.core.display.Markdown object>"
      ]
     },
     "metadata": {},
     "output_type": "display_data"
    },
    {
     "name": "stdout",
     "output_type": "stream",
     "text": [
      "[{putdown.1, stack.1, unstack.1}, {stack.2, stack.1, pickup.1}, {stack.1, unstack.1, unstack.2, putdown.1, stack.2, pickup.1}]\n",
      "TS_overall: \n",
      " [{F0S0: {zero zero: [unstack.0, putdown.0, pickup.0, stack.0, unstack.0, stack.0, pickup.0, stack.0]}, F0S1: {unknown B: [stack.1, unstack.1, stack.1], unknown C: [], unknown A: [unstack.1, putdown.1, stack.1]}, F1S1: {unknown B: [pickup.1, stack.1, stack.1, stack.2], unknown C: [stack.2, stack.2], unknown A: [pickup.1, stack.1]}, F2S1: {unknown B: [unstack.2, pickup.1, stack.1, unstack.1, stack.1, stack.2], unknown C: [stack.2, unstack.2, stack.2], unknown A: [unstack.1, putdown.1, pickup.1, stack.1]}}, {F0S0: {zero zero: [unstack.0, putdown.0, unstack.0, putdown.0, pickup.0, stack.0, pickup.0, stack.0]}, F0S1: {unknown A: [stack.1], unknown B: [unstack.1, putdown.1, stack.1], unknown C: [unstack.1, putdown.1]}, F1S1: {unknown A: [pickup.1, stack.1], unknown B: [pickup.1, stack.1, stack.2], unknown C: [stack.2]}, F2S1: {unknown A: [unstack.2, pickup.1, stack.1], unknown B: [unstack.2, unstack.1, putdown.1, pickup.1, stack.1, stack.2], unknown C: [unstack.1, putdown.1, stack.2]}}, {F0S0: {zero zero: [unstack.0, stack.0, pickup.0, putdown.0, pickup.0, stack.0]}, F0S1: {unknown C: [unstack.1, stack.1], unknown B: [putdown.1, stack.1], unknown A: []}, F1S1: {unknown C: [stack.1, stack.2], unknown B: [pickup.1, pickup.1, stack.1], unknown A: [stack.2]}, F2S1: {unknown C: [unstack.1, stack.1, stack.2], unknown B: [unstack.2, pickup.1, putdown.1, pickup.1, stack.1], unknown A: [stack.2]}}]\n",
      "ap_state_pointers: \n",
      " defaultdict(<class 'dict'>, {F0S0: {stack.0: (1 -> 2), unstack.0: (3 -> 4), pickup.0: (5 -> 6), putdown.0: (7 -> 8)}, F0S1: {putdown.1: (1 -> 2), stack.1: (3 -> 4), unstack.1: (5 -> 6)}, F1S1: {stack.2: (1 -> 2), stack.1: (3 -> 4), pickup.1: (5 -> 6)}, F2S1: {stack.1: (1 -> 2), unstack.1: (3 -> 4), unstack.2: (5 -> 6), putdown.1: (7 -> 8), stack.2: (9 -> 10), pickup.1: (11 -> 12)}})\n",
      "Initialize OS: \n",
      " defaultdict(<class 'list'>, {F0S0: [{1}, {2}, {3}, {4}, {5}, {6}, {7}, {8}], F0S1: [{1}, {2}, {3}, {4}, {5}, {6}], F1S1: [{1}, {2}, {3}, {4}, {5}, {6}], F2S1: [{1}, {2}, {3}, {4}, {5}, {6}, {7}, {8}, {9}, {10}, {11}, {12}]})\n",
      "Final OS: \n",
      " defaultdict(<class 'list'>, {F0S0: [{8, 2, 3, 5}, {1, 4, 6, 7}], F0S1: [{2}, {1, 3, 6}, {4, 5}], F1S1: [{1, 4}, {2}, {3, 6}, {5}], F2S1: [{10, 5}, {1, 4, 12, 7}, {2, 3, 6, 8, 9, 11}]})\n",
      "{F0S0: [{8, 2, 3, 5}, {1, 4, 6, 7}], F0S1: [{2}, {1, 3, 6}, {4, 5}], F1S1: [{1, 4}, {2}, {3, 6}, {5}], F2S1: [{10, 5}, {1, 4, 12, 7}, {2, 3, 6, 8, 9, 11}]}\n",
      "bindings:\n",
      "{F0S1: {2: [Binding(hypothesis=<\n",
      "  S=2\n",
      "  B={'action': stack unknown B unknown C, 'pos': 1, 'sort': 1}\n",
      "  k=1\n",
      "  k_=2\n",
      "  C={'action': unstack unknown B unknown C, 'pos': 1, 'sort': 1}\n",
      "  l=1\n",
      "  l_=2\n",
      "  G=1\n",
      "  G_=1\n",
      "  fsm={'sort': 1, 'index': 0}\n",
      ">, param=0)]},\n",
      " F2S1: {0: [Binding(hypothesis=<\n",
      "  S=0\n",
      "  B={'action': stack unknown B unknown C, 'pos': 2, 'sort': 1}\n",
      "  k=2\n",
      "  k_=1\n",
      "  C={'action': unstack unknown B unknown C, 'pos': 2, 'sort': 1}\n",
      "  l=2\n",
      "  l_=1\n",
      "  G=1\n",
      "  G_=1\n",
      "  fsm={'sort': 1, 'index': 2}\n",
      ">, param=0)]}}\n",
      "\n",
      "fluents:\n",
      "{(F0S1state0 sort1),\n",
      " (F0S1state2 sort1 sort1),\n",
      " (F1S1state2 sort1),\n",
      " (F2S1state2 sort1),\n",
      " (F1S1state1 sort1),\n",
      " (F2S1state1 sort1),\n",
      " (F2S1state0 sort1 sort1),\n",
      " (F1S1state3 sort1),\n",
      " (F0S1state1 sort1),\n",
      " (F1S1state0 sort1),\n",
      " (F0S0state0 sort0),\n",
      " (F0S0state1 sort0)}\n",
      "\n",
      "actions:\n",
      "{(pickup sort0 sort1),\n",
      " (putdown sort0 sort1),\n",
      " (stack sort0 sort1 sort1),\n",
      " (unstack sort0 sort1 sort1)}\n",
      "\n"
     ]
    }
   ],
   "source": [
    "debug = {\n",
    "    'pstep6': True,\n",
    "    '2step0': True,\n",
    "    'step7':True\n",
    "}\n",
    "model,AP, _ = POLOCM(obs_tracelist, debug=debug)"
   ]
  },
  {
   "cell_type": "code",
   "execution_count": 77,
   "metadata": {},
   "outputs": [
    {
     "name": "stdout",
     "output_type": "stream",
     "text": [
      "unstack\n",
      "{(F2S1state0 sort1 sort1), (F0S1state2 sort1 sort1), (F2S1state2 sort1), (F0S0state0 sort0)}\n",
      "[x0 (sort0), x1 (sort1), x2 (sort1)]\n",
      "(F2S1state0 sort1 sort1)\n",
      "[2, 1]\n",
      "(F0S1state2 sort1 sort1)\n",
      "[1, 2]\n",
      "(F2S1state2 sort1)\n",
      "[1]\n",
      "(F0S0state0 sort0)\n",
      "[0]\n",
      "pickup\n",
      "{(F1S1state3 sort1), (F2S1state2 sort1), (F0S0state0 sort0)}\n",
      "[x0 (sort0), x1 (sort1)]\n",
      "(F1S1state3 sort1)\n",
      "[1]\n",
      "(F2S1state2 sort1)\n",
      "[1]\n",
      "(F0S0state0 sort0)\n",
      "[0]\n",
      "putdown\n",
      "{(F0S1state1 sort1), (F0S0state1 sort0), (F2S1state1 sort1)}\n",
      "[x0 (sort0), x1 (sort1)]\n",
      "(F0S1state1 sort1)\n",
      "[1]\n",
      "(F0S0state1 sort0)\n",
      "[0]\n",
      "(F2S1state1 sort1)\n",
      "[1]\n",
      "stack\n",
      "{(F0S1state1 sort1), (F2S1state2 sort1), (F1S1state2 sort1), (F0S0state1 sort0), (F2S1state1 sort1), (F1S1state0 sort1)}\n",
      "[x0 (sort0), x1 (sort1), x2 (sort1)]\n",
      "(F0S1state1 sort1)\n",
      "[1]\n",
      "(F2S1state2 sort1)\n",
      "[2]\n",
      "(F1S1state2 sort1)\n",
      "[1]\n",
      "(F0S0state1 sort0)\n",
      "[0]\n",
      "(F2S1state1 sort1)\n",
      "[1]\n",
      "(F1S1state0 sort1)\n",
      "[2]\n"
     ]
    }
   ],
   "source": [
    "model.to_pddl('polocm')"
   ]
  },
  {
   "cell_type": "code",
   "execution_count": null,
   "metadata": {},
   "outputs": [],
   "source": []
  }
 ],
 "metadata": {
  "kernelspec": {
   "display_name": "base",
   "language": "python",
   "name": "python3"
  },
  "language_info": {
   "codemirror_mode": {
    "name": "ipython",
    "version": 3
   },
   "file_extension": ".py",
   "mimetype": "text/x-python",
   "name": "python",
   "nbconvert_exporter": "python",
   "pygments_lexer": "ipython3",
   "version": "3.12.2"
  }
 },
 "nbformat": 4,
 "nbformat_minor": 2
}
