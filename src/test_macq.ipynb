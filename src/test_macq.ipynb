{
 "cells": [
  {
   "cell_type": "code",
   "execution_count": 1,
   "metadata": {},
   "outputs": [],
   "source": [
    "%load_ext autoreload\n",
    "%autoreload 2"
   ]
  },
  {
   "cell_type": "code",
   "execution_count": 2,
   "metadata": {},
   "outputs": [],
   "source": [
    "from extract.locm2 import AP, Hypothesis, LOCM2\n",
    "from traces import *\n",
    "from observation import ActionObservation\n",
    "from extract.model import *"
   ]
  },
  {
   "cell_type": "code",
   "execution_count": 3,
   "metadata": {},
   "outputs": [],
   "source": [
    "def get_example_obs_bw_2traces(print_trace=False):\n",
    "    objects = {\n",
    "        \"A\": PlanningObject(\"unknown\", \"A\"),\n",
    "        \"B\": PlanningObject(\"unknown\", \"B\"),\n",
    "        \"C\": PlanningObject(\"unknown\", \"C\"),\n",
    "    }\n",
    "\n",
    "    actions = {\n",
    "        \"unstackAB\": Action(\"unstack\", [objects[\"A\"], objects[\"B\"]]),\n",
    "        \"unstackBC\": Action(\"unstack\", [objects[\"B\"], objects[\"C\"]]),\n",
    "        \"unstackCB\": Action(\"unstack\", [objects[\"C\"], objects[\"B\"]]),\n",
    "        \"unstackBA\": Action(\"unstack\", [objects[\"B\"], objects[\"A\"]]),\n",
    "        \"unstackAC\": Action(\"unstack\", [objects[\"A\"], objects[\"C\"]]),\n",
    "        \"unstackCA\": Action(\"unstack\", [objects[\"C\"], objects[\"A\"]]),\n",
    "        \"stackAB\": Action(\"stack\", [objects[\"A\"], objects[\"B\"]]),\n",
    "        \"stackBA\": Action(\"stack\", [objects[\"B\"], objects[\"A\"]]),\n",
    "        \"stackAC\": Action(\"stack\", [objects[\"A\"], objects[\"C\"]]),\n",
    "        \"stackCA\": Action(\"stack\", [objects[\"C\"], objects[\"A\"]]),\n",
    "        \"stackBC\": Action(\"stack\", [objects[\"B\"], objects[\"C\"]]),\n",
    "        \"stackCB\": Action(\"stack\", [objects[\"C\"], objects[\"B\"]]),\n",
    "        \"putdownA\": Action(\"putdown\", [objects[\"A\"]]),\n",
    "        \"putdownB\": Action(\"putdown\", [objects[\"B\"]]),\n",
    "        \"putdownC\": Action(\"putdown\", [objects[\"C\"]]),\n",
    "        \"pickupA\": Action(\"pickup\", [objects[\"A\"]]),\n",
    "        \"pickupB\": Action(\"pickup\", [objects[\"B\"]]),\n",
    "        \"pickupC\": Action(\"pickup\", [objects[\"C\"]]),\n",
    "    }\n",
    "\n",
    "    input_action_seqs = '''\n",
    "        unstack(A, B), putdown(A), pickup(B), stack(B,C), unstack(B,C), stack(B,C),pickup(A), stack(A,B)\n",
    "        unstack(C, B), putdown(C), unstack(B,A), putdown(B), pickup(B), stack(B,C), pickup(A), stack(A,B)\n",
    "        unstack(C,B), stack(C,A), pickup(B), putdown(B), pickup(B), stack(B,C)\n",
    "        '''\n",
    "       \n",
    "    traces = TraceList(\n",
    "        [\n",
    "            Trace(\n",
    "                [\n",
    "                    Step(State({}), actions[\"unstackAB\"], 1),\n",
    "                    Step(State({}), actions[\"putdownA\"], 2),\n",
    "                    Step(State({}), actions[\"pickupB\"], 3),\n",
    "                    Step(State({}), actions[\"stackBC\"], 4),\n",
    "                    Step(State({}), actions[\"unstackBC\"], 5),\n",
    "                    Step(State({}), actions[\"stackBC\"], 6),\n",
    "                    Step(State({}), actions[\"pickupA\"], 7),\n",
    "                    Step(State({}), actions[\"stackAB\"], 8),\n",
    "                ]\n",
    "            ),\n",
    "            Trace(\n",
    "                [\n",
    "                    Step(State({}),actions['unstackCB'], 1),\n",
    "                    Step(State({}),actions['putdownC'], 2),\n",
    "                    Step(State({}),actions['unstackBA'], 3),\n",
    "                    Step(State({}),actions['putdownB'], 4),\n",
    "                    Step(State({}),actions['pickupB'], 5),\n",
    "                    Step(State({}),actions['stackBC'], 6),\n",
    "                    Step(State({}),actions['pickupA'], 7),\n",
    "                    Step(State({}),actions['stackAB'], 8),\n",
    "\n",
    "                ]\n",
    "            ),\n",
    "            Trace(\n",
    "                [\n",
    "                    Step(State({}), actions[\"unstackCB\"], 1),\n",
    "                    Step(State({}), actions[\"stackCA\"], 2),\n",
    "                    Step(State({}), actions[\"pickupB\"], 3),\n",
    "                    Step(State({}), actions[\"putdownB\"], 4),\n",
    "                    Step(State({}), actions[\"pickupB\"], 5),\n",
    "                    Step(State({}), actions[\"stackBC\"], 6),\n",
    "                ]\n",
    "            ),\n",
    "            \n",
    "        ]\n",
    "    )\n",
    "    \n",
    "\n",
    "    if print_trace:\n",
    "        # traces.print()\n",
    "        traces.print(\"detail\")\n",
    "\n",
    "    obs = traces.tokenize(ActionObservation)\n",
    "    return obs"
   ]
  },
  {
   "cell_type": "code",
   "execution_count": 4,
   "metadata": {},
   "outputs": [],
   "source": [
    "def get_example_obs(print_trace=False, ex=1):\n",
    "    objects = {\n",
    "        \"c1\": PlanningObject(\"container\", \"c1\"),\n",
    "        \"c2\": PlanningObject(\"container\", \"c2\"),\n",
    "        \"c3\": PlanningObject(\"container\", \"c3\"),\n",
    "        \"j1\": PlanningObject(\"jack\", \"j1\"),\n",
    "        \"j2\": PlanningObject(\"jack\", \"j2\"),\n",
    "        \"wr1\": PlanningObject(\"wrench\", \"wr1\"),\n",
    "        \"wr2\": PlanningObject(\"wrench\", \"wr2\"),\n",
    "    }\n",
    "    fluents = {\n",
    "        \"open1\": Fluent(\"open\", [objects[\"c1\"]]),\n",
    "        \"open2\": Fluent(\"open\", [objects[\"c2\"]]),\n",
    "        \"open3\": Fluent(\"open\", [objects[\"c3\"]]),\n",
    "        \"j1in\": Fluent(\"in\", [objects[\"j1\"], objects[\"c1\"]]),\n",
    "        \"j2in\": Fluent(\"in\", [objects[\"j2\"], objects[\"c2\"]]),\n",
    "        \"wr1in\": Fluent(\"in\", [objects[\"wr1\"], objects[\"c1\"]]),\n",
    "        \"wr2in\": Fluent(\"in\", [objects[\"wr2\"], objects[\"c2\"]]),\n",
    "    }\n",
    "    actions = {\n",
    "        \"open1\": Action(\"open\", [objects[\"c1\"]]),\n",
    "        \"open2\": Action(\"open\", [objects[\"c2\"]]),\n",
    "        \"open3\": Action(\"open\", [objects[\"c3\"]]),\n",
    "        \"close1\": Action(\"close\", [objects[\"c1\"]]),\n",
    "        \"close2\": Action(\"close\", [objects[\"c2\"]]),\n",
    "        \"close3\": Action(\"close\", [objects[\"c3\"]]),\n",
    "        \"fetchj1\": Action(\"fetch_jack\", [objects[\"j1\"], objects[\"c1\"]]),\n",
    "        \"fetchj2\": Action(\"fetch_jack\", [objects[\"j2\"], objects[\"c2\"]]),\n",
    "        \"putj1\": Action(\"putaway_jack\", [objects[\"j1\"], objects[\"c1\"]]),\n",
    "        \"putj2\": Action(\"putaway_jack\", [objects[\"j2\"], objects[\"c2\"]]),\n",
    "        \"fetchwr1\": Action(\"fetch_wrench\", [objects[\"wr1\"], objects[\"c1\"]]),\n",
    "        \"fetchwr2\": Action(\"fetch_wrench\", [objects[\"wr2\"], objects[\"c2\"]]),\n",
    "        \"putwr1\": Action(\"putaway_wrench\", [objects[\"wr1\"], objects[\"c1\"]]),\n",
    "        \"putwr2\": Action(\"putaway_wrench\", [objects[\"wr2\"], objects[\"c2\"]]),\n",
    "        \"closewr\": Action(\"close\", [objects[\"wr1\"]]),\n",
    "    }\n",
    "\n",
    "    if ex == 1:\n",
    "        # open(c1); fetch jack(j1,c1); fetch wrench(wr1,c1); close(c1);\n",
    "        # open(c2); fetch wrench(wr2,c2); fetch jack(j2,c2); close(c2);\n",
    "        # open(c3); close(c3)\n",
    "        states_true = [\n",
    "            [\"open3\", \"j1in\", \"j2in\", \"wr1in\", \"wr2in\"],\n",
    "            [\"open3\", \"open1\", \"j1in\", \"j2in\", \"wr1in\", \"wr2in\"],\n",
    "            [\"open3\", \"open1\", \"j2in\", \"wr1in\", \"wr2in\"],\n",
    "            [\"open3\", \"open1\", \"j2in\", \"wr2in\"],\n",
    "            [\"open3\", \"j2in\", \"wr2in\"],\n",
    "            [\"open3\", \"open2\", \"j2in\", \"wr2in\"],\n",
    "            [\"open3\", \"open2\", \"j2in\"],\n",
    "            [\"open3\", \"open2\"],\n",
    "            [\"open3\"],\n",
    "            [],\n",
    "            [\"open3\"],\n",
    "        ]\n",
    "        states = [\n",
    "            State({fluent: name in state_true for name, fluent in fluents.items()})\n",
    "            for state_true in states_true\n",
    "        ]\n",
    "        traces = TraceList(\n",
    "            [\n",
    "                Trace(\n",
    "                    [\n",
    "                        Step(states[0], actions[\"open1\"], 1),\n",
    "                        Step(states[1], actions[\"fetchj1\"], 2),\n",
    "                        Step(states[2], actions[\"fetchwr1\"], 3),\n",
    "                        Step(states[3], actions[\"close1\"], 4),\n",
    "                        Step(states[4], actions[\"open2\"], 5),\n",
    "                        Step(states[5], actions[\"fetchwr2\"], 6),\n",
    "                        Step(states[6], actions[\"fetchj2\"], 7),\n",
    "                        Step(states[7], actions[\"close2\"], 8),\n",
    "                        Step(states[9], actions[\"close3\"], 9),\n",
    "                        Step(states[8], actions[\"open3\"], 10),\n",
    "                        Step(states[10], None, 11),\n",
    "                        # Step(states[10], actions[\"closewr\"], 11),\n",
    "                        # Step(states[11], None, 12),\n",
    "                    ]\n",
    "                ),\n",
    "            ]\n",
    "        )\n",
    "    else:\n",
    "        # open(c1); putaway jack(j1,c1); close(c1); open(c2); putaway jack(j2,c2);\n",
    "        # open(c1); fetch jack(j1,c1); fetch wrench(wr1,c1);\n",
    "        # fetch jack(j2,c2); close(c1);\n",
    "        states_true = [\n",
    "            [\"wr1in\", \"wr2in\"],\n",
    "            [\"open1\", \"wr1in\", \"wr2in\"],\n",
    "            [\"open1\", \"wr1in\", \"wr2in\", \"j1in\"],\n",
    "            [\"wr1in\", \"wr2in\", \"j1in\"],\n",
    "            [\"open2\", \"wr1in\", \"wr2in\", \"j1in\"],\n",
    "            [\"open2\", \"wr1in\", \"wr2in\", \"j1in\", \"j2in\"],\n",
    "            [\"open1\", \"open2\", \"wr1in\", \"wr2in\", \"j1in\", \"j2in\"],\n",
    "            [\"open1\", \"open2\", \"wr1in\", \"wr2in\", \"j2in\"],\n",
    "            [\"open1\", \"open2\", \"wr2in\", \"j2in\"],\n",
    "            [\"open1\", \"open2\", \"wr2in\"],\n",
    "            [\"open2\", \"wr2in\"],\n",
    "        ]\n",
    "        states = [\n",
    "            State({fluent: name in state_true for name, fluent in fluents.items()})\n",
    "            for state_true in states_true\n",
    "        ]\n",
    "        traces = TraceList(\n",
    "            [\n",
    "                Trace(\n",
    "                    [\n",
    "                        Step(states[0], actions[\"open1\"], 1),\n",
    "                        Step(states[1], actions[\"putj1\"], 2),\n",
    "                        Step(states[2], actions[\"close1\"], 3),\n",
    "                        Step(states[3], actions[\"open2\"], 4),\n",
    "                        Step(states[4], actions[\"putj2\"], 5),\n",
    "                        Step(states[5], actions[\"open1\"], 6),\n",
    "                        Step(states[6], actions[\"fetchj1\"], 7),\n",
    "                        Step(states[7], actions[\"fetchwr1\"], 8),\n",
    "                        Step(states[8], actions[\"fetchj2\"], 9),\n",
    "                        Step(states[9], actions[\"close1\"], 10),\n",
    "                    ]\n",
    "                ),\n",
    "            ]\n",
    "        )\n",
    "\n",
    "    if print_trace:\n",
    "        # traces.print()\n",
    "        traces.print(\"color\")\n",
    "\n",
    "    obs = traces.tokenize(ActionObservation)\n",
    "    return obs"
   ]
  },
  {
   "cell_type": "code",
   "execution_count": 5,
   "metadata": {},
   "outputs": [
    {
     "name": "stderr",
     "output_type": "stream",
     "text": [
      "/home/uto/anu/codes/xLOCM/src/traces/trace_list.py:150: UserWarning: Invalid view detail. Defaulting to \"details\".\n",
      "  warn(f'Invalid view {view}. Defaulting to \"details\".')\n"
     ]
    },
    {
     "data": {
      "text/html": [
       "<pre style=\"white-space:pre;overflow-x:auto;line-height:normal;font-family:Menlo,'DejaVu Sans Mono',consolas,'Courier New',monospace\"><span style=\"font-style: italic\">                                                       Trace                                                       </span>\n",
       "Attributes:                                                                                                        \n",
       "  8 steps                                                                                                          \n",
       "  0 fluents                                                                                                        \n",
       "<span style=\"font-style: italic\">                                                       Steps                                                       </span>\n",
       "<span style=\"font-weight: bold\">                     Step       State        Action                                                                </span>\n",
       "                        1                    unstack unknown A unknown B                                           \n",
       "                        2                    putdown unknown A                                                     \n",
       "                        3                    pickup unknown B                                                      \n",
       "                        4                    stack unknown B unknown C                                             \n",
       "                        5                    unstack unknown B unknown C                                           \n",
       "                        6                    stack unknown B unknown C                                             \n",
       "                        7                    pickup unknown A                                                      \n",
       "                        8                    stack unknown A unknown B                                             \n",
       "</pre>\n"
      ],
      "text/plain": [
       "\u001b[3m                                                       Trace                                                       \u001b[0m\n",
       "Attributes:                                                                                                        \n",
       "  8 steps                                                                                                          \n",
       "  0 fluents                                                                                                        \n",
       "\u001b[3m                                                       Steps                                                       \u001b[0m\n",
       "\u001b[1m                     Step\u001b[0m\u001b[1m \u001b[0m\u001b[1m \u001b[0m\u001b[1m     State      \u001b[0m\u001b[1m \u001b[0m\u001b[1m \u001b[0m\u001b[1mAction                                                                \u001b[0m\n",
       "                        1                    unstack unknown A unknown B                                           \n",
       "                        2                    putdown unknown A                                                     \n",
       "                        3                    pickup unknown B                                                      \n",
       "                        4                    stack unknown B unknown C                                             \n",
       "                        5                    unstack unknown B unknown C                                           \n",
       "                        6                    stack unknown B unknown C                                             \n",
       "                        7                    pickup unknown A                                                      \n",
       "                        8                    stack unknown A unknown B                                             \n"
      ]
     },
     "metadata": {},
     "output_type": "display_data"
    },
    {
     "name": "stdout",
     "output_type": "stream",
     "text": [
      "\n"
     ]
    },
    {
     "data": {
      "text/html": [
       "<pre style=\"white-space:pre;overflow-x:auto;line-height:normal;font-family:Menlo,'DejaVu Sans Mono',consolas,'Courier New',monospace\"><span style=\"font-style: italic\">                                                       Trace                                                       </span>\n",
       "Attributes:                                                                                                        \n",
       "  8 steps                                                                                                          \n",
       "  0 fluents                                                                                                        \n",
       "<span style=\"font-style: italic\">                                                       Steps                                                       </span>\n",
       "<span style=\"font-weight: bold\">                     Step       State        Action                                                                </span>\n",
       "                        1                    unstack unknown C unknown B                                           \n",
       "                        2                    putdown unknown C                                                     \n",
       "                        3                    unstack unknown B unknown A                                           \n",
       "                        4                    putdown unknown B                                                     \n",
       "                        5                    pickup unknown B                                                      \n",
       "                        6                    stack unknown B unknown C                                             \n",
       "                        7                    pickup unknown A                                                      \n",
       "                        8                    stack unknown A unknown B                                             \n",
       "</pre>\n"
      ],
      "text/plain": [
       "\u001b[3m                                                       Trace                                                       \u001b[0m\n",
       "Attributes:                                                                                                        \n",
       "  8 steps                                                                                                          \n",
       "  0 fluents                                                                                                        \n",
       "\u001b[3m                                                       Steps                                                       \u001b[0m\n",
       "\u001b[1m                     Step\u001b[0m\u001b[1m \u001b[0m\u001b[1m \u001b[0m\u001b[1m     State      \u001b[0m\u001b[1m \u001b[0m\u001b[1m \u001b[0m\u001b[1mAction                                                                \u001b[0m\n",
       "                        1                    unstack unknown C unknown B                                           \n",
       "                        2                    putdown unknown C                                                     \n",
       "                        3                    unstack unknown B unknown A                                           \n",
       "                        4                    putdown unknown B                                                     \n",
       "                        5                    pickup unknown B                                                      \n",
       "                        6                    stack unknown B unknown C                                             \n",
       "                        7                    pickup unknown A                                                      \n",
       "                        8                    stack unknown A unknown B                                             \n"
      ]
     },
     "metadata": {},
     "output_type": "display_data"
    },
    {
     "name": "stdout",
     "output_type": "stream",
     "text": [
      "\n"
     ]
    },
    {
     "data": {
      "text/html": [
       "<pre style=\"white-space:pre;overflow-x:auto;line-height:normal;font-family:Menlo,'DejaVu Sans Mono',consolas,'Courier New',monospace\"><span style=\"font-style: italic\">                                                       Trace                                                       </span>\n",
       "Attributes:                                                                                                        \n",
       "  6 steps                                                                                                          \n",
       "  0 fluents                                                                                                        \n",
       "<span style=\"font-style: italic\">                                                       Steps                                                       </span>\n",
       "<span style=\"font-weight: bold\">                     Step       State        Action                                                                </span>\n",
       "                        1                    unstack unknown C unknown B                                           \n",
       "                        2                    stack unknown C unknown A                                             \n",
       "                        3                    pickup unknown B                                                      \n",
       "                        4                    putdown unknown B                                                     \n",
       "                        5                    pickup unknown B                                                      \n",
       "                        6                    stack unknown B unknown C                                             \n",
       "</pre>\n"
      ],
      "text/plain": [
       "\u001b[3m                                                       Trace                                                       \u001b[0m\n",
       "Attributes:                                                                                                        \n",
       "  6 steps                                                                                                          \n",
       "  0 fluents                                                                                                        \n",
       "\u001b[3m                                                       Steps                                                       \u001b[0m\n",
       "\u001b[1m                     Step\u001b[0m\u001b[1m \u001b[0m\u001b[1m \u001b[0m\u001b[1m     State      \u001b[0m\u001b[1m \u001b[0m\u001b[1m \u001b[0m\u001b[1mAction                                                                \u001b[0m\n",
       "                        1                    unstack unknown C unknown B                                           \n",
       "                        2                    stack unknown C unknown A                                             \n",
       "                        3                    pickup unknown B                                                      \n",
       "                        4                    putdown unknown B                                                     \n",
       "                        5                    pickup unknown B                                                      \n",
       "                        6                    stack unknown B unknown C                                             \n"
      ]
     },
     "metadata": {},
     "output_type": "display_data"
    },
    {
     "name": "stdout",
     "output_type": "stream",
     "text": [
      "\n"
     ]
    }
   ],
   "source": [
    "#obs_tracelist = get_example_obs_bw_2traces(True)\n",
    "obs_tracelist = get_example_obs()\n"
   ]
  },
  {
   "cell_type": "code",
   "execution_count": 6,
   "metadata": {},
   "outputs": [],
   "source": [
    "def test_get_sort(obs_tracelist, debug=False):\n",
    "   \n",
    "\n",
    "    sorts = LOCM2._get_sorts(obs_tracelist, debug)\n",
    "\n",
    "    return sorts"
   ]
  },
  {
   "cell_type": "code",
   "execution_count": 7,
   "metadata": {},
   "outputs": [
    {
     "name": "stdout",
     "output_type": "stream",
     "text": [
      "{'A': 1, 'C': 1, 'B': 1}\n"
     ]
    }
   ],
   "source": [
    "sorts = test_get_sort(obs_tracelist, False)\n",
    "print(sorts)"
   ]
  },
  {
   "cell_type": "code",
   "execution_count": 8,
   "metadata": {},
   "outputs": [
    {
     "name": "stdout",
     "output_type": "stream",
     "text": [
      "Sort.0 AML:\n"
     ]
    },
    {
     "data": {
      "text/html": [
       "<table>\n",
       "<thead>\n",
       "<tr><th>         </th><th style=\"text-align: right;\">  unstack.0</th><th style=\"text-align: right;\">  putdown.0</th><th style=\"text-align: right;\">  pickup.0</th><th style=\"text-align: right;\">  stack.0</th></tr>\n",
       "</thead>\n",
       "<tbody>\n",
       "<tr><td>unstack.0</td><td style=\"text-align: right;\">          0</td><td style=\"text-align: right;\">          3</td><td style=\"text-align: right;\">         0</td><td style=\"text-align: right;\">        2</td></tr>\n",
       "<tr><td>putdown.0</td><td style=\"text-align: right;\">          1</td><td style=\"text-align: right;\">          0</td><td style=\"text-align: right;\">         3</td><td style=\"text-align: right;\">        0</td></tr>\n",
       "<tr><td>pickup.0 </td><td style=\"text-align: right;\">          0</td><td style=\"text-align: right;\">          1</td><td style=\"text-align: right;\">         0</td><td style=\"text-align: right;\">        5</td></tr>\n",
       "<tr><td>stack.0  </td><td style=\"text-align: right;\">          1</td><td style=\"text-align: right;\">          0</td><td style=\"text-align: right;\">         3</td><td style=\"text-align: right;\">        0</td></tr>\n",
       "</tbody>\n",
       "</table>"
      ],
      "text/plain": [
       "'<table>\\n<thead>\\n<tr><th>         </th><th style=\"text-align: right;\">  unstack.0</th><th style=\"text-align: right;\">  putdown.0</th><th style=\"text-align: right;\">  pickup.0</th><th style=\"text-align: right;\">  stack.0</th></tr>\\n</thead>\\n<tbody>\\n<tr><td>unstack.0</td><td style=\"text-align: right;\">          0</td><td style=\"text-align: right;\">          3</td><td style=\"text-align: right;\">         0</td><td style=\"text-align: right;\">        2</td></tr>\\n<tr><td>putdown.0</td><td style=\"text-align: right;\">          1</td><td style=\"text-align: right;\">          0</td><td style=\"text-align: right;\">         3</td><td style=\"text-align: right;\">        0</td></tr>\\n<tr><td>pickup.0 </td><td style=\"text-align: right;\">          0</td><td style=\"text-align: right;\">          1</td><td style=\"text-align: right;\">         0</td><td style=\"text-align: right;\">        5</td></tr>\\n<tr><td>stack.0  </td><td style=\"text-align: right;\">          1</td><td style=\"text-align: right;\">          0</td><td style=\"text-align: right;\">         3</td><td style=\"text-align: right;\">        0</td></tr>\\n</tbody>\\n</table>'"
      ]
     },
     "metadata": {},
     "output_type": "display_data"
    },
    {
     "name": "stdout",
     "output_type": "stream",
     "text": [
      "Sort.1 AML:\n"
     ]
    },
    {
     "data": {
      "text/html": [
       "<table>\n",
       "<thead>\n",
       "<tr><th>         </th><th style=\"text-align: right;\">  unstack.1</th><th style=\"text-align: right;\">  unstack.2</th><th style=\"text-align: right;\">  putdown.1</th><th style=\"text-align: right;\">  pickup.1</th><th style=\"text-align: right;\">  stack.1</th><th style=\"text-align: right;\">  stack.2</th></tr>\n",
       "</thead>\n",
       "<tbody>\n",
       "<tr><td>unstack.1</td><td style=\"text-align: right;\">          0</td><td style=\"text-align: right;\">          0</td><td style=\"text-align: right;\">          3</td><td style=\"text-align: right;\">         0</td><td style=\"text-align: right;\">        2</td><td style=\"text-align: right;\">        0</td></tr>\n",
       "<tr><td>unstack.2</td><td style=\"text-align: right;\">          1</td><td style=\"text-align: right;\">          0</td><td style=\"text-align: right;\">          0</td><td style=\"text-align: right;\">         3</td><td style=\"text-align: right;\">        0</td><td style=\"text-align: right;\">        1</td></tr>\n",
       "<tr><td>putdown.1</td><td style=\"text-align: right;\">          0</td><td style=\"text-align: right;\">          0</td><td style=\"text-align: right;\">          0</td><td style=\"text-align: right;\">         3</td><td style=\"text-align: right;\">        0</td><td style=\"text-align: right;\">        1</td></tr>\n",
       "<tr><td>pickup.1 </td><td style=\"text-align: right;\">          0</td><td style=\"text-align: right;\">          0</td><td style=\"text-align: right;\">          1</td><td style=\"text-align: right;\">         0</td><td style=\"text-align: right;\">        5</td><td style=\"text-align: right;\">        0</td></tr>\n",
       "<tr><td>stack.1  </td><td style=\"text-align: right;\">          1</td><td style=\"text-align: right;\">          0</td><td style=\"text-align: right;\">          0</td><td style=\"text-align: right;\">         0</td><td style=\"text-align: right;\">        0</td><td style=\"text-align: right;\">        3</td></tr>\n",
       "<tr><td>stack.2  </td><td style=\"text-align: right;\">          0</td><td style=\"text-align: right;\">          1</td><td style=\"text-align: right;\">          0</td><td style=\"text-align: right;\">         0</td><td style=\"text-align: right;\">        0</td><td style=\"text-align: right;\">        0</td></tr>\n",
       "</tbody>\n",
       "</table>"
      ],
      "text/plain": [
       "'<table>\\n<thead>\\n<tr><th>         </th><th style=\"text-align: right;\">  unstack.1</th><th style=\"text-align: right;\">  unstack.2</th><th style=\"text-align: right;\">  putdown.1</th><th style=\"text-align: right;\">  pickup.1</th><th style=\"text-align: right;\">  stack.1</th><th style=\"text-align: right;\">  stack.2</th></tr>\\n</thead>\\n<tbody>\\n<tr><td>unstack.1</td><td style=\"text-align: right;\">          0</td><td style=\"text-align: right;\">          0</td><td style=\"text-align: right;\">          3</td><td style=\"text-align: right;\">         0</td><td style=\"text-align: right;\">        2</td><td style=\"text-align: right;\">        0</td></tr>\\n<tr><td>unstack.2</td><td style=\"text-align: right;\">          1</td><td style=\"text-align: right;\">          0</td><td style=\"text-align: right;\">          0</td><td style=\"text-align: right;\">         3</td><td style=\"text-align: right;\">        0</td><td style=\"text-align: right;\">        1</td></tr>\\n<tr><td>putdown.1</td><td style=\"text-align: right;\">          0</td><td style=\"text-align: right;\">          0</td><td style=\"text-align: right;\">          0</td><td style=\"text-align: right;\">         3</td><td style=\"text-align: right;\">        0</td><td style=\"text-align: right;\">        1</td></tr>\\n<tr><td>pickup.1 </td><td style=\"text-align: right;\">          0</td><td style=\"text-align: right;\">          0</td><td style=\"text-align: right;\">          1</td><td style=\"text-align: right;\">         0</td><td style=\"text-align: right;\">        5</td><td style=\"text-align: right;\">        0</td></tr>\\n<tr><td>stack.1  </td><td style=\"text-align: right;\">          1</td><td style=\"text-align: right;\">          0</td><td style=\"text-align: right;\">          0</td><td style=\"text-align: right;\">         0</td><td style=\"text-align: right;\">        0</td><td style=\"text-align: right;\">        3</td></tr>\\n<tr><td>stack.2  </td><td style=\"text-align: right;\">          0</td><td style=\"text-align: right;\">          1</td><td style=\"text-align: right;\">          0</td><td style=\"text-align: right;\">         0</td><td style=\"text-align: right;\">        0</td><td style=\"text-align: right;\">        0</td></tr>\\n</tbody>\\n</table>'"
      ]
     },
     "metadata": {},
     "output_type": "display_data"
    }
   ],
   "source": [
    "AML, obj_traces_overall = LOCM2._locm2_step1(obs_tracelist, sorts, True)"
   ]
  },
  {
   "cell_type": "code",
   "execution_count": 9,
   "metadata": {},
   "outputs": [
    {
     "name": "stdout",
     "output_type": "stream",
     "text": [
      "Sort.1 AML with holes:\n"
     ]
    },
    {
     "name": "stderr",
     "output_type": "stream",
     "text": [
      "/home/uto/anu/codes/xLOCM/src/extract/locm2.py:503: FutureWarning: Setting an item of incompatible dtype is deprecated and will raise an error in a future version of pandas. Value 'hole' has dtype incompatible with int64, please explicitly cast to a compatible dtype first.\n",
      "  df1.iloc[idx2,col] = 'hole'\n",
      "/home/uto/anu/codes/xLOCM/src/extract/locm2.py:503: FutureWarning: Setting an item of incompatible dtype is deprecated and will raise an error in a future version of pandas. Value 'hole' has dtype incompatible with int64, please explicitly cast to a compatible dtype first.\n",
      "  df1.iloc[idx2,col] = 'hole'\n"
     ]
    },
    {
     "data": {
      "text/html": [
       "<table>\n",
       "<thead>\n",
       "<tr><th>         </th><th>unstack.1  </th><th style=\"text-align: right;\">  unstack.2</th><th style=\"text-align: right;\">  putdown.1</th><th>pickup.1  </th><th style=\"text-align: right;\">  stack.1</th><th style=\"text-align: right;\">  stack.2</th></tr>\n",
       "</thead>\n",
       "<tbody>\n",
       "<tr><td>unstack.1</td><td>0          </td><td style=\"text-align: right;\">          0</td><td style=\"text-align: right;\">          3</td><td>0         </td><td style=\"text-align: right;\">        2</td><td style=\"text-align: right;\">        0</td></tr>\n",
       "<tr><td>unstack.2</td><td>1          </td><td style=\"text-align: right;\">          0</td><td style=\"text-align: right;\">          0</td><td>3         </td><td style=\"text-align: right;\">        0</td><td style=\"text-align: right;\">        1</td></tr>\n",
       "<tr><td>putdown.1</td><td>hole       </td><td style=\"text-align: right;\">          0</td><td style=\"text-align: right;\">          0</td><td>3         </td><td style=\"text-align: right;\">        0</td><td style=\"text-align: right;\">        1</td></tr>\n",
       "<tr><td>pickup.1 </td><td>0          </td><td style=\"text-align: right;\">          0</td><td style=\"text-align: right;\">          1</td><td>0         </td><td style=\"text-align: right;\">        5</td><td style=\"text-align: right;\">        0</td></tr>\n",
       "<tr><td>stack.1  </td><td>1          </td><td style=\"text-align: right;\">          0</td><td style=\"text-align: right;\">          0</td><td>hole      </td><td style=\"text-align: right;\">        0</td><td style=\"text-align: right;\">        3</td></tr>\n",
       "<tr><td>stack.2  </td><td>0          </td><td style=\"text-align: right;\">          1</td><td style=\"text-align: right;\">          0</td><td>0         </td><td style=\"text-align: right;\">        0</td><td style=\"text-align: right;\">        0</td></tr>\n",
       "</tbody>\n",
       "</table>"
      ],
      "text/plain": [
       "'<table>\\n<thead>\\n<tr><th>         </th><th>unstack.1  </th><th style=\"text-align: right;\">  unstack.2</th><th style=\"text-align: right;\">  putdown.1</th><th>pickup.1  </th><th style=\"text-align: right;\">  stack.1</th><th style=\"text-align: right;\">  stack.2</th></tr>\\n</thead>\\n<tbody>\\n<tr><td>unstack.1</td><td>0          </td><td style=\"text-align: right;\">          0</td><td style=\"text-align: right;\">          3</td><td>0         </td><td style=\"text-align: right;\">        2</td><td style=\"text-align: right;\">        0</td></tr>\\n<tr><td>unstack.2</td><td>1          </td><td style=\"text-align: right;\">          0</td><td style=\"text-align: right;\">          0</td><td>3         </td><td style=\"text-align: right;\">        0</td><td style=\"text-align: right;\">        1</td></tr>\\n<tr><td>putdown.1</td><td>hole       </td><td style=\"text-align: right;\">          0</td><td style=\"text-align: right;\">          0</td><td>3         </td><td style=\"text-align: right;\">        0</td><td style=\"text-align: right;\">        1</td></tr>\\n<tr><td>pickup.1 </td><td>0          </td><td style=\"text-align: right;\">          0</td><td style=\"text-align: right;\">          1</td><td>0         </td><td style=\"text-align: right;\">        5</td><td style=\"text-align: right;\">        0</td></tr>\\n<tr><td>stack.1  </td><td>1          </td><td style=\"text-align: right;\">          0</td><td style=\"text-align: right;\">          0</td><td>hole      </td><td style=\"text-align: right;\">        0</td><td style=\"text-align: right;\">        3</td></tr>\\n<tr><td>stack.2  </td><td>0          </td><td style=\"text-align: right;\">          1</td><td style=\"text-align: right;\">          0</td><td>0         </td><td style=\"text-align: right;\">        0</td><td style=\"text-align: right;\">        0</td></tr>\\n</tbody>\\n</table>'"
      ]
     },
     "metadata": {},
     "output_type": "display_data"
    }
   ],
   "source": [
    "AML_with_holes = LOCM2._locm2_step2(AML, True)"
   ]
  },
  {
   "cell_type": "code",
   "execution_count": 10,
   "metadata": {},
   "outputs": [
    {
     "name": "stdout",
     "output_type": "stream",
     "text": [
      "#holes in Sort.1: 2\n"
     ]
    }
   ],
   "source": [
    "H_per_sort = LOCM2._locm2_step3(AML_with_holes, True)"
   ]
  },
  {
   "cell_type": "code",
   "execution_count": 11,
   "metadata": {},
   "outputs": [],
   "source": [
    "transitions_per_sort = LOCM2._locm2_step4(AML_with_holes)\n",
    "consecutive_transitions_per_sort = LOCM2._locm2_step5(AML_with_holes)"
   ]
  },
  {
   "cell_type": "code",
   "execution_count": 12,
   "metadata": {},
   "outputs": [
    {
     "data": {
      "text/markdown": [
       "### Sort.1"
      ],
      "text/plain": [
       "<IPython.core.display.Markdown object>"
      ]
     },
     "metadata": {},
     "output_type": "display_data"
    },
    {
     "name": "stdout",
     "output_type": "stream",
     "text": [
      "no holes\n",
      "[]\n",
      "\n",
      "Removed redundancy transition set list\n",
      "[]\n"
     ]
    },
    {
     "data": {
      "text/markdown": [
       "#### Final transition set list"
      ],
      "text/plain": [
       "<IPython.core.display.Markdown object>"
      ]
     },
     "metadata": {},
     "output_type": "display_data"
    },
    {
     "name": "stdout",
     "output_type": "stream",
     "text": [
      "[{stack.0, pickup.0, putdown.0, unstack.0}]\n"
     ]
    },
    {
     "data": {
      "text/markdown": [
       "### Sort.2"
      ],
      "text/plain": [
       "<IPython.core.display.Markdown object>"
      ]
     },
     "metadata": {},
     "output_type": "display_data"
    },
    {
     "name": "stdout",
     "output_type": "stream",
     "text": [
      "2 holes\n"
     ]
    },
    {
     "data": {
      "text/markdown": [
       "#### Hole 1: {putdown.1, unstack.1}"
      ],
      "text/plain": [
       "<IPython.core.display.Markdown object>"
      ]
     },
     "metadata": {},
     "output_type": "display_data"
    },
    {
     "data": {
      "text/markdown": [
       "Checking candidate set *{putdown.1, unstack.1, pickup.1}* of **Sort.2** for well formedness and Validity"
      ],
      "text/plain": [
       "<IPython.core.display.Markdown object>"
      ]
     },
     "metadata": {},
     "output_type": "display_data"
    },
    {
     "data": {
      "text/html": [
       "<table>\n",
       "<thead>\n",
       "<tr><th>         </th><th style=\"text-align: right;\">  putdown.1</th><th style=\"text-align: right;\">  unstack.1</th><th style=\"text-align: right;\">  pickup.1</th></tr>\n",
       "</thead>\n",
       "<tbody>\n",
       "<tr><td>putdown.1</td><td style=\"text-align: right;\">          0</td><td style=\"text-align: right;\">          0</td><td style=\"text-align: right;\">         3</td></tr>\n",
       "<tr><td>unstack.1</td><td style=\"text-align: right;\">          3</td><td style=\"text-align: right;\">          0</td><td style=\"text-align: right;\">         0</td></tr>\n",
       "<tr><td>pickup.1 </td><td style=\"text-align: right;\">          1</td><td style=\"text-align: right;\">          0</td><td style=\"text-align: right;\">         0</td></tr>\n",
       "</tbody>\n",
       "</table>"
      ],
      "text/plain": [
       "'<table>\\n<thead>\\n<tr><th>         </th><th style=\"text-align: right;\">  putdown.1</th><th style=\"text-align: right;\">  unstack.1</th><th style=\"text-align: right;\">  pickup.1</th></tr>\\n</thead>\\n<tbody>\\n<tr><td>putdown.1</td><td style=\"text-align: right;\">          0</td><td style=\"text-align: right;\">          0</td><td style=\"text-align: right;\">         3</td></tr>\\n<tr><td>unstack.1</td><td style=\"text-align: right;\">          3</td><td style=\"text-align: right;\">          0</td><td style=\"text-align: right;\">         0</td></tr>\\n<tr><td>pickup.1 </td><td style=\"text-align: right;\">          1</td><td style=\"text-align: right;\">          0</td><td style=\"text-align: right;\">         0</td></tr>\\n</tbody>\\n</table>'"
      ]
     },
     "metadata": {},
     "output_type": "display_data"
    },
    {
     "name": "stdout",
     "output_type": "stream",
     "text": [
      "0 1\n",
      "0 2\n",
      "1 2\n",
      "This subset is well-formed.\n",
      "This subset is valid.\n",
      "Adding this subset {putdown.1, unstack.1, pickup.1} to the locm2 transition set.\n",
      "Hole that is covered now:\n",
      "[putdown.1, unstack.1]\n"
     ]
    },
    {
     "data": {
      "text/markdown": [
       "#### Hole 2: {pickup.1, stack.1}"
      ],
      "text/plain": [
       "<IPython.core.display.Markdown object>"
      ]
     },
     "metadata": {},
     "output_type": "display_data"
    },
    {
     "data": {
      "text/markdown": [
       "Checking candidate set *{stack.2, pickup.1, stack.1}* of **Sort.2** for well formedness and Validity"
      ],
      "text/plain": [
       "<IPython.core.display.Markdown object>"
      ]
     },
     "metadata": {},
     "output_type": "display_data"
    },
    {
     "data": {
      "text/html": [
       "<table>\n",
       "<thead>\n",
       "<tr><th>        </th><th style=\"text-align: right;\">  stack.2</th><th style=\"text-align: right;\">  pickup.1</th><th style=\"text-align: right;\">  stack.1</th></tr>\n",
       "</thead>\n",
       "<tbody>\n",
       "<tr><td>stack.2 </td><td style=\"text-align: right;\">        0</td><td style=\"text-align: right;\">         0</td><td style=\"text-align: right;\">        0</td></tr>\n",
       "<tr><td>pickup.1</td><td style=\"text-align: right;\">        0</td><td style=\"text-align: right;\">         0</td><td style=\"text-align: right;\">        5</td></tr>\n",
       "<tr><td>stack.1 </td><td style=\"text-align: right;\">        3</td><td style=\"text-align: right;\">         0</td><td style=\"text-align: right;\">        0</td></tr>\n",
       "</tbody>\n",
       "</table>"
      ],
      "text/plain": [
       "'<table>\\n<thead>\\n<tr><th>        </th><th style=\"text-align: right;\">  stack.2</th><th style=\"text-align: right;\">  pickup.1</th><th style=\"text-align: right;\">  stack.1</th></tr>\\n</thead>\\n<tbody>\\n<tr><td>stack.2 </td><td style=\"text-align: right;\">        0</td><td style=\"text-align: right;\">         0</td><td style=\"text-align: right;\">        0</td></tr>\\n<tr><td>pickup.1</td><td style=\"text-align: right;\">        0</td><td style=\"text-align: right;\">         0</td><td style=\"text-align: right;\">        5</td></tr>\\n<tr><td>stack.1 </td><td style=\"text-align: right;\">        3</td><td style=\"text-align: right;\">         0</td><td style=\"text-align: right;\">        0</td></tr>\\n</tbody>\\n</table>'"
      ]
     },
     "metadata": {},
     "output_type": "display_data"
    },
    {
     "name": "stdout",
     "output_type": "stream",
     "text": [
      "0 1\n",
      "0 2\n",
      "1 2\n",
      "This subset is well-formed.\n",
      "This subset is valid.\n",
      "Adding this subset {stack.2, pickup.1, stack.1} to the locm2 transition set.\n",
      "Hole that is covered now:\n",
      "[pickup.1, stack.1]\n",
      "[{putdown.1, unstack.1, pickup.1}, {stack.2, pickup.1, stack.1}]\n",
      "\n",
      "Removed redundancy transition set list\n",
      "[{putdown.1, unstack.1, pickup.1}, {stack.2, pickup.1, stack.1}]\n"
     ]
    },
    {
     "data": {
      "text/markdown": [
       "#### Final transition set list"
      ],
      "text/plain": [
       "<IPython.core.display.Markdown object>"
      ]
     },
     "metadata": {},
     "output_type": "display_data"
    },
    {
     "name": "stdout",
     "output_type": "stream",
     "text": [
      "[{putdown.1, unstack.1, pickup.1}, {stack.2, pickup.1, stack.1}, {pickup.1, unstack.2, stack.2, stack.1, putdown.1, unstack.1}]\n"
     ]
    }
   ],
   "source": [
    "S = LOCM2._locm2_step6(AML, H_per_sort, transitions_per_sort, consecutive_transitions_per_sort)"
   ]
  },
  {
   "cell_type": "code",
   "execution_count": 13,
   "metadata": {},
   "outputs": [
    {
     "name": "stdout",
     "output_type": "stream",
     "text": [
      "TS_overall: \n",
      " [{FSM.0 @ Sort.0: {zero zero: [unstack.0, putdown.0, pickup.0, stack.0, unstack.0, stack.0, pickup.0, stack.0]}, FSM.0 @ Sort.1: {unknown A: [unstack.1, putdown.1, pickup.1], unknown B: [pickup.1, unstack.1], unknown C: []}, FSM.1 @ Sort.1: {unknown A: [pickup.1, stack.1], unknown B: [pickup.1, stack.1, stack.1, stack.2], unknown C: [stack.2, stack.2]}, FSM.2 @ Sort.1: {unknown A: [unstack.1, putdown.1, pickup.1, stack.1], unknown B: [unstack.2, pickup.1, stack.1, unstack.1, stack.1, stack.2], unknown C: [stack.2, unstack.2, stack.2]}}, {FSM.0 @ Sort.0: {zero zero: [unstack.0, putdown.0, unstack.0, putdown.0, pickup.0, stack.0, pickup.0, stack.0]}, FSM.0 @ Sort.1: {unknown C: [unstack.1, putdown.1], unknown B: [unstack.1, putdown.1, pickup.1], unknown A: [pickup.1]}, FSM.1 @ Sort.1: {unknown C: [stack.2], unknown B: [pickup.1, stack.1, stack.2], unknown A: [pickup.1, stack.1]}, FSM.2 @ Sort.1: {unknown C: [unstack.1, putdown.1, stack.2], unknown B: [unstack.2, unstack.1, putdown.1, pickup.1, stack.1, stack.2], unknown A: [unstack.2, pickup.1, stack.1]}}, {FSM.0 @ Sort.0: {zero zero: [unstack.0, stack.0, pickup.0, putdown.0, pickup.0, stack.0]}, FSM.0 @ Sort.1: {unknown C: [unstack.1], unknown B: [pickup.1, putdown.1, pickup.1], unknown A: []}, FSM.1 @ Sort.1: {unknown C: [stack.1, stack.2], unknown B: [pickup.1, pickup.1, stack.1], unknown A: [stack.2]}, FSM.2 @ Sort.1: {unknown C: [unstack.1, stack.1, stack.2], unknown B: [unstack.2, pickup.1, putdown.1, pickup.1, stack.1], unknown A: [stack.2]}}]\n",
      "ap_state_pointers: \n",
      " defaultdict(<class 'dict'>, {FSM.0 @ Sort.0: {stack.0: (1 -> 2), pickup.0: (3 -> 4), putdown.0: (5 -> 6), unstack.0: (7 -> 8)}, FSM.0 @ Sort.1: {putdown.1: (1 -> 2), unstack.1: (3 -> 4), pickup.1: (5 -> 6)}, FSM.1 @ Sort.1: {stack.2: (1 -> 2), pickup.1: (3 -> 4), stack.1: (5 -> 6)}, FSM.2 @ Sort.1: {pickup.1: (1 -> 2), unstack.2: (3 -> 4), stack.2: (5 -> 6), stack.1: (7 -> 8), putdown.1: (9 -> 10), unstack.1: (11 -> 12)}})\n",
      "Initialize OS: \n",
      " defaultdict(<class 'list'>, {FSM.0 @ Sort.0: [{1}, {2}, {3}, {4}, {5}, {6}, {7}, {8}], FSM.0 @ Sort.1: [{1}, {2}, {3}, {4}, {5}, {6}], FSM.1 @ Sort.1: [{1}, {2}, {3}, {4}, {5}, {6}], FSM.2 @ Sort.1: [{1}, {2}, {3}, {4}, {5}, {6}, {7}, {8}, {9}, {10}, {11}, {12}]})\n",
      "Final OS: \n",
      " defaultdict(<class 'list'>, {FSM.0 @ Sort.0: [{8, 1, 4, 5}, {2, 3, 6, 7}], FSM.0 @ Sort.1: [{1, 4, 6}, {3}, {2, 5}], FSM.1 @ Sort.1: [{1, 6}, {2}, {3}, {4, 5}], FSM.2 @ Sort.1: [{3, 6}, {9, 2, 12, 7}, {1, 4, 5, 8, 10, 11}]})\n"
     ]
    }
   ],
   "source": [
    "TS_overall, ap_state_pointers, OS = LOCM2._step1(obj_traces_overall, sorts, S, AML, True)"
   ]
  },
  {
   "cell_type": "code",
   "execution_count": 14,
   "metadata": {},
   "outputs": [
    {
     "name": "stdout",
     "output_type": "stream",
     "text": [
      "Adding Hypo:\n",
      "<\n",
      "  S=0\n",
      "  B={'action': stack unknown B unknown C, 'pos': 1, 'sort': 1}\n",
      "  k=1\n",
      "  k_=2\n",
      "  C={'action': stack unknown A unknown B, 'pos': 2, 'sort': 1}\n",
      "  l=2\n",
      "  l_=1\n",
      "  G=1\n",
      "  G_=1\n",
      "  fsm={'sort': 1, 'index': 1}\n",
      ">\n",
      "Adding Hypo:\n",
      "<\n",
      "  S=2\n",
      "  B={'action': stack unknown B unknown C, 'pos': 1, 'sort': 1}\n",
      "  k=1\n",
      "  k_=2\n",
      "  C={'action': unstack unknown B unknown C, 'pos': 1, 'sort': 1}\n",
      "  l=1\n",
      "  l_=2\n",
      "  G=1\n",
      "  G_=1\n",
      "  fsm={'sort': 1, 'index': 2}\n",
      ">\n",
      "Adding Hypo:\n",
      "<\n",
      "  S=1\n",
      "  B={'action': unstack unknown B unknown C, 'pos': 1, 'sort': 1}\n",
      "  k=1\n",
      "  k_=2\n",
      "  C={'action': stack unknown B unknown C, 'pos': 1, 'sort': 1}\n",
      "  l=1\n",
      "  l_=2\n",
      "  G=1\n",
      "  G_=1\n",
      "  fsm={'sort': 1, 'index': 2}\n",
      ">\n",
      "Adding Hypo:\n",
      "<\n",
      "  S=2\n",
      "  B={'action': stack unknown B unknown C, 'pos': 1, 'sort': 1}\n",
      "  k=1\n",
      "  k_=2\n",
      "  C={'action': stack unknown A unknown B, 'pos': 2, 'sort': 1}\n",
      "  l=2\n",
      "  l_=1\n",
      "  G=1\n",
      "  G_=1\n",
      "  fsm={'sort': 1, 'index': 2}\n",
      ">\n",
      "Adding Hypo:\n",
      "<\n",
      "  S=0\n",
      "  B={'action': stack unknown B unknown C, 'pos': 2, 'sort': 1}\n",
      "  k=2\n",
      "  k_=1\n",
      "  C={'action': unstack unknown B unknown C, 'pos': 2, 'sort': 1}\n",
      "  l=2\n",
      "  l_=1\n",
      "  G=1\n",
      "  G_=1\n",
      "  fsm={'sort': 1, 'index': 2}\n",
      ">\n",
      "Adding Hypo:\n",
      "<\n",
      "  S=2\n",
      "  B={'action': unstack unknown B unknown C, 'pos': 2, 'sort': 1}\n",
      "  k=2\n",
      "  k_=1\n",
      "  C={'action': stack unknown B unknown C, 'pos': 2, 'sort': 1}\n",
      "  l=2\n",
      "  l_=1\n",
      "  G=1\n",
      "  G_=1\n",
      "  fsm={'sort': 1, 'index': 2}\n",
      ">\n",
      "Adding Hypo:\n",
      "<\n",
      "  S=0\n",
      "  B={'action': stack unknown B unknown C, 'pos': 1, 'sort': 1}\n",
      "  k=1\n",
      "  k_=2\n",
      "  C={'action': stack unknown A unknown B, 'pos': 2, 'sort': 1}\n",
      "  l=2\n",
      "  l_=1\n",
      "  G=1\n",
      "  G_=1\n",
      "  fsm={'sort': 1, 'index': 1}\n",
      ">\n",
      "Adding Hypo:\n",
      "<\n",
      "  S=2\n",
      "  B={'action': unstack unknown C unknown B, 'pos': 2, 'sort': 1}\n",
      "  k=2\n",
      "  k_=1\n",
      "  C={'action': unstack unknown B unknown A, 'pos': 1, 'sort': 1}\n",
      "  l=1\n",
      "  l_=2\n",
      "  G=1\n",
      "  G_=1\n",
      "  fsm={'sort': 1, 'index': 2}\n",
      ">\n",
      "Adding Hypo:\n",
      "<\n",
      "  S=2\n",
      "  B={'action': stack unknown B unknown C, 'pos': 1, 'sort': 1}\n",
      "  k=1\n",
      "  k_=2\n",
      "  C={'action': stack unknown A unknown B, 'pos': 2, 'sort': 1}\n",
      "  l=2\n",
      "  l_=1\n",
      "  G=1\n",
      "  G_=1\n",
      "  fsm={'sort': 1, 'index': 2}\n",
      ">\n",
      "Adding Hypo:\n",
      "<\n",
      "  S=0\n",
      "  B={'action': stack unknown C unknown A, 'pos': 1, 'sort': 1}\n",
      "  k=1\n",
      "  k_=2\n",
      "  C={'action': stack unknown B unknown C, 'pos': 2, 'sort': 1}\n",
      "  l=2\n",
      "  l_=1\n",
      "  G=1\n",
      "  G_=1\n",
      "  fsm={'sort': 1, 'index': 1}\n",
      ">\n",
      "Adding Hypo:\n",
      "<\n",
      "  S=1\n",
      "  B={'action': unstack unknown C unknown B, 'pos': 1, 'sort': 1}\n",
      "  k=1\n",
      "  k_=2\n",
      "  C={'action': stack unknown C unknown A, 'pos': 1, 'sort': 1}\n",
      "  l=1\n",
      "  l_=2\n",
      "  G=1\n",
      "  G_=1\n",
      "  fsm={'sort': 1, 'index': 2}\n",
      ">\n",
      "Adding Hypo:\n",
      "<\n",
      "  S=2\n",
      "  B={'action': stack unknown C unknown A, 'pos': 1, 'sort': 1}\n",
      "  k=1\n",
      "  k_=2\n",
      "  C={'action': stack unknown B unknown C, 'pos': 2, 'sort': 1}\n",
      "  l=2\n",
      "  l_=1\n",
      "  G=1\n",
      "  G_=1\n",
      "  fsm={'sort': 1, 'index': 2}\n",
      ">\n",
      "Learned HS:\n",
      "FSM.2 @ Sort.1\n",
      "{<\n",
      "  S=2\n",
      "  B={'action': stack unknown B unknown C, 'pos': 1, 'sort': 1}\n",
      "  k=1\n",
      "  k_=2\n",
      "  C={'action': unstack unknown B unknown C, 'pos': 1, 'sort': 1}\n",
      "  l=1\n",
      "  l_=2\n",
      "  G=1\n",
      "  G_=1\n",
      "  fsm={'sort': 1, 'index': 2}\n",
      ">,\n",
      " <\n",
      "  S=2\n",
      "  B={'action': unstack unknown B unknown C, 'pos': 2, 'sort': 1}\n",
      "  k=2\n",
      "  k_=1\n",
      "  C={'action': stack unknown B unknown C, 'pos': 2, 'sort': 1}\n",
      "  l=2\n",
      "  l_=1\n",
      "  G=1\n",
      "  G_=1\n",
      "  fsm={'sort': 1, 'index': 2}\n",
      ">}\n",
      "{<\n",
      "  S=0\n",
      "  B={'action': stack unknown B unknown C, 'pos': 2, 'sort': 1}\n",
      "  k=2\n",
      "  k_=1\n",
      "  C={'action': unstack unknown B unknown C, 'pos': 2, 'sort': 1}\n",
      "  l=2\n",
      "  l_=1\n",
      "  G=1\n",
      "  G_=1\n",
      "  fsm={'sort': 1, 'index': 2}\n",
      ">}\n"
     ]
    }
   ],
   "source": [
    "HS = LOCM2._step3(TS_overall, ap_state_pointers, OS, sorts, AML, True)"
   ]
  },
  {
   "cell_type": "code",
   "execution_count": 15,
   "metadata": {},
   "outputs": [
    {
     "name": "stdout",
     "output_type": "stream",
     "text": [
      "defaultdict(<class 'dict'>,\n",
      "            {FSM.2 @ Sort.1: {0: [Binding(hypothesis=<\n",
      "  S=0\n",
      "  B={'action': stack unknown B unknown C, 'pos': 2, 'sort': 1}\n",
      "  k=2\n",
      "  k_=1\n",
      "  C={'action': unstack unknown B unknown C, 'pos': 2, 'sort': 1}\n",
      "  l=2\n",
      "  l_=1\n",
      "  G=1\n",
      "  G_=1\n",
      "  fsm={'sort': 1, 'index': 2}\n",
      ">, param=0)],\n",
      "                              2: [Binding(hypothesis=<\n",
      "  S=2\n",
      "  B={'action': unstack unknown B unknown C, 'pos': 2, 'sort': 1}\n",
      "  k=2\n",
      "  k_=1\n",
      "  C={'action': stack unknown B unknown C, 'pos': 2, 'sort': 1}\n",
      "  l=2\n",
      "  l_=1\n",
      "  G=1\n",
      "  G_=1\n",
      "  fsm={'sort': 1, 'index': 2}\n",
      ">, param=0),\n",
      "                                  Binding(hypothesis=<\n",
      "  S=2\n",
      "  B={'action': stack unknown B unknown C, 'pos': 1, 'sort': 1}\n",
      "  k=1\n",
      "  k_=2\n",
      "  C={'action': unstack unknown B unknown C, 'pos': 1, 'sort': 1}\n",
      "  l=1\n",
      "  l_=2\n",
      "  G=1\n",
      "  G_=1\n",
      "  fsm={'sort': 1, 'index': 2}\n",
      ">, param=1)]}})\n"
     ]
    }
   ],
   "source": [
    "Bindings = LOCM2._step4(HS, debug=True)"
   ]
  },
  {
   "cell_type": "code",
   "execution_count": 16,
   "metadata": {},
   "outputs": [],
   "source": [
    "Bindings = LOCM2._step5(HS, Bindings, True)"
   ]
  },
  {
   "cell_type": "code",
   "execution_count": 17,
   "metadata": {},
   "outputs": [
    {
     "name": "stdout",
     "output_type": "stream",
     "text": [
      "bindings:\n",
      "{FSM.2 @ Sort.1: {0: [Binding(hypothesis=<\n",
      "  S=0\n",
      "  B={'action': stack unknown B unknown C, 'pos': 2, 'sort': 1}\n",
      "  k=2\n",
      "  k_=1\n",
      "  C={'action': unstack unknown B unknown C, 'pos': 2, 'sort': 1}\n",
      "  l=2\n",
      "  l_=1\n",
      "  G=1\n",
      "  G_=1\n",
      "  fsm={'sort': 1, 'index': 2}\n",
      ">, param=0)]}}\n",
      "\n",
      "fluents:\n",
      "{(fsmFSM.0 @ Sort.1_state2 sort1),\n",
      " (fsmFSM.0 @ Sort.1_state1 sort1),\n",
      " (fsmFSM.1 @ Sort.1_state2 sort1),\n",
      " (fsmFSM.1 @ Sort.1_state0 sort1),\n",
      " (fsmFSM.0 @ Sort.0_state1 sort0),\n",
      " (fsmFSM.0 @ Sort.0_state0 sort0),\n",
      " (fsmFSM.0 @ Sort.1_state0 sort1),\n",
      " (fsmFSM.1 @ Sort.1_state1 sort1),\n",
      " (fsmFSM.2 @ Sort.1_state0 sort1 sort1),\n",
      " (fsmFSM.1 @ Sort.1_state3 sort1),\n",
      " (fsmFSM.2 @ Sort.1_state2 sort1),\n",
      " (fsmFSM.2 @ Sort.1_state1 sort1)}\n",
      "\n",
      "actions:\n",
      "{(unstack sort0 sort1 sort1),\n",
      " (putdown sort0 sort1),\n",
      " (stack sort0 sort1 sort1),\n",
      " (pickup sort0 sort1)}\n",
      "\n"
     ]
    }
   ],
   "source": [
    "fluents, actions = LOCM2._step7(OS, ap_state_pointers, sorts,Bindings,{}, debug=True)"
   ]
  },
  {
   "cell_type": "code",
   "execution_count": 18,
   "metadata": {},
   "outputs": [],
   "source": [
    "state_machines = LOCM2.get_state_machines(ap_state_pointers, OS, Bindings)\n",
    "for sm in state_machines:\n",
    "    sm.render(view=True)"
   ]
  },
  {
   "cell_type": "code",
   "execution_count": 19,
   "metadata": {},
   "outputs": [],
   "source": [
    "model = Model(fluents, actions)"
   ]
  },
  {
   "cell_type": "code",
   "execution_count": 20,
   "metadata": {},
   "outputs": [
    {
     "name": "stdout",
     "output_type": "stream",
     "text": [
      "putdown\n",
      "{(fsmFSM.2 @ Sort.1_state1 sort1), (fsmFSM.0 @ Sort.1_state0 sort1), (fsmFSM.0 @ Sort.0_state0 sort0)}\n",
      "[x0 (sort0), x1 (sort1)]\n",
      "(fsmFSM.2 @ Sort.1_state1 sort1)\n",
      "[1]\n",
      "(fsmFSM.0 @ Sort.1_state0 sort1)\n",
      "[1]\n",
      "(fsmFSM.0 @ Sort.0_state0 sort0)\n",
      "[0]\n",
      "stack\n",
      "{(fsmFSM.2 @ Sort.1_state2 sort1), (fsmFSM.1 @ Sort.1_state3 sort1), (fsmFSM.2 @ Sort.1_state1 sort1), (fsmFSM.0 @ Sort.0_state0 sort0), (fsmFSM.1 @ Sort.1_state0 sort1)}\n",
      "[x0 (sort0), x1 (sort1), x2 (sort1)]\n",
      "(fsmFSM.2 @ Sort.1_state2 sort1)\n",
      "[2]\n",
      "(fsmFSM.1 @ Sort.1_state3 sort1)\n",
      "[1]\n",
      "(fsmFSM.2 @ Sort.1_state1 sort1)\n",
      "[1]\n",
      "(fsmFSM.0 @ Sort.0_state0 sort0)\n",
      "[0]\n",
      "(fsmFSM.1 @ Sort.1_state0 sort1)\n",
      "[2]\n",
      "pickup\n",
      "{(fsmFSM.0 @ Sort.1_state2 sort1), (fsmFSM.0 @ Sort.0_state1 sort0), (fsmFSM.2 @ Sort.1_state2 sort1), (fsmFSM.1 @ Sort.1_state2 sort1)}\n",
      "[x0 (sort0), x1 (sort1)]\n",
      "(fsmFSM.0 @ Sort.1_state2 sort1)\n",
      "[1]\n",
      "(fsmFSM.0 @ Sort.0_state1 sort0)\n",
      "[0]\n",
      "(fsmFSM.2 @ Sort.1_state2 sort1)\n",
      "[1]\n",
      "(fsmFSM.1 @ Sort.1_state2 sort1)\n",
      "[1]\n",
      "unstack\n",
      "{(fsmFSM.0 @ Sort.1_state1 sort1), (fsmFSM.0 @ Sort.0_state1 sort0), (fsmFSM.2 @ Sort.1_state0 sort1 sort1), (fsmFSM.2 @ Sort.1_state2 sort1)}\n",
      "[x0 (sort0), x1 (sort1), x2 (sort1)]\n",
      "(fsmFSM.0 @ Sort.1_state1 sort1)\n",
      "[1]\n",
      "(fsmFSM.0 @ Sort.0_state1 sort0)\n",
      "[0]\n",
      "(fsmFSM.2 @ Sort.1_state0 sort1 sort1)\n",
      "[2, 1]\n",
      "(fsmFSM.2 @ Sort.1_state2 sort1)\n",
      "[1]\n"
     ]
    }
   ],
   "source": [
    "model.to_pddl('locm')"
   ]
  },
  {
   "cell_type": "code",
   "execution_count": null,
   "metadata": {},
   "outputs": [],
   "source": []
  }
 ],
 "metadata": {
  "kernelspec": {
   "display_name": "base",
   "language": "python",
   "name": "python3"
  },
  "language_info": {
   "codemirror_mode": {
    "name": "ipython",
    "version": 3
   },
   "file_extension": ".py",
   "mimetype": "text/x-python",
   "name": "python",
   "nbconvert_exporter": "python",
   "pygments_lexer": "ipython3",
   "version": "3.12.2"
  }
 },
 "nbformat": 4,
 "nbformat_minor": 2
}
