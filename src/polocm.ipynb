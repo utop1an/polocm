{
 "cells": [
  {
   "cell_type": "code",
   "execution_count": 1,
   "metadata": {},
   "outputs": [],
   "source": [
    "%load_ext autoreload\n",
    "%autoreload 2"
   ]
  },
  {
   "cell_type": "code",
   "execution_count": 2,
   "metadata": {},
   "outputs": [],
   "source": [
    "from extract.polocm import AP, Hypothesis, POLOCM\n",
    "from traces import *\n",
    "from observation import PartialOrderedActionObservation\n",
    "from extract.model import *\n",
    "import pulp as pl"
   ]
  },
  {
   "cell_type": "code",
   "execution_count": 3,
   "metadata": {},
   "outputs": [],
   "source": [
    "def get_bw_PO_traces(print_trace=False):\n",
    "    objects = {\n",
    "        \"A\": PlanningObject(\"unknown\", \"A\"),\n",
    "        \"B\": PlanningObject(\"unknown\", \"B\"),\n",
    "        \"C\": PlanningObject(\"unknown\", \"C\"),\n",
    "    }\n",
    "\n",
    "    actions = {\n",
    "        \"unstackAB\": Action(\"unstack\", [objects[\"A\"], objects[\"B\"]]),\n",
    "        \"unstackBC\": Action(\"unstack\", [objects[\"B\"], objects[\"C\"]]),\n",
    "        \"unstackCB\": Action(\"unstack\", [objects[\"C\"], objects[\"B\"]]),\n",
    "        \"unstackBA\": Action(\"unstack\", [objects[\"B\"], objects[\"A\"]]),\n",
    "        \"unstackAC\": Action(\"unstack\", [objects[\"A\"], objects[\"C\"]]),\n",
    "        \"unstackCA\": Action(\"unstack\", [objects[\"C\"], objects[\"A\"]]),\n",
    "        \"stackAB\": Action(\"stack\", [objects[\"A\"], objects[\"B\"]]),\n",
    "        \"stackBA\": Action(\"stack\", [objects[\"B\"], objects[\"A\"]]),\n",
    "        \"stackAC\": Action(\"stack\", [objects[\"A\"], objects[\"C\"]]),\n",
    "        \"stackCA\": Action(\"stack\", [objects[\"C\"], objects[\"A\"]]),\n",
    "        \"stackBC\": Action(\"stack\", [objects[\"B\"], objects[\"C\"]]),\n",
    "        \"stackCB\": Action(\"stack\", [objects[\"C\"], objects[\"B\"]]),\n",
    "        \"putdownA\": Action(\"putdown\", [objects[\"A\"]]),\n",
    "        \"putdownB\": Action(\"putdown\", [objects[\"B\"]]),\n",
    "        \"putdownC\": Action(\"putdown\", [objects[\"C\"]]),\n",
    "        \"pickupA\": Action(\"pickup\", [objects[\"A\"]]),\n",
    "        \"pickupB\": Action(\"pickup\", [objects[\"B\"]]),\n",
    "        \"pickupC\": Action(\"pickup\", [objects[\"C\"]]),\n",
    "    }\n",
    "\n",
    "    input_action_seqs = '''\n",
    "        unstack(A, B), putdown(A), pickup(B), stack(B,C), unstack(B,C), stack(B,C),pickup(A), stack(A,B)\n",
    "        unstack(C, B), putdown(C), unstack(B,A), putdown(B), pickup(B), stack(B,C), pickup(A), stack(A,B)\n",
    "        unstack(C,B), stack(C,A), pickup(B), putdown(B), pickup(B), stack(B,C)\n",
    "        '''\n",
    "       \n",
    "    traces = TraceList(\n",
    "        [   \n",
    "            PartialOrderedTrace(\n",
    "                [\n",
    "                    PartialOrderedStep(State({}), actions[\"unstackAB\"], 1, [2,8]),\n",
    "                    PartialOrderedStep(State({}), actions[\"putdownA\"], 2, [7]),\n",
    "                    PartialOrderedStep(State({}), actions[\"pickupB\"], 3, []),\n",
    "                    PartialOrderedStep(State({}), actions[\"stackBC\"], 4, [5,8]),\n",
    "                    PartialOrderedStep(State({}), actions[\"unstackBC\"], 5, [6]),\n",
    "                    PartialOrderedStep(State({}), actions[\"stackBC\"], 6, [7]),\n",
    "                    PartialOrderedStep(State({}), actions[\"pickupA\"], 7, [8]),\n",
    "                    PartialOrderedStep(State({}), actions[\"stackAB\"], 8, []),\n",
    "                ]\n",
    "            ),\n",
    "            PartialOrderedTrace(\n",
    "                [\n",
    "                    PartialOrderedStep(State({}),actions['unstackCB'], 1, [4,8]),\n",
    "                    PartialOrderedStep(State({}),actions['putdownC'], 2, [3,5]),\n",
    "                    PartialOrderedStep(State({}),actions['unstackBA'], 3, [6]),\n",
    "                    PartialOrderedStep(State({}),actions['putdownB'], 4, [5]),\n",
    "                    PartialOrderedStep(State({}),actions['pickupB'], 5, [7]),\n",
    "                    PartialOrderedStep(State({}),actions['stackBC'], 6, [8]),\n",
    "                    PartialOrderedStep(State({}),actions['pickupA'], 7, []),\n",
    "                    PartialOrderedStep(State({}),actions['stackAB'], 8, []),\n",
    "                ]\n",
    "            ),\n",
    "            PartialOrderedTrace(\n",
    "                [\n",
    "                    PartialOrderedStep(State({}), actions[\"unstackCB\"], 1, [2,3,4,5,6]),\n",
    "                    PartialOrderedStep(State({}), actions[\"stackCA\"], 2, [3,6]),\n",
    "                    PartialOrderedStep(State({}), actions[\"pickupB\"], 3, [4]),\n",
    "                    PartialOrderedStep(State({}), actions[\"putdownB\"], 4, [5,6]),\n",
    "                    PartialOrderedStep(State({}), actions[\"pickupB\"], 5, []),\n",
    "                    PartialOrderedStep(State({}), actions[\"stackBC\"], 6, []),\n",
    "                ]\n",
    "            ),\n",
    "            \n",
    "        ]\n",
    "    )\n",
    "    \n",
    "\n",
    "    if print_trace:\n",
    "        # traces.print()\n",
    "        traces.print(\"details\")\n",
    "\n",
    "    obs = traces.tokenize(PartialOrderedActionObservation)\n",
    "    return obs"
   ]
  },
  {
   "cell_type": "code",
   "execution_count": 4,
   "metadata": {},
   "outputs": [
    {
     "data": {
      "text/html": [
       "<pre style=\"white-space:pre;overflow-x:auto;line-height:normal;font-family:Menlo,'DejaVu Sans Mono',consolas,'Courier New',monospace\"><span style=\"font-style: italic\">                                                       Trace                                                       </span>\n",
       "Attributes:                                                                                                        \n",
       "  8 steps                                                                                                          \n",
       "  0 fluents                                                                                                        \n",
       "<span style=\"font-style: italic\">                                                       Steps                                                       </span>\n",
       "<span style=\"font-weight: bold\">                     Step       State        Action                                                                </span>\n",
       "                        1                    unstack unknown A unknown B                                           \n",
       "                        2                    putdown unknown A                                                     \n",
       "                        3                    pickup unknown B                                                      \n",
       "                        4                    stack unknown B unknown C                                             \n",
       "                        5                    unstack unknown B unknown C                                           \n",
       "                        6                    stack unknown B unknown C                                             \n",
       "                        7                    pickup unknown A                                                      \n",
       "                        8                    stack unknown A unknown B                                             \n",
       "</pre>\n"
      ],
      "text/plain": [
       "\u001b[3m                                                       Trace                                                       \u001b[0m\n",
       "Attributes:                                                                                                        \n",
       "  8 steps                                                                                                          \n",
       "  0 fluents                                                                                                        \n",
       "\u001b[3m                                                       Steps                                                       \u001b[0m\n",
       "\u001b[1m                     Step\u001b[0m\u001b[1m \u001b[0m\u001b[1m \u001b[0m\u001b[1m     State      \u001b[0m\u001b[1m \u001b[0m\u001b[1m \u001b[0m\u001b[1mAction                                                                \u001b[0m\n",
       "                        1                    unstack unknown A unknown B                                           \n",
       "                        2                    putdown unknown A                                                     \n",
       "                        3                    pickup unknown B                                                      \n",
       "                        4                    stack unknown B unknown C                                             \n",
       "                        5                    unstack unknown B unknown C                                           \n",
       "                        6                    stack unknown B unknown C                                             \n",
       "                        7                    pickup unknown A                                                      \n",
       "                        8                    stack unknown A unknown B                                             \n"
      ]
     },
     "metadata": {},
     "output_type": "display_data"
    },
    {
     "name": "stdout",
     "output_type": "stream",
     "text": [
      "\n"
     ]
    },
    {
     "data": {
      "text/html": [
       "<pre style=\"white-space:pre;overflow-x:auto;line-height:normal;font-family:Menlo,'DejaVu Sans Mono',consolas,'Courier New',monospace\"><span style=\"font-style: italic\">                                                       Trace                                                       </span>\n",
       "Attributes:                                                                                                        \n",
       "  8 steps                                                                                                          \n",
       "  0 fluents                                                                                                        \n",
       "<span style=\"font-style: italic\">                                                       Steps                                                       </span>\n",
       "<span style=\"font-weight: bold\">                     Step       State        Action                                                                </span>\n",
       "                        1                    unstack unknown C unknown B                                           \n",
       "                        2                    putdown unknown C                                                     \n",
       "                        3                    unstack unknown B unknown A                                           \n",
       "                        4                    putdown unknown B                                                     \n",
       "                        5                    pickup unknown B                                                      \n",
       "                        6                    stack unknown B unknown C                                             \n",
       "                        7                    pickup unknown A                                                      \n",
       "                        8                    stack unknown A unknown B                                             \n",
       "</pre>\n"
      ],
      "text/plain": [
       "\u001b[3m                                                       Trace                                                       \u001b[0m\n",
       "Attributes:                                                                                                        \n",
       "  8 steps                                                                                                          \n",
       "  0 fluents                                                                                                        \n",
       "\u001b[3m                                                       Steps                                                       \u001b[0m\n",
       "\u001b[1m                     Step\u001b[0m\u001b[1m \u001b[0m\u001b[1m \u001b[0m\u001b[1m     State      \u001b[0m\u001b[1m \u001b[0m\u001b[1m \u001b[0m\u001b[1mAction                                                                \u001b[0m\n",
       "                        1                    unstack unknown C unknown B                                           \n",
       "                        2                    putdown unknown C                                                     \n",
       "                        3                    unstack unknown B unknown A                                           \n",
       "                        4                    putdown unknown B                                                     \n",
       "                        5                    pickup unknown B                                                      \n",
       "                        6                    stack unknown B unknown C                                             \n",
       "                        7                    pickup unknown A                                                      \n",
       "                        8                    stack unknown A unknown B                                             \n"
      ]
     },
     "metadata": {},
     "output_type": "display_data"
    },
    {
     "name": "stdout",
     "output_type": "stream",
     "text": [
      "\n"
     ]
    },
    {
     "data": {
      "text/html": [
       "<pre style=\"white-space:pre;overflow-x:auto;line-height:normal;font-family:Menlo,'DejaVu Sans Mono',consolas,'Courier New',monospace\"><span style=\"font-style: italic\">                                                       Trace                                                       </span>\n",
       "Attributes:                                                                                                        \n",
       "  6 steps                                                                                                          \n",
       "  0 fluents                                                                                                        \n",
       "<span style=\"font-style: italic\">                                                       Steps                                                       </span>\n",
       "<span style=\"font-weight: bold\">                     Step       State        Action                                                                </span>\n",
       "                        1                    unstack unknown C unknown B                                           \n",
       "                        2                    stack unknown C unknown A                                             \n",
       "                        3                    pickup unknown B                                                      \n",
       "                        4                    putdown unknown B                                                     \n",
       "                        5                    pickup unknown B                                                      \n",
       "                        6                    stack unknown B unknown C                                             \n",
       "</pre>\n"
      ],
      "text/plain": [
       "\u001b[3m                                                       Trace                                                       \u001b[0m\n",
       "Attributes:                                                                                                        \n",
       "  6 steps                                                                                                          \n",
       "  0 fluents                                                                                                        \n",
       "\u001b[3m                                                       Steps                                                       \u001b[0m\n",
       "\u001b[1m                     Step\u001b[0m\u001b[1m \u001b[0m\u001b[1m \u001b[0m\u001b[1m     State      \u001b[0m\u001b[1m \u001b[0m\u001b[1m \u001b[0m\u001b[1mAction                                                                \u001b[0m\n",
       "                        1                    unstack unknown C unknown B                                           \n",
       "                        2                    stack unknown C unknown A                                             \n",
       "                        3                    pickup unknown B                                                      \n",
       "                        4                    putdown unknown B                                                     \n",
       "                        5                    pickup unknown B                                                      \n",
       "                        6                    stack unknown B unknown C                                             \n"
      ]
     },
     "metadata": {},
     "output_type": "display_data"
    },
    {
     "name": "stdout",
     "output_type": "stream",
     "text": [
      "\n"
     ]
    }
   ],
   "source": [
    "obs_tracelist = get_bw_PO_traces(True)"
   ]
  },
  {
   "cell_type": "code",
   "execution_count": 5,
   "metadata": {},
   "outputs": [
    {
     "name": "stdout",
     "output_type": "stream",
     "text": [
      "Sorts:\n",
      "{'A': 1, 'B': 1, 'C': 1}\n",
      "\n"
     ]
    }
   ],
   "source": [
    "sorts = POLOCM._get_sorts(obs_tracelist)\n",
    "print(f\"Sorts:\\n{sorts}\", end=\"\\n\\n\")"
   ]
  },
  {
   "cell_type": "code",
   "execution_count": 6,
   "metadata": {},
   "outputs": [
    {
     "data": {
      "text/markdown": [
       "# Step 1"
      ],
      "text/plain": [
       "<IPython.core.display.Markdown object>"
      ]
     },
     "metadata": {},
     "output_type": "display_data"
    },
    {
     "data": {
      "text/markdown": [
       "## Obj PO traces:\n"
      ],
      "text/plain": [
       "<IPython.core.display.Markdown object>"
      ]
     },
     "metadata": {},
     "output_type": "display_data"
    },
    {
     "data": {
      "text/markdown": [
       "### Trace **0**\n"
      ],
      "text/plain": [
       "<IPython.core.display.Markdown object>"
      ]
     },
     "metadata": {},
     "output_type": "display_data"
    },
    {
     "name": "stdout",
     "output_type": "stream",
     "text": [
      "+--------------+--------------+--------------+\n",
      "| unknown A    | unknown B    | unknown C    |\n",
      "|--------------+--------------+--------------|\n",
      "| [1]unstack.1 | [1]unstack.2 | [4]stack.2   |\n",
      "| [2]putdown.1 | [3]pickup.1  | [5]unstack.2 |\n",
      "| [7]pickup.1  | [4]stack.1   | [6]stack.2   |\n",
      "| [8]stack.1   | [5]unstack.1 |              |\n",
      "|              | [6]stack.1   |              |\n",
      "|              | [8]stack.2   |              |\n",
      "+--------------+--------------+--------------+\n"
     ]
    },
    {
     "data": {
      "text/markdown": [
       "### Trace **1**\n"
      ],
      "text/plain": [
       "<IPython.core.display.Markdown object>"
      ]
     },
     "metadata": {},
     "output_type": "display_data"
    },
    {
     "name": "stdout",
     "output_type": "stream",
     "text": [
      "+--------------+--------------+--------------+\n",
      "| unknown C    | unknown B    | unknown A    |\n",
      "|--------------+--------------+--------------|\n",
      "| [1]unstack.1 | [1]unstack.2 | [3]unstack.2 |\n",
      "| [2]putdown.1 | [3]unstack.1 | [7]pickup.1  |\n",
      "| [6]stack.2   | [4]putdown.1 | [8]stack.1   |\n",
      "|              | [5]pickup.1  |              |\n",
      "|              | [6]stack.1   |              |\n",
      "|              | [8]stack.2   |              |\n",
      "+--------------+--------------+--------------+\n"
     ]
    },
    {
     "data": {
      "text/markdown": [
       "### Trace **2**\n"
      ],
      "text/plain": [
       "<IPython.core.display.Markdown object>"
      ]
     },
     "metadata": {},
     "output_type": "display_data"
    },
    {
     "name": "stdout",
     "output_type": "stream",
     "text": [
      "+--------------+--------------+-------------+\n",
      "| unknown C    | unknown B    | unknown A   |\n",
      "|--------------+--------------+-------------|\n",
      "| [1]unstack.1 | [1]unstack.2 | [2]stack.2  |\n",
      "| [2]stack.1   | [3]pickup.1  |             |\n",
      "| [6]stack.2   | [4]putdown.1 |             |\n",
      "|              | [5]pickup.1  |             |\n",
      "|              | [6]stack.1   |             |\n",
      "+--------------+--------------+-------------+\n"
     ]
    },
    {
     "data": {
      "text/markdown": [
       "## Traces PO Matrix"
      ],
      "text/plain": [
       "<IPython.core.display.Markdown object>"
      ]
     },
     "metadata": {},
     "output_type": "display_data"
    },
    {
     "data": {
      "text/markdown": [
       "### Trace **0**\n"
      ],
      "text/plain": [
       "<IPython.core.display.Markdown object>"
      ]
     },
     "metadata": {},
     "output_type": "display_data"
    },
    {
     "name": "stdout",
     "output_type": "stream",
     "text": [
      "╒════════════╤══════════════╤══════════════╤═════════════╤════════════╤══════════════╤════════════╤═════════════╤════════════╕\n",
      "│            │   [1]unstack │   [2]putdown │   [3]pickup │   [4]stack │   [5]unstack │   [6]stack │   [7]pickup │   [8]stack │\n",
      "╞════════════╪══════════════╪══════════════╪═════════════╪════════════╪══════════════╪════════════╪═════════════╪════════════╡\n",
      "│ [1]unstack │          nan │            1 │         nan │        nan │          nan │        nan │           1 │          1 │\n",
      "├────────────┼──────────────┼──────────────┼─────────────┼────────────┼──────────────┼────────────┼─────────────┼────────────┤\n",
      "│ [2]putdown │          nan │          nan │         nan │        nan │          nan │        nan │           1 │          1 │\n",
      "├────────────┼──────────────┼──────────────┼─────────────┼────────────┼──────────────┼────────────┼─────────────┼────────────┤\n",
      "│ [3]pickup  │          nan │          nan │         nan │        nan │          nan │        nan │         nan │        nan │\n",
      "├────────────┼──────────────┼──────────────┼─────────────┼────────────┼──────────────┼────────────┼─────────────┼────────────┤\n",
      "│ [4]stack   │          nan │          nan │         nan │        nan │            1 │          1 │           1 │          1 │\n",
      "├────────────┼──────────────┼──────────────┼─────────────┼────────────┼──────────────┼────────────┼─────────────┼────────────┤\n",
      "│ [5]unstack │          nan │          nan │         nan │        nan │          nan │          1 │           1 │          1 │\n",
      "├────────────┼──────────────┼──────────────┼─────────────┼────────────┼──────────────┼────────────┼─────────────┼────────────┤\n",
      "│ [6]stack   │          nan │          nan │         nan │        nan │          nan │        nan │           1 │          1 │\n",
      "├────────────┼──────────────┼──────────────┼─────────────┼────────────┼──────────────┼────────────┼─────────────┼────────────┤\n",
      "│ [7]pickup  │          nan │          nan │         nan │        nan │          nan │        nan │         nan │          1 │\n",
      "├────────────┼──────────────┼──────────────┼─────────────┼────────────┼──────────────┼────────────┼─────────────┼────────────┤\n",
      "│ [8]stack   │          nan │          nan │         nan │        nan │          nan │        nan │         nan │        nan │\n",
      "╘════════════╧══════════════╧══════════════╧═════════════╧════════════╧══════════════╧════════════╧═════════════╧════════════╛\n"
     ]
    },
    {
     "data": {
      "text/markdown": [
       "### Trace **1**\n"
      ],
      "text/plain": [
       "<IPython.core.display.Markdown object>"
      ]
     },
     "metadata": {},
     "output_type": "display_data"
    },
    {
     "name": "stdout",
     "output_type": "stream",
     "text": [
      "╒════════════╤══════════════╤══════════════╤══════════════╤══════════════╤═════════════╤════════════╤═════════════╤════════════╕\n",
      "│            │   [1]unstack │   [2]putdown │   [3]unstack │   [4]putdown │   [5]pickup │   [6]stack │   [7]pickup │   [8]stack │\n",
      "╞════════════╪══════════════╪══════════════╪══════════════╪══════════════╪═════════════╪════════════╪═════════════╪════════════╡\n",
      "│ [1]unstack │          nan │          nan │          nan │            1 │           1 │        nan │           1 │          1 │\n",
      "├────────────┼──────────────┼──────────────┼──────────────┼──────────────┼─────────────┼────────────┼─────────────┼────────────┤\n",
      "│ [2]putdown │          nan │          nan │            1 │          nan │           1 │          1 │           1 │          1 │\n",
      "├────────────┼──────────────┼──────────────┼──────────────┼──────────────┼─────────────┼────────────┼─────────────┼────────────┤\n",
      "│ [3]unstack │          nan │          nan │          nan │          nan │         nan │          1 │         nan │          1 │\n",
      "├────────────┼──────────────┼──────────────┼──────────────┼──────────────┼─────────────┼────────────┼─────────────┼────────────┤\n",
      "│ [4]putdown │          nan │          nan │          nan │          nan │           1 │        nan │           1 │        nan │\n",
      "├────────────┼──────────────┼──────────────┼──────────────┼──────────────┼─────────────┼────────────┼─────────────┼────────────┤\n",
      "│ [5]pickup  │          nan │          nan │          nan │          nan │         nan │        nan │           1 │        nan │\n",
      "├────────────┼──────────────┼──────────────┼──────────────┼──────────────┼─────────────┼────────────┼─────────────┼────────────┤\n",
      "│ [6]stack   │          nan │          nan │          nan │          nan │         nan │        nan │         nan │          1 │\n",
      "├────────────┼──────────────┼──────────────┼──────────────┼──────────────┼─────────────┼────────────┼─────────────┼────────────┤\n",
      "│ [7]pickup  │          nan │          nan │          nan │          nan │         nan │        nan │         nan │        nan │\n",
      "├────────────┼──────────────┼──────────────┼──────────────┼──────────────┼─────────────┼────────────┼─────────────┼────────────┤\n",
      "│ [8]stack   │          nan │          nan │          nan │          nan │         nan │        nan │         nan │        nan │\n",
      "╘════════════╧══════════════╧══════════════╧══════════════╧══════════════╧═════════════╧════════════╧═════════════╧════════════╛\n"
     ]
    },
    {
     "data": {
      "text/markdown": [
       "### Trace **2**\n"
      ],
      "text/plain": [
       "<IPython.core.display.Markdown object>"
      ]
     },
     "metadata": {},
     "output_type": "display_data"
    },
    {
     "name": "stdout",
     "output_type": "stream",
     "text": [
      "╒════════════╤══════════════╤════════════╤═════════════╤══════════════╤═════════════╤════════════╕\n",
      "│            │   [1]unstack │   [2]stack │   [3]pickup │   [4]putdown │   [5]pickup │   [6]stack │\n",
      "╞════════════╪══════════════╪════════════╪═════════════╪══════════════╪═════════════╪════════════╡\n",
      "│ [1]unstack │          nan │          1 │           1 │            1 │           1 │          1 │\n",
      "├────────────┼──────────────┼────────────┼─────────────┼──────────────┼─────────────┼────────────┤\n",
      "│ [2]stack   │          nan │        nan │           1 │            1 │           1 │          1 │\n",
      "├────────────┼──────────────┼────────────┼─────────────┼──────────────┼─────────────┼────────────┤\n",
      "│ [3]pickup  │          nan │        nan │         nan │            1 │           1 │          1 │\n",
      "├────────────┼──────────────┼────────────┼─────────────┼──────────────┼─────────────┼────────────┤\n",
      "│ [4]putdown │          nan │        nan │         nan │          nan │           1 │          1 │\n",
      "├────────────┼──────────────┼────────────┼─────────────┼──────────────┼─────────────┼────────────┤\n",
      "│ [5]pickup  │          nan │        nan │         nan │          nan │         nan │        nan │\n",
      "├────────────┼──────────────┼────────────┼─────────────┼──────────────┼─────────────┼────────────┤\n",
      "│ [6]stack   │          nan │        nan │         nan │          nan │         nan │        nan │\n",
      "╘════════════╧══════════════╧════════════╧═════════════╧══════════════╧═════════════╧════════════╛\n"
     ]
    },
    {
     "data": {
      "text/markdown": [
       "## Object Traces PO Matrix"
      ],
      "text/plain": [
       "<IPython.core.display.Markdown object>"
      ]
     },
     "metadata": {},
     "output_type": "display_data"
    },
    {
     "data": {
      "text/markdown": [
       "### Trace **0**\n"
      ],
      "text/plain": [
       "<IPython.core.display.Markdown object>"
      ]
     },
     "metadata": {},
     "output_type": "display_data"
    },
    {
     "data": {
      "text/markdown": [
       "#### Object ***A***\n"
      ],
      "text/plain": [
       "<IPython.core.display.Markdown object>"
      ]
     },
     "metadata": {},
     "output_type": "display_data"
    },
    {
     "name": "stdout",
     "output_type": "stream",
     "text": [
      "╒══════════════╤════════════════╤════════════════╤═══════════════╤══════════════╕\n",
      "│              │   [1]unstack.1 │   [2]putdown.1 │   [7]pickup.1 │   [8]stack.1 │\n",
      "╞══════════════╪════════════════╪════════════════╪═══════════════╪══════════════╡\n",
      "│ [1]unstack.1 │            nan │              1 │             1 │            1 │\n",
      "├──────────────┼────────────────┼────────────────┼───────────────┼──────────────┤\n",
      "│ [2]putdown.1 │            nan │            nan │             1 │            1 │\n",
      "├──────────────┼────────────────┼────────────────┼───────────────┼──────────────┤\n",
      "│ [7]pickup.1  │            nan │            nan │           nan │            1 │\n",
      "├──────────────┼────────────────┼────────────────┼───────────────┼──────────────┤\n",
      "│ [8]stack.1   │            nan │            nan │           nan │          nan │\n",
      "╘══════════════╧════════════════╧════════════════╧═══════════════╧══════════════╛\n"
     ]
    },
    {
     "data": {
      "text/markdown": [
       "#### Object ***B***\n"
      ],
      "text/plain": [
       "<IPython.core.display.Markdown object>"
      ]
     },
     "metadata": {},
     "output_type": "display_data"
    },
    {
     "name": "stdout",
     "output_type": "stream",
     "text": [
      "╒══════════════╤════════════════╤═══════════════╤══════════════╤════════════════╤══════════════╤══════════════╕\n",
      "│              │   [1]unstack.2 │   [3]pickup.1 │   [4]stack.1 │   [5]unstack.1 │   [6]stack.1 │   [8]stack.2 │\n",
      "╞══════════════╪════════════════╪═══════════════╪══════════════╪════════════════╪══════════════╪══════════════╡\n",
      "│ [1]unstack.2 │            nan │           nan │          nan │            nan │          nan │            1 │\n",
      "├──────────────┼────────────────┼───────────────┼──────────────┼────────────────┼──────────────┼──────────────┤\n",
      "│ [3]pickup.1  │            nan │           nan │          nan │            nan │          nan │          nan │\n",
      "├──────────────┼────────────────┼───────────────┼──────────────┼────────────────┼──────────────┼──────────────┤\n",
      "│ [4]stack.1   │            nan │           nan │          nan │              1 │            1 │            1 │\n",
      "├──────────────┼────────────────┼───────────────┼──────────────┼────────────────┼──────────────┼──────────────┤\n",
      "│ [5]unstack.1 │            nan │           nan │          nan │            nan │            1 │            1 │\n",
      "├──────────────┼────────────────┼───────────────┼──────────────┼────────────────┼──────────────┼──────────────┤\n",
      "│ [6]stack.1   │            nan │           nan │          nan │            nan │          nan │            1 │\n",
      "├──────────────┼────────────────┼───────────────┼──────────────┼────────────────┼──────────────┼──────────────┤\n",
      "│ [8]stack.2   │            nan │           nan │          nan │            nan │          nan │          nan │\n",
      "╘══════════════╧════════════════╧═══════════════╧══════════════╧════════════════╧══════════════╧══════════════╛\n"
     ]
    },
    {
     "data": {
      "text/markdown": [
       "#### Object ***C***\n"
      ],
      "text/plain": [
       "<IPython.core.display.Markdown object>"
      ]
     },
     "metadata": {},
     "output_type": "display_data"
    },
    {
     "name": "stdout",
     "output_type": "stream",
     "text": [
      "╒══════════════╤══════════════╤════════════════╤══════════════╕\n",
      "│              │   [4]stack.2 │   [5]unstack.2 │   [6]stack.2 │\n",
      "╞══════════════╪══════════════╪════════════════╪══════════════╡\n",
      "│ [4]stack.2   │          nan │              1 │            1 │\n",
      "├──────────────┼──────────────┼────────────────┼──────────────┤\n",
      "│ [5]unstack.2 │          nan │            nan │            1 │\n",
      "├──────────────┼──────────────┼────────────────┼──────────────┤\n",
      "│ [6]stack.2   │          nan │            nan │          nan │\n",
      "╘══════════════╧══════════════╧════════════════╧══════════════╛\n"
     ]
    },
    {
     "data": {
      "text/markdown": [
       "### Trace **1**\n"
      ],
      "text/plain": [
       "<IPython.core.display.Markdown object>"
      ]
     },
     "metadata": {},
     "output_type": "display_data"
    },
    {
     "data": {
      "text/markdown": [
       "#### Object ***C***\n"
      ],
      "text/plain": [
       "<IPython.core.display.Markdown object>"
      ]
     },
     "metadata": {},
     "output_type": "display_data"
    },
    {
     "name": "stdout",
     "output_type": "stream",
     "text": [
      "╒══════════════╤════════════════╤════════════════╤══════════════╕\n",
      "│              │   [1]unstack.1 │   [2]putdown.1 │   [6]stack.2 │\n",
      "╞══════════════╪════════════════╪════════════════╪══════════════╡\n",
      "│ [1]unstack.1 │            nan │            nan │          nan │\n",
      "├──────────────┼────────────────┼────────────────┼──────────────┤\n",
      "│ [2]putdown.1 │            nan │            nan │            1 │\n",
      "├──────────────┼────────────────┼────────────────┼──────────────┤\n",
      "│ [6]stack.2   │            nan │            nan │          nan │\n",
      "╘══════════════╧════════════════╧════════════════╧══════════════╛\n"
     ]
    },
    {
     "data": {
      "text/markdown": [
       "#### Object ***B***\n"
      ],
      "text/plain": [
       "<IPython.core.display.Markdown object>"
      ]
     },
     "metadata": {},
     "output_type": "display_data"
    },
    {
     "name": "stdout",
     "output_type": "stream",
     "text": [
      "╒══════════════╤════════════════╤════════════════╤════════════════╤═══════════════╤══════════════╤══════════════╕\n",
      "│              │   [1]unstack.2 │   [3]unstack.1 │   [4]putdown.1 │   [5]pickup.1 │   [6]stack.1 │   [8]stack.2 │\n",
      "╞══════════════╪════════════════╪════════════════╪════════════════╪═══════════════╪══════════════╪══════════════╡\n",
      "│ [1]unstack.2 │            nan │            nan │              1 │             1 │          nan │            1 │\n",
      "├──────────────┼────────────────┼────────────────┼────────────────┼───────────────┼──────────────┼──────────────┤\n",
      "│ [3]unstack.1 │            nan │            nan │            nan │           nan │            1 │            1 │\n",
      "├──────────────┼────────────────┼────────────────┼────────────────┼───────────────┼──────────────┼──────────────┤\n",
      "│ [4]putdown.1 │            nan │            nan │            nan │             1 │          nan │          nan │\n",
      "├──────────────┼────────────────┼────────────────┼────────────────┼───────────────┼──────────────┼──────────────┤\n",
      "│ [5]pickup.1  │            nan │            nan │            nan │           nan │          nan │          nan │\n",
      "├──────────────┼────────────────┼────────────────┼────────────────┼───────────────┼──────────────┼──────────────┤\n",
      "│ [6]stack.1   │            nan │            nan │            nan │           nan │          nan │            1 │\n",
      "├──────────────┼────────────────┼────────────────┼────────────────┼───────────────┼──────────────┼──────────────┤\n",
      "│ [8]stack.2   │            nan │            nan │            nan │           nan │          nan │          nan │\n",
      "╘══════════════╧════════════════╧════════════════╧════════════════╧═══════════════╧══════════════╧══════════════╛\n"
     ]
    },
    {
     "data": {
      "text/markdown": [
       "#### Object ***A***\n"
      ],
      "text/plain": [
       "<IPython.core.display.Markdown object>"
      ]
     },
     "metadata": {},
     "output_type": "display_data"
    },
    {
     "name": "stdout",
     "output_type": "stream",
     "text": [
      "╒══════════════╤════════════════╤═══════════════╤══════════════╕\n",
      "│              │   [3]unstack.2 │   [7]pickup.1 │   [8]stack.1 │\n",
      "╞══════════════╪════════════════╪═══════════════╪══════════════╡\n",
      "│ [3]unstack.2 │            nan │           nan │            1 │\n",
      "├──────────────┼────────────────┼───────────────┼──────────────┤\n",
      "│ [7]pickup.1  │            nan │           nan │          nan │\n",
      "├──────────────┼────────────────┼───────────────┼──────────────┤\n",
      "│ [8]stack.1   │            nan │           nan │          nan │\n",
      "╘══════════════╧════════════════╧═══════════════╧══════════════╛\n"
     ]
    },
    {
     "data": {
      "text/markdown": [
       "### Trace **2**\n"
      ],
      "text/plain": [
       "<IPython.core.display.Markdown object>"
      ]
     },
     "metadata": {},
     "output_type": "display_data"
    },
    {
     "data": {
      "text/markdown": [
       "#### Object ***C***\n"
      ],
      "text/plain": [
       "<IPython.core.display.Markdown object>"
      ]
     },
     "metadata": {},
     "output_type": "display_data"
    },
    {
     "name": "stdout",
     "output_type": "stream",
     "text": [
      "╒══════════════╤════════════════╤══════════════╤══════════════╕\n",
      "│              │   [1]unstack.1 │   [2]stack.1 │   [6]stack.2 │\n",
      "╞══════════════╪════════════════╪══════════════╪══════════════╡\n",
      "│ [1]unstack.1 │            nan │            1 │            1 │\n",
      "├──────────────┼────────────────┼──────────────┼──────────────┤\n",
      "│ [2]stack.1   │            nan │          nan │            1 │\n",
      "├──────────────┼────────────────┼──────────────┼──────────────┤\n",
      "│ [6]stack.2   │            nan │          nan │          nan │\n",
      "╘══════════════╧════════════════╧══════════════╧══════════════╛\n"
     ]
    },
    {
     "data": {
      "text/markdown": [
       "#### Object ***B***\n"
      ],
      "text/plain": [
       "<IPython.core.display.Markdown object>"
      ]
     },
     "metadata": {},
     "output_type": "display_data"
    },
    {
     "name": "stdout",
     "output_type": "stream",
     "text": [
      "╒══════════════╤════════════════╤═══════════════╤════════════════╤═══════════════╤══════════════╕\n",
      "│              │   [1]unstack.2 │   [3]pickup.1 │   [4]putdown.1 │   [5]pickup.1 │   [6]stack.1 │\n",
      "╞══════════════╪════════════════╪═══════════════╪════════════════╪═══════════════╪══════════════╡\n",
      "│ [1]unstack.2 │            nan │             1 │              1 │             1 │            1 │\n",
      "├──────────────┼────────────────┼───────────────┼────────────────┼───────────────┼──────────────┤\n",
      "│ [3]pickup.1  │            nan │           nan │              1 │             1 │            1 │\n",
      "├──────────────┼────────────────┼───────────────┼────────────────┼───────────────┼──────────────┤\n",
      "│ [4]putdown.1 │            nan │           nan │            nan │             1 │            1 │\n",
      "├──────────────┼────────────────┼───────────────┼────────────────┼───────────────┼──────────────┤\n",
      "│ [5]pickup.1  │            nan │           nan │            nan │           nan │          nan │\n",
      "├──────────────┼────────────────┼───────────────┼────────────────┼───────────────┼──────────────┤\n",
      "│ [6]stack.1   │            nan │           nan │            nan │           nan │          nan │\n",
      "╘══════════════╧════════════════╧═══════════════╧════════════════╧═══════════════╧══════════════╛\n"
     ]
    },
    {
     "data": {
      "text/markdown": [
       "#### Object ***A***\n"
      ],
      "text/plain": [
       "<IPython.core.display.Markdown object>"
      ]
     },
     "metadata": {},
     "output_type": "display_data"
    },
    {
     "name": "stdout",
     "output_type": "stream",
     "text": [
      "╒════════════╤══════════════╕\n",
      "│            │   [2]stack.2 │\n",
      "╞════════════╪══════════════╡\n",
      "│ [2]stack.2 │          nan │\n",
      "╘════════════╧══════════════╛\n"
     ]
    },
    {
     "data": {
      "text/markdown": [
       "## Object Traces FO Matrix"
      ],
      "text/plain": [
       "<IPython.core.display.Markdown object>"
      ]
     },
     "metadata": {},
     "output_type": "display_data"
    },
    {
     "data": {
      "text/markdown": [
       "### Trace 0\n"
      ],
      "text/plain": [
       "<IPython.core.display.Markdown object>"
      ]
     },
     "metadata": {},
     "output_type": "display_data"
    },
    {
     "data": {
      "text/markdown": [
       "#### Object A\n"
      ],
      "text/plain": [
       "<IPython.core.display.Markdown object>"
      ]
     },
     "metadata": {},
     "output_type": "display_data"
    },
    {
     "name": "stdout",
     "output_type": "stream",
     "text": [
      "╒══════════════╤════════════════╤════════════════╤═══════════════╤══════════════╕\n",
      "│              │   [1]unstack.1 │   [2]putdown.1 │   [7]pickup.1 │   [8]stack.1 │\n",
      "╞══════════════╪════════════════╪════════════════╪═══════════════╪══════════════╡\n",
      "│ [1]unstack.1 │            nan │              1 │             0 │            0 │\n",
      "├──────────────┼────────────────┼────────────────┼───────────────┼──────────────┤\n",
      "│ [2]putdown.1 │            nan │            nan │             1 │            0 │\n",
      "├──────────────┼────────────────┼────────────────┼───────────────┼──────────────┤\n",
      "│ [7]pickup.1  │            nan │            nan │           nan │            1 │\n",
      "├──────────────┼────────────────┼────────────────┼───────────────┼──────────────┤\n",
      "│ [8]stack.1   │            nan │            nan │           nan │          nan │\n",
      "╘══════════════╧════════════════╧════════════════╧═══════════════╧══════════════╛\n"
     ]
    },
    {
     "data": {
      "text/markdown": [
       "#### Object B\n"
      ],
      "text/plain": [
       "<IPython.core.display.Markdown object>"
      ]
     },
     "metadata": {},
     "output_type": "display_data"
    },
    {
     "name": "stdout",
     "output_type": "stream",
     "text": [
      "╒══════════════╤════════════════╤═══════════════╤══════════════╤════════════════╤══════════════╤══════════════╕\n",
      "│              │   [1]unstack.2 │   [3]pickup.1 │   [4]stack.1 │   [5]unstack.1 │   [6]stack.1 │   [8]stack.2 │\n",
      "╞══════════════╪════════════════╪═══════════════╪══════════════╪════════════════╪══════════════╪══════════════╡\n",
      "│ [1]unstack.2 │            nan │           nan │          nan │            nan │          nan │          nan │\n",
      "├──────────────┼────────────────┼───────────────┼──────────────┼────────────────┼──────────────┼──────────────┤\n",
      "│ [3]pickup.1  │            nan │           nan │          nan │            nan │          nan │          nan │\n",
      "├──────────────┼────────────────┼───────────────┼──────────────┼────────────────┼──────────────┼──────────────┤\n",
      "│ [4]stack.1   │            nan │           nan │          nan │            nan │          nan │          nan │\n",
      "├──────────────┼────────────────┼───────────────┼──────────────┼────────────────┼──────────────┼──────────────┤\n",
      "│ [5]unstack.1 │            nan │           nan │          nan │            nan │          nan │          nan │\n",
      "├──────────────┼────────────────┼───────────────┼──────────────┼────────────────┼──────────────┼──────────────┤\n",
      "│ [6]stack.1   │            nan │           nan │          nan │            nan │          nan │          nan │\n",
      "├──────────────┼────────────────┼───────────────┼──────────────┼────────────────┼──────────────┼──────────────┤\n",
      "│ [8]stack.2   │            nan │           nan │          nan │            nan │          nan │          nan │\n",
      "╘══════════════╧════════════════╧═══════════════╧══════════════╧════════════════╧══════════════╧══════════════╛\n"
     ]
    },
    {
     "data": {
      "text/markdown": [
       "#### Object C\n"
      ],
      "text/plain": [
       "<IPython.core.display.Markdown object>"
      ]
     },
     "metadata": {},
     "output_type": "display_data"
    },
    {
     "name": "stdout",
     "output_type": "stream",
     "text": [
      "╒══════════════╤══════════════╤════════════════╤══════════════╕\n",
      "│              │   [4]stack.2 │   [5]unstack.2 │   [6]stack.2 │\n",
      "╞══════════════╪══════════════╪════════════════╪══════════════╡\n",
      "│ [4]stack.2   │          nan │              1 │            0 │\n",
      "├──────────────┼──────────────┼────────────────┼──────────────┤\n",
      "│ [5]unstack.2 │          nan │            nan │            1 │\n",
      "├──────────────┼──────────────┼────────────────┼──────────────┤\n",
      "│ [6]stack.2   │          nan │            nan │          nan │\n",
      "╘══════════════╧══════════════╧════════════════╧══════════════╛\n"
     ]
    },
    {
     "data": {
      "text/markdown": [
       "### Trace 1\n"
      ],
      "text/plain": [
       "<IPython.core.display.Markdown object>"
      ]
     },
     "metadata": {},
     "output_type": "display_data"
    },
    {
     "data": {
      "text/markdown": [
       "#### Object C\n"
      ],
      "text/plain": [
       "<IPython.core.display.Markdown object>"
      ]
     },
     "metadata": {},
     "output_type": "display_data"
    },
    {
     "name": "stdout",
     "output_type": "stream",
     "text": [
      "╒══════════════╤════════════════╤════════════════╤══════════════╕\n",
      "│              │   [1]unstack.1 │   [2]putdown.1 │   [6]stack.2 │\n",
      "╞══════════════╪════════════════╪════════════════╪══════════════╡\n",
      "│ [1]unstack.1 │            nan │            nan │          nan │\n",
      "├──────────────┼────────────────┼────────────────┼──────────────┤\n",
      "│ [2]putdown.1 │            nan │            nan │          nan │\n",
      "├──────────────┼────────────────┼────────────────┼──────────────┤\n",
      "│ [6]stack.2   │            nan │            nan │          nan │\n",
      "╘══════════════╧════════════════╧════════════════╧══════════════╛\n"
     ]
    },
    {
     "data": {
      "text/markdown": [
       "#### Object B\n"
      ],
      "text/plain": [
       "<IPython.core.display.Markdown object>"
      ]
     },
     "metadata": {},
     "output_type": "display_data"
    },
    {
     "name": "stdout",
     "output_type": "stream",
     "text": [
      "╒══════════════╤════════════════╤════════════════╤════════════════╤═══════════════╤══════════════╤══════════════╕\n",
      "│              │   [1]unstack.2 │   [3]unstack.1 │   [4]putdown.1 │   [5]pickup.1 │   [6]stack.1 │   [8]stack.2 │\n",
      "╞══════════════╪════════════════╪════════════════╪════════════════╪═══════════════╪══════════════╪══════════════╡\n",
      "│ [1]unstack.2 │            nan │            nan │            nan │           nan │          nan │          nan │\n",
      "├──────────────┼────────────────┼────────────────┼────────────────┼───────────────┼──────────────┼──────────────┤\n",
      "│ [3]unstack.1 │            nan │            nan │            nan │           nan │          nan │          nan │\n",
      "├──────────────┼────────────────┼────────────────┼────────────────┼───────────────┼──────────────┼──────────────┤\n",
      "│ [4]putdown.1 │            nan │            nan │            nan │           nan │          nan │          nan │\n",
      "├──────────────┼────────────────┼────────────────┼────────────────┼───────────────┼──────────────┼──────────────┤\n",
      "│ [5]pickup.1  │            nan │            nan │            nan │           nan │          nan │          nan │\n",
      "├──────────────┼────────────────┼────────────────┼────────────────┼───────────────┼──────────────┼──────────────┤\n",
      "│ [6]stack.1   │            nan │            nan │            nan │           nan │          nan │          nan │\n",
      "├──────────────┼────────────────┼────────────────┼────────────────┼───────────────┼──────────────┼──────────────┤\n",
      "│ [8]stack.2   │            nan │            nan │            nan │           nan │          nan │          nan │\n",
      "╘══════════════╧════════════════╧════════════════╧════════════════╧═══════════════╧══════════════╧══════════════╛\n"
     ]
    },
    {
     "data": {
      "text/markdown": [
       "#### Object A\n"
      ],
      "text/plain": [
       "<IPython.core.display.Markdown object>"
      ]
     },
     "metadata": {},
     "output_type": "display_data"
    },
    {
     "name": "stdout",
     "output_type": "stream",
     "text": [
      "╒══════════════╤════════════════╤═══════════════╤══════════════╕\n",
      "│              │   [3]unstack.2 │   [7]pickup.1 │   [8]stack.1 │\n",
      "╞══════════════╪════════════════╪═══════════════╪══════════════╡\n",
      "│ [3]unstack.2 │            nan │           nan │          nan │\n",
      "├──────────────┼────────────────┼───────────────┼──────────────┤\n",
      "│ [7]pickup.1  │            nan │           nan │          nan │\n",
      "├──────────────┼────────────────┼───────────────┼──────────────┤\n",
      "│ [8]stack.1   │            nan │           nan │          nan │\n",
      "╘══════════════╧════════════════╧═══════════════╧══════════════╛\n"
     ]
    },
    {
     "data": {
      "text/markdown": [
       "### Trace 2\n"
      ],
      "text/plain": [
       "<IPython.core.display.Markdown object>"
      ]
     },
     "metadata": {},
     "output_type": "display_data"
    },
    {
     "data": {
      "text/markdown": [
       "#### Object C\n"
      ],
      "text/plain": [
       "<IPython.core.display.Markdown object>"
      ]
     },
     "metadata": {},
     "output_type": "display_data"
    },
    {
     "name": "stdout",
     "output_type": "stream",
     "text": [
      "╒══════════════╤════════════════╤══════════════╤══════════════╕\n",
      "│              │   [1]unstack.1 │   [2]stack.1 │   [6]stack.2 │\n",
      "╞══════════════╪════════════════╪══════════════╪══════════════╡\n",
      "│ [1]unstack.1 │            nan │            1 │            0 │\n",
      "├──────────────┼────────────────┼──────────────┼──────────────┤\n",
      "│ [2]stack.1   │            nan │          nan │            1 │\n",
      "├──────────────┼────────────────┼──────────────┼──────────────┤\n",
      "│ [6]stack.2   │            nan │          nan │          nan │\n",
      "╘══════════════╧════════════════╧══════════════╧══════════════╛\n"
     ]
    },
    {
     "data": {
      "text/markdown": [
       "#### Object B\n"
      ],
      "text/plain": [
       "<IPython.core.display.Markdown object>"
      ]
     },
     "metadata": {},
     "output_type": "display_data"
    },
    {
     "name": "stdout",
     "output_type": "stream",
     "text": [
      "╒══════════════╤════════════════╤═══════════════╤════════════════╤═══════════════╤══════════════╕\n",
      "│              │   [1]unstack.2 │   [3]pickup.1 │   [4]putdown.1 │   [5]pickup.1 │   [6]stack.1 │\n",
      "╞══════════════╪════════════════╪═══════════════╪════════════════╪═══════════════╪══════════════╡\n",
      "│ [1]unstack.2 │            nan │             1 │              0 │             0 │            0 │\n",
      "├──────────────┼────────────────┼───────────────┼────────────────┼───────────────┼──────────────┤\n",
      "│ [3]pickup.1  │            nan │           nan │              1 │             0 │            0 │\n",
      "├──────────────┼────────────────┼───────────────┼────────────────┼───────────────┼──────────────┤\n",
      "│ [4]putdown.1 │            nan │           nan │            nan │           nan │          nan │\n",
      "├──────────────┼────────────────┼───────────────┼────────────────┼───────────────┼──────────────┤\n",
      "│ [5]pickup.1  │            nan │           nan │            nan │           nan │          nan │\n",
      "├──────────────┼────────────────┼───────────────┼────────────────┼───────────────┼──────────────┤\n",
      "│ [6]stack.1   │            nan │           nan │            nan │           nan │          nan │\n",
      "╘══════════════╧════════════════╧═══════════════╧════════════════╧═══════════════╧══════════════╛\n"
     ]
    },
    {
     "data": {
      "text/markdown": [
       "#### Object A\n"
      ],
      "text/plain": [
       "<IPython.core.display.Markdown object>"
      ]
     },
     "metadata": {},
     "output_type": "display_data"
    },
    {
     "name": "stdout",
     "output_type": "stream",
     "text": [
      "╒════════════╤══════════════╕\n",
      "│            │   [2]stack.2 │\n",
      "╞════════════╪══════════════╡\n",
      "│ [2]stack.2 │          nan │\n",
      "╘════════════╧══════════════╛\n"
     ]
    }
   ],
   "source": [
    "obj_PO_trace_overall, trace_PO_matrix_overall, obj_trace_PO_matrix_overall, obj_trace_FO_matrix_overall, sort_aps = POLOCM.polocm_step1(obs_tracelist, sorts, True)"
   ]
  },
  {
   "cell_type": "code",
   "execution_count": 7,
   "metadata": {},
   "outputs": [
    {
     "data": {
      "text/markdown": [
       "# Step 2"
      ],
      "text/plain": [
       "<IPython.core.display.Markdown object>"
      ]
     },
     "metadata": {},
     "output_type": "display_data"
    },
    {
     "data": {
      "text/markdown": [
       "## PO vars"
      ],
      "text/plain": [
       "<IPython.core.display.Markdown object>"
      ]
     },
     "metadata": {},
     "output_type": "display_data"
    },
    {
     "data": {
      "text/markdown": [
       "### Trace 0"
      ],
      "text/plain": [
       "<IPython.core.display.Markdown object>"
      ]
     },
     "metadata": {},
     "output_type": "display_data"
    },
    {
     "name": "stdout",
     "output_type": "stream",
     "text": [
      "{([1]unstack, [5]unstack): trace_0__1_unstack~_5_unstack,\n",
      " ([1]unstack, [4]stack): trace_0__1_unstack~_4_stack,\n",
      " ([2]putdown, [3]pickup): trace_0__2_putdown~_3_pickup,\n",
      " ([1]unstack, [6]stack): trace_0__1_unstack~_6_stack,\n",
      " ([2]putdown, [4]stack): trace_0__2_putdown~_4_stack,\n",
      " ([1]unstack, [3]pickup): trace_0__1_unstack~_3_pickup,\n",
      " ([2]putdown, [5]unstack): trace_0__2_putdown~_5_unstack,\n",
      " ([2]putdown, [6]stack): trace_0__2_putdown~_6_stack,\n",
      " ([3]pickup, [6]stack): trace_0__3_pickup~_6_stack,\n",
      " ([3]pickup, [7]pickup): trace_0__3_pickup~_7_pickup,\n",
      " ([3]pickup, [8]stack): trace_0__3_pickup~_8_stack,\n",
      " ([3]pickup, [5]unstack): trace_0__3_pickup~_5_unstack,\n",
      " ([3]pickup, [4]stack): trace_0__3_pickup~_4_stack}\n"
     ]
    },
    {
     "data": {
      "text/markdown": [
       "### Trace 1"
      ],
      "text/plain": [
       "<IPython.core.display.Markdown object>"
      ]
     },
     "metadata": {},
     "output_type": "display_data"
    },
    {
     "name": "stdout",
     "output_type": "stream",
     "text": [
      "{([7]pickup, [8]stack): trace_1__7_pickup~_8_stack,\n",
      " ([1]unstack, [3]unstack): trace_1__1_unstack~_3_unstack,\n",
      " ([6]stack, [7]pickup): trace_1__6_stack~_7_pickup,\n",
      " ([1]unstack, [6]stack): trace_1__1_unstack~_6_stack,\n",
      " ([4]putdown, [6]stack): trace_1__4_putdown~_6_stack,\n",
      " ([5]pickup, [6]stack): trace_1__5_pickup~_6_stack,\n",
      " ([3]unstack, [4]putdown): trace_1__3_unstack~_4_putdown,\n",
      " ([3]unstack, [7]pickup): trace_1__3_unstack~_7_pickup,\n",
      " ([3]unstack, [5]pickup): trace_1__3_unstack~_5_pickup,\n",
      " ([4]putdown, [8]stack): trace_1__4_putdown~_8_stack,\n",
      " ([5]pickup, [8]stack): trace_1__5_pickup~_8_stack,\n",
      " ([1]unstack, [2]putdown): trace_1__1_unstack~_2_putdown,\n",
      " ([2]putdown, [4]putdown): trace_1__2_putdown~_4_putdown}\n"
     ]
    },
    {
     "data": {
      "text/markdown": [
       "### Trace 2"
      ],
      "text/plain": [
       "<IPython.core.display.Markdown object>"
      ]
     },
     "metadata": {},
     "output_type": "display_data"
    },
    {
     "name": "stdout",
     "output_type": "stream",
     "text": [
      "{([5]pickup, [6]stack): trace_2__5_pickup~_6_stack}\n"
     ]
    },
    {
     "data": {
      "text/markdown": [
       "## PO matrix with vars"
      ],
      "text/plain": [
       "<IPython.core.display.Markdown object>"
      ]
     },
     "metadata": {},
     "output_type": "display_data"
    },
    {
     "data": {
      "text/markdown": [
       "### Trace 0"
      ],
      "text/plain": [
       "<IPython.core.display.Markdown object>"
      ]
     },
     "metadata": {},
     "output_type": "display_data"
    },
    {
     "data": {
      "text/markdown": [
       "#### Obj A"
      ],
      "text/plain": [
       "<IPython.core.display.Markdown object>"
      ]
     },
     "metadata": {},
     "output_type": "display_data"
    },
    {
     "name": "stdout",
     "output_type": "stream",
     "text": [
      "╒══════════════╤════════════════╤════════════════╤═══════════════╤══════════════╕\n",
      "│              │   [1]unstack.1 │   [2]putdown.1 │   [7]pickup.1 │   [8]stack.1 │\n",
      "╞══════════════╪════════════════╪════════════════╪═══════════════╪══════════════╡\n",
      "│ [1]unstack.1 │            nan │              1 │             1 │            1 │\n",
      "├──────────────┼────────────────┼────────────────┼───────────────┼──────────────┤\n",
      "│ [2]putdown.1 │            nan │            nan │             1 │            1 │\n",
      "├──────────────┼────────────────┼────────────────┼───────────────┼──────────────┤\n",
      "│ [7]pickup.1  │            nan │            nan │           nan │            1 │\n",
      "├──────────────┼────────────────┼────────────────┼───────────────┼──────────────┤\n",
      "│ [8]stack.1   │            nan │            nan │           nan │          nan │\n",
      "╘══════════════╧════════════════╧════════════════╧═══════════════╧══════════════╛\n"
     ]
    },
    {
     "data": {
      "text/markdown": [
       "#### Obj B"
      ],
      "text/plain": [
       "<IPython.core.display.Markdown object>"
      ]
     },
     "metadata": {},
     "output_type": "display_data"
    },
    {
     "name": "stdout",
     "output_type": "stream",
     "text": [
      "╒══════════════╤════════════════╤═════════════════════════╤════════════════════════╤══════════════════════════╤════════════════════════╤═══════════════════════╕\n",
      "│              │   [1]unstack.2 │ [3]pickup.1             │ [4]stack.1             │ [5]unstack.1             │ [6]stack.1             │ [8]stack.2            │\n",
      "╞══════════════╪════════════════╪═════════════════════════╪════════════════════════╪══════════════════════════╪════════════════════════╪═══════════════════════╡\n",
      "│ [1]unstack.2 │            nan │ ([1]unstack, [3]pickup) │ ([1]unstack, [4]stack) │ ([1]unstack, [5]unstack) │ ([1]unstack, [6]stack) │ 1                     │\n",
      "├──────────────┼────────────────┼─────────────────────────┼────────────────────────┼──────────────────────────┼────────────────────────┼───────────────────────┤\n",
      "│ [3]pickup.1  │            nan │ nan                     │ ([3]pickup, [4]stack)  │ ([3]pickup, [5]unstack)  │ ([3]pickup, [6]stack)  │ ([3]pickup, [8]stack) │\n",
      "├──────────────┼────────────────┼─────────────────────────┼────────────────────────┼──────────────────────────┼────────────────────────┼───────────────────────┤\n",
      "│ [4]stack.1   │            nan │ nan                     │ nan                    │ 1                        │ 1                      │ 1                     │\n",
      "├──────────────┼────────────────┼─────────────────────────┼────────────────────────┼──────────────────────────┼────────────────────────┼───────────────────────┤\n",
      "│ [5]unstack.1 │            nan │ nan                     │ nan                    │ nan                      │ 1                      │ 1                     │\n",
      "├──────────────┼────────────────┼─────────────────────────┼────────────────────────┼──────────────────────────┼────────────────────────┼───────────────────────┤\n",
      "│ [6]stack.1   │            nan │ nan                     │ nan                    │ nan                      │ nan                    │ 1                     │\n",
      "├──────────────┼────────────────┼─────────────────────────┼────────────────────────┼──────────────────────────┼────────────────────────┼───────────────────────┤\n",
      "│ [8]stack.2   │            nan │ nan                     │ nan                    │ nan                      │ nan                    │ nan                   │\n",
      "╘══════════════╧════════════════╧═════════════════════════╧════════════════════════╧══════════════════════════╧════════════════════════╧═══════════════════════╛\n"
     ]
    },
    {
     "data": {
      "text/markdown": [
       "#### Obj C"
      ],
      "text/plain": [
       "<IPython.core.display.Markdown object>"
      ]
     },
     "metadata": {},
     "output_type": "display_data"
    },
    {
     "name": "stdout",
     "output_type": "stream",
     "text": [
      "╒══════════════╤══════════════╤════════════════╤══════════════╕\n",
      "│              │   [4]stack.2 │   [5]unstack.2 │   [6]stack.2 │\n",
      "╞══════════════╪══════════════╪════════════════╪══════════════╡\n",
      "│ [4]stack.2   │          nan │              1 │            1 │\n",
      "├──────────────┼──────────────┼────────────────┼──────────────┤\n",
      "│ [5]unstack.2 │          nan │            nan │            1 │\n",
      "├──────────────┼──────────────┼────────────────┼──────────────┤\n",
      "│ [6]stack.2   │          nan │            nan │          nan │\n",
      "╘══════════════╧══════════════╧════════════════╧══════════════╛\n"
     ]
    },
    {
     "data": {
      "text/markdown": [
       "### Trace 1"
      ],
      "text/plain": [
       "<IPython.core.display.Markdown object>"
      ]
     },
     "metadata": {},
     "output_type": "display_data"
    },
    {
     "data": {
      "text/markdown": [
       "#### Obj C"
      ],
      "text/plain": [
       "<IPython.core.display.Markdown object>"
      ]
     },
     "metadata": {},
     "output_type": "display_data"
    },
    {
     "name": "stdout",
     "output_type": "stream",
     "text": [
      "╒══════════════╤════════════════╤══════════════════════════╤════════════════════════╕\n",
      "│              │   [1]unstack.1 │ [2]putdown.1             │ [6]stack.2             │\n",
      "╞══════════════╪════════════════╪══════════════════════════╪════════════════════════╡\n",
      "│ [1]unstack.1 │            nan │ ([1]unstack, [2]putdown) │ ([1]unstack, [6]stack) │\n",
      "├──────────────┼────────────────┼──────────────────────────┼────────────────────────┤\n",
      "│ [2]putdown.1 │            nan │ nan                      │ 1                      │\n",
      "├──────────────┼────────────────┼──────────────────────────┼────────────────────────┤\n",
      "│ [6]stack.2   │            nan │ nan                      │ nan                    │\n",
      "╘══════════════╧════════════════╧══════════════════════════╧════════════════════════╛\n"
     ]
    },
    {
     "data": {
      "text/markdown": [
       "#### Obj B"
      ],
      "text/plain": [
       "<IPython.core.display.Markdown object>"
      ]
     },
     "metadata": {},
     "output_type": "display_data"
    },
    {
     "name": "stdout",
     "output_type": "stream",
     "text": [
      "╒══════════════╤════════════════╤══════════════════════════╤══════════════════════════╤═════════════════════════╤════════════════════════╤════════════════════════╕\n",
      "│              │   [1]unstack.2 │ [3]unstack.1             │ [4]putdown.1             │ [5]pickup.1             │ [6]stack.1             │ [8]stack.2             │\n",
      "╞══════════════╪════════════════╪══════════════════════════╪══════════════════════════╪═════════════════════════╪════════════════════════╪════════════════════════╡\n",
      "│ [1]unstack.2 │            nan │ ([1]unstack, [3]unstack) │ 1                        │ 1                       │ ([1]unstack, [6]stack) │ 1                      │\n",
      "├──────────────┼────────────────┼──────────────────────────┼──────────────────────────┼─────────────────────────┼────────────────────────┼────────────────────────┤\n",
      "│ [3]unstack.1 │            nan │ nan                      │ ([3]unstack, [4]putdown) │ ([3]unstack, [5]pickup) │ 1                      │ 1                      │\n",
      "├──────────────┼────────────────┼──────────────────────────┼──────────────────────────┼─────────────────────────┼────────────────────────┼────────────────────────┤\n",
      "│ [4]putdown.1 │            nan │ nan                      │ nan                      │ 1                       │ ([4]putdown, [6]stack) │ ([4]putdown, [8]stack) │\n",
      "├──────────────┼────────────────┼──────────────────────────┼──────────────────────────┼─────────────────────────┼────────────────────────┼────────────────────────┤\n",
      "│ [5]pickup.1  │            nan │ nan                      │ nan                      │ nan                     │ ([5]pickup, [6]stack)  │ ([5]pickup, [8]stack)  │\n",
      "├──────────────┼────────────────┼──────────────────────────┼──────────────────────────┼─────────────────────────┼────────────────────────┼────────────────────────┤\n",
      "│ [6]stack.1   │            nan │ nan                      │ nan                      │ nan                     │ nan                    │ 1                      │\n",
      "├──────────────┼────────────────┼──────────────────────────┼──────────────────────────┼─────────────────────────┼────────────────────────┼────────────────────────┤\n",
      "│ [8]stack.2   │            nan │ nan                      │ nan                      │ nan                     │ nan                    │ nan                    │\n",
      "╘══════════════╧════════════════╧══════════════════════════╧══════════════════════════╧═════════════════════════╧════════════════════════╧════════════════════════╛\n"
     ]
    },
    {
     "data": {
      "text/markdown": [
       "#### Obj A"
      ],
      "text/plain": [
       "<IPython.core.display.Markdown object>"
      ]
     },
     "metadata": {},
     "output_type": "display_data"
    },
    {
     "name": "stdout",
     "output_type": "stream",
     "text": [
      "╒══════════════╤════════════════╤═════════════════════════╤═══════════════════════╕\n",
      "│              │   [3]unstack.2 │ [7]pickup.1             │ [8]stack.1            │\n",
      "╞══════════════╪════════════════╪═════════════════════════╪═══════════════════════╡\n",
      "│ [3]unstack.2 │            nan │ ([3]unstack, [7]pickup) │ 1                     │\n",
      "├──────────────┼────────────────┼─────────────────────────┼───────────────────────┤\n",
      "│ [7]pickup.1  │            nan │ nan                     │ ([7]pickup, [8]stack) │\n",
      "├──────────────┼────────────────┼─────────────────────────┼───────────────────────┤\n",
      "│ [8]stack.1   │            nan │ nan                     │ nan                   │\n",
      "╘══════════════╧════════════════╧═════════════════════════╧═══════════════════════╛\n"
     ]
    },
    {
     "data": {
      "text/markdown": [
       "### Trace 2"
      ],
      "text/plain": [
       "<IPython.core.display.Markdown object>"
      ]
     },
     "metadata": {},
     "output_type": "display_data"
    },
    {
     "data": {
      "text/markdown": [
       "#### Obj C"
      ],
      "text/plain": [
       "<IPython.core.display.Markdown object>"
      ]
     },
     "metadata": {},
     "output_type": "display_data"
    },
    {
     "name": "stdout",
     "output_type": "stream",
     "text": [
      "╒══════════════╤════════════════╤══════════════╤══════════════╕\n",
      "│              │   [1]unstack.1 │   [2]stack.1 │   [6]stack.2 │\n",
      "╞══════════════╪════════════════╪══════════════╪══════════════╡\n",
      "│ [1]unstack.1 │            nan │            1 │            1 │\n",
      "├──────────────┼────────────────┼──────────────┼──────────────┤\n",
      "│ [2]stack.1   │            nan │          nan │            1 │\n",
      "├──────────────┼────────────────┼──────────────┼──────────────┤\n",
      "│ [6]stack.2   │            nan │          nan │          nan │\n",
      "╘══════════════╧════════════════╧══════════════╧══════════════╛\n"
     ]
    },
    {
     "data": {
      "text/markdown": [
       "#### Obj B"
      ],
      "text/plain": [
       "<IPython.core.display.Markdown object>"
      ]
     },
     "metadata": {},
     "output_type": "display_data"
    },
    {
     "name": "stdout",
     "output_type": "stream",
     "text": [
      "╒══════════════╤════════════════╤═══════════════╤════════════════╤═══════════════╤═══════════════════════╕\n",
      "│              │   [1]unstack.2 │   [3]pickup.1 │   [4]putdown.1 │   [5]pickup.1 │ [6]stack.1            │\n",
      "╞══════════════╪════════════════╪═══════════════╪════════════════╪═══════════════╪═══════════════════════╡\n",
      "│ [1]unstack.2 │            nan │             1 │              1 │             1 │ 1                     │\n",
      "├──────────────┼────────────────┼───────────────┼────────────────┼───────────────┼───────────────────────┤\n",
      "│ [3]pickup.1  │            nan │           nan │              1 │             1 │ 1                     │\n",
      "├──────────────┼────────────────┼───────────────┼────────────────┼───────────────┼───────────────────────┤\n",
      "│ [4]putdown.1 │            nan │           nan │            nan │             1 │ 1                     │\n",
      "├──────────────┼────────────────┼───────────────┼────────────────┼───────────────┼───────────────────────┤\n",
      "│ [5]pickup.1  │            nan │           nan │            nan │           nan │ ([5]pickup, [6]stack) │\n",
      "├──────────────┼────────────────┼───────────────┼────────────────┼───────────────┼───────────────────────┤\n",
      "│ [6]stack.1   │            nan │           nan │            nan │           nan │ nan                   │\n",
      "╘══════════════╧════════════════╧═══════════════╧════════════════╧═══════════════╧═══════════════════════╛\n"
     ]
    },
    {
     "data": {
      "text/markdown": [
       "#### Obj A"
      ],
      "text/plain": [
       "<IPython.core.display.Markdown object>"
      ]
     },
     "metadata": {},
     "output_type": "display_data"
    },
    {
     "name": "stdout",
     "output_type": "stream",
     "text": [
      "╒════════════╤══════════════╕\n",
      "│            │   [2]stack.2 │\n",
      "╞════════════╪══════════════╡\n",
      "│ [2]stack.2 │          nan │\n",
      "╘════════════╧══════════════╛\n"
     ]
    },
    {
     "data": {
      "text/markdown": [
       "## PO Constraints"
      ],
      "text/plain": [
       "<IPython.core.display.Markdown object>"
      ]
     },
     "metadata": {},
     "output_type": "display_data"
    },
    {
     "name": "stdout",
     "output_type": "stream",
     "text": [
      "╒══════════════════════════════════════════════════════════════════════════════════════════════════╤════════════════════════════════════════════════════════════════════════╤═════════════════════════════════════════╕\n",
      "│ Trace 0                                                                                          │ Trace 1                                                                │ Trace 2                                 │\n",
      "╞══════════════════════════════════════════════════════════════════════════════════════════════════╪════════════════════════════════════════════════════════════════════════╪═════════════════════════════════════════╡\n",
      "│ trace_0__1_unstack~_4_stack >= trace_0__1_unstack~_3_pickup + trace_0__3_pickup~_4_stack - 1     │ trace_1__1_unstack~_6_stack >= trace_1__1_unstack~_2_putdown + 1 - 1   │ 1 >= 1 + trace_2__5_pickup~_6_stack - 1 │\n",
      "├──────────────────────────────────────────────────────────────────────────────────────────────────┼────────────────────────────────────────────────────────────────────────┼─────────────────────────────────────────┤\n",
      "│ trace_0__1_unstack~_4_stack <= trace_0__1_unstack~_3_pickup + trace_0__3_pickup~_4_stack         │ trace_1__1_unstack~_6_stack <= trace_1__1_unstack~_2_putdown + 1       │ 1 <= 1 + trace_2__5_pickup~_6_stack     │\n",
      "├──────────────────────────────────────────────────────────────────────────────────────────────────┼────────────────────────────────────────────────────────────────────────┼─────────────────────────────────────────┤\n",
      "│ trace_0__1_unstack~_5_unstack >= trace_0__1_unstack~_3_pickup + trace_0__3_pickup~_5_unstack - 1 │ 1 >= trace_1__1_unstack~_3_unstack + trace_1__3_unstack~_4_putdown - 1 │ 1 >= 1 + trace_2__5_pickup~_6_stack - 1 │\n",
      "├──────────────────────────────────────────────────────────────────────────────────────────────────┼────────────────────────────────────────────────────────────────────────┼─────────────────────────────────────────┤\n",
      "│ trace_0__1_unstack~_5_unstack <= trace_0__1_unstack~_3_pickup + trace_0__3_pickup~_5_unstack     │ 1 <= trace_1__1_unstack~_3_unstack + trace_1__3_unstack~_4_putdown     │ 1 <= 1 + trace_2__5_pickup~_6_stack     │\n",
      "├──────────────────────────────────────────────────────────────────────────────────────────────────┼────────────────────────────────────────────────────────────────────────┼─────────────────────────────────────────┤\n",
      "│ trace_0__1_unstack~_6_stack >= trace_0__1_unstack~_3_pickup + trace_0__3_pickup~_6_stack - 1     │ 1 >= trace_1__1_unstack~_3_unstack + trace_1__3_unstack~_5_pickup - 1  │ 1 >= 1 + trace_2__5_pickup~_6_stack - 1 │\n",
      "├──────────────────────────────────────────────────────────────────────────────────────────────────┼────────────────────────────────────────────────────────────────────────┼─────────────────────────────────────────┤\n",
      "│ trace_0__1_unstack~_6_stack <= trace_0__1_unstack~_3_pickup + trace_0__3_pickup~_6_stack         │ 1 <= trace_1__1_unstack~_3_unstack + trace_1__3_unstack~_5_pickup      │ 1 <= 1 + trace_2__5_pickup~_6_stack     │\n",
      "├──────────────────────────────────────────────────────────────────────────────────────────────────┼────────────────────────────────────────────────────────────────────────┼─────────────────────────────────────────┤\n",
      "│ 1 >= trace_0__1_unstack~_3_pickup + trace_0__3_pickup~_8_stack - 1                               │ trace_1__1_unstack~_6_stack >= trace_1__1_unstack~_3_unstack + 1 - 1   │                                         │\n",
      "├──────────────────────────────────────────────────────────────────────────────────────────────────┼────────────────────────────────────────────────────────────────────────┼─────────────────────────────────────────┤\n",
      "│ 1 <= trace_0__1_unstack~_3_pickup + trace_0__3_pickup~_8_stack                                   │ trace_1__1_unstack~_6_stack <= trace_1__1_unstack~_3_unstack + 1       │                                         │\n",
      "├──────────────────────────────────────────────────────────────────────────────────────────────────┼────────────────────────────────────────────────────────────────────────┼─────────────────────────────────────────┤\n",
      "│ trace_0__1_unstack~_5_unstack >= trace_0__1_unstack~_4_stack + 1 - 1                             │ 1 >= trace_1__1_unstack~_3_unstack + 1 - 1                             │                                         │\n",
      "├──────────────────────────────────────────────────────────────────────────────────────────────────┼────────────────────────────────────────────────────────────────────────┼─────────────────────────────────────────┤\n",
      "│ trace_0__1_unstack~_5_unstack <= trace_0__1_unstack~_4_stack + 1                                 │ 1 <= trace_1__1_unstack~_3_unstack + 1                                 │                                         │\n",
      "├──────────────────────────────────────────────────────────────────────────────────────────────────┼────────────────────────────────────────────────────────────────────────┼─────────────────────────────────────────┤\n",
      "│ trace_0__1_unstack~_6_stack >= trace_0__1_unstack~_4_stack + 1 - 1                               │ trace_1__1_unstack~_6_stack >= 1 + trace_1__4_putdown~_6_stack - 1     │                                         │\n",
      "├──────────────────────────────────────────────────────────────────────────────────────────────────┼────────────────────────────────────────────────────────────────────────┼─────────────────────────────────────────┤\n",
      "│ trace_0__1_unstack~_6_stack <= trace_0__1_unstack~_4_stack + 1                                   │ trace_1__1_unstack~_6_stack <= 1 + trace_1__4_putdown~_6_stack         │                                         │\n",
      "├──────────────────────────────────────────────────────────────────────────────────────────────────┼────────────────────────────────────────────────────────────────────────┼─────────────────────────────────────────┤\n",
      "│ 1 >= trace_0__1_unstack~_4_stack + 1 - 1                                                         │ 1 >= 1 + trace_1__4_putdown~_8_stack - 1                               │                                         │\n",
      "├──────────────────────────────────────────────────────────────────────────────────────────────────┼────────────────────────────────────────────────────────────────────────┼─────────────────────────────────────────┤\n",
      "│ 1 <= trace_0__1_unstack~_4_stack + 1                                                             │ 1 <= 1 + trace_1__4_putdown~_8_stack                                   │                                         │\n",
      "├──────────────────────────────────────────────────────────────────────────────────────────────────┼────────────────────────────────────────────────────────────────────────┼─────────────────────────────────────────┤\n",
      "│ trace_0__1_unstack~_6_stack >= trace_0__1_unstack~_5_unstack + 1 - 1                             │ trace_1__1_unstack~_6_stack >= 1 + trace_1__5_pickup~_6_stack - 1      │                                         │\n",
      "├──────────────────────────────────────────────────────────────────────────────────────────────────┼────────────────────────────────────────────────────────────────────────┼─────────────────────────────────────────┤\n",
      "│ trace_0__1_unstack~_6_stack <= trace_0__1_unstack~_5_unstack + 1                                 │ trace_1__1_unstack~_6_stack <= 1 + trace_1__5_pickup~_6_stack          │                                         │\n",
      "├──────────────────────────────────────────────────────────────────────────────────────────────────┼────────────────────────────────────────────────────────────────────────┼─────────────────────────────────────────┤\n",
      "│ 1 >= trace_0__1_unstack~_5_unstack + 1 - 1                                                       │ 1 >= 1 + trace_1__5_pickup~_8_stack - 1                                │                                         │\n",
      "├──────────────────────────────────────────────────────────────────────────────────────────────────┼────────────────────────────────────────────────────────────────────────┼─────────────────────────────────────────┤\n",
      "│ 1 <= trace_0__1_unstack~_5_unstack + 1                                                           │ 1 <= 1 + trace_1__5_pickup~_8_stack                                    │                                         │\n",
      "├──────────────────────────────────────────────────────────────────────────────────────────────────┼────────────────────────────────────────────────────────────────────────┼─────────────────────────────────────────┤\n",
      "│ 1 >= trace_0__1_unstack~_6_stack + 1 - 1                                                         │ 1 >= trace_1__1_unstack~_6_stack + 1 - 1                               │                                         │\n",
      "├──────────────────────────────────────────────────────────────────────────────────────────────────┼────────────────────────────────────────────────────────────────────────┼─────────────────────────────────────────┤\n",
      "│ 1 <= trace_0__1_unstack~_6_stack + 1                                                             │ 1 <= trace_1__1_unstack~_6_stack + 1                                   │                                         │\n",
      "├──────────────────────────────────────────────────────────────────────────────────────────────────┼────────────────────────────────────────────────────────────────────────┼─────────────────────────────────────────┤\n",
      "│ trace_0__3_pickup~_5_unstack >= trace_0__3_pickup~_4_stack + 1 - 1                               │ trace_1__3_unstack~_5_pickup >= trace_1__3_unstack~_4_putdown + 1 - 1  │                                         │\n",
      "├──────────────────────────────────────────────────────────────────────────────────────────────────┼────────────────────────────────────────────────────────────────────────┼─────────────────────────────────────────┤\n",
      "│ trace_0__3_pickup~_5_unstack <= trace_0__3_pickup~_4_stack + 1                                   │ trace_1__3_unstack~_5_pickup <= trace_1__3_unstack~_4_putdown + 1      │                                         │\n",
      "├──────────────────────────────────────────────────────────────────────────────────────────────────┼────────────────────────────────────────────────────────────────────────┼─────────────────────────────────────────┤\n",
      "│ trace_0__3_pickup~_6_stack >= trace_0__3_pickup~_4_stack + 1 - 1                                 │ 1 >= trace_1__3_unstack~_4_putdown + trace_1__4_putdown~_6_stack - 1   │                                         │\n",
      "├──────────────────────────────────────────────────────────────────────────────────────────────────┼────────────────────────────────────────────────────────────────────────┼─────────────────────────────────────────┤\n",
      "│ trace_0__3_pickup~_6_stack <= trace_0__3_pickup~_4_stack + 1                                     │ 1 <= trace_1__3_unstack~_4_putdown + trace_1__4_putdown~_6_stack       │                                         │\n",
      "├──────────────────────────────────────────────────────────────────────────────────────────────────┼────────────────────────────────────────────────────────────────────────┼─────────────────────────────────────────┤\n",
      "│ trace_0__3_pickup~_8_stack >= trace_0__3_pickup~_4_stack + 1 - 1                                 │ 1 >= trace_1__3_unstack~_4_putdown + trace_1__4_putdown~_8_stack - 1   │                                         │\n",
      "├──────────────────────────────────────────────────────────────────────────────────────────────────┼────────────────────────────────────────────────────────────────────────┼─────────────────────────────────────────┤\n",
      "│ trace_0__3_pickup~_8_stack <= trace_0__3_pickup~_4_stack + 1                                     │ 1 <= trace_1__3_unstack~_4_putdown + trace_1__4_putdown~_8_stack       │                                         │\n",
      "├──────────────────────────────────────────────────────────────────────────────────────────────────┼────────────────────────────────────────────────────────────────────────┼─────────────────────────────────────────┤\n",
      "│ trace_0__3_pickup~_6_stack >= trace_0__3_pickup~_5_unstack + 1 - 1                               │ 1 >= trace_1__3_unstack~_5_pickup + trace_1__5_pickup~_6_stack - 1     │                                         │\n",
      "├──────────────────────────────────────────────────────────────────────────────────────────────────┼────────────────────────────────────────────────────────────────────────┼─────────────────────────────────────────┤\n",
      "│ trace_0__3_pickup~_6_stack <= trace_0__3_pickup~_5_unstack + 1                                   │ 1 <= trace_1__3_unstack~_5_pickup + trace_1__5_pickup~_6_stack         │                                         │\n",
      "├──────────────────────────────────────────────────────────────────────────────────────────────────┼────────────────────────────────────────────────────────────────────────┼─────────────────────────────────────────┤\n",
      "│ trace_0__3_pickup~_8_stack >= trace_0__3_pickup~_5_unstack + 1 - 1                               │ 1 >= trace_1__3_unstack~_5_pickup + trace_1__5_pickup~_8_stack - 1     │                                         │\n",
      "├──────────────────────────────────────────────────────────────────────────────────────────────────┼────────────────────────────────────────────────────────────────────────┼─────────────────────────────────────────┤\n",
      "│ trace_0__3_pickup~_8_stack <= trace_0__3_pickup~_5_unstack + 1                                   │ 1 <= trace_1__3_unstack~_5_pickup + trace_1__5_pickup~_8_stack         │                                         │\n",
      "├──────────────────────────────────────────────────────────────────────────────────────────────────┼────────────────────────────────────────────────────────────────────────┼─────────────────────────────────────────┤\n",
      "│ trace_0__3_pickup~_8_stack >= trace_0__3_pickup~_6_stack + 1 - 1                                 │ trace_1__4_putdown~_6_stack >= 1 + trace_1__5_pickup~_6_stack - 1      │                                         │\n",
      "├──────────────────────────────────────────────────────────────────────────────────────────────────┼────────────────────────────────────────────────────────────────────────┼─────────────────────────────────────────┤\n",
      "│ trace_0__3_pickup~_8_stack <= trace_0__3_pickup~_6_stack + 1                                     │ trace_1__4_putdown~_6_stack <= 1 + trace_1__5_pickup~_6_stack          │                                         │\n",
      "├──────────────────────────────────────────────────────────────────────────────────────────────────┼────────────────────────────────────────────────────────────────────────┼─────────────────────────────────────────┤\n",
      "│                                                                                                  │ trace_1__4_putdown~_8_stack >= 1 + trace_1__5_pickup~_8_stack - 1      │                                         │\n",
      "├──────────────────────────────────────────────────────────────────────────────────────────────────┼────────────────────────────────────────────────────────────────────────┼─────────────────────────────────────────┤\n",
      "│                                                                                                  │ trace_1__4_putdown~_8_stack <= 1 + trace_1__5_pickup~_8_stack          │                                         │\n",
      "├──────────────────────────────────────────────────────────────────────────────────────────────────┼────────────────────────────────────────────────────────────────────────┼─────────────────────────────────────────┤\n",
      "│                                                                                                  │ trace_1__4_putdown~_8_stack >= trace_1__4_putdown~_6_stack + 1 - 1     │                                         │\n",
      "├──────────────────────────────────────────────────────────────────────────────────────────────────┼────────────────────────────────────────────────────────────────────────┼─────────────────────────────────────────┤\n",
      "│                                                                                                  │ trace_1__4_putdown~_8_stack <= trace_1__4_putdown~_6_stack + 1         │                                         │\n",
      "├──────────────────────────────────────────────────────────────────────────────────────────────────┼────────────────────────────────────────────────────────────────────────┼─────────────────────────────────────────┤\n",
      "│                                                                                                  │ trace_1__5_pickup~_8_stack >= trace_1__5_pickup~_6_stack + 1 - 1       │                                         │\n",
      "├──────────────────────────────────────────────────────────────────────────────────────────────────┼────────────────────────────────────────────────────────────────────────┼─────────────────────────────────────────┤\n",
      "│                                                                                                  │ trace_1__5_pickup~_8_stack <= trace_1__5_pickup~_6_stack + 1           │                                         │\n",
      "├──────────────────────────────────────────────────────────────────────────────────────────────────┼────────────────────────────────────────────────────────────────────────┼─────────────────────────────────────────┤\n",
      "│                                                                                                  │ 1 >= trace_1__3_unstack~_7_pickup + trace_1__7_pickup~_8_stack - 1     │                                         │\n",
      "├──────────────────────────────────────────────────────────────────────────────────────────────────┼────────────────────────────────────────────────────────────────────────┼─────────────────────────────────────────┤\n",
      "│                                                                                                  │ 1 <= trace_1__3_unstack~_7_pickup + trace_1__7_pickup~_8_stack         │                                         │\n",
      "╘══════════════════════════════════════════════════════════════════════════════════════════════════╧════════════════════════════════════════════════════════════════════════╧═════════════════════════════════════════╛\n"
     ]
    }
   ],
   "source": [
    "prob, PO_vars_overall, PO_matrix_with_vars = POLOCM.polocm_step2(trace_PO_matrix_overall, obj_trace_PO_matrix_overall, debug=True)"
   ]
  },
  {
   "cell_type": "code",
   "execution_count": 8,
   "metadata": {},
   "outputs": [
    {
     "data": {
      "text/markdown": [
       "# Step 3"
      ],
      "text/plain": [
       "<IPython.core.display.Markdown object>"
      ]
     },
     "metadata": {},
     "output_type": "display_data"
    },
    {
     "data": {
      "text/markdown": [
       "## FO vars"
      ],
      "text/plain": [
       "<IPython.core.display.Markdown object>"
      ]
     },
     "metadata": {},
     "output_type": "display_data"
    },
    {
     "data": {
      "text/markdown": [
       "### Trace 0"
      ],
      "text/plain": [
       "<IPython.core.display.Markdown object>"
      ]
     },
     "metadata": {},
     "output_type": "display_data"
    },
    {
     "name": "stdout",
     "output_type": "stream",
     "text": [
      "╒══════════════════════════════╤═════════════╤═════════════╕\n",
      "│ unknown B                    │ unknown A   │ unknown C   │\n",
      "╞══════════════════════════════╪═════════════╪═════════════╡\n",
      "│ ([1]unstack.2, [3]pickup.1)  │             │             │\n",
      "├──────────────────────────────┼─────────────┼─────────────┤\n",
      "│ ([1]unstack.2, [4]stack.1)   │             │             │\n",
      "├──────────────────────────────┼─────────────┼─────────────┤\n",
      "│ ([1]unstack.2, [5]unstack.1) │             │             │\n",
      "├──────────────────────────────┼─────────────┼─────────────┤\n",
      "│ ([1]unstack.2, [6]stack.1)   │             │             │\n",
      "├──────────────────────────────┼─────────────┼─────────────┤\n",
      "│ ([1]unstack.2, [8]stack.2)   │             │             │\n",
      "├──────────────────────────────┼─────────────┼─────────────┤\n",
      "│ ([3]pickup.1, [4]stack.1)    │             │             │\n",
      "├──────────────────────────────┼─────────────┼─────────────┤\n",
      "│ ([3]pickup.1, [5]unstack.1)  │             │             │\n",
      "├──────────────────────────────┼─────────────┼─────────────┤\n",
      "│ ([3]pickup.1, [6]stack.1)    │             │             │\n",
      "├──────────────────────────────┼─────────────┼─────────────┤\n",
      "│ ([3]pickup.1, [8]stack.2)    │             │             │\n",
      "├──────────────────────────────┼─────────────┼─────────────┤\n",
      "│ ([4]stack.1, [5]unstack.1)   │             │             │\n",
      "├──────────────────────────────┼─────────────┼─────────────┤\n",
      "│ ([4]stack.1, [6]stack.1)     │             │             │\n",
      "├──────────────────────────────┼─────────────┼─────────────┤\n",
      "│ ([4]stack.1, [8]stack.2)     │             │             │\n",
      "├──────────────────────────────┼─────────────┼─────────────┤\n",
      "│ ([5]unstack.1, [6]stack.1)   │             │             │\n",
      "├──────────────────────────────┼─────────────┼─────────────┤\n",
      "│ ([5]unstack.1, [8]stack.2)   │             │             │\n",
      "├──────────────────────────────┼─────────────┼─────────────┤\n",
      "│ ([6]stack.1, [8]stack.2)     │             │             │\n",
      "╘══════════════════════════════╧═════════════╧═════════════╛\n"
     ]
    },
    {
     "data": {
      "text/markdown": [
       "### Trace 1"
      ],
      "text/plain": [
       "<IPython.core.display.Markdown object>"
      ]
     },
     "metadata": {},
     "output_type": "display_data"
    },
    {
     "name": "stdout",
     "output_type": "stream",
     "text": [
      "╒══════════════════════════════╤══════════════════════════════╤═════════════════════════════╕\n",
      "│ unknown C                    │ unknown B                    │ unknown A                   │\n",
      "╞══════════════════════════════╪══════════════════════════════╪═════════════════════════════╡\n",
      "│ ([1]unstack.1, [2]putdown.1) │ ([1]unstack.2, [3]unstack.1) │ ([3]unstack.2, [7]pickup.1) │\n",
      "├──────────────────────────────┼──────────────────────────────┼─────────────────────────────┤\n",
      "│ ([1]unstack.1, [6]stack.2)   │ ([1]unstack.2, [4]putdown.1) │ ([3]unstack.2, [8]stack.1)  │\n",
      "├──────────────────────────────┼──────────────────────────────┼─────────────────────────────┤\n",
      "│ ([2]putdown.1, [6]stack.2)   │ ([1]unstack.2, [5]pickup.1)  │ ([7]pickup.1, [8]stack.1)   │\n",
      "├──────────────────────────────┼──────────────────────────────┼─────────────────────────────┤\n",
      "│                              │ ([1]unstack.2, [6]stack.1)   │                             │\n",
      "├──────────────────────────────┼──────────────────────────────┼─────────────────────────────┤\n",
      "│                              │ ([1]unstack.2, [8]stack.2)   │                             │\n",
      "├──────────────────────────────┼──────────────────────────────┼─────────────────────────────┤\n",
      "│                              │ ([3]unstack.1, [4]putdown.1) │                             │\n",
      "├──────────────────────────────┼──────────────────────────────┼─────────────────────────────┤\n",
      "│                              │ ([3]unstack.1, [5]pickup.1)  │                             │\n",
      "├──────────────────────────────┼──────────────────────────────┼─────────────────────────────┤\n",
      "│                              │ ([3]unstack.1, [6]stack.1)   │                             │\n",
      "├──────────────────────────────┼──────────────────────────────┼─────────────────────────────┤\n",
      "│                              │ ([3]unstack.1, [8]stack.2)   │                             │\n",
      "├──────────────────────────────┼──────────────────────────────┼─────────────────────────────┤\n",
      "│                              │ ([4]putdown.1, [5]pickup.1)  │                             │\n",
      "├──────────────────────────────┼──────────────────────────────┼─────────────────────────────┤\n",
      "│                              │ ([4]putdown.1, [6]stack.1)   │                             │\n",
      "├──────────────────────────────┼──────────────────────────────┼─────────────────────────────┤\n",
      "│                              │ ([4]putdown.1, [8]stack.2)   │                             │\n",
      "├──────────────────────────────┼──────────────────────────────┼─────────────────────────────┤\n",
      "│                              │ ([5]pickup.1, [6]stack.1)    │                             │\n",
      "├──────────────────────────────┼──────────────────────────────┼─────────────────────────────┤\n",
      "│                              │ ([5]pickup.1, [8]stack.2)    │                             │\n",
      "├──────────────────────────────┼──────────────────────────────┼─────────────────────────────┤\n",
      "│                              │ ([6]stack.1, [8]stack.2)     │                             │\n",
      "╘══════════════════════════════╧══════════════════════════════╧═════════════════════════════╛\n"
     ]
    },
    {
     "data": {
      "text/markdown": [
       "### Trace 2"
      ],
      "text/plain": [
       "<IPython.core.display.Markdown object>"
      ]
     },
     "metadata": {},
     "output_type": "display_data"
    },
    {
     "name": "stdout",
     "output_type": "stream",
     "text": [
      "╒═════════════════════════════╤═════════════╤═════════════╕\n",
      "│ unknown B                   │ unknown C   │ unknown A   │\n",
      "╞═════════════════════════════╪═════════════╪═════════════╡\n",
      "│ ([4]putdown.1, [5]pickup.1) │             │             │\n",
      "├─────────────────────────────┼─────────────┼─────────────┤\n",
      "│ ([4]putdown.1, [6]stack.1)  │             │             │\n",
      "├─────────────────────────────┼─────────────┼─────────────┤\n",
      "│ ([5]pickup.1, [6]stack.1)   │             │             │\n",
      "╘═════════════════════════════╧═════════════╧═════════════╛\n"
     ]
    },
    {
     "data": {
      "text/markdown": [
       "## FO matrix with vars"
      ],
      "text/plain": [
       "<IPython.core.display.Markdown object>"
      ]
     },
     "metadata": {},
     "output_type": "display_data"
    },
    {
     "data": {
      "text/markdown": [
       "### Trace 0"
      ],
      "text/plain": [
       "<IPython.core.display.Markdown object>"
      ]
     },
     "metadata": {},
     "output_type": "display_data"
    },
    {
     "data": {
      "text/markdown": [
       "#### Obj A"
      ],
      "text/plain": [
       "<IPython.core.display.Markdown object>"
      ]
     },
     "metadata": {},
     "output_type": "display_data"
    },
    {
     "name": "stdout",
     "output_type": "stream",
     "text": [
      "╒══════════════╤════════════════╤════════════════╤═══════════════╤══════════════╕\n",
      "│              │   [1]unstack.1 │   [2]putdown.1 │   [7]pickup.1 │   [8]stack.1 │\n",
      "╞══════════════╪════════════════╪════════════════╪═══════════════╪══════════════╡\n",
      "│ [1]unstack.1 │            nan │              1 │             0 │            0 │\n",
      "├──────────────┼────────────────┼────────────────┼───────────────┼──────────────┤\n",
      "│ [2]putdown.1 │            nan │            nan │             1 │            0 │\n",
      "├──────────────┼────────────────┼────────────────┼───────────────┼──────────────┤\n",
      "│ [7]pickup.1  │            nan │            nan │           nan │            1 │\n",
      "├──────────────┼────────────────┼────────────────┼───────────────┼──────────────┤\n",
      "│ [8]stack.1   │            nan │            nan │           nan │          nan │\n",
      "╘══════════════╧════════════════╧════════════════╧═══════════════╧══════════════╛\n"
     ]
    },
    {
     "data": {
      "text/markdown": [
       "#### Obj B"
      ],
      "text/plain": [
       "<IPython.core.display.Markdown object>"
      ]
     },
     "metadata": {},
     "output_type": "display_data"
    },
    {
     "name": "stdout",
     "output_type": "stream",
     "text": [
      "╒══════════════╤════════════════╤═════════════════════════════╤════════════════════════════╤══════════════════════════════╤════════════════════════════╤════════════════════════════╕\n",
      "│              │   [1]unstack.2 │ [3]pickup.1                 │ [4]stack.1                 │ [5]unstack.1                 │ [6]stack.1                 │ [8]stack.2                 │\n",
      "╞══════════════╪════════════════╪═════════════════════════════╪════════════════════════════╪══════════════════════════════╪════════════════════════════╪════════════════════════════╡\n",
      "│ [1]unstack.2 │            nan │ ([1]unstack.2, [3]pickup.1) │ ([1]unstack.2, [4]stack.1) │ ([1]unstack.2, [5]unstack.1) │ ([1]unstack.2, [6]stack.1) │ ([1]unstack.2, [8]stack.2) │\n",
      "├──────────────┼────────────────┼─────────────────────────────┼────────────────────────────┼──────────────────────────────┼────────────────────────────┼────────────────────────────┤\n",
      "│ [3]pickup.1  │            nan │ nan                         │ ([3]pickup.1, [4]stack.1)  │ ([3]pickup.1, [5]unstack.1)  │ ([3]pickup.1, [6]stack.1)  │ ([3]pickup.1, [8]stack.2)  │\n",
      "├──────────────┼────────────────┼─────────────────────────────┼────────────────────────────┼──────────────────────────────┼────────────────────────────┼────────────────────────────┤\n",
      "│ [4]stack.1   │            nan │ nan                         │ nan                        │ ([4]stack.1, [5]unstack.1)   │ ([4]stack.1, [6]stack.1)   │ ([4]stack.1, [8]stack.2)   │\n",
      "├──────────────┼────────────────┼─────────────────────────────┼────────────────────────────┼──────────────────────────────┼────────────────────────────┼────────────────────────────┤\n",
      "│ [5]unstack.1 │            nan │ nan                         │ nan                        │ nan                          │ ([5]unstack.1, [6]stack.1) │ ([5]unstack.1, [8]stack.2) │\n",
      "├──────────────┼────────────────┼─────────────────────────────┼────────────────────────────┼──────────────────────────────┼────────────────────────────┼────────────────────────────┤\n",
      "│ [6]stack.1   │            nan │ nan                         │ nan                        │ nan                          │ nan                        │ ([6]stack.1, [8]stack.2)   │\n",
      "├──────────────┼────────────────┼─────────────────────────────┼────────────────────────────┼──────────────────────────────┼────────────────────────────┼────────────────────────────┤\n",
      "│ [8]stack.2   │            nan │ nan                         │ nan                        │ nan                          │ nan                        │ nan                        │\n",
      "╘══════════════╧════════════════╧═════════════════════════════╧════════════════════════════╧══════════════════════════════╧════════════════════════════╧════════════════════════════╛\n"
     ]
    },
    {
     "data": {
      "text/markdown": [
       "#### Obj C"
      ],
      "text/plain": [
       "<IPython.core.display.Markdown object>"
      ]
     },
     "metadata": {},
     "output_type": "display_data"
    },
    {
     "name": "stdout",
     "output_type": "stream",
     "text": [
      "╒══════════════╤══════════════╤════════════════╤══════════════╕\n",
      "│              │   [4]stack.2 │   [5]unstack.2 │   [6]stack.2 │\n",
      "╞══════════════╪══════════════╪════════════════╪══════════════╡\n",
      "│ [4]stack.2   │          nan │              1 │            0 │\n",
      "├──────────────┼──────────────┼────────────────┼──────────────┤\n",
      "│ [5]unstack.2 │          nan │            nan │            1 │\n",
      "├──────────────┼──────────────┼────────────────┼──────────────┤\n",
      "│ [6]stack.2   │          nan │            nan │          nan │\n",
      "╘══════════════╧══════════════╧════════════════╧══════════════╛\n"
     ]
    },
    {
     "data": {
      "text/markdown": [
       "### Trace 1"
      ],
      "text/plain": [
       "<IPython.core.display.Markdown object>"
      ]
     },
     "metadata": {},
     "output_type": "display_data"
    },
    {
     "data": {
      "text/markdown": [
       "#### Obj C"
      ],
      "text/plain": [
       "<IPython.core.display.Markdown object>"
      ]
     },
     "metadata": {},
     "output_type": "display_data"
    },
    {
     "name": "stdout",
     "output_type": "stream",
     "text": [
      "╒══════════════╤════════════════╤══════════════════════════════╤════════════════════════════╕\n",
      "│              │   [1]unstack.1 │ [2]putdown.1                 │ [6]stack.2                 │\n",
      "╞══════════════╪════════════════╪══════════════════════════════╪════════════════════════════╡\n",
      "│ [1]unstack.1 │            nan │ ([1]unstack.1, [2]putdown.1) │ ([1]unstack.1, [6]stack.2) │\n",
      "├──────────────┼────────────────┼──────────────────────────────┼────────────────────────────┤\n",
      "│ [2]putdown.1 │            nan │ nan                          │ ([2]putdown.1, [6]stack.2) │\n",
      "├──────────────┼────────────────┼──────────────────────────────┼────────────────────────────┤\n",
      "│ [6]stack.2   │            nan │ nan                          │ nan                        │\n",
      "╘══════════════╧════════════════╧══════════════════════════════╧════════════════════════════╛\n"
     ]
    },
    {
     "data": {
      "text/markdown": [
       "#### Obj B"
      ],
      "text/plain": [
       "<IPython.core.display.Markdown object>"
      ]
     },
     "metadata": {},
     "output_type": "display_data"
    },
    {
     "name": "stdout",
     "output_type": "stream",
     "text": [
      "╒══════════════╤════════════════╤══════════════════════════════╤══════════════════════════════╤═════════════════════════════╤════════════════════════════╤════════════════════════════╕\n",
      "│              │   [1]unstack.2 │ [3]unstack.1                 │ [4]putdown.1                 │ [5]pickup.1                 │ [6]stack.1                 │ [8]stack.2                 │\n",
      "╞══════════════╪════════════════╪══════════════════════════════╪══════════════════════════════╪═════════════════════════════╪════════════════════════════╪════════════════════════════╡\n",
      "│ [1]unstack.2 │            nan │ ([1]unstack.2, [3]unstack.1) │ ([1]unstack.2, [4]putdown.1) │ ([1]unstack.2, [5]pickup.1) │ ([1]unstack.2, [6]stack.1) │ ([1]unstack.2, [8]stack.2) │\n",
      "├──────────────┼────────────────┼──────────────────────────────┼──────────────────────────────┼─────────────────────────────┼────────────────────────────┼────────────────────────────┤\n",
      "│ [3]unstack.1 │            nan │ nan                          │ ([3]unstack.1, [4]putdown.1) │ ([3]unstack.1, [5]pickup.1) │ ([3]unstack.1, [6]stack.1) │ ([3]unstack.1, [8]stack.2) │\n",
      "├──────────────┼────────────────┼──────────────────────────────┼──────────────────────────────┼─────────────────────────────┼────────────────────────────┼────────────────────────────┤\n",
      "│ [4]putdown.1 │            nan │ nan                          │ nan                          │ ([4]putdown.1, [5]pickup.1) │ ([4]putdown.1, [6]stack.1) │ ([4]putdown.1, [8]stack.2) │\n",
      "├──────────────┼────────────────┼──────────────────────────────┼──────────────────────────────┼─────────────────────────────┼────────────────────────────┼────────────────────────────┤\n",
      "│ [5]pickup.1  │            nan │ nan                          │ nan                          │ nan                         │ ([5]pickup.1, [6]stack.1)  │ ([5]pickup.1, [8]stack.2)  │\n",
      "├──────────────┼────────────────┼──────────────────────────────┼──────────────────────────────┼─────────────────────────────┼────────────────────────────┼────────────────────────────┤\n",
      "│ [6]stack.1   │            nan │ nan                          │ nan                          │ nan                         │ nan                        │ ([6]stack.1, [8]stack.2)   │\n",
      "├──────────────┼────────────────┼──────────────────────────────┼──────────────────────────────┼─────────────────────────────┼────────────────────────────┼────────────────────────────┤\n",
      "│ [8]stack.2   │            nan │ nan                          │ nan                          │ nan                         │ nan                        │ nan                        │\n",
      "╘══════════════╧════════════════╧══════════════════════════════╧══════════════════════════════╧═════════════════════════════╧════════════════════════════╧════════════════════════════╛\n"
     ]
    },
    {
     "data": {
      "text/markdown": [
       "#### Obj A"
      ],
      "text/plain": [
       "<IPython.core.display.Markdown object>"
      ]
     },
     "metadata": {},
     "output_type": "display_data"
    },
    {
     "name": "stdout",
     "output_type": "stream",
     "text": [
      "╒══════════════╤════════════════╤═════════════════════════════╤════════════════════════════╕\n",
      "│              │   [3]unstack.2 │ [7]pickup.1                 │ [8]stack.1                 │\n",
      "╞══════════════╪════════════════╪═════════════════════════════╪════════════════════════════╡\n",
      "│ [3]unstack.2 │            nan │ ([3]unstack.2, [7]pickup.1) │ ([3]unstack.2, [8]stack.1) │\n",
      "├──────────────┼────────────────┼─────────────────────────────┼────────────────────────────┤\n",
      "│ [7]pickup.1  │            nan │ nan                         │ ([7]pickup.1, [8]stack.1)  │\n",
      "├──────────────┼────────────────┼─────────────────────────────┼────────────────────────────┤\n",
      "│ [8]stack.1   │            nan │ nan                         │ nan                        │\n",
      "╘══════════════╧════════════════╧═════════════════════════════╧════════════════════════════╛\n"
     ]
    },
    {
     "data": {
      "text/markdown": [
       "### Trace 2"
      ],
      "text/plain": [
       "<IPython.core.display.Markdown object>"
      ]
     },
     "metadata": {},
     "output_type": "display_data"
    },
    {
     "data": {
      "text/markdown": [
       "#### Obj C"
      ],
      "text/plain": [
       "<IPython.core.display.Markdown object>"
      ]
     },
     "metadata": {},
     "output_type": "display_data"
    },
    {
     "name": "stdout",
     "output_type": "stream",
     "text": [
      "╒══════════════╤════════════════╤══════════════╤══════════════╕\n",
      "│              │   [1]unstack.1 │   [2]stack.1 │   [6]stack.2 │\n",
      "╞══════════════╪════════════════╪══════════════╪══════════════╡\n",
      "│ [1]unstack.1 │            nan │            1 │            0 │\n",
      "├──────────────┼────────────────┼──────────────┼──────────────┤\n",
      "│ [2]stack.1   │            nan │          nan │            1 │\n",
      "├──────────────┼────────────────┼──────────────┼──────────────┤\n",
      "│ [6]stack.2   │            nan │          nan │          nan │\n",
      "╘══════════════╧════════════════╧══════════════╧══════════════╛\n"
     ]
    },
    {
     "data": {
      "text/markdown": [
       "#### Obj B"
      ],
      "text/plain": [
       "<IPython.core.display.Markdown object>"
      ]
     },
     "metadata": {},
     "output_type": "display_data"
    },
    {
     "name": "stdout",
     "output_type": "stream",
     "text": [
      "╒══════════════╤════════════════╤═══════════════╤════════════════╤═════════════════════════════╤════════════════════════════╕\n",
      "│              │   [1]unstack.2 │   [3]pickup.1 │   [4]putdown.1 │ [5]pickup.1                 │ [6]stack.1                 │\n",
      "╞══════════════╪════════════════╪═══════════════╪════════════════╪═════════════════════════════╪════════════════════════════╡\n",
      "│ [1]unstack.2 │            nan │             1 │              0 │ 0                           │ 0                          │\n",
      "├──────────────┼────────────────┼───────────────┼────────────────┼─────────────────────────────┼────────────────────────────┤\n",
      "│ [3]pickup.1  │            nan │           nan │              1 │ 0                           │ 0                          │\n",
      "├──────────────┼────────────────┼───────────────┼────────────────┼─────────────────────────────┼────────────────────────────┤\n",
      "│ [4]putdown.1 │            nan │           nan │            nan │ ([4]putdown.1, [5]pickup.1) │ ([4]putdown.1, [6]stack.1) │\n",
      "├──────────────┼────────────────┼───────────────┼────────────────┼─────────────────────────────┼────────────────────────────┤\n",
      "│ [5]pickup.1  │            nan │           nan │            nan │ nan                         │ ([5]pickup.1, [6]stack.1)  │\n",
      "├──────────────┼────────────────┼───────────────┼────────────────┼─────────────────────────────┼────────────────────────────┤\n",
      "│ [6]stack.1   │            nan │           nan │            nan │ nan                         │ nan                        │\n",
      "╘══════════════╧════════════════╧═══════════════╧════════════════╧═════════════════════════════╧════════════════════════════╛\n"
     ]
    },
    {
     "data": {
      "text/markdown": [
       "#### Obj A"
      ],
      "text/plain": [
       "<IPython.core.display.Markdown object>"
      ]
     },
     "metadata": {},
     "output_type": "display_data"
    },
    {
     "name": "stdout",
     "output_type": "stream",
     "text": [
      "╒════════════╤══════════════╕\n",
      "│            │   [2]stack.2 │\n",
      "╞════════════╪══════════════╡\n",
      "│ [2]stack.2 │          nan │\n",
      "╘════════════╧══════════════╛\n"
     ]
    },
    {
     "data": {
      "text/markdown": [
       "## FO Constraints"
      ],
      "text/plain": [
       "<IPython.core.display.Markdown object>"
      ]
     },
     "metadata": {},
     "output_type": "display_data"
    },
    {
     "name": "stdout",
     "output_type": "stream",
     "text": [
      "╒═══════════════════════════════════════════════════════════════════╤════════════════════════════════════════════════╤══════════════════════════════════════════════════════════════════════════════════════════════════════════════════════════════════════╤═══════════════════════════════════════════════════════════════════╤════════════════════════════════════════════════╤══════════════════════════════════════════════════════════════════════════════════════════════════════════════════════════════════════╤═════════════════════════════════════════════════════════════╤═══════════════════════════════════════════════╤══════════════════════════════════════════════════════════════════════════════════════════════════════════════╤══════════════════════════════════════════════════════════════════════════════════════════════════════════════════════════════════════════════════════════════════════════╤══════════════════════════════════════════════════════════════════════════════════════════════════════════════════════════════════════════════════════════════════╤════════════════════════════════════════════════════════════════════════════════════════════════════════════════════════════════════════════════════════════════════════════╤════════════════════════════════════════════════════════════════════════════════════════════════════════════════════════════════════════════════════════════════════╤════════════════════════════════════════════════════════════════════════╤════════════════════════════════════════════════════════════════════════════╕\n",
      "│ Trace 0 - Dependency                                              │ Trace 0 - AUX 0                                │ Trace 0 - AUX 1                                                                                                                      │ Trace 1 - Dependency                                              │ Trace 1 - AUX 0                                │ Trace 1 - AUX 1                                                                                                                      │ Trace 2 - Dependency                                        │ Trace 2 - AUX 0                               │ Trace 2 - AUX 1                                                                                              │ Trace 0 - ROWSUM                                                                                                                                                         │ Trace 0 - COLSUM                                                                                                                                                 │ Trace 1 - ROWSUM                                                                                                                                                           │ Trace 1 - COLSUM                                                                                                                                                   │ Trace 2 - ROWSUM                                                       │ Trace 2 - COLSUM                                                           │\n",
      "╞═══════════════════════════════════════════════════════════════════╪════════════════════════════════════════════════╪══════════════════════════════════════════════════════════════════════════════════════════════════════════════════════════════════════╪═══════════════════════════════════════════════════════════════════╪════════════════════════════════════════════════╪══════════════════════════════════════════════════════════════════════════════════════════════════════════════════════════════════════╪═════════════════════════════════════════════════════════════╪═══════════════════════════════════════════════╪══════════════════════════════════════════════════════════════════════════════════════════════════════════════╪══════════════════════════════════════════════════════════════════════════════════════════════════════════════════════════════════════════════════════════════════════════╪══════════════════════════════════════════════════════════════════════════════════════════════════════════════════════════════════════════════════════════════════╪════════════════════════════════════════════════════════════════════════════════════════════════════════════════════════════════════════════════════════════════════════════╪════════════════════════════════════════════════════════════════════════════════════════════════════════════════════════════════════════════════════════════════════╪════════════════════════════════════════════════════════════════════════╪════════════════════════════════════════════════════════════════════════════╡\n",
      "│ FO_0_B__1_unstack.2~_3_pickup.1 <= trace_0__1_unstack~_3_pickup   │ FO_0_B__1_unstack.2~_3_pickup.1 <= aux_i0j1x2  │ FO_0_B__1_unstack.2~_3_pickup.1 >= [aux_0_unknown_B_0_1_2, aux_0_unknown_B_0_1_3, aux_0_unknown_B_0_1_4, aux_0_unknown_B_0_1_5] - 3  │ FO_1_C__1_unstack.1~_2_putdown.1 <= trace_1__1_unstack~_2_putdown │ FO_1_C__1_unstack.1~_2_putdown.1 <= aux_i0j1x2 │ FO_1_C__1_unstack.1~_2_putdown.1 >= [aux_1_unknown_C_0_1_2] - 0                                                                      │ FO_2_B__4_putdown.1~_5_pickup.1 <= 1                        │ FO_2_B__4_putdown.1~_5_pickup.1 <= aux_i2j3x0 │ FO_2_B__4_putdown.1~_5_pickup.1 >= [aux_2_unknown_B_2_3_0, aux_2_unknown_B_2_3_1, aux_2_unknown_B_2_3_4] - 2 │ [1, 0, 0] == 1                                                                                                                                                           │ [1] == 1                                                                                                                                                         │ [FO_1_C__1_unstack.1~_2_putdown.1, FO_1_C__1_unstack.1~_6_stack.2] == 1                                                                                                    │ [FO_1_C__1_unstack.1~_2_putdown.1] == 1                                                                                                                            │ [1, 0] == 1                                                            │ [1] == 1                                                                   │\n",
      "├───────────────────────────────────────────────────────────────────┼────────────────────────────────────────────────┼──────────────────────────────────────────────────────────────────────────────────────────────────────────────────────────────────────┼───────────────────────────────────────────────────────────────────┼────────────────────────────────────────────────┼──────────────────────────────────────────────────────────────────────────────────────────────────────────────────────────────────────┼─────────────────────────────────────────────────────────────┼───────────────────────────────────────────────┼──────────────────────────────────────────────────────────────────────────────────────────────────────────────┼──────────────────────────────────────────────────────────────────────────────────────────────────────────────────────────────────────────────────────────────────────────┼──────────────────────────────────────────────────────────────────────────────────────────────────────────────────────────────────────────────────────────────────┼────────────────────────────────────────────────────────────────────────────────────────────────────────────────────────────────────────────────────────────────────────────┼────────────────────────────────────────────────────────────────────────────────────────────────────────────────────────────────────────────────────────────────────┼────────────────────────────────────────────────────────────────────────┼────────────────────────────────────────────────────────────────────────────┤\n",
      "│ FO_0_B__1_unstack.2~_4_stack.1 <= trace_0__1_unstack~_4_stack     │ FO_0_B__1_unstack.2~_3_pickup.1 <= aux_i0j1x3  │ FO_0_B__1_unstack.2~_4_stack.1 >= [aux_0_unknown_B_0_2_1, aux_0_unknown_B_0_2_3, aux_0_unknown_B_0_2_4, aux_0_unknown_B_0_2_5] - 3   │ FO_1_C__1_unstack.1~_6_stack.2 <= trace_1__1_unstack~_6_stack     │ FO_1_C__1_unstack.1~_6_stack.2 <= aux_i0j2x1   │ FO_1_C__1_unstack.1~_6_stack.2 >= [aux_1_unknown_C_0_2_1] - 0                                                                        │ FO_2_B__4_putdown.1~_6_stack.1 <= 1                         │ FO_2_B__4_putdown.1~_5_pickup.1 <= aux_i2j3x1 │ FO_2_B__4_putdown.1~_6_stack.1 >= [aux_2_unknown_B_2_4_0, aux_2_unknown_B_2_4_1, aux_2_unknown_B_2_4_3] - 2  │ [1, 0] == 1                                                                                                                                                              │ [0, 1] == 1                                                                                                                                                      │ [FO_1_C__2_putdown.1~_6_stack.2] == 1                                                                                                                                      │ [FO_1_C__1_unstack.1~_6_stack.2, FO_1_C__2_putdown.1~_6_stack.2] == 1                                                                                              │ [1] == 1                                                               │ [0, 1] == 1                                                                │\n",
      "├───────────────────────────────────────────────────────────────────┼────────────────────────────────────────────────┼──────────────────────────────────────────────────────────────────────────────────────────────────────────────────────────────────────┼───────────────────────────────────────────────────────────────────┼────────────────────────────────────────────────┼──────────────────────────────────────────────────────────────────────────────────────────────────────────────────────────────────────┼─────────────────────────────────────────────────────────────┼───────────────────────────────────────────────┼──────────────────────────────────────────────────────────────────────────────────────────────────────────────┼──────────────────────────────────────────────────────────────────────────────────────────────────────────────────────────────────────────────────────────────────────────┼──────────────────────────────────────────────────────────────────────────────────────────────────────────────────────────────────────────────────────────────────┼────────────────────────────────────────────────────────────────────────────────────────────────────────────────────────────────────────────────────────────────────────────┼────────────────────────────────────────────────────────────────────────────────────────────────────────────────────────────────────────────────────────────────────┼────────────────────────────────────────────────────────────────────────┼────────────────────────────────────────────────────────────────────────────┤\n",
      "│ FO_0_B__1_unstack.2~_5_unstack.1 <= trace_0__1_unstack~_5_unstack │ FO_0_B__1_unstack.2~_3_pickup.1 <= aux_i0j1x4  │ FO_0_B__1_unstack.2~_5_unstack.1 >= [aux_0_unknown_B_0_3_1, aux_0_unknown_B_0_3_2, aux_0_unknown_B_0_3_4, aux_0_unknown_B_0_3_5] - 3 │ FO_1_C__2_putdown.1~_6_stack.2 <= 1                               │ FO_1_C__2_putdown.1~_6_stack.2 <= aux_i1j2x0   │ FO_1_C__2_putdown.1~_6_stack.2 >= [aux_1_unknown_C_1_2_0] - 0                                                                        │ FO_2_B__5_pickup.1~_6_stack.1 <= trace_2__5_pickup~_6_stack │ FO_2_B__4_putdown.1~_5_pickup.1 <= aux_i2j3x4 │ FO_2_B__5_pickup.1~_6_stack.1 >= [aux_2_unknown_B_3_4_0, aux_2_unknown_B_3_4_1, aux_2_unknown_B_3_4_2] - 2   │ [1] == 1                                                                                                                                                                 │ [0, 0, 1] == 1                                                                                                                                                   │ [FO_1_B__1_unstack.2~_3_unstack.1, FO_1_B__1_unstack.2~_4_putdown.1, FO_1_B__1_unstack.2~_5_pickup.1, FO_1_B__1_unstack.2~_6_stack.1, FO_1_B__1_unstack.2~_8_stack.2] == 1 │ [FO_1_B__1_unstack.2~_3_unstack.1] == 1                                                                                                                            │ [1, 0, 0, 0] == 1                                                      │ [1] == 1                                                                   │\n",
      "├───────────────────────────────────────────────────────────────────┼────────────────────────────────────────────────┼──────────────────────────────────────────────────────────────────────────────────────────────────────────────────────────────────────┼───────────────────────────────────────────────────────────────────┼────────────────────────────────────────────────┼──────────────────────────────────────────────────────────────────────────────────────────────────────────────────────────────────────┼─────────────────────────────────────────────────────────────┼───────────────────────────────────────────────┼──────────────────────────────────────────────────────────────────────────────────────────────────────────────┼──────────────────────────────────────────────────────────────────────────────────────────────────────────────────────────────────────────────────────────────────────────┼──────────────────────────────────────────────────────────────────────────────────────────────────────────────────────────────────────────────────────────────────┼────────────────────────────────────────────────────────────────────────────────────────────────────────────────────────────────────────────────────────────────────────────┼────────────────────────────────────────────────────────────────────────────────────────────────────────────────────────────────────────────────────────────────────┼────────────────────────────────────────────────────────────────────────┼────────────────────────────────────────────────────────────────────────────┤\n",
      "│ FO_0_B__1_unstack.2~_6_stack.1 <= trace_0__1_unstack~_6_stack     │ FO_0_B__1_unstack.2~_3_pickup.1 <= aux_i0j1x5  │ FO_0_B__1_unstack.2~_6_stack.1 >= [aux_0_unknown_B_0_4_1, aux_0_unknown_B_0_4_2, aux_0_unknown_B_0_4_3, aux_0_unknown_B_0_4_5] - 3   │ FO_1_B__1_unstack.2~_3_unstack.1 <= trace_1__1_unstack~_3_unstack │ FO_1_B__1_unstack.2~_3_unstack.1 <= aux_i0j1x2 │ FO_1_B__1_unstack.2~_3_unstack.1 >= [aux_1_unknown_B_0_1_2, aux_1_unknown_B_0_1_3, aux_1_unknown_B_0_1_4, aux_1_unknown_B_0_1_5] - 3 │                                                             │ FO_2_B__4_putdown.1~_6_stack.1 <= aux_i2j4x0  │                                                                                                              │ [FO_0_B__1_unstack.2~_3_pickup.1, FO_0_B__1_unstack.2~_4_stack.1, FO_0_B__1_unstack.2~_5_unstack.1, FO_0_B__1_unstack.2~_6_stack.1, FO_0_B__1_unstack.2~_8_stack.2] == 1 │ [FO_0_B__1_unstack.2~_3_pickup.1] == 1                                                                                                                           │ [FO_1_B__3_unstack.1~_4_putdown.1, FO_1_B__3_unstack.1~_5_pickup.1, FO_1_B__3_unstack.1~_6_stack.1, FO_1_B__3_unstack.1~_8_stack.2] == 1                                   │ [FO_1_B__1_unstack.2~_4_putdown.1, FO_1_B__3_unstack.1~_4_putdown.1] == 1                                                                                          │ [1, 0, 0] == 1                                                         │ [0, 1] == 1                                                                │\n",
      "├───────────────────────────────────────────────────────────────────┼────────────────────────────────────────────────┼──────────────────────────────────────────────────────────────────────────────────────────────────────────────────────────────────────┼───────────────────────────────────────────────────────────────────┼────────────────────────────────────────────────┼──────────────────────────────────────────────────────────────────────────────────────────────────────────────────────────────────────┼─────────────────────────────────────────────────────────────┼───────────────────────────────────────────────┼──────────────────────────────────────────────────────────────────────────────────────────────────────────────┼──────────────────────────────────────────────────────────────────────────────────────────────────────────────────────────────────────────────────────────────────────────┼──────────────────────────────────────────────────────────────────────────────────────────────────────────────────────────────────────────────────────────────────┼────────────────────────────────────────────────────────────────────────────────────────────────────────────────────────────────────────────────────────────────────────────┼────────────────────────────────────────────────────────────────────────────────────────────────────────────────────────────────────────────────────────────────────┼────────────────────────────────────────────────────────────────────────┼────────────────────────────────────────────────────────────────────────────┤\n",
      "│ FO_0_B__1_unstack.2~_8_stack.2 <= 1                               │ FO_0_B__1_unstack.2~_4_stack.1 <= aux_i0j2x1   │ FO_0_B__1_unstack.2~_8_stack.2 >= [aux_0_unknown_B_0_5_1, aux_0_unknown_B_0_5_2, aux_0_unknown_B_0_5_3, aux_0_unknown_B_0_5_4] - 3   │ FO_1_B__1_unstack.2~_4_putdown.1 <= 1                             │ FO_1_B__1_unstack.2~_3_unstack.1 <= aux_i0j1x3 │ FO_1_B__1_unstack.2~_4_putdown.1 >= [aux_1_unknown_B_0_2_1, aux_1_unknown_B_0_2_3, aux_1_unknown_B_0_2_4, aux_1_unknown_B_0_2_5] - 3 │                                                             │ FO_2_B__4_putdown.1~_6_stack.1 <= aux_i2j4x1  │                                                                                                              │ [FO_0_B__3_pickup.1~_4_stack.1, FO_0_B__3_pickup.1~_5_unstack.1, FO_0_B__3_pickup.1~_6_stack.1, FO_0_B__3_pickup.1~_8_stack.2] == 1                                      │ [FO_0_B__1_unstack.2~_4_stack.1, FO_0_B__3_pickup.1~_4_stack.1] == 1                                                                                             │ [FO_1_B__4_putdown.1~_5_pickup.1, FO_1_B__4_putdown.1~_6_stack.1, FO_1_B__4_putdown.1~_8_stack.2] == 1                                                                     │ [FO_1_B__1_unstack.2~_5_pickup.1, FO_1_B__3_unstack.1~_5_pickup.1, FO_1_B__4_putdown.1~_5_pickup.1] == 1                                                           │ [FO_2_B__4_putdown.1~_5_pickup.1, FO_2_B__4_putdown.1~_6_stack.1] == 1 │ [0, 0, FO_2_B__4_putdown.1~_5_pickup.1] == 1                               │\n",
      "├───────────────────────────────────────────────────────────────────┼────────────────────────────────────────────────┼──────────────────────────────────────────────────────────────────────────────────────────────────────────────────────────────────────┼───────────────────────────────────────────────────────────────────┼────────────────────────────────────────────────┼──────────────────────────────────────────────────────────────────────────────────────────────────────────────────────────────────────┼─────────────────────────────────────────────────────────────┼───────────────────────────────────────────────┼──────────────────────────────────────────────────────────────────────────────────────────────────────────────┼──────────────────────────────────────────────────────────────────────────────────────────────────────────────────────────────────────────────────────────────────────────┼──────────────────────────────────────────────────────────────────────────────────────────────────────────────────────────────────────────────────────────────────┼────────────────────────────────────────────────────────────────────────────────────────────────────────────────────────────────────────────────────────────────────────────┼────────────────────────────────────────────────────────────────────────────────────────────────────────────────────────────────────────────────────────────────────┼────────────────────────────────────────────────────────────────────────┼────────────────────────────────────────────────────────────────────────────┤\n",
      "│ FO_0_B__3_pickup.1~_4_stack.1 <= trace_0__3_pickup~_4_stack       │ FO_0_B__1_unstack.2~_4_stack.1 <= aux_i0j2x3   │ FO_0_B__3_pickup.1~_4_stack.1 >= [aux_0_unknown_B_1_2_0, aux_0_unknown_B_1_2_3, aux_0_unknown_B_1_2_4, aux_0_unknown_B_1_2_5] - 3    │ FO_1_B__1_unstack.2~_5_pickup.1 <= 1                              │ FO_1_B__1_unstack.2~_3_unstack.1 <= aux_i0j1x4 │ FO_1_B__1_unstack.2~_5_pickup.1 >= [aux_1_unknown_B_0_3_1, aux_1_unknown_B_0_3_2, aux_1_unknown_B_0_3_4, aux_1_unknown_B_0_3_5] - 3  │                                                             │ FO_2_B__4_putdown.1~_6_stack.1 <= aux_i2j4x3  │                                                                                                              │ [FO_0_B__4_stack.1~_5_unstack.1, FO_0_B__4_stack.1~_6_stack.1, FO_0_B__4_stack.1~_8_stack.2] == 1                                                                        │ [FO_0_B__1_unstack.2~_5_unstack.1, FO_0_B__3_pickup.1~_5_unstack.1, FO_0_B__4_stack.1~_5_unstack.1] == 1                                                         │ [FO_1_B__5_pickup.1~_6_stack.1, FO_1_B__5_pickup.1~_8_stack.2] == 1                                                                                                        │ [FO_1_B__1_unstack.2~_6_stack.1, FO_1_B__3_unstack.1~_6_stack.1, FO_1_B__4_putdown.1~_6_stack.1, FO_1_B__5_pickup.1~_6_stack.1] == 1                               │ [FO_2_B__5_pickup.1~_6_stack.1] == 1                                   │ [0, 0, FO_2_B__4_putdown.1~_6_stack.1, FO_2_B__5_pickup.1~_6_stack.1] == 1 │\n",
      "├───────────────────────────────────────────────────────────────────┼────────────────────────────────────────────────┼──────────────────────────────────────────────────────────────────────────────────────────────────────────────────────────────────────┼───────────────────────────────────────────────────────────────────┼────────────────────────────────────────────────┼──────────────────────────────────────────────────────────────────────────────────────────────────────────────────────────────────────┼─────────────────────────────────────────────────────────────┼───────────────────────────────────────────────┼──────────────────────────────────────────────────────────────────────────────────────────────────────────────┼──────────────────────────────────────────────────────────────────────────────────────────────────────────────────────────────────────────────────────────────────────────┼──────────────────────────────────────────────────────────────────────────────────────────────────────────────────────────────────────────────────────────────────┼────────────────────────────────────────────────────────────────────────────────────────────────────────────────────────────────────────────────────────────────────────────┼────────────────────────────────────────────────────────────────────────────────────────────────────────────────────────────────────────────────────────────────────┼────────────────────────────────────────────────────────────────────────┼────────────────────────────────────────────────────────────────────────────┤\n",
      "│ FO_0_B__3_pickup.1~_5_unstack.1 <= trace_0__3_pickup~_5_unstack   │ FO_0_B__1_unstack.2~_4_stack.1 <= aux_i0j2x4   │ FO_0_B__3_pickup.1~_5_unstack.1 >= [aux_0_unknown_B_1_3_0, aux_0_unknown_B_1_3_2, aux_0_unknown_B_1_3_4, aux_0_unknown_B_1_3_5] - 3  │ FO_1_B__1_unstack.2~_6_stack.1 <= trace_1__1_unstack~_6_stack     │ FO_1_B__1_unstack.2~_3_unstack.1 <= aux_i0j1x5 │ FO_1_B__1_unstack.2~_6_stack.1 >= [aux_1_unknown_B_0_4_1, aux_1_unknown_B_0_4_2, aux_1_unknown_B_0_4_3, aux_1_unknown_B_0_4_5] - 3   │                                                             │ FO_2_B__5_pickup.1~_6_stack.1 <= aux_i3j4x0   │                                                                                                              │ [FO_0_B__5_unstack.1~_6_stack.1, FO_0_B__5_unstack.1~_8_stack.2] == 1                                                                                                    │ [FO_0_B__1_unstack.2~_6_stack.1, FO_0_B__3_pickup.1~_6_stack.1, FO_0_B__4_stack.1~_6_stack.1, FO_0_B__5_unstack.1~_6_stack.1] == 1                               │ [FO_1_B__6_stack.1~_8_stack.2] == 1                                                                                                                                        │ [FO_1_B__1_unstack.2~_8_stack.2, FO_1_B__3_unstack.1~_8_stack.2, FO_1_B__4_putdown.1~_8_stack.2, FO_1_B__5_pickup.1~_8_stack.2, FO_1_B__6_stack.1~_8_stack.2] == 1 │                                                                        │                                                                            │\n",
      "├───────────────────────────────────────────────────────────────────┼────────────────────────────────────────────────┼──────────────────────────────────────────────────────────────────────────────────────────────────────────────────────────────────────┼───────────────────────────────────────────────────────────────────┼────────────────────────────────────────────────┼──────────────────────────────────────────────────────────────────────────────────────────────────────────────────────────────────────┼─────────────────────────────────────────────────────────────┼───────────────────────────────────────────────┼──────────────────────────────────────────────────────────────────────────────────────────────────────────────┼──────────────────────────────────────────────────────────────────────────────────────────────────────────────────────────────────────────────────────────────────────────┼──────────────────────────────────────────────────────────────────────────────────────────────────────────────────────────────────────────────────────────────────┼────────────────────────────────────────────────────────────────────────────────────────────────────────────────────────────────────────────────────────────────────────────┼────────────────────────────────────────────────────────────────────────────────────────────────────────────────────────────────────────────────────────────────────┼────────────────────────────────────────────────────────────────────────┼────────────────────────────────────────────────────────────────────────────┤\n",
      "│ FO_0_B__3_pickup.1~_6_stack.1 <= trace_0__3_pickup~_6_stack       │ FO_0_B__1_unstack.2~_4_stack.1 <= aux_i0j2x5   │ FO_0_B__3_pickup.1~_6_stack.1 >= [aux_0_unknown_B_1_4_0, aux_0_unknown_B_1_4_2, aux_0_unknown_B_1_4_3, aux_0_unknown_B_1_4_5] - 3    │ FO_1_B__1_unstack.2~_8_stack.2 <= 1                               │ FO_1_B__1_unstack.2~_4_putdown.1 <= aux_i0j2x1 │ FO_1_B__1_unstack.2~_8_stack.2 >= [aux_1_unknown_B_0_5_1, aux_1_unknown_B_0_5_2, aux_1_unknown_B_0_5_3, aux_1_unknown_B_0_5_4] - 3   │                                                             │ FO_2_B__5_pickup.1~_6_stack.1 <= aux_i3j4x1   │                                                                                                              │ [FO_0_B__6_stack.1~_8_stack.2] == 1                                                                                                                                      │ [FO_0_B__1_unstack.2~_8_stack.2, FO_0_B__3_pickup.1~_8_stack.2, FO_0_B__4_stack.1~_8_stack.2, FO_0_B__5_unstack.1~_8_stack.2, FO_0_B__6_stack.1~_8_stack.2] == 1 │ [FO_1_A__3_unstack.2~_7_pickup.1, FO_1_A__3_unstack.2~_8_stack.1] == 1                                                                                                     │ [FO_1_A__3_unstack.2~_7_pickup.1] == 1                                                                                                                             │                                                                        │                                                                            │\n",
      "├───────────────────────────────────────────────────────────────────┼────────────────────────────────────────────────┼──────────────────────────────────────────────────────────────────────────────────────────────────────────────────────────────────────┼───────────────────────────────────────────────────────────────────┼────────────────────────────────────────────────┼──────────────────────────────────────────────────────────────────────────────────────────────────────────────────────────────────────┼─────────────────────────────────────────────────────────────┼───────────────────────────────────────────────┼──────────────────────────────────────────────────────────────────────────────────────────────────────────────┼──────────────────────────────────────────────────────────────────────────────────────────────────────────────────────────────────────────────────────────────────────────┼──────────────────────────────────────────────────────────────────────────────────────────────────────────────────────────────────────────────────────────────────┼────────────────────────────────────────────────────────────────────────────────────────────────────────────────────────────────────────────────────────────────────────────┼────────────────────────────────────────────────────────────────────────────────────────────────────────────────────────────────────────────────────────────────────┼────────────────────────────────────────────────────────────────────────┼────────────────────────────────────────────────────────────────────────────┤\n",
      "│ FO_0_B__3_pickup.1~_8_stack.2 <= trace_0__3_pickup~_8_stack       │ FO_0_B__1_unstack.2~_5_unstack.1 <= aux_i0j3x1 │ FO_0_B__3_pickup.1~_8_stack.2 >= [aux_0_unknown_B_1_5_0, aux_0_unknown_B_1_5_2, aux_0_unknown_B_1_5_3, aux_0_unknown_B_1_5_4] - 3    │ FO_1_B__3_unstack.1~_4_putdown.1 <= trace_1__3_unstack~_4_putdown │ FO_1_B__1_unstack.2~_4_putdown.1 <= aux_i0j2x3 │ FO_1_B__3_unstack.1~_4_putdown.1 >= [aux_1_unknown_B_1_2_0, aux_1_unknown_B_1_2_3, aux_1_unknown_B_1_2_4, aux_1_unknown_B_1_2_5] - 3 │                                                             │ FO_2_B__5_pickup.1~_6_stack.1 <= aux_i3j4x2   │                                                                                                              │ [1, 0] == 1                                                                                                                                                              │ [1] == 1                                                                                                                                                         │ [FO_1_A__7_pickup.1~_8_stack.1] == 1                                                                                                                                       │ [FO_1_A__3_unstack.2~_8_stack.1, FO_1_A__7_pickup.1~_8_stack.1] == 1                                                                                               │                                                                        │                                                                            │\n",
      "├───────────────────────────────────────────────────────────────────┼────────────────────────────────────────────────┼──────────────────────────────────────────────────────────────────────────────────────────────────────────────────────────────────────┼───────────────────────────────────────────────────────────────────┼────────────────────────────────────────────────┼──────────────────────────────────────────────────────────────────────────────────────────────────────────────────────────────────────┼─────────────────────────────────────────────────────────────┼───────────────────────────────────────────────┼──────────────────────────────────────────────────────────────────────────────────────────────────────────────┼──────────────────────────────────────────────────────────────────────────────────────────────────────────────────────────────────────────────────────────────────────────┼──────────────────────────────────────────────────────────────────────────────────────────────────────────────────────────────────────────────────────────────────┼────────────────────────────────────────────────────────────────────────────────────────────────────────────────────────────────────────────────────────────────────────────┼────────────────────────────────────────────────────────────────────────────────────────────────────────────────────────────────────────────────────────────────────┼────────────────────────────────────────────────────────────────────────┼────────────────────────────────────────────────────────────────────────────┤\n",
      "│ FO_0_B__4_stack.1~_5_unstack.1 <= 1                               │ FO_0_B__1_unstack.2~_5_unstack.1 <= aux_i0j3x2 │ FO_0_B__4_stack.1~_5_unstack.1 >= [aux_0_unknown_B_2_3_0, aux_0_unknown_B_2_3_1, aux_0_unknown_B_2_3_4, aux_0_unknown_B_2_3_5] - 3   │ FO_1_B__3_unstack.1~_5_pickup.1 <= trace_1__3_unstack~_5_pickup   │ FO_1_B__1_unstack.2~_4_putdown.1 <= aux_i0j2x4 │ FO_1_B__3_unstack.1~_5_pickup.1 >= [aux_1_unknown_B_1_3_0, aux_1_unknown_B_1_3_2, aux_1_unknown_B_1_3_4, aux_1_unknown_B_1_3_5] - 3  │                                                             │                                               │                                                                                                              │ [1] == 1                                                                                                                                                                 │ [0, 1] == 1                                                                                                                                                      │                                                                                                                                                                            │                                                                                                                                                                    │                                                                        │                                                                            │\n",
      "├───────────────────────────────────────────────────────────────────┼────────────────────────────────────────────────┼──────────────────────────────────────────────────────────────────────────────────────────────────────────────────────────────────────┼───────────────────────────────────────────────────────────────────┼────────────────────────────────────────────────┼──────────────────────────────────────────────────────────────────────────────────────────────────────────────────────────────────────┼─────────────────────────────────────────────────────────────┼───────────────────────────────────────────────┼──────────────────────────────────────────────────────────────────────────────────────────────────────────────┼──────────────────────────────────────────────────────────────────────────────────────────────────────────────────────────────────────────────────────────────────────────┼──────────────────────────────────────────────────────────────────────────────────────────────────────────────────────────────────────────────────────────────────┼────────────────────────────────────────────────────────────────────────────────────────────────────────────────────────────────────────────────────────────────────────────┼────────────────────────────────────────────────────────────────────────────────────────────────────────────────────────────────────────────────────────────────────┼────────────────────────────────────────────────────────────────────────┼────────────────────────────────────────────────────────────────────────────┤\n",
      "│ FO_0_B__4_stack.1~_6_stack.1 <= 1                                 │ FO_0_B__1_unstack.2~_5_unstack.1 <= aux_i0j3x4 │ FO_0_B__4_stack.1~_6_stack.1 >= [aux_0_unknown_B_2_4_0, aux_0_unknown_B_2_4_1, aux_0_unknown_B_2_4_3, aux_0_unknown_B_2_4_5] - 3     │ FO_1_B__3_unstack.1~_6_stack.1 <= 1                               │ FO_1_B__1_unstack.2~_4_putdown.1 <= aux_i0j2x5 │ FO_1_B__3_unstack.1~_6_stack.1 >= [aux_1_unknown_B_1_4_0, aux_1_unknown_B_1_4_2, aux_1_unknown_B_1_4_3, aux_1_unknown_B_1_4_5] - 3   │                                                             │                                               │                                                                                                              │                                                                                                                                                                          │                                                                                                                                                                  │                                                                                                                                                                            │                                                                                                                                                                    │                                                                        │                                                                            │\n",
      "├───────────────────────────────────────────────────────────────────┼────────────────────────────────────────────────┼──────────────────────────────────────────────────────────────────────────────────────────────────────────────────────────────────────┼───────────────────────────────────────────────────────────────────┼────────────────────────────────────────────────┼──────────────────────────────────────────────────────────────────────────────────────────────────────────────────────────────────────┼─────────────────────────────────────────────────────────────┼───────────────────────────────────────────────┼──────────────────────────────────────────────────────────────────────────────────────────────────────────────┼──────────────────────────────────────────────────────────────────────────────────────────────────────────────────────────────────────────────────────────────────────────┼──────────────────────────────────────────────────────────────────────────────────────────────────────────────────────────────────────────────────────────────────┼────────────────────────────────────────────────────────────────────────────────────────────────────────────────────────────────────────────────────────────────────────────┼────────────────────────────────────────────────────────────────────────────────────────────────────────────────────────────────────────────────────────────────────┼────────────────────────────────────────────────────────────────────────┼────────────────────────────────────────────────────────────────────────────┤\n",
      "│ FO_0_B__4_stack.1~_8_stack.2 <= 1                                 │ FO_0_B__1_unstack.2~_5_unstack.1 <= aux_i0j3x5 │ FO_0_B__4_stack.1~_8_stack.2 >= [aux_0_unknown_B_2_5_0, aux_0_unknown_B_2_5_1, aux_0_unknown_B_2_5_3, aux_0_unknown_B_2_5_4] - 3     │ FO_1_B__3_unstack.1~_8_stack.2 <= 1                               │ FO_1_B__1_unstack.2~_5_pickup.1 <= aux_i0j3x1  │ FO_1_B__3_unstack.1~_8_stack.2 >= [aux_1_unknown_B_1_5_0, aux_1_unknown_B_1_5_2, aux_1_unknown_B_1_5_3, aux_1_unknown_B_1_5_4] - 3   │                                                             │                                               │                                                                                                              │                                                                                                                                                                          │                                                                                                                                                                  │                                                                                                                                                                            │                                                                                                                                                                    │                                                                        │                                                                            │\n",
      "├───────────────────────────────────────────────────────────────────┼────────────────────────────────────────────────┼──────────────────────────────────────────────────────────────────────────────────────────────────────────────────────────────────────┼───────────────────────────────────────────────────────────────────┼────────────────────────────────────────────────┼──────────────────────────────────────────────────────────────────────────────────────────────────────────────────────────────────────┼─────────────────────────────────────────────────────────────┼───────────────────────────────────────────────┼──────────────────────────────────────────────────────────────────────────────────────────────────────────────┼──────────────────────────────────────────────────────────────────────────────────────────────────────────────────────────────────────────────────────────────────────────┼──────────────────────────────────────────────────────────────────────────────────────────────────────────────────────────────────────────────────────────────────┼────────────────────────────────────────────────────────────────────────────────────────────────────────────────────────────────────────────────────────────────────────────┼────────────────────────────────────────────────────────────────────────────────────────────────────────────────────────────────────────────────────────────────────┼────────────────────────────────────────────────────────────────────────┼────────────────────────────────────────────────────────────────────────────┤\n",
      "│ FO_0_B__5_unstack.1~_6_stack.1 <= 1                               │ FO_0_B__1_unstack.2~_6_stack.1 <= aux_i0j4x1   │ FO_0_B__5_unstack.1~_6_stack.1 >= [aux_0_unknown_B_3_4_0, aux_0_unknown_B_3_4_1, aux_0_unknown_B_3_4_2, aux_0_unknown_B_3_4_5] - 3   │ FO_1_B__4_putdown.1~_5_pickup.1 <= 1                              │ FO_1_B__1_unstack.2~_5_pickup.1 <= aux_i0j3x2  │ FO_1_B__4_putdown.1~_5_pickup.1 >= [aux_1_unknown_B_2_3_0, aux_1_unknown_B_2_3_1, aux_1_unknown_B_2_3_4, aux_1_unknown_B_2_3_5] - 3  │                                                             │                                               │                                                                                                              │                                                                                                                                                                          │                                                                                                                                                                  │                                                                                                                                                                            │                                                                                                                                                                    │                                                                        │                                                                            │\n",
      "├───────────────────────────────────────────────────────────────────┼────────────────────────────────────────────────┼──────────────────────────────────────────────────────────────────────────────────────────────────────────────────────────────────────┼───────────────────────────────────────────────────────────────────┼────────────────────────────────────────────────┼──────────────────────────────────────────────────────────────────────────────────────────────────────────────────────────────────────┼─────────────────────────────────────────────────────────────┼───────────────────────────────────────────────┼──────────────────────────────────────────────────────────────────────────────────────────────────────────────┼──────────────────────────────────────────────────────────────────────────────────────────────────────────────────────────────────────────────────────────────────────────┼──────────────────────────────────────────────────────────────────────────────────────────────────────────────────────────────────────────────────────────────────┼────────────────────────────────────────────────────────────────────────────────────────────────────────────────────────────────────────────────────────────────────────────┼────────────────────────────────────────────────────────────────────────────────────────────────────────────────────────────────────────────────────────────────────┼────────────────────────────────────────────────────────────────────────┼────────────────────────────────────────────────────────────────────────────┤\n",
      "│ FO_0_B__5_unstack.1~_8_stack.2 <= 1                               │ FO_0_B__1_unstack.2~_6_stack.1 <= aux_i0j4x2   │ FO_0_B__5_unstack.1~_8_stack.2 >= [aux_0_unknown_B_3_5_0, aux_0_unknown_B_3_5_1, aux_0_unknown_B_3_5_2, aux_0_unknown_B_3_5_4] - 3   │ FO_1_B__4_putdown.1~_6_stack.1 <= trace_1__4_putdown~_6_stack     │ FO_1_B__1_unstack.2~_5_pickup.1 <= aux_i0j3x4  │ FO_1_B__4_putdown.1~_6_stack.1 >= [aux_1_unknown_B_2_4_0, aux_1_unknown_B_2_4_1, aux_1_unknown_B_2_4_3, aux_1_unknown_B_2_4_5] - 3   │                                                             │                                               │                                                                                                              │                                                                                                                                                                          │                                                                                                                                                                  │                                                                                                                                                                            │                                                                                                                                                                    │                                                                        │                                                                            │\n",
      "├───────────────────────────────────────────────────────────────────┼────────────────────────────────────────────────┼──────────────────────────────────────────────────────────────────────────────────────────────────────────────────────────────────────┼───────────────────────────────────────────────────────────────────┼────────────────────────────────────────────────┼──────────────────────────────────────────────────────────────────────────────────────────────────────────────────────────────────────┼─────────────────────────────────────────────────────────────┼───────────────────────────────────────────────┼──────────────────────────────────────────────────────────────────────────────────────────────────────────────┼──────────────────────────────────────────────────────────────────────────────────────────────────────────────────────────────────────────────────────────────────────────┼──────────────────────────────────────────────────────────────────────────────────────────────────────────────────────────────────────────────────────────────────┼────────────────────────────────────────────────────────────────────────────────────────────────────────────────────────────────────────────────────────────────────────────┼────────────────────────────────────────────────────────────────────────────────────────────────────────────────────────────────────────────────────────────────────┼────────────────────────────────────────────────────────────────────────┼────────────────────────────────────────────────────────────────────────────┤\n",
      "│ FO_0_B__6_stack.1~_8_stack.2 <= 1                                 │ FO_0_B__1_unstack.2~_6_stack.1 <= aux_i0j4x3   │ FO_0_B__6_stack.1~_8_stack.2 >= [aux_0_unknown_B_4_5_0, aux_0_unknown_B_4_5_1, aux_0_unknown_B_4_5_2, aux_0_unknown_B_4_5_3] - 3     │ FO_1_B__4_putdown.1~_8_stack.2 <= trace_1__4_putdown~_8_stack     │ FO_1_B__1_unstack.2~_5_pickup.1 <= aux_i0j3x5  │ FO_1_B__4_putdown.1~_8_stack.2 >= [aux_1_unknown_B_2_5_0, aux_1_unknown_B_2_5_1, aux_1_unknown_B_2_5_3, aux_1_unknown_B_2_5_4] - 3   │                                                             │                                               │                                                                                                              │                                                                                                                                                                          │                                                                                                                                                                  │                                                                                                                                                                            │                                                                                                                                                                    │                                                                        │                                                                            │\n",
      "├───────────────────────────────────────────────────────────────────┼────────────────────────────────────────────────┼──────────────────────────────────────────────────────────────────────────────────────────────────────────────────────────────────────┼───────────────────────────────────────────────────────────────────┼────────────────────────────────────────────────┼──────────────────────────────────────────────────────────────────────────────────────────────────────────────────────────────────────┼─────────────────────────────────────────────────────────────┼───────────────────────────────────────────────┼──────────────────────────────────────────────────────────────────────────────────────────────────────────────┼──────────────────────────────────────────────────────────────────────────────────────────────────────────────────────────────────────────────────────────────────────────┼──────────────────────────────────────────────────────────────────────────────────────────────────────────────────────────────────────────────────────────────────┼────────────────────────────────────────────────────────────────────────────────────────────────────────────────────────────────────────────────────────────────────────────┼────────────────────────────────────────────────────────────────────────────────────────────────────────────────────────────────────────────────────────────────────┼────────────────────────────────────────────────────────────────────────┼────────────────────────────────────────────────────────────────────────────┤\n",
      "│                                                                   │ FO_0_B__1_unstack.2~_6_stack.1 <= aux_i0j4x5   │                                                                                                                                      │ FO_1_B__5_pickup.1~_6_stack.1 <= trace_1__5_pickup~_6_stack       │ FO_1_B__1_unstack.2~_6_stack.1 <= aux_i0j4x1   │ FO_1_B__5_pickup.1~_6_stack.1 >= [aux_1_unknown_B_3_4_0, aux_1_unknown_B_3_4_1, aux_1_unknown_B_3_4_2, aux_1_unknown_B_3_4_5] - 3    │                                                             │                                               │                                                                                                              │                                                                                                                                                                          │                                                                                                                                                                  │                                                                                                                                                                            │                                                                                                                                                                    │                                                                        │                                                                            │\n",
      "├───────────────────────────────────────────────────────────────────┼────────────────────────────────────────────────┼──────────────────────────────────────────────────────────────────────────────────────────────────────────────────────────────────────┼───────────────────────────────────────────────────────────────────┼────────────────────────────────────────────────┼──────────────────────────────────────────────────────────────────────────────────────────────────────────────────────────────────────┼─────────────────────────────────────────────────────────────┼───────────────────────────────────────────────┼──────────────────────────────────────────────────────────────────────────────────────────────────────────────┼──────────────────────────────────────────────────────────────────────────────────────────────────────────────────────────────────────────────────────────────────────────┼──────────────────────────────────────────────────────────────────────────────────────────────────────────────────────────────────────────────────────────────────┼────────────────────────────────────────────────────────────────────────────────────────────────────────────────────────────────────────────────────────────────────────────┼────────────────────────────────────────────────────────────────────────────────────────────────────────────────────────────────────────────────────────────────────┼────────────────────────────────────────────────────────────────────────┼────────────────────────────────────────────────────────────────────────────┤\n",
      "│                                                                   │ FO_0_B__1_unstack.2~_8_stack.2 <= aux_i0j5x1   │                                                                                                                                      │ FO_1_B__5_pickup.1~_8_stack.2 <= trace_1__5_pickup~_8_stack       │ FO_1_B__1_unstack.2~_6_stack.1 <= aux_i0j4x2   │ FO_1_B__5_pickup.1~_8_stack.2 >= [aux_1_unknown_B_3_5_0, aux_1_unknown_B_3_5_1, aux_1_unknown_B_3_5_2, aux_1_unknown_B_3_5_4] - 3    │                                                             │                                               │                                                                                                              │                                                                                                                                                                          │                                                                                                                                                                  │                                                                                                                                                                            │                                                                                                                                                                    │                                                                        │                                                                            │\n",
      "├───────────────────────────────────────────────────────────────────┼────────────────────────────────────────────────┼──────────────────────────────────────────────────────────────────────────────────────────────────────────────────────────────────────┼───────────────────────────────────────────────────────────────────┼────────────────────────────────────────────────┼──────────────────────────────────────────────────────────────────────────────────────────────────────────────────────────────────────┼─────────────────────────────────────────────────────────────┼───────────────────────────────────────────────┼──────────────────────────────────────────────────────────────────────────────────────────────────────────────┼──────────────────────────────────────────────────────────────────────────────────────────────────────────────────────────────────────────────────────────────────────────┼──────────────────────────────────────────────────────────────────────────────────────────────────────────────────────────────────────────────────────────────────┼────────────────────────────────────────────────────────────────────────────────────────────────────────────────────────────────────────────────────────────────────────────┼────────────────────────────────────────────────────────────────────────────────────────────────────────────────────────────────────────────────────────────────────┼────────────────────────────────────────────────────────────────────────┼────────────────────────────────────────────────────────────────────────────┤\n",
      "│                                                                   │ FO_0_B__1_unstack.2~_8_stack.2 <= aux_i0j5x2   │                                                                                                                                      │ FO_1_B__6_stack.1~_8_stack.2 <= 1                                 │ FO_1_B__1_unstack.2~_6_stack.1 <= aux_i0j4x3   │ FO_1_B__6_stack.1~_8_stack.2 >= [aux_1_unknown_B_4_5_0, aux_1_unknown_B_4_5_1, aux_1_unknown_B_4_5_2, aux_1_unknown_B_4_5_3] - 3     │                                                             │                                               │                                                                                                              │                                                                                                                                                                          │                                                                                                                                                                  │                                                                                                                                                                            │                                                                                                                                                                    │                                                                        │                                                                            │\n",
      "├───────────────────────────────────────────────────────────────────┼────────────────────────────────────────────────┼──────────────────────────────────────────────────────────────────────────────────────────────────────────────────────────────────────┼───────────────────────────────────────────────────────────────────┼────────────────────────────────────────────────┼──────────────────────────────────────────────────────────────────────────────────────────────────────────────────────────────────────┼─────────────────────────────────────────────────────────────┼───────────────────────────────────────────────┼──────────────────────────────────────────────────────────────────────────────────────────────────────────────┼──────────────────────────────────────────────────────────────────────────────────────────────────────────────────────────────────────────────────────────────────────────┼──────────────────────────────────────────────────────────────────────────────────────────────────────────────────────────────────────────────────────────────────┼────────────────────────────────────────────────────────────────────────────────────────────────────────────────────────────────────────────────────────────────────────────┼────────────────────────────────────────────────────────────────────────────────────────────────────────────────────────────────────────────────────────────────────┼────────────────────────────────────────────────────────────────────────┼────────────────────────────────────────────────────────────────────────────┤\n",
      "│                                                                   │ FO_0_B__1_unstack.2~_8_stack.2 <= aux_i0j5x3   │                                                                                                                                      │ FO_1_A__3_unstack.2~_7_pickup.1 <= trace_1__3_unstack~_7_pickup   │ FO_1_B__1_unstack.2~_6_stack.1 <= aux_i0j4x5   │ FO_1_A__3_unstack.2~_7_pickup.1 >= [aux_1_unknown_A_0_1_2] - 0                                                                       │                                                             │                                               │                                                                                                              │                                                                                                                                                                          │                                                                                                                                                                  │                                                                                                                                                                            │                                                                                                                                                                    │                                                                        │                                                                            │\n",
      "├───────────────────────────────────────────────────────────────────┼────────────────────────────────────────────────┼──────────────────────────────────────────────────────────────────────────────────────────────────────────────────────────────────────┼───────────────────────────────────────────────────────────────────┼────────────────────────────────────────────────┼──────────────────────────────────────────────────────────────────────────────────────────────────────────────────────────────────────┼─────────────────────────────────────────────────────────────┼───────────────────────────────────────────────┼──────────────────────────────────────────────────────────────────────────────────────────────────────────────┼──────────────────────────────────────────────────────────────────────────────────────────────────────────────────────────────────────────────────────────────────────────┼──────────────────────────────────────────────────────────────────────────────────────────────────────────────────────────────────────────────────────────────────┼────────────────────────────────────────────────────────────────────────────────────────────────────────────────────────────────────────────────────────────────────────────┼────────────────────────────────────────────────────────────────────────────────────────────────────────────────────────────────────────────────────────────────────┼────────────────────────────────────────────────────────────────────────┼────────────────────────────────────────────────────────────────────────────┤\n",
      "│                                                                   │ FO_0_B__1_unstack.2~_8_stack.2 <= aux_i0j5x4   │                                                                                                                                      │ FO_1_A__3_unstack.2~_8_stack.1 <= 1                               │ FO_1_B__1_unstack.2~_8_stack.2 <= aux_i0j5x1   │ FO_1_A__3_unstack.2~_8_stack.1 >= [aux_1_unknown_A_0_2_1] - 0                                                                        │                                                             │                                               │                                                                                                              │                                                                                                                                                                          │                                                                                                                                                                  │                                                                                                                                                                            │                                                                                                                                                                    │                                                                        │                                                                            │\n",
      "├───────────────────────────────────────────────────────────────────┼────────────────────────────────────────────────┼──────────────────────────────────────────────────────────────────────────────────────────────────────────────────────────────────────┼───────────────────────────────────────────────────────────────────┼────────────────────────────────────────────────┼──────────────────────────────────────────────────────────────────────────────────────────────────────────────────────────────────────┼─────────────────────────────────────────────────────────────┼───────────────────────────────────────────────┼──────────────────────────────────────────────────────────────────────────────────────────────────────────────┼──────────────────────────────────────────────────────────────────────────────────────────────────────────────────────────────────────────────────────────────────────────┼──────────────────────────────────────────────────────────────────────────────────────────────────────────────────────────────────────────────────────────────────┼────────────────────────────────────────────────────────────────────────────────────────────────────────────────────────────────────────────────────────────────────────────┼────────────────────────────────────────────────────────────────────────────────────────────────────────────────────────────────────────────────────────────────────┼────────────────────────────────────────────────────────────────────────┼────────────────────────────────────────────────────────────────────────────┤\n",
      "│                                                                   │ FO_0_B__3_pickup.1~_4_stack.1 <= aux_i1j2x0    │                                                                                                                                      │ FO_1_A__7_pickup.1~_8_stack.1 <= trace_1__7_pickup~_8_stack       │ FO_1_B__1_unstack.2~_8_stack.2 <= aux_i0j5x2   │ FO_1_A__7_pickup.1~_8_stack.1 >= [aux_1_unknown_A_1_2_0] - 0                                                                         │                                                             │                                               │                                                                                                              │                                                                                                                                                                          │                                                                                                                                                                  │                                                                                                                                                                            │                                                                                                                                                                    │                                                                        │                                                                            │\n",
      "├───────────────────────────────────────────────────────────────────┼────────────────────────────────────────────────┼──────────────────────────────────────────────────────────────────────────────────────────────────────────────────────────────────────┼───────────────────────────────────────────────────────────────────┼────────────────────────────────────────────────┼──────────────────────────────────────────────────────────────────────────────────────────────────────────────────────────────────────┼─────────────────────────────────────────────────────────────┼───────────────────────────────────────────────┼──────────────────────────────────────────────────────────────────────────────────────────────────────────────┼──────────────────────────────────────────────────────────────────────────────────────────────────────────────────────────────────────────────────────────────────────────┼──────────────────────────────────────────────────────────────────────────────────────────────────────────────────────────────────────────────────────────────────┼────────────────────────────────────────────────────────────────────────────────────────────────────────────────────────────────────────────────────────────────────────────┼────────────────────────────────────────────────────────────────────────────────────────────────────────────────────────────────────────────────────────────────────┼────────────────────────────────────────────────────────────────────────┼────────────────────────────────────────────────────────────────────────────┤\n",
      "│                                                                   │ FO_0_B__3_pickup.1~_4_stack.1 <= aux_i1j2x3    │                                                                                                                                      │                                                                   │ FO_1_B__1_unstack.2~_8_stack.2 <= aux_i0j5x3   │                                                                                                                                      │                                                             │                                               │                                                                                                              │                                                                                                                                                                          │                                                                                                                                                                  │                                                                                                                                                                            │                                                                                                                                                                    │                                                                        │                                                                            │\n",
      "├───────────────────────────────────────────────────────────────────┼────────────────────────────────────────────────┼──────────────────────────────────────────────────────────────────────────────────────────────────────────────────────────────────────┼───────────────────────────────────────────────────────────────────┼────────────────────────────────────────────────┼──────────────────────────────────────────────────────────────────────────────────────────────────────────────────────────────────────┼─────────────────────────────────────────────────────────────┼───────────────────────────────────────────────┼──────────────────────────────────────────────────────────────────────────────────────────────────────────────┼──────────────────────────────────────────────────────────────────────────────────────────────────────────────────────────────────────────────────────────────────────────┼──────────────────────────────────────────────────────────────────────────────────────────────────────────────────────────────────────────────────────────────────┼────────────────────────────────────────────────────────────────────────────────────────────────────────────────────────────────────────────────────────────────────────────┼────────────────────────────────────────────────────────────────────────────────────────────────────────────────────────────────────────────────────────────────────┼────────────────────────────────────────────────────────────────────────┼────────────────────────────────────────────────────────────────────────────┤\n",
      "│                                                                   │ FO_0_B__3_pickup.1~_4_stack.1 <= aux_i1j2x4    │                                                                                                                                      │                                                                   │ FO_1_B__1_unstack.2~_8_stack.2 <= aux_i0j5x4   │                                                                                                                                      │                                                             │                                               │                                                                                                              │                                                                                                                                                                          │                                                                                                                                                                  │                                                                                                                                                                            │                                                                                                                                                                    │                                                                        │                                                                            │\n",
      "├───────────────────────────────────────────────────────────────────┼────────────────────────────────────────────────┼──────────────────────────────────────────────────────────────────────────────────────────────────────────────────────────────────────┼───────────────────────────────────────────────────────────────────┼────────────────────────────────────────────────┼──────────────────────────────────────────────────────────────────────────────────────────────────────────────────────────────────────┼─────────────────────────────────────────────────────────────┼───────────────────────────────────────────────┼──────────────────────────────────────────────────────────────────────────────────────────────────────────────┼──────────────────────────────────────────────────────────────────────────────────────────────────────────────────────────────────────────────────────────────────────────┼──────────────────────────────────────────────────────────────────────────────────────────────────────────────────────────────────────────────────────────────────┼────────────────────────────────────────────────────────────────────────────────────────────────────────────────────────────────────────────────────────────────────────────┼────────────────────────────────────────────────────────────────────────────────────────────────────────────────────────────────────────────────────────────────────┼────────────────────────────────────────────────────────────────────────┼────────────────────────────────────────────────────────────────────────────┤\n",
      "│                                                                   │ FO_0_B__3_pickup.1~_4_stack.1 <= aux_i1j2x5    │                                                                                                                                      │                                                                   │ FO_1_B__3_unstack.1~_4_putdown.1 <= aux_i1j2x0 │                                                                                                                                      │                                                             │                                               │                                                                                                              │                                                                                                                                                                          │                                                                                                                                                                  │                                                                                                                                                                            │                                                                                                                                                                    │                                                                        │                                                                            │\n",
      "├───────────────────────────────────────────────────────────────────┼────────────────────────────────────────────────┼──────────────────────────────────────────────────────────────────────────────────────────────────────────────────────────────────────┼───────────────────────────────────────────────────────────────────┼────────────────────────────────────────────────┼──────────────────────────────────────────────────────────────────────────────────────────────────────────────────────────────────────┼─────────────────────────────────────────────────────────────┼───────────────────────────────────────────────┼──────────────────────────────────────────────────────────────────────────────────────────────────────────────┼──────────────────────────────────────────────────────────────────────────────────────────────────────────────────────────────────────────────────────────────────────────┼──────────────────────────────────────────────────────────────────────────────────────────────────────────────────────────────────────────────────────────────────┼────────────────────────────────────────────────────────────────────────────────────────────────────────────────────────────────────────────────────────────────────────────┼────────────────────────────────────────────────────────────────────────────────────────────────────────────────────────────────────────────────────────────────────┼────────────────────────────────────────────────────────────────────────┼────────────────────────────────────────────────────────────────────────────┤\n",
      "│                                                                   │ FO_0_B__3_pickup.1~_5_unstack.1 <= aux_i1j3x0  │                                                                                                                                      │                                                                   │ FO_1_B__3_unstack.1~_4_putdown.1 <= aux_i1j2x3 │                                                                                                                                      │                                                             │                                               │                                                                                                              │                                                                                                                                                                          │                                                                                                                                                                  │                                                                                                                                                                            │                                                                                                                                                                    │                                                                        │                                                                            │\n",
      "├───────────────────────────────────────────────────────────────────┼────────────────────────────────────────────────┼──────────────────────────────────────────────────────────────────────────────────────────────────────────────────────────────────────┼───────────────────────────────────────────────────────────────────┼────────────────────────────────────────────────┼──────────────────────────────────────────────────────────────────────────────────────────────────────────────────────────────────────┼─────────────────────────────────────────────────────────────┼───────────────────────────────────────────────┼──────────────────────────────────────────────────────────────────────────────────────────────────────────────┼──────────────────────────────────────────────────────────────────────────────────────────────────────────────────────────────────────────────────────────────────────────┼──────────────────────────────────────────────────────────────────────────────────────────────────────────────────────────────────────────────────────────────────┼────────────────────────────────────────────────────────────────────────────────────────────────────────────────────────────────────────────────────────────────────────────┼────────────────────────────────────────────────────────────────────────────────────────────────────────────────────────────────────────────────────────────────────┼────────────────────────────────────────────────────────────────────────┼────────────────────────────────────────────────────────────────────────────┤\n",
      "│                                                                   │ FO_0_B__3_pickup.1~_5_unstack.1 <= aux_i1j3x2  │                                                                                                                                      │                                                                   │ FO_1_B__3_unstack.1~_4_putdown.1 <= aux_i1j2x4 │                                                                                                                                      │                                                             │                                               │                                                                                                              │                                                                                                                                                                          │                                                                                                                                                                  │                                                                                                                                                                            │                                                                                                                                                                    │                                                                        │                                                                            │\n",
      "├───────────────────────────────────────────────────────────────────┼────────────────────────────────────────────────┼──────────────────────────────────────────────────────────────────────────────────────────────────────────────────────────────────────┼───────────────────────────────────────────────────────────────────┼────────────────────────────────────────────────┼──────────────────────────────────────────────────────────────────────────────────────────────────────────────────────────────────────┼─────────────────────────────────────────────────────────────┼───────────────────────────────────────────────┼──────────────────────────────────────────────────────────────────────────────────────────────────────────────┼──────────────────────────────────────────────────────────────────────────────────────────────────────────────────────────────────────────────────────────────────────────┼──────────────────────────────────────────────────────────────────────────────────────────────────────────────────────────────────────────────────────────────────┼────────────────────────────────────────────────────────────────────────────────────────────────────────────────────────────────────────────────────────────────────────────┼────────────────────────────────────────────────────────────────────────────────────────────────────────────────────────────────────────────────────────────────────┼────────────────────────────────────────────────────────────────────────┼────────────────────────────────────────────────────────────────────────────┤\n",
      "│                                                                   │ FO_0_B__3_pickup.1~_5_unstack.1 <= aux_i1j3x4  │                                                                                                                                      │                                                                   │ FO_1_B__3_unstack.1~_4_putdown.1 <= aux_i1j2x5 │                                                                                                                                      │                                                             │                                               │                                                                                                              │                                                                                                                                                                          │                                                                                                                                                                  │                                                                                                                                                                            │                                                                                                                                                                    │                                                                        │                                                                            │\n",
      "├───────────────────────────────────────────────────────────────────┼────────────────────────────────────────────────┼──────────────────────────────────────────────────────────────────────────────────────────────────────────────────────────────────────┼───────────────────────────────────────────────────────────────────┼────────────────────────────────────────────────┼──────────────────────────────────────────────────────────────────────────────────────────────────────────────────────────────────────┼─────────────────────────────────────────────────────────────┼───────────────────────────────────────────────┼──────────────────────────────────────────────────────────────────────────────────────────────────────────────┼──────────────────────────────────────────────────────────────────────────────────────────────────────────────────────────────────────────────────────────────────────────┼──────────────────────────────────────────────────────────────────────────────────────────────────────────────────────────────────────────────────────────────────┼────────────────────────────────────────────────────────────────────────────────────────────────────────────────────────────────────────────────────────────────────────────┼────────────────────────────────────────────────────────────────────────────────────────────────────────────────────────────────────────────────────────────────────┼────────────────────────────────────────────────────────────────────────┼────────────────────────────────────────────────────────────────────────────┤\n",
      "│                                                                   │ FO_0_B__3_pickup.1~_5_unstack.1 <= aux_i1j3x5  │                                                                                                                                      │                                                                   │ FO_1_B__3_unstack.1~_5_pickup.1 <= aux_i1j3x0  │                                                                                                                                      │                                                             │                                               │                                                                                                              │                                                                                                                                                                          │                                                                                                                                                                  │                                                                                                                                                                            │                                                                                                                                                                    │                                                                        │                                                                            │\n",
      "├───────────────────────────────────────────────────────────────────┼────────────────────────────────────────────────┼──────────────────────────────────────────────────────────────────────────────────────────────────────────────────────────────────────┼───────────────────────────────────────────────────────────────────┼────────────────────────────────────────────────┼──────────────────────────────────────────────────────────────────────────────────────────────────────────────────────────────────────┼─────────────────────────────────────────────────────────────┼───────────────────────────────────────────────┼──────────────────────────────────────────────────────────────────────────────────────────────────────────────┼──────────────────────────────────────────────────────────────────────────────────────────────────────────────────────────────────────────────────────────────────────────┼──────────────────────────────────────────────────────────────────────────────────────────────────────────────────────────────────────────────────────────────────┼────────────────────────────────────────────────────────────────────────────────────────────────────────────────────────────────────────────────────────────────────────────┼────────────────────────────────────────────────────────────────────────────────────────────────────────────────────────────────────────────────────────────────────┼────────────────────────────────────────────────────────────────────────┼────────────────────────────────────────────────────────────────────────────┤\n",
      "│                                                                   │ FO_0_B__3_pickup.1~_6_stack.1 <= aux_i1j4x0    │                                                                                                                                      │                                                                   │ FO_1_B__3_unstack.1~_5_pickup.1 <= aux_i1j3x2  │                                                                                                                                      │                                                             │                                               │                                                                                                              │                                                                                                                                                                          │                                                                                                                                                                  │                                                                                                                                                                            │                                                                                                                                                                    │                                                                        │                                                                            │\n",
      "├───────────────────────────────────────────────────────────────────┼────────────────────────────────────────────────┼──────────────────────────────────────────────────────────────────────────────────────────────────────────────────────────────────────┼───────────────────────────────────────────────────────────────────┼────────────────────────────────────────────────┼──────────────────────────────────────────────────────────────────────────────────────────────────────────────────────────────────────┼─────────────────────────────────────────────────────────────┼───────────────────────────────────────────────┼──────────────────────────────────────────────────────────────────────────────────────────────────────────────┼──────────────────────────────────────────────────────────────────────────────────────────────────────────────────────────────────────────────────────────────────────────┼──────────────────────────────────────────────────────────────────────────────────────────────────────────────────────────────────────────────────────────────────┼────────────────────────────────────────────────────────────────────────────────────────────────────────────────────────────────────────────────────────────────────────────┼────────────────────────────────────────────────────────────────────────────────────────────────────────────────────────────────────────────────────────────────────┼────────────────────────────────────────────────────────────────────────┼────────────────────────────────────────────────────────────────────────────┤\n",
      "│                                                                   │ FO_0_B__3_pickup.1~_6_stack.1 <= aux_i1j4x2    │                                                                                                                                      │                                                                   │ FO_1_B__3_unstack.1~_5_pickup.1 <= aux_i1j3x4  │                                                                                                                                      │                                                             │                                               │                                                                                                              │                                                                                                                                                                          │                                                                                                                                                                  │                                                                                                                                                                            │                                                                                                                                                                    │                                                                        │                                                                            │\n",
      "├───────────────────────────────────────────────────────────────────┼────────────────────────────────────────────────┼──────────────────────────────────────────────────────────────────────────────────────────────────────────────────────────────────────┼───────────────────────────────────────────────────────────────────┼────────────────────────────────────────────────┼──────────────────────────────────────────────────────────────────────────────────────────────────────────────────────────────────────┼─────────────────────────────────────────────────────────────┼───────────────────────────────────────────────┼──────────────────────────────────────────────────────────────────────────────────────────────────────────────┼──────────────────────────────────────────────────────────────────────────────────────────────────────────────────────────────────────────────────────────────────────────┼──────────────────────────────────────────────────────────────────────────────────────────────────────────────────────────────────────────────────────────────────┼────────────────────────────────────────────────────────────────────────────────────────────────────────────────────────────────────────────────────────────────────────────┼────────────────────────────────────────────────────────────────────────────────────────────────────────────────────────────────────────────────────────────────────┼────────────────────────────────────────────────────────────────────────┼────────────────────────────────────────────────────────────────────────────┤\n",
      "│                                                                   │ FO_0_B__3_pickup.1~_6_stack.1 <= aux_i1j4x3    │                                                                                                                                      │                                                                   │ FO_1_B__3_unstack.1~_5_pickup.1 <= aux_i1j3x5  │                                                                                                                                      │                                                             │                                               │                                                                                                              │                                                                                                                                                                          │                                                                                                                                                                  │                                                                                                                                                                            │                                                                                                                                                                    │                                                                        │                                                                            │\n",
      "├───────────────────────────────────────────────────────────────────┼────────────────────────────────────────────────┼──────────────────────────────────────────────────────────────────────────────────────────────────────────────────────────────────────┼───────────────────────────────────────────────────────────────────┼────────────────────────────────────────────────┼──────────────────────────────────────────────────────────────────────────────────────────────────────────────────────────────────────┼─────────────────────────────────────────────────────────────┼───────────────────────────────────────────────┼──────────────────────────────────────────────────────────────────────────────────────────────────────────────┼──────────────────────────────────────────────────────────────────────────────────────────────────────────────────────────────────────────────────────────────────────────┼──────────────────────────────────────────────────────────────────────────────────────────────────────────────────────────────────────────────────────────────────┼────────────────────────────────────────────────────────────────────────────────────────────────────────────────────────────────────────────────────────────────────────────┼────────────────────────────────────────────────────────────────────────────────────────────────────────────────────────────────────────────────────────────────────┼────────────────────────────────────────────────────────────────────────┼────────────────────────────────────────────────────────────────────────────┤\n",
      "│                                                                   │ FO_0_B__3_pickup.1~_6_stack.1 <= aux_i1j4x5    │                                                                                                                                      │                                                                   │ FO_1_B__3_unstack.1~_6_stack.1 <= aux_i1j4x0   │                                                                                                                                      │                                                             │                                               │                                                                                                              │                                                                                                                                                                          │                                                                                                                                                                  │                                                                                                                                                                            │                                                                                                                                                                    │                                                                        │                                                                            │\n",
      "├───────────────────────────────────────────────────────────────────┼────────────────────────────────────────────────┼──────────────────────────────────────────────────────────────────────────────────────────────────────────────────────────────────────┼───────────────────────────────────────────────────────────────────┼────────────────────────────────────────────────┼──────────────────────────────────────────────────────────────────────────────────────────────────────────────────────────────────────┼─────────────────────────────────────────────────────────────┼───────────────────────────────────────────────┼──────────────────────────────────────────────────────────────────────────────────────────────────────────────┼──────────────────────────────────────────────────────────────────────────────────────────────────────────────────────────────────────────────────────────────────────────┼──────────────────────────────────────────────────────────────────────────────────────────────────────────────────────────────────────────────────────────────────┼────────────────────────────────────────────────────────────────────────────────────────────────────────────────────────────────────────────────────────────────────────────┼────────────────────────────────────────────────────────────────────────────────────────────────────────────────────────────────────────────────────────────────────┼────────────────────────────────────────────────────────────────────────┼────────────────────────────────────────────────────────────────────────────┤\n",
      "│                                                                   │ FO_0_B__3_pickup.1~_8_stack.2 <= aux_i1j5x0    │                                                                                                                                      │                                                                   │ FO_1_B__3_unstack.1~_6_stack.1 <= aux_i1j4x2   │                                                                                                                                      │                                                             │                                               │                                                                                                              │                                                                                                                                                                          │                                                                                                                                                                  │                                                                                                                                                                            │                                                                                                                                                                    │                                                                        │                                                                            │\n",
      "├───────────────────────────────────────────────────────────────────┼────────────────────────────────────────────────┼──────────────────────────────────────────────────────────────────────────────────────────────────────────────────────────────────────┼───────────────────────────────────────────────────────────────────┼────────────────────────────────────────────────┼──────────────────────────────────────────────────────────────────────────────────────────────────────────────────────────────────────┼─────────────────────────────────────────────────────────────┼───────────────────────────────────────────────┼──────────────────────────────────────────────────────────────────────────────────────────────────────────────┼──────────────────────────────────────────────────────────────────────────────────────────────────────────────────────────────────────────────────────────────────────────┼──────────────────────────────────────────────────────────────────────────────────────────────────────────────────────────────────────────────────────────────────┼────────────────────────────────────────────────────────────────────────────────────────────────────────────────────────────────────────────────────────────────────────────┼────────────────────────────────────────────────────────────────────────────────────────────────────────────────────────────────────────────────────────────────────┼────────────────────────────────────────────────────────────────────────┼────────────────────────────────────────────────────────────────────────────┤\n",
      "│                                                                   │ FO_0_B__3_pickup.1~_8_stack.2 <= aux_i1j5x2    │                                                                                                                                      │                                                                   │ FO_1_B__3_unstack.1~_6_stack.1 <= aux_i1j4x3   │                                                                                                                                      │                                                             │                                               │                                                                                                              │                                                                                                                                                                          │                                                                                                                                                                  │                                                                                                                                                                            │                                                                                                                                                                    │                                                                        │                                                                            │\n",
      "├───────────────────────────────────────────────────────────────────┼────────────────────────────────────────────────┼──────────────────────────────────────────────────────────────────────────────────────────────────────────────────────────────────────┼───────────────────────────────────────────────────────────────────┼────────────────────────────────────────────────┼──────────────────────────────────────────────────────────────────────────────────────────────────────────────────────────────────────┼─────────────────────────────────────────────────────────────┼───────────────────────────────────────────────┼──────────────────────────────────────────────────────────────────────────────────────────────────────────────┼──────────────────────────────────────────────────────────────────────────────────────────────────────────────────────────────────────────────────────────────────────────┼──────────────────────────────────────────────────────────────────────────────────────────────────────────────────────────────────────────────────────────────────┼────────────────────────────────────────────────────────────────────────────────────────────────────────────────────────────────────────────────────────────────────────────┼────────────────────────────────────────────────────────────────────────────────────────────────────────────────────────────────────────────────────────────────────┼────────────────────────────────────────────────────────────────────────┼────────────────────────────────────────────────────────────────────────────┤\n",
      "│                                                                   │ FO_0_B__3_pickup.1~_8_stack.2 <= aux_i1j5x3    │                                                                                                                                      │                                                                   │ FO_1_B__3_unstack.1~_6_stack.1 <= aux_i1j4x5   │                                                                                                                                      │                                                             │                                               │                                                                                                              │                                                                                                                                                                          │                                                                                                                                                                  │                                                                                                                                                                            │                                                                                                                                                                    │                                                                        │                                                                            │\n",
      "├───────────────────────────────────────────────────────────────────┼────────────────────────────────────────────────┼──────────────────────────────────────────────────────────────────────────────────────────────────────────────────────────────────────┼───────────────────────────────────────────────────────────────────┼────────────────────────────────────────────────┼──────────────────────────────────────────────────────────────────────────────────────────────────────────────────────────────────────┼─────────────────────────────────────────────────────────────┼───────────────────────────────────────────────┼──────────────────────────────────────────────────────────────────────────────────────────────────────────────┼──────────────────────────────────────────────────────────────────────────────────────────────────────────────────────────────────────────────────────────────────────────┼──────────────────────────────────────────────────────────────────────────────────────────────────────────────────────────────────────────────────────────────────┼────────────────────────────────────────────────────────────────────────────────────────────────────────────────────────────────────────────────────────────────────────────┼────────────────────────────────────────────────────────────────────────────────────────────────────────────────────────────────────────────────────────────────────┼────────────────────────────────────────────────────────────────────────┼────────────────────────────────────────────────────────────────────────────┤\n",
      "│                                                                   │ FO_0_B__3_pickup.1~_8_stack.2 <= aux_i1j5x4    │                                                                                                                                      │                                                                   │ FO_1_B__3_unstack.1~_8_stack.2 <= aux_i1j5x0   │                                                                                                                                      │                                                             │                                               │                                                                                                              │                                                                                                                                                                          │                                                                                                                                                                  │                                                                                                                                                                            │                                                                                                                                                                    │                                                                        │                                                                            │\n",
      "├───────────────────────────────────────────────────────────────────┼────────────────────────────────────────────────┼──────────────────────────────────────────────────────────────────────────────────────────────────────────────────────────────────────┼───────────────────────────────────────────────────────────────────┼────────────────────────────────────────────────┼──────────────────────────────────────────────────────────────────────────────────────────────────────────────────────────────────────┼─────────────────────────────────────────────────────────────┼───────────────────────────────────────────────┼──────────────────────────────────────────────────────────────────────────────────────────────────────────────┼──────────────────────────────────────────────────────────────────────────────────────────────────────────────────────────────────────────────────────────────────────────┼──────────────────────────────────────────────────────────────────────────────────────────────────────────────────────────────────────────────────────────────────┼────────────────────────────────────────────────────────────────────────────────────────────────────────────────────────────────────────────────────────────────────────────┼────────────────────────────────────────────────────────────────────────────────────────────────────────────────────────────────────────────────────────────────────┼────────────────────────────────────────────────────────────────────────┼────────────────────────────────────────────────────────────────────────────┤\n",
      "│                                                                   │ FO_0_B__4_stack.1~_5_unstack.1 <= aux_i2j3x0   │                                                                                                                                      │                                                                   │ FO_1_B__3_unstack.1~_8_stack.2 <= aux_i1j5x2   │                                                                                                                                      │                                                             │                                               │                                                                                                              │                                                                                                                                                                          │                                                                                                                                                                  │                                                                                                                                                                            │                                                                                                                                                                    │                                                                        │                                                                            │\n",
      "├───────────────────────────────────────────────────────────────────┼────────────────────────────────────────────────┼──────────────────────────────────────────────────────────────────────────────────────────────────────────────────────────────────────┼───────────────────────────────────────────────────────────────────┼────────────────────────────────────────────────┼──────────────────────────────────────────────────────────────────────────────────────────────────────────────────────────────────────┼─────────────────────────────────────────────────────────────┼───────────────────────────────────────────────┼──────────────────────────────────────────────────────────────────────────────────────────────────────────────┼──────────────────────────────────────────────────────────────────────────────────────────────────────────────────────────────────────────────────────────────────────────┼──────────────────────────────────────────────────────────────────────────────────────────────────────────────────────────────────────────────────────────────────┼────────────────────────────────────────────────────────────────────────────────────────────────────────────────────────────────────────────────────────────────────────────┼────────────────────────────────────────────────────────────────────────────────────────────────────────────────────────────────────────────────────────────────────┼────────────────────────────────────────────────────────────────────────┼────────────────────────────────────────────────────────────────────────────┤\n",
      "│                                                                   │ FO_0_B__4_stack.1~_5_unstack.1 <= aux_i2j3x1   │                                                                                                                                      │                                                                   │ FO_1_B__3_unstack.1~_8_stack.2 <= aux_i1j5x3   │                                                                                                                                      │                                                             │                                               │                                                                                                              │                                                                                                                                                                          │                                                                                                                                                                  │                                                                                                                                                                            │                                                                                                                                                                    │                                                                        │                                                                            │\n",
      "├───────────────────────────────────────────────────────────────────┼────────────────────────────────────────────────┼──────────────────────────────────────────────────────────────────────────────────────────────────────────────────────────────────────┼───────────────────────────────────────────────────────────────────┼────────────────────────────────────────────────┼──────────────────────────────────────────────────────────────────────────────────────────────────────────────────────────────────────┼─────────────────────────────────────────────────────────────┼───────────────────────────────────────────────┼──────────────────────────────────────────────────────────────────────────────────────────────────────────────┼──────────────────────────────────────────────────────────────────────────────────────────────────────────────────────────────────────────────────────────────────────────┼──────────────────────────────────────────────────────────────────────────────────────────────────────────────────────────────────────────────────────────────────┼────────────────────────────────────────────────────────────────────────────────────────────────────────────────────────────────────────────────────────────────────────────┼────────────────────────────────────────────────────────────────────────────────────────────────────────────────────────────────────────────────────────────────────┼────────────────────────────────────────────────────────────────────────┼────────────────────────────────────────────────────────────────────────────┤\n",
      "│                                                                   │ FO_0_B__4_stack.1~_5_unstack.1 <= aux_i2j3x4   │                                                                                                                                      │                                                                   │ FO_1_B__3_unstack.1~_8_stack.2 <= aux_i1j5x4   │                                                                                                                                      │                                                             │                                               │                                                                                                              │                                                                                                                                                                          │                                                                                                                                                                  │                                                                                                                                                                            │                                                                                                                                                                    │                                                                        │                                                                            │\n",
      "├───────────────────────────────────────────────────────────────────┼────────────────────────────────────────────────┼──────────────────────────────────────────────────────────────────────────────────────────────────────────────────────────────────────┼───────────────────────────────────────────────────────────────────┼────────────────────────────────────────────────┼──────────────────────────────────────────────────────────────────────────────────────────────────────────────────────────────────────┼─────────────────────────────────────────────────────────────┼───────────────────────────────────────────────┼──────────────────────────────────────────────────────────────────────────────────────────────────────────────┼──────────────────────────────────────────────────────────────────────────────────────────────────────────────────────────────────────────────────────────────────────────┼──────────────────────────────────────────────────────────────────────────────────────────────────────────────────────────────────────────────────────────────────┼────────────────────────────────────────────────────────────────────────────────────────────────────────────────────────────────────────────────────────────────────────────┼────────────────────────────────────────────────────────────────────────────────────────────────────────────────────────────────────────────────────────────────────┼────────────────────────────────────────────────────────────────────────┼────────────────────────────────────────────────────────────────────────────┤\n",
      "│                                                                   │ FO_0_B__4_stack.1~_5_unstack.1 <= aux_i2j3x5   │                                                                                                                                      │                                                                   │ FO_1_B__4_putdown.1~_5_pickup.1 <= aux_i2j3x0  │                                                                                                                                      │                                                             │                                               │                                                                                                              │                                                                                                                                                                          │                                                                                                                                                                  │                                                                                                                                                                            │                                                                                                                                                                    │                                                                        │                                                                            │\n",
      "├───────────────────────────────────────────────────────────────────┼────────────────────────────────────────────────┼──────────────────────────────────────────────────────────────────────────────────────────────────────────────────────────────────────┼───────────────────────────────────────────────────────────────────┼────────────────────────────────────────────────┼──────────────────────────────────────────────────────────────────────────────────────────────────────────────────────────────────────┼─────────────────────────────────────────────────────────────┼───────────────────────────────────────────────┼──────────────────────────────────────────────────────────────────────────────────────────────────────────────┼──────────────────────────────────────────────────────────────────────────────────────────────────────────────────────────────────────────────────────────────────────────┼──────────────────────────────────────────────────────────────────────────────────────────────────────────────────────────────────────────────────────────────────┼────────────────────────────────────────────────────────────────────────────────────────────────────────────────────────────────────────────────────────────────────────────┼────────────────────────────────────────────────────────────────────────────────────────────────────────────────────────────────────────────────────────────────────┼────────────────────────────────────────────────────────────────────────┼────────────────────────────────────────────────────────────────────────────┤\n",
      "│                                                                   │ FO_0_B__4_stack.1~_6_stack.1 <= aux_i2j4x0     │                                                                                                                                      │                                                                   │ FO_1_B__4_putdown.1~_5_pickup.1 <= aux_i2j3x1  │                                                                                                                                      │                                                             │                                               │                                                                                                              │                                                                                                                                                                          │                                                                                                                                                                  │                                                                                                                                                                            │                                                                                                                                                                    │                                                                        │                                                                            │\n",
      "├───────────────────────────────────────────────────────────────────┼────────────────────────────────────────────────┼──────────────────────────────────────────────────────────────────────────────────────────────────────────────────────────────────────┼───────────────────────────────────────────────────────────────────┼────────────────────────────────────────────────┼──────────────────────────────────────────────────────────────────────────────────────────────────────────────────────────────────────┼─────────────────────────────────────────────────────────────┼───────────────────────────────────────────────┼──────────────────────────────────────────────────────────────────────────────────────────────────────────────┼──────────────────────────────────────────────────────────────────────────────────────────────────────────────────────────────────────────────────────────────────────────┼──────────────────────────────────────────────────────────────────────────────────────────────────────────────────────────────────────────────────────────────────┼────────────────────────────────────────────────────────────────────────────────────────────────────────────────────────────────────────────────────────────────────────────┼────────────────────────────────────────────────────────────────────────────────────────────────────────────────────────────────────────────────────────────────────┼────────────────────────────────────────────────────────────────────────┼────────────────────────────────────────────────────────────────────────────┤\n",
      "│                                                                   │ FO_0_B__4_stack.1~_6_stack.1 <= aux_i2j4x1     │                                                                                                                                      │                                                                   │ FO_1_B__4_putdown.1~_5_pickup.1 <= aux_i2j3x4  │                                                                                                                                      │                                                             │                                               │                                                                                                              │                                                                                                                                                                          │                                                                                                                                                                  │                                                                                                                                                                            │                                                                                                                                                                    │                                                                        │                                                                            │\n",
      "├───────────────────────────────────────────────────────────────────┼────────────────────────────────────────────────┼──────────────────────────────────────────────────────────────────────────────────────────────────────────────────────────────────────┼───────────────────────────────────────────────────────────────────┼────────────────────────────────────────────────┼──────────────────────────────────────────────────────────────────────────────────────────────────────────────────────────────────────┼─────────────────────────────────────────────────────────────┼───────────────────────────────────────────────┼──────────────────────────────────────────────────────────────────────────────────────────────────────────────┼──────────────────────────────────────────────────────────────────────────────────────────────────────────────────────────────────────────────────────────────────────────┼──────────────────────────────────────────────────────────────────────────────────────────────────────────────────────────────────────────────────────────────────┼────────────────────────────────────────────────────────────────────────────────────────────────────────────────────────────────────────────────────────────────────────────┼────────────────────────────────────────────────────────────────────────────────────────────────────────────────────────────────────────────────────────────────────┼────────────────────────────────────────────────────────────────────────┼────────────────────────────────────────────────────────────────────────────┤\n",
      "│                                                                   │ FO_0_B__4_stack.1~_6_stack.1 <= aux_i2j4x3     │                                                                                                                                      │                                                                   │ FO_1_B__4_putdown.1~_5_pickup.1 <= aux_i2j3x5  │                                                                                                                                      │                                                             │                                               │                                                                                                              │                                                                                                                                                                          │                                                                                                                                                                  │                                                                                                                                                                            │                                                                                                                                                                    │                                                                        │                                                                            │\n",
      "├───────────────────────────────────────────────────────────────────┼────────────────────────────────────────────────┼──────────────────────────────────────────────────────────────────────────────────────────────────────────────────────────────────────┼───────────────────────────────────────────────────────────────────┼────────────────────────────────────────────────┼──────────────────────────────────────────────────────────────────────────────────────────────────────────────────────────────────────┼─────────────────────────────────────────────────────────────┼───────────────────────────────────────────────┼──────────────────────────────────────────────────────────────────────────────────────────────────────────────┼──────────────────────────────────────────────────────────────────────────────────────────────────────────────────────────────────────────────────────────────────────────┼──────────────────────────────────────────────────────────────────────────────────────────────────────────────────────────────────────────────────────────────────┼────────────────────────────────────────────────────────────────────────────────────────────────────────────────────────────────────────────────────────────────────────────┼────────────────────────────────────────────────────────────────────────────────────────────────────────────────────────────────────────────────────────────────────┼────────────────────────────────────────────────────────────────────────┼────────────────────────────────────────────────────────────────────────────┤\n",
      "│                                                                   │ FO_0_B__4_stack.1~_6_stack.1 <= aux_i2j4x5     │                                                                                                                                      │                                                                   │ FO_1_B__4_putdown.1~_6_stack.1 <= aux_i2j4x0   │                                                                                                                                      │                                                             │                                               │                                                                                                              │                                                                                                                                                                          │                                                                                                                                                                  │                                                                                                                                                                            │                                                                                                                                                                    │                                                                        │                                                                            │\n",
      "├───────────────────────────────────────────────────────────────────┼────────────────────────────────────────────────┼──────────────────────────────────────────────────────────────────────────────────────────────────────────────────────────────────────┼───────────────────────────────────────────────────────────────────┼────────────────────────────────────────────────┼──────────────────────────────────────────────────────────────────────────────────────────────────────────────────────────────────────┼─────────────────────────────────────────────────────────────┼───────────────────────────────────────────────┼──────────────────────────────────────────────────────────────────────────────────────────────────────────────┼──────────────────────────────────────────────────────────────────────────────────────────────────────────────────────────────────────────────────────────────────────────┼──────────────────────────────────────────────────────────────────────────────────────────────────────────────────────────────────────────────────────────────────┼────────────────────────────────────────────────────────────────────────────────────────────────────────────────────────────────────────────────────────────────────────────┼────────────────────────────────────────────────────────────────────────────────────────────────────────────────────────────────────────────────────────────────────┼────────────────────────────────────────────────────────────────────────┼────────────────────────────────────────────────────────────────────────────┤\n",
      "│                                                                   │ FO_0_B__4_stack.1~_8_stack.2 <= aux_i2j5x0     │                                                                                                                                      │                                                                   │ FO_1_B__4_putdown.1~_6_stack.1 <= aux_i2j4x1   │                                                                                                                                      │                                                             │                                               │                                                                                                              │                                                                                                                                                                          │                                                                                                                                                                  │                                                                                                                                                                            │                                                                                                                                                                    │                                                                        │                                                                            │\n",
      "├───────────────────────────────────────────────────────────────────┼────────────────────────────────────────────────┼──────────────────────────────────────────────────────────────────────────────────────────────────────────────────────────────────────┼───────────────────────────────────────────────────────────────────┼────────────────────────────────────────────────┼──────────────────────────────────────────────────────────────────────────────────────────────────────────────────────────────────────┼─────────────────────────────────────────────────────────────┼───────────────────────────────────────────────┼──────────────────────────────────────────────────────────────────────────────────────────────────────────────┼──────────────────────────────────────────────────────────────────────────────────────────────────────────────────────────────────────────────────────────────────────────┼──────────────────────────────────────────────────────────────────────────────────────────────────────────────────────────────────────────────────────────────────┼────────────────────────────────────────────────────────────────────────────────────────────────────────────────────────────────────────────────────────────────────────────┼────────────────────────────────────────────────────────────────────────────────────────────────────────────────────────────────────────────────────────────────────┼────────────────────────────────────────────────────────────────────────┼────────────────────────────────────────────────────────────────────────────┤\n",
      "│                                                                   │ FO_0_B__4_stack.1~_8_stack.2 <= aux_i2j5x1     │                                                                                                                                      │                                                                   │ FO_1_B__4_putdown.1~_6_stack.1 <= aux_i2j4x3   │                                                                                                                                      │                                                             │                                               │                                                                                                              │                                                                                                                                                                          │                                                                                                                                                                  │                                                                                                                                                                            │                                                                                                                                                                    │                                                                        │                                                                            │\n",
      "├───────────────────────────────────────────────────────────────────┼────────────────────────────────────────────────┼──────────────────────────────────────────────────────────────────────────────────────────────────────────────────────────────────────┼───────────────────────────────────────────────────────────────────┼────────────────────────────────────────────────┼──────────────────────────────────────────────────────────────────────────────────────────────────────────────────────────────────────┼─────────────────────────────────────────────────────────────┼───────────────────────────────────────────────┼──────────────────────────────────────────────────────────────────────────────────────────────────────────────┼──────────────────────────────────────────────────────────────────────────────────────────────────────────────────────────────────────────────────────────────────────────┼──────────────────────────────────────────────────────────────────────────────────────────────────────────────────────────────────────────────────────────────────┼────────────────────────────────────────────────────────────────────────────────────────────────────────────────────────────────────────────────────────────────────────────┼────────────────────────────────────────────────────────────────────────────────────────────────────────────────────────────────────────────────────────────────────┼────────────────────────────────────────────────────────────────────────┼────────────────────────────────────────────────────────────────────────────┤\n",
      "│                                                                   │ FO_0_B__4_stack.1~_8_stack.2 <= aux_i2j5x3     │                                                                                                                                      │                                                                   │ FO_1_B__4_putdown.1~_6_stack.1 <= aux_i2j4x5   │                                                                                                                                      │                                                             │                                               │                                                                                                              │                                                                                                                                                                          │                                                                                                                                                                  │                                                                                                                                                                            │                                                                                                                                                                    │                                                                        │                                                                            │\n",
      "├───────────────────────────────────────────────────────────────────┼────────────────────────────────────────────────┼──────────────────────────────────────────────────────────────────────────────────────────────────────────────────────────────────────┼───────────────────────────────────────────────────────────────────┼────────────────────────────────────────────────┼──────────────────────────────────────────────────────────────────────────────────────────────────────────────────────────────────────┼─────────────────────────────────────────────────────────────┼───────────────────────────────────────────────┼──────────────────────────────────────────────────────────────────────────────────────────────────────────────┼──────────────────────────────────────────────────────────────────────────────────────────────────────────────────────────────────────────────────────────────────────────┼──────────────────────────────────────────────────────────────────────────────────────────────────────────────────────────────────────────────────────────────────┼────────────────────────────────────────────────────────────────────────────────────────────────────────────────────────────────────────────────────────────────────────────┼────────────────────────────────────────────────────────────────────────────────────────────────────────────────────────────────────────────────────────────────────┼────────────────────────────────────────────────────────────────────────┼────────────────────────────────────────────────────────────────────────────┤\n",
      "│                                                                   │ FO_0_B__4_stack.1~_8_stack.2 <= aux_i2j5x4     │                                                                                                                                      │                                                                   │ FO_1_B__4_putdown.1~_8_stack.2 <= aux_i2j5x0   │                                                                                                                                      │                                                             │                                               │                                                                                                              │                                                                                                                                                                          │                                                                                                                                                                  │                                                                                                                                                                            │                                                                                                                                                                    │                                                                        │                                                                            │\n",
      "├───────────────────────────────────────────────────────────────────┼────────────────────────────────────────────────┼──────────────────────────────────────────────────────────────────────────────────────────────────────────────────────────────────────┼───────────────────────────────────────────────────────────────────┼────────────────────────────────────────────────┼──────────────────────────────────────────────────────────────────────────────────────────────────────────────────────────────────────┼─────────────────────────────────────────────────────────────┼───────────────────────────────────────────────┼──────────────────────────────────────────────────────────────────────────────────────────────────────────────┼──────────────────────────────────────────────────────────────────────────────────────────────────────────────────────────────────────────────────────────────────────────┼──────────────────────────────────────────────────────────────────────────────────────────────────────────────────────────────────────────────────────────────────┼────────────────────────────────────────────────────────────────────────────────────────────────────────────────────────────────────────────────────────────────────────────┼────────────────────────────────────────────────────────────────────────────────────────────────────────────────────────────────────────────────────────────────────┼────────────────────────────────────────────────────────────────────────┼────────────────────────────────────────────────────────────────────────────┤\n",
      "│                                                                   │ FO_0_B__5_unstack.1~_6_stack.1 <= aux_i3j4x0   │                                                                                                                                      │                                                                   │ FO_1_B__4_putdown.1~_8_stack.2 <= aux_i2j5x1   │                                                                                                                                      │                                                             │                                               │                                                                                                              │                                                                                                                                                                          │                                                                                                                                                                  │                                                                                                                                                                            │                                                                                                                                                                    │                                                                        │                                                                            │\n",
      "├───────────────────────────────────────────────────────────────────┼────────────────────────────────────────────────┼──────────────────────────────────────────────────────────────────────────────────────────────────────────────────────────────────────┼───────────────────────────────────────────────────────────────────┼────────────────────────────────────────────────┼──────────────────────────────────────────────────────────────────────────────────────────────────────────────────────────────────────┼─────────────────────────────────────────────────────────────┼───────────────────────────────────────────────┼──────────────────────────────────────────────────────────────────────────────────────────────────────────────┼──────────────────────────────────────────────────────────────────────────────────────────────────────────────────────────────────────────────────────────────────────────┼──────────────────────────────────────────────────────────────────────────────────────────────────────────────────────────────────────────────────────────────────┼────────────────────────────────────────────────────────────────────────────────────────────────────────────────────────────────────────────────────────────────────────────┼────────────────────────────────────────────────────────────────────────────────────────────────────────────────────────────────────────────────────────────────────┼────────────────────────────────────────────────────────────────────────┼────────────────────────────────────────────────────────────────────────────┤\n",
      "│                                                                   │ FO_0_B__5_unstack.1~_6_stack.1 <= aux_i3j4x1   │                                                                                                                                      │                                                                   │ FO_1_B__4_putdown.1~_8_stack.2 <= aux_i2j5x3   │                                                                                                                                      │                                                             │                                               │                                                                                                              │                                                                                                                                                                          │                                                                                                                                                                  │                                                                                                                                                                            │                                                                                                                                                                    │                                                                        │                                                                            │\n",
      "├───────────────────────────────────────────────────────────────────┼────────────────────────────────────────────────┼──────────────────────────────────────────────────────────────────────────────────────────────────────────────────────────────────────┼───────────────────────────────────────────────────────────────────┼────────────────────────────────────────────────┼──────────────────────────────────────────────────────────────────────────────────────────────────────────────────────────────────────┼─────────────────────────────────────────────────────────────┼───────────────────────────────────────────────┼──────────────────────────────────────────────────────────────────────────────────────────────────────────────┼──────────────────────────────────────────────────────────────────────────────────────────────────────────────────────────────────────────────────────────────────────────┼──────────────────────────────────────────────────────────────────────────────────────────────────────────────────────────────────────────────────────────────────┼────────────────────────────────────────────────────────────────────────────────────────────────────────────────────────────────────────────────────────────────────────────┼────────────────────────────────────────────────────────────────────────────────────────────────────────────────────────────────────────────────────────────────────┼────────────────────────────────────────────────────────────────────────┼────────────────────────────────────────────────────────────────────────────┤\n",
      "│                                                                   │ FO_0_B__5_unstack.1~_6_stack.1 <= aux_i3j4x2   │                                                                                                                                      │                                                                   │ FO_1_B__4_putdown.1~_8_stack.2 <= aux_i2j5x4   │                                                                                                                                      │                                                             │                                               │                                                                                                              │                                                                                                                                                                          │                                                                                                                                                                  │                                                                                                                                                                            │                                                                                                                                                                    │                                                                        │                                                                            │\n",
      "├───────────────────────────────────────────────────────────────────┼────────────────────────────────────────────────┼──────────────────────────────────────────────────────────────────────────────────────────────────────────────────────────────────────┼───────────────────────────────────────────────────────────────────┼────────────────────────────────────────────────┼──────────────────────────────────────────────────────────────────────────────────────────────────────────────────────────────────────┼─────────────────────────────────────────────────────────────┼───────────────────────────────────────────────┼──────────────────────────────────────────────────────────────────────────────────────────────────────────────┼──────────────────────────────────────────────────────────────────────────────────────────────────────────────────────────────────────────────────────────────────────────┼──────────────────────────────────────────────────────────────────────────────────────────────────────────────────────────────────────────────────────────────────┼────────────────────────────────────────────────────────────────────────────────────────────────────────────────────────────────────────────────────────────────────────────┼────────────────────────────────────────────────────────────────────────────────────────────────────────────────────────────────────────────────────────────────────┼────────────────────────────────────────────────────────────────────────┼────────────────────────────────────────────────────────────────────────────┤\n",
      "│                                                                   │ FO_0_B__5_unstack.1~_6_stack.1 <= aux_i3j4x5   │                                                                                                                                      │                                                                   │ FO_1_B__5_pickup.1~_6_stack.1 <= aux_i3j4x0    │                                                                                                                                      │                                                             │                                               │                                                                                                              │                                                                                                                                                                          │                                                                                                                                                                  │                                                                                                                                                                            │                                                                                                                                                                    │                                                                        │                                                                            │\n",
      "├───────────────────────────────────────────────────────────────────┼────────────────────────────────────────────────┼──────────────────────────────────────────────────────────────────────────────────────────────────────────────────────────────────────┼───────────────────────────────────────────────────────────────────┼────────────────────────────────────────────────┼──────────────────────────────────────────────────────────────────────────────────────────────────────────────────────────────────────┼─────────────────────────────────────────────────────────────┼───────────────────────────────────────────────┼──────────────────────────────────────────────────────────────────────────────────────────────────────────────┼──────────────────────────────────────────────────────────────────────────────────────────────────────────────────────────────────────────────────────────────────────────┼──────────────────────────────────────────────────────────────────────────────────────────────────────────────────────────────────────────────────────────────────┼────────────────────────────────────────────────────────────────────────────────────────────────────────────────────────────────────────────────────────────────────────────┼────────────────────────────────────────────────────────────────────────────────────────────────────────────────────────────────────────────────────────────────────┼────────────────────────────────────────────────────────────────────────┼────────────────────────────────────────────────────────────────────────────┤\n",
      "│                                                                   │ FO_0_B__5_unstack.1~_8_stack.2 <= aux_i3j5x0   │                                                                                                                                      │                                                                   │ FO_1_B__5_pickup.1~_6_stack.1 <= aux_i3j4x1    │                                                                                                                                      │                                                             │                                               │                                                                                                              │                                                                                                                                                                          │                                                                                                                                                                  │                                                                                                                                                                            │                                                                                                                                                                    │                                                                        │                                                                            │\n",
      "├───────────────────────────────────────────────────────────────────┼────────────────────────────────────────────────┼──────────────────────────────────────────────────────────────────────────────────────────────────────────────────────────────────────┼───────────────────────────────────────────────────────────────────┼────────────────────────────────────────────────┼──────────────────────────────────────────────────────────────────────────────────────────────────────────────────────────────────────┼─────────────────────────────────────────────────────────────┼───────────────────────────────────────────────┼──────────────────────────────────────────────────────────────────────────────────────────────────────────────┼──────────────────────────────────────────────────────────────────────────────────────────────────────────────────────────────────────────────────────────────────────────┼──────────────────────────────────────────────────────────────────────────────────────────────────────────────────────────────────────────────────────────────────┼────────────────────────────────────────────────────────────────────────────────────────────────────────────────────────────────────────────────────────────────────────────┼────────────────────────────────────────────────────────────────────────────────────────────────────────────────────────────────────────────────────────────────────┼────────────────────────────────────────────────────────────────────────┼────────────────────────────────────────────────────────────────────────────┤\n",
      "│                                                                   │ FO_0_B__5_unstack.1~_8_stack.2 <= aux_i3j5x1   │                                                                                                                                      │                                                                   │ FO_1_B__5_pickup.1~_6_stack.1 <= aux_i3j4x2    │                                                                                                                                      │                                                             │                                               │                                                                                                              │                                                                                                                                                                          │                                                                                                                                                                  │                                                                                                                                                                            │                                                                                                                                                                    │                                                                        │                                                                            │\n",
      "├───────────────────────────────────────────────────────────────────┼────────────────────────────────────────────────┼──────────────────────────────────────────────────────────────────────────────────────────────────────────────────────────────────────┼───────────────────────────────────────────────────────────────────┼────────────────────────────────────────────────┼──────────────────────────────────────────────────────────────────────────────────────────────────────────────────────────────────────┼─────────────────────────────────────────────────────────────┼───────────────────────────────────────────────┼──────────────────────────────────────────────────────────────────────────────────────────────────────────────┼──────────────────────────────────────────────────────────────────────────────────────────────────────────────────────────────────────────────────────────────────────────┼──────────────────────────────────────────────────────────────────────────────────────────────────────────────────────────────────────────────────────────────────┼────────────────────────────────────────────────────────────────────────────────────────────────────────────────────────────────────────────────────────────────────────────┼────────────────────────────────────────────────────────────────────────────────────────────────────────────────────────────────────────────────────────────────────┼────────────────────────────────────────────────────────────────────────┼────────────────────────────────────────────────────────────────────────────┤\n",
      "│                                                                   │ FO_0_B__5_unstack.1~_8_stack.2 <= aux_i3j5x2   │                                                                                                                                      │                                                                   │ FO_1_B__5_pickup.1~_6_stack.1 <= aux_i3j4x5    │                                                                                                                                      │                                                             │                                               │                                                                                                              │                                                                                                                                                                          │                                                                                                                                                                  │                                                                                                                                                                            │                                                                                                                                                                    │                                                                        │                                                                            │\n",
      "├───────────────────────────────────────────────────────────────────┼────────────────────────────────────────────────┼──────────────────────────────────────────────────────────────────────────────────────────────────────────────────────────────────────┼───────────────────────────────────────────────────────────────────┼────────────────────────────────────────────────┼──────────────────────────────────────────────────────────────────────────────────────────────────────────────────────────────────────┼─────────────────────────────────────────────────────────────┼───────────────────────────────────────────────┼──────────────────────────────────────────────────────────────────────────────────────────────────────────────┼──────────────────────────────────────────────────────────────────────────────────────────────────────────────────────────────────────────────────────────────────────────┼──────────────────────────────────────────────────────────────────────────────────────────────────────────────────────────────────────────────────────────────────┼────────────────────────────────────────────────────────────────────────────────────────────────────────────────────────────────────────────────────────────────────────────┼────────────────────────────────────────────────────────────────────────────────────────────────────────────────────────────────────────────────────────────────────┼────────────────────────────────────────────────────────────────────────┼────────────────────────────────────────────────────────────────────────────┤\n",
      "│                                                                   │ FO_0_B__5_unstack.1~_8_stack.2 <= aux_i3j5x4   │                                                                                                                                      │                                                                   │ FO_1_B__5_pickup.1~_8_stack.2 <= aux_i3j5x0    │                                                                                                                                      │                                                             │                                               │                                                                                                              │                                                                                                                                                                          │                                                                                                                                                                  │                                                                                                                                                                            │                                                                                                                                                                    │                                                                        │                                                                            │\n",
      "├───────────────────────────────────────────────────────────────────┼────────────────────────────────────────────────┼──────────────────────────────────────────────────────────────────────────────────────────────────────────────────────────────────────┼───────────────────────────────────────────────────────────────────┼────────────────────────────────────────────────┼──────────────────────────────────────────────────────────────────────────────────────────────────────────────────────────────────────┼─────────────────────────────────────────────────────────────┼───────────────────────────────────────────────┼──────────────────────────────────────────────────────────────────────────────────────────────────────────────┼──────────────────────────────────────────────────────────────────────────────────────────────────────────────────────────────────────────────────────────────────────────┼──────────────────────────────────────────────────────────────────────────────────────────────────────────────────────────────────────────────────────────────────┼────────────────────────────────────────────────────────────────────────────────────────────────────────────────────────────────────────────────────────────────────────────┼────────────────────────────────────────────────────────────────────────────────────────────────────────────────────────────────────────────────────────────────────┼────────────────────────────────────────────────────────────────────────┼────────────────────────────────────────────────────────────────────────────┤\n",
      "│                                                                   │ FO_0_B__6_stack.1~_8_stack.2 <= aux_i4j5x0     │                                                                                                                                      │                                                                   │ FO_1_B__5_pickup.1~_8_stack.2 <= aux_i3j5x1    │                                                                                                                                      │                                                             │                                               │                                                                                                              │                                                                                                                                                                          │                                                                                                                                                                  │                                                                                                                                                                            │                                                                                                                                                                    │                                                                        │                                                                            │\n",
      "├───────────────────────────────────────────────────────────────────┼────────────────────────────────────────────────┼──────────────────────────────────────────────────────────────────────────────────────────────────────────────────────────────────────┼───────────────────────────────────────────────────────────────────┼────────────────────────────────────────────────┼──────────────────────────────────────────────────────────────────────────────────────────────────────────────────────────────────────┼─────────────────────────────────────────────────────────────┼───────────────────────────────────────────────┼──────────────────────────────────────────────────────────────────────────────────────────────────────────────┼──────────────────────────────────────────────────────────────────────────────────────────────────────────────────────────────────────────────────────────────────────────┼──────────────────────────────────────────────────────────────────────────────────────────────────────────────────────────────────────────────────────────────────┼────────────────────────────────────────────────────────────────────────────────────────────────────────────────────────────────────────────────────────────────────────────┼────────────────────────────────────────────────────────────────────────────────────────────────────────────────────────────────────────────────────────────────────┼────────────────────────────────────────────────────────────────────────┼────────────────────────────────────────────────────────────────────────────┤\n",
      "│                                                                   │ FO_0_B__6_stack.1~_8_stack.2 <= aux_i4j5x1     │                                                                                                                                      │                                                                   │ FO_1_B__5_pickup.1~_8_stack.2 <= aux_i3j5x2    │                                                                                                                                      │                                                             │                                               │                                                                                                              │                                                                                                                                                                          │                                                                                                                                                                  │                                                                                                                                                                            │                                                                                                                                                                    │                                                                        │                                                                            │\n",
      "├───────────────────────────────────────────────────────────────────┼────────────────────────────────────────────────┼──────────────────────────────────────────────────────────────────────────────────────────────────────────────────────────────────────┼───────────────────────────────────────────────────────────────────┼────────────────────────────────────────────────┼──────────────────────────────────────────────────────────────────────────────────────────────────────────────────────────────────────┼─────────────────────────────────────────────────────────────┼───────────────────────────────────────────────┼──────────────────────────────────────────────────────────────────────────────────────────────────────────────┼──────────────────────────────────────────────────────────────────────────────────────────────────────────────────────────────────────────────────────────────────────────┼──────────────────────────────────────────────────────────────────────────────────────────────────────────────────────────────────────────────────────────────────┼────────────────────────────────────────────────────────────────────────────────────────────────────────────────────────────────────────────────────────────────────────────┼────────────────────────────────────────────────────────────────────────────────────────────────────────────────────────────────────────────────────────────────────┼────────────────────────────────────────────────────────────────────────┼────────────────────────────────────────────────────────────────────────────┤\n",
      "│                                                                   │ FO_0_B__6_stack.1~_8_stack.2 <= aux_i4j5x2     │                                                                                                                                      │                                                                   │ FO_1_B__5_pickup.1~_8_stack.2 <= aux_i3j5x4    │                                                                                                                                      │                                                             │                                               │                                                                                                              │                                                                                                                                                                          │                                                                                                                                                                  │                                                                                                                                                                            │                                                                                                                                                                    │                                                                        │                                                                            │\n",
      "├───────────────────────────────────────────────────────────────────┼────────────────────────────────────────────────┼──────────────────────────────────────────────────────────────────────────────────────────────────────────────────────────────────────┼───────────────────────────────────────────────────────────────────┼────────────────────────────────────────────────┼──────────────────────────────────────────────────────────────────────────────────────────────────────────────────────────────────────┼─────────────────────────────────────────────────────────────┼───────────────────────────────────────────────┼──────────────────────────────────────────────────────────────────────────────────────────────────────────────┼──────────────────────────────────────────────────────────────────────────────────────────────────────────────────────────────────────────────────────────────────────────┼──────────────────────────────────────────────────────────────────────────────────────────────────────────────────────────────────────────────────────────────────┼────────────────────────────────────────────────────────────────────────────────────────────────────────────────────────────────────────────────────────────────────────────┼────────────────────────────────────────────────────────────────────────────────────────────────────────────────────────────────────────────────────────────────────┼────────────────────────────────────────────────────────────────────────┼────────────────────────────────────────────────────────────────────────────┤\n",
      "│                                                                   │ FO_0_B__6_stack.1~_8_stack.2 <= aux_i4j5x3     │                                                                                                                                      │                                                                   │ FO_1_B__6_stack.1~_8_stack.2 <= aux_i4j5x0     │                                                                                                                                      │                                                             │                                               │                                                                                                              │                                                                                                                                                                          │                                                                                                                                                                  │                                                                                                                                                                            │                                                                                                                                                                    │                                                                        │                                                                            │\n",
      "├───────────────────────────────────────────────────────────────────┼────────────────────────────────────────────────┼──────────────────────────────────────────────────────────────────────────────────────────────────────────────────────────────────────┼───────────────────────────────────────────────────────────────────┼────────────────────────────────────────────────┼──────────────────────────────────────────────────────────────────────────────────────────────────────────────────────────────────────┼─────────────────────────────────────────────────────────────┼───────────────────────────────────────────────┼──────────────────────────────────────────────────────────────────────────────────────────────────────────────┼──────────────────────────────────────────────────────────────────────────────────────────────────────────────────────────────────────────────────────────────────────────┼──────────────────────────────────────────────────────────────────────────────────────────────────────────────────────────────────────────────────────────────────┼────────────────────────────────────────────────────────────────────────────────────────────────────────────────────────────────────────────────────────────────────────────┼────────────────────────────────────────────────────────────────────────────────────────────────────────────────────────────────────────────────────────────────────┼────────────────────────────────────────────────────────────────────────┼────────────────────────────────────────────────────────────────────────────┤\n",
      "│                                                                   │                                                │                                                                                                                                      │                                                                   │ FO_1_B__6_stack.1~_8_stack.2 <= aux_i4j5x1     │                                                                                                                                      │                                                             │                                               │                                                                                                              │                                                                                                                                                                          │                                                                                                                                                                  │                                                                                                                                                                            │                                                                                                                                                                    │                                                                        │                                                                            │\n",
      "├───────────────────────────────────────────────────────────────────┼────────────────────────────────────────────────┼──────────────────────────────────────────────────────────────────────────────────────────────────────────────────────────────────────┼───────────────────────────────────────────────────────────────────┼────────────────────────────────────────────────┼──────────────────────────────────────────────────────────────────────────────────────────────────────────────────────────────────────┼─────────────────────────────────────────────────────────────┼───────────────────────────────────────────────┼──────────────────────────────────────────────────────────────────────────────────────────────────────────────┼──────────────────────────────────────────────────────────────────────────────────────────────────────────────────────────────────────────────────────────────────────────┼──────────────────────────────────────────────────────────────────────────────────────────────────────────────────────────────────────────────────────────────────┼────────────────────────────────────────────────────────────────────────────────────────────────────────────────────────────────────────────────────────────────────────────┼────────────────────────────────────────────────────────────────────────────────────────────────────────────────────────────────────────────────────────────────────┼────────────────────────────────────────────────────────────────────────┼────────────────────────────────────────────────────────────────────────────┤\n",
      "│                                                                   │                                                │                                                                                                                                      │                                                                   │ FO_1_B__6_stack.1~_8_stack.2 <= aux_i4j5x2     │                                                                                                                                      │                                                             │                                               │                                                                                                              │                                                                                                                                                                          │                                                                                                                                                                  │                                                                                                                                                                            │                                                                                                                                                                    │                                                                        │                                                                            │\n",
      "├───────────────────────────────────────────────────────────────────┼────────────────────────────────────────────────┼──────────────────────────────────────────────────────────────────────────────────────────────────────────────────────────────────────┼───────────────────────────────────────────────────────────────────┼────────────────────────────────────────────────┼──────────────────────────────────────────────────────────────────────────────────────────────────────────────────────────────────────┼─────────────────────────────────────────────────────────────┼───────────────────────────────────────────────┼──────────────────────────────────────────────────────────────────────────────────────────────────────────────┼──────────────────────────────────────────────────────────────────────────────────────────────────────────────────────────────────────────────────────────────────────────┼──────────────────────────────────────────────────────────────────────────────────────────────────────────────────────────────────────────────────────────────────┼────────────────────────────────────────────────────────────────────────────────────────────────────────────────────────────────────────────────────────────────────────────┼────────────────────────────────────────────────────────────────────────────────────────────────────────────────────────────────────────────────────────────────────┼────────────────────────────────────────────────────────────────────────┼────────────────────────────────────────────────────────────────────────────┤\n",
      "│                                                                   │                                                │                                                                                                                                      │                                                                   │ FO_1_B__6_stack.1~_8_stack.2 <= aux_i4j5x3     │                                                                                                                                      │                                                             │                                               │                                                                                                              │                                                                                                                                                                          │                                                                                                                                                                  │                                                                                                                                                                            │                                                                                                                                                                    │                                                                        │                                                                            │\n",
      "├───────────────────────────────────────────────────────────────────┼────────────────────────────────────────────────┼──────────────────────────────────────────────────────────────────────────────────────────────────────────────────────────────────────┼───────────────────────────────────────────────────────────────────┼────────────────────────────────────────────────┼──────────────────────────────────────────────────────────────────────────────────────────────────────────────────────────────────────┼─────────────────────────────────────────────────────────────┼───────────────────────────────────────────────┼──────────────────────────────────────────────────────────────────────────────────────────────────────────────┼──────────────────────────────────────────────────────────────────────────────────────────────────────────────────────────────────────────────────────────────────────────┼──────────────────────────────────────────────────────────────────────────────────────────────────────────────────────────────────────────────────────────────────┼────────────────────────────────────────────────────────────────────────────────────────────────────────────────────────────────────────────────────────────────────────────┼────────────────────────────────────────────────────────────────────────────────────────────────────────────────────────────────────────────────────────────────────┼────────────────────────────────────────────────────────────────────────┼────────────────────────────────────────────────────────────────────────────┤\n",
      "│                                                                   │                                                │                                                                                                                                      │                                                                   │ FO_1_A__3_unstack.2~_7_pickup.1 <= aux_i0j1x2  │                                                                                                                                      │                                                             │                                               │                                                                                                              │                                                                                                                                                                          │                                                                                                                                                                  │                                                                                                                                                                            │                                                                                                                                                                    │                                                                        │                                                                            │\n",
      "├───────────────────────────────────────────────────────────────────┼────────────────────────────────────────────────┼──────────────────────────────────────────────────────────────────────────────────────────────────────────────────────────────────────┼───────────────────────────────────────────────────────────────────┼────────────────────────────────────────────────┼──────────────────────────────────────────────────────────────────────────────────────────────────────────────────────────────────────┼─────────────────────────────────────────────────────────────┼───────────────────────────────────────────────┼──────────────────────────────────────────────────────────────────────────────────────────────────────────────┼──────────────────────────────────────────────────────────────────────────────────────────────────────────────────────────────────────────────────────────────────────────┼──────────────────────────────────────────────────────────────────────────────────────────────────────────────────────────────────────────────────────────────────┼────────────────────────────────────────────────────────────────────────────────────────────────────────────────────────────────────────────────────────────────────────────┼────────────────────────────────────────────────────────────────────────────────────────────────────────────────────────────────────────────────────────────────────┼────────────────────────────────────────────────────────────────────────┼────────────────────────────────────────────────────────────────────────────┤\n",
      "│                                                                   │                                                │                                                                                                                                      │                                                                   │ FO_1_A__3_unstack.2~_8_stack.1 <= aux_i0j2x1   │                                                                                                                                      │                                                             │                                               │                                                                                                              │                                                                                                                                                                          │                                                                                                                                                                  │                                                                                                                                                                            │                                                                                                                                                                    │                                                                        │                                                                            │\n",
      "├───────────────────────────────────────────────────────────────────┼────────────────────────────────────────────────┼──────────────────────────────────────────────────────────────────────────────────────────────────────────────────────────────────────┼───────────────────────────────────────────────────────────────────┼────────────────────────────────────────────────┼──────────────────────────────────────────────────────────────────────────────────────────────────────────────────────────────────────┼─────────────────────────────────────────────────────────────┼───────────────────────────────────────────────┼──────────────────────────────────────────────────────────────────────────────────────────────────────────────┼──────────────────────────────────────────────────────────────────────────────────────────────────────────────────────────────────────────────────────────────────────────┼──────────────────────────────────────────────────────────────────────────────────────────────────────────────────────────────────────────────────────────────────┼────────────────────────────────────────────────────────────────────────────────────────────────────────────────────────────────────────────────────────────────────────────┼────────────────────────────────────────────────────────────────────────────────────────────────────────────────────────────────────────────────────────────────────┼────────────────────────────────────────────────────────────────────────┼────────────────────────────────────────────────────────────────────────────┤\n",
      "│                                                                   │                                                │                                                                                                                                      │                                                                   │ FO_1_A__7_pickup.1~_8_stack.1 <= aux_i1j2x0    │                                                                                                                                      │                                                             │                                               │                                                                                                              │                                                                                                                                                                          │                                                                                                                                                                  │                                                                                                                                                                            │                                                                                                                                                                    │                                                                        │                                                                            │\n",
      "╘═══════════════════════════════════════════════════════════════════╧════════════════════════════════════════════════╧══════════════════════════════════════════════════════════════════════════════════════════════════════════════════════════════════════╧═══════════════════════════════════════════════════════════════════╧════════════════════════════════════════════════╧══════════════════════════════════════════════════════════════════════════════════════════════════════════════════════════════════════╧═════════════════════════════════════════════════════════════╧═══════════════════════════════════════════════╧══════════════════════════════════════════════════════════════════════════════════════════════════════════════╧══════════════════════════════════════════════════════════════════════════════════════════════════════════════════════════════════════════════════════════════════════════╧══════════════════════════════════════════════════════════════════════════════════════════════════════════════════════════════════════════════════════════════════╧════════════════════════════════════════════════════════════════════════════════════════════════════════════════════════════════════════════════════════════════════════════╧════════════════════════════════════════════════════════════════════════════════════════════════════════════════════════════════════════════════════════════════════╧════════════════════════════════════════════════════════════════════════╧════════════════════════════════════════════════════════════════════════════╛\n"
     ]
    }
   ],
   "source": [
    "prob, FO_vars_overall, FO_matrix_with_vars, varname_lookup = POLOCM.polocm_step3(prob,PO_vars_overall, PO_matrix_with_vars, obj_trace_FO_matrix_overall, debug=True)"
   ]
  },
  {
   "cell_type": "code",
   "execution_count": 9,
   "metadata": {},
   "outputs": [
    {
     "data": {
      "text/markdown": [
       "# Step 4"
      ],
      "text/plain": [
       "<IPython.core.display.Markdown object>"
      ]
     },
     "metadata": {},
     "output_type": "display_data"
    },
    {
     "data": {
      "text/markdown": [
       "## AP vars"
      ],
      "text/plain": [
       "<IPython.core.display.Markdown object>"
      ]
     },
     "metadata": {},
     "output_type": "display_data"
    },
    {
     "name": "stdout",
     "output_type": "stream",
     "text": [
      "╒════════════════════════╕\n",
      "│ 1                      │\n",
      "╞════════════════════════╡\n",
      "│ (unstack.1, stack.2)   │\n",
      "├────────────────────────┤\n",
      "│ (unstack.1, pickup.1)  │\n",
      "├────────────────────────┤\n",
      "│ (stack.2, stack.2)     │\n",
      "├────────────────────────┤\n",
      "│ (unstack.2, unstack.1) │\n",
      "├────────────────────────┤\n",
      "│ (unstack.2, stack.1)   │\n",
      "├────────────────────────┤\n",
      "│ (unstack.2, putdown.1) │\n",
      "├────────────────────────┤\n",
      "│ (pickup.1, unstack.1)  │\n",
      "├────────────────────────┤\n",
      "│ (pickup.1, stack.2)    │\n",
      "├────────────────────────┤\n",
      "│ (pickup.1, pickup.1)   │\n",
      "├────────────────────────┤\n",
      "│ (stack.1, unstack.1)   │\n",
      "├────────────────────────┤\n",
      "│ (stack.1, stack.1)     │\n",
      "├────────────────────────┤\n",
      "│ (putdown.1, stack.2)   │\n",
      "├────────────────────────┤\n",
      "│ (putdown.1, stack.1)   │\n",
      "╘════════════════════════╛\n"
     ]
    },
    {
     "data": {
      "text/markdown": [
       "## AP matrix with vars"
      ],
      "text/plain": [
       "<IPython.core.display.Markdown object>"
      ]
     },
     "metadata": {},
     "output_type": "display_data"
    },
    {
     "data": {
      "text/markdown": [
       "### Sort 1"
      ],
      "text/plain": [
       "<IPython.core.display.Markdown object>"
      ]
     },
     "metadata": {},
     "output_type": "display_data"
    },
    {
     "name": "stdout",
     "output_type": "stream",
     "text": [
      "╒═══════════╤════════════════════════╤══════════════════════╤═════════════╤═══════════════════════╤══════════════════════╤════════════════════════╕\n",
      "│           │ unstack.1              │ stack.2              │   unstack.2 │ pickup.1              │ stack.1              │ putdown.1              │\n",
      "╞═══════════╪════════════════════════╪══════════════════════╪═════════════╪═══════════════════════╪══════════════════════╪════════════════════════╡\n",
      "│ unstack.1 │ nan                    │ (unstack.1, stack.2) │         nan │ (unstack.1, pickup.1) │ 1                    │ 1                      │\n",
      "├───────────┼────────────────────────┼──────────────────────┼─────────────┼───────────────────────┼──────────────────────┼────────────────────────┤\n",
      "│ stack.2   │ nan                    │ (stack.2, stack.2)   │           1 │ nan                   │ nan                  │ nan                    │\n",
      "├───────────┼────────────────────────┼──────────────────────┼─────────────┼───────────────────────┼──────────────────────┼────────────────────────┤\n",
      "│ unstack.2 │ (unstack.2, unstack.1) │ 1                    │         nan │ 1                     │ (unstack.2, stack.1) │ (unstack.2, putdown.1) │\n",
      "├───────────┼────────────────────────┼──────────────────────┼─────────────┼───────────────────────┼──────────────────────┼────────────────────────┤\n",
      "│ pickup.1  │ (pickup.1, unstack.1)  │ (pickup.1, stack.2)  │         nan │ (pickup.1, pickup.1)  │ 1                    │ 1                      │\n",
      "├───────────┼────────────────────────┼──────────────────────┼─────────────┼───────────────────────┼──────────────────────┼────────────────────────┤\n",
      "│ stack.1   │ (stack.1, unstack.1)   │ 1                    │         nan │ nan                   │ (stack.1, stack.1)   │ nan                    │\n",
      "├───────────┼────────────────────────┼──────────────────────┼─────────────┼───────────────────────┼──────────────────────┼────────────────────────┤\n",
      "│ putdown.1 │ nan                    │ (putdown.1, stack.2) │         nan │ 1                     │ (putdown.1, stack.1) │ nan                    │\n",
      "╘═══════════╧════════════════════════╧══════════════════════╧═════════════╧═══════════════════════╧══════════════════════╧════════════════════════╛\n"
     ]
    },
    {
     "data": {
      "text/markdown": [
       "## AP Constraints"
      ],
      "text/plain": [
       "<IPython.core.display.Markdown object>"
      ]
     },
     "metadata": {},
     "output_type": "display_data"
    },
    {
     "name": "stdout",
     "output_type": "stream",
     "text": [
      "╒══════════════════════════════════════════════════════════════════════════════════════════════════════════════════════════════════════════════════════════╕\n",
      "│ 1                                                                                                                                                        │\n",
      "╞══════════════════════════════════════════════════════════════════════════════════════════════════════════════════════════════════════════════════════════╡\n",
      "│ AP_unstack.1~stack.2 >= [FO_0_B__5_unstack.1~_8_stack.2, FO_1_C__1_unstack.1~_6_stack.2, FO_1_B__3_unstack.1~_8_stack.2]                                 │\n",
      "├──────────────────────────────────────────────────────────────────────────────────────────────────────────────────────────────────────────────────────────┤\n",
      "│ AP_unstack.1~pickup.1 >= [FO_1_B__3_unstack.1~_5_pickup.1]                                                                                               │\n",
      "├──────────────────────────────────────────────────────────────────────────────────────────────────────────────────────────────────────────────────────────┤\n",
      "│ AP_stack.2~stack.2 >= []                                                                                                                                 │\n",
      "├──────────────────────────────────────────────────────────────────────────────────────────────────────────────────────────────────────────────────────────┤\n",
      "│ AP_unstack.2~unstack.1 >= [FO_0_B__1_unstack.2~_5_unstack.1, FO_1_B__1_unstack.2~_3_unstack.1]                                                           │\n",
      "├──────────────────────────────────────────────────────────────────────────────────────────────────────────────────────────────────────────────────────────┤\n",
      "│ AP_unstack.2~stack.1 >= [FO_0_B__1_unstack.2~_4_stack.1, FO_0_B__1_unstack.2~_6_stack.1, FO_1_A__3_unstack.2~_8_stack.1, FO_1_B__1_unstack.2~_6_stack.1] │\n",
      "├──────────────────────────────────────────────────────────────────────────────────────────────────────────────────────────────────────────────────────────┤\n",
      "│ AP_unstack.2~putdown.1 >= [FO_1_B__1_unstack.2~_4_putdown.1]                                                                                             │\n",
      "├──────────────────────────────────────────────────────────────────────────────────────────────────────────────────────────────────────────────────────────┤\n",
      "│ AP_pickup.1~unstack.1 >= [FO_0_B__3_pickup.1~_5_unstack.1]                                                                                               │\n",
      "├──────────────────────────────────────────────────────────────────────────────────────────────────────────────────────────────────────────────────────────┤\n",
      "│ AP_pickup.1~stack.2 >= [FO_0_B__3_pickup.1~_8_stack.2, FO_1_B__5_pickup.1~_8_stack.2]                                                                    │\n",
      "├──────────────────────────────────────────────────────────────────────────────────────────────────────────────────────────────────────────────────────────┤\n",
      "│ AP_pickup.1~pickup.1 >= []                                                                                                                               │\n",
      "├──────────────────────────────────────────────────────────────────────────────────────────────────────────────────────────────────────────────────────────┤\n",
      "│ AP_stack.1~unstack.1 >= [FO_0_B__4_stack.1~_5_unstack.1]                                                                                                 │\n",
      "├──────────────────────────────────────────────────────────────────────────────────────────────────────────────────────────────────────────────────────────┤\n",
      "│ AP_stack.1~stack.1 >= [FO_0_B__4_stack.1~_6_stack.1]                                                                                                     │\n",
      "├──────────────────────────────────────────────────────────────────────────────────────────────────────────────────────────────────────────────────────────┤\n",
      "│ AP_putdown.1~stack.2 >= [FO_1_C__2_putdown.1~_6_stack.2, FO_1_B__4_putdown.1~_8_stack.2]                                                                 │\n",
      "├──────────────────────────────────────────────────────────────────────────────────────────────────────────────────────────────────────────────────────────┤\n",
      "│ AP_putdown.1~stack.1 >= [FO_1_B__4_putdown.1~_6_stack.1, FO_2_B__4_putdown.1~_6_stack.1]                                                                 │\n",
      "╘══════════════════════════════════════════════════════════════════════════════════════════════════════════════════════════════════════════════════════════╛\n"
     ]
    }
   ],
   "source": [
    "prob, sort_transition_matrix, sort_AP_vars, varname_lookup = POLOCM.polocm_step4(prob, sort_aps, sorts,FO_vars_overall, FO_matrix_with_vars,varname_lookup, debug=True)"
   ]
  },
  {
   "cell_type": "code",
   "execution_count": 10,
   "metadata": {},
   "outputs": [
    {
     "name": "stdout",
     "output_type": "stream",
     "text": [
      "defaultdict(<class 'dict'>, {1: {(unstack.1, stack.2): AP_unstack.1~stack.2, (unstack.1, pickup.1): AP_unstack.1~pickup.1, (stack.2, stack.2): AP_stack.2~stack.2, (unstack.2, unstack.1): AP_unstack.2~unstack.1, (unstack.2, stack.1): AP_unstack.2~stack.1, (unstack.2, putdown.1): AP_unstack.2~putdown.1, (pickup.1, unstack.1): AP_pickup.1~unstack.1, (pickup.1, stack.2): AP_pickup.1~stack.2, (pickup.1, pickup.1): AP_pickup.1~pickup.1, (stack.1, unstack.1): AP_stack.1~unstack.1, (stack.1, stack.1): AP_stack.1~stack.1, (putdown.1, stack.2): AP_putdown.1~stack.2, (putdown.1, stack.1): AP_putdown.1~stack.1}})\n"
     ]
    },
    {
     "name": "stdout",
     "output_type": "stream",
     "text": [
      "Welcome to the CBC MILP Solver \n",
      "Version: 2.10.3 \n",
      "Build Date: Dec 15 2019 \n",
      "\n",
      "command line - /home/uto/miniconda3/lib/python3.12/site-packages/pulp/solverdir/cbc/linux/64/cbc /tmp/9ce72c0e4490410d9f40a27f19f46835-pulp.mps -timeMode elapsed -branch -printingOptions all -solution /tmp/9ce72c0e4490410d9f40a27f19f46835-pulp.sol (default strategy 1)\n",
      "At line 2 NAME          MODEL\n",
      "At line 3 ROWS\n",
      "At line 906 COLUMNS\n",
      "At line 3190 RHS\n",
      "At line 4092 BOUNDS\n",
      "At line 4300 ENDATA\n",
      "Problem MODEL has 901 rows, 207 columns and 1856 elements\n",
      "Coin0008I MODEL read with 0 errors\n",
      "Option for timeMode changed from cpu to elapsed\n",
      "Continuous objective value is 3 - 0.00 seconds\n",
      "Cgl0002I 11 variables fixed\n",
      "Cgl0004I processed model has 0 rows, 0 columns (0 integer (0 of which binary)) and 0 elements\n",
      "Cbc3007W No integer variables - nothing to do\n",
      "Cuts at root node changed objective from 3 to -1.79769e+308\n",
      "Probing was tried 0 times and created 0 cuts of which 0 were active after adding rounds of cuts (0.000 seconds)\n",
      "Gomory was tried 0 times and created 0 cuts of which 0 were active after adding rounds of cuts (0.000 seconds)\n",
      "Knapsack was tried 0 times and created 0 cuts of which 0 were active after adding rounds of cuts (0.000 seconds)\n",
      "Clique was tried 0 times and created 0 cuts of which 0 were active after adding rounds of cuts (0.000 seconds)\n",
      "MixedIntegerRounding2 was tried 0 times and created 0 cuts of which 0 were active after adding rounds of cuts (0.000 seconds)\n",
      "FlowCover was tried 0 times and created 0 cuts of which 0 were active after adding rounds of cuts (0.000 seconds)\n",
      "TwoMirCuts was tried 0 times and created 0 cuts of which 0 were active after adding rounds of cuts (0.000 seconds)\n",
      "ZeroHalf was tried 0 times and created 0 cuts of which 0 were active after adding rounds of cuts (0.000 seconds)\n",
      "\n",
      "Result - Optimal solution found\n",
      "\n",
      "Objective value:                3.00000000\n",
      "Enumerated nodes:               0\n",
      "Total iterations:               0\n",
      "Time (CPU seconds):             0.02\n",
      "Time (Wallclock seconds):       0.02\n",
      "\n",
      "Option for printingOptions changed from normal to all\n",
      "Total time (CPU seconds):       0.02   (Wallclock seconds):       0.02\n",
      "\n",
      "Solution:\n",
      "{'AP_pickup.1~pickup.1': 0.0,\n",
      " 'AP_pickup.1~stack.2': 0.0,\n",
      " 'AP_pickup.1~unstack.1': 0.0,\n",
      " 'AP_putdown.1~stack.1': 0.0,\n",
      " 'AP_putdown.1~stack.2': 1.0,\n",
      " 'AP_stack.1~stack.1': 0.0,\n",
      " 'AP_stack.1~unstack.1': 1.0,\n",
      " 'AP_stack.2~stack.2': 0.0,\n",
      " 'AP_unstack.1~pickup.1': 0.0,\n",
      " 'AP_unstack.1~stack.2': 0.0,\n",
      " 'AP_unstack.2~putdown.1': 0.0,\n",
      " 'AP_unstack.2~stack.1': 0.0,\n",
      " 'AP_unstack.2~unstack.1': 1.0,\n",
      " 'FO_0_B__1_unstack.2~_3_pickup.1': 1.0,\n",
      " 'FO_0_B__1_unstack.2~_4_stack.1': 0.0,\n",
      " 'FO_0_B__1_unstack.2~_5_unstack.1': 0.0,\n",
      " 'FO_0_B__1_unstack.2~_6_stack.1': 0.0,\n",
      " 'FO_0_B__1_unstack.2~_8_stack.2': 0.0,\n",
      " 'FO_0_B__3_pickup.1~_4_stack.1': 1.0,\n",
      " 'FO_0_B__3_pickup.1~_5_unstack.1': 0.0,\n",
      " 'FO_0_B__3_pickup.1~_6_stack.1': 0.0,\n",
      " 'FO_0_B__3_pickup.1~_8_stack.2': 0.0,\n",
      " 'FO_0_B__4_stack.1~_5_unstack.1': 1.0,\n",
      " 'FO_0_B__4_stack.1~_6_stack.1': 0.0,\n",
      " 'FO_0_B__4_stack.1~_8_stack.2': 0.0,\n",
      " 'FO_0_B__5_unstack.1~_6_stack.1': 1.0,\n",
      " 'FO_0_B__5_unstack.1~_8_stack.2': 0.0,\n",
      " 'FO_0_B__6_stack.1~_8_stack.2': 1.0,\n",
      " 'FO_1_A__3_unstack.2~_7_pickup.1': 1.0,\n",
      " 'FO_1_A__3_unstack.2~_8_stack.1': 0.0,\n",
      " 'FO_1_A__7_pickup.1~_8_stack.1': 1.0,\n",
      " 'FO_1_B__1_unstack.2~_3_unstack.1': 1.0,\n",
      " 'FO_1_B__1_unstack.2~_4_putdown.1': 0.0,\n",
      " 'FO_1_B__1_unstack.2~_5_pickup.1': 0.0,\n",
      " 'FO_1_B__1_unstack.2~_6_stack.1': 0.0,\n",
      " 'FO_1_B__1_unstack.2~_8_stack.2': 0.0,\n",
      " 'FO_1_B__3_unstack.1~_4_putdown.1': 1.0,\n",
      " 'FO_1_B__3_unstack.1~_5_pickup.1': 0.0,\n",
      " 'FO_1_B__3_unstack.1~_6_stack.1': 0.0,\n",
      " 'FO_1_B__3_unstack.1~_8_stack.2': 0.0,\n",
      " 'FO_1_B__4_putdown.1~_5_pickup.1': 1.0,\n",
      " 'FO_1_B__4_putdown.1~_6_stack.1': 0.0,\n",
      " 'FO_1_B__4_putdown.1~_8_stack.2': 0.0,\n",
      " 'FO_1_B__5_pickup.1~_6_stack.1': 1.0,\n",
      " 'FO_1_B__5_pickup.1~_8_stack.2': 0.0,\n",
      " 'FO_1_B__6_stack.1~_8_stack.2': 1.0,\n",
      " 'FO_1_C__1_unstack.1~_2_putdown.1': 1.0,\n",
      " 'FO_1_C__1_unstack.1~_6_stack.2': 0.0,\n",
      " 'FO_1_C__2_putdown.1~_6_stack.2': 1.0,\n",
      " 'FO_2_B__4_putdown.1~_5_pickup.1': 1.0,\n",
      " 'FO_2_B__4_putdown.1~_6_stack.1': 0.0,\n",
      " 'FO_2_B__5_pickup.1~_6_stack.1': 1.0,\n",
      " 'aux_0_unknown_B_0_1_2': 1.0,\n",
      " 'aux_0_unknown_B_0_1_3': 1.0,\n",
      " 'aux_0_unknown_B_0_1_4': 1.0,\n",
      " 'aux_0_unknown_B_0_1_5': 1.0,\n",
      " 'aux_0_unknown_B_0_2_1': 0.0,\n",
      " 'aux_0_unknown_B_0_2_3': 1.0,\n",
      " 'aux_0_unknown_B_0_2_4': 1.0,\n",
      " 'aux_0_unknown_B_0_2_5': 1.0,\n",
      " 'aux_0_unknown_B_0_3_1': 0.0,\n",
      " 'aux_0_unknown_B_0_3_2': 0.0,\n",
      " 'aux_0_unknown_B_0_3_4': 1.0,\n",
      " 'aux_0_unknown_B_0_3_5': 1.0,\n",
      " 'aux_0_unknown_B_0_4_1': 0.0,\n",
      " 'aux_0_unknown_B_0_4_2': 0.0,\n",
      " 'aux_0_unknown_B_0_4_3': 0.0,\n",
      " 'aux_0_unknown_B_0_4_5': 1.0,\n",
      " 'aux_0_unknown_B_0_5_1': 0.0,\n",
      " 'aux_0_unknown_B_0_5_2': 0.0,\n",
      " 'aux_0_unknown_B_0_5_3': 0.0,\n",
      " 'aux_0_unknown_B_0_5_4': 0.0,\n",
      " 'aux_0_unknown_B_1_2_0': 1.0,\n",
      " 'aux_0_unknown_B_1_2_3': 1.0,\n",
      " 'aux_0_unknown_B_1_2_4': 1.0,\n",
      " 'aux_0_unknown_B_1_2_5': 1.0,\n",
      " 'aux_0_unknown_B_1_3_0': 1.0,\n",
      " 'aux_0_unknown_B_1_3_2': 0.0,\n",
      " 'aux_0_unknown_B_1_3_4': 1.0,\n",
      " 'aux_0_unknown_B_1_3_5': 1.0,\n",
      " 'aux_0_unknown_B_1_4_0': 1.0,\n",
      " 'aux_0_unknown_B_1_4_2': 0.0,\n",
      " 'aux_0_unknown_B_1_4_3': 0.0,\n",
      " 'aux_0_unknown_B_1_4_5': 1.0,\n",
      " 'aux_0_unknown_B_1_5_0': 1.0,\n",
      " 'aux_0_unknown_B_1_5_2': 0.0,\n",
      " 'aux_0_unknown_B_1_5_3': 0.0,\n",
      " 'aux_0_unknown_B_1_5_4': 0.0,\n",
      " 'aux_0_unknown_B_2_3_0': 1.0,\n",
      " 'aux_0_unknown_B_2_3_1': 1.0,\n",
      " 'aux_0_unknown_B_2_3_4': 1.0,\n",
      " 'aux_0_unknown_B_2_3_5': 1.0,\n",
      " 'aux_0_unknown_B_2_4_0': 1.0,\n",
      " 'aux_0_unknown_B_2_4_1': 1.0,\n",
      " 'aux_0_unknown_B_2_4_3': 0.0,\n",
      " 'aux_0_unknown_B_2_4_5': 1.0,\n",
      " 'aux_0_unknown_B_2_5_0': 1.0,\n",
      " 'aux_0_unknown_B_2_5_1': 1.0,\n",
      " 'aux_0_unknown_B_2_5_3': 0.0,\n",
      " 'aux_0_unknown_B_2_5_4': 0.0,\n",
      " 'aux_0_unknown_B_3_4_0': 1.0,\n",
      " 'aux_0_unknown_B_3_4_1': 1.0,\n",
      " 'aux_0_unknown_B_3_4_2': 1.0,\n",
      " 'aux_0_unknown_B_3_4_5': 1.0,\n",
      " 'aux_0_unknown_B_3_5_0': 1.0,\n",
      " 'aux_0_unknown_B_3_5_1': 1.0,\n",
      " 'aux_0_unknown_B_3_5_2': 1.0,\n",
      " 'aux_0_unknown_B_3_5_4': 0.0,\n",
      " 'aux_0_unknown_B_4_5_0': 1.0,\n",
      " 'aux_0_unknown_B_4_5_1': 1.0,\n",
      " 'aux_0_unknown_B_4_5_2': 1.0,\n",
      " 'aux_0_unknown_B_4_5_3': 1.0,\n",
      " 'aux_1_unknown_A_0_1_2': 1.0,\n",
      " 'aux_1_unknown_A_0_2_1': 0.0,\n",
      " 'aux_1_unknown_A_1_2_0': 1.0,\n",
      " 'aux_1_unknown_B_0_1_2': 1.0,\n",
      " 'aux_1_unknown_B_0_1_3': 1.0,\n",
      " 'aux_1_unknown_B_0_1_4': 1.0,\n",
      " 'aux_1_unknown_B_0_1_5': 1.0,\n",
      " 'aux_1_unknown_B_0_2_1': 0.0,\n",
      " 'aux_1_unknown_B_0_2_3': 1.0,\n",
      " 'aux_1_unknown_B_0_2_4': 1.0,\n",
      " 'aux_1_unknown_B_0_2_5': 1.0,\n",
      " 'aux_1_unknown_B_0_3_1': 0.0,\n",
      " 'aux_1_unknown_B_0_3_2': 0.0,\n",
      " 'aux_1_unknown_B_0_3_4': 1.0,\n",
      " 'aux_1_unknown_B_0_3_5': 1.0,\n",
      " 'aux_1_unknown_B_0_4_1': 0.0,\n",
      " 'aux_1_unknown_B_0_4_2': 0.0,\n",
      " 'aux_1_unknown_B_0_4_3': 0.0,\n",
      " 'aux_1_unknown_B_0_4_5': 1.0,\n",
      " 'aux_1_unknown_B_0_5_1': 0.0,\n",
      " 'aux_1_unknown_B_0_5_2': 0.0,\n",
      " 'aux_1_unknown_B_0_5_3': 0.0,\n",
      " 'aux_1_unknown_B_0_5_4': 0.0,\n",
      " 'aux_1_unknown_B_1_2_0': 1.0,\n",
      " 'aux_1_unknown_B_1_2_3': 1.0,\n",
      " 'aux_1_unknown_B_1_2_4': 1.0,\n",
      " 'aux_1_unknown_B_1_2_5': 1.0,\n",
      " 'aux_1_unknown_B_1_3_0': 1.0,\n",
      " 'aux_1_unknown_B_1_3_2': 0.0,\n",
      " 'aux_1_unknown_B_1_3_4': 1.0,\n",
      " 'aux_1_unknown_B_1_3_5': 1.0,\n",
      " 'aux_1_unknown_B_1_4_0': 1.0,\n",
      " 'aux_1_unknown_B_1_4_2': 0.0,\n",
      " 'aux_1_unknown_B_1_4_3': 0.0,\n",
      " 'aux_1_unknown_B_1_4_5': 1.0,\n",
      " 'aux_1_unknown_B_1_5_0': 1.0,\n",
      " 'aux_1_unknown_B_1_5_2': 0.0,\n",
      " 'aux_1_unknown_B_1_5_3': 0.0,\n",
      " 'aux_1_unknown_B_1_5_4': 0.0,\n",
      " 'aux_1_unknown_B_2_3_0': 1.0,\n",
      " 'aux_1_unknown_B_2_3_1': 1.0,\n",
      " 'aux_1_unknown_B_2_3_4': 1.0,\n",
      " 'aux_1_unknown_B_2_3_5': 1.0,\n",
      " 'aux_1_unknown_B_2_4_0': 1.0,\n",
      " 'aux_1_unknown_B_2_4_1': 1.0,\n",
      " 'aux_1_unknown_B_2_4_3': 0.0,\n",
      " 'aux_1_unknown_B_2_4_5': 1.0,\n",
      " 'aux_1_unknown_B_2_5_0': 1.0,\n",
      " 'aux_1_unknown_B_2_5_1': 1.0,\n",
      " 'aux_1_unknown_B_2_5_3': 0.0,\n",
      " 'aux_1_unknown_B_2_5_4': 0.0,\n",
      " 'aux_1_unknown_B_3_4_0': 1.0,\n",
      " 'aux_1_unknown_B_3_4_1': 1.0,\n",
      " 'aux_1_unknown_B_3_4_2': 1.0,\n",
      " 'aux_1_unknown_B_3_4_5': 1.0,\n",
      " 'aux_1_unknown_B_3_5_0': 1.0,\n",
      " 'aux_1_unknown_B_3_5_1': 1.0,\n",
      " 'aux_1_unknown_B_3_5_2': 1.0,\n",
      " 'aux_1_unknown_B_3_5_4': 0.0,\n",
      " 'aux_1_unknown_B_4_5_0': 1.0,\n",
      " 'aux_1_unknown_B_4_5_1': 1.0,\n",
      " 'aux_1_unknown_B_4_5_2': 1.0,\n",
      " 'aux_1_unknown_B_4_5_3': 1.0,\n",
      " 'aux_1_unknown_C_0_1_2': 1.0,\n",
      " 'aux_1_unknown_C_0_2_1': 0.0,\n",
      " 'aux_1_unknown_C_1_2_0': 1.0,\n",
      " 'aux_2_unknown_B_2_3_0': 1.0,\n",
      " 'aux_2_unknown_B_2_3_1': 1.0,\n",
      " 'aux_2_unknown_B_2_3_4': 1.0,\n",
      " 'aux_2_unknown_B_2_4_0': 1.0,\n",
      " 'aux_2_unknown_B_2_4_1': 1.0,\n",
      " 'aux_2_unknown_B_2_4_3': 0.0,\n",
      " 'aux_2_unknown_B_3_4_0': 1.0,\n",
      " 'aux_2_unknown_B_3_4_1': 1.0,\n",
      " 'aux_2_unknown_B_3_4_2': 1.0,\n",
      " 'trace_0__1_unstack~_3_pickup': 1.0,\n",
      " 'trace_0__1_unstack~_4_stack': 1.0,\n",
      " 'trace_0__1_unstack~_5_unstack': 1.0,\n",
      " 'trace_0__1_unstack~_6_stack': 1.0,\n",
      " 'trace_0__3_pickup~_4_stack': 1.0,\n",
      " 'trace_0__3_pickup~_5_unstack': 1.0,\n",
      " 'trace_0__3_pickup~_6_stack': 1.0,\n",
      " 'trace_0__3_pickup~_8_stack': 1.0,\n",
      " 'trace_1__1_unstack~_2_putdown': 1.0,\n",
      " 'trace_1__1_unstack~_3_unstack': 1.0,\n",
      " 'trace_1__1_unstack~_6_stack': 1.0,\n",
      " 'trace_1__3_unstack~_4_putdown': 1.0,\n",
      " 'trace_1__3_unstack~_5_pickup': 1.0,\n",
      " 'trace_1__3_unstack~_7_pickup': 1.0,\n",
      " 'trace_1__4_putdown~_6_stack': 1.0,\n",
      " 'trace_1__4_putdown~_8_stack': 1.0,\n",
      " 'trace_1__5_pickup~_6_stack': 1.0,\n",
      " 'trace_1__5_pickup~_8_stack': 1.0,\n",
      " 'trace_1__7_pickup~_8_stack': 1.0,\n",
      " 'trace_2__5_pickup~_6_stack': 1.0}\n",
      "\n",
      "Objectives:\n",
      "3.0\n",
      "\n"
     ]
    }
   ],
   "source": [
    "solver = pl.PULP_CBC_CMD(msg=True)\n",
    "solution = POLOCM.polocm_step5(prob, solver,sort_AP_vars, True)"
   ]
  },
  {
   "cell_type": "code",
   "execution_count": 11,
   "metadata": {},
   "outputs": [
    {
     "data": {
      "text/markdown": [
       "## Solution FO matrix"
      ],
      "text/plain": [
       "<IPython.core.display.Markdown object>"
      ]
     },
     "metadata": {},
     "output_type": "display_data"
    },
    {
     "data": {
      "text/markdown": [
       "### Trace 0"
      ],
      "text/plain": [
       "<IPython.core.display.Markdown object>"
      ]
     },
     "metadata": {},
     "output_type": "display_data"
    },
    {
     "data": {
      "text/markdown": [
       "#### Obj A"
      ],
      "text/plain": [
       "<IPython.core.display.Markdown object>"
      ]
     },
     "metadata": {},
     "output_type": "display_data"
    },
    {
     "name": "stdout",
     "output_type": "stream",
     "text": [
      "╒══════════════╤════════════════╤════════════════╤═══════════════╤══════════════╕\n",
      "│              │   [1]unstack.1 │   [2]putdown.1 │   [7]pickup.1 │   [8]stack.1 │\n",
      "╞══════════════╪════════════════╪════════════════╪═══════════════╪══════════════╡\n",
      "│ [1]unstack.1 │            nan │              1 │             0 │            0 │\n",
      "├──────────────┼────────────────┼────────────────┼───────────────┼──────────────┤\n",
      "│ [2]putdown.1 │            nan │            nan │             1 │            0 │\n",
      "├──────────────┼────────────────┼────────────────┼───────────────┼──────────────┤\n",
      "│ [7]pickup.1  │            nan │            nan │           nan │            1 │\n",
      "├──────────────┼────────────────┼────────────────┼───────────────┼──────────────┤\n",
      "│ [8]stack.1   │            nan │            nan │           nan │          nan │\n",
      "╘══════════════╧════════════════╧════════════════╧═══════════════╧══════════════╛\n"
     ]
    },
    {
     "data": {
      "text/markdown": [
       "#### Obj B"
      ],
      "text/plain": [
       "<IPython.core.display.Markdown object>"
      ]
     },
     "metadata": {},
     "output_type": "display_data"
    },
    {
     "name": "stdout",
     "output_type": "stream",
     "text": [
      "╒══════════════╤════════════════╤═══════════════╤══════════════╤════════════════╤══════════════╤══════════════╕\n",
      "│              │   [1]unstack.2 │   [3]pickup.1 │   [4]stack.1 │   [5]unstack.1 │   [6]stack.1 │   [8]stack.2 │\n",
      "╞══════════════╪════════════════╪═══════════════╪══════════════╪════════════════╪══════════════╪══════════════╡\n",
      "│ [1]unstack.2 │            nan │             1 │            0 │              0 │            0 │            0 │\n",
      "├──────────────┼────────────────┼───────────────┼──────────────┼────────────────┼──────────────┼──────────────┤\n",
      "│ [3]pickup.1  │            nan │           nan │            1 │              0 │            0 │            0 │\n",
      "├──────────────┼────────────────┼───────────────┼──────────────┼────────────────┼──────────────┼──────────────┤\n",
      "│ [4]stack.1   │            nan │           nan │          nan │              1 │            0 │            0 │\n",
      "├──────────────┼────────────────┼───────────────┼──────────────┼────────────────┼──────────────┼──────────────┤\n",
      "│ [5]unstack.1 │            nan │           nan │          nan │            nan │            1 │            0 │\n",
      "├──────────────┼────────────────┼───────────────┼──────────────┼────────────────┼──────────────┼──────────────┤\n",
      "│ [6]stack.1   │            nan │           nan │          nan │            nan │          nan │            1 │\n",
      "├──────────────┼────────────────┼───────────────┼──────────────┼────────────────┼──────────────┼──────────────┤\n",
      "│ [8]stack.2   │            nan │           nan │          nan │            nan │          nan │          nan │\n",
      "╘══════════════╧════════════════╧═══════════════╧══════════════╧════════════════╧══════════════╧══════════════╛\n"
     ]
    },
    {
     "data": {
      "text/markdown": [
       "#### Obj C"
      ],
      "text/plain": [
       "<IPython.core.display.Markdown object>"
      ]
     },
     "metadata": {},
     "output_type": "display_data"
    },
    {
     "name": "stdout",
     "output_type": "stream",
     "text": [
      "╒══════════════╤══════════════╤════════════════╤══════════════╕\n",
      "│              │   [4]stack.2 │   [5]unstack.2 │   [6]stack.2 │\n",
      "╞══════════════╪══════════════╪════════════════╪══════════════╡\n",
      "│ [4]stack.2   │          nan │              1 │            0 │\n",
      "├──────────────┼──────────────┼────────────────┼──────────────┤\n",
      "│ [5]unstack.2 │          nan │            nan │            1 │\n",
      "├──────────────┼──────────────┼────────────────┼──────────────┤\n",
      "│ [6]stack.2   │          nan │            nan │          nan │\n",
      "╘══════════════╧══════════════╧════════════════╧══════════════╛\n"
     ]
    },
    {
     "data": {
      "text/markdown": [
       "### Trace 1"
      ],
      "text/plain": [
       "<IPython.core.display.Markdown object>"
      ]
     },
     "metadata": {},
     "output_type": "display_data"
    },
    {
     "data": {
      "text/markdown": [
       "#### Obj C"
      ],
      "text/plain": [
       "<IPython.core.display.Markdown object>"
      ]
     },
     "metadata": {},
     "output_type": "display_data"
    },
    {
     "name": "stdout",
     "output_type": "stream",
     "text": [
      "╒══════════════╤════════════════╤════════════════╤══════════════╕\n",
      "│              │   [1]unstack.1 │   [2]putdown.1 │   [6]stack.2 │\n",
      "╞══════════════╪════════════════╪════════════════╪══════════════╡\n",
      "│ [1]unstack.1 │            nan │              1 │            0 │\n",
      "├──────────────┼────────────────┼────────────────┼──────────────┤\n",
      "│ [2]putdown.1 │            nan │            nan │            1 │\n",
      "├──────────────┼────────────────┼────────────────┼──────────────┤\n",
      "│ [6]stack.2   │            nan │            nan │          nan │\n",
      "╘══════════════╧════════════════╧════════════════╧══════════════╛\n"
     ]
    },
    {
     "data": {
      "text/markdown": [
       "#### Obj B"
      ],
      "text/plain": [
       "<IPython.core.display.Markdown object>"
      ]
     },
     "metadata": {},
     "output_type": "display_data"
    },
    {
     "name": "stdout",
     "output_type": "stream",
     "text": [
      "╒══════════════╤════════════════╤════════════════╤════════════════╤═══════════════╤══════════════╤══════════════╕\n",
      "│              │   [1]unstack.2 │   [3]unstack.1 │   [4]putdown.1 │   [5]pickup.1 │   [6]stack.1 │   [8]stack.2 │\n",
      "╞══════════════╪════════════════╪════════════════╪════════════════╪═══════════════╪══════════════╪══════════════╡\n",
      "│ [1]unstack.2 │            nan │              1 │              0 │             0 │            0 │            0 │\n",
      "├──────────────┼────────────────┼────────────────┼────────────────┼───────────────┼──────────────┼──────────────┤\n",
      "│ [3]unstack.1 │            nan │            nan │              1 │             0 │            0 │            0 │\n",
      "├──────────────┼────────────────┼────────────────┼────────────────┼───────────────┼──────────────┼──────────────┤\n",
      "│ [4]putdown.1 │            nan │            nan │            nan │             1 │            0 │            0 │\n",
      "├──────────────┼────────────────┼────────────────┼────────────────┼───────────────┼──────────────┼──────────────┤\n",
      "│ [5]pickup.1  │            nan │            nan │            nan │           nan │            1 │            0 │\n",
      "├──────────────┼────────────────┼────────────────┼────────────────┼───────────────┼──────────────┼──────────────┤\n",
      "│ [6]stack.1   │            nan │            nan │            nan │           nan │          nan │            1 │\n",
      "├──────────────┼────────────────┼────────────────┼────────────────┼───────────────┼──────────────┼──────────────┤\n",
      "│ [8]stack.2   │            nan │            nan │            nan │           nan │          nan │          nan │\n",
      "╘══════════════╧════════════════╧════════════════╧════════════════╧═══════════════╧══════════════╧══════════════╛\n"
     ]
    },
    {
     "data": {
      "text/markdown": [
       "#### Obj A"
      ],
      "text/plain": [
       "<IPython.core.display.Markdown object>"
      ]
     },
     "metadata": {},
     "output_type": "display_data"
    },
    {
     "name": "stdout",
     "output_type": "stream",
     "text": [
      "╒══════════════╤════════════════╤═══════════════╤══════════════╕\n",
      "│              │   [3]unstack.2 │   [7]pickup.1 │   [8]stack.1 │\n",
      "╞══════════════╪════════════════╪═══════════════╪══════════════╡\n",
      "│ [3]unstack.2 │            nan │             1 │            0 │\n",
      "├──────────────┼────────────────┼───────────────┼──────────────┤\n",
      "│ [7]pickup.1  │            nan │           nan │            1 │\n",
      "├──────────────┼────────────────┼───────────────┼──────────────┤\n",
      "│ [8]stack.1   │            nan │           nan │          nan │\n",
      "╘══════════════╧════════════════╧═══════════════╧══════════════╛\n"
     ]
    },
    {
     "data": {
      "text/markdown": [
       "### Trace 2"
      ],
      "text/plain": [
       "<IPython.core.display.Markdown object>"
      ]
     },
     "metadata": {},
     "output_type": "display_data"
    },
    {
     "data": {
      "text/markdown": [
       "#### Obj C"
      ],
      "text/plain": [
       "<IPython.core.display.Markdown object>"
      ]
     },
     "metadata": {},
     "output_type": "display_data"
    },
    {
     "name": "stdout",
     "output_type": "stream",
     "text": [
      "╒══════════════╤════════════════╤══════════════╤══════════════╕\n",
      "│              │   [1]unstack.1 │   [2]stack.1 │   [6]stack.2 │\n",
      "╞══════════════╪════════════════╪══════════════╪══════════════╡\n",
      "│ [1]unstack.1 │            nan │            1 │            0 │\n",
      "├──────────────┼────────────────┼──────────────┼──────────────┤\n",
      "│ [2]stack.1   │            nan │          nan │            1 │\n",
      "├──────────────┼────────────────┼──────────────┼──────────────┤\n",
      "│ [6]stack.2   │            nan │          nan │          nan │\n",
      "╘══════════════╧════════════════╧══════════════╧══════════════╛\n"
     ]
    },
    {
     "data": {
      "text/markdown": [
       "#### Obj B"
      ],
      "text/plain": [
       "<IPython.core.display.Markdown object>"
      ]
     },
     "metadata": {},
     "output_type": "display_data"
    },
    {
     "name": "stdout",
     "output_type": "stream",
     "text": [
      "╒══════════════╤════════════════╤═══════════════╤════════════════╤═══════════════╤══════════════╕\n",
      "│              │   [1]unstack.2 │   [3]pickup.1 │   [4]putdown.1 │   [5]pickup.1 │   [6]stack.1 │\n",
      "╞══════════════╪════════════════╪═══════════════╪════════════════╪═══════════════╪══════════════╡\n",
      "│ [1]unstack.2 │            nan │             1 │              0 │             0 │            0 │\n",
      "├──────────────┼────────────────┼───────────────┼────────────────┼───────────────┼──────────────┤\n",
      "│ [3]pickup.1  │            nan │           nan │              1 │             0 │            0 │\n",
      "├──────────────┼────────────────┼───────────────┼────────────────┼───────────────┼──────────────┤\n",
      "│ [4]putdown.1 │            nan │           nan │            nan │             1 │            0 │\n",
      "├──────────────┼────────────────┼───────────────┼────────────────┼───────────────┼──────────────┤\n",
      "│ [5]pickup.1  │            nan │           nan │            nan │           nan │            1 │\n",
      "├──────────────┼────────────────┼───────────────┼────────────────┼───────────────┼──────────────┤\n",
      "│ [6]stack.1   │            nan │           nan │            nan │           nan │          nan │\n",
      "╘══════════════╧════════════════╧═══════════════╧════════════════╧═══════════════╧══════════════╛\n"
     ]
    },
    {
     "data": {
      "text/markdown": [
       "#### Obj A"
      ],
      "text/plain": [
       "<IPython.core.display.Markdown object>"
      ]
     },
     "metadata": {},
     "output_type": "display_data"
    },
    {
     "name": "stdout",
     "output_type": "stream",
     "text": [
      "╒════════════╤══════════════╕\n",
      "│            │   [2]stack.2 │\n",
      "╞════════════╪══════════════╡\n",
      "│ [2]stack.2 │          nan │\n",
      "╘════════════╧══════════════╛\n"
     ]
    },
    {
     "data": {
      "text/markdown": [
       "## Solution AP matrix"
      ],
      "text/plain": [
       "<IPython.core.display.Markdown object>"
      ]
     },
     "metadata": {},
     "output_type": "display_data"
    },
    {
     "data": {
      "text/markdown": [
       "### Sort 1"
      ],
      "text/plain": [
       "<IPython.core.display.Markdown object>"
      ]
     },
     "metadata": {},
     "output_type": "display_data"
    },
    {
     "name": "stdout",
     "output_type": "stream",
     "text": [
      "╒═══════════╤═════════════╤═══════════╤═════════════╤════════════╤═══════════╤═════════════╕\n",
      "│           │   unstack.1 │   stack.2 │   unstack.2 │   pickup.1 │   stack.1 │   putdown.1 │\n",
      "╞═══════════╪═════════════╪═══════════╪═════════════╪════════════╪═══════════╪═════════════╡\n",
      "│ unstack.1 │         nan │         0 │         nan │          0 │         1 │           1 │\n",
      "├───────────┼─────────────┼───────────┼─────────────┼────────────┼───────────┼─────────────┤\n",
      "│ stack.2   │         nan │         0 │           1 │        nan │       nan │         nan │\n",
      "├───────────┼─────────────┼───────────┼─────────────┼────────────┼───────────┼─────────────┤\n",
      "│ unstack.2 │           1 │         1 │         nan │          1 │         0 │           0 │\n",
      "├───────────┼─────────────┼───────────┼─────────────┼────────────┼───────────┼─────────────┤\n",
      "│ pickup.1  │           0 │         0 │         nan │          0 │         1 │           1 │\n",
      "├───────────┼─────────────┼───────────┼─────────────┼────────────┼───────────┼─────────────┤\n",
      "│ stack.1   │           1 │         1 │         nan │        nan │         0 │         nan │\n",
      "├───────────┼─────────────┼───────────┼─────────────┼────────────┼───────────┼─────────────┤\n",
      "│ putdown.1 │         nan │         1 │         nan │          1 │         0 │         nan │\n",
      "╘═══════════╧═════════════╧═══════════╧═════════════╧════════════╧═══════════╧═════════════╛\n"
     ]
    }
   ],
   "source": [
    "FO, AP = POLOCM.polocm_step6(FO_matrix_with_vars, FO_vars_overall, sort_transition_matrix, sort_AP_vars, solution, debug=True)"
   ]
  }
 ],
 "metadata": {
  "kernelspec": {
   "display_name": "base",
   "language": "python",
   "name": "python3"
  },
  "language_info": {
   "codemirror_mode": {
    "name": "ipython",
    "version": 3
   },
   "file_extension": ".py",
   "mimetype": "text/x-python",
   "name": "python",
   "nbconvert_exporter": "python",
   "pygments_lexer": "ipython3",
   "version": "3.12.2"
  }
 },
 "nbformat": 4,
 "nbformat_minor": 2
}
