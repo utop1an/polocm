{
 "cells": [
  {
   "cell_type": "code",
   "execution_count": 2,
   "metadata": {},
   "outputs": [],
   "source": [
    "from collections import defaultdict\n",
    "import itertools\n",
    "import os\n",
    "from tabulate import tabulate\n",
    "from pprint import pprint\n",
    "import matplotlib.pyplot as plt\n",
    "%matplotlib inline\n",
    "import networkx as nx\n",
    "import pandas as pd\n",
    "pd.options.display.max_columns = 100\n",
    "from IPython.display import display, Markdown\n",
    "from ipycytoscape import *\n",
    "import string\n",
    "from ast import literal_eval\n",
    "from sequence import *"
   ]
  },
  {
   "cell_type": "code",
   "execution_count": 147,
   "metadata": {},
   "outputs": [],
   "source": [
    "input_seqs=  '''\n",
    "unstack(A, B), putdown(A), pickup(B), stack(B,C), unstack(B,C), stack(B,C),pickup(A), stack(A,B)\n",
    "unstack(C, B), putdown(C), unstack(B,A), putdown(B), pickup(B), stack(B,C), pickup(A), stack(A,B)\n",
    "unstack(C,B), stack(C,A), pickup(B), putdown(b), pickup(B), stack(B,C)\n",
    "'''\n",
    "\n",
    "input_states = '''\n",
    "[handempty(),on(A,B)], [hold(A)],[handempty(), ontable(A)], [hold(B)],[handempty()], [hold(B)],[handempty()], [hold(A)],[handempty()]\n",
    "[handempty()], [hold(C)],[handempty()], [hold(B)],[handempty()], [hold(B)],[handempty()], [hold(A)],[handempty()]\n",
    "[handempty()], [hold(C)],[handempty()], [hold(B)],[handempty()], [hold(B)],[handempty()]\n",
    "'''"
   ]
  },
  {
   "cell_type": "code",
   "execution_count": 3,
   "metadata": {},
   "outputs": [
    {
     "ename": "TypeError",
     "evalue": "LearningProblem.__init__() missing 2 required positional arguments: 'raw_action_seqs' and 'raw_state_seqs'",
     "output_type": "error",
     "traceback": [
      "\u001b[0;31m---------------------------------------------------------------------------\u001b[0m",
      "\u001b[0;31mTypeError\u001b[0m                                 Traceback (most recent call last)",
      "Cell \u001b[0;32mIn[3], line 1\u001b[0m\n\u001b[0;32m----> 1\u001b[0m LP \u001b[38;5;241m=\u001b[39m \u001b[43mLearningProblem\u001b[49m\u001b[43m(\u001b[49m\u001b[43m)\u001b[49m\n\u001b[1;32m      2\u001b[0m \u001b[38;5;28;01mdef\u001b[39;00m \u001b[38;5;21mread_action_seqs\u001b[39m(input_seq):\n\u001b[1;32m      3\u001b[0m \u001b[38;5;250m    \u001b[39m\u001b[38;5;124;03m'''\u001b[39;00m\n\u001b[1;32m      4\u001b[0m \u001b[38;5;124;03m    Read the input data and return list of action sequences.\u001b[39;00m\n\u001b[1;32m      5\u001b[0m \u001b[38;5;124;03m    Each sequence is a list of action-argumentlist tuples.\u001b[39;00m\n\u001b[1;32m      6\u001b[0m \u001b[38;5;124;03m    '''\u001b[39;00m\n",
      "\u001b[0;31mTypeError\u001b[0m: LearningProblem.__init__() missing 2 required positional arguments: 'raw_action_seqs' and 'raw_state_seqs'"
     ]
    }
   ],
   "source": [
    "LP = LearningProblem()\n",
    "def read_action_seqs(input_seq):\n",
    "    '''\n",
    "    Read the input data and return list of action sequences.\n",
    "    Each sequence is a list of action-argumentlist tuples.\n",
    "    '''\n",
    "\n",
    "    sequences = []\n",
    "    for line in input_seqs.split('\\n'):\n",
    "        \n",
    "        actions = []\n",
    "        arguments = []\n",
    "        if line and not line.isspace() and len(line)>1:\n",
    "            sequence = line.rstrip(\"\\n\\r\").lstrip(\"\\n\\r\").lower() \n",
    "            action_defs = sequence.split(\"),\")\n",
    "\n",
    "            for action_def in action_defs:\n",
    "                action = action_def.split('(')[0].strip(\")\\n\\r\").strip()\n",
    "                argument = action_def.split('(')[1].strip(\")\\n\\r\")\n",
    "                actions.append(action.translate(str.maketrans('', '', string.punctuation)))\n",
    "                argument_list = argument.split(',')\n",
    "                argument_list = [x.strip() for x in argument_list]\n",
    "                #argument_list.insert(0,'zero')\n",
    "                arguments.append(argument_list)\n",
    "                \n",
    "            \n",
    "            actarg_tuples = zip(actions,arguments)\n",
    "            sequences.append(list(actarg_tuples))\n",
    "    return sequences\n",
    "\n",
    "def print_sequences(sequences):\n",
    "    for seq in sequences:\n",
    "        for index,action in enumerate(seq):\n",
    "            print(str(index) + \": \" + str(action))\n",
    "        print()"
   ]
  },
  {
   "cell_type": "code",
   "execution_count": 1,
   "metadata": {},
   "outputs": [],
   "source": [
    "def read_state_seqs(input_seqs):\n",
    "    pass\n",
    "\n",
    "def print_state_seqs(seqs):\n",
    "    pass"
   ]
  },
  {
   "cell_type": "code",
   "execution_count": 156,
   "metadata": {},
   "outputs": [
    {
     "name": "stdout",
     "output_type": "stream",
     "text": [
      "0: ('unstack', ['a', 'b'])\n",
      "1: ('putdown', ['a'])\n",
      "2: ('pickup', ['b'])\n",
      "3: ('stack', ['b', 'c'])\n",
      "4: ('unstack', ['b', 'c'])\n",
      "5: ('stack', ['b', 'c'])\n",
      "6: ('pickup', ['a'])\n",
      "7: ('stack', ['a', 'b'])\n",
      "\n",
      "0: ('unstack', ['c', 'b'])\n",
      "1: ('putdown', ['c'])\n",
      "2: ('unstack', ['b', 'a'])\n",
      "3: ('putdown', ['b'])\n",
      "4: ('pickup', ['b'])\n",
      "5: ('stack', ['b', 'c'])\n",
      "6: ('pickup', ['a'])\n",
      "7: ('stack', ['a', 'b'])\n",
      "\n",
      "0: ('unstack', ['c', 'b'])\n",
      "1: ('stack', ['c', 'a'])\n",
      "2: ('pickup', ['b'])\n",
      "3: ('putdown', ['b'])\n",
      "4: ('pickup', ['b'])\n",
      "5: ('stack', ['b', 'c'])\n",
      "\n",
      "0:[('handempty', ['']), ('on', ['a', 'b'])]\n",
      "1:[('hold', ['a'])]\n",
      "2:[('handempty', ['']), ('ontable', ['a'])]\n",
      "3:[('hold', ['b'])]\n",
      "4:[('handempty', [''])]\n",
      "5:[('hold', ['b'])]\n",
      "6:[('handempty', [''])]\n",
      "7:[('hold', ['a'])]\n",
      "8:[('handempty', [''])]\n",
      "\n",
      "0:[('handempty', [''])]\n",
      "1:[('hold', ['c'])]\n",
      "2:[('handempty', [''])]\n",
      "3:[('hold', ['b'])]\n",
      "4:[('handempty', [''])]\n",
      "5:[('hold', ['b'])]\n",
      "6:[('handempty', [''])]\n",
      "7:[('hold', ['a'])]\n",
      "8:[('handempty', [''])]\n",
      "\n",
      "0:[('handempty', [''])]\n",
      "1:[('hold', ['c'])]\n",
      "2:[('handempty', [''])]\n",
      "3:[('hold', ['b'])]\n",
      "4:[('handempty', [''])]\n",
      "5:[('hold', ['b'])]\n",
      "6:[('handempty', [''])]\n",
      "\n"
     ]
    }
   ],
   "source": [
    "seqs = read_action_seqs(input_seqs)\n",
    "print_sequences(seqs)\n",
    "\n",
    "sseqs = read_state_seqs(input_states)\n",
    "print_state_seqs(sseqs)"
   ]
  },
  {
   "cell_type": "code",
   "execution_count": 157,
   "metadata": {},
   "outputs": [
    {
     "name": "stdout",
     "output_type": "stream",
     "text": [
      "\n",
      "Actions\n",
      "{'unstack', 'putdown', 'stack', 'pickup'}\n",
      "\n",
      "Arguments/Objects\n",
      "{'a', 'c', 'zero', 'b'}\n"
     ]
    }
   ],
   "source": [
    "transitions = set() # A transition is denoted by action_name + argument position\n",
    "arguments = set()\n",
    "actions = set()\n",
    "for seq in seqs:\n",
    "    for actarg_tuple in seq:\n",
    "        actions.add(actarg_tuple[0])\n",
    "        for j, arg in enumerate(actarg_tuple[1]):\n",
    "            transitions.add(actarg_tuple[0]+\".\"+str(j))\n",
    "            arguments.add(arg)\n",
    "\n",
    "arguments.add('zero')\n",
    "print(\"\\nActions\")\n",
    "print(actions)\n",
    "# print(\"\\nTransitions\")\n",
    "# print(transitions)\n",
    "print(\"\\nArguments/Objects\")\n",
    "print(arguments)"
   ]
  },
  {
   "cell_type": "code",
   "execution_count": 166,
   "metadata": {},
   "outputs": [
    {
     "name": "stdout",
     "output_type": "stream",
     "text": [
      "defaultdict(<class 'list'>, {'handempty': [[''], [''], [''], [''], [''], [''], [''], [''], [''], [''], [''], [''], [''], ['']], 'on': [['a', 'b']], 'hold': [['a'], ['b'], ['b'], ['a'], ['c'], ['b'], ['b'], ['a'], ['c'], ['b'], ['b']], 'ontable': [['a']]})\n"
     ]
    }
   ],
   "source": [
    "def get_actarg_dictionary(sequences):\n",
    "    d = defaultdict(list)\n",
    "    for seq in sequences:\n",
    "        for actarg_tuple in seq:\n",
    "            d[actarg_tuple[0]].append(actarg_tuple[1])\n",
    "    return d\n",
    "d = get_actarg_dictionary(seqs)\n",
    "\n",
    "def get_sarg_dictionary(seqs):\n",
    "    d= defaultdict(list)\n",
    "    for seq in seqs:\n",
    "        for step in seq:\n",
    "            for sarg_tuple in step:\n",
    "                d[sarg_tuple[0]].append(sarg_tuple[1])\n",
    "    return d\n",
    "sd = get_sarg_dictionary(sseqs)\n",
    "print(sd)"
   ]
  },
  {
   "cell_type": "code",
   "execution_count": 159,
   "metadata": {},
   "outputs": [],
   "source": [
    "# class util functions.\n",
    "def get_classes(d):\n",
    "    # TODO incorporate word similarity in get classes.\n",
    "    c = defaultdict(set)\n",
    "    for k,v in d.items():\n",
    "        for arg_list in v:\n",
    "            for i,object in enumerate(arg_list):\n",
    "                c[k,i].add(object)\n",
    "\n",
    "    sets = c.values()\n",
    "    classes = []\n",
    "    # remove duplicate classes\n",
    "    for s in sets:\n",
    "        if s not in classes:\n",
    "            classes.append(s)\n",
    "\n",
    "    # now do pairwise intersections of all values. If intersection, combine them; then return the final sets.\n",
    "    classes_copy = list(classes)\n",
    "    while True:\n",
    "        combinations = list(itertools.combinations(classes_copy,2))\n",
    "        intersections_count = 0\n",
    "        for combination in combinations:\n",
    "            if combination[0].intersection(combination[1]):\n",
    "                intersections_count +=1\n",
    "\n",
    "                if combination[0] in classes_copy:\n",
    "                    classes_copy.remove(combination[0])\n",
    "                if combination[1] in classes_copy:\n",
    "                    classes_copy.remove(combination[1])\n",
    "                classes_copy.append(combination[0].union(combination[1]))\n",
    "\n",
    "        if intersections_count==0:\n",
    "            # print(\"no intersections left\")\n",
    "            break\n",
    "    \n",
    "    # add zero class\n",
    "    classes_copy.insert(0,{'zero'})\n",
    "    return classes_copy\n",
    "\n",
    "# TODO: Can use better approach here. NER might help.\n",
    "def get_class_names(classes):\n",
    "    # Name the class to first object found ignoring the digits in it\n",
    "    class_names = []\n",
    "    for c in classes:\n",
    "        for object in c:\n",
    "#             object = ''.join([i for i in object if not i.isdigit()])\n",
    "            class_names.append(object)\n",
    "            break\n",
    "    return class_names\n",
    "\n",
    "\n",
    "\n",
    "def get_class_index(arg,classes):\n",
    "    for class_index, c in enumerate(classes):\n",
    "        if arg in c:\n",
    "            return class_index #it is like breaking out of the loop\n",
    "    print(\"Error:class index not found\") #this statement is only executed if class index is not returned."
   ]
  },
  {
   "cell_type": "code",
   "execution_count": 160,
   "metadata": {},
   "outputs": [
    {
     "name": "stdout",
     "output_type": "stream",
     "text": [
      "\n",
      "Sorts/Classes\n",
      "[{'zero'}, {'a', 'b', 'c'}]\n",
      "\n",
      "Extracted class names\n",
      "['zero', 'a']\n"
     ]
    }
   ],
   "source": [
    "classes = get_classes(d) #sorts of object\n",
    "print(\"\\nSorts/Classes\")\n",
    "print(classes)\n",
    "\n",
    "class_names = get_class_names(classes)\n",
    "print(\"\\nExtracted class names\")\n",
    "print(class_names)"
   ]
  },
  {
   "cell_type": "code",
   "execution_count": 14,
   "metadata": {},
   "outputs": [
    {
     "name": "stdout",
     "output_type": "stream",
     "text": [
      "\n",
      "Number of Actions: 4,\n",
      "Number of unique transitions: 6,\n",
      "Number of unique objects (arguments): 4,\n",
      "Number of classes/sorts: 2\n"
     ]
    }
   ],
   "source": [
    "print(\"\\nNumber of Actions: {},\\nNumber of unique transitions: {},\\nNumber of unique objects (arguments): {},\\nNumber of classes/sorts: {}\".format(len(actions), len(transitions), len(arguments), len(classes)))"
   ]
  },
  {
   "cell_type": "code",
   "execution_count": 185,
   "metadata": {},
   "outputs": [],
   "source": [
    "def print_table(matrix):\n",
    "    display(tabulate(matrix, headers='keys', tablefmt='html'))\n",
    "    \n",
    "def printmd(string):\n",
    "    display(Markdown(string))\n",
    "\n",
    "def findsubsets(S,m):\n",
    "    return set(itertools.combinations(S, m))\n",
    "    \n",
    "def save(graphs):\n",
    "    adjacency_matrix_list = [] # list of adjacency matrices per class\n",
    "    for G in graphs:\n",
    "        df = nx.to_pandas_adjacency(G, nodelist=G.nodes(), dtype=int)\n",
    "        adjacency_matrix_list.append(df)\n",
    "#         print_table(df)\n",
    "    return adjacency_matrix_list"
   ]
  },
  {
   "cell_type": "code",
   "execution_count": 186,
   "metadata": {},
   "outputs": [],
   "source": [
    "def plot_cytographs(graphs, aml):\n",
    "    cytoscapeobs = []\n",
    "    for index, G in enumerate(graphs):\n",
    "            cytoscapeobj = CytoscapeWidget()\n",
    "            cytoscapeobj.graph.add_graph_from_networkx(G)\n",
    "            edge_list = list()\n",
    "            for source, target, data in G.edges(data=True):\n",
    "                edge_instance = Edge()\n",
    "                edge_instance.data['source'] = source\n",
    "                edge_instance.data['target'] = target\n",
    "                for k, v in data.items():\n",
    "                    cyto_attrs = ['group', 'removed', 'selected', 'selectable',\n",
    "                        'locked', 'grabbed', 'grabbable', 'classes', 'position', 'data']\n",
    "                    if k in cyto_attrs:\n",
    "                        setattr(edge_instance, k, v)\n",
    "                    else:\n",
    "                        edge_instance.data[k] = v\n",
    "                    edge_list.append(edge_instance)\n",
    "            cytoscapeobj.graph.edges = edge_list\n",
    "#             cytoscapeobj.graph.add_graph_from_df(aml[index],aml[index].columns.tolist())\n",
    "            cytoscapeobs.append(cytoscapeobj)\n",
    "#             print(cytoscapeobj)\n",
    "            printmd('## class **'+class_names[index]+'**')\n",
    "            print_table(aml[index])\n",
    "    #         print(\"Nodes:{}\".format(G.nodes()))\n",
    "    #         print(\"Edges:{}\".format(G.edges()))\n",
    "            cytoscapeobj.set_style([{\n",
    "                            'width':400,\n",
    "                            'height':400,\n",
    "\n",
    "                            'selector': 'node',\n",
    "                            'style': {\n",
    "                                'label': 'data(id)',\n",
    "                                'font-family': 'helvetica',\n",
    "                                'font-size': '8px',\n",
    "                                'background-color': '#11479e',\n",
    "                                'height':'10px',\n",
    "                                'width':'10px',\n",
    "\n",
    "\n",
    "                                }\n",
    "\n",
    "                            },\n",
    "                            {\n",
    "                            'selector': 'node:parent',\n",
    "                            'css': {\n",
    "                                'background-opacity': 0.333,\n",
    "                                'background-color': '#bbb'\n",
    "                                }\n",
    "                            },\n",
    "                            {\n",
    "                            'selector': '$node > node',\n",
    "                            'css': {\n",
    "                                'padding-top': '10px',\n",
    "                                'padding-left': '10px',\n",
    "                                'padding-bottom': '10px',\n",
    "                                'padding-right': '10px',\n",
    "                                'text-valign': 'top',\n",
    "                                'text-halign': 'center',\n",
    "                                'background-color': '#bbb'\n",
    "                              }\n",
    "                            },\n",
    "                           {\n",
    "                                'selector': 'edge',\n",
    "\n",
    "                                'style': {\n",
    "                                    'label':'data(weight)',\n",
    "                                    'width': 1,\n",
    "                                    'line-color': '#9dbaea',\n",
    "                                    'target-arrow-shape': 'triangle',\n",
    "                                    'target-arrow-color': '#9dbaea',\n",
    "                                    'arrow-scale': 0.5,\n",
    "                                    'curve-style': 'bezier',\n",
    "                                    'font-family': 'helvetica',\n",
    "                                    'font-size': '8px',\n",
    "                                    'text-valign': 'top',\n",
    "                                    'text-halign':'center'\n",
    "                                }\n",
    "                            },\n",
    "                            ])\n",
    "            cytoscapeobj.max_zoom = 4.0\n",
    "            cytoscapeobj.min_zoom = 0.5\n",
    "            display(cytoscapeobj)\n",
    "    return cytoscapeobs"
   ]
  },
  {
   "cell_type": "code",
   "execution_count": 187,
   "metadata": {},
   "outputs": [],
   "source": [
    "def build_and_save_transition_graphs(classes, domain_name):\n",
    "    # There should be a graph for each class of objects.\n",
    "    graphs = []\n",
    "    # Initialize all graphs empty\n",
    "    for sort in classes:\n",
    "        graphs.append(nx.DiGraph())\n",
    "\n",
    "    consecutive_transition_lists = [] #list of consecutive transitions per object instance per sequence.\n",
    "\n",
    "    for m, arg in enumerate(arguments):  # for all arguments (objects found in sequences)\n",
    "        for n, seq in enumerate(seqs):  # for all sequences\n",
    "            consecutive_transition_list = list()  # consecutive transition list for a sequence and an object (arg)\n",
    "            for i, actarg_tuple in enumerate(seq):\n",
    "                for j, arg_prime in enumerate(actarg_tuple[1]):  # for all arguments in actarg tuples\n",
    "                    if arg == arg_prime:  # if argument matches arg\n",
    "                        node = actarg_tuple[0] + \".\" +  str(j)\n",
    "                        # node = actarg_tuple[0] +  \".\" + class_names[get_class_index(arg,classes)] + \".\" +  str(j)  # name the node of graph which represents a transition\n",
    "                        consecutive_transition_list.append(node)  # add node to the cons_transition for sequence and argument\n",
    "\n",
    "                        # for each class append the nodes to the graph of that class\n",
    "                        class_index = get_class_index(arg_prime, classes)  # get index of class to which the object belongs to\n",
    "                        graphs[class_index].add_node(node)  # add node to the graph of that class\n",
    "\n",
    "            consecutive_transition_lists.append([n, arg, consecutive_transition_list])\n",
    "    \n",
    "    for n, seq in enumerate(seqs):  # for all sequences\n",
    "        consecutive_transition_list = list()  # consecutive transition list for a sequence and an object (arg)\n",
    "        for i, actarg_tuple in enumerate(seq):\n",
    "            node = actarg_tuple[0]+'.-1'\n",
    "            consecutive_transition_list.append(node)\n",
    "            # add node to the graph of that class\n",
    "\n",
    "        consecutive_transition_lists.append([n, 'zero', consecutive_transition_list])\n",
    "\n",
    "    print(consecutive_transition_lists)\n",
    "    # for all consecutive transitions add edges to the appropriate graphs.\n",
    "    for cons_trans_list in consecutive_transition_lists:\n",
    "        # print(cons_trans_list)\n",
    "        seq_no = cons_trans_list[0]  # get sequence number\n",
    "        arg = cons_trans_list[1]  # get argument\n",
    "        class_index = get_class_index(arg, classes)  # get index of class\n",
    "        # add directed edges to graph of that class\n",
    "        for i in range(0, len(cons_trans_list[2]) - 1):\n",
    "                if graphs[class_index].has_edge(cons_trans_list[2][i], cons_trans_list[2][i + 1]):\n",
    "                    graphs[class_index][cons_trans_list[2][i]][cons_trans_list[2][i + 1]]['weight'] += 1\n",
    "                else:\n",
    "                    graphs[class_index].add_edge(cons_trans_list[2][i], cons_trans_list[2][i + 1], weight=1)\n",
    "     \n",
    "    # save all the graphs\n",
    "    adjacency_matrix_list = save(graphs) # list of adjacency matrices per class\n",
    "    \n",
    "    # plot cytoscape interactive graphs\n",
    "    cytoscapeobs = plot_cytographs(graphs, adjacency_matrix_list)\n",
    "    \n",
    "    return adjacency_matrix_list, graphs, cytoscapeobs"
   ]
  },
  {
   "cell_type": "code",
   "execution_count": 188,
   "metadata": {},
   "outputs": [
    {
     "data": {
      "text/markdown": [
       "## TESTDOMAIN"
      ],
      "text/plain": [
       "<IPython.core.display.Markdown object>"
      ]
     },
     "metadata": {},
     "output_type": "display_data"
    },
    {
     "name": "stdout",
     "output_type": "stream",
     "text": [
      "[[0, 'a', ['unstack.0', 'putdown.0', 'pickup.0', 'stack.0']], [1, 'a', ['unstack.1', 'pickup.0', 'stack.0']], [2, 'a', ['stack.1']], [0, 'c', ['stack.1', 'unstack.1', 'stack.1']], [1, 'c', ['unstack.0', 'putdown.0', 'stack.1']], [2, 'c', ['unstack.0', 'stack.0', 'stack.1']], [0, 'zero', []], [1, 'zero', []], [2, 'zero', []], [0, 'b', ['unstack.1', 'pickup.0', 'stack.0', 'unstack.0', 'stack.0', 'stack.1']], [1, 'b', ['unstack.1', 'unstack.0', 'putdown.0', 'pickup.0', 'stack.0', 'stack.1']], [2, 'b', ['unstack.1', 'pickup.0', 'putdown.0', 'pickup.0', 'stack.0']], [0, 'zero', ['unstack.-1', 'putdown.-1', 'pickup.-1', 'stack.-1', 'unstack.-1', 'stack.-1', 'pickup.-1', 'stack.-1']], [1, 'zero', ['unstack.-1', 'putdown.-1', 'unstack.-1', 'putdown.-1', 'pickup.-1', 'stack.-1', 'pickup.-1', 'stack.-1']], [2, 'zero', ['unstack.-1', 'stack.-1', 'pickup.-1', 'putdown.-1', 'pickup.-1', 'stack.-1']]]\n"
     ]
    },
    {
     "data": {
      "text/markdown": [
       "## class **zero**"
      ],
      "text/plain": [
       "<IPython.core.display.Markdown object>"
      ]
     },
     "metadata": {},
     "output_type": "display_data"
    },
    {
     "data": {
      "text/html": [
       "<table>\n",
       "<thead>\n",
       "<tr><th>          </th><th style=\"text-align: right;\">  unstack.-1</th><th style=\"text-align: right;\">  putdown.-1</th><th style=\"text-align: right;\">  pickup.-1</th><th style=\"text-align: right;\">  stack.-1</th></tr>\n",
       "</thead>\n",
       "<tbody>\n",
       "<tr><td>unstack.-1</td><td style=\"text-align: right;\">           0</td><td style=\"text-align: right;\">           3</td><td style=\"text-align: right;\">          0</td><td style=\"text-align: right;\">         2</td></tr>\n",
       "<tr><td>putdown.-1</td><td style=\"text-align: right;\">           1</td><td style=\"text-align: right;\">           0</td><td style=\"text-align: right;\">          3</td><td style=\"text-align: right;\">         0</td></tr>\n",
       "<tr><td>pickup.-1 </td><td style=\"text-align: right;\">           0</td><td style=\"text-align: right;\">           1</td><td style=\"text-align: right;\">          0</td><td style=\"text-align: right;\">         5</td></tr>\n",
       "<tr><td>stack.-1  </td><td style=\"text-align: right;\">           1</td><td style=\"text-align: right;\">           0</td><td style=\"text-align: right;\">          3</td><td style=\"text-align: right;\">         0</td></tr>\n",
       "</tbody>\n",
       "</table>"
      ],
      "text/plain": [
       "'<table>\\n<thead>\\n<tr><th>          </th><th style=\"text-align: right;\">  unstack.-1</th><th style=\"text-align: right;\">  putdown.-1</th><th style=\"text-align: right;\">  pickup.-1</th><th style=\"text-align: right;\">  stack.-1</th></tr>\\n</thead>\\n<tbody>\\n<tr><td>unstack.-1</td><td style=\"text-align: right;\">           0</td><td style=\"text-align: right;\">           3</td><td style=\"text-align: right;\">          0</td><td style=\"text-align: right;\">         2</td></tr>\\n<tr><td>putdown.-1</td><td style=\"text-align: right;\">           1</td><td style=\"text-align: right;\">           0</td><td style=\"text-align: right;\">          3</td><td style=\"text-align: right;\">         0</td></tr>\\n<tr><td>pickup.-1 </td><td style=\"text-align: right;\">           0</td><td style=\"text-align: right;\">           1</td><td style=\"text-align: right;\">          0</td><td style=\"text-align: right;\">         5</td></tr>\\n<tr><td>stack.-1  </td><td style=\"text-align: right;\">           1</td><td style=\"text-align: right;\">           0</td><td style=\"text-align: right;\">          3</td><td style=\"text-align: right;\">         0</td></tr>\\n</tbody>\\n</table>'"
      ]
     },
     "metadata": {},
     "output_type": "display_data"
    },
    {
     "data": {
      "application/vnd.jupyter.widget-view+json": {
       "model_id": "cf0a32bd1fb64b30befc4654ddae9b75",
       "version_major": 2,
       "version_minor": 0
      },
      "text/plain": [
       "CytoscapeWidget(cytoscape_layout={'name': 'cola'}, cytoscape_style=[{'width': 400, 'height': 400, 'selector': …"
      ]
     },
     "metadata": {},
     "output_type": "display_data"
    },
    {
     "data": {
      "text/markdown": [
       "## class **a**"
      ],
      "text/plain": [
       "<IPython.core.display.Markdown object>"
      ]
     },
     "metadata": {},
     "output_type": "display_data"
    },
    {
     "data": {
      "text/html": [
       "<table>\n",
       "<thead>\n",
       "<tr><th>         </th><th style=\"text-align: right;\">  unstack.0</th><th style=\"text-align: right;\">  putdown.0</th><th style=\"text-align: right;\">  pickup.0</th><th style=\"text-align: right;\">  stack.0</th><th style=\"text-align: right;\">  unstack.1</th><th style=\"text-align: right;\">  stack.1</th></tr>\n",
       "</thead>\n",
       "<tbody>\n",
       "<tr><td>unstack.0</td><td style=\"text-align: right;\">          0</td><td style=\"text-align: right;\">          3</td><td style=\"text-align: right;\">         0</td><td style=\"text-align: right;\">        2</td><td style=\"text-align: right;\">          0</td><td style=\"text-align: right;\">        0</td></tr>\n",
       "<tr><td>putdown.0</td><td style=\"text-align: right;\">          0</td><td style=\"text-align: right;\">          0</td><td style=\"text-align: right;\">         3</td><td style=\"text-align: right;\">        0</td><td style=\"text-align: right;\">          0</td><td style=\"text-align: right;\">        1</td></tr>\n",
       "<tr><td>pickup.0 </td><td style=\"text-align: right;\">          0</td><td style=\"text-align: right;\">          1</td><td style=\"text-align: right;\">         0</td><td style=\"text-align: right;\">        5</td><td style=\"text-align: right;\">          0</td><td style=\"text-align: right;\">        0</td></tr>\n",
       "<tr><td>stack.0  </td><td style=\"text-align: right;\">          1</td><td style=\"text-align: right;\">          0</td><td style=\"text-align: right;\">         0</td><td style=\"text-align: right;\">        0</td><td style=\"text-align: right;\">          0</td><td style=\"text-align: right;\">        3</td></tr>\n",
       "<tr><td>unstack.1</td><td style=\"text-align: right;\">          1</td><td style=\"text-align: right;\">          0</td><td style=\"text-align: right;\">         3</td><td style=\"text-align: right;\">        0</td><td style=\"text-align: right;\">          0</td><td style=\"text-align: right;\">        1</td></tr>\n",
       "<tr><td>stack.1  </td><td style=\"text-align: right;\">          0</td><td style=\"text-align: right;\">          0</td><td style=\"text-align: right;\">         0</td><td style=\"text-align: right;\">        0</td><td style=\"text-align: right;\">          1</td><td style=\"text-align: right;\">        0</td></tr>\n",
       "</tbody>\n",
       "</table>"
      ],
      "text/plain": [
       "'<table>\\n<thead>\\n<tr><th>         </th><th style=\"text-align: right;\">  unstack.0</th><th style=\"text-align: right;\">  putdown.0</th><th style=\"text-align: right;\">  pickup.0</th><th style=\"text-align: right;\">  stack.0</th><th style=\"text-align: right;\">  unstack.1</th><th style=\"text-align: right;\">  stack.1</th></tr>\\n</thead>\\n<tbody>\\n<tr><td>unstack.0</td><td style=\"text-align: right;\">          0</td><td style=\"text-align: right;\">          3</td><td style=\"text-align: right;\">         0</td><td style=\"text-align: right;\">        2</td><td style=\"text-align: right;\">          0</td><td style=\"text-align: right;\">        0</td></tr>\\n<tr><td>putdown.0</td><td style=\"text-align: right;\">          0</td><td style=\"text-align: right;\">          0</td><td style=\"text-align: right;\">         3</td><td style=\"text-align: right;\">        0</td><td style=\"text-align: right;\">          0</td><td style=\"text-align: right;\">        1</td></tr>\\n<tr><td>pickup.0 </td><td style=\"text-align: right;\">          0</td><td style=\"text-align: right;\">          1</td><td style=\"text-align: right;\">         0</td><td style=\"text-align: right;\">        5</td><td style=\"text-align: right;\">          0</td><td style=\"text-align: right;\">        0</td></tr>\\n<tr><td>stack.0  </td><td style=\"text-align: right;\">          1</td><td style=\"text-align: right;\">          0</td><td style=\"text-align: right;\">         0</td><td style=\"text-align: right;\">        0</td><td style=\"text-align: right;\">          0</td><td style=\"text-align: right;\">        3</td></tr>\\n<tr><td>unstack.1</td><td style=\"text-align: right;\">          1</td><td style=\"text-align: right;\">          0</td><td style=\"text-align: right;\">         3</td><td style=\"text-align: right;\">        0</td><td style=\"text-align: right;\">          0</td><td style=\"text-align: right;\">        1</td></tr>\\n<tr><td>stack.1  </td><td style=\"text-align: right;\">          0</td><td style=\"text-align: right;\">          0</td><td style=\"text-align: right;\">         0</td><td style=\"text-align: right;\">        0</td><td style=\"text-align: right;\">          1</td><td style=\"text-align: right;\">        0</td></tr>\\n</tbody>\\n</table>'"
      ]
     },
     "metadata": {},
     "output_type": "display_data"
    },
    {
     "data": {
      "application/vnd.jupyter.widget-view+json": {
       "model_id": "738e0ca655fc4e0f82382c2403364ff3",
       "version_major": 2,
       "version_minor": 0
      },
      "text/plain": [
       "CytoscapeWidget(cytoscape_layout={'name': 'cola'}, cytoscape_style=[{'width': 400, 'height': 400, 'selector': …"
      ]
     },
     "metadata": {},
     "output_type": "display_data"
    }
   ],
   "source": [
    "#### Build weighted directed graphs for transitions.\n",
    "domain_name = 'testDomain'\n",
    "printmd(\"## \"+ domain_name.upper())\n",
    "adjacency_matrix_list, graphs, cytoscapeobjs = build_and_save_transition_graphs(classes, domain_name)"
   ]
  },
  {
   "cell_type": "code",
   "execution_count": 189,
   "metadata": {},
   "outputs": [],
   "source": [
    "def get_adjacency_matrix_with_holes(adjacency_matrix_list):\n",
    "    adjacency_matrix_list_with_holes = []\n",
    "    for index,adjacency_matrix in enumerate(adjacency_matrix_list):\n",
    "        # print(\"\\n ROWS ===========\")\n",
    "        df = adjacency_matrix.copy()\n",
    "        df1 = adjacency_matrix.copy()\n",
    "\n",
    "        # for particular adjacency matrix's copy, loop over all pairs of rows\n",
    "        for i in range(df.shape[0] - 1):\n",
    "            for j in range(i+1, df.shape[0]):\n",
    "                idx1, idx2 = i, j\n",
    "                row1, row2 = df.iloc[idx1,:], df.iloc[idx2, :] #we have now all pairs of rows\n",
    "\n",
    "                common_values_flag = False #for each two rows we have a common_values_flag\n",
    "\n",
    "                # if there is a common value between two rows, turn common value flag to true\n",
    "                for col in range(row1.shape[0]):\n",
    "                    if row1.iloc[col] > 0 and row2.iloc[col] > 0:\n",
    "                        common_values_flag = True\n",
    "                        break\n",
    "\n",
    "                # now if two rows have common values, we need to check for holes.\n",
    "                if common_values_flag:\n",
    "                    for col in range(row1.shape[0]):\n",
    "                        if row1.iloc[col] > 0 and row2.iloc[col] == 0:\n",
    "                            df1.iloc[idx2,col] = 'hole'\n",
    "                        elif row1.iloc[col] == 0 and row2.iloc[col] > 0:\n",
    "                            df1.iloc[idx1, col] = 'hole'\n",
    "\n",
    "        adjacency_matrix_list_with_holes.append(df1)\n",
    "    return adjacency_matrix_list_with_holes"
   ]
  },
  {
   "cell_type": "code",
   "execution_count": 190,
   "metadata": {},
   "outputs": [
    {
     "name": "stderr",
     "output_type": "stream",
     "text": [
      "/tmp/ipykernel_2081217/611254723.py:28: FutureWarning: Setting an item of incompatible dtype is deprecated and will raise an error in a future version of pandas. Value 'hole' has dtype incompatible with int64, please explicitly cast to a compatible dtype first.\n",
      "  df1.iloc[idx1, col] = 'hole'\n",
      "/tmp/ipykernel_2081217/611254723.py:26: FutureWarning: Setting an item of incompatible dtype is deprecated and will raise an error in a future version of pandas. Value 'hole' has dtype incompatible with int64, please explicitly cast to a compatible dtype first.\n",
      "  df1.iloc[idx2,col] = 'hole'\n"
     ]
    },
    {
     "data": {
      "text/markdown": [
       "\n",
       "#### zero"
      ],
      "text/plain": [
       "<IPython.core.display.Markdown object>"
      ]
     },
     "metadata": {},
     "output_type": "display_data"
    },
    {
     "data": {
      "text/html": [
       "<table>\n",
       "<thead>\n",
       "<tr><th>          </th><th style=\"text-align: right;\">  unstack.-1</th><th style=\"text-align: right;\">  putdown.-1</th><th style=\"text-align: right;\">  pickup.-1</th><th style=\"text-align: right;\">  stack.-1</th></tr>\n",
       "</thead>\n",
       "<tbody>\n",
       "<tr><td>unstack.-1</td><td style=\"text-align: right;\">           0</td><td style=\"text-align: right;\">           3</td><td style=\"text-align: right;\">          0</td><td style=\"text-align: right;\">         2</td></tr>\n",
       "<tr><td>putdown.-1</td><td style=\"text-align: right;\">           1</td><td style=\"text-align: right;\">           0</td><td style=\"text-align: right;\">          3</td><td style=\"text-align: right;\">         0</td></tr>\n",
       "<tr><td>pickup.-1 </td><td style=\"text-align: right;\">           0</td><td style=\"text-align: right;\">           1</td><td style=\"text-align: right;\">          0</td><td style=\"text-align: right;\">         5</td></tr>\n",
       "<tr><td>stack.-1  </td><td style=\"text-align: right;\">           1</td><td style=\"text-align: right;\">           0</td><td style=\"text-align: right;\">          3</td><td style=\"text-align: right;\">         0</td></tr>\n",
       "</tbody>\n",
       "</table>"
      ],
      "text/plain": [
       "'<table>\\n<thead>\\n<tr><th>          </th><th style=\"text-align: right;\">  unstack.-1</th><th style=\"text-align: right;\">  putdown.-1</th><th style=\"text-align: right;\">  pickup.-1</th><th style=\"text-align: right;\">  stack.-1</th></tr>\\n</thead>\\n<tbody>\\n<tr><td>unstack.-1</td><td style=\"text-align: right;\">           0</td><td style=\"text-align: right;\">           3</td><td style=\"text-align: right;\">          0</td><td style=\"text-align: right;\">         2</td></tr>\\n<tr><td>putdown.-1</td><td style=\"text-align: right;\">           1</td><td style=\"text-align: right;\">           0</td><td style=\"text-align: right;\">          3</td><td style=\"text-align: right;\">         0</td></tr>\\n<tr><td>pickup.-1 </td><td style=\"text-align: right;\">           0</td><td style=\"text-align: right;\">           1</td><td style=\"text-align: right;\">          0</td><td style=\"text-align: right;\">         5</td></tr>\\n<tr><td>stack.-1  </td><td style=\"text-align: right;\">           1</td><td style=\"text-align: right;\">           0</td><td style=\"text-align: right;\">          3</td><td style=\"text-align: right;\">         0</td></tr>\\n</tbody>\\n</table>'"
      ]
     },
     "metadata": {},
     "output_type": "display_data"
    },
    {
     "data": {
      "text/markdown": [
       "\n",
       "#### HOLES: zero"
      ],
      "text/plain": [
       "<IPython.core.display.Markdown object>"
      ]
     },
     "metadata": {},
     "output_type": "display_data"
    },
    {
     "data": {
      "text/html": [
       "<table>\n",
       "<thead>\n",
       "<tr><th>          </th><th style=\"text-align: right;\">  unstack.-1</th><th style=\"text-align: right;\">  putdown.-1</th><th style=\"text-align: right;\">  pickup.-1</th><th style=\"text-align: right;\">  stack.-1</th></tr>\n",
       "</thead>\n",
       "<tbody>\n",
       "<tr><td>unstack.-1</td><td style=\"text-align: right;\">           0</td><td style=\"text-align: right;\">           3</td><td style=\"text-align: right;\">          0</td><td style=\"text-align: right;\">         2</td></tr>\n",
       "<tr><td>putdown.-1</td><td style=\"text-align: right;\">           1</td><td style=\"text-align: right;\">           0</td><td style=\"text-align: right;\">          3</td><td style=\"text-align: right;\">         0</td></tr>\n",
       "<tr><td>pickup.-1 </td><td style=\"text-align: right;\">           0</td><td style=\"text-align: right;\">           1</td><td style=\"text-align: right;\">          0</td><td style=\"text-align: right;\">         5</td></tr>\n",
       "<tr><td>stack.-1  </td><td style=\"text-align: right;\">           1</td><td style=\"text-align: right;\">           0</td><td style=\"text-align: right;\">          3</td><td style=\"text-align: right;\">         0</td></tr>\n",
       "</tbody>\n",
       "</table>"
      ],
      "text/plain": [
       "'<table>\\n<thead>\\n<tr><th>          </th><th style=\"text-align: right;\">  unstack.-1</th><th style=\"text-align: right;\">  putdown.-1</th><th style=\"text-align: right;\">  pickup.-1</th><th style=\"text-align: right;\">  stack.-1</th></tr>\\n</thead>\\n<tbody>\\n<tr><td>unstack.-1</td><td style=\"text-align: right;\">           0</td><td style=\"text-align: right;\">           3</td><td style=\"text-align: right;\">          0</td><td style=\"text-align: right;\">         2</td></tr>\\n<tr><td>putdown.-1</td><td style=\"text-align: right;\">           1</td><td style=\"text-align: right;\">           0</td><td style=\"text-align: right;\">          3</td><td style=\"text-align: right;\">         0</td></tr>\\n<tr><td>pickup.-1 </td><td style=\"text-align: right;\">           0</td><td style=\"text-align: right;\">           1</td><td style=\"text-align: right;\">          0</td><td style=\"text-align: right;\">         5</td></tr>\\n<tr><td>stack.-1  </td><td style=\"text-align: right;\">           1</td><td style=\"text-align: right;\">           0</td><td style=\"text-align: right;\">          3</td><td style=\"text-align: right;\">         0</td></tr>\\n</tbody>\\n</table>'"
      ]
     },
     "metadata": {},
     "output_type": "display_data"
    },
    {
     "data": {
      "text/markdown": [
       "\n",
       "#### a"
      ],
      "text/plain": [
       "<IPython.core.display.Markdown object>"
      ]
     },
     "metadata": {},
     "output_type": "display_data"
    },
    {
     "data": {
      "text/html": [
       "<table>\n",
       "<thead>\n",
       "<tr><th>         </th><th style=\"text-align: right;\">  unstack.0</th><th style=\"text-align: right;\">  putdown.0</th><th style=\"text-align: right;\">  pickup.0</th><th style=\"text-align: right;\">  stack.0</th><th style=\"text-align: right;\">  unstack.1</th><th style=\"text-align: right;\">  stack.1</th></tr>\n",
       "</thead>\n",
       "<tbody>\n",
       "<tr><td>unstack.0</td><td style=\"text-align: right;\">          0</td><td style=\"text-align: right;\">          3</td><td style=\"text-align: right;\">         0</td><td style=\"text-align: right;\">        2</td><td style=\"text-align: right;\">          0</td><td style=\"text-align: right;\">        0</td></tr>\n",
       "<tr><td>putdown.0</td><td style=\"text-align: right;\">          0</td><td style=\"text-align: right;\">          0</td><td style=\"text-align: right;\">         3</td><td style=\"text-align: right;\">        0</td><td style=\"text-align: right;\">          0</td><td style=\"text-align: right;\">        1</td></tr>\n",
       "<tr><td>pickup.0 </td><td style=\"text-align: right;\">          0</td><td style=\"text-align: right;\">          1</td><td style=\"text-align: right;\">         0</td><td style=\"text-align: right;\">        5</td><td style=\"text-align: right;\">          0</td><td style=\"text-align: right;\">        0</td></tr>\n",
       "<tr><td>stack.0  </td><td style=\"text-align: right;\">          1</td><td style=\"text-align: right;\">          0</td><td style=\"text-align: right;\">         0</td><td style=\"text-align: right;\">        0</td><td style=\"text-align: right;\">          0</td><td style=\"text-align: right;\">        3</td></tr>\n",
       "<tr><td>unstack.1</td><td style=\"text-align: right;\">          1</td><td style=\"text-align: right;\">          0</td><td style=\"text-align: right;\">         3</td><td style=\"text-align: right;\">        0</td><td style=\"text-align: right;\">          0</td><td style=\"text-align: right;\">        1</td></tr>\n",
       "<tr><td>stack.1  </td><td style=\"text-align: right;\">          0</td><td style=\"text-align: right;\">          0</td><td style=\"text-align: right;\">         0</td><td style=\"text-align: right;\">        0</td><td style=\"text-align: right;\">          1</td><td style=\"text-align: right;\">        0</td></tr>\n",
       "</tbody>\n",
       "</table>"
      ],
      "text/plain": [
       "'<table>\\n<thead>\\n<tr><th>         </th><th style=\"text-align: right;\">  unstack.0</th><th style=\"text-align: right;\">  putdown.0</th><th style=\"text-align: right;\">  pickup.0</th><th style=\"text-align: right;\">  stack.0</th><th style=\"text-align: right;\">  unstack.1</th><th style=\"text-align: right;\">  stack.1</th></tr>\\n</thead>\\n<tbody>\\n<tr><td>unstack.0</td><td style=\"text-align: right;\">          0</td><td style=\"text-align: right;\">          3</td><td style=\"text-align: right;\">         0</td><td style=\"text-align: right;\">        2</td><td style=\"text-align: right;\">          0</td><td style=\"text-align: right;\">        0</td></tr>\\n<tr><td>putdown.0</td><td style=\"text-align: right;\">          0</td><td style=\"text-align: right;\">          0</td><td style=\"text-align: right;\">         3</td><td style=\"text-align: right;\">        0</td><td style=\"text-align: right;\">          0</td><td style=\"text-align: right;\">        1</td></tr>\\n<tr><td>pickup.0 </td><td style=\"text-align: right;\">          0</td><td style=\"text-align: right;\">          1</td><td style=\"text-align: right;\">         0</td><td style=\"text-align: right;\">        5</td><td style=\"text-align: right;\">          0</td><td style=\"text-align: right;\">        0</td></tr>\\n<tr><td>stack.0  </td><td style=\"text-align: right;\">          1</td><td style=\"text-align: right;\">          0</td><td style=\"text-align: right;\">         0</td><td style=\"text-align: right;\">        0</td><td style=\"text-align: right;\">          0</td><td style=\"text-align: right;\">        3</td></tr>\\n<tr><td>unstack.1</td><td style=\"text-align: right;\">          1</td><td style=\"text-align: right;\">          0</td><td style=\"text-align: right;\">         3</td><td style=\"text-align: right;\">        0</td><td style=\"text-align: right;\">          0</td><td style=\"text-align: right;\">        1</td></tr>\\n<tr><td>stack.1  </td><td style=\"text-align: right;\">          0</td><td style=\"text-align: right;\">          0</td><td style=\"text-align: right;\">         0</td><td style=\"text-align: right;\">        0</td><td style=\"text-align: right;\">          1</td><td style=\"text-align: right;\">        0</td></tr>\\n</tbody>\\n</table>'"
      ]
     },
     "metadata": {},
     "output_type": "display_data"
    },
    {
     "data": {
      "text/markdown": [
       "\n",
       "#### HOLES: a"
      ],
      "text/plain": [
       "<IPython.core.display.Markdown object>"
      ]
     },
     "metadata": {},
     "output_type": "display_data"
    },
    {
     "data": {
      "text/html": [
       "<table>\n",
       "<thead>\n",
       "<tr><th>         </th><th>unstack.0  </th><th style=\"text-align: right;\">  putdown.0</th><th>pickup.0  </th><th style=\"text-align: right;\">  stack.0</th><th style=\"text-align: right;\">  unstack.1</th><th style=\"text-align: right;\">  stack.1</th></tr>\n",
       "</thead>\n",
       "<tbody>\n",
       "<tr><td>unstack.0</td><td>0          </td><td style=\"text-align: right;\">          3</td><td>0         </td><td style=\"text-align: right;\">        2</td><td style=\"text-align: right;\">          0</td><td style=\"text-align: right;\">        0</td></tr>\n",
       "<tr><td>putdown.0</td><td>hole       </td><td style=\"text-align: right;\">          0</td><td>3         </td><td style=\"text-align: right;\">        0</td><td style=\"text-align: right;\">          0</td><td style=\"text-align: right;\">        1</td></tr>\n",
       "<tr><td>pickup.0 </td><td>0          </td><td style=\"text-align: right;\">          1</td><td>0         </td><td style=\"text-align: right;\">        5</td><td style=\"text-align: right;\">          0</td><td style=\"text-align: right;\">        0</td></tr>\n",
       "<tr><td>stack.0  </td><td>1          </td><td style=\"text-align: right;\">          0</td><td>hole      </td><td style=\"text-align: right;\">        0</td><td style=\"text-align: right;\">          0</td><td style=\"text-align: right;\">        3</td></tr>\n",
       "<tr><td>unstack.1</td><td>1          </td><td style=\"text-align: right;\">          0</td><td>3         </td><td style=\"text-align: right;\">        0</td><td style=\"text-align: right;\">          0</td><td style=\"text-align: right;\">        1</td></tr>\n",
       "<tr><td>stack.1  </td><td>0          </td><td style=\"text-align: right;\">          0</td><td>0         </td><td style=\"text-align: right;\">        0</td><td style=\"text-align: right;\">          1</td><td style=\"text-align: right;\">        0</td></tr>\n",
       "</tbody>\n",
       "</table>"
      ],
      "text/plain": [
       "'<table>\\n<thead>\\n<tr><th>         </th><th>unstack.0  </th><th style=\"text-align: right;\">  putdown.0</th><th>pickup.0  </th><th style=\"text-align: right;\">  stack.0</th><th style=\"text-align: right;\">  unstack.1</th><th style=\"text-align: right;\">  stack.1</th></tr>\\n</thead>\\n<tbody>\\n<tr><td>unstack.0</td><td>0          </td><td style=\"text-align: right;\">          3</td><td>0         </td><td style=\"text-align: right;\">        2</td><td style=\"text-align: right;\">          0</td><td style=\"text-align: right;\">        0</td></tr>\\n<tr><td>putdown.0</td><td>hole       </td><td style=\"text-align: right;\">          0</td><td>3         </td><td style=\"text-align: right;\">        0</td><td style=\"text-align: right;\">          0</td><td style=\"text-align: right;\">        1</td></tr>\\n<tr><td>pickup.0 </td><td>0          </td><td style=\"text-align: right;\">          1</td><td>0         </td><td style=\"text-align: right;\">        5</td><td style=\"text-align: right;\">          0</td><td style=\"text-align: right;\">        0</td></tr>\\n<tr><td>stack.0  </td><td>1          </td><td style=\"text-align: right;\">          0</td><td>hole      </td><td style=\"text-align: right;\">        0</td><td style=\"text-align: right;\">          0</td><td style=\"text-align: right;\">        3</td></tr>\\n<tr><td>unstack.1</td><td>1          </td><td style=\"text-align: right;\">          0</td><td>3         </td><td style=\"text-align: right;\">        0</td><td style=\"text-align: right;\">          0</td><td style=\"text-align: right;\">        1</td></tr>\\n<tr><td>stack.1  </td><td>0          </td><td style=\"text-align: right;\">          0</td><td>0         </td><td style=\"text-align: right;\">        0</td><td style=\"text-align: right;\">          1</td><td style=\"text-align: right;\">        0</td></tr>\\n</tbody>\\n</table>'"
      ]
     },
     "metadata": {},
     "output_type": "display_data"
    }
   ],
   "source": [
    "adjacency_matrix_list_with_holes = get_adjacency_matrix_with_holes(adjacency_matrix_list)\n",
    "\n",
    "# Printing FSM matrices with and without holes\n",
    "for index,adjacency_matrix in enumerate(adjacency_matrix_list):\n",
    "    printmd(\"\\n#### \" + class_names[index] )\n",
    "    print_table(adjacency_matrix)\n",
    "\n",
    "    printmd(\"\\n#### HOLES: \" + class_names[index])\n",
    "    print_table(adjacency_matrix_list_with_holes[index])"
   ]
  },
  {
   "cell_type": "code",
   "execution_count": 191,
   "metadata": {},
   "outputs": [
    {
     "name": "stdout",
     "output_type": "stream",
     "text": [
      "#holes in class zero:0\n",
      "#holes in class a:2\n"
     ]
    }
   ],
   "source": [
    "holes_per_class = []\n",
    "\n",
    "for index,df in enumerate(adjacency_matrix_list_with_holes):\n",
    "    holes = set()\n",
    "    for i in range(df.shape[0]):\n",
    "        for j in range(df.shape[1]):\n",
    "            if df.iloc[i,j] == 'hole':\n",
    "                holes.add(frozenset({df.index[i] , df.columns[j]}))\n",
    "    holes_per_class.append(holes)\n",
    "for i, hole in enumerate(holes_per_class):\n",
    "    print(\"#holes in class \" + class_names[i]+\":\" + str(len(hole)))"
   ]
  },
  {
   "cell_type": "code",
   "execution_count": 192,
   "metadata": {},
   "outputs": [],
   "source": [
    "transitions_per_class = []\n",
    "for index, df in enumerate(adjacency_matrix_list_with_holes):\n",
    "    transitions_per_class.append(df.columns.values)"
   ]
  },
  {
   "cell_type": "code",
   "execution_count": 193,
   "metadata": {},
   "outputs": [],
   "source": [
    "def get_consecutive_transitions_per_class(adjacency_matrix_list_with_holes):\n",
    "    consecutive_transitions_per_class = []\n",
    "    for index, df in enumerate(adjacency_matrix_list_with_holes):\n",
    "        consecutive_transitions = set()  # for a class\n",
    "        for i in range(df.shape[0]):\n",
    "            for j in range(df.shape[1]):\n",
    "                if df.iloc[i, j] != 'hole':\n",
    "                    if df.iloc[i, j] > 0:\n",
    "#                         print(\"(\" + df.index[i] + \",\" + df.columns[j] + \")\")\n",
    "                        consecutive_transitions.add((df.index[i], df.columns[j]))\n",
    "        consecutive_transitions_per_class.append(consecutive_transitions)\n",
    "    return consecutive_transitions_per_class"
   ]
  },
  {
   "cell_type": "code",
   "execution_count": 194,
   "metadata": {},
   "outputs": [],
   "source": [
    "consecutive_transitions_per_class = get_consecutive_transitions_per_class(adjacency_matrix_list_with_holes)\n"
   ]
  },
  {
   "cell_type": "code",
   "execution_count": 195,
   "metadata": {},
   "outputs": [],
   "source": [
    "def check_well_formed(subset_df):\n",
    "    # got the adjacency matrix subset\n",
    "    df = subset_df.copy()\n",
    "    well_formed_flag = True\n",
    "    \n",
    "    \n",
    "    if (df == 0).all(axis=None): # all elements are zero\n",
    "        well_formed_flag = False\n",
    "        \n",
    "    # for particular adjacency matrix's copy, loop over all pairs of rows\n",
    "    for i in range(0, df.shape[0]-1):\n",
    "        for j in range(i + 1, df.shape[0]):\n",
    "            print(i,j)\n",
    "            idx1, idx2 = i, j\n",
    "            row1, row2 = df.iloc[idx1, :], df.iloc[idx2, :]  # we have now all pairs of rows\n",
    "\n",
    "            common_values_flag = False  # for each two rows we have a common_values_flag\n",
    "\n",
    "            # if there is a common value between two rows, turn common value flag to true\n",
    "            for col in range(row1.shape[0]):\n",
    "                if row1.iloc[col] > 0 and row2.iloc[col] > 0:\n",
    "                    common_values_flag = True\n",
    "                    break\n",
    "          \n",
    "            if common_values_flag:\n",
    "                for col in range(row1.shape[0]): # check for holes if common value\n",
    "                    if row1.iloc[col] > 0 and row2.iloc[col] == 0:\n",
    "                        well_formed_flag = False\n",
    "                    elif row1.iloc[col] == 0 and row2.iloc[col] > 0:\n",
    "                        well_formed_flag = False\n",
    "    \n",
    "    if not well_formed_flag:\n",
    "        return False\n",
    "    elif well_formed_flag:\n",
    "        return True\n",
    "     \n",
    "                    \n",
    "    "
   ]
  },
  {
   "cell_type": "code",
   "execution_count": 196,
   "metadata": {},
   "outputs": [],
   "source": [
    "def check_valid(subset_df,consecutive_transitions_per_class):\n",
    "    \n",
    "    # Note: Essentially we check validity against P instead of E. \n",
    "    # In the paper of LOCM2, it isn't mentioned how to check against E.\n",
    "    \n",
    "    # Reasoning: If we check against all consecutive transitions per class, \n",
    "    # we essentially check against all example sequences.\n",
    "    # check the candidate set which is well-formed (subset df against all consecutive transitions)\n",
    "\n",
    "    # got the adjacency matrix subset\n",
    "    df = subset_df.copy()\n",
    "\n",
    "    # for particular adjacency matrix's copy, loop over all pairs of rows\n",
    "    for i in range(df.shape[0]):\n",
    "        for j in range(df.shape[0]):\n",
    "            if df.iloc[i,j] > 0:\n",
    "                valid_val_flag = False\n",
    "                ordered_pair = (df.index[i], df.columns[j])\n",
    "                for ct_list in consecutive_transitions_per_class:\n",
    "                    for ct in ct_list:\n",
    "                        if ordered_pair == ct:\n",
    "                            valid_val_flag=True\n",
    "                # if after all iteration ordered pair is not found, mark the subset as invalid.\n",
    "                if not valid_val_flag:\n",
    "                    return False\n",
    "                \n",
    "    # return True if all ordered pairs found.\n",
    "    return True"
   ]
  },
  {
   "cell_type": "code",
   "execution_count": 197,
   "metadata": {},
   "outputs": [
    {
     "data": {
      "text/markdown": [
       "### Getting transitions sets for each class using LOCM2"
      ],
      "text/plain": [
       "<IPython.core.display.Markdown object>"
      ]
     },
     "metadata": {},
     "output_type": "display_data"
    },
    {
     "data": {
      "text/markdown": [
       "### zero"
      ],
      "text/plain": [
       "<IPython.core.display.Markdown object>"
      ]
     },
     "metadata": {},
     "output_type": "display_data"
    },
    {
     "name": "stdout",
     "output_type": "stream",
     "text": [
      "no holes\n",
      "[]\n",
      "\n",
      "Removed redundancy transition set list\n",
      "[]\n"
     ]
    },
    {
     "data": {
      "text/markdown": [
       "#### Final transition set list"
      ],
      "text/plain": [
       "<IPython.core.display.Markdown object>"
      ]
     },
     "metadata": {},
     "output_type": "display_data"
    },
    {
     "name": "stdout",
     "output_type": "stream",
     "text": [
      "[{'stack.-1', 'putdown.-1', 'unstack.-1', 'pickup.-1'}]\n"
     ]
    },
    {
     "data": {
      "text/markdown": [
       "### a"
      ],
      "text/plain": [
       "<IPython.core.display.Markdown object>"
      ]
     },
     "metadata": {},
     "output_type": "display_data"
    },
    {
     "name": "stdout",
     "output_type": "stream",
     "text": [
      "2 holes\n"
     ]
    },
    {
     "data": {
      "text/markdown": [
       "#### Hole 1: {'unstack.0', 'putdown.0'}"
      ],
      "text/plain": [
       "<IPython.core.display.Markdown object>"
      ]
     },
     "metadata": {},
     "output_type": "display_data"
    },
    {
     "data": {
      "text/markdown": [
       "Checking candidate set *{'pickup.0', 'unstack.0', 'putdown.0'}* of class **a** for well formedness and Validity"
      ],
      "text/plain": [
       "<IPython.core.display.Markdown object>"
      ]
     },
     "metadata": {},
     "output_type": "display_data"
    },
    {
     "data": {
      "text/html": [
       "<table>\n",
       "<thead>\n",
       "<tr><th>         </th><th style=\"text-align: right;\">  pickup.0</th><th style=\"text-align: right;\">  unstack.0</th><th style=\"text-align: right;\">  putdown.0</th></tr>\n",
       "</thead>\n",
       "<tbody>\n",
       "<tr><td>pickup.0 </td><td style=\"text-align: right;\">         0</td><td style=\"text-align: right;\">          0</td><td style=\"text-align: right;\">          1</td></tr>\n",
       "<tr><td>unstack.0</td><td style=\"text-align: right;\">         0</td><td style=\"text-align: right;\">          0</td><td style=\"text-align: right;\">          3</td></tr>\n",
       "<tr><td>putdown.0</td><td style=\"text-align: right;\">         3</td><td style=\"text-align: right;\">          0</td><td style=\"text-align: right;\">          0</td></tr>\n",
       "</tbody>\n",
       "</table>"
      ],
      "text/plain": [
       "'<table>\\n<thead>\\n<tr><th>         </th><th style=\"text-align: right;\">  pickup.0</th><th style=\"text-align: right;\">  unstack.0</th><th style=\"text-align: right;\">  putdown.0</th></tr>\\n</thead>\\n<tbody>\\n<tr><td>pickup.0 </td><td style=\"text-align: right;\">         0</td><td style=\"text-align: right;\">          0</td><td style=\"text-align: right;\">          1</td></tr>\\n<tr><td>unstack.0</td><td style=\"text-align: right;\">         0</td><td style=\"text-align: right;\">          0</td><td style=\"text-align: right;\">          3</td></tr>\\n<tr><td>putdown.0</td><td style=\"text-align: right;\">         3</td><td style=\"text-align: right;\">          0</td><td style=\"text-align: right;\">          0</td></tr>\\n</tbody>\\n</table>'"
      ]
     },
     "metadata": {},
     "output_type": "display_data"
    },
    {
     "name": "stdout",
     "output_type": "stream",
     "text": [
      "0 1\n",
      "0 2\n",
      "1 2\n",
      "This subset is well-formed.\n",
      "This subset is valid.\n",
      "Adding this subset {'pickup.0', 'unstack.0', 'putdown.0'} to the locm2 transition set.\n",
      "Hole that is covered now:\n",
      "['unstack.0', 'putdown.0']\n"
     ]
    },
    {
     "data": {
      "text/markdown": [
       "#### Hole 2: {'pickup.0', 'stack.0'}"
      ],
      "text/plain": [
       "<IPython.core.display.Markdown object>"
      ]
     },
     "metadata": {},
     "output_type": "display_data"
    },
    {
     "data": {
      "text/markdown": [
       "Checking candidate set *{'pickup.0', 'stack.0', 'putdown.0'}* of class **a** for well formedness and Validity"
      ],
      "text/plain": [
       "<IPython.core.display.Markdown object>"
      ]
     },
     "metadata": {},
     "output_type": "display_data"
    },
    {
     "data": {
      "text/html": [
       "<table>\n",
       "<thead>\n",
       "<tr><th>         </th><th style=\"text-align: right;\">  pickup.0</th><th style=\"text-align: right;\">  stack.0</th><th style=\"text-align: right;\">  putdown.0</th></tr>\n",
       "</thead>\n",
       "<tbody>\n",
       "<tr><td>pickup.0 </td><td style=\"text-align: right;\">         0</td><td style=\"text-align: right;\">        5</td><td style=\"text-align: right;\">          1</td></tr>\n",
       "<tr><td>stack.0  </td><td style=\"text-align: right;\">         0</td><td style=\"text-align: right;\">        0</td><td style=\"text-align: right;\">          0</td></tr>\n",
       "<tr><td>putdown.0</td><td style=\"text-align: right;\">         3</td><td style=\"text-align: right;\">        0</td><td style=\"text-align: right;\">          0</td></tr>\n",
       "</tbody>\n",
       "</table>"
      ],
      "text/plain": [
       "'<table>\\n<thead>\\n<tr><th>         </th><th style=\"text-align: right;\">  pickup.0</th><th style=\"text-align: right;\">  stack.0</th><th style=\"text-align: right;\">  putdown.0</th></tr>\\n</thead>\\n<tbody>\\n<tr><td>pickup.0 </td><td style=\"text-align: right;\">         0</td><td style=\"text-align: right;\">        5</td><td style=\"text-align: right;\">          1</td></tr>\\n<tr><td>stack.0  </td><td style=\"text-align: right;\">         0</td><td style=\"text-align: right;\">        0</td><td style=\"text-align: right;\">          0</td></tr>\\n<tr><td>putdown.0</td><td style=\"text-align: right;\">         3</td><td style=\"text-align: right;\">        0</td><td style=\"text-align: right;\">          0</td></tr>\\n</tbody>\\n</table>'"
      ]
     },
     "metadata": {},
     "output_type": "display_data"
    },
    {
     "name": "stdout",
     "output_type": "stream",
     "text": [
      "0 1\n",
      "0 2\n",
      "1 2\n",
      "This subset is well-formed.\n",
      "This subset is valid.\n",
      "Adding this subset {'pickup.0', 'stack.0', 'putdown.0'} to the locm2 transition set.\n",
      "Hole that is covered now:\n",
      "['pickup.0', 'stack.0']\n",
      "[{'pickup.0', 'unstack.0', 'putdown.0'}, {'pickup.0', 'stack.0', 'putdown.0'}]\n",
      "\n",
      "Removed redundancy transition set list\n",
      "[{'pickup.0', 'unstack.0', 'putdown.0'}, {'pickup.0', 'stack.0', 'putdown.0'}]\n"
     ]
    },
    {
     "data": {
      "text/markdown": [
       "#### Final transition set list"
      ],
      "text/plain": [
       "<IPython.core.display.Markdown object>"
      ]
     },
     "metadata": {},
     "output_type": "display_data"
    },
    {
     "name": "stdout",
     "output_type": "stream",
     "text": [
      "[{'pickup.0', 'unstack.0', 'putdown.0'}, {'pickup.0', 'stack.0', 'putdown.0'}, {'pickup.0', 'stack.1', 'unstack.1', 'stack.0', 'unstack.0', 'putdown.0'}]\n"
     ]
    }
   ],
   "source": [
    "def locm2_get_transition_sets_per_class(holes_per_class, transitions_per_class, consecutive_transitions_per_class):\n",
    "    \"\"\"LOCM 2 Algorithm in the original LOCM2 paper\"\"\"\n",
    "    \n",
    "    # contains Solution Set S for each class.\n",
    "    transition_sets_per_class = []\n",
    "\n",
    "    # for each hole for a class/sort\n",
    "    for index, holes in enumerate(holes_per_class):\n",
    "        class_name = class_names[index]\n",
    "        printmd(\"### \"+  class_name)\n",
    "        \n",
    "        # S\n",
    "        transition_set_list = [] #transition_sets_of_a_class, # intially it's empty\n",
    "        \n",
    "        if len(holes)==0:\n",
    "            print(\"no holes\") # S will contain just T_all\n",
    "        \n",
    "        if len(holes) > 0: # if there are any holes for a class\n",
    "            print(str(len(holes)) + \" holes\")\n",
    "            for ind, hole in enumerate(holes):\n",
    "                printmd(\"#### Hole \" + str(ind + 1) + \": \" + str(set(hole)))\n",
    "                is_hole_already_covered_flag = False\n",
    "                if len(transition_set_list)>0:\n",
    "                    for s_prime in transition_set_list:\n",
    "                        if hole.issubset(s_prime):\n",
    "                            printmd(\"Hole \"+ str(set(hole)) + \" is already covered.\")\n",
    "                            is_hole_already_covered_flag = True\n",
    "                            break\n",
    "                     \n",
    "                # discover a set which includes hole and is well-formed and valid against test data.\n",
    "                # if hole is not covered, do BFS with sets of increasing sizes starting with s=hole\n",
    "                if not is_hole_already_covered_flag: \n",
    "                    h = hole.copy()\n",
    "                    candidate_sets = []\n",
    "                    # all subsets of T_all starting from hole's len +1 to T_all-1.\n",
    "                    for i in range(len(h)+1,len(transitions_per_class[index])): \n",
    "                        subsets = findsubsets(transitions_per_class[index],i) # all subsets of length i\n",
    "\n",
    "                        for s in subsets:\n",
    "                            if h.issubset(s): # if  is subset of s\n",
    "                                candidate_sets.append(set(s))\n",
    "                        \n",
    "                        s_well_formed_and_valid = False\n",
    "                        for s in candidate_sets:\n",
    "                            if len(s)>=i:\n",
    "                                printmd(\"Checking candidate set *\" + str(s) + \"* of class **\" + class_name + \"** for well formedness and Validity\")\n",
    "                                subset_df = adjacency_matrix_list[index].loc[list(s),list(s)]\n",
    "                                print_table(subset_df)\n",
    "\n",
    "                                # checking for well-formedness\n",
    "                                well_formed_flag = False\n",
    "                                well_formed_flag = check_well_formed(subset_df)\n",
    "                                if not well_formed_flag:\n",
    "                                    print(\"This subset is NOT well-formed\")\n",
    "                                    \n",
    "                                elif well_formed_flag:\n",
    "                                    print(\"This subset is well-formed.\")\n",
    "                                    # if well-formed validate across the data E\n",
    "                                    # to remove inappropriate dead-ends\n",
    "                                    valid_against_data_flag = False\n",
    "                                    valid_against_data_flag = check_valid(subset_df, consecutive_transitions_per_class)\n",
    "                                    if not valid_against_data_flag:\n",
    "                                        print(\"This subset is well-formed but invalid against example data\")\n",
    "\n",
    "                                    if valid_against_data_flag:\n",
    "                                        print(\"This subset is valid.\")\n",
    "                                        print(\"Adding this subset \" + str(s) +\" to the locm2 transition set.\")\n",
    "                                        if s not in transition_set_list: # do not allow copies.\n",
    "                                            transition_set_list.append(s)\n",
    "                                        \n",
    "                                        print(\"Hole that is covered now:\")\n",
    "                                        print(list(h))\n",
    "                                        s_well_formed_and_valid = True\n",
    "                                        break \n",
    "                        if s_well_formed_and_valid:\n",
    "                                break\n",
    "                                        \n",
    "                                        \n",
    "\n",
    "        print(transition_set_list)                                    \n",
    "        #step 7 : remove redundant sets S - {s1}\n",
    "        ts_copy = transition_set_list.copy()\n",
    "        for i in range(len(ts_copy)):\n",
    "            for j in range(len(ts_copy)):\n",
    "                if ts_copy[i] < ts_copy[j]: #if subset\n",
    "                    if ts_copy[i] in transition_set_list:\n",
    "                        transition_set_list.remove(ts_copy[i])\n",
    "                elif ts_copy[i] > ts_copy[j]:\n",
    "                    if ts_copy[j] in transition_set_list:\n",
    "                        transition_set_list.remove(ts_copy[j])\n",
    "        print(\"\\nRemoved redundancy transition set list\")\n",
    "        print(transition_set_list)\n",
    "\n",
    "        #step-8: include all-transitions machine, even if it is not well-formed.\n",
    "        transition_set_list.append(set(transitions_per_class[index])) #fallback\n",
    "        printmd(\"#### Final transition set list\")\n",
    "        print(transition_set_list)\n",
    "        transition_sets_per_class.append(transition_set_list)\n",
    "        \n",
    "\n",
    "    return transition_sets_per_class\n",
    "\n",
    "\n",
    "############    LOCM2 #################\n",
    "####    Input ready for LOCM2, Starting LOCM2 algorithm now\n",
    "####    Step 8:  selecting transition sets (TS) [Main LOCM2 Algorithm]\n",
    "printmd(\"### Getting transitions sets for each class using LOCM2\")\n",
    "transition_sets_per_class = locm2_get_transition_sets_per_class(holes_per_class, transitions_per_class, consecutive_transitions_per_class)\n",
    "\n",
    "## add zero object transitions\n",
    "\n"
   ]
  },
  {
   "cell_type": "code",
   "execution_count": 198,
   "metadata": {},
   "outputs": [],
   "source": [
    "def plot_cytographs_fsm(graph, domain_name):\n",
    "    cytoscapeobj = CytoscapeWidget()\n",
    "    cytoscapeobj.graph.add_graph_from_networkx(graph)\n",
    "    edge_list = list()\n",
    "    for source, target, data in graph.edges(data=True):\n",
    "        edge_instance = Edge()\n",
    "        edge_instance.data['source'] = source\n",
    "        edge_instance.data['target'] = target\n",
    "        for k, v in data.items():\n",
    "            cyto_attrs = ['group', 'removed', 'selected', 'selectable',\n",
    "                'locked', 'grabbed', 'grabbable', 'classes', 'position', 'data']\n",
    "            if k in cyto_attrs:\n",
    "                setattr(edge_instance, k, v)\n",
    "            else:\n",
    "                edge_instance.data[k] = v\n",
    "            edge_list.append(edge_instance)\n",
    "\n",
    "    cytoscapeobj.graph.edges = edge_list\n",
    "#     print(\"Nodes:{}\".format(graph.nodes()))\n",
    "#     print(\"Edges:{}\".format(graph.edges()))\n",
    "    cytoscapeobj.set_style([{\n",
    "                    'width':400,\n",
    "                    'height':500,\n",
    "\n",
    "                    'selector': 'node',\n",
    "                    'style': {\n",
    "                        'label': 'data(id)',\n",
    "                        'font-family': 'helvetica',\n",
    "                        'font-size': '8px',\n",
    "                        'background-color': '#11479e',\n",
    "                        'height':'10px',\n",
    "                        'width':'10px',\n",
    "\n",
    "\n",
    "                        }\n",
    "\n",
    "                    },\n",
    "                    {\n",
    "                    'selector': 'node:parent',\n",
    "                    'css': {\n",
    "                        'background-opacity': 0.333,\n",
    "                        'background-color': '#bbb'\n",
    "                        }\n",
    "                    },\n",
    "                    {\n",
    "                    'selector': '$node > node',\n",
    "                    'css': {\n",
    "                        'padding-top': '10px',\n",
    "                        'padding-left': '10px',\n",
    "                        'padding-bottom': '10px',\n",
    "                        'padding-right': '10px',\n",
    "                        'text-valign': 'top',\n",
    "                        'text-halign': 'center',\n",
    "                        'background-color': '#bbb'\n",
    "                      }\n",
    "                    },\n",
    "                   {\n",
    "                        'selector': 'edge',\n",
    "\n",
    "                        'style': {\n",
    "                            'label':'data(weight)',\n",
    "                            'width': 1,\n",
    "                            'line-color': '#9dbaea',\n",
    "                            'target-arrow-shape': 'triangle',\n",
    "                            'target-arrow-color': '#9dbaea',\n",
    "                            'arrow-scale': 0.5,\n",
    "                            'curve-style': 'bezier',\n",
    "                            'font-family': 'helvetica',\n",
    "                            'font-size': '8px',\n",
    "                            'text-valign': 'top',\n",
    "                            'text-halign':'center'\n",
    "                        }\n",
    "                    },\n",
    "                    ])\n",
    "    cytoscapeobj.max_zoom = 2.0\n",
    "    cytoscapeobj.min_zoom = 0.5\n",
    "    display(cytoscapeobj)"
   ]
  },
  {
   "cell_type": "code",
   "execution_count": 203,
   "metadata": {},
   "outputs": [
    {
     "data": {
      "text/markdown": [
       "### zero"
      ],
      "text/plain": [
       "<IPython.core.display.Markdown object>"
      ]
     },
     "metadata": {},
     "output_type": "display_data"
    },
    {
     "name": "stdout",
     "output_type": "stream",
     "text": [
      "Number of FSMS:1\n"
     ]
    },
    {
     "data": {
      "text/markdown": [
       "#### FSM 0"
      ],
      "text/plain": [
       "<IPython.core.display.Markdown object>"
      ]
     },
     "metadata": {},
     "output_type": "display_data"
    },
    {
     "data": {
      "text/html": [
       "<table>\n",
       "<thead>\n",
       "<tr><th>          </th><th style=\"text-align: right;\">  stack.-1</th><th style=\"text-align: right;\">  putdown.-1</th><th style=\"text-align: right;\">  unstack.-1</th><th style=\"text-align: right;\">  pickup.-1</th></tr>\n",
       "</thead>\n",
       "<tbody>\n",
       "<tr><td>stack.-1  </td><td style=\"text-align: right;\">         0</td><td style=\"text-align: right;\">           0</td><td style=\"text-align: right;\">           1</td><td style=\"text-align: right;\">          3</td></tr>\n",
       "<tr><td>putdown.-1</td><td style=\"text-align: right;\">         0</td><td style=\"text-align: right;\">           0</td><td style=\"text-align: right;\">           1</td><td style=\"text-align: right;\">          3</td></tr>\n",
       "<tr><td>unstack.-1</td><td style=\"text-align: right;\">         2</td><td style=\"text-align: right;\">           3</td><td style=\"text-align: right;\">           0</td><td style=\"text-align: right;\">          0</td></tr>\n",
       "<tr><td>pickup.-1 </td><td style=\"text-align: right;\">         5</td><td style=\"text-align: right;\">           1</td><td style=\"text-align: right;\">           0</td><td style=\"text-align: right;\">          0</td></tr>\n",
       "</tbody>\n",
       "</table>"
      ],
      "text/plain": [
       "'<table>\\n<thead>\\n<tr><th>          </th><th style=\"text-align: right;\">  stack.-1</th><th style=\"text-align: right;\">  putdown.-1</th><th style=\"text-align: right;\">  unstack.-1</th><th style=\"text-align: right;\">  pickup.-1</th></tr>\\n</thead>\\n<tbody>\\n<tr><td>stack.-1  </td><td style=\"text-align: right;\">         0</td><td style=\"text-align: right;\">           0</td><td style=\"text-align: right;\">           1</td><td style=\"text-align: right;\">          3</td></tr>\\n<tr><td>putdown.-1</td><td style=\"text-align: right;\">         0</td><td style=\"text-align: right;\">           0</td><td style=\"text-align: right;\">           1</td><td style=\"text-align: right;\">          3</td></tr>\\n<tr><td>unstack.-1</td><td style=\"text-align: right;\">         2</td><td style=\"text-align: right;\">           3</td><td style=\"text-align: right;\">           0</td><td style=\"text-align: right;\">          0</td></tr>\\n<tr><td>pickup.-1 </td><td style=\"text-align: right;\">         5</td><td style=\"text-align: right;\">           1</td><td style=\"text-align: right;\">           0</td><td style=\"text-align: right;\">          0</td></tr>\\n</tbody>\\n</table>'"
      ]
     },
     "metadata": {},
     "output_type": "display_data"
    },
    {
     "name": "stderr",
     "output_type": "stream",
     "text": [
      "/home/uto/miniconda3/lib/python3.12/site-packages/jupyter_client/session.py:721: UserWarning: Message serialization failed with:\n",
      "keys must be str, int, float, bool or None, not tuple\n",
      "Supporting this message is deprecated in jupyter-client 7, please make sure your message is JSON-compliant\n",
      "  content = self.pack(content)\n"
     ]
    },
    {
     "data": {
      "application/vnd.jupyter.widget-view+json": {
       "model_id": "ab4b33bb7340497caaeb4d4de14c3c16",
       "version_major": 2,
       "version_minor": 0
      },
      "text/plain": [
       "CytoscapeWidget(cytoscape_layout={'name': 'cola'}, cytoscape_style=[{'width': 400, 'height': 500, 'selector': …"
      ]
     },
     "metadata": {},
     "output_type": "display_data"
    },
    {
     "name": "stdout",
     "output_type": "stream",
     "text": [
      "2\n"
     ]
    },
    {
     "data": {
      "text/html": [
       "<table>\n",
       "<thead>\n",
       "<tr><th>                                                    </th><th style=\"text-align: right;\">  e(putdown.-1)|e(stack.-1)|s(unstack.-1)|s(pickup.-1)</th><th style=\"text-align: right;\">  e(pickup.-1)|e(unstack.-1)|s(stack.-1)|s(putdown.-1)</th></tr>\n",
       "</thead>\n",
       "<tbody>\n",
       "<tr><td>e(putdown.-1)|e(stack.-1)|s(unstack.-1)|s(pickup.-1)</td><td style=\"text-align: right;\">                                                     0</td><td style=\"text-align: right;\">                                                     1</td></tr>\n",
       "<tr><td>e(pickup.-1)|e(unstack.-1)|s(stack.-1)|s(putdown.-1)</td><td style=\"text-align: right;\">                                                     1</td><td style=\"text-align: right;\">                                                     0</td></tr>\n",
       "</tbody>\n",
       "</table>"
      ],
      "text/plain": [
       "'<table>\\n<thead>\\n<tr><th>                                                    </th><th style=\"text-align: right;\">  e(putdown.-1)|e(stack.-1)|s(unstack.-1)|s(pickup.-1)</th><th style=\"text-align: right;\">  e(pickup.-1)|e(unstack.-1)|s(stack.-1)|s(putdown.-1)</th></tr>\\n</thead>\\n<tbody>\\n<tr><td>e(putdown.-1)|e(stack.-1)|s(unstack.-1)|s(pickup.-1)</td><td style=\"text-align: right;\">                                                     0</td><td style=\"text-align: right;\">                                                     1</td></tr>\\n<tr><td>e(pickup.-1)|e(unstack.-1)|s(stack.-1)|s(putdown.-1)</td><td style=\"text-align: right;\">                                                     1</td><td style=\"text-align: right;\">                                                     0</td></tr>\\n</tbody>\\n</table>'"
      ]
     },
     "metadata": {},
     "output_type": "display_data"
    },
    {
     "data": {
      "text/markdown": [
       "### a"
      ],
      "text/plain": [
       "<IPython.core.display.Markdown object>"
      ]
     },
     "metadata": {},
     "output_type": "display_data"
    },
    {
     "name": "stdout",
     "output_type": "stream",
     "text": [
      "Number of FSMS:3\n"
     ]
    },
    {
     "data": {
      "text/markdown": [
       "#### FSM 0"
      ],
      "text/plain": [
       "<IPython.core.display.Markdown object>"
      ]
     },
     "metadata": {},
     "output_type": "display_data"
    },
    {
     "data": {
      "text/html": [
       "<table>\n",
       "<thead>\n",
       "<tr><th>         </th><th style=\"text-align: right;\">  pickup.0</th><th style=\"text-align: right;\">  unstack.0</th><th style=\"text-align: right;\">  putdown.0</th></tr>\n",
       "</thead>\n",
       "<tbody>\n",
       "<tr><td>pickup.0 </td><td style=\"text-align: right;\">         0</td><td style=\"text-align: right;\">          0</td><td style=\"text-align: right;\">          1</td></tr>\n",
       "<tr><td>unstack.0</td><td style=\"text-align: right;\">         0</td><td style=\"text-align: right;\">          0</td><td style=\"text-align: right;\">          3</td></tr>\n",
       "<tr><td>putdown.0</td><td style=\"text-align: right;\">         3</td><td style=\"text-align: right;\">          0</td><td style=\"text-align: right;\">          0</td></tr>\n",
       "</tbody>\n",
       "</table>"
      ],
      "text/plain": [
       "'<table>\\n<thead>\\n<tr><th>         </th><th style=\"text-align: right;\">  pickup.0</th><th style=\"text-align: right;\">  unstack.0</th><th style=\"text-align: right;\">  putdown.0</th></tr>\\n</thead>\\n<tbody>\\n<tr><td>pickup.0 </td><td style=\"text-align: right;\">         0</td><td style=\"text-align: right;\">          0</td><td style=\"text-align: right;\">          1</td></tr>\\n<tr><td>unstack.0</td><td style=\"text-align: right;\">         0</td><td style=\"text-align: right;\">          0</td><td style=\"text-align: right;\">          3</td></tr>\\n<tr><td>putdown.0</td><td style=\"text-align: right;\">         3</td><td style=\"text-align: right;\">          0</td><td style=\"text-align: right;\">          0</td></tr>\\n</tbody>\\n</table>'"
      ]
     },
     "metadata": {},
     "output_type": "display_data"
    },
    {
     "data": {
      "application/vnd.jupyter.widget-view+json": {
       "model_id": "c32df74fdb81410a9bceba03a2241c3f",
       "version_major": 2,
       "version_minor": 0
      },
      "text/plain": [
       "CytoscapeWidget(cytoscape_layout={'name': 'cola'}, cytoscape_style=[{'width': 400, 'height': 500, 'selector': …"
      ]
     },
     "metadata": {},
     "output_type": "display_data"
    },
    {
     "name": "stdout",
     "output_type": "stream",
     "text": [
      "3\n"
     ]
    },
    {
     "data": {
      "text/html": [
       "<table>\n",
       "<thead>\n",
       "<tr><th>                                     </th><th style=\"text-align: right;\">  s(unstack.0)</th><th style=\"text-align: right;\">  e(unstack.0)|e(pickup.0)|s(putdown.0)</th><th style=\"text-align: right;\">  e(putdown.0)|s(pickup.0)</th></tr>\n",
       "</thead>\n",
       "<tbody>\n",
       "<tr><td>s(unstack.0)                         </td><td style=\"text-align: right;\">             0</td><td style=\"text-align: right;\">                                      1</td><td style=\"text-align: right;\">                         0</td></tr>\n",
       "<tr><td>e(unstack.0)|e(pickup.0)|s(putdown.0)</td><td style=\"text-align: right;\">             0</td><td style=\"text-align: right;\">                                      0</td><td style=\"text-align: right;\">                         1</td></tr>\n",
       "<tr><td>e(putdown.0)|s(pickup.0)             </td><td style=\"text-align: right;\">             0</td><td style=\"text-align: right;\">                                      1</td><td style=\"text-align: right;\">                         0</td></tr>\n",
       "</tbody>\n",
       "</table>"
      ],
      "text/plain": [
       "'<table>\\n<thead>\\n<tr><th>                                     </th><th style=\"text-align: right;\">  s(unstack.0)</th><th style=\"text-align: right;\">  e(unstack.0)|e(pickup.0)|s(putdown.0)</th><th style=\"text-align: right;\">  e(putdown.0)|s(pickup.0)</th></tr>\\n</thead>\\n<tbody>\\n<tr><td>s(unstack.0)                         </td><td style=\"text-align: right;\">             0</td><td style=\"text-align: right;\">                                      1</td><td style=\"text-align: right;\">                         0</td></tr>\\n<tr><td>e(unstack.0)|e(pickup.0)|s(putdown.0)</td><td style=\"text-align: right;\">             0</td><td style=\"text-align: right;\">                                      0</td><td style=\"text-align: right;\">                         1</td></tr>\\n<tr><td>e(putdown.0)|s(pickup.0)             </td><td style=\"text-align: right;\">             0</td><td style=\"text-align: right;\">                                      1</td><td style=\"text-align: right;\">                         0</td></tr>\\n</tbody>\\n</table>'"
      ]
     },
     "metadata": {},
     "output_type": "display_data"
    },
    {
     "data": {
      "text/markdown": [
       "#### FSM 1"
      ],
      "text/plain": [
       "<IPython.core.display.Markdown object>"
      ]
     },
     "metadata": {},
     "output_type": "display_data"
    },
    {
     "data": {
      "text/html": [
       "<table>\n",
       "<thead>\n",
       "<tr><th>         </th><th style=\"text-align: right;\">  pickup.0</th><th style=\"text-align: right;\">  stack.0</th><th style=\"text-align: right;\">  putdown.0</th></tr>\n",
       "</thead>\n",
       "<tbody>\n",
       "<tr><td>pickup.0 </td><td style=\"text-align: right;\">         0</td><td style=\"text-align: right;\">        5</td><td style=\"text-align: right;\">          1</td></tr>\n",
       "<tr><td>stack.0  </td><td style=\"text-align: right;\">         0</td><td style=\"text-align: right;\">        0</td><td style=\"text-align: right;\">          0</td></tr>\n",
       "<tr><td>putdown.0</td><td style=\"text-align: right;\">         3</td><td style=\"text-align: right;\">        0</td><td style=\"text-align: right;\">          0</td></tr>\n",
       "</tbody>\n",
       "</table>"
      ],
      "text/plain": [
       "'<table>\\n<thead>\\n<tr><th>         </th><th style=\"text-align: right;\">  pickup.0</th><th style=\"text-align: right;\">  stack.0</th><th style=\"text-align: right;\">  putdown.0</th></tr>\\n</thead>\\n<tbody>\\n<tr><td>pickup.0 </td><td style=\"text-align: right;\">         0</td><td style=\"text-align: right;\">        5</td><td style=\"text-align: right;\">          1</td></tr>\\n<tr><td>stack.0  </td><td style=\"text-align: right;\">         0</td><td style=\"text-align: right;\">        0</td><td style=\"text-align: right;\">          0</td></tr>\\n<tr><td>putdown.0</td><td style=\"text-align: right;\">         3</td><td style=\"text-align: right;\">        0</td><td style=\"text-align: right;\">          0</td></tr>\\n</tbody>\\n</table>'"
      ]
     },
     "metadata": {},
     "output_type": "display_data"
    },
    {
     "data": {
      "application/vnd.jupyter.widget-view+json": {
       "model_id": "be71109ad0434eb2bd3fecb1243ff27f",
       "version_major": 2,
       "version_minor": 0
      },
      "text/plain": [
       "CytoscapeWidget(cytoscape_layout={'name': 'cola'}, cytoscape_style=[{'width': 400, 'height': 500, 'selector': …"
      ]
     },
     "metadata": {},
     "output_type": "display_data"
    },
    {
     "name": "stdout",
     "output_type": "stream",
     "text": [
      "3\n"
     ]
    },
    {
     "data": {
      "text/html": [
       "<table>\n",
       "<thead>\n",
       "<tr><th>                                   </th><th style=\"text-align: right;\">  e(pickup.0)|s(stack.0)|s(putdown.0)</th><th style=\"text-align: right;\">  e(stack.0)</th><th style=\"text-align: right;\">  e(putdown.0)|s(pickup.0)</th></tr>\n",
       "</thead>\n",
       "<tbody>\n",
       "<tr><td>e(pickup.0)|s(stack.0)|s(putdown.0)</td><td style=\"text-align: right;\">                                    0</td><td style=\"text-align: right;\">           1</td><td style=\"text-align: right;\">                         1</td></tr>\n",
       "<tr><td>e(stack.0)                         </td><td style=\"text-align: right;\">                                    0</td><td style=\"text-align: right;\">           0</td><td style=\"text-align: right;\">                         0</td></tr>\n",
       "<tr><td>e(putdown.0)|s(pickup.0)           </td><td style=\"text-align: right;\">                                    1</td><td style=\"text-align: right;\">           0</td><td style=\"text-align: right;\">                         0</td></tr>\n",
       "</tbody>\n",
       "</table>"
      ],
      "text/plain": [
       "'<table>\\n<thead>\\n<tr><th>                                   </th><th style=\"text-align: right;\">  e(pickup.0)|s(stack.0)|s(putdown.0)</th><th style=\"text-align: right;\">  e(stack.0)</th><th style=\"text-align: right;\">  e(putdown.0)|s(pickup.0)</th></tr>\\n</thead>\\n<tbody>\\n<tr><td>e(pickup.0)|s(stack.0)|s(putdown.0)</td><td style=\"text-align: right;\">                                    0</td><td style=\"text-align: right;\">           1</td><td style=\"text-align: right;\">                         1</td></tr>\\n<tr><td>e(stack.0)                         </td><td style=\"text-align: right;\">                                    0</td><td style=\"text-align: right;\">           0</td><td style=\"text-align: right;\">                         0</td></tr>\\n<tr><td>e(putdown.0)|s(pickup.0)           </td><td style=\"text-align: right;\">                                    1</td><td style=\"text-align: right;\">           0</td><td style=\"text-align: right;\">                         0</td></tr>\\n</tbody>\\n</table>'"
      ]
     },
     "metadata": {},
     "output_type": "display_data"
    },
    {
     "data": {
      "text/markdown": [
       "#### FSM 2"
      ],
      "text/plain": [
       "<IPython.core.display.Markdown object>"
      ]
     },
     "metadata": {},
     "output_type": "display_data"
    },
    {
     "data": {
      "text/html": [
       "<table>\n",
       "<thead>\n",
       "<tr><th>         </th><th style=\"text-align: right;\">  pickup.0</th><th style=\"text-align: right;\">  stack.1</th><th style=\"text-align: right;\">  unstack.1</th><th style=\"text-align: right;\">  stack.0</th><th style=\"text-align: right;\">  unstack.0</th><th style=\"text-align: right;\">  putdown.0</th></tr>\n",
       "</thead>\n",
       "<tbody>\n",
       "<tr><td>pickup.0 </td><td style=\"text-align: right;\">         0</td><td style=\"text-align: right;\">        0</td><td style=\"text-align: right;\">          0</td><td style=\"text-align: right;\">        5</td><td style=\"text-align: right;\">          0</td><td style=\"text-align: right;\">          1</td></tr>\n",
       "<tr><td>stack.1  </td><td style=\"text-align: right;\">         0</td><td style=\"text-align: right;\">        0</td><td style=\"text-align: right;\">          1</td><td style=\"text-align: right;\">        0</td><td style=\"text-align: right;\">          0</td><td style=\"text-align: right;\">          0</td></tr>\n",
       "<tr><td>unstack.1</td><td style=\"text-align: right;\">         3</td><td style=\"text-align: right;\">        1</td><td style=\"text-align: right;\">          0</td><td style=\"text-align: right;\">        0</td><td style=\"text-align: right;\">          1</td><td style=\"text-align: right;\">          0</td></tr>\n",
       "<tr><td>stack.0  </td><td style=\"text-align: right;\">         0</td><td style=\"text-align: right;\">        3</td><td style=\"text-align: right;\">          0</td><td style=\"text-align: right;\">        0</td><td style=\"text-align: right;\">          1</td><td style=\"text-align: right;\">          0</td></tr>\n",
       "<tr><td>unstack.0</td><td style=\"text-align: right;\">         0</td><td style=\"text-align: right;\">        0</td><td style=\"text-align: right;\">          0</td><td style=\"text-align: right;\">        2</td><td style=\"text-align: right;\">          0</td><td style=\"text-align: right;\">          3</td></tr>\n",
       "<tr><td>putdown.0</td><td style=\"text-align: right;\">         3</td><td style=\"text-align: right;\">        1</td><td style=\"text-align: right;\">          0</td><td style=\"text-align: right;\">        0</td><td style=\"text-align: right;\">          0</td><td style=\"text-align: right;\">          0</td></tr>\n",
       "</tbody>\n",
       "</table>"
      ],
      "text/plain": [
       "'<table>\\n<thead>\\n<tr><th>         </th><th style=\"text-align: right;\">  pickup.0</th><th style=\"text-align: right;\">  stack.1</th><th style=\"text-align: right;\">  unstack.1</th><th style=\"text-align: right;\">  stack.0</th><th style=\"text-align: right;\">  unstack.0</th><th style=\"text-align: right;\">  putdown.0</th></tr>\\n</thead>\\n<tbody>\\n<tr><td>pickup.0 </td><td style=\"text-align: right;\">         0</td><td style=\"text-align: right;\">        0</td><td style=\"text-align: right;\">          0</td><td style=\"text-align: right;\">        5</td><td style=\"text-align: right;\">          0</td><td style=\"text-align: right;\">          1</td></tr>\\n<tr><td>stack.1  </td><td style=\"text-align: right;\">         0</td><td style=\"text-align: right;\">        0</td><td style=\"text-align: right;\">          1</td><td style=\"text-align: right;\">        0</td><td style=\"text-align: right;\">          0</td><td style=\"text-align: right;\">          0</td></tr>\\n<tr><td>unstack.1</td><td style=\"text-align: right;\">         3</td><td style=\"text-align: right;\">        1</td><td style=\"text-align: right;\">          0</td><td style=\"text-align: right;\">        0</td><td style=\"text-align: right;\">          1</td><td style=\"text-align: right;\">          0</td></tr>\\n<tr><td>stack.0  </td><td style=\"text-align: right;\">         0</td><td style=\"text-align: right;\">        3</td><td style=\"text-align: right;\">          0</td><td style=\"text-align: right;\">        0</td><td style=\"text-align: right;\">          1</td><td style=\"text-align: right;\">          0</td></tr>\\n<tr><td>unstack.0</td><td style=\"text-align: right;\">         0</td><td style=\"text-align: right;\">        0</td><td style=\"text-align: right;\">          0</td><td style=\"text-align: right;\">        2</td><td style=\"text-align: right;\">          0</td><td style=\"text-align: right;\">          3</td></tr>\\n<tr><td>putdown.0</td><td style=\"text-align: right;\">         3</td><td style=\"text-align: right;\">        1</td><td style=\"text-align: right;\">          0</td><td style=\"text-align: right;\">        0</td><td style=\"text-align: right;\">          0</td><td style=\"text-align: right;\">          0</td></tr>\\n</tbody>\\n</table>'"
      ]
     },
     "metadata": {},
     "output_type": "display_data"
    },
    {
     "name": "stderr",
     "output_type": "stream",
     "text": [
      "/home/uto/miniconda3/lib/python3.12/site-packages/jupyter_client/session.py:721: UserWarning: Message serialization failed with:\n",
      "keys must be str, int, float, bool or None, not tuple\n",
      "Supporting this message is deprecated in jupyter-client 7, please make sure your message is JSON-compliant\n",
      "  content = self.pack(content)\n"
     ]
    },
    {
     "data": {
      "application/vnd.jupyter.widget-view+json": {
       "model_id": "52ffd1ea7e9444518f40eb92c99b4dd7",
       "version_major": 2,
       "version_minor": 0
      },
      "text/plain": [
       "CytoscapeWidget(cytoscape_layout={'name': 'cola'}, cytoscape_style=[{'width': 400, 'height': 500, 'selector': …"
      ]
     },
     "metadata": {},
     "output_type": "display_data"
    },
    {
     "name": "stdout",
     "output_type": "stream",
     "text": [
      "3\n"
     ]
    },
    {
     "data": {
      "text/html": [
       "<table>\n",
       "<thead>\n",
       "<tr><th>                                                                        </th><th style=\"text-align: right;\">  e(stack.1)|s(unstack.1)</th><th style=\"text-align: right;\">  e(unstack.0)|e(pickup.0)|s(stack.0)|s(putdown.0)</th><th style=\"text-align: right;\">  e(putdown.0)|e(stack.0)|e(unstack.1)|s(pickup.0)|s(stack.1)|s(unstack.0)</th></tr>\n",
       "</thead>\n",
       "<tbody>\n",
       "<tr><td>e(stack.1)|s(unstack.1)                                                 </td><td style=\"text-align: right;\">                        0</td><td style=\"text-align: right;\">                                                 0</td><td style=\"text-align: right;\">                                                                         1</td></tr>\n",
       "<tr><td>e(unstack.0)|e(pickup.0)|s(stack.0)|s(putdown.0)                        </td><td style=\"text-align: right;\">                        0</td><td style=\"text-align: right;\">                                                 0</td><td style=\"text-align: right;\">                                                                         1</td></tr>\n",
       "<tr><td>e(putdown.0)|e(stack.0)|e(unstack.1)|s(pickup.0)|s(stack.1)|s(unstack.0)</td><td style=\"text-align: right;\">                        1</td><td style=\"text-align: right;\">                                                 1</td><td style=\"text-align: right;\">                                                                         0</td></tr>\n",
       "</tbody>\n",
       "</table>"
      ],
      "text/plain": [
       "'<table>\\n<thead>\\n<tr><th>                                                                        </th><th style=\"text-align: right;\">  e(stack.1)|s(unstack.1)</th><th style=\"text-align: right;\">  e(unstack.0)|e(pickup.0)|s(stack.0)|s(putdown.0)</th><th style=\"text-align: right;\">  e(putdown.0)|e(stack.0)|e(unstack.1)|s(pickup.0)|s(stack.1)|s(unstack.0)</th></tr>\\n</thead>\\n<tbody>\\n<tr><td>e(stack.1)|s(unstack.1)                                                 </td><td style=\"text-align: right;\">                        0</td><td style=\"text-align: right;\">                                                 0</td><td style=\"text-align: right;\">                                                                         1</td></tr>\\n<tr><td>e(unstack.0)|e(pickup.0)|s(stack.0)|s(putdown.0)                        </td><td style=\"text-align: right;\">                        0</td><td style=\"text-align: right;\">                                                 0</td><td style=\"text-align: right;\">                                                                         1</td></tr>\\n<tr><td>e(putdown.0)|e(stack.0)|e(unstack.1)|s(pickup.0)|s(stack.1)|s(unstack.0)</td><td style=\"text-align: right;\">                        1</td><td style=\"text-align: right;\">                                                 1</td><td style=\"text-align: right;\">                                                                         0</td></tr>\\n</tbody>\\n</table>'"
      ]
     },
     "metadata": {},
     "output_type": "display_data"
    }
   ],
   "source": [
    "state_machines_overall_list = []\n",
    "\n",
    "for index, ts_class in enumerate(transition_sets_per_class):\n",
    "    fsms_per_class = []\n",
    "    printmd(\"### \"+ class_names[index])\n",
    "    num_fsms = len(ts_class)\n",
    "    print(\"Number of FSMS:\" + str(num_fsms))\n",
    "    \n",
    "    for fsm_no, ts in enumerate(ts_class):\n",
    "        fsm_graph = nx.DiGraph()\n",
    "        \n",
    "        printmd(\"#### FSM \" + str(fsm_no))\n",
    "        for t in ts:\n",
    "            source = \"s(\" + str(t) + \")\"\n",
    "            target = \"e(\" + str(t) + \")\"\n",
    "            fsm_graph.add_edge(source,target,weight=t)\n",
    "        \n",
    "       \n",
    "        t_df = adjacency_matrix_list[index].loc[list(ts), list(ts)] #transition df for this fsm\n",
    "        print_table(t_df)\n",
    "        \n",
    "        \n",
    "        # merge end(t1) = start(t2) from transition df\n",
    "        \n",
    "        edge_t_list = [] # edge transition list\n",
    "        for i in range(t_df.shape[0]):\n",
    "            for j in range(t_df.shape[1]):\n",
    "                \n",
    "                if t_df.iloc[i, j] != 'hole':\n",
    "                    if t_df.iloc[i, j] > 0:\n",
    "                        for node in fsm_graph.nodes():\n",
    "                            if \"e(\"+t_df.index[i]+\")\" in node:\n",
    "                                merge_node1 = node\n",
    "                            if \"s(\"+t_df.index[j]+\")\" in node:\n",
    "                                merge_node2 = node\n",
    "                        \n",
    "                        \n",
    "                        \n",
    "\n",
    "                        fsm_graph = nx.contracted_nodes(fsm_graph, merge_node1, merge_node2 , self_loops=True)\n",
    "\n",
    "                        if merge_node1 != merge_node2:\n",
    "                            mapping = {merge_node1: merge_node1 + \"|\" + merge_node2} \n",
    "                            fsm_graph = nx.relabel_nodes(fsm_graph, mapping)\n",
    "\n",
    "        # we need to complete the list of transitions \n",
    "        # that can happen on self-loop nodes \n",
    "        # as these have been overwritten (as graph is not MultiDiGraph)\n",
    "        \n",
    "        sl_state_list = list(nx.nodes_with_selfloops(fsm_graph)) # self looping states.\n",
    "        # if state is self-looping\n",
    "        t_list = []\n",
    "        if len(sl_state_list)>0: \n",
    "            # if s(T1) and e(T1) are there for same node, this T1 can self-loop occur.\n",
    "            for s in sl_state_list:\n",
    "                for sub_s in s.split('|'):\n",
    "                    if sub_s[0] == 'e':\n",
    "                        if ('s' + sub_s[1:]) in s.split('|'):\n",
    "                            t_list.append(sub_s[2:-1])\n",
    "                fsm_graph[s][s]['weight'] = '|'.join(t_list)\n",
    "        \n",
    "        \n",
    "\n",
    "               \n",
    "        plot_cytographs_fsm(fsm_graph,domain_name)\n",
    "        print(len(fsm_graph.nodes))\n",
    "        df = nx.to_pandas_adjacency(fsm_graph, nodelist=fsm_graph.nodes(), weight = 1)\n",
    "        print_table(df)\n",
    "        fsms_per_class.append(fsm_graph)\n",
    "    state_machines_overall_list.append(fsms_per_class)"
   ]
  },
  {
   "cell_type": "code",
   "execution_count": 204,
   "metadata": {},
   "outputs": [
    {
     "data": {
      "text/markdown": [
       "### zero"
      ],
      "text/plain": [
       "<IPython.core.display.Markdown object>"
      ]
     },
     "metadata": {},
     "output_type": "display_data"
    },
    {
     "name": "stdout",
     "output_type": "stream",
     "text": [
      "Number of FSMS:1\n"
     ]
    },
    {
     "data": {
      "application/vnd.jupyter.widget-view+json": {
       "model_id": "faa999a5291e437ea0d458a472f8a6c6",
       "version_major": 2,
       "version_minor": 0
      },
      "text/plain": [
       "CytoscapeWidget(cytoscape_layout={'name': 'cola'}, cytoscape_style=[{'width': 400, 'height': 500, 'selector': …"
      ]
     },
     "metadata": {},
     "output_type": "display_data"
    },
    {
     "data": {
      "application/vnd.jupyter.widget-view+json": {
       "model_id": "dc6db04e1e3641b5bc303010df131aaa",
       "version_major": 2,
       "version_minor": 0
      },
      "text/plain": [
       "CytoscapeWidget(cytoscape_layout={'name': 'cola'}, cytoscape_style=[{'width': 400, 'height': 500, 'selector': …"
      ]
     },
     "metadata": {},
     "output_type": "display_data"
    },
    {
     "data": {
      "text/markdown": [
       "Fsm 0"
      ],
      "text/plain": [
       "<IPython.core.display.Markdown object>"
      ]
     },
     "metadata": {},
     "output_type": "display_data"
    },
    {
     "data": {
      "text/markdown": [
       "### a"
      ],
      "text/plain": [
       "<IPython.core.display.Markdown object>"
      ]
     },
     "metadata": {},
     "output_type": "display_data"
    },
    {
     "name": "stdout",
     "output_type": "stream",
     "text": [
      "Number of FSMS:3\n"
     ]
    },
    {
     "data": {
      "application/vnd.jupyter.widget-view+json": {
       "model_id": "666c6065ea784e869e2346545f538cda",
       "version_major": 2,
       "version_minor": 0
      },
      "text/plain": [
       "CytoscapeWidget(cytoscape_layout={'name': 'cola'}, cytoscape_style=[{'width': 400, 'height': 500, 'selector': …"
      ]
     },
     "metadata": {},
     "output_type": "display_data"
    },
    {
     "data": {
      "application/vnd.jupyter.widget-view+json": {
       "model_id": "28fdcf1f22894f37b5ca19ccbc0bde0e",
       "version_major": 2,
       "version_minor": 0
      },
      "text/plain": [
       "CytoscapeWidget(cytoscape_layout={'name': 'cola'}, cytoscape_style=[{'width': 400, 'height': 500, 'selector': …"
      ]
     },
     "metadata": {},
     "output_type": "display_data"
    },
    {
     "data": {
      "text/markdown": [
       "Fsm 0"
      ],
      "text/plain": [
       "<IPython.core.display.Markdown object>"
      ]
     },
     "metadata": {},
     "output_type": "display_data"
    },
    {
     "data": {
      "application/vnd.jupyter.widget-view+json": {
       "model_id": "9c5ed89ce50b4a62801527a4a15e1f9f",
       "version_major": 2,
       "version_minor": 0
      },
      "text/plain": [
       "CytoscapeWidget(cytoscape_layout={'name': 'cola'}, cytoscape_style=[{'width': 400, 'height': 500, 'selector': …"
      ]
     },
     "metadata": {},
     "output_type": "display_data"
    },
    {
     "data": {
      "application/vnd.jupyter.widget-view+json": {
       "model_id": "8bf8206c9adb4d4a9ad800bbf9a98b57",
       "version_major": 2,
       "version_minor": 0
      },
      "text/plain": [
       "CytoscapeWidget(cytoscape_layout={'name': 'cola'}, cytoscape_style=[{'width': 400, 'height': 500, 'selector': …"
      ]
     },
     "metadata": {},
     "output_type": "display_data"
    },
    {
     "data": {
      "text/markdown": [
       "Fsm 1"
      ],
      "text/plain": [
       "<IPython.core.display.Markdown object>"
      ]
     },
     "metadata": {},
     "output_type": "display_data"
    },
    {
     "data": {
      "application/vnd.jupyter.widget-view+json": {
       "model_id": "45e5d64ce22748d4aa7f7244ded53557",
       "version_major": 2,
       "version_minor": 0
      },
      "text/plain": [
       "CytoscapeWidget(cytoscape_layout={'name': 'cola'}, cytoscape_style=[{'width': 400, 'height': 500, 'selector': …"
      ]
     },
     "metadata": {},
     "output_type": "display_data"
    },
    {
     "data": {
      "application/vnd.jupyter.widget-view+json": {
       "model_id": "5c86029258c84dd5b54fb10ac91ad019",
       "version_major": 2,
       "version_minor": 0
      },
      "text/plain": [
       "CytoscapeWidget(cytoscape_layout={'name': 'cola'}, cytoscape_style=[{'width': 400, 'height': 500, 'selector': …"
      ]
     },
     "metadata": {},
     "output_type": "display_data"
    },
    {
     "data": {
      "text/markdown": [
       "Fsm 2"
      ],
      "text/plain": [
       "<IPython.core.display.Markdown object>"
      ]
     },
     "metadata": {},
     "output_type": "display_data"
    }
   ],
   "source": [
    "\n",
    "state_mappings_class = []\n",
    "state_machines_overall_list_2 = []\n",
    "for index, fsm_graphs in enumerate(state_machines_overall_list):\n",
    "    state_mappings_fsm = []\n",
    "    fsms_per_class_2 = []\n",
    "    printmd(\"### \"+ class_names[index])\n",
    "    num_fsms = len(fsm_graphs)\n",
    "    print(\"Number of FSMS:\" + str(num_fsms))\n",
    "    \n",
    "    for fsm_no, G in enumerate(fsm_graphs):\n",
    "        \n",
    "        state_mapping = {k: v for v, k in enumerate(G.nodes())}\n",
    "        G_copy = nx.relabel_nodes(G, state_mapping)\n",
    "        \n",
    "        plot_cytographs_fsm(G, domain_name)\n",
    "        plot_cytographs_fsm(G_copy, domain_name)\n",
    "        printmd(\"Fsm \"+ str(fsm_no))\n",
    "        fsms_per_class_2.append(G_copy)\n",
    "        state_mappings_fsm.append(state_mapping)\n",
    "        \n",
    "    state_machines_overall_list_2.append(fsms_per_class_2)\n",
    "    state_mappings_class.append(state_mappings_fsm)"
   ]
  },
  {
   "cell_type": "code",
   "execution_count": 207,
   "metadata": {},
   "outputs": [
    {
     "data": {
      "text/markdown": [
       "### zero"
      ],
      "text/plain": [
       "<IPython.core.display.Markdown object>"
      ]
     },
     "metadata": {},
     "output_type": "display_data"
    },
    {
     "data": {
      "text/markdown": [
       "#### FSM: 0 Hypothesis Set"
      ],
      "text/plain": [
       "<IPython.core.display.Markdown object>"
      ]
     },
     "metadata": {},
     "output_type": "display_data"
    },
    {
     "name": "stdout",
     "output_type": "stream",
     "text": [
      "18 hypothesis created\n",
      "{(frozenset({'e(stack.-1)', 's(unstack.-1)'}), 'stack', -1, 0, 'unstack', -1, 0, 'zero', 'a'), (frozenset({'e(stack.-1)', 's(unstack.-1)'}), 'stack', -1, 1, 'unstack', -1, 1, 'zero', 'a'), (frozenset({'s(putdown.-1)', 'e(unstack.-1)'}), 'unstack', -1, 1, 'putdown', -1, 0, 'zero', 'a'), (frozenset({'s(putdown.-1)', 'e(pickup.-1)'}), 'pickup', -1, 0, 'putdown', -1, 0, 'zero', 'a'), (frozenset({'s(stack.-1)', 'e(unstack.-1)'}), 'unstack', -1, 0, 'stack', -1, 1, 'zero', 'a'), (frozenset({'s(unstack.-1)', 'e(putdown.-1)'}), 'putdown', -1, 0, 'unstack', -1, 0, 'zero', 'a'), (frozenset({'s(putdown.-1)', 'e(unstack.-1)'}), 'unstack', -1, 0, 'putdown', -1, 0, 'zero', 'a'), (frozenset({'s(stack.-1)', 'e(unstack.-1)'}), 'unstack', -1, 1, 'stack', -1, 0, 'zero', 'a'), (frozenset({'s(stack.-1)', 'e(pickup.-1)'}), 'pickup', -1, 0, 'stack', -1, 1, 'zero', 'a'), (frozenset({'e(stack.-1)', 's(unstack.-1)'}), 'stack', -1, 1, 'unstack', -1, 0, 'zero', 'a'), (frozenset({'e(stack.-1)', 's(pickup.-1)'}), 'stack', -1, 1, 'pickup', -1, 0, 'zero', 'a'), (frozenset({'e(stack.-1)', 's(pickup.-1)'}), 'stack', -1, 0, 'pickup', -1, 0, 'zero', 'a'), (frozenset({'s(unstack.-1)', 'e(putdown.-1)'}), 'putdown', -1, 0, 'unstack', -1, 1, 'zero', 'a'), (frozenset({'s(stack.-1)', 'e(pickup.-1)'}), 'pickup', -1, 0, 'stack', -1, 0, 'zero', 'a'), (frozenset({'s(stack.-1)', 'e(unstack.-1)'}), 'unstack', -1, 1, 'stack', -1, 1, 'zero', 'a'), (frozenset({'s(stack.-1)', 'e(unstack.-1)'}), 'unstack', -1, 0, 'stack', -1, 0, 'zero', 'a'), (frozenset({'s(pickup.-1)', 'e(putdown.-1)'}), 'putdown', -1, 0, 'pickup', -1, 0, 'zero', 'a'), (frozenset({'e(stack.-1)', 's(unstack.-1)'}), 'stack', -1, 0, 'unstack', -1, 1, 'zero', 'a')}\n"
     ]
    },
    {
     "data": {
      "text/markdown": [
       "### a"
      ],
      "text/plain": [
       "<IPython.core.display.Markdown object>"
      ]
     },
     "metadata": {},
     "output_type": "display_data"
    },
    {
     "data": {
      "text/markdown": [
       "#### FSM: 0 Hypothesis Set"
      ],
      "text/plain": [
       "<IPython.core.display.Markdown object>"
      ]
     },
     "metadata": {},
     "output_type": "display_data"
    },
    {
     "name": "stdout",
     "output_type": "stream",
     "text": [
      "0 hypothesis created\n",
      "set()\n"
     ]
    },
    {
     "data": {
      "text/markdown": [
       "#### FSM: 1 Hypothesis Set"
      ],
      "text/plain": [
       "<IPython.core.display.Markdown object>"
      ]
     },
     "metadata": {},
     "output_type": "display_data"
    },
    {
     "name": "stdout",
     "output_type": "stream",
     "text": [
      "0 hypothesis created\n",
      "set()\n"
     ]
    },
    {
     "data": {
      "text/markdown": [
       "#### FSM: 2 Hypothesis Set"
      ],
      "text/plain": [
       "<IPython.core.display.Markdown object>"
      ]
     },
     "metadata": {},
     "output_type": "display_data"
    },
    {
     "name": "stdout",
     "output_type": "stream",
     "text": [
      "6 hypothesis created\n",
      "{(frozenset({'e(unstack.0)', 's(stack.0)'}), 'unstack', 0, 1, 'stack', 0, 1, 'a', 'a'), (frozenset({'e(unstack.1)', 's(stack.1)'}), 'unstack', 1, 0, 'stack', 1, 0, 'a', 'a'), (frozenset({'e(unstack.1)', 's(unstack.0)'}), 'unstack', 1, 0, 'unstack', 0, 1, 'a', 'a'), (frozenset({'e(stack.0)', 's(unstack.0)'}), 'stack', 0, 1, 'unstack', 0, 1, 'a', 'a'), (frozenset({'s(stack.1)', 'e(stack.0)'}), 'stack', 0, 1, 'stack', 1, 0, 'a', 'a'), (frozenset({'e(stack.1)', 's(unstack.1)'}), 'stack', 1, 0, 'unstack', 1, 0, 'a', 'a')}\n"
     ]
    }
   ],
   "source": [
    "HS_list = []\n",
    "ct_list = []\n",
    "\n",
    "# for transition set of each class\n",
    "for index, ts_class in enumerate(transition_sets_per_class):\n",
    "    printmd(\"### \"+ class_names[index])\n",
    "    \n",
    "    ct_per_class = []\n",
    "    HS_per_class = []\n",
    "    \n",
    "    # for transition set of each fsm in a class\n",
    "    for fsm_no, ts in enumerate(ts_class):\n",
    "        printmd(\"#### FSM: \" + str(fsm_no) + \" Hypothesis Set\")\n",
    "        \n",
    "        # transition matrix for the ts\n",
    "        t_df = adjacency_matrix_list[index].loc[list(ts), list(ts)]\n",
    "        ct_in_fsm = set()  # find consecutive transition set for a state machine in a class.\n",
    "        for i in range(t_df.shape[0]):\n",
    "            for j in range(t_df.shape[1]):\n",
    "                if t_df.iloc[i, j] != 'hole':\n",
    "                    if t_df.iloc[i, j] > 0:\n",
    "                        ct_in_fsm.add((t_df.index[i], t_df.columns[j]))\n",
    "        \n",
    "        ct_per_class.append(ct_in_fsm)\n",
    "        \n",
    "        # add to hypothesis set\n",
    "        HS = set()\n",
    "        \n",
    "        # for each pair B.k and C.l in TS s.t. e(B.k) = S = s(C.l)\n",
    "        for ct in ct_in_fsm:\n",
    "            B = ct[0].split('.')[0] # action name of T1\n",
    "            k = int(ct[0].split('.')[1]) # argument index of T1\n",
    "            \n",
    "            C = ct[1].split('.')[0] # action name of T2\n",
    "            l = int(ct[1].split('.')[1]) # argument index of T2\n",
    "            \n",
    "            \n",
    "            \n",
    "            \n",
    "            # When both actions B and C contain another argument of the same sort G' in position k' and l' respectively, \n",
    "            # we hypothesise that there may be a relation between sorts G and G'.\n",
    "            for seq in seqs:\n",
    "                for actarg_tuple in seq:\n",
    "                    arglist1 = []\n",
    "                    arglist2 = []\n",
    "                    if actarg_tuple[0] == B: #if action name is same as B\n",
    "                        arglist1 = actarg_tuple[1].copy()\n",
    "#                         arglist1.remove(actarg_tuple[1][k]) # remove k from arglist\n",
    "                        for actarg_tuple_prime in seq: #loop through seq again.\n",
    "                            if actarg_tuple_prime[0] == C:\n",
    "                                arglist2 = actarg_tuple_prime[1].copy()\n",
    "#                                 arglist2.remove(actarg_tuple_prime[1][l]) # remove l from arglist\n",
    "                                \n",
    "\n",
    "                        # for arg lists of actions B and C, if class is same add a hypothesis set.\n",
    "                        for i in range(len(arglist1)): # if len is 0, we don't go in\n",
    "                            for j in range(len(arglist2)):\n",
    "                                class1 = get_class_index(arglist1[i], classes)\n",
    "                                class2 = get_class_index(arglist2[j], classes)\n",
    "                                if class1 == class2: # if object at same position have same classes\n",
    "                                    # add hypothesis to hypothesis set.\n",
    "                                    if (k!=i) and (l!=j):\n",
    "                                        HS.add((frozenset({\"e(\"+B+\".\"+ str(k)+\")\", \"s(\"+C+\".\"+str(l)+\")\"}),B,k,i,C,l,j,class_names[index],class_names[class1]))\n",
    "        print(str(len(HS))+ \" hypothesis created\")\n",
    "#         for h in HS:\n",
    "#             print(h)\n",
    "        print(HS)\n",
    "        HS_per_class.append(HS)\n",
    "    HS_list.append(HS_per_class)\n",
    "    ct_list.append(ct_per_class)"
   ]
  },
  {
   "cell_type": "code",
   "execution_count": 209,
   "metadata": {},
   "outputs": [
    {
     "data": {
      "text/markdown": [
       "### zero"
      ],
      "text/plain": [
       "<IPython.core.display.Markdown object>"
      ]
     },
     "metadata": {},
     "output_type": "display_data"
    },
    {
     "data": {
      "text/markdown": [
       "#### FSM: 0 Hypothesis Set"
      ],
      "text/plain": [
       "<IPython.core.display.Markdown object>"
      ]
     },
     "metadata": {},
     "output_type": "display_data"
    },
    {
     "name": "stdout",
     "output_type": "stream",
     "text": [
      "18 hypothesis retained\n"
     ]
    },
    {
     "data": {
      "text/markdown": [
       "### a"
      ],
      "text/plain": [
       "<IPython.core.display.Markdown object>"
      ]
     },
     "metadata": {},
     "output_type": "display_data"
    },
    {
     "data": {
      "text/markdown": [
       "#### FSM: 0 Hypothesis Set"
      ],
      "text/plain": [
       "<IPython.core.display.Markdown object>"
      ]
     },
     "metadata": {},
     "output_type": "display_data"
    },
    {
     "name": "stdout",
     "output_type": "stream",
     "text": [
      "0 hypothesis retained\n"
     ]
    },
    {
     "data": {
      "text/markdown": [
       "#### FSM: 1 Hypothesis Set"
      ],
      "text/plain": [
       "<IPython.core.display.Markdown object>"
      ]
     },
     "metadata": {},
     "output_type": "display_data"
    },
    {
     "name": "stdout",
     "output_type": "stream",
     "text": [
      "0 hypothesis retained\n"
     ]
    },
    {
     "data": {
      "text/markdown": [
       "#### FSM: 2 Hypothesis Set"
      ],
      "text/plain": [
       "<IPython.core.display.Markdown object>"
      ]
     },
     "metadata": {},
     "output_type": "display_data"
    },
    {
     "name": "stdout",
     "output_type": "stream",
     "text": [
      "2 hypothesis retained\n"
     ]
    }
   ],
   "source": [
    "HS_list_retained = []\n",
    "for index, HS_class in enumerate(HS_list):\n",
    "    printmd(\"### \"+ class_names[index])\n",
    "    HS_per_class_retained = []\n",
    "\n",
    "\n",
    "    for fsm_no, HS in enumerate(HS_class):\n",
    "        printmd(\"#### FSM: \" + str(fsm_no) + \" Hypothesis Set\")\n",
    "\n",
    "        count=0\n",
    "        HS_copy = HS.copy()\n",
    "        HS_copy2 = HS.copy()\n",
    "\n",
    "        \n",
    "        # for each object O occuring in Ou\n",
    "        for O in arguments:\n",
    "            #   for each pair of transitions Ap.m and Aq.n consecutive for O in seq\n",
    "            ct = []\n",
    "            for seq in seqs:\n",
    "                for actarg_tuple in seq:\n",
    "                    act = actarg_tuple[0]\n",
    "                    for j, arg in enumerate(actarg_tuple[1]):\n",
    "                        if arg == O:\n",
    "                            ct.append((act + '.' + str(j), actarg_tuple[1]))\n",
    "\n",
    "\n",
    "            for i in range(len(ct)-1):\n",
    "                A_p = ct[i][0].split('.')[0]\n",
    "                m = int(ct[i][0].split('.')[1])\n",
    "                A_q = ct[i+1][0].split('.')[0]\n",
    "                n = int(ct[i+1][0].split('.')[1]) \n",
    "\n",
    "                # for each hypothesis H s.t. A_p = B, m = k, A_q = C, n = l\n",
    "\n",
    "                for H in HS_copy2:\n",
    "                    if A_p == H[1] and m == H[2] and A_q == H[4] and n == H[5]:\n",
    "                        k_prime = H[3]\n",
    "                        l_prime = H[6]\n",
    "\n",
    "                        # if O_p,k_prime = Q_q,l_prime\n",
    "                        if ct[i][1][k_prime] != ct[i+1][1][l_prime]:\n",
    "                            if H in HS_copy:\n",
    "                                HS_copy.remove(H)\n",
    "                                count += 1\n",
    "\n",
    "        print(str(len(HS_copy))+ \" hypothesis retained\")\n",
    "        # state machine\n",
    "#         if len(HS_copy)>0:\n",
    "#             plot_cytographs_fsm(state_machines_overall_list[index][fsm_no],domain_name)\n",
    "#         for H in HS_copy:\n",
    "#             print(H)\n",
    "        HS_per_class_retained.append(HS_copy)\n",
    "    HS_list_retained.append(HS_per_class_retained)"
   ]
  },
  {
   "cell_type": "code",
   "execution_count": 210,
   "metadata": {},
   "outputs": [
    {
     "name": "stdout",
     "output_type": "stream",
     "text": [
      "Step 6: creating and merging state params\n",
      "[['v0', 'v2', 'v6', 'v11', 'v12', 'v13', 'v14', 'v16', 'v17'], ['v1', 'v3', 'v4', 'v5', 'v7', 'v8', 'v9', 'v10', 'v15']]\n",
      "zero\n"
     ]
    },
    {
     "data": {
      "text/markdown": [
       "No. of params earlier:18"
      ],
      "text/plain": [
       "<IPython.core.display.Markdown object>"
      ]
     },
     "metadata": {},
     "output_type": "display_data"
    },
    {
     "data": {
      "text/markdown": [
       "No. of params after merging:2"
      ],
      "text/plain": [
       "<IPython.core.display.Markdown object>"
      ]
     },
     "metadata": {},
     "output_type": "display_data"
    },
    {
     "name": "stdout",
     "output_type": "stream",
     "text": [
      "[]\n",
      "a\n"
     ]
    },
    {
     "data": {
      "text/markdown": [
       "No. of params earlier:0"
      ],
      "text/plain": [
       "<IPython.core.display.Markdown object>"
      ]
     },
     "metadata": {},
     "output_type": "display_data"
    },
    {
     "data": {
      "text/markdown": [
       "No. of params after merging:0"
      ],
      "text/plain": [
       "<IPython.core.display.Markdown object>"
      ]
     },
     "metadata": {},
     "output_type": "display_data"
    },
    {
     "name": "stdout",
     "output_type": "stream",
     "text": [
      "[]\n",
      "a\n"
     ]
    },
    {
     "data": {
      "text/markdown": [
       "No. of params earlier:0"
      ],
      "text/plain": [
       "<IPython.core.display.Markdown object>"
      ]
     },
     "metadata": {},
     "output_type": "display_data"
    },
    {
     "data": {
      "text/markdown": [
       "No. of params after merging:0"
      ],
      "text/plain": [
       "<IPython.core.display.Markdown object>"
      ]
     },
     "metadata": {},
     "output_type": "display_data"
    },
    {
     "name": "stdout",
     "output_type": "stream",
     "text": [
      "[]\n",
      "a\n"
     ]
    },
    {
     "data": {
      "text/markdown": [
       "No. of params earlier:2"
      ],
      "text/plain": [
       "<IPython.core.display.Markdown object>"
      ]
     },
     "metadata": {},
     "output_type": "display_data"
    },
    {
     "data": {
      "text/markdown": [
       "No. of params after merging:2"
      ],
      "text/plain": [
       "<IPython.core.display.Markdown object>"
      ]
     },
     "metadata": {},
     "output_type": "display_data"
    }
   ],
   "source": [
    "# Each hypothesis refers to an incoming and outgoing transition \n",
    "# through a particular state of an FSM\n",
    "# and matching associated transitions can be considered\n",
    "# to set and read parameters of a state.\n",
    "# Since there maybe multiple transitions through a give state,\n",
    "# it is possible for the same parameter to have multiple\n",
    "# pairwise occurences.\n",
    "\n",
    "print(\"Step 6: creating and merging state params\")\n",
    "param_bindings_list_overall = []\n",
    "for classindex, HS_per_class in enumerate(HS_list_retained):\n",
    "    param_bind_per_class = []\n",
    "    \n",
    "    \n",
    "    for fsm_no, HS_per_fsm in enumerate(HS_per_class):\n",
    "        param_binding_list = []\n",
    "        \n",
    "        # fsm in consideration\n",
    "        G = state_machines_overall_list[classindex][fsm_no]\n",
    "        state_list = G.nodes()\n",
    "        \n",
    "        # creation\n",
    "        for index,h in enumerate(HS_per_fsm):\n",
    "            param_binding_list.append((h,\"v\"+str(index)))\n",
    "        \n",
    "        merge_pl = [] # parameter to merge list\n",
    "        if len(param_binding_list)>1:\n",
    "            # merging\n",
    "            pairs = findsubsets(param_binding_list, 2)\n",
    "            for pair in pairs:\n",
    "                h_1 = pair[0][0]\n",
    "                h_2 = pair[1][0]\n",
    "                \n",
    "                \n",
    "                # equate states\n",
    "                state_eq_flag = False\n",
    "                for s_index, state in enumerate(state_list):\n",
    "                    # if both hyp states appear in single state in fsm\n",
    "                    if list(h_1[0])[0] in state:\n",
    "                        if list(h_1[0])[0] in state:\n",
    "                            state_eq_flag =True\n",
    "                            \n",
    "                \n",
    "                if ((state_eq_flag and h_1[1] == h_2[1] and h_1[2] == h_2[2] and h_1[3] == h_2[3]) or (state_eq_flag and h_1[4] == h_2[4] and h_1[5] == h_2[5] and h_1[6] == h_2[6])):\n",
    "                    merge_pl.append(list([pair[0][1], pair[1][1]]))\n",
    "          \n",
    "        \n",
    "       \n",
    "        #inner lists to sets (to list of sets)\n",
    "        l=[set(x) for x in merge_pl]\n",
    "\n",
    "        #cartesian product merging elements if some element in common\n",
    "        for a,b in itertools.product(l,l):\n",
    "            if a.intersection( b ):\n",
    "                a.update(b)\n",
    "                b.update(a)\n",
    "\n",
    "        #back to list of lists\n",
    "        l = sorted( [sorted(list(x)) for x in l])\n",
    "\n",
    "        #remove dups\n",
    "        merge_pl = list(l for l,_ in itertools.groupby(l))\n",
    "        \n",
    "        # sort\n",
    "        for pos, l in enumerate(merge_pl):\n",
    "            merge_pl[pos] = sorted(l, key = lambda x: int(x[1:]))\n",
    "        \n",
    "        print(merge_pl) # equal params appear in a list in this list.\n",
    "          \n",
    "            \n",
    "        for z,pb in enumerate(param_binding_list):\n",
    "            for l in merge_pl:\n",
    "                if pb[1] in l:\n",
    "                    # update pb\n",
    "                    param_binding_list[z] = (param_binding_list[z][0], l[0])\n",
    "        \n",
    "\n",
    "                \n",
    "        \n",
    "        param_bind_per_class.append(param_binding_list)\n",
    "        print(class_names[classindex])\n",
    "        \n",
    "        # set of params per class\n",
    "        param = set()\n",
    "        for pb in param_binding_list:\n",
    "#             print(pb)\n",
    "            param.add(pb[1])\n",
    "            \n",
    "        # num of params per class\n",
    "        printmd(\"No. of params earlier:\" + str(len(param_binding_list)))\n",
    "        printmd(\"No. of params after merging:\" + str(len(param)))\n",
    "            \n",
    "        \n",
    "        \n",
    "        \n",
    "        \n",
    "    param_bindings_list_overall.append(param_bind_per_class)"
   ]
  },
  {
   "cell_type": "code",
   "execution_count": 211,
   "metadata": {},
   "outputs": [
    {
     "name": "stdout",
     "output_type": "stream",
     "text": [
      "zero\n",
      "18/18 param retained\n",
      "((frozenset({'s(stack.-1)', 'e(unstack.-1)'}), 'unstack', -1, 0, 'stack', -1, 1, 'zero', 'a'), 'v0')\n",
      "((frozenset({'s(unstack.-1)', 'e(putdown.-1)'}), 'putdown', -1, 0, 'unstack', -1, 0, 'zero', 'a'), 'v1')\n",
      "((frozenset({'s(stack.-1)', 'e(pickup.-1)'}), 'pickup', -1, 0, 'stack', -1, 1, 'zero', 'a'), 'v0')\n",
      "((frozenset({'e(stack.-1)', 's(unstack.-1)'}), 'stack', -1, 1, 'unstack', -1, 0, 'zero', 'a'), 'v1')\n",
      "((frozenset({'e(stack.-1)', 's(pickup.-1)'}), 'stack', -1, 1, 'pickup', -1, 0, 'zero', 'a'), 'v1')\n",
      "((frozenset({'s(unstack.-1)', 'e(putdown.-1)'}), 'putdown', -1, 0, 'unstack', -1, 1, 'zero', 'a'), 'v1')\n",
      "((frozenset({'s(stack.-1)', 'e(pickup.-1)'}), 'pickup', -1, 0, 'stack', -1, 0, 'zero', 'a'), 'v0')\n",
      "((frozenset({'e(stack.-1)', 's(unstack.-1)'}), 'stack', -1, 0, 'unstack', -1, 0, 'zero', 'a'), 'v1')\n",
      "((frozenset({'s(pickup.-1)', 'e(putdown.-1)'}), 'putdown', -1, 0, 'pickup', -1, 0, 'zero', 'a'), 'v1')\n",
      "((frozenset({'e(stack.-1)', 's(unstack.-1)'}), 'stack', -1, 0, 'unstack', -1, 1, 'zero', 'a'), 'v1')\n",
      "((frozenset({'e(stack.-1)', 's(unstack.-1)'}), 'stack', -1, 1, 'unstack', -1, 1, 'zero', 'a'), 'v1')\n",
      "((frozenset({'s(putdown.-1)', 'e(unstack.-1)'}), 'unstack', -1, 1, 'putdown', -1, 0, 'zero', 'a'), 'v0')\n",
      "((frozenset({'s(putdown.-1)', 'e(pickup.-1)'}), 'pickup', -1, 0, 'putdown', -1, 0, 'zero', 'a'), 'v0')\n",
      "((frozenset({'s(putdown.-1)', 'e(unstack.-1)'}), 'unstack', -1, 0, 'putdown', -1, 0, 'zero', 'a'), 'v0')\n",
      "((frozenset({'s(stack.-1)', 'e(unstack.-1)'}), 'unstack', -1, 1, 'stack', -1, 0, 'zero', 'a'), 'v0')\n",
      "((frozenset({'e(stack.-1)', 's(pickup.-1)'}), 'stack', -1, 0, 'pickup', -1, 0, 'zero', 'a'), 'v1')\n",
      "((frozenset({'s(stack.-1)', 'e(unstack.-1)'}), 'unstack', -1, 1, 'stack', -1, 1, 'zero', 'a'), 'v0')\n",
      "((frozenset({'s(stack.-1)', 'e(unstack.-1)'}), 'unstack', -1, 0, 'stack', -1, 0, 'zero', 'a'), 'v0')\n",
      "a\n",
      "0/0 param retained\n",
      "0/0 param retained\n",
      "0/2 param retained\n"
     ]
    }
   ],
   "source": [
    "# Removing State Params.\n",
    "# Flaw occurs Object can reach state S with param P having an inderminate value.\n",
    "# There is transition s.t. end(B.k) = S. \n",
    "# but there is no h = <S,B,k,k',C,l,l',G,G') and <h,P> is in bindings.\n",
    "\n",
    "para_bind_overall_fault_removed  = []\n",
    "for classindex, fsm_per_class in enumerate(state_machines_overall_list):\n",
    "    print(class_names[classindex])\n",
    "    pb_per_class_fault_removed = []\n",
    "\n",
    "    for fsm_no, G in enumerate(fsm_per_class):\n",
    "        \n",
    "        pb_per_fsm_fault_removed = []\n",
    "        # G is fsm in consideration\n",
    "        faulty_pb = []\n",
    "        for state in G.nodes():\n",
    "            inedges = G.in_edges(state, data=True)\n",
    "            \n",
    "            for ie in inedges:\n",
    "                tr = ie[2]['weight']\n",
    "                t_list = tr.split('|')\n",
    "                for t in t_list:\n",
    "                    B = t.split('.')[0]\n",
    "                    k = t.split('.')[1]\n",
    "                    S = 'e(' + t + ')'\n",
    "                    flaw = True\n",
    "                    for pb in param_bindings_list_overall[classindex][fsm_no]:\n",
    "                        H = pb[0]\n",
    "                        v = pb[1]\n",
    "                        if (S in set(H[0])) and (B==H[1]) and (int(k)==H[2]) :\n",
    "                            # this pb is okay\n",
    "                            flaw=False\n",
    "#                     print(flaw)\n",
    "                    if flaw:\n",
    "                        for pb in param_bindings_list_overall[classindex][fsm_no]:\n",
    "                            H = pb[0]\n",
    "                            H_states = list(H[0])\n",
    "                            for h_state in H_states:\n",
    "                                if h_state in state:\n",
    "                                    if pb not in faulty_pb:\n",
    "                                        faulty_pb.append(pb) # no duplicates\n",
    "        \n",
    "        for pb in param_bindings_list_overall[classindex][fsm_no]:\n",
    "            if pb not in faulty_pb:\n",
    "                pb_per_fsm_fault_removed.append(pb)\n",
    "        \n",
    "                                \n",
    "                        \n",
    "                        \n",
    "        print(str(len(pb_per_fsm_fault_removed)) + \"/\" + str(len(param_bindings_list_overall[classindex][fsm_no])) + \" param retained\")\n",
    "        for pb in pb_per_fsm_fault_removed:\n",
    "            print(pb)\n",
    "\n",
    "                \n",
    "        \n",
    "        pb_per_class_fault_removed.append(pb_per_fsm_fault_removed)\n",
    "    para_bind_overall_fault_removed.append(pb_per_class_fault_removed)"
   ]
  },
  {
   "cell_type": "code",
   "execution_count": 213,
   "metadata": {},
   "outputs": [
    {
     "name": "stdout",
     "output_type": "stream",
     "text": [
      ";;********************Learned PDDL domain******************\n",
      "(define  (domain testDomain)\n",
      "  (:requirements :typing)\n",
      "  (:types zero a)\n",
      "  (:predicates\n",
      "    (zero_fsm0_state0 ?v1 - a)\n",
      "    (zero_fsm0_state1 ?v0 - a)\n",
      "    (a_fsm0_state0)\n",
      "    (a_fsm0_state1)\n",
      "    (a_fsm0_state2)\n",
      "    (a_fsm1_state0)\n",
      "    (a_fsm1_state1)\n",
      "    (a_fsm1_state2)\n",
      "    (a_fsm2_state0)\n",
      "    (a_fsm2_state1)\n",
      "    (a_fsm2_state2)\n",
      "  )\n",
      "  (:action  unstack   :parameters  (?a - a ?b - a )\n",
      "   :precondition   (and\n",
      "        (a_fsm0_state0)\n",
      "        (a_fsm2_state0)\n",
      "        (a_fsm2_state2)\n",
      "   )\n",
      "   :effect   (and\n",
      "        (a_fsm0_state1)\n",
      "        (a_fsm2_state2)\n",
      "        (a_fsm2_state1)\n",
      "  ))\n",
      "\n",
      "  (:action  putdown   :parameters  (?a - a )\n",
      "   :precondition   (and\n",
      "        (a_fsm0_state1)\n",
      "        (a_fsm1_state0)\n",
      "        (a_fsm2_state1)\n",
      "   )\n",
      "   :effect   (and\n",
      "        (a_fsm0_state2)\n",
      "        (a_fsm1_state2)\n",
      "        (a_fsm2_state2)\n",
      "  ))\n",
      "\n",
      "  (:action  stack   :parameters  (?b - a ?c - a )\n",
      "   :precondition   (and\n",
      "        (a_fsm1_state0)\n",
      "        (a_fsm2_state2)\n",
      "   )\n",
      "   :effect   (and\n",
      "        (a_fsm1_state1)\n",
      "        (a_fsm2_state0)\n",
      "  ))\n",
      "\n",
      "  (:action  pickup   :parameters  (?b - a )\n",
      "   :precondition   (and\n",
      "        (a_fsm0_state2)\n",
      "        (a_fsm1_state2)\n",
      "   )\n",
      "   :effect   (and\n",
      "        (a_fsm0_state1)\n",
      "        (a_fsm1_state0)\n",
      "  ))\n",
      "\n",
      ")\n",
      "\n"
     ]
    }
   ],
   "source": [
    "# get action schema\n",
    "print(\";;********************Learned PDDL domain******************\")\n",
    "output_file = \"output/\"+ domain_name + \"/\" +  domain_name + \".pddl\"\n",
    "write_file = open(output_file, 'w')\n",
    "write_line = \"(define\"\n",
    "write_line += \"  (domain \"+ domain_name+\")\\n\"\n",
    "write_line += \"  (:requirements :typing)\\n\"\n",
    "write_line += \"  (:types\"\n",
    "for class_name in class_names:\n",
    "    write_line += \" \" + class_name\n",
    "write_line += \")\\n\"\n",
    "write_line += \"  (:predicates\\n\"\n",
    "\n",
    "# one predicate to represent each object state\n",
    "\n",
    "predicates = []\n",
    "for class_index, pb_per_class in enumerate(para_bind_overall_fault_removed):\n",
    "    for fsm_no, pbs_per_fsm in enumerate(pb_per_class):\n",
    "        state_mapping = state_mappings_class[class_index][fsm_no]\n",
    "        \n",
    "        for state_index, state in enumerate(state_machines_overall_list[class_index][fsm_no].nodes()):\n",
    "            \n",
    "            state_set = set(state.split('|'))\n",
    "            predicate = \"\"\n",
    "       \n",
    "            write_line += \"    (\" + class_names[class_index] + \"_fsm\" + str(fsm_no) + \"_state\" +  str(state_mapping[state])\n",
    "            predicate += \"    (\" + class_names[class_index] + \"_fsm\" + str(fsm_no) + \"_state\" + str(state_mapping[state])\n",
    "            for pb in pbs_per_fsm:\n",
    "                    if set(pb[0][0]) <= state_set:\n",
    "                        if \" ?\"+pb[1] + \" - \" + str(pb[0][8]) not in predicate:\n",
    "                            write_line += \" ?\"+pb[1] + \" - \" + str(pb[0][8])\n",
    "                            predicate += \" ?\"+pb[1] + \" - \" + str(pb[0][8])\n",
    "    \n",
    "            write_line += \")\\n\"\n",
    "            predicate += \")\"\n",
    "            predicates.append(predicate)\n",
    "write_line += \"  )\\n\"\n",
    "            \n",
    "for action_index, action in enumerate(actions):\n",
    "    write_line += \"  (:action\"\n",
    "    write_line += \"  \" + action + \" \"\n",
    "    write_line += \"  :parameters\"\n",
    "    write_line += \"  (\"\n",
    "    arg_already_written_flag = False\n",
    "    params_per_action = []\n",
    "    args_per_action = []\n",
    "    for seq in seqs:\n",
    "        for actarg_tuple in seq:\n",
    "            if not arg_already_written_flag:\n",
    "                if actarg_tuple[0] == action:\n",
    "                    arglist = []\n",
    "                    for arg in actarg_tuple[1]:\n",
    "                        write_line += \"?\"+arg + \" - \" + class_names[get_class_index(arg,classes)] + \" \"\n",
    "                        arglist.append(arg)\n",
    "                    args_per_action.append(arglist)\n",
    "                    params_per_action.append(actarg_tuple[1])\n",
    "                    arg_already_written_flag = True\n",
    "    write_line += \")\\n\"\n",
    "\n",
    "\n",
    "    # need to use FSMS to get preconditions and effects.\n",
    "    # Start-state = precondition. End state= Effect\n",
    "    preconditions = []\n",
    "    effects = []\n",
    "    for arglist in params_per_action:\n",
    "        for arg in arglist:\n",
    "            current_class_index = get_class_index(arg, classes)\n",
    "            for fsm_no, G in enumerate(state_machines_overall_list[current_class_index]):\n",
    "                G_int = state_machines_overall_list_2[current_class_index][fsm_no]\n",
    "                state_mapping = state_mappings_class[current_class_index][fsm_no]\n",
    "                for start, end, weight in G_int.edges(data='weight'):\n",
    "                    _actions = weight.split('|')\n",
    "                    for _action in _actions:\n",
    "                        if _action.split('.')[0] == action:\n",
    "                            for predicate in predicates:\n",
    "                                pred = predicate.split()[0].lstrip(\"(\")\n",
    "                                clss = pred.split('_')[0]\n",
    "                                fsm = pred.split('_')[1]\n",
    "                                state_ind = pred.split('_')[2].rstrip(\")\")[-1]\n",
    "\n",
    "                                if clss == class_names[current_class_index]:\n",
    "                                    if fsm == \"fsm\" + str(fsm_no):\n",
    "                                        if int(state_ind) == int(start):\n",
    "                                            if predicate not in preconditions:\n",
    "                                                preconditions.append(predicate)\n",
    "                                                \n",
    "                                        if int(state_ind) == int(end):\n",
    "                                            if predicate not in effects:\n",
    "                                                effects.append(predicate)\n",
    "                            break\n",
    "                            \n",
    "\n",
    "                \n",
    "\n",
    "    write_line += \"   :precondition\"\n",
    "    write_line += \"   (and\\n\"\n",
    "    for precondition in preconditions:\n",
    "        write_line += \"    \"+precondition+\"\\n\"\n",
    "    write_line += \"   )\\n\"\n",
    "    write_line += \"   :effect\"\n",
    "    write_line += \"   (and\\n\"\n",
    "    for effect in effects:\n",
    "        write_line += \"    \" + effect + \"\\n\"\n",
    "    write_line += \"  )\"\n",
    "\n",
    "    write_line += \")\\n\\n\"\n",
    "\n",
    "write_line += \")\\n\" #domain ending bracket\n",
    "\n",
    "\n",
    "print(write_line)\n",
    "\n",
    "write_file.write(write_line)\n",
    "write_file.close()"
   ]
  },
  {
   "cell_type": "code",
   "execution_count": null,
   "metadata": {},
   "outputs": [],
   "source": []
  }
 ],
 "metadata": {
  "kernelspec": {
   "display_name": "base",
   "language": "python",
   "name": "python3"
  },
  "language_info": {
   "codemirror_mode": {
    "name": "ipython",
    "version": 3
   },
   "file_extension": ".py",
   "mimetype": "text/x-python",
   "name": "python",
   "nbconvert_exporter": "python",
   "pygments_lexer": "ipython3",
   "version": "3.12.2"
  }
 },
 "nbformat": 4,
 "nbformat_minor": 2
}
