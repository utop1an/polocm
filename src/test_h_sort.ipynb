{
 "cells": [
  {
   "cell_type": "code",
   "execution_count": 27,
   "metadata": {},
   "outputs": [
    {
     "name": "stdout",
     "output_type": "stream",
     "text": [
      "The autoreload extension is already loaded. To reload it, use:\n",
      "  %reload_ext autoreload\n"
     ]
    }
   ],
   "source": [
    "%load_ext autoreload\n",
    "%autoreload 2"
   ]
  },
  {
   "cell_type": "code",
   "execution_count": 28,
   "metadata": {},
   "outputs": [],
   "source": [
    "from extract.locm2 import LOCM2\n",
    "from extract.polocm import POLOCM\n",
    "from traces import *\n",
    "from observation import  ObservedTraceList, ActionObservation\n",
    "from typing import defaultdict"
   ]
  },
  {
   "cell_type": "code",
   "execution_count": 29,
   "metadata": {},
   "outputs": [
    {
     "name": "stdout",
     "output_type": "stream",
     "text": [
      "1 ['boar', 'cattle']\n",
      "2 ['act_wood', 'clay', 'act_clay', 'act_stone', 'worker2', 'worker4', 'round3', 'wood', 'reed', 'worker3', 'round2', 'worker1', 'round4', 'act_reed', 'stone', 'noworker', 'round1', 'worker5']\n",
      "3 ['act_sow', 'act_fences', 'act_family', 'act_sheep']\n",
      "4 ['num0']\n",
      "5 ['num1']\n",
      "6 ['grain', 'carrot']\n",
      "7 ['stage1']\n",
      "\n",
      "1 ['round1', 'round2', 'round3', 'round4']\n",
      "2 ['noworker', 'worker2', 'worker3', 'worker4', 'worker5', 'worker1']\n",
      "3 ['num1']\n",
      "4 ['reed', 'clay', 'wood', 'stone']\n",
      "5 ['grain', 'carrot']\n",
      "6 ['num0']\n",
      "7 ['act_wood', 'act_clay', 'act_reed', 'act_stone']\n",
      "8 ['stage1']\n",
      "9 ['act_sow', 'act_fences', 'act_family', 'act_sheep']\n",
      "10 ['boar', 'cattle']\n",
      "0 ['zero']\n"
     ]
    }
   ],
   "source": [
    "raw_traces = [\n",
    "    '(build_fences cattle worker2 worker1 worker2 round1),(collect_resource worker1 noworker worker2 round1 act_clay clay),(ag__finish_round_backhome round1 worker2),(ag__finish_round_renew round1 worker4),(ag__advance_round_normal round1 round2 act_sow),(collect_resource worker2 worker1 worker2 round2 act_reed reed),(take_food worker1 noworker worker2 round2 num0 num1),(ag__finish_round_backhome round2 worker2),(ag__finish_round_renew round2 worker5),(ag__advance_round_normal round2 round3 act_family),(build_fences boar worker2 worker1 worker2 round3),(take_grain worker1 noworker worker2 round3 carrot),(ag__finish_round_backhome round3 worker2),(ag__finish_round_renew round3 worker1),(ag__advance_round_normal round3 round4 act_sheep),(take_grain worker2 worker1 worker2 round4 carrot),(collect_resource worker1 noworker worker2 round4 act_reed reed),(ag__finish_round_backhome round4 worker2),(ag__finish_round_renew round4 worker4),(ag__harvest_collect_end round4 stage1)',\n",
    "    '(collect_resource worker2 worker1 worker2 round1 act_wood wood),(take_grain worker1 noworker worker2 round1 grain),(ag__finish_round_backhome round1 worker2),(ag__finish_round_renew round1 worker4),(ag__advance_round_normal round1 round2 act_family),(take_food worker2 worker1 worker2 round2 num0 num1),(plow_field worker1 noworker worker2 round2),(ag__finish_round_backhome round2 worker2),(ag__finish_round_renew round2 worker2),(ag__advance_round_normal round2 round3 act_fences),(take_grain worker2 worker1 worker2 round3 grain),(collect_resource worker1 noworker worker2 round3 act_stone stone),(ag__finish_round_backhome round3 worker2),(ag__finish_round_renew round3 worker3),(ag__advance_round_normal round3 round4 act_sheep),(collect_resource worker2 worker1 worker2 round4 act_reed reed),(collect_resource worker1 noworker worker2 round4 act_wood wood),(ag__finish_round_backhome round4 worker2),(ag__finish_round_renew round4 worker2),(ag__harvest_collect_end round4 stage1)'\n",
    "]\n",
    "traces = []\n",
    "for raw_trace in raw_traces:\n",
    "    steps = []\n",
    "    for i, raw_step in enumerate(raw_trace.split(',')):\n",
    "        action = raw_step.strip('()').split(' ')\n",
    "        action_name = action[0]\n",
    "        obj_names = action[1:]\n",
    "        objs = [PlanningObject('na', obj) for obj in obj_names]\n",
    "        action = Action(action_name, objs)\n",
    "        step = Step({}, action, i)\n",
    "        steps.append(step)\n",
    "    trace = Trace(steps)\n",
    "    traces.append(trace)\n",
    "\n",
    "tracelist = TraceList(traces)\n",
    "obs_tracelist = tracelist.tokenize(ActionObservation, ObservedTraceList)\n",
    "\n",
    "sorts = LOCM2._get_sorts(obs_tracelist)\n",
    "merge_sorts = defaultdict(list)\n",
    "for obj, sort in sorts.items():\n",
    "    merge_sorts[sort].append(obj)\n",
    "for sort, objs in merge_sorts.items():\n",
    "    print(sort, objs)\n",
    "\n",
    "print()\n",
    "sorts = POLOCM._get_sorts(obs_tracelist)\n",
    "merge_sorts = defaultdict(list)\n",
    "for obj, sort in sorts.items():\n",
    "    merge_sorts[sort].append(obj)\n",
    "for sort, objs in merge_sorts.items():\n",
    "    print(sort, objs)\n"
   ]
  },
  {
   "cell_type": "code",
   "execution_count": 30,
   "metadata": {},
   "outputs": [
    {
     "name": "stdout",
     "output_type": "stream",
     "text": [
      "defaultdict(<class 'set'>, {('build_fences', 1): {10}, ('build_fences', 2): {2}, ('build_fences', 3): {2}, ('build_fences', 4): {2}, ('build_fences', 5): {1}, ('collect_resource', 1): {2}, ('collect_resource', 2): {2}, ('collect_resource', 3): {2}, ('collect_resource', 4): {1}, ('collect_resource', 5): {7}, ('collect_resource', 6): {4}, ('ag__finish_round_backhome', 1): {1}, ('ag__finish_round_backhome', 2): {2}, ('ag__finish_round_renew', 1): {1}, ('ag__finish_round_renew', 2): {2}, ('ag__advance_round_normal', 1): {1}, ('ag__advance_round_normal', 2): {1}, ('ag__advance_round_normal', 3): {9}, ('take_food', 1): {2}, ('take_food', 2): {2}, ('take_food', 3): {2}, ('take_food', 4): {1}, ('take_food', 5): {6}, ('take_food', 6): {3}, ('take_grain', 1): {2}, ('take_grain', 2): {2}, ('take_grain', 3): {2}, ('take_grain', 4): {1}, ('take_grain', 5): {5}, ('ag__harvest_collect_end', 1): {1}, ('ag__harvest_collect_end', 2): {8}, ('plow_field', 1): {2}, ('plow_field', 2): {2}, ('plow_field', 3): {2}, ('plow_field', 4): {1}})\n"
     ]
    }
   ],
   "source": [
    "def get_h_sorts(sorts, obs_tracelist):\n",
    "    ap_sorts = defaultdict(set)\n",
    "    for trace in obs_tracelist:\n",
    "        for obs in trace:\n",
    "            action = obs.action\n",
    "            for i, obj in enumerate(action.obj_params):\n",
    "                sort = sorts[obj.name]\n",
    "                ap_sorts[(action.name, i+1)].add(sort)\n",
    "    print(ap_sorts)\n",
    "\n",
    "h_sorts = get_h_sorts(sorts, obs_tracelist)\n"
   ]
  },
  {
   "cell_type": "code",
   "execution_count": 31,
   "metadata": {},
   "outputs": [
    {
     "name": "stdout",
     "output_type": "stream",
     "text": [
      "defaultdict(<class 'set'>, {('build_fences', 1): {'boar', 'cattle'}, ('build_fences', 2): {'worker2'}, ('build_fences', 3): {'worker1'}, ('build_fences', 4): {'worker2'}, ('build_fences', 5): {'round3', 'round1'}, ('collect_resource', 1): {'worker1', 'worker2'}, ('collect_resource', 2): {'worker1', 'noworker'}, ('collect_resource', 3): {'worker2'}, ('collect_resource', 4): {'round2', 'round3', 'round4', 'round1'}, ('collect_resource', 5): {'act_wood', 'act_clay', 'act_reed', 'act_stone'}, ('collect_resource', 6): {'reed', 'clay', 'wood', 'stone'}, ('ag__finish_round_backhome', 1): {'round2', 'round3', 'round4', 'round1'}, ('ag__finish_round_backhome', 2): {'worker2'}, ('ag__finish_round_renew', 1): {'round2', 'round3', 'round4', 'round1'}, ('ag__finish_round_renew', 2): {'worker3', 'worker1', 'worker2', 'worker4', 'worker5'}, ('ag__advance_round_normal', 1): {'round2', 'round3', 'round1'}, ('ag__advance_round_normal', 2): {'round2', 'round3', 'round4'}, ('ag__advance_round_normal', 3): {'act_sow', 'act_fences', 'act_family', 'act_sheep'}, ('take_food', 1): {'worker1', 'worker2'}, ('take_food', 2): {'worker1', 'noworker'}, ('take_food', 3): {'worker2'}, ('take_food', 4): {'round2'}, ('take_food', 5): {'num0'}, ('take_food', 6): {'num1'}, ('take_grain', 1): {'worker1', 'worker2'}, ('take_grain', 2): {'worker1', 'noworker'}, ('take_grain', 3): {'worker2'}, ('take_grain', 4): {'round4', 'round3', 'round1'}, ('take_grain', 5): {'grain', 'carrot'}, ('ag__harvest_collect_end', 1): {'round4'}, ('ag__harvest_collect_end', 2): {'stage1'}, ('plow_field', 1): {'worker1'}, ('plow_field', 2): {'noworker'}, ('plow_field', 3): {'worker2'}, ('plow_field', 4): {'round2'}})\n"
     ]
    }
   ],
   "source": [
    "ap_objs = defaultdict(set)\n",
    "for trace in obs_tracelist:\n",
    "    for obs in trace:\n",
    "        action = obs.action\n",
    "        for i, obj in enumerate(action.obj_params):\n",
    "            ap_objs[(action.name, i+1)].add(obj.name)\n",
    "print(ap_objs)"
   ]
  },
  {
   "cell_type": "code",
   "execution_count": null,
   "metadata": {},
   "outputs": [],
   "source": []
  }
 ],
 "metadata": {
  "kernelspec": {
   "display_name": "base",
   "language": "python",
   "name": "python3"
  },
  "language_info": {
   "codemirror_mode": {
    "name": "ipython",
    "version": 3
   },
   "file_extension": ".py",
   "mimetype": "text/x-python",
   "name": "python",
   "nbconvert_exporter": "python",
   "pygments_lexer": "ipython3",
   "version": "3.12.2"
  }
 },
 "nbformat": 4,
 "nbformat_minor": 2
}
