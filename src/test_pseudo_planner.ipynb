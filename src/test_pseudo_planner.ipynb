{
 "cells": [
  {
   "cell_type": "code",
   "execution_count": 1,
   "metadata": {},
   "outputs": [],
   "source": [
    "%load_ext autoreload\n",
    "%autoreload 2"
   ]
  },
  {
   "cell_type": "code",
   "execution_count": 2,
   "metadata": {},
   "outputs": [],
   "source": [
    "from planner import PseudoPlanner"
   ]
  },
  {
   "cell_type": "code",
   "execution_count": 3,
   "metadata": {},
   "outputs": [],
   "source": [
    "blocksworld_domain = \"\"\"\n",
    "(define (domain blocks-world)\n",
    "  (:requirements :strips :typing)\n",
    "  \n",
    "  (:types block) ; Define a single type 'block'\n",
    "  \n",
    "  (:predicates\n",
    "    (on ?x - block ?y - block)       ; Predicate to check if block ?x is on block ?y\n",
    "    (ontable ?x - block)             ; Predicate to check if block ?x is on the table\n",
    "    (clear ?x - block)               ; Predicate to check if block ?x has no block on top of it\n",
    "    (handempty)                      ; Predicate to check if the hand is empty\n",
    "    (holding ?x - block)             ; Predicate to check if the hand is holding block ?x\n",
    "  )\n",
    "  \n",
    "  (:action pick-up\n",
    "    :parameters (?x - block)\n",
    "    :precondition (and (clear ?x) (ontable ?x) (handempty))\n",
    "    :effect (and (not (ontable ?x)) (not (clear ?x))\n",
    "                 (not (handempty)) (holding ?x))\n",
    "  )\n",
    "\n",
    "  (:action put-down\n",
    "    :parameters (?x - block)\n",
    "    :precondition (holding ?x)\n",
    "    :effect (and (ontable ?x) (clear ?x)\n",
    "                 (handempty) (not (holding ?x)))\n",
    "  )\n",
    "  \n",
    "  (:action stack\n",
    "    :parameters (?x - block ?y - block)\n",
    "    :precondition (and (holding ?x) (clear ?y))\n",
    "    :effect (and (not (holding ?x)) (not (clear ?y))\n",
    "                 (clear ?x) (on ?x ?y) (handempty))\n",
    "  )\n",
    "  \n",
    "  (:action unstack\n",
    "    :parameters (?x - block ?y - block)\n",
    "    :precondition (and (on ?x ?y) (clear ?x) (handempty))\n",
    "    :effect (and (holding ?x) (clear ?y)\n",
    "                 (not (on ?x ?y)) (not (handempty)))\n",
    "  )\n",
    ")\n",
    "\n",
    "\"\"\""
   ]
  },
  {
   "cell_type": "code",
   "execution_count": 4,
   "metadata": {},
   "outputs": [],
   "source": [
    "# pp = PseudoPlanner(\"../data/ground/blocksworld.pddl\")\n",
    "pp = PseudoPlanner(\"./polocm.pddl\")"
   ]
  },
  {
   "cell_type": "code",
   "execution_count": 5,
   "metadata": {},
   "outputs": [
    {
     "name": "stdout",
     "output_type": "stream",
     "text": [
      "?x0: sort0\n",
      "?x1: sort1\n",
      "?x2: sort1\n",
      "  Conjunction\n",
      "    Atom f2s1state0(?x2, ?x1)\n",
      "    Atom f0s1state2(?x1, ?x2)\n",
      "    Atom f2s1state2(?x1)\n",
      "    Atom f0s0state0(?x0)\n",
      "?x0: sort0\n",
      "?x1: sort1\n",
      "  Conjunction\n",
      "    Atom f1s1state3(?x1)\n",
      "    Atom f2s1state2(?x1)\n",
      "    Atom f0s0state0(?x0)\n",
      "?x0: sort0\n",
      "?x1: sort1\n",
      "  Conjunction\n",
      "    Atom f0s1state1(?x1)\n",
      "    Atom f0s0state1(?x0)\n",
      "    Atom f2s1state1(?x1)\n",
      "?x0: sort0\n",
      "?x1: sort1\n",
      "?x2: sort1\n",
      "  Conjunction\n",
      "    Atom f0s1state1(?x1)\n",
      "    Atom f2s1state2(?x2)\n",
      "    Atom f1s1state2(?x1)\n",
      "    Atom f0s0state1(?x0)\n",
      "    Atom f2s1state1(?x1)\n",
      "    Atom f1s1state0(?x2)\n"
     ]
    }
   ],
   "source": [
    "domain = pp.domain\n",
    "\n",
    "for action in domain.actions:\n",
    "    for par in action.parameters:\n",
    "        print(par)\n",
    "    action.precondition.dump()\n",
    "\n",
    "class Action:\n",
    "    def __init__(self, name, params) -> None:\n",
    "        self.name = name\n",
    "        self.params = params\n",
    "\n",
    "a = Action('unstack', ['0','a', 'b'])\n"
   ]
  },
  {
   "cell_type": "code",
   "execution_count": 10,
   "metadata": {},
   "outputs": [
    {
     "name": "stderr",
     "output_type": "stream",
     "text": [
      "[autoreload of pddl.conditions failed: Traceback (most recent call last):\n",
      "  File \"/home/uto/miniconda3/lib/python3.12/site-packages/IPython/extensions/autoreload.py\", line 276, in check\n",
      "    superreload(m, reload, self.old_objects)\n",
      "  File \"/home/uto/miniconda3/lib/python3.12/site-packages/IPython/extensions/autoreload.py\", line 500, in superreload\n",
      "    update_generic(old_obj, new_obj)\n",
      "  File \"/home/uto/miniconda3/lib/python3.12/site-packages/IPython/extensions/autoreload.py\", line 397, in update_generic\n",
      "    update(a, b)\n",
      "  File \"/home/uto/miniconda3/lib/python3.12/site-packages/IPython/extensions/autoreload.py\", line 365, in update_class\n",
      "    update_instances(old, new)\n",
      "  File \"/home/uto/miniconda3/lib/python3.12/site-packages/IPython/extensions/autoreload.py\", line 323, in update_instances\n",
      "    object.__setattr__(ref, \"__class__\", new)\n",
      "TypeError: __class__ assignment: 'Atom' object layout differs from 'Atom'\n",
      "]\n"
     ]
    },
    {
     "ename": "TypeError",
     "evalue": "descriptor 'args' for 'Literal' objects doesn't apply to a 'Atom' object",
     "output_type": "error",
     "traceback": [
      "\u001b[0;31m---------------------------------------------------------------------------\u001b[0m",
      "\u001b[0;31mTypeError\u001b[0m                                 Traceback (most recent call last)",
      "Cell \u001b[0;32mIn[10], line 5\u001b[0m\n\u001b[1;32m      2\u001b[0m var_mapping \u001b[38;5;241m=\u001b[39m {\u001b[38;5;124m'\u001b[39m\u001b[38;5;124m?x0\u001b[39m\u001b[38;5;124m'\u001b[39m: \u001b[38;5;124m'\u001b[39m\u001b[38;5;124m0\u001b[39m\u001b[38;5;124m'\u001b[39m, \u001b[38;5;124m'\u001b[39m\u001b[38;5;124m?x1\u001b[39m\u001b[38;5;124m'\u001b[39m: \u001b[38;5;124m'\u001b[39m\u001b[38;5;124ma\u001b[39m\u001b[38;5;124m'\u001b[39m, \u001b[38;5;124m'\u001b[39m\u001b[38;5;124m?x2\u001b[39m\u001b[38;5;124m'\u001b[39m:\u001b[38;5;124m'\u001b[39m\u001b[38;5;124mb\u001b[39m\u001b[38;5;124m'\u001b[39m}\n\u001b[1;32m      3\u001b[0m objects_by_type \u001b[38;5;241m=\u001b[39m {\u001b[38;5;124m'\u001b[39m\u001b[38;5;124m0\u001b[39m\u001b[38;5;124m'\u001b[39m:\u001b[38;5;124m'\u001b[39m\u001b[38;5;124msort0\u001b[39m\u001b[38;5;124m'\u001b[39m, \u001b[38;5;124m'\u001b[39m\u001b[38;5;124ma\u001b[39m\u001b[38;5;124m'\u001b[39m: \u001b[38;5;124m'\u001b[39m\u001b[38;5;124msort1\u001b[39m\u001b[38;5;124m'\u001b[39m, \u001b[38;5;124m'\u001b[39m\u001b[38;5;124mb\u001b[39m\u001b[38;5;124m'\u001b[39m:\u001b[38;5;124m'\u001b[39m\u001b[38;5;124msort1\u001b[39m\u001b[38;5;124m'\u001b[39m}\n\u001b[0;32m----> 5\u001b[0m op \u001b[38;5;241m=\u001b[39m \u001b[43maction\u001b[49m\u001b[38;5;241;43m.\u001b[39;49m\u001b[43minstantiate\u001b[49m\u001b[43m(\u001b[49m\u001b[43mvar_mapping\u001b[49m\u001b[43m,\u001b[49m\u001b[43m \u001b[49m\u001b[43mobjects_by_type\u001b[49m\u001b[43m)\u001b[49m\n\u001b[1;32m      6\u001b[0m \u001b[38;5;28mprint\u001b[39m(op\u001b[38;5;241m.\u001b[39mprecondition)\n",
      "File \u001b[0;32m~/anu/codes/xLOCM/src/pddl/actions.py:79\u001b[0m, in \u001b[0;36mAction.instantiate\u001b[0;34m(self, var_mapping, objects_by_type, metric)\u001b[0m\n\u001b[1;32m     77\u001b[0m precondition \u001b[38;5;241m=\u001b[39m []\n\u001b[1;32m     78\u001b[0m \u001b[38;5;28;01mtry\u001b[39;00m:\n\u001b[0;32m---> 79\u001b[0m     \u001b[38;5;28;43mself\u001b[39;49m\u001b[38;5;241;43m.\u001b[39;49m\u001b[43mprecondition\u001b[49m\u001b[38;5;241;43m.\u001b[39;49m\u001b[43minstantiate\u001b[49m\u001b[43m(\u001b[49m\u001b[43mvar_mapping\u001b[49m\u001b[43m,\u001b[49m\u001b[43m \u001b[49m\u001b[43mprecondition\u001b[49m\u001b[43m)\u001b[49m\n\u001b[1;32m     80\u001b[0m \u001b[38;5;28;01mexcept\u001b[39;00m conditions\u001b[38;5;241m.\u001b[39mImpossible:\n\u001b[1;32m     81\u001b[0m     \u001b[38;5;28;01mreturn\u001b[39;00m \u001b[38;5;28;01mNone\u001b[39;00m\n",
      "File \u001b[0;32m~/anu/codes/xLOCM/src/pddl/conditions.py:134\u001b[0m, in \u001b[0;36mConjunction.instantiate\u001b[0;34m(self, var_mapping, result)\u001b[0m\n\u001b[1;32m    132\u001b[0m \u001b[38;5;28;01massert\u001b[39;00m \u001b[38;5;129;01mnot\u001b[39;00m result, \u001b[38;5;124m\"\u001b[39m\u001b[38;5;124mCondition not simplified\u001b[39m\u001b[38;5;124m\"\u001b[39m\n\u001b[1;32m    133\u001b[0m \u001b[38;5;28;01mfor\u001b[39;00m part \u001b[38;5;129;01min\u001b[39;00m \u001b[38;5;28mself\u001b[39m\u001b[38;5;241m.\u001b[39mparts:\n\u001b[0;32m--> 134\u001b[0m     \u001b[43mpart\u001b[49m\u001b[38;5;241;43m.\u001b[39;49m\u001b[43minstantiate\u001b[49m\u001b[43m(\u001b[49m\u001b[43mvar_mapping\u001b[49m\u001b[43m,\u001b[49m\u001b[43m \u001b[49m\u001b[43mresult\u001b[49m\u001b[43m)\u001b[49m\n",
      "File \u001b[0;32m~/anu/codes/xLOCM/src/pddl/conditions.py:268\u001b[0m, in \u001b[0;36mAtom.instantiate\u001b[0;34m(self, var_mapping, result)\u001b[0m\n\u001b[1;32m    267\u001b[0m \u001b[38;5;28;01mdef\u001b[39;00m \u001b[38;5;21minstantiate\u001b[39m(\u001b[38;5;28mself\u001b[39m, var_mapping, result):\n\u001b[0;32m--> 268\u001b[0m     args \u001b[38;5;241m=\u001b[39m [var_mapping\u001b[38;5;241m.\u001b[39mget(arg, arg) \u001b[38;5;28;01mfor\u001b[39;00m arg \u001b[38;5;129;01min\u001b[39;00m \u001b[38;5;28;43mself\u001b[39;49m\u001b[38;5;241;43m.\u001b[39;49m\u001b[43margs\u001b[49m]\n\u001b[1;32m    269\u001b[0m     atom \u001b[38;5;241m=\u001b[39m Atom(\u001b[38;5;28mself\u001b[39m\u001b[38;5;241m.\u001b[39mpredicate, args)\n\u001b[1;32m    270\u001b[0m     result\u001b[38;5;241m.\u001b[39mappend(atom)\n",
      "\u001b[0;31mTypeError\u001b[0m: descriptor 'args' for 'Literal' objects doesn't apply to a 'Atom' object"
     ]
    }
   ],
   "source": [
    "action = domain.get_action(a.name)\n",
    "var_mapping = {'?x0': '0', '?x1': 'a', '?x2':'b'}\n",
    "objects_by_type = {'0':'sort0', 'a': 'sort1', 'b':'sort1'}\n",
    "\n",
    "op = action.instantiate(var_mapping, objects_by_type)\n",
    "print(op.precondition)\n",
    "\n",
    "\n"
   ]
  },
  {
   "cell_type": "code",
   "execution_count": null,
   "metadata": {},
   "outputs": [],
   "source": []
  },
  {
   "cell_type": "code",
   "execution_count": null,
   "metadata": {},
   "outputs": [],
   "source": []
  }
 ],
 "metadata": {
  "kernelspec": {
   "display_name": "base",
   "language": "python",
   "name": "python3"
  },
  "language_info": {
   "codemirror_mode": {
    "name": "ipython",
    "version": 3
   },
   "file_extension": ".py",
   "mimetype": "text/x-python",
   "name": "python",
   "nbconvert_exporter": "python",
   "pygments_lexer": "ipython3",
   "version": "3.12.2"
  }
 },
 "nbformat": 4,
 "nbformat_minor": 2
}
