{
 "cells": [
  {
   "cell_type": "code",
   "execution_count": 1,
   "metadata": {},
   "outputs": [],
   "source": [
    "%load_ext autoreload\n",
    "%autoreload 2"
   ]
  },
  {
   "cell_type": "code",
   "execution_count": 2,
   "metadata": {},
   "outputs": [
    {
     "name": "stdout",
     "output_type": "stream",
     "text": [
      "Experiment Start...\n",
      "Reading data...\n",
      "done.\n",
      "Preparing ground truth data...\n",
      "done.\n",
      "dod of 0.7...\n",
      "Setting seed to 6\n"
     ]
    },
    {
     "data": {
      "text/html": [
       "<table>\n",
       "<thead>\n",
       "<tr><th>           </th><th>[3]pick-up               </th><th>[4]stack              </th><th>[1]pick-up               </th><th>[5]unstack              </th><th>[0]put-down              </th><th>[2]stack               </th></tr>\n",
       "</thead>\n",
       "<tbody>\n",
       "<tr><td>[3]pick-up </td><td>nan                      </td><td>([3]pick-up, [4]stack)</td><td>([3]pick-up, [1]pick-up) </td><td>([3]pick-up, [5]unstack)</td><td>([3]pick-up, [0]put-down)</td><td>([3]pick-up, [2]stack) </td></tr>\n",
       "<tr><td>[4]stack   </td><td>([4]stack, [3]pick-up)   </td><td>nan                   </td><td>([4]stack, [1]pick-up)   </td><td>1                       </td><td>0                        </td><td>([4]stack, [2]stack)   </td></tr>\n",
       "<tr><td>[1]pick-up </td><td>([1]pick-up, [3]pick-up) </td><td>([1]pick-up, [4]stack)</td><td>nan                      </td><td>1                       </td><td>([1]pick-up, [0]put-down)</td><td>([1]pick-up, [2]stack) </td></tr>\n",
       "<tr><td>[5]unstack </td><td>([5]unstack, [3]pick-up) </td><td>0                     </td><td>0                        </td><td>nan                     </td><td>0                        </td><td>([5]unstack, [2]stack) </td></tr>\n",
       "<tr><td>[0]put-down</td><td>([0]put-down, [3]pick-up)</td><td>1                     </td><td>([0]put-down, [1]pick-up)</td><td>1                       </td><td>nan                      </td><td>([0]put-down, [2]stack)</td></tr>\n",
       "<tr><td>[2]stack   </td><td>([2]stack, [3]pick-up)   </td><td>([2]stack, [4]stack)  </td><td>([2]stack, [1]pick-up)   </td><td>([2]stack, [5]unstack)  </td><td>([2]stack, [0]put-down)  </td><td>nan                    </td></tr>\n",
       "</tbody>\n",
       "</table>"
      ],
      "text/plain": [
       "'<table>\\n<thead>\\n<tr><th>           </th><th>[3]pick-up               </th><th>[4]stack              </th><th>[1]pick-up               </th><th>[5]unstack              </th><th>[0]put-down              </th><th>[2]stack               </th></tr>\\n</thead>\\n<tbody>\\n<tr><td>[3]pick-up </td><td>nan                      </td><td>([3]pick-up, [4]stack)</td><td>([3]pick-up, [1]pick-up) </td><td>([3]pick-up, [5]unstack)</td><td>([3]pick-up, [0]put-down)</td><td>([3]pick-up, [2]stack) </td></tr>\\n<tr><td>[4]stack   </td><td>([4]stack, [3]pick-up)   </td><td>nan                   </td><td>([4]stack, [1]pick-up)   </td><td>1                       </td><td>0                        </td><td>([4]stack, [2]stack)   </td></tr>\\n<tr><td>[1]pick-up </td><td>([1]pick-up, [3]pick-up) </td><td>([1]pick-up, [4]stack)</td><td>nan                      </td><td>1                       </td><td>([1]pick-up, [0]put-down)</td><td>([1]pick-up, [2]stack) </td></tr>\\n<tr><td>[5]unstack </td><td>([5]unstack, [3]pick-up) </td><td>0                     </td><td>0                        </td><td>nan                     </td><td>0                        </td><td>([5]unstack, [2]stack) </td></tr>\\n<tr><td>[0]put-down</td><td>([0]put-down, [3]pick-up)</td><td>1                     </td><td>([0]put-down, [1]pick-up)</td><td>1                       </td><td>nan                      </td><td>([0]put-down, [2]stack)</td></tr>\\n<tr><td>[2]stack   </td><td>([2]stack, [3]pick-up)   </td><td>([2]stack, [4]stack)  </td><td>([2]stack, [1]pick-up)   </td><td>([2]stack, [5]unstack)  </td><td>([2]stack, [0]put-down)  </td><td>nan                    </td></tr>\\n</tbody>\\n</table>'"
      ]
     },
     "metadata": {},
     "output_type": "display_data"
    },
    {
     "name": "stdout",
     "output_type": "stream",
     "text": [
      "[stack.0, pick-up.0, put-down.0, stack.0, unstack.0, pick-up.0]\n"
     ]
    },
    {
     "data": {
      "text/html": [
       "<table>\n",
       "<thead>\n",
       "<tr><th>            </th><th>[3]pick-up.1            </th><th>[4]stack.1            </th><th>[5]unstack.1            </th></tr>\n",
       "</thead>\n",
       "<tbody>\n",
       "<tr><td>[3]pick-up.1</td><td>nan                     </td><td>([3]pick-up, [4]stack)</td><td>([3]pick-up, [5]unstack)</td></tr>\n",
       "<tr><td>[4]stack.1  </td><td>([4]stack, [3]pick-up)  </td><td>nan                   </td><td>1                       </td></tr>\n",
       "<tr><td>[5]unstack.1</td><td>([5]unstack, [3]pick-up)</td><td>0                     </td><td>nan                     </td></tr>\n",
       "</tbody>\n",
       "</table>"
      ],
      "text/plain": [
       "'<table>\\n<thead>\\n<tr><th>            </th><th>[3]pick-up.1            </th><th>[4]stack.1            </th><th>[5]unstack.1            </th></tr>\\n</thead>\\n<tbody>\\n<tr><td>[3]pick-up.1</td><td>nan                     </td><td>([3]pick-up, [4]stack)</td><td>([3]pick-up, [5]unstack)</td></tr>\\n<tr><td>[4]stack.1  </td><td>([4]stack, [3]pick-up)  </td><td>nan                   </td><td>1                       </td></tr>\\n<tr><td>[5]unstack.1</td><td>([5]unstack, [3]pick-up)</td><td>0                     </td><td>nan                     </td></tr>\\n</tbody>\\n</table>'"
      ]
     },
     "metadata": {},
     "output_type": "display_data"
    },
    {
     "name": "stdout",
     "output_type": "stream",
     "text": [
      "[stack.1, unstack.1, pick-up.1]\n"
     ]
    },
    {
     "data": {
      "text/html": [
       "<table>\n",
       "<thead>\n",
       "<tr><th>             </th><th>[4]stack.2            </th><th>[1]pick-up.1             </th><th>[5]unstack.2          </th><th>[0]put-down.1            </th><th>[2]stack.1             </th></tr>\n",
       "</thead>\n",
       "<tbody>\n",
       "<tr><td>[4]stack.2   </td><td>nan                   </td><td>([4]stack, [1]pick-up)   </td><td>1                     </td><td>0                        </td><td>([4]stack, [2]stack)   </td></tr>\n",
       "<tr><td>[1]pick-up.1 </td><td>([1]pick-up, [4]stack)</td><td>nan                      </td><td>1                     </td><td>([1]pick-up, [0]put-down)</td><td>([1]pick-up, [2]stack) </td></tr>\n",
       "<tr><td>[5]unstack.2 </td><td>0                     </td><td>0                        </td><td>nan                   </td><td>0                        </td><td>([5]unstack, [2]stack) </td></tr>\n",
       "<tr><td>[0]put-down.1</td><td>1                     </td><td>([0]put-down, [1]pick-up)</td><td>1                     </td><td>nan                      </td><td>([0]put-down, [2]stack)</td></tr>\n",
       "<tr><td>[2]stack.1   </td><td>([2]stack, [4]stack)  </td><td>([2]stack, [1]pick-up)   </td><td>([2]stack, [5]unstack)</td><td>([2]stack, [0]put-down)  </td><td>nan                    </td></tr>\n",
       "</tbody>\n",
       "</table>"
      ],
      "text/plain": [
       "'<table>\\n<thead>\\n<tr><th>             </th><th>[4]stack.2            </th><th>[1]pick-up.1             </th><th>[5]unstack.2          </th><th>[0]put-down.1            </th><th>[2]stack.1             </th></tr>\\n</thead>\\n<tbody>\\n<tr><td>[4]stack.2   </td><td>nan                   </td><td>([4]stack, [1]pick-up)   </td><td>1                     </td><td>0                        </td><td>([4]stack, [2]stack)   </td></tr>\\n<tr><td>[1]pick-up.1 </td><td>([1]pick-up, [4]stack)</td><td>nan                      </td><td>1                     </td><td>([1]pick-up, [0]put-down)</td><td>([1]pick-up, [2]stack) </td></tr>\\n<tr><td>[5]unstack.2 </td><td>0                     </td><td>0                        </td><td>nan                   </td><td>0                        </td><td>([5]unstack, [2]stack) </td></tr>\\n<tr><td>[0]put-down.1</td><td>1                     </td><td>([0]put-down, [1]pick-up)</td><td>1                     </td><td>nan                      </td><td>([0]put-down, [2]stack)</td></tr>\\n<tr><td>[2]stack.1   </td><td>([2]stack, [4]stack)  </td><td>([2]stack, [1]pick-up)   </td><td>([2]stack, [5]unstack)</td><td>([2]stack, [0]put-down)  </td><td>nan                    </td></tr>\\n</tbody>\\n</table>'"
      ]
     },
     "metadata": {},
     "output_type": "display_data"
    },
    {
     "name": "stdout",
     "output_type": "stream",
     "text": [
      "[stack.1, pick-up.1, put-down.1, stack.2, unstack.2]\n"
     ]
    },
    {
     "data": {
      "text/html": [
       "<table>\n",
       "<thead>\n",
       "<tr><th>          </th><th style=\"text-align: right;\">  [2]stack.2</th></tr>\n",
       "</thead>\n",
       "<tbody>\n",
       "<tr><td>[2]stack.2</td><td style=\"text-align: right;\">         nan</td></tr>\n",
       "</tbody>\n",
       "</table>"
      ],
      "text/plain": [
       "'<table>\\n<thead>\\n<tr><th>          </th><th style=\"text-align: right;\">  [2]stack.2</th></tr>\\n</thead>\\n<tbody>\\n<tr><td>[2]stack.2</td><td style=\"text-align: right;\">         nan</td></tr>\\n</tbody>\\n</table>'"
      ]
     },
     "metadata": {},
     "output_type": "display_data"
    },
    {
     "name": "stdout",
     "output_type": "stream",
     "text": [
      "[stack.2]\n"
     ]
    },
    {
     "data": {
      "text/html": [
       "<table>\n",
       "<thead>\n",
       "<tr><th>           </th><th>[3]put-down              </th><th>[2]unstack               </th><th>[1]stack               </th><th>[0]pick-up              </th></tr>\n",
       "</thead>\n",
       "<tbody>\n",
       "<tr><td>[3]put-down</td><td>nan                      </td><td>([3]put-down, [2]unstack)</td><td>([3]put-down, [1]stack)</td><td>0                       </td></tr>\n",
       "<tr><td>[2]unstack </td><td>([2]unstack, [3]put-down)</td><td>nan                      </td><td>([2]unstack, [1]stack) </td><td>([2]unstack, [0]pick-up)</td></tr>\n",
       "<tr><td>[1]stack   </td><td>([1]stack, [3]put-down)  </td><td>([1]stack, [2]unstack)   </td><td>nan                    </td><td>([1]stack, [0]pick-up)  </td></tr>\n",
       "<tr><td>[0]pick-up </td><td>1                        </td><td>([0]pick-up, [2]unstack) </td><td>([0]pick-up, [1]stack) </td><td>nan                     </td></tr>\n",
       "</tbody>\n",
       "</table>"
      ],
      "text/plain": [
       "'<table>\\n<thead>\\n<tr><th>           </th><th>[3]put-down              </th><th>[2]unstack               </th><th>[1]stack               </th><th>[0]pick-up              </th></tr>\\n</thead>\\n<tbody>\\n<tr><td>[3]put-down</td><td>nan                      </td><td>([3]put-down, [2]unstack)</td><td>([3]put-down, [1]stack)</td><td>0                       </td></tr>\\n<tr><td>[2]unstack </td><td>([2]unstack, [3]put-down)</td><td>nan                      </td><td>([2]unstack, [1]stack) </td><td>([2]unstack, [0]pick-up)</td></tr>\\n<tr><td>[1]stack   </td><td>([1]stack, [3]put-down)  </td><td>([1]stack, [2]unstack)   </td><td>nan                    </td><td>([1]stack, [0]pick-up)  </td></tr>\\n<tr><td>[0]pick-up </td><td>1                        </td><td>([0]pick-up, [2]unstack) </td><td>([0]pick-up, [1]stack) </td><td>nan                     </td></tr>\\n</tbody>\\n</table>'"
      ]
     },
     "metadata": {},
     "output_type": "display_data"
    },
    {
     "name": "stdout",
     "output_type": "stream",
     "text": [
      "[stack.0, unstack.0, pick-up.0, put-down.0]\n"
     ]
    },
    {
     "data": {
      "text/html": [
       "<table>\n",
       "<thead>\n",
       "<tr><th>             </th><th>[3]put-down.1            </th><th>[2]unstack.1             </th><th>[1]stack.1             </th><th>[0]pick-up.1            </th></tr>\n",
       "</thead>\n",
       "<tbody>\n",
       "<tr><td>[3]put-down.1</td><td>nan                      </td><td>([3]put-down, [2]unstack)</td><td>([3]put-down, [1]stack)</td><td>0                       </td></tr>\n",
       "<tr><td>[2]unstack.1 </td><td>([2]unstack, [3]put-down)</td><td>nan                      </td><td>([2]unstack, [1]stack) </td><td>([2]unstack, [0]pick-up)</td></tr>\n",
       "<tr><td>[1]stack.1   </td><td>([1]stack, [3]put-down)  </td><td>([1]stack, [2]unstack)   </td><td>nan                    </td><td>([1]stack, [0]pick-up)  </td></tr>\n",
       "<tr><td>[0]pick-up.1 </td><td>1                        </td><td>([0]pick-up, [2]unstack) </td><td>([0]pick-up, [1]stack) </td><td>nan                     </td></tr>\n",
       "</tbody>\n",
       "</table>"
      ],
      "text/plain": [
       "'<table>\\n<thead>\\n<tr><th>             </th><th>[3]put-down.1            </th><th>[2]unstack.1             </th><th>[1]stack.1             </th><th>[0]pick-up.1            </th></tr>\\n</thead>\\n<tbody>\\n<tr><td>[3]put-down.1</td><td>nan                      </td><td>([3]put-down, [2]unstack)</td><td>([3]put-down, [1]stack)</td><td>0                       </td></tr>\\n<tr><td>[2]unstack.1 </td><td>([2]unstack, [3]put-down)</td><td>nan                      </td><td>([2]unstack, [1]stack) </td><td>([2]unstack, [0]pick-up)</td></tr>\\n<tr><td>[1]stack.1   </td><td>([1]stack, [3]put-down)  </td><td>([1]stack, [2]unstack)   </td><td>nan                    </td><td>([1]stack, [0]pick-up)  </td></tr>\\n<tr><td>[0]pick-up.1 </td><td>1                        </td><td>([0]pick-up, [2]unstack) </td><td>([0]pick-up, [1]stack) </td><td>nan                     </td></tr>\\n</tbody>\\n</table>'"
      ]
     },
     "metadata": {},
     "output_type": "display_data"
    },
    {
     "name": "stdout",
     "output_type": "stream",
     "text": [
      "[stack.1, unstack.1, pick-up.1, put-down.1]\n"
     ]
    },
    {
     "data": {
      "text/html": [
       "<table>\n",
       "<thead>\n",
       "<tr><th>            </th><th>[2]unstack.2          </th><th>[1]stack.2            </th></tr>\n",
       "</thead>\n",
       "<tbody>\n",
       "<tr><td>[2]unstack.2</td><td>nan                   </td><td>([2]unstack, [1]stack)</td></tr>\n",
       "<tr><td>[1]stack.2  </td><td>([1]stack, [2]unstack)</td><td>nan                   </td></tr>\n",
       "</tbody>\n",
       "</table>"
      ],
      "text/plain": [
       "'<table>\\n<thead>\\n<tr><th>            </th><th>[2]unstack.2          </th><th>[1]stack.2            </th></tr>\\n</thead>\\n<tbody>\\n<tr><td>[2]unstack.2</td><td>nan                   </td><td>([2]unstack, [1]stack)</td></tr>\\n<tr><td>[1]stack.2  </td><td>([1]stack, [2]unstack)</td><td>nan                   </td></tr>\\n</tbody>\\n</table>'"
      ]
     },
     "metadata": {},
     "output_type": "display_data"
    },
    {
     "name": "stdout",
     "output_type": "stream",
     "text": [
      "[stack.2, unstack.2]\n",
      "[stack.1, unstack.1, pick-up.1]\n",
      "[stack.1, unstack.1, pick-up.1]\n",
      "[stack.1, unstack.1, pick-up.1]\n",
      "[stack.1, pick-up.1, put-down.1, stack.2, unstack.2]\n",
      "[stack.1, pick-up.1, put-down.1, stack.2, unstack.2]\n",
      "[stack.1, pick-up.1, put-down.1, stack.2, unstack.2]\n",
      "[stack.2]\n",
      "[stack.2]\n",
      "[stack.2]\n",
      "[stack.1, unstack.1, pick-up.1, put-down.1]\n",
      "[stack.1, unstack.1, pick-up.1, put-down.1]\n",
      "[stack.1, unstack.1, pick-up.1, put-down.1]\n",
      "[stack.2, unstack.2]\n",
      "[stack.2, unstack.2]\n",
      "[stack.2, unstack.2]\n",
      "ap_state_pointers: \n",
      " defaultdict(<class 'dict'>, {F0S0: {put-down.0: (1 -> 2), pick-up.0: (3 -> 4), unstack.0: (5 -> 6), stack.0: (7 -> 8)}, F0S1: {pick-up.1: (1 -> 2), unstack.1: (3 -> 4)}, F1S1: {stack.2: (1 -> 2), unstack.2: (3 -> 4), put-down.1: (5 -> 6), unstack.1: (7 -> 8), stack.1: (9 -> 10), pick-up.1: (11 -> 12)}})\n",
      "defaultdict(<class 'list'>, {F0S0: [{1, 4}, {2, 7}, {8, 3, 5, 6}], F0S1: [{1, 4}, {2}, {3}], F1S1: [{1, 6}, {2, 3}, {4}, {12, 5}, {8, 10, 11, 7}, {9}]})\n",
      "Learned HS:\n",
      "F1S1\n",
      "{<\n",
      "  S=4\n",
      "  B={'action': stack na c na a, 'pos': 1, 'sort': 1}\n",
      "  k=1\n",
      "  k_=2\n",
      "  C={'action': unstack na c na a, 'pos': 1, 'sort': 1}\n",
      "  l=1\n",
      "  l_=2\n",
      "  G=1\n",
      "  G_=1\n",
      "  fsm={'sort': 1, 'index': 1}\n",
      ">}\n",
      "{<\n",
      "  S=1\n",
      "  B={'action': stack na c na a, 'pos': 2, 'sort': 1}\n",
      "  k=2\n",
      "  k_=1\n",
      "  C={'action': unstack na c na a, 'pos': 2, 'sort': 1}\n",
      "  l=2\n",
      "  l_=1\n",
      "  G=1\n",
      "  G_=1\n",
      "  fsm={'sort': 1, 'index': 1}\n",
      ">}\n",
      "defaultdict(<class 'dict'>,\n",
      "            {F1S1: {1: [Binding(hypothesis=<\n",
      "  S=1\n",
      "  B={'action': stack na c na a, 'pos': 2, 'sort': 1}\n",
      "  k=2\n",
      "  k_=1\n",
      "  C={'action': unstack na c na a, 'pos': 2, 'sort': 1}\n",
      "  l=2\n",
      "  l_=1\n",
      "  G=1\n",
      "  G_=1\n",
      "  fsm={'sort': 1, 'index': 1}\n",
      ">, param=0)],\n",
      "                    4: [Binding(hypothesis=<\n",
      "  S=4\n",
      "  B={'action': stack na c na a, 'pos': 1, 'sort': 1}\n",
      "  k=1\n",
      "  k_=2\n",
      "  C={'action': unstack na c na a, 'pos': 1, 'sort': 1}\n",
      "  l=1\n",
      "  l_=2\n",
      "  G=1\n",
      "  G_=1\n",
      "  fsm={'sort': 1, 'index': 1}\n",
      ">, param=0)]}})\n",
      "pick-up [x0 (sort0), x1 (sort1)]\n",
      "F0S1state0 [1]\n",
      "F1S1state4 [1]\n",
      "F0S0state2 [0]\n",
      "put-down [x0 (sort0), x1 (sort1)]\n",
      "F1S1state3 [1]\n",
      "F0S0state0 [0]\n",
      "stack [x0 (sort0), x1 (sort1), x2 (sort1)]\n",
      "F1S1state0 [2]\n",
      "F0S0state1 [0]\n",
      "F1S1state5 [1]\n",
      "unstack [x0 (sort0), x1 (sort1), x2 (sort1)]\n",
      "F1S1state4 [1]\n",
      "F1S1state1 [2, 1]\n",
      "F0S1state2 [1]\n",
      "F0S0state2 [0]\n",
      "Index([put-down.0, pick-up.0, stack.0, unstack.0], dtype='object')\n",
      "Index([put-down.0, pick-up.0, stack.0, unstack.0], dtype='object')\n",
      "sort0-AP array [learned]: [0 0 1 0 1 0 0 0 0 1 0 1 0 1 0 0]\n",
      "sort0-AP array [ground ]: [0 1 0 0 0 0 1 0 0 1 0 1 1 0 0 0]\n",
      "Index([put-down.1, pick-up.1, stack.1, stack.2, unstack.1, unstack.2], dtype='object')\n",
      "Index([put-down.1, pick-up.1, stack.1, stack.2, unstack.1, unstack.2], dtype='object')\n",
      "sort1-AP array [learned]: [0 0 0 1 0 0 1 0 0 0 0 0 0 1 0 0 1 0 0 0 0 0 0 1 0 1 0 0 0 0 0 0 0 0 0 0]\n",
      "sort1-AP array [ground ]: [0 1 0 0 0 0 0 0 1 0 0 0 0 0 0 1 1 0 0 0 0 0 0 1 1 0 0 0 0 0 0 0 0 0 0 0]\n",
      "blocksworld-0[random, avg-len5.0]\n",
      "\t runtime: 0, f1_score: 0.3666666666666667, e: 0.8333333333333333, e_gt: 1.0\n"
     ]
    },
    {
     "name": "stderr",
     "output_type": "stream",
     "text": [
      "/home/uto/anu/codes/xLOCM/src/extract/polocm.py:1149: FutureWarning: Setting an item of incompatible dtype is deprecated and will raise an error in a future version of pandas. Value 'hole' has dtype incompatible with int64, please explicitly cast to a compatible dtype first.\n",
      "  df1.iloc[idx2,col] = 'hole'\n"
     ]
    }
   ],
   "source": [
    "import experiment\n",
    "seed = 6\n",
    "experiment.experiment(\"test\", [0.1,0.2,0.3,0.4,0.5, 0.6,0.7,0.8,0.9], 'flex', seed, verbose=True)"
   ]
  },
  {
   "cell_type": "code",
   "execution_count": 3,
   "metadata": {},
   "outputs": [],
   "source": [
    "# pick-up [x0 (sort0), x1 (sort1)]\n",
    "# F0S0state0 [0]\n",
    "# F1S1state2 [1, 2]\n"
   ]
  }
 ],
 "metadata": {
  "kernelspec": {
   "display_name": "base",
   "language": "python",
   "name": "python3"
  },
  "language_info": {
   "codemirror_mode": {
    "name": "ipython",
    "version": 3
   },
   "file_extension": ".py",
   "mimetype": "text/x-python",
   "name": "python",
   "nbconvert_exporter": "python",
   "pygments_lexer": "ipython3",
   "version": "3.12.2"
  }
 },
 "nbformat": 4,
 "nbformat_minor": 2
}
