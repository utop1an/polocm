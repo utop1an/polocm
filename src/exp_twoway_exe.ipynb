{
 "cells": [
  {
   "cell_type": "code",
   "execution_count": 1,
   "metadata": {},
   "outputs": [],
   "source": [
    "import json\n",
    "import pandas as pd\n",
    "from traces import *\n",
    "from observation import *\n",
    "from os import read\n",
    "from extract.model import Model\n",
    "import os\n",
    "from planner import PseudoPlanner\n"
   ]
  },
  {
   "cell_type": "code",
   "execution_count": 2,
   "metadata": {},
   "outputs": [],
   "source": [
    "\n",
    "def read_json_file(read_only):\n",
    "    json_file_path = \"../data/traces_plan_r1_no_obj_lim.json\"\n",
    "    with open(json_file_path, 'r') as file:\n",
    "        data = json.load(file)\n",
    "        return data"
   ]
  },
  {
   "cell_type": "code",
   "execution_count": 9,
   "metadata": {},
   "outputs": [],
   "source": []
  },
  {
   "cell_type": "code",
   "execution_count": 3,
   "metadata": {},
   "outputs": [],
   "source": [
    "\n",
    "\n",
    "\n",
    "def run_single_experiment(learning_obj,dir, debug):\n",
    "    res = []\n",
    "    domain = learning_obj['domain']\n",
    "    raw_traces = learning_obj['traces']\n",
    "    lo_id = learning_obj['id']\n",
    "    traces = []\n",
    "    for raw_trace in raw_traces:\n",
    "        steps = []\n",
    "        for i, raw_step in enumerate(raw_trace):\n",
    "            action_name = raw_step['action']\n",
    "            obj_names = raw_step['objs']\n",
    "            objs = []\n",
    "            for obj in obj_names:\n",
    "                obj_name, obj_type = obj.split(\"?\")\n",
    "                objs.append(PlanningObject(obj_type, obj_name))\n",
    "            action = Action(action_name, objs)\n",
    "            step = Step(State(), action, i)\n",
    "            steps.append(step)\n",
    "        trace = Trace(steps)\n",
    "        traces.append(trace)\n",
    "\n",
    "    tracelist = TraceList(traces)\n",
    "    obs_tracelist = tracelist.tokenize(ActionObservation, ObservedTraceList)\n",
    "    \n",
    "    # dods = [0, 0.1,0.2,0.3,0.4,0.5, 0.6,0.7,0.8,0.9,1]\n",
    "    dods = [0.1]\n",
    "    for dod in dods:\n",
    "        if (dod == 0):\n",
    "            dod_str = \"0.0\"\n",
    "        elif (dod == 1):\n",
    "            dod_str = \"1.0\"\n",
    "        else:\n",
    "            dod_str = str(dod)\n",
    "        domain_filename = dir + domain + \"_0_\" + str(lo_id) + \"_dod\" + dod_str + \".pddl\"\n",
    "        if not os.path.exists(domain_filename):\n",
    "            print(\"File {0} does not exist\".format(domain_filename))\n",
    "            res.append([lo_id, dod, domain, -1, -1])\n",
    "            continue\n",
    "        gt_domain_filename = \"../data/goose-benchmarks/tasks/{0}/domain.pddl\".format(domain)\n",
    "        try:\n",
    "            pp = PseudoPlanner(domain_filename, 'twoway', gt_domain_filename)\n",
    "            e1s = []\n",
    "            e2s = []\n",
    "            for trace in obs_tracelist:\n",
    "                actions = [step.action for step in trace]\n",
    "                e1, e2 = pp.check_executability(actions, debug)\n",
    "                e1s.append(e1)\n",
    "                e2s.append(e2)\n",
    "            exe1 = sum(e1s)/len(e1s)\n",
    "            exe2 =  sum(e2s)/len(e2s)\n",
    "            res.append([lo_id, dod, domain, exe1, exe2])\n",
    "        except Exception as e:\n",
    "            print(\"Error in domain {0} with dod {1}: {2}\".format(domain, dod, e))\n",
    "            res.append([lo_id, dod, domain, -1, -1])\n",
    "    \n",
    "    return res\n"
   ]
  },
  {
   "cell_type": "code",
   "execution_count": 4,
   "metadata": {},
   "outputs": [],
   "source": [
    "read_only = \"satellite\"\n",
    "# read_only = None\n",
    "data = read_json_file(read_only)\n",
    "methods = [\"polocm\", \"baseline\"]\n",
    "res = []\n",
    "# for method in methods:\n",
    "#     dir =  \"../experiments/{m}/pddl/\".format(m=method)\n",
    "#     for lo in data:\n",
    "#         lo_res = run_single_experiment(lo,dir, None)\n",
    "#         res.extend(lo_res)\n",
    "# headers = ['lo_id', 'dod', 'domain', 'exe1', 'exe2']\n",
    "# df = pd.DataFrame(res, columns=headers)\n",
    "# df.to_csv(\"../experiments/twoway_exe.csv\", index=False)\n",
    "\n",
    "\n"
   ]
  },
  {
   "cell_type": "code",
   "execution_count": 5,
   "metadata": {},
   "outputs": [
    {
     "name": "stdout",
     "output_type": "stream",
     "text": [
      "defaultdict(<class 'set'>, {'s0': {'zero'}, 's2': {'robot1'}, 's4': {'tile_0_5'}, 's1': {'tile_2_6', 'tile_4_6', 'tile_0_6', 'tile_1_6', 'tile_3_6'}, 's3': {'black', 'white'}})\n",
      "number of grounded actions: 109\n",
      "Grounded actions: [<PropositionalAction '(paint_up zero robot1 tile_2_6 tile_2_6 black)' at 0x7af466df6000>, <PropositionalAction '(paint_up zero robot1 tile_2_6 tile_2_6 white)' at 0x7af466c592e0>, <PropositionalAction '(paint_up zero robot1 tile_2_6 tile_4_6 black)' at 0x7af466c5abd0>, <PropositionalAction '(paint_up zero robot1 tile_2_6 tile_4_6 white)' at 0x7af466c5be90>, <PropositionalAction '(paint_up zero robot1 tile_2_6 tile_0_6 black)' at 0x7af466c61220>, <PropositionalAction '(paint_up zero robot1 tile_2_6 tile_0_6 white)' at 0x7af466c7cdd0>, <PropositionalAction '(paint_up zero robot1 tile_2_6 tile_1_6 black)' at 0x7af466c7d550>, <PropositionalAction '(paint_up zero robot1 tile_2_6 tile_1_6 white)' at 0x7af466c7de80>, <PropositionalAction '(paint_up zero robot1 tile_2_6 tile_3_6 black)' at 0x7af466c7e7b0>, <PropositionalAction '(paint_up zero robot1 tile_2_6 tile_3_6 white)' at 0x7af466c7f0e0>, <PropositionalAction '(paint_up zero robot1 tile_4_6 tile_2_6 black)' at 0x7af466c7fa10>, <PropositionalAction '(paint_up zero robot1 tile_4_6 tile_2_6 white)' at 0x7af466c90350>, <PropositionalAction '(paint_up zero robot1 tile_4_6 tile_4_6 black)' at 0x7af466c90c20>, <PropositionalAction '(paint_up zero robot1 tile_4_6 tile_4_6 white)' at 0x7af466c91460>, <PropositionalAction '(paint_up zero robot1 tile_4_6 tile_0_6 black)' at 0x7af466c91d30>, <PropositionalAction '(paint_up zero robot1 tile_4_6 tile_0_6 white)' at 0x7af466c925d0>, <PropositionalAction '(paint_up zero robot1 tile_4_6 tile_1_6 black)' at 0x7af466c92e40>, <PropositionalAction '(paint_up zero robot1 tile_4_6 tile_1_6 white)' at 0x7af466c93710>, <PropositionalAction '(paint_up zero robot1 tile_4_6 tile_3_6 black)' at 0x7af466c93fb0>, <PropositionalAction '(paint_up zero robot1 tile_4_6 tile_3_6 white)' at 0x7af466c98950>, <PropositionalAction '(paint_up zero robot1 tile_0_6 tile_2_6 black)' at 0x7af466c99250>, <PropositionalAction '(paint_up zero robot1 tile_0_6 tile_2_6 white)' at 0x7af466c99b50>, <PropositionalAction '(paint_up zero robot1 tile_0_6 tile_4_6 black)' at 0x7af466c9a420>, <PropositionalAction '(paint_up zero robot1 tile_0_6 tile_4_6 white)' at 0x7af466c9acf0>, <PropositionalAction '(paint_up zero robot1 tile_0_6 tile_0_6 black)' at 0x7af466c9b5f0>, <PropositionalAction '(paint_up zero robot1 tile_0_6 tile_0_6 white)' at 0x7af466c9bf20>, <PropositionalAction '(paint_up zero robot1 tile_0_6 tile_1_6 black)' at 0x7af466ca87d0>, <PropositionalAction '(paint_up zero robot1 tile_0_6 tile_1_6 white)' at 0x7af466ca9010>, <PropositionalAction '(paint_up zero robot1 tile_0_6 tile_3_6 black)' at 0x7af466ca9910>, <PropositionalAction '(paint_up zero robot1 tile_0_6 tile_3_6 white)' at 0x7af466caa210>, <PropositionalAction '(paint_up zero robot1 tile_1_6 tile_2_6 black)' at 0x7af466caab10>, <PropositionalAction '(paint_up zero robot1 tile_1_6 tile_2_6 white)' at 0x7af466cab440>, <PropositionalAction '(paint_up zero robot1 tile_1_6 tile_4_6 black)' at 0x7af466cabd70>, <PropositionalAction '(paint_up zero robot1 tile_1_6 tile_4_6 white)' at 0x7af466cb86b0>, <PropositionalAction '(paint_up zero robot1 tile_1_6 tile_0_6 black)' at 0x7af466cb8fb0>, <PropositionalAction '(paint_up zero robot1 tile_1_6 tile_0_6 white)' at 0x7af466cb9880>, <PropositionalAction '(paint_up zero robot1 tile_1_6 tile_1_6 black)' at 0x7af466cba150>, <PropositionalAction '(paint_up zero robot1 tile_1_6 tile_1_6 white)' at 0x7af466cbaa50>, <PropositionalAction '(paint_up zero robot1 tile_1_6 tile_3_6 black)' at 0x7af466cbb350>, <PropositionalAction '(paint_up zero robot1 tile_1_6 tile_3_6 white)' at 0x7af466cbbc50>, <PropositionalAction '(paint_up zero robot1 tile_3_6 tile_2_6 black)' at 0x7af466cc4590>, <PropositionalAction '(paint_up zero robot1 tile_3_6 tile_2_6 white)' at 0x7af466cc4ec0>, <PropositionalAction '(paint_up zero robot1 tile_3_6 tile_4_6 black)' at 0x7af466cc57f0>, <PropositionalAction '(paint_up zero robot1 tile_3_6 tile_4_6 white)' at 0x7af466cc60f0>, <PropositionalAction '(paint_up zero robot1 tile_3_6 tile_0_6 black)' at 0x7af466cc69f0>, <PropositionalAction '(paint_up zero robot1 tile_3_6 tile_0_6 white)' at 0x7af466cc7230>, <PropositionalAction '(paint_up zero robot1 tile_3_6 tile_1_6 black)' at 0x7af466cc7ad0>, <PropositionalAction '(paint_up zero robot1 tile_3_6 tile_1_6 white)' at 0x7af466cd83e0>, <PropositionalAction '(paint_up zero robot1 tile_3_6 tile_3_6 black)' at 0x7af466cd8c80>, <PropositionalAction '(paint_up zero robot1 tile_3_6 tile_3_6 white)' at 0x7af466cd94c0>, <PropositionalAction '(move_up zero robot1 tile_2_6 tile_2_6)' at 0x7af466cd9d90>, <PropositionalAction '(move_up zero robot1 tile_2_6 tile_4_6)' at 0x7af466cda480>, <PropositionalAction '(move_up zero robot1 tile_2_6 tile_0_6)' at 0x7af466cdaa50>, <PropositionalAction '(move_up zero robot1 tile_2_6 tile_1_6)' at 0x7af466cdb0b0>, <PropositionalAction '(move_up zero robot1 tile_2_6 tile_3_6)' at 0x7af466cdb740>, <PropositionalAction '(move_up zero robot1 tile_4_6 tile_2_6)' at 0x7af466cdbdd0>, <PropositionalAction '(move_up zero robot1 tile_4_6 tile_4_6)' at 0x7af466ce8440>, <PropositionalAction '(move_up zero robot1 tile_4_6 tile_0_6)' at 0x7af466ce8a70>, <PropositionalAction '(move_up zero robot1 tile_4_6 tile_1_6)' at 0x7af466ce9010>, <PropositionalAction '(move_up zero robot1 tile_4_6 tile_3_6)' at 0x7af466ce9610>, <PropositionalAction '(move_up zero robot1 tile_0_6 tile_2_6)' at 0x7af466ce9c40>, <PropositionalAction '(move_up zero robot1 tile_0_6 tile_4_6)' at 0x7af466cea240>, <PropositionalAction '(move_up zero robot1 tile_0_6 tile_0_6)' at 0x7af466cea8a0>, <PropositionalAction '(move_up zero robot1 tile_0_6 tile_1_6)' at 0x7af466ceaf00>, <PropositionalAction '(move_up zero robot1 tile_0_6 tile_3_6)' at 0x7af466ceb470>, <PropositionalAction '(move_up zero robot1 tile_1_6 tile_2_6)' at 0x7af466cebaa0>, <PropositionalAction '(move_up zero robot1 tile_1_6 tile_4_6)' at 0x7af466cfc0e0>, <PropositionalAction '(move_up zero robot1 tile_1_6 tile_0_6)' at 0x7af466cfc710>, <PropositionalAction '(move_up zero robot1 tile_1_6 tile_1_6)' at 0x7af466cfcd10>, <PropositionalAction '(move_up zero robot1 tile_1_6 tile_3_6)' at 0x7af466cfd310>, <PropositionalAction '(move_up zero robot1 tile_3_6 tile_2_6)' at 0x7af466cfd850>, <PropositionalAction '(move_up zero robot1 tile_3_6 tile_4_6)' at 0x7af466cfde50>, <PropositionalAction '(move_up zero robot1 tile_3_6 tile_0_6)' at 0x7af466cfe480>, <PropositionalAction '(move_up zero robot1 tile_3_6 tile_1_6)' at 0x7af466cfeb10>, <PropositionalAction '(move_up zero robot1 tile_3_6 tile_3_6)' at 0x7af466cff0e0>, <PropositionalAction '(change_color zero robot1 black black)' at 0x7af466cff710>, <PropositionalAction '(change_color zero robot1 black white)' at 0x7af466cffa40>, <PropositionalAction '(change_color zero robot1 white black)' at 0x7af466cffcb0>, <PropositionalAction '(change_color zero robot1 white white)' at 0x7af466cfff80>, <PropositionalAction '(move_down zero robot1 tile_2_6 tile_2_6)' at 0x7af46df0c2c0>, <PropositionalAction '(move_down zero robot1 tile_2_6 tile_4_6)' at 0x7af46df0c7d0>, <PropositionalAction '(move_down zero robot1 tile_2_6 tile_0_6)' at 0x7af46df0cec0>, <PropositionalAction '(move_down zero robot1 tile_2_6 tile_1_6)' at 0x7af46df0d5e0>, <PropositionalAction '(move_down zero robot1 tile_2_6 tile_3_6)' at 0x7af46df0dca0>, <PropositionalAction '(move_down zero robot1 tile_4_6 tile_2_6)' at 0x7af46df0e390>, <PropositionalAction '(move_down zero robot1 tile_4_6 tile_4_6)' at 0x7af46df0ea50>, <PropositionalAction '(move_down zero robot1 tile_4_6 tile_0_6)' at 0x7af46df0f0b0>, <PropositionalAction '(move_down zero robot1 tile_4_6 tile_1_6)' at 0x7af46df0f740>, <PropositionalAction '(move_down zero robot1 tile_4_6 tile_3_6)' at 0x7af46df0fe00>, <PropositionalAction '(move_down zero robot1 tile_0_6 tile_2_6)' at 0x7af46df204d0>, <PropositionalAction '(move_down zero robot1 tile_0_6 tile_4_6)' at 0x7af46df20bc0>, <PropositionalAction '(move_down zero robot1 tile_0_6 tile_0_6)' at 0x7af46df211f0>, <PropositionalAction '(move_down zero robot1 tile_0_6 tile_1_6)' at 0x7af46df21880>, <PropositionalAction '(move_down zero robot1 tile_0_6 tile_3_6)' at 0x7af46df21ee0>, <PropositionalAction '(move_down zero robot1 tile_1_6 tile_2_6)' at 0x7af46df22570>, <PropositionalAction '(move_down zero robot1 tile_1_6 tile_4_6)' at 0x7af46df22c00>, <PropositionalAction '(move_down zero robot1 tile_1_6 tile_0_6)' at 0x7af46df232f0>, <PropositionalAction '(move_down zero robot1 tile_1_6 tile_1_6)' at 0x7af46df23920>, <PropositionalAction '(move_down zero robot1 tile_1_6 tile_3_6)' at 0x7af46df30050>, <PropositionalAction '(move_down zero robot1 tile_3_6 tile_2_6)' at 0x7af46df30770>, <PropositionalAction '(move_down zero robot1 tile_3_6 tile_4_6)' at 0x7af46df30e00>, <PropositionalAction '(move_down zero robot1 tile_3_6 tile_0_6)' at 0x7af46df314f0>, <PropositionalAction '(move_down zero robot1 tile_3_6 tile_1_6)' at 0x7af46df31c10>, <PropositionalAction '(move_down zero robot1 tile_3_6 tile_3_6)' at 0x7af46df32240>, <PropositionalAction '(move_right zero robot1 tile_0_5 tile_2_6)' at 0x7af46df329c0>, <PropositionalAction '(move_right zero robot1 tile_0_5 tile_4_6)' at 0x7af46df33260>, <PropositionalAction '(move_right zero robot1 tile_0_5 tile_0_6)' at 0x7af46df33d10>, <PropositionalAction '(move_right zero robot1 tile_0_5 tile_1_6)' at 0x7af46df3c830>, <PropositionalAction '(move_right zero robot1 tile_0_5 tile_3_6)' at 0x7af46df3d2e0>]\n",
      "New action sequence: [<PropositionalAction '(move_down zero robot1 tile_2_6 tile_0_6)' at 0x7af46df0cec0>, <PropositionalAction '(move_down zero robot1 tile_0_6 tile_4_6)' at 0x7af46df20bc0>, <PropositionalAction '(move_down zero robot1 tile_1_6 tile_1_6)' at 0x7af46df23920>]\n",
      "[move_down na robot1 na tile_2_6 na tile_0_6, move_down na robot1 na tile_0_6 na tile_4_6, move_down na robot1 na tile_1_6 na tile_1_6]\n",
      "<Action 'move_down' at 0x7af466c93230>\n",
      "['?r', '?x', '?y']\n",
      "['robot', 'tile', 'tile']\n",
      "['robot1', 'tile_2_6', 'tile_0_6']\n",
      "{'?r': 'robot1', '?x': 'tile_2_6', '?y': 'tile_0_6'}\n",
      "{'robot1': 'robot', 'tile_2_6': 'tile', 'tile_0_6': 'tile'}\n",
      "instantiating...\n",
      "op instantiate complete <PropositionalAction '(move_down robot1 tile_2_6 tile_0_6)' at 0x7af466df43e0>\n",
      "action <PropositionalAction '(move_down robot1 tile_2_6 tile_0_6)' at 0x7af466df43e0> executed\n",
      "<Action 'move_down' at 0x7af466c93230>\n",
      "['?r', '?x', '?y']\n",
      "['robot', 'tile', 'tile']\n",
      "['robot1', 'tile_0_6', 'tile_4_6']\n",
      "{'?r': 'robot1', '?x': 'tile_0_6', '?y': 'tile_4_6'}\n",
      "{'robot1': 'robot', 'tile_0_6': 'tile', 'tile_4_6': 'tile'}\n",
      "instantiating...\n",
      "op instantiate complete <PropositionalAction '(move_down robot1 tile_0_6 tile_4_6)' at 0x7af466c61340>\n",
      "action <PropositionalAction '(move_down robot1 tile_0_6 tile_4_6)' at 0x7af466c61340> executed\n",
      "<Action 'move_down' at 0x7af466c93230>\n",
      "['?r', '?x', '?y']\n",
      "['robot', 'tile', 'tile']\n",
      "['robot1', 'tile_1_6', 'tile_1_6']\n",
      "{'?r': 'robot1', '?x': 'tile_1_6', '?y': 'tile_1_6'}\n",
      "{'robot1': 'robot', 'tile_1_6': 'tile'}\n",
      "instantiating...\n",
      "op instantiate complete <PropositionalAction '(move_down robot1 tile_1_6 tile_1_6)' at 0x7af466df6000>\n",
      "action <PropositionalAction '(move_down robot1 tile_1_6 tile_1_6)' at 0x7af466df6000> executed\n",
      "[[0, 0.1, 'floortile', 1.0, 1.0]]\n"
     ]
    }
   ],
   "source": [
    "example = data[0]\n",
    "dir =  \"../experiments/baseline/pddl/\"\n",
    "\n",
    "res = run_single_experiment(example,dir, debug= True)\n",
    "print(res)"
   ]
  },
  {
   "cell_type": "code",
   "execution_count": 6,
   "metadata": {},
   "outputs": [],
   "source": [
    "# statics = ['childsnack', 'floortile', 'miconic', 'rovers', 'satellite', 'sokoban', 'spanner', 'transport']\n",
    "# headers = [\"domain\", \"exe\", \"zero_sort_removed\", \"static_conditions\"]\n",
    "# for i,learn_obj in enumerate(data):\n",
    "    \n",
    "#     exe = run_single_experiment(learn_obj, 0.1, None)"
   ]
  }
 ],
 "metadata": {
  "kernelspec": {
   "display_name": "polocm",
   "language": "python",
   "name": "python3"
  },
  "language_info": {
   "codemirror_mode": {
    "name": "ipython",
    "version": 3
   },
   "file_extension": ".py",
   "mimetype": "text/x-python",
   "name": "python",
   "nbconvert_exporter": "python",
   "pygments_lexer": "ipython3",
   "version": "3.12.7"
  }
 },
 "nbformat": 4,
 "nbformat_minor": 2
}
