{
 "cells": [
  {
   "cell_type": "code",
   "execution_count": 11,
   "metadata": {},
   "outputs": [
    {
     "name": "stdout",
     "output_type": "stream",
     "text": [
      "The autoreload extension is already loaded. To reload it, use:\n",
      "  %reload_ext autoreload\n"
     ]
    }
   ],
   "source": [
    "%load_ext autoreload\n",
    "%autoreload 2"
   ]
  },
  {
   "cell_type": "code",
   "execution_count": 12,
   "metadata": {},
   "outputs": [
    {
     "name": "stdout",
     "output_type": "stream",
     "text": [
      "Generating traces for: \n",
      "\tDomain: elevators-opt08-strips/p01-domain, Problem: elevators-opt08-strips/p01\n"
     ]
    },
    {
     "name": "stderr",
     "output_type": "stream",
     "text": [
      "100%|██████████| 1/1 [00:00<00:00, 31.35it/s]\n",
      "100%|██████████| 1/1 [00:00<00:00, 33.38it/s]\n",
      "100%|██████████| 1/1 [00:00<00:00, 15.36it/s]\n",
      "100%|██████████| 1/1 [00:00<00:00, 15.54it/s]\n",
      "100%|██████████| 1/1 [00:00<00:00,  6.60it/s]\n",
      "100%|██████████| 1/1 [00:00<00:00,  6.71it/s]\n",
      "100%|██████████| 1/1 [00:00<00:00,  2.85it/s]\n",
      "100%|██████████| 1/1 [00:00<00:00,  3.42it/s]\n"
     ]
    },
    {
     "name": "stdout",
     "output_type": "stream",
     "text": [
      "Generating traces for: \n",
      "\tDomain: elevators-opt08-strips/p02-domain, Problem: elevators-opt08-strips/p02\n"
     ]
    },
    {
     "name": "stderr",
     "output_type": "stream",
     "text": [
      "100%|██████████| 1/1 [00:00<00:00,  9.09it/s]\n",
      "100%|██████████| 1/1 [00:00<00:00, 22.72it/s]\n",
      "100%|██████████| 1/1 [00:00<00:00, 13.02it/s]\n",
      "100%|██████████| 1/1 [00:00<00:00, 13.05it/s]\n",
      "100%|██████████| 1/1 [00:00<00:00,  5.65it/s]\n",
      "100%|██████████| 1/1 [00:00<00:00,  5.69it/s]\n",
      "100%|██████████| 1/1 [00:00<00:00,  2.24it/s]\n",
      "100%|██████████| 1/1 [00:00<00:00,  2.74it/s]\n"
     ]
    },
    {
     "name": "stdout",
     "output_type": "stream",
     "text": [
      "Generating traces for: \n",
      "\tDomain: elevators-opt08-strips/p03-domain, Problem: elevators-opt08-strips/p03\n"
     ]
    },
    {
     "name": "stderr",
     "output_type": "stream",
     "text": [
      "100%|██████████| 1/1 [00:00<00:00, 11.10it/s]\n",
      "100%|██████████| 1/1 [00:00<00:00, 32.35it/s]\n",
      "100%|██████████| 1/1 [00:00<00:00, 15.27it/s]\n",
      "100%|██████████| 1/1 [00:00<00:00, 15.97it/s]\n",
      "100%|██████████| 1/1 [00:00<00:00,  6.25it/s]\n",
      "100%|██████████| 1/1 [00:00<00:00,  6.04it/s]\n",
      "100%|██████████| 1/1 [00:00<00:00,  2.36it/s]\n",
      "100%|██████████| 1/1 [00:00<00:00,  2.97it/s]\n"
     ]
    },
    {
     "name": "stdout",
     "output_type": "stream",
     "text": [
      "Generating traces for: \n",
      "\tDomain: elevators-opt08-strips/p04-domain, Problem: elevators-opt08-strips/p04\n"
     ]
    },
    {
     "name": "stderr",
     "output_type": "stream",
     "text": [
      "100%|██████████| 1/1 [00:00<00:00, 19.30it/s]\n",
      "100%|██████████| 1/1 [00:00<00:00, 20.28it/s]\n",
      "100%|██████████| 1/1 [00:00<00:00, 11.31it/s]\n",
      "100%|██████████| 1/1 [00:00<00:00, 10.79it/s]\n",
      "100%|██████████| 1/1 [00:00<00:00,  4.84it/s]\n",
      "100%|██████████| 1/1 [00:00<00:00,  4.88it/s]\n",
      "100%|██████████| 1/1 [00:00<00:00,  2.39it/s]\n",
      "100%|██████████| 1/1 [00:00<00:00,  2.46it/s]\n"
     ]
    },
    {
     "name": "stdout",
     "output_type": "stream",
     "text": [
      "Generating traces for: \n",
      "\tDomain: elevators-opt08-strips/p05-domain, Problem: elevators-opt08-strips/p05\n"
     ]
    },
    {
     "name": "stderr",
     "output_type": "stream",
     "text": [
      "100%|██████████| 1/1 [00:00<00:00, 24.70it/s]\n",
      "100%|██████████| 1/1 [00:00<00:00, 28.00it/s]\n",
      "100%|██████████| 1/1 [00:00<00:00,  6.22it/s]\n",
      "100%|██████████| 1/1 [00:00<00:00, 11.17it/s]\n",
      "100%|██████████| 1/1 [00:00<00:00,  5.02it/s]\n",
      "100%|██████████| 1/1 [00:00<00:00,  5.17it/s]\n",
      "100%|██████████| 1/1 [00:00<00:00,  2.73it/s]\n",
      "100%|██████████| 1/1 [00:00<00:00,  2.81it/s]\n"
     ]
    },
    {
     "name": "stdout",
     "output_type": "stream",
     "text": [
      "Generating traces for: \n",
      "\tDomain: elevators-opt08-strips/p06-domain, Problem: elevators-opt08-strips/p06\n"
     ]
    },
    {
     "name": "stderr",
     "output_type": "stream",
     "text": [
      "100%|██████████| 1/1 [00:00<00:00, 21.73it/s]\n",
      "100%|██████████| 1/1 [00:00<00:00, 22.94it/s]\n",
      "100%|██████████| 1/1 [00:00<00:00, 11.14it/s]\n",
      "100%|██████████| 1/1 [00:00<00:00, 11.46it/s]\n",
      "100%|██████████| 1/1 [00:00<00:00,  4.39it/s]\n",
      "100%|██████████| 1/1 [00:00<00:00,  4.51it/s]\n",
      "100%|██████████| 1/1 [00:00<00:00,  1.94it/s]\n",
      "100%|██████████| 1/1 [00:00<00:00,  2.24it/s]\n"
     ]
    },
    {
     "name": "stdout",
     "output_type": "stream",
     "text": [
      "Generating traces for: \n",
      "\tDomain: elevators-opt08-strips/p07-domain, Problem: elevators-opt08-strips/p07\n"
     ]
    },
    {
     "name": "stderr",
     "output_type": "stream",
     "text": [
      "100%|██████████| 1/1 [00:00<00:00,  9.43it/s]\n",
      "100%|██████████| 1/1 [00:00<00:00, 25.23it/s]\n",
      "100%|██████████| 1/1 [00:00<00:00, 12.49it/s]\n",
      "100%|██████████| 1/1 [00:00<00:00, 11.28it/s]\n",
      "100%|██████████| 1/1 [00:00<00:00,  5.03it/s]\n",
      "100%|██████████| 1/1 [00:00<00:00,  5.16it/s]\n",
      "100%|██████████| 1/1 [00:00<00:00,  2.54it/s]\n",
      "100%|██████████| 1/1 [00:00<00:00,  2.53it/s]\n"
     ]
    },
    {
     "name": "stdout",
     "output_type": "stream",
     "text": [
      "Generating traces for: \n",
      "\tDomain: elevators-opt08-strips/p08-domain, Problem: elevators-opt08-strips/p08\n"
     ]
    },
    {
     "name": "stderr",
     "output_type": "stream",
     "text": [
      "100%|██████████| 1/1 [00:00<00:00, 20.10it/s]\n",
      "100%|██████████| 1/1 [00:00<00:00, 21.10it/s]\n",
      "100%|██████████| 1/1 [00:00<00:00,  9.67it/s]\n",
      "100%|██████████| 1/1 [00:00<00:00, 10.07it/s]\n",
      "100%|██████████| 1/1 [00:00<00:00,  3.83it/s]\n",
      "100%|██████████| 1/1 [00:00<00:00,  3.90it/s]\n",
      "100%|██████████| 1/1 [00:00<00:00,  1.95it/s]\n",
      "100%|██████████| 1/1 [00:00<00:00,  1.90it/s]\n"
     ]
    },
    {
     "name": "stdout",
     "output_type": "stream",
     "text": [
      "Generating traces for: \n",
      "\tDomain: elevators-opt08-strips/p09-domain, Problem: elevators-opt08-strips/p09\n"
     ]
    },
    {
     "name": "stderr",
     "output_type": "stream",
     "text": [
      "100%|██████████| 1/1 [00:00<00:00, 23.65it/s]\n",
      "100%|██████████| 1/1 [00:00<00:00, 24.60it/s]\n",
      "100%|██████████| 1/1 [00:00<00:00, 11.55it/s]\n",
      "100%|██████████| 1/1 [00:00<00:00, 11.91it/s]\n",
      "100%|██████████| 1/1 [00:00<00:00,  4.45it/s]\n",
      "100%|██████████| 1/1 [00:00<00:00,  3.88it/s]\n",
      "100%|██████████| 1/1 [00:00<00:00,  2.25it/s]\n",
      "100%|██████████| 1/1 [00:00<00:00,  2.06it/s]\n"
     ]
    },
    {
     "name": "stdout",
     "output_type": "stream",
     "text": [
      "Generating traces for: \n",
      "\tDomain: elevators-opt08-strips/p10-domain, Problem: elevators-opt08-strips/p10\n"
     ]
    },
    {
     "name": "stderr",
     "output_type": "stream",
     "text": [
      "100%|██████████| 1/1 [00:00<00:00, 17.90it/s]\n",
      "100%|██████████| 1/1 [00:00<00:00, 17.94it/s]\n",
      "100%|██████████| 1/1 [00:00<00:00,  8.93it/s]\n",
      "100%|██████████| 1/1 [00:00<00:00,  5.81it/s]\n",
      "100%|██████████| 1/1 [00:00<00:00,  3.53it/s]\n",
      "100%|██████████| 1/1 [00:00<00:00,  2.94it/s]\n",
      "100%|██████████| 1/1 [00:00<00:00,  1.62it/s]\n",
      "100%|██████████| 1/1 [00:00<00:00,  1.79it/s]\n"
     ]
    },
    {
     "name": "stdout",
     "output_type": "stream",
     "text": [
      "Generating traces for: \n",
      "\tDomain: elevators-opt08-strips/p11-domain, Problem: elevators-opt08-strips/p11\n"
     ]
    },
    {
     "name": "stderr",
     "output_type": "stream",
     "text": [
      "100%|██████████| 1/1 [00:00<00:00, 21.44it/s]\n",
      "100%|██████████| 1/1 [00:00<00:00, 25.67it/s]\n",
      "100%|██████████| 1/1 [00:00<00:00, 10.51it/s]\n",
      "100%|██████████| 1/1 [00:00<00:00, 12.59it/s]\n",
      "100%|██████████| 1/1 [00:00<00:00,  4.11it/s]\n",
      "100%|██████████| 1/1 [00:00<00:00,  4.98it/s]\n",
      "100%|██████████| 1/1 [00:00<00:00,  2.22it/s]\n",
      "100%|██████████| 1/1 [00:00<00:00,  2.42it/s]\n"
     ]
    },
    {
     "name": "stdout",
     "output_type": "stream",
     "text": [
      "Generating traces for: \n",
      "\tDomain: elevators-opt08-strips/p12-domain, Problem: elevators-opt08-strips/p12\n"
     ]
    },
    {
     "name": "stderr",
     "output_type": "stream",
     "text": [
      "100%|██████████| 1/1 [00:00<00:00, 21.01it/s]\n",
      "100%|██████████| 1/1 [00:00<00:00, 21.96it/s]\n",
      "100%|██████████| 1/1 [00:00<00:00, 11.03it/s]\n",
      "100%|██████████| 1/1 [00:00<00:00,  6.85it/s]\n",
      "100%|██████████| 1/1 [00:00<00:00,  4.32it/s]\n",
      "100%|██████████| 1/1 [00:00<00:00,  4.12it/s]\n",
      "100%|██████████| 1/1 [00:00<00:00,  1.95it/s]\n",
      "100%|██████████| 1/1 [00:00<00:00,  2.16it/s]\n"
     ]
    },
    {
     "name": "stdout",
     "output_type": "stream",
     "text": [
      "Generating traces for: \n",
      "\tDomain: elevators-opt08-strips/p13-domain, Problem: elevators-opt08-strips/p13\n"
     ]
    },
    {
     "name": "stderr",
     "output_type": "stream",
     "text": [
      "100%|██████████| 1/1 [00:00<00:00,  9.85it/s]\n",
      "100%|██████████| 1/1 [00:00<00:00, 23.03it/s]\n",
      "100%|██████████| 1/1 [00:00<00:00, 10.83it/s]\n",
      "100%|██████████| 1/1 [00:00<00:00, 11.28it/s]\n",
      "100%|██████████| 1/1 [00:00<00:00,  4.09it/s]\n",
      "100%|██████████| 1/1 [00:00<00:00,  4.50it/s]\n",
      "100%|██████████| 1/1 [00:00<00:00,  2.26it/s]\n",
      "100%|██████████| 1/1 [00:00<00:00,  2.09it/s]\n"
     ]
    },
    {
     "name": "stdout",
     "output_type": "stream",
     "text": [
      "Generating traces for: \n",
      "\tDomain: elevators-opt08-strips/p14-domain, Problem: elevators-opt08-strips/p14\n"
     ]
    },
    {
     "name": "stderr",
     "output_type": "stream",
     "text": [
      "100%|██████████| 1/1 [00:00<00:00, 18.96it/s]\n",
      "100%|██████████| 1/1 [00:00<00:00, 19.10it/s]\n",
      "100%|██████████| 1/1 [00:00<00:00,  9.05it/s]\n",
      "100%|██████████| 1/1 [00:00<00:00,  9.19it/s]\n",
      "100%|██████████| 1/1 [00:00<00:00,  3.68it/s]\n",
      "100%|██████████| 1/1 [00:00<00:00,  3.69it/s]\n",
      "100%|██████████| 1/1 [00:00<00:00,  1.73it/s]\n",
      "100%|██████████| 1/1 [00:00<00:00,  1.86it/s]\n"
     ]
    },
    {
     "name": "stdout",
     "output_type": "stream",
     "text": [
      "Generating traces for: \n",
      "\tDomain: elevators-opt08-strips/p15-domain, Problem: elevators-opt08-strips/p15\n"
     ]
    },
    {
     "name": "stderr",
     "output_type": "stream",
     "text": [
      "100%|██████████| 1/1 [00:00<00:00, 20.72it/s]\n",
      "100%|██████████| 1/1 [00:00<00:00, 21.39it/s]\n",
      "100%|██████████| 1/1 [00:00<00:00, 10.18it/s]\n",
      "100%|██████████| 1/1 [00:00<00:00, 10.35it/s]\n",
      "100%|██████████| 1/1 [00:00<00:00,  4.09it/s]\n",
      "100%|██████████| 1/1 [00:00<00:00,  4.06it/s]\n",
      "100%|██████████| 1/1 [00:00<00:00,  1.74it/s]\n",
      "100%|██████████| 1/1 [00:00<00:00,  2.03it/s]\n"
     ]
    },
    {
     "name": "stdout",
     "output_type": "stream",
     "text": [
      "Generating traces for: \n",
      "\tDomain: elevators-opt08-strips/p16-domain, Problem: elevators-opt08-strips/p16\n"
     ]
    },
    {
     "name": "stderr",
     "output_type": "stream",
     "text": [
      "100%|██████████| 1/1 [00:00<00:00, 16.14it/s]\n",
      "100%|██████████| 1/1 [00:00<00:00, 17.96it/s]\n",
      "100%|██████████| 1/1 [00:00<00:00,  8.58it/s]\n",
      "100%|██████████| 1/1 [00:00<00:00,  8.79it/s]\n",
      "100%|██████████| 1/1 [00:00<00:00,  3.46it/s]\n",
      "100%|██████████| 1/1 [00:00<00:00,  3.49it/s]\n",
      "100%|██████████| 1/1 [00:00<00:00,  1.70it/s]\n",
      "100%|██████████| 1/1 [00:00<00:00,  1.69it/s]\n"
     ]
    },
    {
     "name": "stdout",
     "output_type": "stream",
     "text": [
      "Generating traces for: \n",
      "\tDomain: elevators-opt08-strips/p17-domain, Problem: elevators-opt08-strips/p17\n"
     ]
    },
    {
     "name": "stderr",
     "output_type": "stream",
     "text": [
      "100%|██████████| 1/1 [00:00<00:00, 18.19it/s]\n",
      "100%|██████████| 1/1 [00:00<00:00, 18.64it/s]\n",
      "100%|██████████| 1/1 [00:00<00:00,  9.57it/s]\n",
      "100%|██████████| 1/1 [00:00<00:00,  9.48it/s]\n",
      "100%|██████████| 1/1 [00:00<00:00,  3.07it/s]\n",
      "100%|██████████| 1/1 [00:00<00:00,  3.37it/s]\n",
      "100%|██████████| 1/1 [00:00<00:00,  1.69it/s]\n",
      "100%|██████████| 1/1 [00:00<00:00,  1.89it/s]\n"
     ]
    },
    {
     "name": "stdout",
     "output_type": "stream",
     "text": [
      "Generating traces for: \n",
      "\tDomain: elevators-opt08-strips/p18-domain, Problem: elevators-opt08-strips/p18\n"
     ]
    },
    {
     "name": "stderr",
     "output_type": "stream",
     "text": [
      "100%|██████████| 1/1 [00:00<00:00, 16.14it/s]\n",
      "100%|██████████| 1/1 [00:00<00:00, 16.62it/s]\n",
      "100%|██████████| 1/1 [00:00<00:00,  7.26it/s]\n",
      "100%|██████████| 1/1 [00:00<00:00,  7.91it/s]\n",
      "100%|██████████| 1/1 [00:00<00:00,  3.10it/s]\n",
      "100%|██████████| 1/1 [00:00<00:00,  2.72it/s]\n",
      "100%|██████████| 1/1 [00:00<00:00,  1.43it/s]\n",
      "100%|██████████| 1/1 [00:00<00:00,  1.57it/s]\n"
     ]
    },
    {
     "name": "stdout",
     "output_type": "stream",
     "text": [
      "Generating traces for: \n",
      "\tDomain: elevators-opt08-strips/p19-domain, Problem: elevators-opt08-strips/p19\n"
     ]
    },
    {
     "name": "stderr",
     "output_type": "stream",
     "text": [
      "100%|██████████| 1/1 [00:00<00:00, 17.61it/s]\n",
      "100%|██████████| 1/1 [00:00<00:00, 18.60it/s]\n",
      "100%|██████████| 1/1 [00:00<00:00,  8.90it/s]\n",
      "100%|██████████| 1/1 [00:00<00:00,  8.34it/s]\n",
      "100%|██████████| 1/1 [00:00<00:00,  3.47it/s]\n",
      "100%|██████████| 1/1 [00:00<00:00,  3.37it/s]\n",
      "100%|██████████| 1/1 [00:00<00:00,  1.74it/s]\n",
      "100%|██████████| 1/1 [00:00<00:00,  1.74it/s]\n"
     ]
    },
    {
     "name": "stdout",
     "output_type": "stream",
     "text": [
      "Generating traces for: \n",
      "\tDomain: elevators-opt08-strips/p20-domain, Problem: elevators-opt08-strips/p20\n"
     ]
    },
    {
     "name": "stderr",
     "output_type": "stream",
     "text": [
      "100%|██████████| 1/1 [00:00<00:00, 14.74it/s]\n",
      "100%|██████████| 1/1 [00:00<00:00, 14.85it/s]\n",
      "100%|██████████| 1/1 [00:00<00:00,  5.24it/s]\n",
      "100%|██████████| 1/1 [00:00<00:00,  7.23it/s]\n",
      "100%|██████████| 1/1 [00:00<00:00,  2.82it/s]\n",
      "100%|██████████| 1/1 [00:00<00:00,  2.85it/s]\n",
      "100%|██████████| 1/1 [00:00<00:00,  1.30it/s]\n",
      "100%|██████████| 1/1 [00:00<00:00,  1.43it/s]\n"
     ]
    },
    {
     "name": "stdout",
     "output_type": "stream",
     "text": [
      "Generating traces for: \n",
      "\tDomain: elevators-opt08-strips/p21-domain, Problem: elevators-opt08-strips/p21\n"
     ]
    },
    {
     "name": "stderr",
     "output_type": "stream",
     "text": [
      "100%|██████████| 1/1 [00:00<00:00, 20.41it/s]\n",
      "100%|██████████| 1/1 [00:00<00:00, 21.58it/s]\n",
      "100%|██████████| 1/1 [00:00<00:00, 11.96it/s]\n",
      "100%|██████████| 1/1 [00:00<00:00, 11.59it/s]\n",
      "100%|██████████| 1/1 [00:00<00:00,  4.43it/s]\n",
      "100%|██████████| 1/1 [00:00<00:00,  4.63it/s]\n",
      "100%|██████████| 1/1 [00:00<00:00,  2.34it/s]\n",
      "100%|██████████| 1/1 [00:00<00:00,  2.34it/s]\n"
     ]
    },
    {
     "name": "stdout",
     "output_type": "stream",
     "text": [
      "Generating traces for: \n",
      "\tDomain: elevators-opt08-strips/p22-domain, Problem: elevators-opt08-strips/p22\n"
     ]
    },
    {
     "name": "stderr",
     "output_type": "stream",
     "text": [
      "100%|██████████| 1/1 [00:00<00:00, 17.79it/s]\n",
      "100%|██████████| 1/1 [00:00<00:00, 18.99it/s]\n",
      "100%|██████████| 1/1 [00:00<00:00,  9.59it/s]\n",
      "100%|██████████| 1/1 [00:00<00:00,  9.64it/s]\n",
      "100%|██████████| 1/1 [00:00<00:00,  3.70it/s]\n",
      "100%|██████████| 1/1 [00:00<00:00,  3.63it/s]\n",
      "100%|██████████| 1/1 [00:00<00:00,  1.71it/s]\n",
      "100%|██████████| 1/1 [00:00<00:00,  1.69it/s]\n"
     ]
    },
    {
     "name": "stdout",
     "output_type": "stream",
     "text": [
      "Generating traces for: \n",
      "\tDomain: elevators-opt08-strips/p23-domain, Problem: elevators-opt08-strips/p23\n"
     ]
    },
    {
     "name": "stderr",
     "output_type": "stream",
     "text": [
      "100%|██████████| 1/1 [00:00<00:00, 16.70it/s]\n",
      "100%|██████████| 1/1 [00:00<00:00, 21.72it/s]\n",
      "100%|██████████| 1/1 [00:00<00:00, 10.56it/s]\n",
      "100%|██████████| 1/1 [00:00<00:00, 10.72it/s]\n",
      "100%|██████████| 1/1 [00:00<00:00,  4.11it/s]\n",
      "100%|██████████| 1/1 [00:00<00:00,  4.18it/s]\n",
      "100%|██████████| 1/1 [00:00<00:00,  2.07it/s]\n",
      "100%|██████████| 1/1 [00:00<00:00,  1.88it/s]\n"
     ]
    },
    {
     "name": "stdout",
     "output_type": "stream",
     "text": [
      "Generating traces for: \n",
      "\tDomain: elevators-opt08-strips/p24-domain, Problem: elevators-opt08-strips/p24\n"
     ]
    },
    {
     "name": "stderr",
     "output_type": "stream",
     "text": [
      "100%|██████████| 1/1 [00:00<00:00,  8.77it/s]\n",
      "100%|██████████| 1/1 [00:00<00:00, 17.16it/s]\n",
      "100%|██████████| 1/1 [00:00<00:00,  5.81it/s]\n",
      "100%|██████████| 1/1 [00:00<00:00,  7.46it/s]\n",
      "100%|██████████| 1/1 [00:00<00:00,  2.77it/s]\n",
      "100%|██████████| 1/1 [00:00<00:00,  3.40it/s]\n",
      "100%|██████████| 1/1 [00:00<00:00,  1.68it/s]\n",
      "100%|██████████| 1/1 [00:00<00:00,  1.54it/s]\n"
     ]
    },
    {
     "name": "stdout",
     "output_type": "stream",
     "text": [
      "Generating traces for: \n",
      "\tDomain: elevators-opt08-strips/p25-domain, Problem: elevators-opt08-strips/p25\n"
     ]
    },
    {
     "name": "stderr",
     "output_type": "stream",
     "text": [
      "100%|██████████| 1/1 [00:00<00:00, 18.47it/s]\n",
      "100%|██████████| 1/1 [00:00<00:00, 19.83it/s]\n",
      "100%|██████████| 1/1 [00:00<00:00,  9.39it/s]\n",
      "100%|██████████| 1/1 [00:00<00:00,  9.27it/s]\n",
      "100%|██████████| 1/1 [00:00<00:00,  3.62it/s]\n",
      "100%|██████████| 1/1 [00:00<00:00,  3.61it/s]\n",
      "100%|██████████| 1/1 [00:00<00:00,  1.85it/s]\n",
      "100%|██████████| 1/1 [00:00<00:00,  1.83it/s]\n"
     ]
    },
    {
     "name": "stdout",
     "output_type": "stream",
     "text": [
      "Generating traces for: \n",
      "\tDomain: elevators-opt08-strips/p26-domain, Problem: elevators-opt08-strips/p26\n"
     ]
    },
    {
     "name": "stderr",
     "output_type": "stream",
     "text": [
      "100%|██████████| 1/1 [00:00<00:00, 11.42it/s]\n",
      "100%|██████████| 1/1 [00:00<00:00, 14.56it/s]\n",
      "100%|██████████| 1/1 [00:00<00:00,  5.47it/s]\n",
      "100%|██████████| 1/1 [00:00<00:00,  7.13it/s]\n",
      "100%|██████████| 1/1 [00:00<00:00,  2.44it/s]\n",
      "100%|██████████| 1/1 [00:00<00:00,  2.84it/s]\n",
      "100%|██████████| 1/1 [00:00<00:00,  1.38it/s]\n",
      "100%|██████████| 1/1 [00:00<00:00,  1.48it/s]\n"
     ]
    },
    {
     "name": "stdout",
     "output_type": "stream",
     "text": [
      "Generating traces for: \n",
      "\tDomain: elevators-opt08-strips/p27-domain, Problem: elevators-opt08-strips/p27\n"
     ]
    },
    {
     "name": "stderr",
     "output_type": "stream",
     "text": [
      "100%|██████████| 1/1 [00:00<00:00, 16.67it/s]\n",
      "100%|██████████| 1/1 [00:00<00:00, 17.89it/s]\n",
      "100%|██████████| 1/1 [00:00<00:00,  8.66it/s]\n",
      "100%|██████████| 1/1 [00:00<00:00,  8.58it/s]\n",
      "100%|██████████| 1/1 [00:00<00:00,  3.39it/s]\n",
      "100%|██████████| 1/1 [00:00<00:00,  2.92it/s]\n",
      "100%|██████████| 1/1 [00:00<00:00,  1.55it/s]\n",
      "100%|██████████| 1/1 [00:00<00:00,  1.71it/s]\n"
     ]
    },
    {
     "name": "stdout",
     "output_type": "stream",
     "text": [
      "Generating traces for: \n",
      "\tDomain: elevators-opt08-strips/p28-domain, Problem: elevators-opt08-strips/p28\n"
     ]
    },
    {
     "name": "stderr",
     "output_type": "stream",
     "text": [
      "100%|██████████| 1/1 [00:00<00:00, 13.75it/s]\n",
      "100%|██████████| 1/1 [00:00<00:00, 14.15it/s]\n",
      "100%|██████████| 1/1 [00:00<00:00,  6.70it/s]\n",
      "100%|██████████| 1/1 [00:00<00:00,  4.70it/s]\n",
      "100%|██████████| 1/1 [00:00<00:00,  2.27it/s]\n",
      "100%|██████████| 1/1 [00:00<00:00,  2.69it/s]\n",
      "100%|██████████| 1/1 [00:00<00:00,  1.22it/s]\n",
      "100%|██████████| 1/1 [00:00<00:00,  1.32it/s]\n"
     ]
    },
    {
     "name": "stdout",
     "output_type": "stream",
     "text": [
      "Generating traces for: \n",
      "\tDomain: elevators-opt08-strips/p29-domain, Problem: elevators-opt08-strips/p29\n"
     ]
    },
    {
     "name": "stderr",
     "output_type": "stream",
     "text": [
      "100%|██████████| 1/1 [00:00<00:00, 14.41it/s]\n",
      "100%|██████████| 1/1 [00:00<00:00, 16.80it/s]\n",
      "100%|██████████| 1/1 [00:00<00:00,  7.90it/s]\n",
      "100%|██████████| 1/1 [00:00<00:00,  7.61it/s]\n",
      "100%|██████████| 1/1 [00:00<00:00,  2.66it/s]\n",
      "100%|██████████| 1/1 [00:00<00:00,  3.13it/s]\n",
      "100%|██████████| 1/1 [00:00<00:00,  1.42it/s]\n",
      "100%|██████████| 1/1 [00:00<00:00,  1.52it/s]\n"
     ]
    },
    {
     "name": "stdout",
     "output_type": "stream",
     "text": [
      "Generating traces for: \n",
      "\tDomain: elevators-opt08-strips/p30-domain, Problem: elevators-opt08-strips/p30\n"
     ]
    },
    {
     "name": "stderr",
     "output_type": "stream",
     "text": [
      "100%|██████████| 1/1 [00:00<00:00, 12.43it/s]\n",
      "100%|██████████| 1/1 [00:00<00:00, 13.21it/s]\n",
      "100%|██████████| 1/1 [00:00<00:00,  6.08it/s]\n",
      "100%|██████████| 1/1 [00:00<00:00,  6.27it/s]\n",
      "100%|██████████| 1/1 [00:00<00:00,  2.41it/s]\n",
      "100%|██████████| 1/1 [00:00<00:00,  2.20it/s]\n",
      "100%|██████████| 1/1 [00:00<00:00,  1.18it/s]\n",
      "100%|██████████| 1/1 [00:00<00:00,  1.13it/s]\n"
     ]
    },
    {
     "name": "stdout",
     "output_type": "stream",
     "text": [
      "Generating traces for: \n",
      "\tDomain: tidybot-opt14-strips/domain, Problem: tidybot-opt14-strips/p01\n",
      "Error generating vanilla traces: Duplicate definition of element \"cart\"\n",
      "Error generating vanilla traces: Duplicate definition of element \"cart\"\n",
      "Error generating vanilla traces: Duplicate definition of element \"cart\"\n",
      "Error generating vanilla traces: Duplicate definition of element \"cart\"\n",
      "Generating traces for: \n",
      "\tDomain: tidybot-opt14-strips/domain, Problem: tidybot-opt14-strips/p02\n",
      "Error generating vanilla traces: Duplicate definition of element \"cart\"\n",
      "Error generating vanilla traces: Duplicate definition of element \"cart\"\n",
      "Error generating vanilla traces: Duplicate definition of element \"cart\"\n",
      "Error generating vanilla traces: Duplicate definition of element \"cart\"\n",
      "Generating traces for: \n",
      "\tDomain: tidybot-opt14-strips/domain, Problem: tidybot-opt14-strips/p03\n",
      "Error generating vanilla traces: Duplicate definition of element \"cart\"\n",
      "Error generating vanilla traces: Duplicate definition of element \"cart\"\n",
      "Error generating vanilla traces: Duplicate definition of element \"cart\"\n",
      "Error generating vanilla traces: Duplicate definition of element \"cart\"\n",
      "Generating traces for: \n",
      "\tDomain: tidybot-opt14-strips/domain, Problem: tidybot-opt14-strips/p04\n",
      "Error generating vanilla traces: Duplicate definition of element \"cart\"\n",
      "Error generating vanilla traces: Duplicate definition of element \"cart\"\n",
      "Error generating vanilla traces: Duplicate definition of element \"cart\"\n",
      "Error generating vanilla traces: Duplicate definition of element \"cart\"\n",
      "Generating traces for: \n",
      "\tDomain: tidybot-opt14-strips/domain, Problem: tidybot-opt14-strips/p05\n",
      "Error generating vanilla traces: Duplicate definition of element \"cart\"\n",
      "Error generating vanilla traces: Duplicate definition of element \"cart\"\n",
      "Error generating vanilla traces: Duplicate definition of element \"cart\"\n",
      "Error generating vanilla traces: Duplicate definition of element \"cart\"\n",
      "Generating traces for: \n",
      "\tDomain: tidybot-opt14-strips/domain, Problem: tidybot-opt14-strips/p06\n",
      "Error generating vanilla traces: Duplicate definition of element \"cart\"\n",
      "Error generating vanilla traces: Duplicate definition of element \"cart\"\n",
      "Error generating vanilla traces: Duplicate definition of element \"cart\"\n",
      "Error generating vanilla traces: Duplicate definition of element \"cart\"\n",
      "Generating traces for: \n",
      "\tDomain: tidybot-opt14-strips/domain, Problem: tidybot-opt14-strips/p07\n",
      "Error generating vanilla traces: Duplicate definition of element \"cart\"\n",
      "Error generating vanilla traces: Duplicate definition of element \"cart\"\n",
      "Error generating vanilla traces: Duplicate definition of element \"cart\"\n",
      "Error generating vanilla traces: Duplicate definition of element \"cart\"\n",
      "Generating traces for: \n",
      "\tDomain: tidybot-opt14-strips/domain, Problem: tidybot-opt14-strips/p08\n",
      "Error generating vanilla traces: Duplicate definition of element \"cart\"\n",
      "Error generating vanilla traces: Duplicate definition of element \"cart\"\n",
      "Error generating vanilla traces: Duplicate definition of element \"cart\"\n",
      "Error generating vanilla traces: Duplicate definition of element \"cart\"\n",
      "Generating traces for: \n",
      "\tDomain: tidybot-opt14-strips/domain, Problem: tidybot-opt14-strips/p09\n",
      "Error generating vanilla traces: Duplicate definition of element \"cart\"\n",
      "Error generating vanilla traces: Duplicate definition of element \"cart\"\n",
      "Error generating vanilla traces: Duplicate definition of element \"cart\"\n",
      "Error generating vanilla traces: Duplicate definition of element \"cart\"\n",
      "Generating traces for: \n",
      "\tDomain: tidybot-opt14-strips/domain, Problem: tidybot-opt14-strips/p10\n",
      "Error generating vanilla traces: Duplicate definition of element \"cart\"\n",
      "Error generating vanilla traces: Duplicate definition of element \"cart\"\n",
      "Error generating vanilla traces: Duplicate definition of element \"cart\"\n",
      "Error generating vanilla traces: Duplicate definition of element \"cart\"\n",
      "Generating traces for: \n",
      "\tDomain: tidybot-opt14-strips/domain, Problem: tidybot-opt14-strips/p11\n",
      "Error generating vanilla traces: Duplicate definition of element \"cart\"\n",
      "Error generating vanilla traces: Duplicate definition of element \"cart\"\n",
      "Error generating vanilla traces: Duplicate definition of element \"cart\"\n",
      "Error generating vanilla traces: Duplicate definition of element \"cart\"\n",
      "Generating traces for: \n",
      "\tDomain: tidybot-opt14-strips/domain, Problem: tidybot-opt14-strips/p12\n",
      "Error generating vanilla traces: Duplicate definition of element \"cart\"\n",
      "Error generating vanilla traces: Duplicate definition of element \"cart\"\n",
      "Error generating vanilla traces: Duplicate definition of element \"cart\"\n",
      "Error generating vanilla traces: Duplicate definition of element \"cart\"\n",
      "Generating traces for: \n",
      "\tDomain: tidybot-opt14-strips/domain, Problem: tidybot-opt14-strips/p13\n",
      "Error generating vanilla traces: Duplicate definition of element \"cart\"\n",
      "Error generating vanilla traces: Duplicate definition of element \"cart\"\n",
      "Error generating vanilla traces: Duplicate definition of element \"cart\"\n",
      "Error generating vanilla traces: Duplicate definition of element \"cart\"\n",
      "Generating traces for: \n",
      "\tDomain: tidybot-opt14-strips/domain, Problem: tidybot-opt14-strips/p14\n",
      "Error generating vanilla traces: Duplicate definition of element \"cart\"\n",
      "Error generating vanilla traces: Duplicate definition of element \"cart\"\n",
      "Error generating vanilla traces: Duplicate definition of element \"cart\"\n",
      "Error generating vanilla traces: Duplicate definition of element \"cart\"\n",
      "Generating traces for: \n",
      "\tDomain: tidybot-opt14-strips/domain, Problem: tidybot-opt14-strips/p15\n",
      "Error generating vanilla traces: Duplicate definition of element \"cart\"\n",
      "Error generating vanilla traces: Duplicate definition of element \"cart\"\n",
      "Error generating vanilla traces: Duplicate definition of element \"cart\"\n",
      "Error generating vanilla traces: Duplicate definition of element \"cart\"\n",
      "Generating traces for: \n",
      "\tDomain: tidybot-opt14-strips/domain, Problem: tidybot-opt14-strips/p16\n",
      "Error generating vanilla traces: Duplicate definition of element \"cart\"\n",
      "Error generating vanilla traces: Duplicate definition of element \"cart\"\n",
      "Error generating vanilla traces: Duplicate definition of element \"cart\"\n",
      "Error generating vanilla traces: Duplicate definition of element \"cart\"\n",
      "Generating traces for: \n",
      "\tDomain: tidybot-opt14-strips/domain, Problem: tidybot-opt14-strips/p17\n",
      "Error generating vanilla traces: Duplicate definition of element \"cart\"\n",
      "Error generating vanilla traces: Duplicate definition of element \"cart\"\n",
      "Error generating vanilla traces: Duplicate definition of element \"cart\"\n",
      "Error generating vanilla traces: Duplicate definition of element \"cart\"\n",
      "Generating traces for: \n",
      "\tDomain: tidybot-opt14-strips/domain, Problem: tidybot-opt14-strips/p18\n",
      "Error generating vanilla traces: Duplicate definition of element \"cart\"\n",
      "Error generating vanilla traces: Duplicate definition of element \"cart\"\n",
      "Error generating vanilla traces: Duplicate definition of element \"cart\"\n",
      "Error generating vanilla traces: Duplicate definition of element \"cart\"\n",
      "Generating traces for: \n",
      "\tDomain: tidybot-opt14-strips/domain, Problem: tidybot-opt14-strips/p19\n",
      "Error generating vanilla traces: Duplicate definition of element \"cart\"\n",
      "Error generating vanilla traces: Duplicate definition of element \"cart\"\n",
      "Error generating vanilla traces: Duplicate definition of element \"cart\"\n",
      "Error generating vanilla traces: Duplicate definition of element \"cart\"\n",
      "Generating traces for: \n",
      "\tDomain: tidybot-opt14-strips/domain, Problem: tidybot-opt14-strips/p20\n",
      "Error generating vanilla traces: Duplicate definition of element \"cart\"\n",
      "Error generating vanilla traces: Duplicate definition of element \"cart\"\n",
      "Error generating vanilla traces: Duplicate definition of element \"cart\"\n",
      "Error generating vanilla traces: Duplicate definition of element \"cart\"\n",
      "Generating traces for: \n",
      "\tDomain: caldera-sat18/domain, Problem: caldera-sat18/p11\n",
      "Timeout generating vanilla traces: Execution time exceeded\n",
      "Timeout generating vanilla traces: Execution time exceeded\n",
      "Timeout generating vanilla traces: Execution time exceeded\n",
      "Timeout generating vanilla traces: Execution time exceeded\n",
      "Generating traces for: \n",
      "\tDomain: caldera-sat18/domain, Problem: caldera-sat18/p07\n",
      "Timeout generating vanilla traces: Execution time exceeded\n",
      "Timeout generating vanilla traces: Execution time exceeded\n",
      "Timeout generating vanilla traces: Execution time exceeded\n",
      "Timeout generating vanilla traces: Execution time exceeded\n",
      "Generating traces for: \n",
      "\tDomain: caldera-sat18/domain, Problem: caldera-sat18/p06\n"
     ]
    },
    {
     "name": "stderr",
     "output_type": "stream",
     "text": [
      "  0%|          | 0/1 [00:00<?, ?it/s]\n"
     ]
    },
    {
     "name": "stdout",
     "output_type": "stream",
     "text": [
      "Error generating vanilla traces: 'UniversalEffect' object has no attribute 'atom'\n"
     ]
    },
    {
     "name": "stderr",
     "output_type": "stream",
     "text": [
      "  0%|          | 0/1 [00:01<?, ?it/s]\n"
     ]
    },
    {
     "name": "stdout",
     "output_type": "stream",
     "text": [
      "Error generating vanilla traces: 'UniversalEffect' object has no attribute 'atom'\n"
     ]
    },
    {
     "name": "stderr",
     "output_type": "stream",
     "text": [
      "  0%|          | 0/1 [00:00<?, ?it/s]\n"
     ]
    },
    {
     "name": "stdout",
     "output_type": "stream",
     "text": [
      "Error generating vanilla traces: 'UniversalEffect' object has no attribute 'atom'\n"
     ]
    },
    {
     "name": "stderr",
     "output_type": "stream",
     "text": [
      "  0%|          | 0/1 [00:00<?, ?it/s]\n"
     ]
    },
    {
     "name": "stdout",
     "output_type": "stream",
     "text": [
      "Error generating vanilla traces: 'UniversalEffect' object has no attribute 'atom'\n",
      "Generating traces for: \n",
      "\tDomain: caldera-sat18/domain, Problem: caldera-sat18/p10\n"
     ]
    },
    {
     "name": "stderr",
     "output_type": "stream",
     "text": [
      "  0%|          | 0/1 [00:01<?, ?it/s]\n"
     ]
    },
    {
     "name": "stdout",
     "output_type": "stream",
     "text": [
      "Error generating vanilla traces: 'UniversalEffect' object has no attribute 'atom'\n"
     ]
    },
    {
     "ename": "KeyboardInterrupt",
     "evalue": "",
     "output_type": "error",
     "traceback": [
      "\u001b[0;31m---------------------------------------------------------------------------\u001b[0m",
      "\u001b[0;31mKeyboardInterrupt\u001b[0m                         Traceback (most recent call last)",
      "Cell \u001b[0;32mIn[12], line 59\u001b[0m\n\u001b[1;32m     57\u001b[0m signal\u001b[38;5;241m.\u001b[39malarm(\u001b[38;5;241m60\u001b[39m)\n\u001b[1;32m     58\u001b[0m \u001b[38;5;28;01mtry\u001b[39;00m: \n\u001b[0;32m---> 59\u001b[0m     vanilla \u001b[38;5;241m=\u001b[39m \u001b[43mVanillaSampling\u001b[49m\u001b[43m(\u001b[49m\u001b[43mdomain_file_path\u001b[49m\u001b[43m,\u001b[49m\u001b[43m \u001b[49m\u001b[43mproblem_file_path\u001b[49m\u001b[43m,\u001b[49m\u001b[43m \u001b[49m\u001b[43mplan_len\u001b[49m\u001b[38;5;241;43m=\u001b[39;49m\u001b[43mplan_len\u001b[49m\u001b[43m,\u001b[49m\u001b[43m \u001b[49m\u001b[43mnum_traces\u001b[49m\u001b[38;5;241;43m=\u001b[39;49m\u001b[43mnum_traces\u001b[49m\u001b[43m)\u001b[49m\n\u001b[1;32m     60\u001b[0m     traces \u001b[38;5;241m=\u001b[39m vanilla\u001b[38;5;241m.\u001b[39mgenerate_traces()\n\u001b[1;32m     61\u001b[0m     \u001b[38;5;28;01mfor\u001b[39;00m trace \u001b[38;5;129;01min\u001b[39;00m traces:\n",
      "File \u001b[0;32m~/anu/codes/xLOCM/src/generate/pddl/vanilla_sampling.py:67\u001b[0m, in \u001b[0;36mVanillaSampling.__init__\u001b[0;34m(self, dom, prob, problem_id, observe_pres_effs, plan_len, num_traces, seed, max_time)\u001b[0m\n\u001b[1;32m     36\u001b[0m \u001b[38;5;28;01mdef\u001b[39;00m \u001b[38;5;21m__init__\u001b[39m(\n\u001b[1;32m     37\u001b[0m     \u001b[38;5;28mself\u001b[39m,\n\u001b[1;32m     38\u001b[0m     dom: \u001b[38;5;28mstr\u001b[39m \u001b[38;5;241m=\u001b[39m \u001b[38;5;28;01mNone\u001b[39;00m,\n\u001b[0;32m   (...)\u001b[0m\n\u001b[1;32m     45\u001b[0m     max_time: \u001b[38;5;28mfloat\u001b[39m \u001b[38;5;241m=\u001b[39m \u001b[38;5;241m30\u001b[39m,\n\u001b[1;32m     46\u001b[0m ):\n\u001b[1;32m     47\u001b[0m \u001b[38;5;250m    \u001b[39m\u001b[38;5;124;03m\"\"\"\u001b[39;00m\n\u001b[1;32m     48\u001b[0m \u001b[38;5;124;03m    Initializes a vanilla state trace sampler using the plan length, number of traces,\u001b[39;00m\n\u001b[1;32m     49\u001b[0m \u001b[38;5;124;03m    and the domain and problem.\u001b[39;00m\n\u001b[0;32m   (...)\u001b[0m\n\u001b[1;32m     65\u001b[0m \u001b[38;5;124;03m            The number of traces to generate. Defaults to 1.\u001b[39;00m\n\u001b[1;32m     66\u001b[0m \u001b[38;5;124;03m    \"\"\"\u001b[39;00m\n\u001b[0;32m---> 67\u001b[0m     \u001b[38;5;28;43msuper\u001b[39;49m\u001b[43m(\u001b[49m\u001b[43m)\u001b[49m\u001b[38;5;241;43m.\u001b[39;49m\u001b[38;5;21;43m__init__\u001b[39;49m\u001b[43m(\u001b[49m\n\u001b[1;32m     68\u001b[0m \u001b[43m        \u001b[49m\u001b[43mdom\u001b[49m\u001b[38;5;241;43m=\u001b[39;49m\u001b[43mdom\u001b[49m\u001b[43m,\u001b[49m\n\u001b[1;32m     69\u001b[0m \u001b[43m        \u001b[49m\u001b[43mprob\u001b[49m\u001b[38;5;241;43m=\u001b[39;49m\u001b[43mprob\u001b[49m\u001b[43m,\u001b[49m\n\u001b[1;32m     70\u001b[0m \u001b[43m        \u001b[49m\u001b[43mproblem_id\u001b[49m\u001b[38;5;241;43m=\u001b[39;49m\u001b[43mproblem_id\u001b[49m\u001b[43m,\u001b[49m\n\u001b[1;32m     71\u001b[0m \u001b[43m        \u001b[49m\u001b[43mobserve_pres_effs\u001b[49m\u001b[38;5;241;43m=\u001b[39;49m\u001b[43mobserve_pres_effs\u001b[49m\u001b[43m,\u001b[49m\n\u001b[1;32m     72\u001b[0m \u001b[43m    \u001b[49m\u001b[43m)\u001b[49m\n\u001b[1;32m     73\u001b[0m     \u001b[38;5;28;01mif\u001b[39;00m max_time \u001b[38;5;241m<\u001b[39m\u001b[38;5;241m=\u001b[39m \u001b[38;5;241m0\u001b[39m:\n\u001b[1;32m     74\u001b[0m         \u001b[38;5;28;01mraise\u001b[39;00m InvalidTime()\n",
      "File \u001b[0;32m~/anu/codes/xLOCM/src/generate/pddl/generator.py:107\u001b[0m, in \u001b[0;36mGenerator.__init__\u001b[0;34m(self, dom, prob, problem_id, observe_pres_effs)\u001b[0m\n\u001b[1;32m    105\u001b[0m \u001b[38;5;28mself\u001b[39m\u001b[38;5;241m.\u001b[39mlang \u001b[38;5;241m=\u001b[39m \u001b[38;5;28mself\u001b[39m\u001b[38;5;241m.\u001b[39mproblem\u001b[38;5;241m.\u001b[39mlanguage\n\u001b[1;32m    106\u001b[0m \u001b[38;5;66;03m# ground the problem\u001b[39;00m\n\u001b[0;32m--> 107\u001b[0m operators \u001b[38;5;241m=\u001b[39m \u001b[43mground_problem_schemas_into_plain_operators\u001b[49m\u001b[43m(\u001b[49m\u001b[38;5;28;43mself\u001b[39;49m\u001b[38;5;241;43m.\u001b[39;49m\u001b[43mproblem\u001b[49m\u001b[43m)\u001b[49m\n\u001b[1;32m    108\u001b[0m \u001b[38;5;28mself\u001b[39m\u001b[38;5;241m.\u001b[39minstance \u001b[38;5;241m=\u001b[39m GroundForwardSearchModel(\u001b[38;5;28mself\u001b[39m\u001b[38;5;241m.\u001b[39mproblem, operators)\n\u001b[1;32m    109\u001b[0m \u001b[38;5;28mself\u001b[39m\u001b[38;5;241m.\u001b[39mgrounded_fluents \u001b[38;5;241m=\u001b[39m \u001b[38;5;28mself\u001b[39m\u001b[38;5;241m.\u001b[39m__get_all_grounded_fluents()\n",
      "File \u001b[0;32m~/miniconda3/lib/python3.12/site-packages/tarski/grounding/lp_grounding.py:98\u001b[0m, in \u001b[0;36mground_problem_schemas_into_plain_operators\u001b[0;34m(problem, include_variable_inequalities)\u001b[0m\n\u001b[1;32m     96\u001b[0m     action \u001b[38;5;241m=\u001b[39m problem\u001b[38;5;241m.\u001b[39mget_action(action_name)\n\u001b[1;32m     97\u001b[0m     \u001b[38;5;28;01mfor\u001b[39;00m grounding \u001b[38;5;129;01min\u001b[39;00m groundings:\n\u001b[0;32m---> 98\u001b[0m         operators\u001b[38;5;241m.\u001b[39mappend(\u001b[43mground_schema_into_plain_operator_from_grounding\u001b[49m\u001b[43m(\u001b[49m\u001b[43maction\u001b[49m\u001b[43m,\u001b[49m\u001b[43m \u001b[49m\u001b[43mgrounding\u001b[49m\u001b[43m)\u001b[49m)\n\u001b[1;32m     99\u001b[0m \u001b[38;5;28;01mreturn\u001b[39;00m operators\n",
      "File \u001b[0;32m~/miniconda3/lib/python3.12/site-packages/tarski/syntax/transform/action_grounding.py:58\u001b[0m, in \u001b[0;36mground_schema_into_plain_operator_from_grounding\u001b[0;34m(action, grounding)\u001b[0m\n\u001b[1;32m     56\u001b[0m binding \u001b[38;5;241m=\u001b[39m [lang\u001b[38;5;241m.\u001b[39mget_constant(name) \u001b[38;5;28;01mif\u001b[39;00m \u001b[38;5;28misinstance\u001b[39m(name, \u001b[38;5;28mstr\u001b[39m) \u001b[38;5;28;01melse\u001b[39;00m name \u001b[38;5;28;01mfor\u001b[39;00m name \u001b[38;5;129;01min\u001b[39;00m grounding]\n\u001b[1;32m     57\u001b[0m subst \u001b[38;5;241m=\u001b[39m create_substitution(action\u001b[38;5;241m.\u001b[39mparameters, binding)\n\u001b[0;32m---> 58\u001b[0m \u001b[38;5;28;01mreturn\u001b[39;00m \u001b[43mground_schema_into_plain_operator\u001b[49m\u001b[43m(\u001b[49m\u001b[43maction\u001b[49m\u001b[43m,\u001b[49m\u001b[43m \u001b[49m\u001b[43msubst\u001b[49m\u001b[43m)\u001b[49m\n",
      "File \u001b[0;32m~/miniconda3/lib/python3.12/site-packages/tarski/syntax/transform/action_grounding.py:22\u001b[0m, in \u001b[0;36mground_schema_into_plain_operator\u001b[0;34m(action, substitution)\u001b[0m\n\u001b[1;32m     19\u001b[0m paramlist \u001b[38;5;241m=\u001b[39m \u001b[38;5;124m'\u001b[39m\u001b[38;5;124m, \u001b[39m\u001b[38;5;124m'\u001b[39m\u001b[38;5;241m.\u001b[39mjoin(substitution[symref(p)]\u001b[38;5;241m.\u001b[39mname \u001b[38;5;28;01mfor\u001b[39;00m p \u001b[38;5;129;01min\u001b[39;00m action\u001b[38;5;241m.\u001b[39mparameters)\n\u001b[1;32m     20\u001b[0m name \u001b[38;5;241m=\u001b[39m \u001b[38;5;124mf\u001b[39m\u001b[38;5;124m'\u001b[39m\u001b[38;5;132;01m{\u001b[39;00maction\u001b[38;5;241m.\u001b[39mname\u001b[38;5;132;01m}\u001b[39;00m\u001b[38;5;124m(\u001b[39m\u001b[38;5;132;01m{\u001b[39;00mparamlist\u001b[38;5;132;01m}\u001b[39;00m\u001b[38;5;124m)\u001b[39m\u001b[38;5;124m'\u001b[39m\n\u001b[0;32m---> 22\u001b[0m precondition \u001b[38;5;241m=\u001b[39m \u001b[43msubstitute_expression\u001b[49m\u001b[43m(\u001b[49m\u001b[43maction\u001b[49m\u001b[38;5;241;43m.\u001b[39;49m\u001b[43mprecondition\u001b[49m\u001b[43m,\u001b[49m\u001b[43m \u001b[49m\u001b[43msubstitution\u001b[49m\u001b[43m,\u001b[49m\u001b[43m \u001b[49m\u001b[43minplace\u001b[49m\u001b[38;5;241;43m=\u001b[39;49m\u001b[38;5;28;43;01mFalse\u001b[39;49;00m\u001b[43m)\u001b[49m\n\u001b[1;32m     23\u001b[0m effects \u001b[38;5;241m=\u001b[39m [substitute_expression(eff, substitution, inplace\u001b[38;5;241m=\u001b[39m\u001b[38;5;28;01mFalse\u001b[39;00m) \u001b[38;5;28;01mfor\u001b[39;00m eff \u001b[38;5;129;01min\u001b[39;00m action\u001b[38;5;241m.\u001b[39meffects]\n\u001b[1;32m     24\u001b[0m \u001b[38;5;28;01mreturn\u001b[39;00m PlainOperator(action\u001b[38;5;241m.\u001b[39mlanguage, name, precondition, effects)\n",
      "File \u001b[0;32m~/miniconda3/lib/python3.12/site-packages/tarski/fstrips/representation.py:554\u001b[0m, in \u001b[0;36msubstitute_expression\u001b[0;34m(expression, substitution, inplace)\u001b[0m\n\u001b[1;32m    547\u001b[0m \u001b[38;5;28;01mdef\u001b[39;00m \u001b[38;5;21msubstitute_expression\u001b[39m(expression, substitution, inplace\u001b[38;5;241m=\u001b[39m\u001b[38;5;28;01mFalse\u001b[39;00m):\n\u001b[1;32m    548\u001b[0m \u001b[38;5;250m    \u001b[39m\u001b[38;5;124;03m\"\"\" Apply the given syntactic substitution to the given FSTRIPS action effect, formula or term.\u001b[39;00m\n\u001b[1;32m    549\u001b[0m \u001b[38;5;124;03m    :param expression: An FSTRIPS effect, formula or term.\u001b[39;00m\n\u001b[1;32m    550\u001b[0m \u001b[38;5;124;03m    :param substitution: A dictionary from TermReferences to other expressions.\u001b[39;00m\n\u001b[1;32m    551\u001b[0m \u001b[38;5;124;03m    :param inplace: If true, the given element is modified in place; otherwise a different object is returned.\u001b[39;00m\n\u001b[1;32m    552\u001b[0m \u001b[38;5;124;03m    :return: The result of applying the substitution to the element.\u001b[39;00m\n\u001b[1;32m    553\u001b[0m \u001b[38;5;124;03m    \"\"\"\u001b[39;00m\n\u001b[0;32m--> 554\u001b[0m     expression \u001b[38;5;241m=\u001b[39m expression \u001b[38;5;28;01mif\u001b[39;00m inplace \u001b[38;5;28;01melse\u001b[39;00m \u001b[43mcopy\u001b[49m\u001b[38;5;241;43m.\u001b[39;49m\u001b[43mdeepcopy\u001b[49m\u001b[43m(\u001b[49m\u001b[43mexpression\u001b[49m\u001b[43m)\u001b[49m\n\u001b[1;32m    555\u001b[0m     \u001b[38;5;28;01mif\u001b[39;00m \u001b[38;5;28misinstance\u001b[39m(expression, (Formula, Term)):\n\u001b[1;32m    556\u001b[0m         \u001b[38;5;28;01mreturn\u001b[39;00m fol_substitute_expression(expression, substitution, inplace\u001b[38;5;241m=\u001b[39m\u001b[38;5;28;01mTrue\u001b[39;00m)\n",
      "File \u001b[0;32m~/miniconda3/lib/python3.12/copy.py:162\u001b[0m, in \u001b[0;36mdeepcopy\u001b[0;34m(x, memo, _nil)\u001b[0m\n\u001b[1;32m    160\u001b[0m                 y \u001b[38;5;241m=\u001b[39m x\n\u001b[1;32m    161\u001b[0m             \u001b[38;5;28;01melse\u001b[39;00m:\n\u001b[0;32m--> 162\u001b[0m                 y \u001b[38;5;241m=\u001b[39m \u001b[43m_reconstruct\u001b[49m\u001b[43m(\u001b[49m\u001b[43mx\u001b[49m\u001b[43m,\u001b[49m\u001b[43m \u001b[49m\u001b[43mmemo\u001b[49m\u001b[43m,\u001b[49m\u001b[43m \u001b[49m\u001b[38;5;241;43m*\u001b[39;49m\u001b[43mrv\u001b[49m\u001b[43m)\u001b[49m\n\u001b[1;32m    164\u001b[0m \u001b[38;5;66;03m# If is its own copy, don't memoize.\u001b[39;00m\n\u001b[1;32m    165\u001b[0m \u001b[38;5;28;01mif\u001b[39;00m y \u001b[38;5;129;01mis\u001b[39;00m \u001b[38;5;129;01mnot\u001b[39;00m x:\n",
      "File \u001b[0;32m~/miniconda3/lib/python3.12/copy.py:259\u001b[0m, in \u001b[0;36m_reconstruct\u001b[0;34m(x, memo, func, args, state, listiter, dictiter, deepcopy)\u001b[0m\n\u001b[1;32m    257\u001b[0m \u001b[38;5;28;01mif\u001b[39;00m state \u001b[38;5;129;01mis\u001b[39;00m \u001b[38;5;129;01mnot\u001b[39;00m \u001b[38;5;28;01mNone\u001b[39;00m:\n\u001b[1;32m    258\u001b[0m     \u001b[38;5;28;01mif\u001b[39;00m deep:\n\u001b[0;32m--> 259\u001b[0m         state \u001b[38;5;241m=\u001b[39m \u001b[43mdeepcopy\u001b[49m\u001b[43m(\u001b[49m\u001b[43mstate\u001b[49m\u001b[43m,\u001b[49m\u001b[43m \u001b[49m\u001b[43mmemo\u001b[49m\u001b[43m)\u001b[49m\n\u001b[1;32m    260\u001b[0m     \u001b[38;5;28;01mif\u001b[39;00m \u001b[38;5;28mhasattr\u001b[39m(y, \u001b[38;5;124m'\u001b[39m\u001b[38;5;124m__setstate__\u001b[39m\u001b[38;5;124m'\u001b[39m):\n\u001b[1;32m    261\u001b[0m         y\u001b[38;5;241m.\u001b[39m__setstate__(state)\n",
      "File \u001b[0;32m~/miniconda3/lib/python3.12/copy.py:136\u001b[0m, in \u001b[0;36mdeepcopy\u001b[0;34m(x, memo, _nil)\u001b[0m\n\u001b[1;32m    134\u001b[0m copier \u001b[38;5;241m=\u001b[39m _deepcopy_dispatch\u001b[38;5;241m.\u001b[39mget(\u001b[38;5;28mcls\u001b[39m)\n\u001b[1;32m    135\u001b[0m \u001b[38;5;28;01mif\u001b[39;00m copier \u001b[38;5;129;01mis\u001b[39;00m \u001b[38;5;129;01mnot\u001b[39;00m \u001b[38;5;28;01mNone\u001b[39;00m:\n\u001b[0;32m--> 136\u001b[0m     y \u001b[38;5;241m=\u001b[39m \u001b[43mcopier\u001b[49m\u001b[43m(\u001b[49m\u001b[43mx\u001b[49m\u001b[43m,\u001b[49m\u001b[43m \u001b[49m\u001b[43mmemo\u001b[49m\u001b[43m)\u001b[49m\n\u001b[1;32m    137\u001b[0m \u001b[38;5;28;01melse\u001b[39;00m:\n\u001b[1;32m    138\u001b[0m     \u001b[38;5;28;01mif\u001b[39;00m \u001b[38;5;28missubclass\u001b[39m(\u001b[38;5;28mcls\u001b[39m, \u001b[38;5;28mtype\u001b[39m):\n",
      "File \u001b[0;32m~/miniconda3/lib/python3.12/copy.py:221\u001b[0m, in \u001b[0;36m_deepcopy_dict\u001b[0;34m(x, memo, deepcopy)\u001b[0m\n\u001b[1;32m    219\u001b[0m memo[\u001b[38;5;28mid\u001b[39m(x)] \u001b[38;5;241m=\u001b[39m y\n\u001b[1;32m    220\u001b[0m \u001b[38;5;28;01mfor\u001b[39;00m key, value \u001b[38;5;129;01min\u001b[39;00m x\u001b[38;5;241m.\u001b[39mitems():\n\u001b[0;32m--> 221\u001b[0m     y[deepcopy(key, memo)] \u001b[38;5;241m=\u001b[39m \u001b[43mdeepcopy\u001b[49m\u001b[43m(\u001b[49m\u001b[43mvalue\u001b[49m\u001b[43m,\u001b[49m\u001b[43m \u001b[49m\u001b[43mmemo\u001b[49m\u001b[43m)\u001b[49m\n\u001b[1;32m    222\u001b[0m \u001b[38;5;28;01mreturn\u001b[39;00m y\n",
      "File \u001b[0;32m~/miniconda3/lib/python3.12/copy.py:136\u001b[0m, in \u001b[0;36mdeepcopy\u001b[0;34m(x, memo, _nil)\u001b[0m\n\u001b[1;32m    134\u001b[0m copier \u001b[38;5;241m=\u001b[39m _deepcopy_dispatch\u001b[38;5;241m.\u001b[39mget(\u001b[38;5;28mcls\u001b[39m)\n\u001b[1;32m    135\u001b[0m \u001b[38;5;28;01mif\u001b[39;00m copier \u001b[38;5;129;01mis\u001b[39;00m \u001b[38;5;129;01mnot\u001b[39;00m \u001b[38;5;28;01mNone\u001b[39;00m:\n\u001b[0;32m--> 136\u001b[0m     y \u001b[38;5;241m=\u001b[39m \u001b[43mcopier\u001b[49m\u001b[43m(\u001b[49m\u001b[43mx\u001b[49m\u001b[43m,\u001b[49m\u001b[43m \u001b[49m\u001b[43mmemo\u001b[49m\u001b[43m)\u001b[49m\n\u001b[1;32m    137\u001b[0m \u001b[38;5;28;01melse\u001b[39;00m:\n\u001b[1;32m    138\u001b[0m     \u001b[38;5;28;01mif\u001b[39;00m \u001b[38;5;28missubclass\u001b[39m(\u001b[38;5;28mcls\u001b[39m, \u001b[38;5;28mtype\u001b[39m):\n",
      "File \u001b[0;32m~/miniconda3/lib/python3.12/copy.py:196\u001b[0m, in \u001b[0;36m_deepcopy_list\u001b[0;34m(x, memo, deepcopy)\u001b[0m\n\u001b[1;32m    194\u001b[0m append \u001b[38;5;241m=\u001b[39m y\u001b[38;5;241m.\u001b[39mappend\n\u001b[1;32m    195\u001b[0m \u001b[38;5;28;01mfor\u001b[39;00m a \u001b[38;5;129;01min\u001b[39;00m x:\n\u001b[0;32m--> 196\u001b[0m     append(\u001b[43mdeepcopy\u001b[49m\u001b[43m(\u001b[49m\u001b[43ma\u001b[49m\u001b[43m,\u001b[49m\u001b[43m \u001b[49m\u001b[43mmemo\u001b[49m\u001b[43m)\u001b[49m)\n\u001b[1;32m    197\u001b[0m \u001b[38;5;28;01mreturn\u001b[39;00m y\n",
      "File \u001b[0;32m~/miniconda3/lib/python3.12/copy.py:162\u001b[0m, in \u001b[0;36mdeepcopy\u001b[0;34m(x, memo, _nil)\u001b[0m\n\u001b[1;32m    160\u001b[0m                 y \u001b[38;5;241m=\u001b[39m x\n\u001b[1;32m    161\u001b[0m             \u001b[38;5;28;01melse\u001b[39;00m:\n\u001b[0;32m--> 162\u001b[0m                 y \u001b[38;5;241m=\u001b[39m \u001b[43m_reconstruct\u001b[49m\u001b[43m(\u001b[49m\u001b[43mx\u001b[49m\u001b[43m,\u001b[49m\u001b[43m \u001b[49m\u001b[43mmemo\u001b[49m\u001b[43m,\u001b[49m\u001b[43m \u001b[49m\u001b[38;5;241;43m*\u001b[39;49m\u001b[43mrv\u001b[49m\u001b[43m)\u001b[49m\n\u001b[1;32m    164\u001b[0m \u001b[38;5;66;03m# If is its own copy, don't memoize.\u001b[39;00m\n\u001b[1;32m    165\u001b[0m \u001b[38;5;28;01mif\u001b[39;00m y \u001b[38;5;129;01mis\u001b[39;00m \u001b[38;5;129;01mnot\u001b[39;00m x:\n",
      "File \u001b[0;32m~/miniconda3/lib/python3.12/copy.py:259\u001b[0m, in \u001b[0;36m_reconstruct\u001b[0;34m(x, memo, func, args, state, listiter, dictiter, deepcopy)\u001b[0m\n\u001b[1;32m    257\u001b[0m \u001b[38;5;28;01mif\u001b[39;00m state \u001b[38;5;129;01mis\u001b[39;00m \u001b[38;5;129;01mnot\u001b[39;00m \u001b[38;5;28;01mNone\u001b[39;00m:\n\u001b[1;32m    258\u001b[0m     \u001b[38;5;28;01mif\u001b[39;00m deep:\n\u001b[0;32m--> 259\u001b[0m         state \u001b[38;5;241m=\u001b[39m \u001b[43mdeepcopy\u001b[49m\u001b[43m(\u001b[49m\u001b[43mstate\u001b[49m\u001b[43m,\u001b[49m\u001b[43m \u001b[49m\u001b[43mmemo\u001b[49m\u001b[43m)\u001b[49m\n\u001b[1;32m    260\u001b[0m     \u001b[38;5;28;01mif\u001b[39;00m \u001b[38;5;28mhasattr\u001b[39m(y, \u001b[38;5;124m'\u001b[39m\u001b[38;5;124m__setstate__\u001b[39m\u001b[38;5;124m'\u001b[39m):\n\u001b[1;32m    261\u001b[0m         y\u001b[38;5;241m.\u001b[39m__setstate__(state)\n",
      "File \u001b[0;32m~/miniconda3/lib/python3.12/copy.py:136\u001b[0m, in \u001b[0;36mdeepcopy\u001b[0;34m(x, memo, _nil)\u001b[0m\n\u001b[1;32m    134\u001b[0m copier \u001b[38;5;241m=\u001b[39m _deepcopy_dispatch\u001b[38;5;241m.\u001b[39mget(\u001b[38;5;28mcls\u001b[39m)\n\u001b[1;32m    135\u001b[0m \u001b[38;5;28;01mif\u001b[39;00m copier \u001b[38;5;129;01mis\u001b[39;00m \u001b[38;5;129;01mnot\u001b[39;00m \u001b[38;5;28;01mNone\u001b[39;00m:\n\u001b[0;32m--> 136\u001b[0m     y \u001b[38;5;241m=\u001b[39m \u001b[43mcopier\u001b[49m\u001b[43m(\u001b[49m\u001b[43mx\u001b[49m\u001b[43m,\u001b[49m\u001b[43m \u001b[49m\u001b[43mmemo\u001b[49m\u001b[43m)\u001b[49m\n\u001b[1;32m    137\u001b[0m \u001b[38;5;28;01melse\u001b[39;00m:\n\u001b[1;32m    138\u001b[0m     \u001b[38;5;28;01mif\u001b[39;00m \u001b[38;5;28missubclass\u001b[39m(\u001b[38;5;28mcls\u001b[39m, \u001b[38;5;28mtype\u001b[39m):\n",
      "File \u001b[0;32m~/miniconda3/lib/python3.12/copy.py:221\u001b[0m, in \u001b[0;36m_deepcopy_dict\u001b[0;34m(x, memo, deepcopy)\u001b[0m\n\u001b[1;32m    219\u001b[0m memo[\u001b[38;5;28mid\u001b[39m(x)] \u001b[38;5;241m=\u001b[39m y\n\u001b[1;32m    220\u001b[0m \u001b[38;5;28;01mfor\u001b[39;00m key, value \u001b[38;5;129;01min\u001b[39;00m x\u001b[38;5;241m.\u001b[39mitems():\n\u001b[0;32m--> 221\u001b[0m     y[deepcopy(key, memo)] \u001b[38;5;241m=\u001b[39m \u001b[43mdeepcopy\u001b[49m\u001b[43m(\u001b[49m\u001b[43mvalue\u001b[49m\u001b[43m,\u001b[49m\u001b[43m \u001b[49m\u001b[43mmemo\u001b[49m\u001b[43m)\u001b[49m\n\u001b[1;32m    222\u001b[0m \u001b[38;5;28;01mreturn\u001b[39;00m y\n",
      "File \u001b[0;32m~/miniconda3/lib/python3.12/copy.py:136\u001b[0m, in \u001b[0;36mdeepcopy\u001b[0;34m(x, memo, _nil)\u001b[0m\n\u001b[1;32m    134\u001b[0m copier \u001b[38;5;241m=\u001b[39m _deepcopy_dispatch\u001b[38;5;241m.\u001b[39mget(\u001b[38;5;28mcls\u001b[39m)\n\u001b[1;32m    135\u001b[0m \u001b[38;5;28;01mif\u001b[39;00m copier \u001b[38;5;129;01mis\u001b[39;00m \u001b[38;5;129;01mnot\u001b[39;00m \u001b[38;5;28;01mNone\u001b[39;00m:\n\u001b[0;32m--> 136\u001b[0m     y \u001b[38;5;241m=\u001b[39m \u001b[43mcopier\u001b[49m\u001b[43m(\u001b[49m\u001b[43mx\u001b[49m\u001b[43m,\u001b[49m\u001b[43m \u001b[49m\u001b[43mmemo\u001b[49m\u001b[43m)\u001b[49m\n\u001b[1;32m    137\u001b[0m \u001b[38;5;28;01melse\u001b[39;00m:\n\u001b[1;32m    138\u001b[0m     \u001b[38;5;28;01mif\u001b[39;00m \u001b[38;5;28missubclass\u001b[39m(\u001b[38;5;28mcls\u001b[39m, \u001b[38;5;28mtype\u001b[39m):\n",
      "File \u001b[0;32m~/miniconda3/lib/python3.12/copy.py:196\u001b[0m, in \u001b[0;36m_deepcopy_list\u001b[0;34m(x, memo, deepcopy)\u001b[0m\n\u001b[1;32m    194\u001b[0m append \u001b[38;5;241m=\u001b[39m y\u001b[38;5;241m.\u001b[39mappend\n\u001b[1;32m    195\u001b[0m \u001b[38;5;28;01mfor\u001b[39;00m a \u001b[38;5;129;01min\u001b[39;00m x:\n\u001b[0;32m--> 196\u001b[0m     append(\u001b[43mdeepcopy\u001b[49m\u001b[43m(\u001b[49m\u001b[43ma\u001b[49m\u001b[43m,\u001b[49m\u001b[43m \u001b[49m\u001b[43mmemo\u001b[49m\u001b[43m)\u001b[49m)\n\u001b[1;32m    197\u001b[0m \u001b[38;5;28;01mreturn\u001b[39;00m y\n",
      "File \u001b[0;32m~/miniconda3/lib/python3.12/copy.py:162\u001b[0m, in \u001b[0;36mdeepcopy\u001b[0;34m(x, memo, _nil)\u001b[0m\n\u001b[1;32m    160\u001b[0m                 y \u001b[38;5;241m=\u001b[39m x\n\u001b[1;32m    161\u001b[0m             \u001b[38;5;28;01melse\u001b[39;00m:\n\u001b[0;32m--> 162\u001b[0m                 y \u001b[38;5;241m=\u001b[39m \u001b[43m_reconstruct\u001b[49m\u001b[43m(\u001b[49m\u001b[43mx\u001b[49m\u001b[43m,\u001b[49m\u001b[43m \u001b[49m\u001b[43mmemo\u001b[49m\u001b[43m,\u001b[49m\u001b[43m \u001b[49m\u001b[38;5;241;43m*\u001b[39;49m\u001b[43mrv\u001b[49m\u001b[43m)\u001b[49m\n\u001b[1;32m    164\u001b[0m \u001b[38;5;66;03m# If is its own copy, don't memoize.\u001b[39;00m\n\u001b[1;32m    165\u001b[0m \u001b[38;5;28;01mif\u001b[39;00m y \u001b[38;5;129;01mis\u001b[39;00m \u001b[38;5;129;01mnot\u001b[39;00m x:\n",
      "File \u001b[0;32m~/miniconda3/lib/python3.12/copy.py:259\u001b[0m, in \u001b[0;36m_reconstruct\u001b[0;34m(x, memo, func, args, state, listiter, dictiter, deepcopy)\u001b[0m\n\u001b[1;32m    257\u001b[0m \u001b[38;5;28;01mif\u001b[39;00m state \u001b[38;5;129;01mis\u001b[39;00m \u001b[38;5;129;01mnot\u001b[39;00m \u001b[38;5;28;01mNone\u001b[39;00m:\n\u001b[1;32m    258\u001b[0m     \u001b[38;5;28;01mif\u001b[39;00m deep:\n\u001b[0;32m--> 259\u001b[0m         state \u001b[38;5;241m=\u001b[39m \u001b[43mdeepcopy\u001b[49m\u001b[43m(\u001b[49m\u001b[43mstate\u001b[49m\u001b[43m,\u001b[49m\u001b[43m \u001b[49m\u001b[43mmemo\u001b[49m\u001b[43m)\u001b[49m\n\u001b[1;32m    260\u001b[0m     \u001b[38;5;28;01mif\u001b[39;00m \u001b[38;5;28mhasattr\u001b[39m(y, \u001b[38;5;124m'\u001b[39m\u001b[38;5;124m__setstate__\u001b[39m\u001b[38;5;124m'\u001b[39m):\n\u001b[1;32m    261\u001b[0m         y\u001b[38;5;241m.\u001b[39m__setstate__(state)\n",
      "File \u001b[0;32m~/miniconda3/lib/python3.12/copy.py:134\u001b[0m, in \u001b[0;36mdeepcopy\u001b[0;34m(x, memo, _nil)\u001b[0m\n\u001b[1;32m    130\u001b[0m     \u001b[38;5;28;01mreturn\u001b[39;00m y\n\u001b[1;32m    132\u001b[0m \u001b[38;5;28mcls\u001b[39m \u001b[38;5;241m=\u001b[39m \u001b[38;5;28mtype\u001b[39m(x)\n\u001b[0;32m--> 134\u001b[0m copier \u001b[38;5;241m=\u001b[39m \u001b[43m_deepcopy_dispatch\u001b[49m\u001b[38;5;241;43m.\u001b[39;49m\u001b[43mget\u001b[49m\u001b[43m(\u001b[49m\u001b[38;5;28;43mcls\u001b[39;49m\u001b[43m)\u001b[49m\n\u001b[1;32m    135\u001b[0m \u001b[38;5;28;01mif\u001b[39;00m copier \u001b[38;5;129;01mis\u001b[39;00m \u001b[38;5;129;01mnot\u001b[39;00m \u001b[38;5;28;01mNone\u001b[39;00m:\n\u001b[1;32m    136\u001b[0m     y \u001b[38;5;241m=\u001b[39m copier(x, memo)\n",
      "\u001b[0;31mKeyboardInterrupt\u001b[0m: "
     ]
    }
   ],
   "source": [
    "import os\n",
    "import importlib.util\n",
    "import json\n",
    "from generate.pddl import Generator, VanillaSampling\n",
    "import signal\n",
    "\n",
    "\n",
    "\n",
    "# Get the list of directories in the 'data/classical' folder\n",
    "dir = \"../data/classical\"\n",
    "out_dir = \"../data/json_traces\"\n",
    "\n",
    "vanilla_settings =  [(10,1), (20, 1), (50,1), (100,1)]\n",
    "\n",
    "directories = [d for d in os.listdir(dir) if os.path.isdir(os.path.join(dir, d))]\n",
    "\n",
    "with open (os.path.join(out_dir, \"random.txt\"), 'a') as file:\n",
    "    # For each directory\n",
    "    for directory in directories:\n",
    "        # Construct the path to the api.py file\n",
    "        api_file_path = os.path.join(dir, directory, 'api.py')\n",
    "\n",
    "        # Check if the api.py file exists\n",
    "        if os.path.exists(api_file_path):\n",
    "            # Load the api.py module\n",
    "            spec = importlib.util.spec_from_file_location('api', api_file_path)\n",
    "            api = importlib.util.module_from_spec(spec)\n",
    "            spec.loader.exec_module(api)\n",
    "\n",
    "            # Access the 'domains' variable\n",
    "            domains = api.domains\n",
    "            # Now you can use the 'domains' variable\n",
    "         \n",
    "            for domain in domains:\n",
    "               \n",
    "                for problem in domain['problems']:\n",
    "                    \n",
    "                    domain_file, problem_file = problem\n",
    "                    domain_name = domain_file.split('.')[0]\n",
    "                    problem_name = problem_file.split('.')[0]\n",
    "                    domain_file_path = os.path.join(dir, domain_file)\n",
    "                    problem_file_path = os.path.join(dir, problem_file)\n",
    "                    print(f\"Generating traces for: \\n\\tDomain: {domain_name}, Problem: {problem_name}\")\n",
    "                    \n",
    "                    # g = Generator(domain_file_path, problem_file_path)\n",
    "                    # try: \n",
    "                    #     plan = g.generate_plan()\n",
    "                    # except Exception as e:\n",
    "                    #     print(f\"Error generating plan: {e}\")\n",
    "                    #     continue\n",
    "                    # print(plan)\n",
    "                    # plan_trace = g.generate_single_trace_from_plan(plan)\n",
    "\n",
    "                    for plan_len, num_traces in vanilla_settings:\n",
    "                        signal.signal(signal.SIGALRM, handler)\n",
    "                        signal.alarm(60)\n",
    "                        try: \n",
    "                            vanilla = VanillaSampling(domain_file_path, problem_file_path, plan_len=plan_len, num_traces=num_traces)\n",
    "                            traces = vanilla.generate_traces()\n",
    "                            for trace in traces:\n",
    "                                t = []\n",
    "                                for action in trace.actions:\n",
    "                                    a = f\"{action.name}({\",\".join([obj.name for obj in action.obj_params])})\"\n",
    "                                    t.append(a)\n",
    "                                \n",
    "                              \n",
    "                            output = f\"{domain['name']}&&{domain_name}&&{problem_name}&&{plan_len}&&{' '.join(t)}\\n\"\n",
    "                            file.write(output)\n",
    "                        except TimeoutError as te:\n",
    "                            print(f\"Timeout generating vanilla traces: {te}\")\n",
    "                            continue\n",
    "                        except Exception as e:\n",
    "                            print(f\"Error generating vanilla traces: {e}\")\n",
    "                            continue\n",
    "                        finally:\n",
    "                            signal.alarm(0)\n",
    "                  \n",
    "           \n"
   ]
  }
 ],
 "metadata": {
  "kernelspec": {
   "display_name": "base",
   "language": "python",
   "name": "python3"
  },
  "language_info": {
   "codemirror_mode": {
    "name": "ipython",
    "version": 3
   },
   "file_extension": ".py",
   "mimetype": "text/x-python",
   "name": "python",
   "nbconvert_exporter": "python",
   "pygments_lexer": "ipython3",
   "version": "3.12.2"
  }
 },
 "nbformat": 4,
 "nbformat_minor": 2
}
