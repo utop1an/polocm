{
 "cells": [
  {
   "cell_type": "code",
   "execution_count": 1,
   "metadata": {},
   "outputs": [],
   "source": [
    "import pulp as pl"
   ]
  },
  {
   "cell_type": "code",
   "execution_count": 2,
   "metadata": {},
   "outputs": [
    {
     "name": "stdout",
     "output_type": "stream",
     "text": [
      "['GLPK_CMD', 'PYGLPK', 'CPLEX_CMD', 'CPLEX_PY', 'GUROBI', 'GUROBI_CMD', 'MOSEK', 'XPRESS', 'XPRESS', 'XPRESS_PY', 'PULP_CBC_CMD', 'COIN_CMD', 'COINMP_DLL', 'CHOCO_CMD', 'MIPCL_CMD', 'SCIP_CMD', 'FSCIP_CMD', 'SCIP_PY', 'HiGHS', 'HiGHS_CMD', 'COPT', 'COPT_DLL', 'COPT_CMD']\n"
     ]
    }
   ],
   "source": [
    "solvers = pl.listSolvers()\n",
    "print(solvers)"
   ]
  },
  {
   "cell_type": "code",
   "execution_count": 14,
   "metadata": {},
   "outputs": [
    {
     "name": "stdout",
     "output_type": "stream",
     "text": [
      "['A,B', 'A,C', 'A,D', 'A,E', 'B,C', 'B,D', 'B,E', 'C,D', 'C,E', 'D,E']\n",
      "{'A,B': x_A,B, 'A,C': x_A,C, 'A,D': x_A,D, 'A,E': x_A,E, 'B,C': x_B,C, 'B,D': x_B,D, 'B,E': x_B,E, 'C,D': x_C,D, 'C,E': x_C,E, 'D,E': x_D,E}\n"
     ]
    }
   ],
   "source": [
    "#actions = [['A', 'B', 'C', 'D', 'E'], ['X','Y','Z'], ['I','J','K','L']]\n",
    "\n",
    "actions = ['A', 'B', 'C', 'D', 'E']\n",
    "identifiers = []\n",
    "for i in range(len(actions)):\n",
    "    for j in range(i+1,len(actions)):\n",
    "        identifiers.append(actions[i]+ \",\"+ actions[j])\n",
    "print(identifiers)\n",
    "\n",
    "x= pl.LpVariable.dicts('x', indices= identifiers, lowBound=0, upBound=1, cat='Integer', indexStart=[])\n",
    "print(x)\n",
    "\n",
    "prob = pl.LpProblem('minimize transition', pl.LpMinimize)\n",
    "\n",
    "\n"
   ]
  },
  {
   "cell_type": "code",
   "execution_count": null,
   "metadata": {},
   "outputs": [],
   "source": []
  }
 ],
 "metadata": {
  "kernelspec": {
   "display_name": "Python 3",
   "language": "python",
   "name": "python3"
  },
  "language_info": {
   "codemirror_mode": {
    "name": "ipython",
    "version": 3
   },
   "file_extension": ".py",
   "mimetype": "text/x-python",
   "name": "python",
   "nbconvert_exporter": "python",
   "pygments_lexer": "ipython3",
   "version": "3.12.2"
  }
 },
 "nbformat": 4,
 "nbformat_minor": 2
}
