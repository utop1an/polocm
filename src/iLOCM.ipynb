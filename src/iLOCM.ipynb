{
 "cells": [
  {
   "cell_type": "markdown",
   "metadata": {},
   "source": [
    "# Learn the domain model in PDDL using iLOCM\n",
    "\n",
    "**interactive-LOCM**\n",
    "This code combines LOCM1 and LOCM2 algorithms and is last part of the pipeline that I use in my thesis to generate PDDL models from instructional texts.\n",
    "\n",
    "- Step 0: Preprocess: Lemmatize, Coref resolve, action override rename and replacing empty parameters.\n",
    "- Step 1: Find classes and make transition graphs.\n",
    "- Step 2: Get transistion sets from LOCM2 algorithm\n",
    "- Step 3: Create FSMs\n",
    "- Step 4: Perform Zero Analysis and add new FSM if necessary.\n",
    "- Step 5: Create and test hypothesis for state parameters\n",
    "- Step 6: Create and merge state parameters\n",
    "- Step 7: Remove parameter flaws\n",
    "- Step 8: Extract static preconditions\n",
    "- Step 9: Form action schemas"
   ]
  },
  {
   "cell_type": "code",
   "execution_count": 28,
   "metadata": {},
   "outputs": [],
   "source": [
    "from collections import defaultdict\n",
    "import itertools\n",
    "import os\n",
    "from tabulate import tabulate\n",
    "from pprint import pprint\n",
    "import matplotlib.pyplot as plt\n",
    "%matplotlib inline\n",
    "import networkx as nx\n",
    "import pandas as pd\n",
    "pd.options.display.max_columns = 100\n",
    "from IPython.display import display, Markdown\n",
    "from ipycytoscape import *\n",
    "import string"
   ]
  },
  {
   "cell_type": "markdown",
   "metadata": {},
   "source": [
    "## Read input sequences"
   ]
  },
  {
   "cell_type": "code",
   "execution_count": 124,
   "metadata": {},
   "outputs": [],
   "source": [
    "input_seqs = u'''\n",
    "board-truck(driver1, truck2, s4), disembark-truck(driver1, truck2, s4), board-truck(driver1, truck2, s4), load-truck(package5, truck2, s4), drive-truck(truck2, s4, s1, driver1), drive-truck(truck2, s1, s3, driver1), unload-truck(package5, truck2, s3), drive-truck(truck2, s3, s5, driver1), drive-truck(truck2, s5, s1, driver1), disembark-truck(driver1, truck2, s1), board-truck(driver2, truck1, s0), load-truck(package2, truck1, s0), drive-truck(truck1, s0, s1, driver2), unload-truck(package2, truck1, s1), drive-truck(truck1, s1, s0, driver2), disembark-truck(driver2, truck1, s0), board-truck(driver1, truck2, s1), load-truck(package1, truck2, s1), drive-truck(truck2, s1, s4, driver1), drive-truck(truck2, s4, s5, driver1), unload-truck(package1, truck2, s5), drive-truck(truck2, s5, s1, driver1), disembark-truck(driver1, truck2, s1), board-truck(driver1, truck2, s1), drive-truck(truck2, s1, s4, driver1), load-truck(package4, truck2, s4), drive-truck(truck2, s4, s1, driver1), unload-truck(package4, truck2, s1), disembark-truck(driver1, truck2, s1), board-truck(driver1, truck2, s1), drive-truck(truck2, s1, s4, driver1), load-truck(package3, truck2, s4), drive-truck(truck2, s4, s5, driver1), unload-truck(package3, truck2, s5), drive-truck(truck2, s5, s1, driver1), disembark-truck(driver1, truck2, s1)\n",
    "'''"
   ]
  },
  {
   "cell_type": "code",
   "execution_count": 125,
   "metadata": {},
   "outputs": [],
   "source": [
    "def read_input(input_seqs):\n",
    "    '''\n",
    "    Read the input data and return list of action sequences.\n",
    "    Each sequence is a list of action-argumentlist tuples.\n",
    "    '''\n",
    "    sequences = []\n",
    "    for seq in input_seqs.split('\\n'):\n",
    "        \n",
    "        actions = []\n",
    "        arguments = []\n",
    "        if seq and not seq.isspace() and len(seq)>1:\n",
    "            sequence = seq.rstrip(\"\\n\\r\").lstrip(\"\\n\\r\").lower() \n",
    "            action_defs = sequence.split(\"),\")\n",
    "\n",
    "            for action_def in action_defs:\n",
    "                action = action_def.split('(')[0].strip(\")\\n\\r\").strip()\n",
    "                argument = action_def.split('(')[1].strip(\")\\n\\r\")\n",
    "                actions.append(action.translate(str.maketrans('', '', string.punctuation)))\n",
    "                argument_list = argument.split(',')\n",
    "                argument_list = [x.strip() for x in argument_list]\n",
    "                #argument_list.insert(0,'zero')\n",
    "                arguments.append(argument_list)\n",
    "                \n",
    "            \n",
    "            actarg_tuples = zip(actions,arguments)\n",
    "            sequences.append(list(actarg_tuples))\n",
    "    return sequences\n",
    "\n",
    "def print_sequences(sequences):\n",
    "    for seq in sequences:\n",
    "        for index,action in enumerate(seq):\n",
    "            print(str(index) + \": \" + str(action))\n",
    "        print()"
   ]
  },
  {
   "cell_type": "code",
   "execution_count": 126,
   "metadata": {
    "lines_to_next_cell": 2,
    "scrolled": false
   },
   "outputs": [
    {
     "name": "stdout",
     "output_type": "stream",
     "text": [
      "0: ('boardtruck', ['driver1', 'truck2', 's4'])\n",
      "1: ('disembarktruck', ['driver1', 'truck2', 's4'])\n",
      "2: ('boardtruck', ['driver1', 'truck2', 's4'])\n",
      "3: ('loadtruck', ['package5', 'truck2', 's4'])\n",
      "4: ('drivetruck', ['truck2', 's4', 's1', 'driver1'])\n",
      "5: ('drivetruck', ['truck2', 's1', 's3', 'driver1'])\n",
      "6: ('unloadtruck', ['package5', 'truck2', 's3'])\n",
      "7: ('drivetruck', ['truck2', 's3', 's5', 'driver1'])\n",
      "8: ('drivetruck', ['truck2', 's5', 's1', 'driver1'])\n",
      "9: ('disembarktruck', ['driver1', 'truck2', 's1'])\n",
      "10: ('boardtruck', ['driver2', 'truck1', 's0'])\n",
      "11: ('loadtruck', ['package2', 'truck1', 's0'])\n",
      "12: ('drivetruck', ['truck1', 's0', 's1', 'driver2'])\n",
      "13: ('unloadtruck', ['package2', 'truck1', 's1'])\n",
      "14: ('drivetruck', ['truck1', 's1', 's0', 'driver2'])\n",
      "15: ('disembarktruck', ['driver2', 'truck1', 's0'])\n",
      "16: ('boardtruck', ['driver1', 'truck2', 's1'])\n",
      "17: ('loadtruck', ['package1', 'truck2', 's1'])\n",
      "18: ('drivetruck', ['truck2', 's1', 's4', 'driver1'])\n",
      "19: ('drivetruck', ['truck2', 's4', 's5', 'driver1'])\n",
      "20: ('unloadtruck', ['package1', 'truck2', 's5'])\n",
      "21: ('drivetruck', ['truck2', 's5', 's1', 'driver1'])\n",
      "22: ('disembarktruck', ['driver1', 'truck2', 's1'])\n",
      "23: ('boardtruck', ['driver1', 'truck2', 's1'])\n",
      "24: ('drivetruck', ['truck2', 's1', 's4', 'driver1'])\n",
      "25: ('loadtruck', ['package4', 'truck2', 's4'])\n",
      "26: ('drivetruck', ['truck2', 's4', 's1', 'driver1'])\n",
      "27: ('unloadtruck', ['package4', 'truck2', 's1'])\n",
      "28: ('disembarktruck', ['driver1', 'truck2', 's1'])\n",
      "29: ('boardtruck', ['driver1', 'truck2', 's1'])\n",
      "30: ('drivetruck', ['truck2', 's1', 's4', 'driver1'])\n",
      "31: ('loadtruck', ['package3', 'truck2', 's4'])\n",
      "32: ('drivetruck', ['truck2', 's4', 's5', 'driver1'])\n",
      "33: ('unloadtruck', ['package3', 'truck2', 's5'])\n",
      "34: ('drivetruck', ['truck2', 's5', 's1', 'driver1'])\n",
      "35: ('disembarktruck', ['driver1', 'truck2', 's1'])\n",
      "\n"
     ]
    }
   ],
   "source": [
    "sequences = read_input(input_seqs)\n",
    "print_sequences(sequences)\n",
    "domain_name = 'driverlog' #specify domain name to  be used in PDDL here."
   ]
  },
  {
   "cell_type": "markdown",
   "metadata": {},
   "source": [
    "## Step 1.1: Find classes "
   ]
  },
  {
   "cell_type": "code",
   "execution_count": 127,
   "metadata": {},
   "outputs": [
    {
     "name": "stdout",
     "output_type": "stream",
     "text": [
      "\n",
      "Actions\n",
      "{'disembarktruck', 'unloadtruck', 'loadtruck', 'boardtruck', 'drivetruck'}\n",
      "\n",
      "Arguments/Objects\n",
      "{'driver1', 'truck1', 's5', 's4', 'package5', 'package2', 'package1', 's3', 's1', 'package3', 'driver2', 'truck2', 'package4', 's0'}\n"
     ]
    }
   ],
   "source": [
    "transitions = set() # A transition is denoted by action_name + argument position\n",
    "arguments = set()\n",
    "actions = set()\n",
    "for seq in sequences:\n",
    "    for actarg_tuple in seq:\n",
    "        actions.add(actarg_tuple[0])\n",
    "        for j, arg in enumerate(actarg_tuple[1]):\n",
    "            transitions.add(actarg_tuple[0]+\".\"+str(j))\n",
    "            arguments.add(arg)\n",
    "\n",
    "print(\"\\nActions\")\n",
    "print(actions)\n",
    "# print(\"\\nTransitions\")\n",
    "# print(transitions)\n",
    "print(\"\\nArguments/Objects\")\n",
    "print(arguments)"
   ]
  },
  {
   "cell_type": "code",
   "execution_count": 128,
   "metadata": {},
   "outputs": [],
   "source": [
    "def get_actarg_dictionary(sequences):\n",
    "    d = defaultdict(list)\n",
    "    for seq in sequences:\n",
    "        for actarg_tuple in seq:\n",
    "            d[actarg_tuple[0]].append(actarg_tuple[1])\n",
    "    return d\n",
    "d = get_actarg_dictionary(sequences)"
   ]
  },
  {
   "cell_type": "code",
   "execution_count": 129,
   "metadata": {},
   "outputs": [],
   "source": [
    "# class util functions.\n",
    "def get_classes(d):\n",
    "    # TODO incorporate word similarity in get classes.\n",
    "    c = defaultdict(set)\n",
    "    for k,v in d.items():\n",
    "        for arg_list in v:\n",
    "            for i,object in enumerate(arg_list):\n",
    "                c[k,i].add(object)\n",
    "\n",
    "    sets = c.values()\n",
    "    classes = []\n",
    "    # remove duplicate classes\n",
    "    for s in sets:\n",
    "        if s not in classes:\n",
    "            classes.append(s)\n",
    "\n",
    "    # now do pairwise intersections of all values. If intersection, combine them; then return the final sets.\n",
    "    classes_copy = list(classes)\n",
    "    while True:\n",
    "        combinations = list(itertools.combinations(classes_copy,2))\n",
    "        intersections_count = 0\n",
    "        for combination in combinations:\n",
    "            if combination[0].intersection(combination[1]):\n",
    "                intersections_count +=1\n",
    "\n",
    "                if combination[0] in classes_copy:\n",
    "                    classes_copy.remove(combination[0])\n",
    "                if combination[1] in classes_copy:\n",
    "                    classes_copy.remove(combination[1])\n",
    "                classes_copy.append(combination[0].union(combination[1]))\n",
    "\n",
    "        if intersections_count==0:\n",
    "            # print(\"no intersections left\")\n",
    "            break\n",
    "\n",
    "    return classes_copy\n",
    "\n",
    "# TODO: Can use better approach here. NER might help.\n",
    "def get_class_names(classes):\n",
    "    # Name the class to first object found ignoring the digits in it\n",
    "    class_names = []\n",
    "    for c in classes:\n",
    "        for object in c:\n",
    "#             object = ''.join([i for i in object if not i.isdigit()])\n",
    "            class_names.append(object)\n",
    "            break\n",
    "    return class_names\n",
    "\n",
    "def get_class_index(arg,classes):\n",
    "    for class_index, c in enumerate(classes):\n",
    "        if arg in c:\n",
    "            return class_index #it is like breaking out of the loop\n",
    "    print(\"Error:class index not found\") #this statement is only executed if class index is not returned."
   ]
  },
  {
   "cell_type": "code",
   "execution_count": 130,
   "metadata": {
    "lines_to_next_cell": 0
   },
   "outputs": [
    {
     "name": "stdout",
     "output_type": "stream",
     "text": [
      "\n",
      "Sorts/Classes\n",
      "[{'driver1', 'driver2'}, {'truck1', 'truck2'}, {'package2', 'package5', 'package1', 'package3', 'package4'}, {'s5', 's4', 's3', 's1', 's0'}]\n",
      "\n",
      "Extracted class names\n",
      "['driver1', 'truck1', 'package2', 's5']\n"
     ]
    }
   ],
   "source": [
    "classes = get_classes(d) #sorts of object\n",
    "print(\"\\nSorts/Classes\")\n",
    "print(classes)\n",
    "\n",
    "class_names = get_class_names(classes)\n",
    "print(\"\\nExtracted class names\")\n",
    "print(class_names)"
   ]
  },
  {
   "cell_type": "markdown",
   "metadata": {},
   "source": [
    "## USER INPUT 1: Enter Correct Class names\n",
    "Editing the extracted class names to more readable object classes will make the final PDDL model more readable."
   ]
  },
  {
   "cell_type": "code",
   "execution_count": 131,
   "metadata": {
    "lines_to_next_cell": 2
   },
   "outputs": [
    {
     "name": "stdout",
     "output_type": "stream",
     "text": [
      "\n",
      "Renamed class names\n",
      "['Driver', 'Truck', 'Package', 'Location']\n"
     ]
    }
   ],
   "source": [
    "############ (Optional) User Input ############\n",
    "# Give user an option to change class names.\n",
    "# class_names[0] = 'rocket'\n",
    "\n",
    "#tyre\n",
    "# class_names[0] = 'Jack'\n",
    "# class_names[1] = 'Boot'\n",
    "# class_names[2] = 'Wheel'\n",
    "# class_names[3] = 'Hub'\n",
    "# class_names[4] = 'Wrench'\n",
    "# class_names[5] = 'Nut'\n",
    "\n",
    "#driverlog\n",
    "class_names[0] = 'Driver'\n",
    "class_names[1] = 'Truck'\n",
    "class_names[2] = 'Package'\n",
    "class_names[3] = 'Location'\n",
    "\n",
    "# #blocksworld\n",
    "# class_names[0] = 'Block'\n",
    "# class_names[1] = 'Gripper'\n",
    "\n",
    "\n",
    "print(\"\\nRenamed class names\")\n",
    "print(class_names)"
   ]
  },
  {
   "cell_type": "markdown",
   "metadata": {},
   "source": [
    " **Assumptions of LOCM2**\n",
    "- Each object of a same class undergoes similar kind of transition.\n",
    "- Objects of same class in a same action undergo similar kind of transition."
   ]
  },
  {
   "cell_type": "code",
   "execution_count": 132,
   "metadata": {},
   "outputs": [
    {
     "name": "stdout",
     "output_type": "stream",
     "text": [
      "\n",
      "Actions\n",
      "{'disembarktruck', 'unloadtruck', 'loadtruck', 'boardtruck', 'drivetruck'}\n",
      "\n",
      "Transitions\n",
      "{'disembarktruck.Location.2', 'loadtruck.Package.0', 'disembarktruck.Driver.0', 'drivetruck.Truck.0', 'disembarktruck.Truck.1', 'loadtruck.Location.2', 'boardtruck.Driver.0', 'boardtruck.Truck.1', 'loadtruck.Truck.1', 'unloadtruck.Package.0', 'drivetruck.Location.1', 'drivetruck.Location.2', 'drivetruck.Driver.3', 'unloadtruck.Location.2', 'boardtruck.Location.2', 'unloadtruck.Truck.1'}\n",
      "\n",
      "Arguments/Objects\n",
      "{'driver1', 'truck1', 's5', 's4', 'package5', 'package2', 'package1', 's3', 's1', 'package3', 'driver2', 'truck2', 'package4', 's0'}\n"
     ]
    }
   ],
   "source": [
    "# change transitions to be more meaningful by incorporating class_names.\n",
    "full_transitions = set()\n",
    "for seq in sequences:\n",
    "    for actarg_tuple in seq:\n",
    "        actions.add(actarg_tuple[0])\n",
    "        for j, arg in enumerate(actarg_tuple[1]):\n",
    "            full_transitions.add(actarg_tuple[0]+\".\"+class_names[get_class_index(arg,classes)]+'.'+str(j))\n",
    "            arguments.add(arg)\n",
    "\n",
    "print(\"\\nActions\")\n",
    "print(actions)\n",
    "print(\"\\nTransitions\")\n",
    "print(full_transitions)\n",
    "print(\"\\nArguments/Objects\")\n",
    "print(arguments)"
   ]
  },
  {
   "cell_type": "code",
   "execution_count": 133,
   "metadata": {},
   "outputs": [
    {
     "name": "stdout",
     "output_type": "stream",
     "text": [
      "\n",
      "Number of Actions: 5,\n",
      "Number of unique transitions: 16,\n",
      "Number of unique objects (arguments): 14,\n",
      "Number of classes/sorts: 4\n"
     ]
    }
   ],
   "source": [
    "print(\"\\nNumber of Actions: {},\\nNumber of unique transitions: {},\\nNumber of unique objects (arguments): {},\\nNumber of classes/sorts: {}\".format(len(actions), len(transitions), len(arguments), len(classes)))"
   ]
  },
  {
   "cell_type": "markdown",
   "metadata": {},
   "source": [
    "## Building Transition graphs"
   ]
  },
  {
   "cell_type": "markdown",
   "metadata": {},
   "source": [
    "### Utils"
   ]
  },
  {
   "cell_type": "code",
   "execution_count": 134,
   "metadata": {
    "lines_to_next_cell": 0
   },
   "outputs": [],
   "source": [
    "def empty_directory(folder):\n",
    "    for the_file in os.listdir(folder):\n",
    "        file_path = os.path.join(folder, the_file)\n",
    "        try:\n",
    "            if os.path.isfile(file_path):\n",
    "                os.unlink(file_path)\n",
    "            # elif os.path.isdir(file_path): shutil.rmtree(file_path)\n",
    "        except Exception as e:\n",
    "            print(e)\n",
    "\n",
    "def findsubsets(S,m):\n",
    "    return set(itertools.combinations(S, m))\n",
    "\n",
    "def print_table(matrix):\n",
    "    display(tabulate(matrix, headers='keys', tablefmt='html'))\n",
    "    \n",
    "def printmd(string):\n",
    "    display(Markdown(string))"
   ]
  },
  {
   "cell_type": "markdown",
   "metadata": {},
   "source": [
    "### Save graphs in graphml format (used in cytoscape)"
   ]
  },
  {
   "cell_type": "code",
   "execution_count": 135,
   "metadata": {},
   "outputs": [],
   "source": [
    "def save(graphs, domain_name):\n",
    "    adjacency_matrix_list = [] # list of adjacency matrices per class\n",
    "    \n",
    "    for index, G in enumerate(graphs):\n",
    "        nx.write_graphml(G, \"output/\"+ domain_name + \"/\" +  class_names[index] + \".graphml\")\n",
    "        df = nx.to_pandas_adjacency(G, nodelist=G.nodes(), dtype=int)\n",
    "        adjacency_matrix_list.append(df)\n",
    "#         print_table(df)\n",
    "    return adjacency_matrix_list"
   ]
  },
  {
   "cell_type": "code",
   "execution_count": 136,
   "metadata": {},
   "outputs": [],
   "source": [
    "def plot_cytographs(graphs, domain_name, aml):\n",
    "    cytoscapeobs = []\n",
    "    for index, G in enumerate(graphs):\n",
    "            cytoscapeobj = CytoscapeWidget()\n",
    "            cytoscapeobj.graph.add_graph_from_networkx(G)\n",
    "            edge_list = list()\n",
    "            for source, target, data in G.edges(data=True):\n",
    "                edge_instance = Edge()\n",
    "                edge_instance.data['source'] = source\n",
    "                edge_instance.data['target'] = target\n",
    "                for k, v in data.items():\n",
    "                    cyto_attrs = ['group', 'removed', 'selected', 'selectable',\n",
    "                        'locked', 'grabbed', 'grabbable', 'classes', 'position', 'data']\n",
    "                    if k in cyto_attrs:\n",
    "                        setattr(edge_instance, k, v)\n",
    "                    else:\n",
    "                        edge_instance.data[k] = v\n",
    "                    edge_list.append(edge_instance)\n",
    "            cytoscapeobj.graph.edges = edge_list\n",
    "#             cytoscapeobj.graph.add_graph_from_df(aml[index],aml[index].columns.tolist())\n",
    "            cytoscapeobs.append(cytoscapeobj)\n",
    "#             print(cytoscapeobj)\n",
    "            printmd('## class **'+class_names[index]+'**')\n",
    "            print_table(aml[index])\n",
    "    #         print(\"Nodes:{}\".format(G.nodes()))\n",
    "    #         print(\"Edges:{}\".format(G.edges()))\n",
    "            cytoscapeobj.set_style([{\n",
    "                            'width':400,\n",
    "                            'height':400,\n",
    "\n",
    "                            'selector': 'node',\n",
    "                            'style': {\n",
    "                                'label': 'data(id)',\n",
    "                                'font-family': 'helvetica',\n",
    "                                'font-size': '8px',\n",
    "                                'background-color': '#11479e',\n",
    "                                'height':'10px',\n",
    "                                'width':'10px',\n",
    "\n",
    "\n",
    "                                }\n",
    "\n",
    "                            },\n",
    "                            {\n",
    "                            'selector': 'node:parent',\n",
    "                            'css': {\n",
    "                                'background-opacity': 0.333,\n",
    "                                'background-color': '#bbb'\n",
    "                                }\n",
    "                            },\n",
    "                            {\n",
    "                            'selector': '$node > node',\n",
    "                            'css': {\n",
    "                                'padding-top': '10px',\n",
    "                                'padding-left': '10px',\n",
    "                                'padding-bottom': '10px',\n",
    "                                'padding-right': '10px',\n",
    "                                'text-valign': 'top',\n",
    "                                'text-halign': 'center',\n",
    "                                'background-color': '#bbb'\n",
    "                              }\n",
    "                            },\n",
    "                           {\n",
    "                                'selector': 'edge',\n",
    "\n",
    "                                'style': {\n",
    "                                    'label':'data(weight)',\n",
    "                                    'width': 1,\n",
    "                                    'line-color': '#9dbaea',\n",
    "                                    'target-arrow-shape': 'triangle',\n",
    "                                    'target-arrow-color': '#9dbaea',\n",
    "                                    'arrow-scale': 0.5,\n",
    "                                    'curve-style': 'bezier',\n",
    "                                    'font-family': 'helvetica',\n",
    "                                    'font-size': '8px',\n",
    "                                    'text-valign': 'top',\n",
    "                                    'text-halign':'center'\n",
    "                                }\n",
    "                            },\n",
    "                            ])\n",
    "            cytoscapeobj.max_zoom = 4.0\n",
    "            cytoscapeobj.min_zoom = 0.5\n",
    "            display(cytoscapeobj)\n",
    "    return cytoscapeobs"
   ]
  },
  {
   "cell_type": "markdown",
   "metadata": {},
   "source": [
    "#### Build transitions graphs and call save function"
   ]
  },
  {
   "cell_type": "code",
   "execution_count": 137,
   "metadata": {},
   "outputs": [],
   "source": [
    "def build_and_save_transition_graphs(classes, domain_name, class_names):\n",
    "    # There should be a graph for each class of objects.\n",
    "    graphs = []\n",
    "    # Initialize all graphs empty\n",
    "    for sort in classes:\n",
    "        graphs.append(nx.DiGraph())\n",
    "\n",
    "    consecutive_transition_lists = [] #list of consecutive transitions per object instance per sequence.\n",
    "\n",
    "    for m, arg in enumerate(arguments):  # for all arguments (objects found in sequences)\n",
    "        for n, seq in enumerate(sequences):  # for all sequences\n",
    "            consecutive_transition_list = list()  # consecutive transition list for a sequence and an object (arg)\n",
    "            for i, actarg_tuple in enumerate(seq):\n",
    "                for j, arg_prime in enumerate(actarg_tuple[1]):  # for all arguments in actarg tuples\n",
    "                    if arg == arg_prime:  # if argument matches arg\n",
    "                        node = actarg_tuple[0] + \".\" +  str(j)\n",
    "                        # node = actarg_tuple[0] +  \".\" + class_names[get_class_index(arg,classes)] + \".\" +  str(j)  # name the node of graph which represents a transition\n",
    "                        consecutive_transition_list.append(node)  # add node to the cons_transition for sequence and argument\n",
    "\n",
    "                        # for each class append the nodes to the graph of that class\n",
    "                        class_index = get_class_index(arg_prime, classes)  # get index of class to which the object belongs to\n",
    "                        graphs[class_index].add_node(node)  # add node to the graph of that class\n",
    "\n",
    "            consecutive_transition_lists.append([n, arg, consecutive_transition_list])\n",
    "\n",
    "    # print(consecutive_transition_lists)\n",
    "    # for all consecutive transitions add edges to the appropriate graphs.\n",
    "    for cons_trans_list in consecutive_transition_lists:\n",
    "        # print(cons_trans_list)\n",
    "        seq_no = cons_trans_list[0]  # get sequence number\n",
    "        arg = cons_trans_list[1]  # get argument\n",
    "        class_index = get_class_index(arg, classes)  # get index of class\n",
    "        # add directed edges to graph of that class\n",
    "        for i in range(0, len(cons_trans_list[2]) - 1):\n",
    "                if graphs[class_index].has_edge(cons_trans_list[2][i], cons_trans_list[2][i + 1]):\n",
    "                    graphs[class_index][cons_trans_list[2][i]][cons_trans_list[2][i + 1]]['weight'] += 1\n",
    "                else:\n",
    "                    graphs[class_index].add_edge(cons_trans_list[2][i], cons_trans_list[2][i + 1], weight=1)\n",
    "\n",
    "\n",
    "    \n",
    "    # make directory if doesn't exist\n",
    "    dirName = \"output/\"+ domain_name\n",
    "    if not os.path.exists(dirName):\n",
    "        os.makedirs(dirName)\n",
    "        print(\"Directory \", dirName, \" Created \")\n",
    "    else:\n",
    "        print(\"Directory \", dirName, \" already exists\")\n",
    "    empty_directory(dirName)\n",
    "     \n",
    "    # save all the graphs\n",
    "    adjacency_matrix_list = save(graphs, domain_name) # list of adjacency matrices per class\n",
    "    \n",
    "    # plot cytoscape interactive graphs\n",
    "    cytoscapeobs = plot_cytographs(graphs,domain_name, adjacency_matrix_list)\n",
    "    \n",
    "    return adjacency_matrix_list, graphs, cytoscapeobs"
   ]
  },
  {
   "cell_type": "markdown",
   "metadata": {},
   "source": [
    "##### Transition Graphs"
   ]
  },
  {
   "cell_type": "code",
   "execution_count": 138,
   "metadata": {
    "scrolled": false
   },
   "outputs": [
    {
     "data": {
      "text/markdown": [
       "## DRIVERLOG"
      ],
      "text/plain": [
       "<IPython.core.display.Markdown object>"
      ]
     },
     "metadata": {},
     "output_type": "display_data"
    },
    {
     "name": "stdout",
     "output_type": "stream",
     "text": [
      "Directory  output/driverlog  already exists\n"
     ]
    },
    {
     "data": {
      "text/markdown": [
       "## class **Driver**"
      ],
      "text/plain": [
       "<IPython.core.display.Markdown object>"
      ]
     },
     "metadata": {},
     "output_type": "display_data"
    },
    {
     "data": {
      "text/html": [
       "<table>\n",
       "<thead>\n",
       "<tr><th>                </th><th style=\"text-align: right;\">  boardtruck.0</th><th style=\"text-align: right;\">  disembarktruck.0</th><th style=\"text-align: right;\">  drivetruck.3</th></tr>\n",
       "</thead>\n",
       "<tbody>\n",
       "<tr><td>boardtruck.0    </td><td style=\"text-align: right;\">             0</td><td style=\"text-align: right;\">                 1</td><td style=\"text-align: right;\">             5</td></tr>\n",
       "<tr><td>disembarktruck.0</td><td style=\"text-align: right;\">             4</td><td style=\"text-align: right;\">                 0</td><td style=\"text-align: right;\">             0</td></tr>\n",
       "<tr><td>drivetruck.3    </td><td style=\"text-align: right;\">             0</td><td style=\"text-align: right;\">                 5</td><td style=\"text-align: right;\">             9</td></tr>\n",
       "</tbody>\n",
       "</table>"
      ],
      "text/plain": [
       "'<table>\\n<thead>\\n<tr><th>                </th><th style=\"text-align: right;\">  boardtruck.0</th><th style=\"text-align: right;\">  disembarktruck.0</th><th style=\"text-align: right;\">  drivetruck.3</th></tr>\\n</thead>\\n<tbody>\\n<tr><td>boardtruck.0    </td><td style=\"text-align: right;\">             0</td><td style=\"text-align: right;\">                 1</td><td style=\"text-align: right;\">             5</td></tr>\\n<tr><td>disembarktruck.0</td><td style=\"text-align: right;\">             4</td><td style=\"text-align: right;\">                 0</td><td style=\"text-align: right;\">             0</td></tr>\\n<tr><td>drivetruck.3    </td><td style=\"text-align: right;\">             0</td><td style=\"text-align: right;\">                 5</td><td style=\"text-align: right;\">             9</td></tr>\\n</tbody>\\n</table>'"
      ]
     },
     "metadata": {},
     "output_type": "display_data"
    },
    {
     "data": {
      "application/vnd.jupyter.widget-view+json": {
       "model_id": "3d1d7f7f7f464222af421f0a61e2dfc8",
       "version_major": 2,
       "version_minor": 0
      },
      "text/plain": [
       "CytoscapeWidget(cytoscape_layout={'name': 'cola'}, cytoscape_style=[{'width': 400, 'height': 400, 'selector': …"
      ]
     },
     "metadata": {},
     "output_type": "display_data"
    },
    {
     "data": {
      "text/markdown": [
       "## class **Truck**"
      ],
      "text/plain": [
       "<IPython.core.display.Markdown object>"
      ]
     },
     "metadata": {},
     "output_type": "display_data"
    },
    {
     "data": {
      "text/html": [
       "<table>\n",
       "<thead>\n",
       "<tr><th>                </th><th style=\"text-align: right;\">  boardtruck.1</th><th style=\"text-align: right;\">  loadtruck.1</th><th style=\"text-align: right;\">  drivetruck.0</th><th style=\"text-align: right;\">  unloadtruck.1</th><th style=\"text-align: right;\">  disembarktruck.1</th></tr>\n",
       "</thead>\n",
       "<tbody>\n",
       "<tr><td>boardtruck.1    </td><td style=\"text-align: right;\">             0</td><td style=\"text-align: right;\">            3</td><td style=\"text-align: right;\">             2</td><td style=\"text-align: right;\">              0</td><td style=\"text-align: right;\">                 1</td></tr>\n",
       "<tr><td>loadtruck.1     </td><td style=\"text-align: right;\">             0</td><td style=\"text-align: right;\">            0</td><td style=\"text-align: right;\">             5</td><td style=\"text-align: right;\">              0</td><td style=\"text-align: right;\">                 0</td></tr>\n",
       "<tr><td>drivetruck.0    </td><td style=\"text-align: right;\">             0</td><td style=\"text-align: right;\">            2</td><td style=\"text-align: right;\">             3</td><td style=\"text-align: right;\">              5</td><td style=\"text-align: right;\">                 4</td></tr>\n",
       "<tr><td>unloadtruck.1   </td><td style=\"text-align: right;\">             0</td><td style=\"text-align: right;\">            0</td><td style=\"text-align: right;\">             4</td><td style=\"text-align: right;\">              0</td><td style=\"text-align: right;\">                 1</td></tr>\n",
       "<tr><td>disembarktruck.1</td><td style=\"text-align: right;\">             4</td><td style=\"text-align: right;\">            0</td><td style=\"text-align: right;\">             0</td><td style=\"text-align: right;\">              0</td><td style=\"text-align: right;\">                 0</td></tr>\n",
       "</tbody>\n",
       "</table>"
      ],
      "text/plain": [
       "'<table>\\n<thead>\\n<tr><th>                </th><th style=\"text-align: right;\">  boardtruck.1</th><th style=\"text-align: right;\">  loadtruck.1</th><th style=\"text-align: right;\">  drivetruck.0</th><th style=\"text-align: right;\">  unloadtruck.1</th><th style=\"text-align: right;\">  disembarktruck.1</th></tr>\\n</thead>\\n<tbody>\\n<tr><td>boardtruck.1    </td><td style=\"text-align: right;\">             0</td><td style=\"text-align: right;\">            3</td><td style=\"text-align: right;\">             2</td><td style=\"text-align: right;\">              0</td><td style=\"text-align: right;\">                 1</td></tr>\\n<tr><td>loadtruck.1     </td><td style=\"text-align: right;\">             0</td><td style=\"text-align: right;\">            0</td><td style=\"text-align: right;\">             5</td><td style=\"text-align: right;\">              0</td><td style=\"text-align: right;\">                 0</td></tr>\\n<tr><td>drivetruck.0    </td><td style=\"text-align: right;\">             0</td><td style=\"text-align: right;\">            2</td><td style=\"text-align: right;\">             3</td><td style=\"text-align: right;\">              5</td><td style=\"text-align: right;\">                 4</td></tr>\\n<tr><td>unloadtruck.1   </td><td style=\"text-align: right;\">             0</td><td style=\"text-align: right;\">            0</td><td style=\"text-align: right;\">             4</td><td style=\"text-align: right;\">              0</td><td style=\"text-align: right;\">                 1</td></tr>\\n<tr><td>disembarktruck.1</td><td style=\"text-align: right;\">             4</td><td style=\"text-align: right;\">            0</td><td style=\"text-align: right;\">             0</td><td style=\"text-align: right;\">              0</td><td style=\"text-align: right;\">                 0</td></tr>\\n</tbody>\\n</table>'"
      ]
     },
     "metadata": {},
     "output_type": "display_data"
    },
    {
     "data": {
      "application/vnd.jupyter.widget-view+json": {
       "model_id": "a4e0f689ac8e419f939aa244649da427",
       "version_major": 2,
       "version_minor": 0
      },
      "text/plain": [
       "CytoscapeWidget(cytoscape_layout={'name': 'cola'}, cytoscape_style=[{'width': 400, 'height': 400, 'selector': …"
      ]
     },
     "metadata": {},
     "output_type": "display_data"
    },
    {
     "data": {
      "text/markdown": [
       "## class **Package**"
      ],
      "text/plain": [
       "<IPython.core.display.Markdown object>"
      ]
     },
     "metadata": {},
     "output_type": "display_data"
    },
    {
     "data": {
      "text/html": [
       "<table>\n",
       "<thead>\n",
       "<tr><th>             </th><th style=\"text-align: right;\">  loadtruck.0</th><th style=\"text-align: right;\">  unloadtruck.0</th></tr>\n",
       "</thead>\n",
       "<tbody>\n",
       "<tr><td>loadtruck.0  </td><td style=\"text-align: right;\">            0</td><td style=\"text-align: right;\">              5</td></tr>\n",
       "<tr><td>unloadtruck.0</td><td style=\"text-align: right;\">            0</td><td style=\"text-align: right;\">              0</td></tr>\n",
       "</tbody>\n",
       "</table>"
      ],
      "text/plain": [
       "'<table>\\n<thead>\\n<tr><th>             </th><th style=\"text-align: right;\">  loadtruck.0</th><th style=\"text-align: right;\">  unloadtruck.0</th></tr>\\n</thead>\\n<tbody>\\n<tr><td>loadtruck.0  </td><td style=\"text-align: right;\">            0</td><td style=\"text-align: right;\">              5</td></tr>\\n<tr><td>unloadtruck.0</td><td style=\"text-align: right;\">            0</td><td style=\"text-align: right;\">              0</td></tr>\\n</tbody>\\n</table>'"
      ]
     },
     "metadata": {},
     "output_type": "display_data"
    },
    {
     "data": {
      "application/vnd.jupyter.widget-view+json": {
       "model_id": "0ccad50a9c5e4cffa5f6304d93b45b78",
       "version_major": 2,
       "version_minor": 0
      },
      "text/plain": [
       "CytoscapeWidget(cytoscape_layout={'name': 'cola'}, cytoscape_style=[{'width': 400, 'height': 400, 'selector': …"
      ]
     },
     "metadata": {},
     "output_type": "display_data"
    },
    {
     "data": {
      "text/markdown": [
       "## class **Location**"
      ],
      "text/plain": [
       "<IPython.core.display.Markdown object>"
      ]
     },
     "metadata": {},
     "output_type": "display_data"
    },
    {
     "data": {
      "text/html": [
       "<table>\n",
       "<thead>\n",
       "<tr><th>                </th><th style=\"text-align: right;\">  drivetruck.2</th><th style=\"text-align: right;\">  drivetruck.1</th><th style=\"text-align: right;\">  unloadtruck.2</th><th style=\"text-align: right;\">  boardtruck.2</th><th style=\"text-align: right;\">  disembarktruck.2</th><th style=\"text-align: right;\">  loadtruck.2</th></tr>\n",
       "</thead>\n",
       "<tbody>\n",
       "<tr><td>drivetruck.2    </td><td style=\"text-align: right;\">             0</td><td style=\"text-align: right;\">             3</td><td style=\"text-align: right;\">              5</td><td style=\"text-align: right;\">             0</td><td style=\"text-align: right;\">                 4</td><td style=\"text-align: right;\">            2</td></tr>\n",
       "<tr><td>drivetruck.1    </td><td style=\"text-align: right;\">            10</td><td style=\"text-align: right;\">             0</td><td style=\"text-align: right;\">              0</td><td style=\"text-align: right;\">             1</td><td style=\"text-align: right;\">                 0</td><td style=\"text-align: right;\">            0</td></tr>\n",
       "<tr><td>unloadtruck.2   </td><td style=\"text-align: right;\">             0</td><td style=\"text-align: right;\">             4</td><td style=\"text-align: right;\">              0</td><td style=\"text-align: right;\">             0</td><td style=\"text-align: right;\">                 1</td><td style=\"text-align: right;\">            0</td></tr>\n",
       "<tr><td>boardtruck.2    </td><td style=\"text-align: right;\">             0</td><td style=\"text-align: right;\">             2</td><td style=\"text-align: right;\">              0</td><td style=\"text-align: right;\">             0</td><td style=\"text-align: right;\">                 1</td><td style=\"text-align: right;\">            3</td></tr>\n",
       "<tr><td>disembarktruck.2</td><td style=\"text-align: right;\">             1</td><td style=\"text-align: right;\">             0</td><td style=\"text-align: right;\">              0</td><td style=\"text-align: right;\">             3</td><td style=\"text-align: right;\">                 0</td><td style=\"text-align: right;\">            0</td></tr>\n",
       "<tr><td>loadtruck.2     </td><td style=\"text-align: right;\">             0</td><td style=\"text-align: right;\">             5</td><td style=\"text-align: right;\">              0</td><td style=\"text-align: right;\">             0</td><td style=\"text-align: right;\">                 0</td><td style=\"text-align: right;\">            0</td></tr>\n",
       "</tbody>\n",
       "</table>"
      ],
      "text/plain": [
       "'<table>\\n<thead>\\n<tr><th>                </th><th style=\"text-align: right;\">  drivetruck.2</th><th style=\"text-align: right;\">  drivetruck.1</th><th style=\"text-align: right;\">  unloadtruck.2</th><th style=\"text-align: right;\">  boardtruck.2</th><th style=\"text-align: right;\">  disembarktruck.2</th><th style=\"text-align: right;\">  loadtruck.2</th></tr>\\n</thead>\\n<tbody>\\n<tr><td>drivetruck.2    </td><td style=\"text-align: right;\">             0</td><td style=\"text-align: right;\">             3</td><td style=\"text-align: right;\">              5</td><td style=\"text-align: right;\">             0</td><td style=\"text-align: right;\">                 4</td><td style=\"text-align: right;\">            2</td></tr>\\n<tr><td>drivetruck.1    </td><td style=\"text-align: right;\">            10</td><td style=\"text-align: right;\">             0</td><td style=\"text-align: right;\">              0</td><td style=\"text-align: right;\">             1</td><td style=\"text-align: right;\">                 0</td><td style=\"text-align: right;\">            0</td></tr>\\n<tr><td>unloadtruck.2   </td><td style=\"text-align: right;\">             0</td><td style=\"text-align: right;\">             4</td><td style=\"text-align: right;\">              0</td><td style=\"text-align: right;\">             0</td><td style=\"text-align: right;\">                 1</td><td style=\"text-align: right;\">            0</td></tr>\\n<tr><td>boardtruck.2    </td><td style=\"text-align: right;\">             0</td><td style=\"text-align: right;\">             2</td><td style=\"text-align: right;\">              0</td><td style=\"text-align: right;\">             0</td><td style=\"text-align: right;\">                 1</td><td style=\"text-align: right;\">            3</td></tr>\\n<tr><td>disembarktruck.2</td><td style=\"text-align: right;\">             1</td><td style=\"text-align: right;\">             0</td><td style=\"text-align: right;\">              0</td><td style=\"text-align: right;\">             3</td><td style=\"text-align: right;\">                 0</td><td style=\"text-align: right;\">            0</td></tr>\\n<tr><td>loadtruck.2     </td><td style=\"text-align: right;\">             0</td><td style=\"text-align: right;\">             5</td><td style=\"text-align: right;\">              0</td><td style=\"text-align: right;\">             0</td><td style=\"text-align: right;\">                 0</td><td style=\"text-align: right;\">            0</td></tr>\\n</tbody>\\n</table>'"
      ]
     },
     "metadata": {},
     "output_type": "display_data"
    },
    {
     "data": {
      "application/vnd.jupyter.widget-view+json": {
       "model_id": "1ef5fbb0b43445e39eedd1b73532ec7c",
       "version_major": 2,
       "version_minor": 0
      },
      "text/plain": [
       "CytoscapeWidget(cytoscape_layout={'name': 'cola'}, cytoscape_style=[{'width': 400, 'height': 400, 'selector': …"
      ]
     },
     "metadata": {},
     "output_type": "display_data"
    }
   ],
   "source": [
    "#### Build weighted directed graphs for transitions.\n",
    "printmd(\"## \"+ domain_name.upper())\n",
    "adjacency_matrix_list, graphs, cytoscapeobjs = build_and_save_transition_graphs(classes, domain_name, class_names)"
   ]
  },
  {
   "cell_type": "markdown",
   "metadata": {},
   "source": [
    "## USER INPUT 2: Edit transition graphs\n",
    "For meaningful LOCM models, here one can edit the transition graphs to make them accurate. However, in the paper we don't do that in order to estimate what kind of models are learned automatically from natural language data."
   ]
  },
  {
   "cell_type": "markdown",
   "metadata": {},
   "source": [
    "Option 1. **You can add or delete nodes/edges in transition graphs by following methods like add_node, delete_edges shown in the following library.**\n",
    "https://github.com/QuantStack/ipycytoscape/blob/master/ipycytoscape/cytoscape.py\n",
    "\n",
    "Option 2. **Alternatively you can use the saved .graphml file. Open it up in Cytoscape, edit it within the GUI and load that graph into the graphs list.**"
   ]
  },
  {
   "cell_type": "markdown",
   "metadata": {},
   "source": [
    "## Step 2: Get Transition Sets from LOCM2\n",
    "\n",
    "**Algorithm**: LOCM2\n",
    "\n",
    "**Input** : \n",
    "- T_all = set of observed transitions for a sort/class\n",
    "- H : Set of holes - each hole is a set of two transitions.\n",
    "- P : Set of pairs <t1,t2> i.e. consecutive transitions.\n",
    "- E : Set of example sequences of actions.\n",
    "\n",
    "**Output**:\n",
    "- S : Set of transition sets.\n",
    "### Finding holes\n",
    "Holes are transitions that LOCM1 will assume to be true due to the flaw of overgeneralizing"
   ]
  },
  {
   "cell_type": "code",
   "execution_count": 110,
   "metadata": {},
   "outputs": [],
   "source": [
    "def get_adjacency_matrix_with_holes(adjacency_matrix_list):\n",
    "    adjacency_matrix_list_with_holes = []\n",
    "    for index,adjacency_matrix in enumerate(adjacency_matrix_list):\n",
    "        # print(\"\\n ROWS ===========\")\n",
    "        df = adjacency_matrix.copy()\n",
    "        df1 = adjacency_matrix.copy()\n",
    "\n",
    "        # for particular adjacency matrix's copy, loop over all pairs of rows\n",
    "        for i in range(df.shape[0] - 1):\n",
    "            for j in range(i+1, df.shape[0]):\n",
    "                idx1, idx2 = i, j\n",
    "                row1, row2 = df.iloc[idx1,:], df.iloc[idx2, :] #we have now all pairs of rows\n",
    "\n",
    "                common_values_flag = False #for each two rows we have a common_values_flag\n",
    "\n",
    "                # if there is a common value between two rows, turn common value flag to true\n",
    "                for col in range(row1.shape[0]):\n",
    "                    if row1.iloc[col] > 0 and row2.iloc[col] > 0:\n",
    "                        common_values_flag = True\n",
    "                        break\n",
    "\n",
    "                # now if two rows have common values, we need to check for holes.\n",
    "                if common_values_flag:\n",
    "                    for col in range(row1.shape[0]):\n",
    "                        if row1.iloc[col] > 0 and row2.iloc[col] == 0:\n",
    "                            df1.iloc[idx2,col] = 'hole'\n",
    "                        elif row1.iloc[col] == 0 and row2.iloc[col] > 0:\n",
    "                            df1.iloc[idx1, col] = 'hole'\n",
    "\n",
    "        adjacency_matrix_list_with_holes.append(df1)\n",
    "    return adjacency_matrix_list_with_holes"
   ]
  },
  {
   "cell_type": "code",
   "execution_count": 111,
   "metadata": {
    "lines_to_next_cell": 2,
    "scrolled": false
   },
   "outputs": [
    {
     "name": "stderr",
     "output_type": "stream",
     "text": [
      "/tmp/ipykernel_1512533/611254723.py:26: FutureWarning: Setting an item of incompatible dtype is deprecated and will raise an error in a future version of pandas. Value 'hole' has dtype incompatible with int64, please explicitly cast to a compatible dtype first.\n",
      "  df1.iloc[idx2,col] = 'hole'\n",
      "/tmp/ipykernel_1512533/611254723.py:26: FutureWarning: Setting an item of incompatible dtype is deprecated and will raise an error in a future version of pandas. Value 'hole' has dtype incompatible with int64, please explicitly cast to a compatible dtype first.\n",
      "  df1.iloc[idx2,col] = 'hole'\n",
      "/tmp/ipykernel_1512533/611254723.py:28: FutureWarning: Setting an item of incompatible dtype is deprecated and will raise an error in a future version of pandas. Value 'hole' has dtype incompatible with int64, please explicitly cast to a compatible dtype first.\n",
      "  df1.iloc[idx1, col] = 'hole'\n",
      "/tmp/ipykernel_1512533/611254723.py:26: FutureWarning: Setting an item of incompatible dtype is deprecated and will raise an error in a future version of pandas. Value 'hole' has dtype incompatible with int64, please explicitly cast to a compatible dtype first.\n",
      "  df1.iloc[idx2,col] = 'hole'\n",
      "/tmp/ipykernel_1512533/611254723.py:26: FutureWarning: Setting an item of incompatible dtype is deprecated and will raise an error in a future version of pandas. Value 'hole' has dtype incompatible with int64, please explicitly cast to a compatible dtype first.\n",
      "  df1.iloc[idx2,col] = 'hole'\n",
      "/tmp/ipykernel_1512533/611254723.py:26: FutureWarning: Setting an item of incompatible dtype is deprecated and will raise an error in a future version of pandas. Value 'hole' has dtype incompatible with int64, please explicitly cast to a compatible dtype first.\n",
      "  df1.iloc[idx2,col] = 'hole'\n"
     ]
    },
    {
     "data": {
      "text/markdown": [
       "\n",
       "#### Driver"
      ],
      "text/plain": [
       "<IPython.core.display.Markdown object>"
      ]
     },
     "metadata": {},
     "output_type": "display_data"
    },
    {
     "data": {
      "text/html": [
       "<table>\n",
       "<thead>\n",
       "<tr><th>                </th><th style=\"text-align: right;\">  boardtruck.0</th><th style=\"text-align: right;\">  disembarktruck.0</th><th style=\"text-align: right;\">  drivetruck.3</th></tr>\n",
       "</thead>\n",
       "<tbody>\n",
       "<tr><td>boardtruck.0    </td><td style=\"text-align: right;\">             0</td><td style=\"text-align: right;\">                 1</td><td style=\"text-align: right;\">             5</td></tr>\n",
       "<tr><td>disembarktruck.0</td><td style=\"text-align: right;\">             4</td><td style=\"text-align: right;\">                 0</td><td style=\"text-align: right;\">             0</td></tr>\n",
       "<tr><td>drivetruck.3    </td><td style=\"text-align: right;\">             0</td><td style=\"text-align: right;\">                 5</td><td style=\"text-align: right;\">             9</td></tr>\n",
       "</tbody>\n",
       "</table>"
      ],
      "text/plain": [
       "'<table>\\n<thead>\\n<tr><th>                </th><th style=\"text-align: right;\">  boardtruck.0</th><th style=\"text-align: right;\">  disembarktruck.0</th><th style=\"text-align: right;\">  drivetruck.3</th></tr>\\n</thead>\\n<tbody>\\n<tr><td>boardtruck.0    </td><td style=\"text-align: right;\">             0</td><td style=\"text-align: right;\">                 1</td><td style=\"text-align: right;\">             5</td></tr>\\n<tr><td>disembarktruck.0</td><td style=\"text-align: right;\">             4</td><td style=\"text-align: right;\">                 0</td><td style=\"text-align: right;\">             0</td></tr>\\n<tr><td>drivetruck.3    </td><td style=\"text-align: right;\">             0</td><td style=\"text-align: right;\">                 5</td><td style=\"text-align: right;\">             9</td></tr>\\n</tbody>\\n</table>'"
      ]
     },
     "metadata": {},
     "output_type": "display_data"
    },
    {
     "data": {
      "text/markdown": [
       "\n",
       "#### HOLES: Driver"
      ],
      "text/plain": [
       "<IPython.core.display.Markdown object>"
      ]
     },
     "metadata": {},
     "output_type": "display_data"
    },
    {
     "data": {
      "text/html": [
       "<table>\n",
       "<thead>\n",
       "<tr><th>                </th><th style=\"text-align: right;\">  boardtruck.0</th><th style=\"text-align: right;\">  disembarktruck.0</th><th style=\"text-align: right;\">  drivetruck.3</th></tr>\n",
       "</thead>\n",
       "<tbody>\n",
       "<tr><td>boardtruck.0    </td><td style=\"text-align: right;\">             0</td><td style=\"text-align: right;\">                 1</td><td style=\"text-align: right;\">             5</td></tr>\n",
       "<tr><td>disembarktruck.0</td><td style=\"text-align: right;\">             4</td><td style=\"text-align: right;\">                 0</td><td style=\"text-align: right;\">             0</td></tr>\n",
       "<tr><td>drivetruck.3    </td><td style=\"text-align: right;\">             0</td><td style=\"text-align: right;\">                 5</td><td style=\"text-align: right;\">             9</td></tr>\n",
       "</tbody>\n",
       "</table>"
      ],
      "text/plain": [
       "'<table>\\n<thead>\\n<tr><th>                </th><th style=\"text-align: right;\">  boardtruck.0</th><th style=\"text-align: right;\">  disembarktruck.0</th><th style=\"text-align: right;\">  drivetruck.3</th></tr>\\n</thead>\\n<tbody>\\n<tr><td>boardtruck.0    </td><td style=\"text-align: right;\">             0</td><td style=\"text-align: right;\">                 1</td><td style=\"text-align: right;\">             5</td></tr>\\n<tr><td>disembarktruck.0</td><td style=\"text-align: right;\">             4</td><td style=\"text-align: right;\">                 0</td><td style=\"text-align: right;\">             0</td></tr>\\n<tr><td>drivetruck.3    </td><td style=\"text-align: right;\">             0</td><td style=\"text-align: right;\">                 5</td><td style=\"text-align: right;\">             9</td></tr>\\n</tbody>\\n</table>'"
      ]
     },
     "metadata": {},
     "output_type": "display_data"
    },
    {
     "data": {
      "text/markdown": [
       "\n",
       "#### Truck"
      ],
      "text/plain": [
       "<IPython.core.display.Markdown object>"
      ]
     },
     "metadata": {},
     "output_type": "display_data"
    },
    {
     "data": {
      "text/html": [
       "<table>\n",
       "<thead>\n",
       "<tr><th>                </th><th style=\"text-align: right;\">  boardtruck.1</th><th style=\"text-align: right;\">  loadtruck.1</th><th style=\"text-align: right;\">  drivetruck.0</th><th style=\"text-align: right;\">  unloadtruck.1</th><th style=\"text-align: right;\">  disembarktruck.1</th></tr>\n",
       "</thead>\n",
       "<tbody>\n",
       "<tr><td>boardtruck.1    </td><td style=\"text-align: right;\">             0</td><td style=\"text-align: right;\">            3</td><td style=\"text-align: right;\">             2</td><td style=\"text-align: right;\">              0</td><td style=\"text-align: right;\">                 1</td></tr>\n",
       "<tr><td>loadtruck.1     </td><td style=\"text-align: right;\">             0</td><td style=\"text-align: right;\">            0</td><td style=\"text-align: right;\">             5</td><td style=\"text-align: right;\">              0</td><td style=\"text-align: right;\">                 0</td></tr>\n",
       "<tr><td>drivetruck.0    </td><td style=\"text-align: right;\">             0</td><td style=\"text-align: right;\">            2</td><td style=\"text-align: right;\">             3</td><td style=\"text-align: right;\">              5</td><td style=\"text-align: right;\">                 4</td></tr>\n",
       "<tr><td>unloadtruck.1   </td><td style=\"text-align: right;\">             0</td><td style=\"text-align: right;\">            0</td><td style=\"text-align: right;\">             4</td><td style=\"text-align: right;\">              0</td><td style=\"text-align: right;\">                 1</td></tr>\n",
       "<tr><td>disembarktruck.1</td><td style=\"text-align: right;\">             4</td><td style=\"text-align: right;\">            0</td><td style=\"text-align: right;\">             0</td><td style=\"text-align: right;\">              0</td><td style=\"text-align: right;\">                 0</td></tr>\n",
       "</tbody>\n",
       "</table>"
      ],
      "text/plain": [
       "'<table>\\n<thead>\\n<tr><th>                </th><th style=\"text-align: right;\">  boardtruck.1</th><th style=\"text-align: right;\">  loadtruck.1</th><th style=\"text-align: right;\">  drivetruck.0</th><th style=\"text-align: right;\">  unloadtruck.1</th><th style=\"text-align: right;\">  disembarktruck.1</th></tr>\\n</thead>\\n<tbody>\\n<tr><td>boardtruck.1    </td><td style=\"text-align: right;\">             0</td><td style=\"text-align: right;\">            3</td><td style=\"text-align: right;\">             2</td><td style=\"text-align: right;\">              0</td><td style=\"text-align: right;\">                 1</td></tr>\\n<tr><td>loadtruck.1     </td><td style=\"text-align: right;\">             0</td><td style=\"text-align: right;\">            0</td><td style=\"text-align: right;\">             5</td><td style=\"text-align: right;\">              0</td><td style=\"text-align: right;\">                 0</td></tr>\\n<tr><td>drivetruck.0    </td><td style=\"text-align: right;\">             0</td><td style=\"text-align: right;\">            2</td><td style=\"text-align: right;\">             3</td><td style=\"text-align: right;\">              5</td><td style=\"text-align: right;\">                 4</td></tr>\\n<tr><td>unloadtruck.1   </td><td style=\"text-align: right;\">             0</td><td style=\"text-align: right;\">            0</td><td style=\"text-align: right;\">             4</td><td style=\"text-align: right;\">              0</td><td style=\"text-align: right;\">                 1</td></tr>\\n<tr><td>disembarktruck.1</td><td style=\"text-align: right;\">             4</td><td style=\"text-align: right;\">            0</td><td style=\"text-align: right;\">             0</td><td style=\"text-align: right;\">              0</td><td style=\"text-align: right;\">                 0</td></tr>\\n</tbody>\\n</table>'"
      ]
     },
     "metadata": {},
     "output_type": "display_data"
    },
    {
     "data": {
      "text/markdown": [
       "\n",
       "#### HOLES: Truck"
      ],
      "text/plain": [
       "<IPython.core.display.Markdown object>"
      ]
     },
     "metadata": {},
     "output_type": "display_data"
    },
    {
     "data": {
      "text/html": [
       "<table>\n",
       "<thead>\n",
       "<tr><th>                </th><th style=\"text-align: right;\">  boardtruck.1</th><th>loadtruck.1  </th><th style=\"text-align: right;\">  drivetruck.0</th><th>unloadtruck.1  </th><th>disembarktruck.1  </th></tr>\n",
       "</thead>\n",
       "<tbody>\n",
       "<tr><td>boardtruck.1    </td><td style=\"text-align: right;\">             0</td><td>3            </td><td style=\"text-align: right;\">             2</td><td>hole           </td><td>1                 </td></tr>\n",
       "<tr><td>loadtruck.1     </td><td style=\"text-align: right;\">             0</td><td>hole         </td><td style=\"text-align: right;\">             5</td><td>hole           </td><td>hole              </td></tr>\n",
       "<tr><td>drivetruck.0    </td><td style=\"text-align: right;\">             0</td><td>2            </td><td style=\"text-align: right;\">             3</td><td>5              </td><td>4                 </td></tr>\n",
       "<tr><td>unloadtruck.1   </td><td style=\"text-align: right;\">             0</td><td>hole         </td><td style=\"text-align: right;\">             4</td><td>hole           </td><td>1                 </td></tr>\n",
       "<tr><td>disembarktruck.1</td><td style=\"text-align: right;\">             4</td><td>0            </td><td style=\"text-align: right;\">             0</td><td>0              </td><td>0                 </td></tr>\n",
       "</tbody>\n",
       "</table>"
      ],
      "text/plain": [
       "'<table>\\n<thead>\\n<tr><th>                </th><th style=\"text-align: right;\">  boardtruck.1</th><th>loadtruck.1  </th><th style=\"text-align: right;\">  drivetruck.0</th><th>unloadtruck.1  </th><th>disembarktruck.1  </th></tr>\\n</thead>\\n<tbody>\\n<tr><td>boardtruck.1    </td><td style=\"text-align: right;\">             0</td><td>3            </td><td style=\"text-align: right;\">             2</td><td>hole           </td><td>1                 </td></tr>\\n<tr><td>loadtruck.1     </td><td style=\"text-align: right;\">             0</td><td>hole         </td><td style=\"text-align: right;\">             5</td><td>hole           </td><td>hole              </td></tr>\\n<tr><td>drivetruck.0    </td><td style=\"text-align: right;\">             0</td><td>2            </td><td style=\"text-align: right;\">             3</td><td>5              </td><td>4                 </td></tr>\\n<tr><td>unloadtruck.1   </td><td style=\"text-align: right;\">             0</td><td>hole         </td><td style=\"text-align: right;\">             4</td><td>hole           </td><td>1                 </td></tr>\\n<tr><td>disembarktruck.1</td><td style=\"text-align: right;\">             4</td><td>0            </td><td style=\"text-align: right;\">             0</td><td>0              </td><td>0                 </td></tr>\\n</tbody>\\n</table>'"
      ]
     },
     "metadata": {},
     "output_type": "display_data"
    },
    {
     "data": {
      "text/markdown": [
       "\n",
       "#### Package"
      ],
      "text/plain": [
       "<IPython.core.display.Markdown object>"
      ]
     },
     "metadata": {},
     "output_type": "display_data"
    },
    {
     "data": {
      "text/html": [
       "<table>\n",
       "<thead>\n",
       "<tr><th>             </th><th style=\"text-align: right;\">  loadtruck.0</th><th style=\"text-align: right;\">  unloadtruck.0</th></tr>\n",
       "</thead>\n",
       "<tbody>\n",
       "<tr><td>loadtruck.0  </td><td style=\"text-align: right;\">            0</td><td style=\"text-align: right;\">              5</td></tr>\n",
       "<tr><td>unloadtruck.0</td><td style=\"text-align: right;\">            0</td><td style=\"text-align: right;\">              0</td></tr>\n",
       "</tbody>\n",
       "</table>"
      ],
      "text/plain": [
       "'<table>\\n<thead>\\n<tr><th>             </th><th style=\"text-align: right;\">  loadtruck.0</th><th style=\"text-align: right;\">  unloadtruck.0</th></tr>\\n</thead>\\n<tbody>\\n<tr><td>loadtruck.0  </td><td style=\"text-align: right;\">            0</td><td style=\"text-align: right;\">              5</td></tr>\\n<tr><td>unloadtruck.0</td><td style=\"text-align: right;\">            0</td><td style=\"text-align: right;\">              0</td></tr>\\n</tbody>\\n</table>'"
      ]
     },
     "metadata": {},
     "output_type": "display_data"
    },
    {
     "data": {
      "text/markdown": [
       "\n",
       "#### HOLES: Package"
      ],
      "text/plain": [
       "<IPython.core.display.Markdown object>"
      ]
     },
     "metadata": {},
     "output_type": "display_data"
    },
    {
     "data": {
      "text/html": [
       "<table>\n",
       "<thead>\n",
       "<tr><th>             </th><th style=\"text-align: right;\">  loadtruck.0</th><th style=\"text-align: right;\">  unloadtruck.0</th></tr>\n",
       "</thead>\n",
       "<tbody>\n",
       "<tr><td>loadtruck.0  </td><td style=\"text-align: right;\">            0</td><td style=\"text-align: right;\">              5</td></tr>\n",
       "<tr><td>unloadtruck.0</td><td style=\"text-align: right;\">            0</td><td style=\"text-align: right;\">              0</td></tr>\n",
       "</tbody>\n",
       "</table>"
      ],
      "text/plain": [
       "'<table>\\n<thead>\\n<tr><th>             </th><th style=\"text-align: right;\">  loadtruck.0</th><th style=\"text-align: right;\">  unloadtruck.0</th></tr>\\n</thead>\\n<tbody>\\n<tr><td>loadtruck.0  </td><td style=\"text-align: right;\">            0</td><td style=\"text-align: right;\">              5</td></tr>\\n<tr><td>unloadtruck.0</td><td style=\"text-align: right;\">            0</td><td style=\"text-align: right;\">              0</td></tr>\\n</tbody>\\n</table>'"
      ]
     },
     "metadata": {},
     "output_type": "display_data"
    },
    {
     "data": {
      "text/markdown": [
       "\n",
       "#### Location"
      ],
      "text/plain": [
       "<IPython.core.display.Markdown object>"
      ]
     },
     "metadata": {},
     "output_type": "display_data"
    },
    {
     "data": {
      "text/html": [
       "<table>\n",
       "<thead>\n",
       "<tr><th>                </th><th style=\"text-align: right;\">  drivetruck.2</th><th style=\"text-align: right;\">  drivetruck.1</th><th style=\"text-align: right;\">  unloadtruck.2</th><th style=\"text-align: right;\">  boardtruck.2</th><th style=\"text-align: right;\">  disembarktruck.2</th><th style=\"text-align: right;\">  loadtruck.2</th></tr>\n",
       "</thead>\n",
       "<tbody>\n",
       "<tr><td>drivetruck.2    </td><td style=\"text-align: right;\">             0</td><td style=\"text-align: right;\">             3</td><td style=\"text-align: right;\">              5</td><td style=\"text-align: right;\">             0</td><td style=\"text-align: right;\">                 4</td><td style=\"text-align: right;\">            2</td></tr>\n",
       "<tr><td>drivetruck.1    </td><td style=\"text-align: right;\">            10</td><td style=\"text-align: right;\">             0</td><td style=\"text-align: right;\">              0</td><td style=\"text-align: right;\">             1</td><td style=\"text-align: right;\">                 0</td><td style=\"text-align: right;\">            0</td></tr>\n",
       "<tr><td>unloadtruck.2   </td><td style=\"text-align: right;\">             0</td><td style=\"text-align: right;\">             4</td><td style=\"text-align: right;\">              0</td><td style=\"text-align: right;\">             0</td><td style=\"text-align: right;\">                 1</td><td style=\"text-align: right;\">            0</td></tr>\n",
       "<tr><td>boardtruck.2    </td><td style=\"text-align: right;\">             0</td><td style=\"text-align: right;\">             2</td><td style=\"text-align: right;\">              0</td><td style=\"text-align: right;\">             0</td><td style=\"text-align: right;\">                 1</td><td style=\"text-align: right;\">            3</td></tr>\n",
       "<tr><td>disembarktruck.2</td><td style=\"text-align: right;\">             1</td><td style=\"text-align: right;\">             0</td><td style=\"text-align: right;\">              0</td><td style=\"text-align: right;\">             3</td><td style=\"text-align: right;\">                 0</td><td style=\"text-align: right;\">            0</td></tr>\n",
       "<tr><td>loadtruck.2     </td><td style=\"text-align: right;\">             0</td><td style=\"text-align: right;\">             5</td><td style=\"text-align: right;\">              0</td><td style=\"text-align: right;\">             0</td><td style=\"text-align: right;\">                 0</td><td style=\"text-align: right;\">            0</td></tr>\n",
       "</tbody>\n",
       "</table>"
      ],
      "text/plain": [
       "'<table>\\n<thead>\\n<tr><th>                </th><th style=\"text-align: right;\">  drivetruck.2</th><th style=\"text-align: right;\">  drivetruck.1</th><th style=\"text-align: right;\">  unloadtruck.2</th><th style=\"text-align: right;\">  boardtruck.2</th><th style=\"text-align: right;\">  disembarktruck.2</th><th style=\"text-align: right;\">  loadtruck.2</th></tr>\\n</thead>\\n<tbody>\\n<tr><td>drivetruck.2    </td><td style=\"text-align: right;\">             0</td><td style=\"text-align: right;\">             3</td><td style=\"text-align: right;\">              5</td><td style=\"text-align: right;\">             0</td><td style=\"text-align: right;\">                 4</td><td style=\"text-align: right;\">            2</td></tr>\\n<tr><td>drivetruck.1    </td><td style=\"text-align: right;\">            10</td><td style=\"text-align: right;\">             0</td><td style=\"text-align: right;\">              0</td><td style=\"text-align: right;\">             1</td><td style=\"text-align: right;\">                 0</td><td style=\"text-align: right;\">            0</td></tr>\\n<tr><td>unloadtruck.2   </td><td style=\"text-align: right;\">             0</td><td style=\"text-align: right;\">             4</td><td style=\"text-align: right;\">              0</td><td style=\"text-align: right;\">             0</td><td style=\"text-align: right;\">                 1</td><td style=\"text-align: right;\">            0</td></tr>\\n<tr><td>boardtruck.2    </td><td style=\"text-align: right;\">             0</td><td style=\"text-align: right;\">             2</td><td style=\"text-align: right;\">              0</td><td style=\"text-align: right;\">             0</td><td style=\"text-align: right;\">                 1</td><td style=\"text-align: right;\">            3</td></tr>\\n<tr><td>disembarktruck.2</td><td style=\"text-align: right;\">             1</td><td style=\"text-align: right;\">             0</td><td style=\"text-align: right;\">              0</td><td style=\"text-align: right;\">             3</td><td style=\"text-align: right;\">                 0</td><td style=\"text-align: right;\">            0</td></tr>\\n<tr><td>loadtruck.2     </td><td style=\"text-align: right;\">             0</td><td style=\"text-align: right;\">             5</td><td style=\"text-align: right;\">              0</td><td style=\"text-align: right;\">             0</td><td style=\"text-align: right;\">                 0</td><td style=\"text-align: right;\">            0</td></tr>\\n</tbody>\\n</table>'"
      ]
     },
     "metadata": {},
     "output_type": "display_data"
    },
    {
     "data": {
      "text/markdown": [
       "\n",
       "#### HOLES: Location"
      ],
      "text/plain": [
       "<IPython.core.display.Markdown object>"
      ]
     },
     "metadata": {},
     "output_type": "display_data"
    },
    {
     "data": {
      "text/html": [
       "<table>\n",
       "<thead>\n",
       "<tr><th>                </th><th style=\"text-align: right;\">  drivetruck.2</th><th style=\"text-align: right;\">  drivetruck.1</th><th>unloadtruck.2  </th><th style=\"text-align: right;\">  boardtruck.2</th><th>disembarktruck.2  </th><th>loadtruck.2  </th></tr>\n",
       "</thead>\n",
       "<tbody>\n",
       "<tr><td>drivetruck.2    </td><td style=\"text-align: right;\">             0</td><td style=\"text-align: right;\">             3</td><td>5              </td><td style=\"text-align: right;\">             0</td><td>4                 </td><td>2            </td></tr>\n",
       "<tr><td>drivetruck.1    </td><td style=\"text-align: right;\">            10</td><td style=\"text-align: right;\">             0</td><td>0              </td><td style=\"text-align: right;\">             1</td><td>0                 </td><td>0            </td></tr>\n",
       "<tr><td>unloadtruck.2   </td><td style=\"text-align: right;\">             0</td><td style=\"text-align: right;\">             4</td><td>hole           </td><td style=\"text-align: right;\">             0</td><td>1                 </td><td>hole         </td></tr>\n",
       "<tr><td>boardtruck.2    </td><td style=\"text-align: right;\">             0</td><td style=\"text-align: right;\">             2</td><td>hole           </td><td style=\"text-align: right;\">             0</td><td>1                 </td><td>3            </td></tr>\n",
       "<tr><td>disembarktruck.2</td><td style=\"text-align: right;\">             1</td><td style=\"text-align: right;\">             0</td><td>0              </td><td style=\"text-align: right;\">             3</td><td>0                 </td><td>0            </td></tr>\n",
       "<tr><td>loadtruck.2     </td><td style=\"text-align: right;\">             0</td><td style=\"text-align: right;\">             5</td><td>hole           </td><td style=\"text-align: right;\">             0</td><td>hole              </td><td>hole         </td></tr>\n",
       "</tbody>\n",
       "</table>"
      ],
      "text/plain": [
       "'<table>\\n<thead>\\n<tr><th>                </th><th style=\"text-align: right;\">  drivetruck.2</th><th style=\"text-align: right;\">  drivetruck.1</th><th>unloadtruck.2  </th><th style=\"text-align: right;\">  boardtruck.2</th><th>disembarktruck.2  </th><th>loadtruck.2  </th></tr>\\n</thead>\\n<tbody>\\n<tr><td>drivetruck.2    </td><td style=\"text-align: right;\">             0</td><td style=\"text-align: right;\">             3</td><td>5              </td><td style=\"text-align: right;\">             0</td><td>4                 </td><td>2            </td></tr>\\n<tr><td>drivetruck.1    </td><td style=\"text-align: right;\">            10</td><td style=\"text-align: right;\">             0</td><td>0              </td><td style=\"text-align: right;\">             1</td><td>0                 </td><td>0            </td></tr>\\n<tr><td>unloadtruck.2   </td><td style=\"text-align: right;\">             0</td><td style=\"text-align: right;\">             4</td><td>hole           </td><td style=\"text-align: right;\">             0</td><td>1                 </td><td>hole         </td></tr>\\n<tr><td>boardtruck.2    </td><td style=\"text-align: right;\">             0</td><td style=\"text-align: right;\">             2</td><td>hole           </td><td style=\"text-align: right;\">             0</td><td>1                 </td><td>3            </td></tr>\\n<tr><td>disembarktruck.2</td><td style=\"text-align: right;\">             1</td><td style=\"text-align: right;\">             0</td><td>0              </td><td style=\"text-align: right;\">             3</td><td>0                 </td><td>0            </td></tr>\\n<tr><td>loadtruck.2     </td><td style=\"text-align: right;\">             0</td><td style=\"text-align: right;\">             5</td><td>hole           </td><td style=\"text-align: right;\">             0</td><td>hole              </td><td>hole         </td></tr>\\n</tbody>\\n</table>'"
      ]
     },
     "metadata": {},
     "output_type": "display_data"
    }
   ],
   "source": [
    "adjacency_matrix_list_with_holes = get_adjacency_matrix_with_holes(adjacency_matrix_list)\n",
    "\n",
    "# Printing FSM matrices with and without holes\n",
    "for index,adjacency_matrix in enumerate(adjacency_matrix_list):\n",
    "    printmd(\"\\n#### \" + class_names[index] )\n",
    "    print_table(adjacency_matrix)\n",
    "\n",
    "    printmd(\"\\n#### HOLES: \" + class_names[index])\n",
    "    print_table(adjacency_matrix_list_with_holes[index])"
   ]
  },
  {
   "cell_type": "code",
   "execution_count": 112,
   "metadata": {},
   "outputs": [
    {
     "name": "stdout",
     "output_type": "stream",
     "text": [
      "#holes in class Driver:0\n",
      "#holes in class Truck:5\n",
      "#holes in class Package:0\n",
      "#holes in class Location:5\n"
     ]
    }
   ],
   "source": [
    "# Create list of set of holes per class (H)\n",
    "holes_per_class = []\n",
    "\n",
    "for index,df in enumerate(adjacency_matrix_list_with_holes):\n",
    "    holes = set()\n",
    "    for i in range(df.shape[0]):\n",
    "        for j in range(df.shape[1]):\n",
    "            if df.iloc[i,j] == 'hole':\n",
    "                holes.add(frozenset({df.index[i] , df.columns[j]}))\n",
    "    holes_per_class.append(holes)\n",
    "for i, hole in enumerate(holes_per_class):\n",
    "    print(\"#holes in class \" + class_names[i]+\":\" + str(len(hole)))\n",
    "#     for h in hole:\n",
    "#         print(list(h))"
   ]
  },
  {
   "cell_type": "markdown",
   "metadata": {},
   "source": [
    "#### T_all - Set of observed transitions for a class."
   ]
  },
  {
   "cell_type": "code",
   "execution_count": 113,
   "metadata": {},
   "outputs": [],
   "source": [
    "# List of transitions per class (T_all). It is just a set of transitions that occur for a class.\n",
    "transitions_per_class = []\n",
    "for index, df in enumerate(adjacency_matrix_list_with_holes):\n",
    "    transitions_per_class.append(df.columns.values)\n",
    "# for i, transition in enumerate(transitions_per_class):\n",
    "#     print('{}:{}'.format(class_names[i], transition))"
   ]
  },
  {
   "cell_type": "markdown",
   "metadata": {},
   "source": [
    "#### P - set of pairs <t1,t2> (consecutive transitions)"
   ]
  },
  {
   "cell_type": "code",
   "execution_count": 114,
   "metadata": {},
   "outputs": [],
   "source": [
    "def get_consecutive_transitions_per_class(adjacency_matrix_list_with_holes):\n",
    "    consecutive_transitions_per_class = []\n",
    "    for index, df in enumerate(adjacency_matrix_list_with_holes):\n",
    "        consecutive_transitions = set()  # for a class\n",
    "        for i in range(df.shape[0]):\n",
    "            for j in range(df.shape[1]):\n",
    "                if df.iloc[i, j] != 'hole':\n",
    "                    if df.iloc[i, j] > 0:\n",
    "#                         print(\"(\" + df.index[i] + \",\" + df.columns[j] + \")\")\n",
    "                        consecutive_transitions.add((df.index[i], df.columns[j]))\n",
    "        consecutive_transitions_per_class.append(consecutive_transitions)\n",
    "    return consecutive_transitions_per_class"
   ]
  },
  {
   "cell_type": "code",
   "execution_count": 115,
   "metadata": {},
   "outputs": [],
   "source": [
    "#  Create list of consecutive transitions per class (P). If value is not null, ordered pair i,j would be consecutive transitions per class\n",
    "consecutive_transitions_per_class = get_consecutive_transitions_per_class(adjacency_matrix_list_with_holes)\n",
    "# printmd(\"###  Consecutive transitions per class\")\n",
    "# for i, transition in enumerate(consecutive_transitions_per_class):\n",
    "#     printmd(\"#### \"+class_names[i]+\":\")\n",
    "#     for x in list(transition):\n",
    "#         print(x)\n",
    "# #     print('{}:{}'.format(class_names[i], transition))\n",
    "#     print()"
   ]
  },
  {
   "cell_type": "markdown",
   "metadata": {},
   "source": [
    "### Check Well Formed"
   ]
  },
  {
   "cell_type": "code",
   "execution_count": 116,
   "metadata": {},
   "outputs": [],
   "source": [
    "def check_well_formed(subset_df):\n",
    "    # got the adjacency matrix subset\n",
    "    df = subset_df.copy()\n",
    "    well_formed_flag = True\n",
    "    \n",
    "    \n",
    "    if (df == 0).all(axis=None): # all elements are zero\n",
    "        well_formed_flag = False\n",
    "        \n",
    "    # for particular adjacency matrix's copy, loop over all pairs of rows\n",
    "    for i in range(0, df.shape[0]-1):\n",
    "        for j in range(i + 1, df.shape[0]):\n",
    "            print(i,j)\n",
    "            idx1, idx2 = i, j\n",
    "            row1, row2 = df.iloc[idx1, :], df.iloc[idx2, :]  # we have now all pairs of rows\n",
    "\n",
    "            common_values_flag = False  # for each two rows we have a common_values_flag\n",
    "\n",
    "            # if there is a common value between two rows, turn common value flag to true\n",
    "            for col in range(row1.shape[0]):\n",
    "                if row1.iloc[col] > 0 and row2.iloc[col] > 0:\n",
    "                    common_values_flag = True\n",
    "                    break\n",
    "          \n",
    "            if common_values_flag:\n",
    "                for col in range(row1.shape[0]): # check for holes if common value\n",
    "                    if row1.iloc[col] > 0 and row2.iloc[col] == 0:\n",
    "                        well_formed_flag = False\n",
    "                    elif row1.iloc[col] == 0 and row2.iloc[col] > 0:\n",
    "                        well_formed_flag = False\n",
    "    \n",
    "    if not well_formed_flag:\n",
    "        return False\n",
    "    elif well_formed_flag:\n",
    "        return True\n",
    "     \n",
    "                    \n",
    "    "
   ]
  },
  {
   "cell_type": "markdown",
   "metadata": {},
   "source": [
    "### Check Valid Transitions"
   ]
  },
  {
   "cell_type": "code",
   "execution_count": 117,
   "metadata": {},
   "outputs": [],
   "source": [
    "def check_valid(subset_df,consecutive_transitions_per_class):\n",
    "    \n",
    "    # Note: Essentially we check validity against P instead of E. \n",
    "    # In the paper of LOCM2, it isn't mentioned how to check against E.\n",
    "    \n",
    "    # Reasoning: If we check against all consecutive transitions per class, \n",
    "    # we essentially check against all example sequences.\n",
    "    # check the candidate set which is well-formed (subset df against all consecutive transitions)\n",
    "\n",
    "    # got the adjacency matrix subset\n",
    "    df = subset_df.copy()\n",
    "\n",
    "    # for particular adjacency matrix's copy, loop over all pairs of rows\n",
    "    for i in range(df.shape[0]):\n",
    "        for j in range(df.shape[0]):\n",
    "            if df.iloc[i,j] > 0:\n",
    "                valid_val_flag = False\n",
    "                ordered_pair = (df.index[i], df.columns[j])\n",
    "                for ct_list in consecutive_transitions_per_class:\n",
    "                    for ct in ct_list:\n",
    "                        if ordered_pair == ct:\n",
    "                            valid_val_flag=True\n",
    "                # if after all iteration ordered pair is not found, mark the subset as invalid.\n",
    "                if not valid_val_flag:\n",
    "                    return False\n",
    "                \n",
    "    # return True if all ordered pairs found.\n",
    "    return True"
   ]
  },
  {
   "cell_type": "markdown",
   "metadata": {},
   "source": [
    "### LOCM2 transition sets"
   ]
  },
  {
   "cell_type": "code",
   "execution_count": 118,
   "metadata": {
    "scrolled": false
   },
   "outputs": [
    {
     "data": {
      "text/markdown": [
       "### Getting transitions sets for each class using LOCM2"
      ],
      "text/plain": [
       "<IPython.core.display.Markdown object>"
      ]
     },
     "metadata": {},
     "output_type": "display_data"
    },
    {
     "data": {
      "text/markdown": [
       "### Driver"
      ],
      "text/plain": [
       "<IPython.core.display.Markdown object>"
      ]
     },
     "metadata": {},
     "output_type": "display_data"
    },
    {
     "name": "stdout",
     "output_type": "stream",
     "text": [
      "no holes\n",
      "[]\n",
      "\n",
      "Removed redundancy transition set list\n",
      "[]\n"
     ]
    },
    {
     "data": {
      "text/markdown": [
       "#### Final transition set list"
      ],
      "text/plain": [
       "<IPython.core.display.Markdown object>"
      ]
     },
     "metadata": {},
     "output_type": "display_data"
    },
    {
     "name": "stdout",
     "output_type": "stream",
     "text": [
      "[{'boardtruck.0', 'disembarktruck.0', 'drivetruck.3'}]\n"
     ]
    },
    {
     "data": {
      "text/markdown": [
       "### Truck"
      ],
      "text/plain": [
       "<IPython.core.display.Markdown object>"
      ]
     },
     "metadata": {},
     "output_type": "display_data"
    },
    {
     "name": "stdout",
     "output_type": "stream",
     "text": [
      "5 holes\n"
     ]
    },
    {
     "data": {
      "text/markdown": [
       "#### Hole 1: {'unloadtruck.1'}"
      ],
      "text/plain": [
       "<IPython.core.display.Markdown object>"
      ]
     },
     "metadata": {},
     "output_type": "display_data"
    },
    {
     "data": {
      "text/markdown": [
       "Checking candidate set *{'unloadtruck.1', 'drivetruck.0'}* of class **Truck** for well formedness and Validity"
      ],
      "text/plain": [
       "<IPython.core.display.Markdown object>"
      ]
     },
     "metadata": {},
     "output_type": "display_data"
    },
    {
     "data": {
      "text/html": [
       "<table>\n",
       "<thead>\n",
       "<tr><th>             </th><th style=\"text-align: right;\">  unloadtruck.1</th><th style=\"text-align: right;\">  drivetruck.0</th></tr>\n",
       "</thead>\n",
       "<tbody>\n",
       "<tr><td>unloadtruck.1</td><td style=\"text-align: right;\">              0</td><td style=\"text-align: right;\">             4</td></tr>\n",
       "<tr><td>drivetruck.0 </td><td style=\"text-align: right;\">              5</td><td style=\"text-align: right;\">             3</td></tr>\n",
       "</tbody>\n",
       "</table>"
      ],
      "text/plain": [
       "'<table>\\n<thead>\\n<tr><th>             </th><th style=\"text-align: right;\">  unloadtruck.1</th><th style=\"text-align: right;\">  drivetruck.0</th></tr>\\n</thead>\\n<tbody>\\n<tr><td>unloadtruck.1</td><td style=\"text-align: right;\">              0</td><td style=\"text-align: right;\">             4</td></tr>\\n<tr><td>drivetruck.0 </td><td style=\"text-align: right;\">              5</td><td style=\"text-align: right;\">             3</td></tr>\\n</tbody>\\n</table>'"
      ]
     },
     "metadata": {},
     "output_type": "display_data"
    },
    {
     "name": "stdout",
     "output_type": "stream",
     "text": [
      "0 1\n",
      "This subset is NOT well-formed\n"
     ]
    },
    {
     "data": {
      "text/markdown": [
       "Checking candidate set *{'disembarktruck.1', 'unloadtruck.1'}* of class **Truck** for well formedness and Validity"
      ],
      "text/plain": [
       "<IPython.core.display.Markdown object>"
      ]
     },
     "metadata": {},
     "output_type": "display_data"
    },
    {
     "data": {
      "text/html": [
       "<table>\n",
       "<thead>\n",
       "<tr><th>                </th><th style=\"text-align: right;\">  disembarktruck.1</th><th style=\"text-align: right;\">  unloadtruck.1</th></tr>\n",
       "</thead>\n",
       "<tbody>\n",
       "<tr><td>disembarktruck.1</td><td style=\"text-align: right;\">                 0</td><td style=\"text-align: right;\">              0</td></tr>\n",
       "<tr><td>unloadtruck.1   </td><td style=\"text-align: right;\">                 1</td><td style=\"text-align: right;\">              0</td></tr>\n",
       "</tbody>\n",
       "</table>"
      ],
      "text/plain": [
       "'<table>\\n<thead>\\n<tr><th>                </th><th style=\"text-align: right;\">  disembarktruck.1</th><th style=\"text-align: right;\">  unloadtruck.1</th></tr>\\n</thead>\\n<tbody>\\n<tr><td>disembarktruck.1</td><td style=\"text-align: right;\">                 0</td><td style=\"text-align: right;\">              0</td></tr>\\n<tr><td>unloadtruck.1   </td><td style=\"text-align: right;\">                 1</td><td style=\"text-align: right;\">              0</td></tr>\\n</tbody>\\n</table>'"
      ]
     },
     "metadata": {},
     "output_type": "display_data"
    },
    {
     "name": "stdout",
     "output_type": "stream",
     "text": [
      "0 1\n",
      "This subset is well-formed.\n",
      "This subset is valid.\n",
      "Adding this subset {'disembarktruck.1', 'unloadtruck.1'} to the locm2 transition set.\n",
      "Hole that is covered now:\n",
      "['unloadtruck.1']\n"
     ]
    },
    {
     "data": {
      "text/markdown": [
       "#### Hole 2: {'loadtruck.1'}"
      ],
      "text/plain": [
       "<IPython.core.display.Markdown object>"
      ]
     },
     "metadata": {},
     "output_type": "display_data"
    },
    {
     "data": {
      "text/markdown": [
       "Checking candidate set *{'drivetruck.0', 'loadtruck.1'}* of class **Truck** for well formedness and Validity"
      ],
      "text/plain": [
       "<IPython.core.display.Markdown object>"
      ]
     },
     "metadata": {},
     "output_type": "display_data"
    },
    {
     "data": {
      "text/html": [
       "<table>\n",
       "<thead>\n",
       "<tr><th>            </th><th style=\"text-align: right;\">  drivetruck.0</th><th style=\"text-align: right;\">  loadtruck.1</th></tr>\n",
       "</thead>\n",
       "<tbody>\n",
       "<tr><td>drivetruck.0</td><td style=\"text-align: right;\">             3</td><td style=\"text-align: right;\">            2</td></tr>\n",
       "<tr><td>loadtruck.1 </td><td style=\"text-align: right;\">             5</td><td style=\"text-align: right;\">            0</td></tr>\n",
       "</tbody>\n",
       "</table>"
      ],
      "text/plain": [
       "'<table>\\n<thead>\\n<tr><th>            </th><th style=\"text-align: right;\">  drivetruck.0</th><th style=\"text-align: right;\">  loadtruck.1</th></tr>\\n</thead>\\n<tbody>\\n<tr><td>drivetruck.0</td><td style=\"text-align: right;\">             3</td><td style=\"text-align: right;\">            2</td></tr>\\n<tr><td>loadtruck.1 </td><td style=\"text-align: right;\">             5</td><td style=\"text-align: right;\">            0</td></tr>\\n</tbody>\\n</table>'"
      ]
     },
     "metadata": {},
     "output_type": "display_data"
    },
    {
     "name": "stdout",
     "output_type": "stream",
     "text": [
      "0 1\n",
      "This subset is NOT well-formed\n"
     ]
    },
    {
     "data": {
      "text/markdown": [
       "Checking candidate set *{'boardtruck.1', 'loadtruck.1'}* of class **Truck** for well formedness and Validity"
      ],
      "text/plain": [
       "<IPython.core.display.Markdown object>"
      ]
     },
     "metadata": {},
     "output_type": "display_data"
    },
    {
     "data": {
      "text/html": [
       "<table>\n",
       "<thead>\n",
       "<tr><th>            </th><th style=\"text-align: right;\">  boardtruck.1</th><th style=\"text-align: right;\">  loadtruck.1</th></tr>\n",
       "</thead>\n",
       "<tbody>\n",
       "<tr><td>boardtruck.1</td><td style=\"text-align: right;\">             0</td><td style=\"text-align: right;\">            3</td></tr>\n",
       "<tr><td>loadtruck.1 </td><td style=\"text-align: right;\">             0</td><td style=\"text-align: right;\">            0</td></tr>\n",
       "</tbody>\n",
       "</table>"
      ],
      "text/plain": [
       "'<table>\\n<thead>\\n<tr><th>            </th><th style=\"text-align: right;\">  boardtruck.1</th><th style=\"text-align: right;\">  loadtruck.1</th></tr>\\n</thead>\\n<tbody>\\n<tr><td>boardtruck.1</td><td style=\"text-align: right;\">             0</td><td style=\"text-align: right;\">            3</td></tr>\\n<tr><td>loadtruck.1 </td><td style=\"text-align: right;\">             0</td><td style=\"text-align: right;\">            0</td></tr>\\n</tbody>\\n</table>'"
      ]
     },
     "metadata": {},
     "output_type": "display_data"
    },
    {
     "name": "stdout",
     "output_type": "stream",
     "text": [
      "0 1\n",
      "This subset is well-formed.\n",
      "This subset is valid.\n",
      "Adding this subset {'boardtruck.1', 'loadtruck.1'} to the locm2 transition set.\n",
      "Hole that is covered now:\n",
      "['loadtruck.1']\n"
     ]
    },
    {
     "data": {
      "text/markdown": [
       "#### Hole 3: {'unloadtruck.1', 'loadtruck.1'}"
      ],
      "text/plain": [
       "<IPython.core.display.Markdown object>"
      ]
     },
     "metadata": {},
     "output_type": "display_data"
    },
    {
     "data": {
      "text/markdown": [
       "Checking candidate set *{'disembarktruck.1', 'unloadtruck.1', 'loadtruck.1'}* of class **Truck** for well formedness and Validity"
      ],
      "text/plain": [
       "<IPython.core.display.Markdown object>"
      ]
     },
     "metadata": {},
     "output_type": "display_data"
    },
    {
     "data": {
      "text/html": [
       "<table>\n",
       "<thead>\n",
       "<tr><th>                </th><th style=\"text-align: right;\">  disembarktruck.1</th><th style=\"text-align: right;\">  unloadtruck.1</th><th style=\"text-align: right;\">  loadtruck.1</th></tr>\n",
       "</thead>\n",
       "<tbody>\n",
       "<tr><td>disembarktruck.1</td><td style=\"text-align: right;\">                 0</td><td style=\"text-align: right;\">              0</td><td style=\"text-align: right;\">            0</td></tr>\n",
       "<tr><td>unloadtruck.1   </td><td style=\"text-align: right;\">                 1</td><td style=\"text-align: right;\">              0</td><td style=\"text-align: right;\">            0</td></tr>\n",
       "<tr><td>loadtruck.1     </td><td style=\"text-align: right;\">                 0</td><td style=\"text-align: right;\">              0</td><td style=\"text-align: right;\">            0</td></tr>\n",
       "</tbody>\n",
       "</table>"
      ],
      "text/plain": [
       "'<table>\\n<thead>\\n<tr><th>                </th><th style=\"text-align: right;\">  disembarktruck.1</th><th style=\"text-align: right;\">  unloadtruck.1</th><th style=\"text-align: right;\">  loadtruck.1</th></tr>\\n</thead>\\n<tbody>\\n<tr><td>disembarktruck.1</td><td style=\"text-align: right;\">                 0</td><td style=\"text-align: right;\">              0</td><td style=\"text-align: right;\">            0</td></tr>\\n<tr><td>unloadtruck.1   </td><td style=\"text-align: right;\">                 1</td><td style=\"text-align: right;\">              0</td><td style=\"text-align: right;\">            0</td></tr>\\n<tr><td>loadtruck.1     </td><td style=\"text-align: right;\">                 0</td><td style=\"text-align: right;\">              0</td><td style=\"text-align: right;\">            0</td></tr>\\n</tbody>\\n</table>'"
      ]
     },
     "metadata": {},
     "output_type": "display_data"
    },
    {
     "name": "stdout",
     "output_type": "stream",
     "text": [
      "0 1\n",
      "0 2\n",
      "1 2\n",
      "This subset is well-formed.\n",
      "This subset is valid.\n",
      "Adding this subset {'disembarktruck.1', 'unloadtruck.1', 'loadtruck.1'} to the locm2 transition set.\n",
      "Hole that is covered now:\n",
      "['unloadtruck.1', 'loadtruck.1']\n"
     ]
    },
    {
     "data": {
      "text/markdown": [
       "#### Hole 4: {'unloadtruck.1', 'boardtruck.1'}"
      ],
      "text/plain": [
       "<IPython.core.display.Markdown object>"
      ]
     },
     "metadata": {},
     "output_type": "display_data"
    },
    {
     "data": {
      "text/markdown": [
       "Checking candidate set *{'unloadtruck.1', 'drivetruck.0', 'boardtruck.1'}* of class **Truck** for well formedness and Validity"
      ],
      "text/plain": [
       "<IPython.core.display.Markdown object>"
      ]
     },
     "metadata": {},
     "output_type": "display_data"
    },
    {
     "data": {
      "text/html": [
       "<table>\n",
       "<thead>\n",
       "<tr><th>             </th><th style=\"text-align: right;\">  unloadtruck.1</th><th style=\"text-align: right;\">  drivetruck.0</th><th style=\"text-align: right;\">  boardtruck.1</th></tr>\n",
       "</thead>\n",
       "<tbody>\n",
       "<tr><td>unloadtruck.1</td><td style=\"text-align: right;\">              0</td><td style=\"text-align: right;\">             4</td><td style=\"text-align: right;\">             0</td></tr>\n",
       "<tr><td>drivetruck.0 </td><td style=\"text-align: right;\">              5</td><td style=\"text-align: right;\">             3</td><td style=\"text-align: right;\">             0</td></tr>\n",
       "<tr><td>boardtruck.1 </td><td style=\"text-align: right;\">              0</td><td style=\"text-align: right;\">             2</td><td style=\"text-align: right;\">             0</td></tr>\n",
       "</tbody>\n",
       "</table>"
      ],
      "text/plain": [
       "'<table>\\n<thead>\\n<tr><th>             </th><th style=\"text-align: right;\">  unloadtruck.1</th><th style=\"text-align: right;\">  drivetruck.0</th><th style=\"text-align: right;\">  boardtruck.1</th></tr>\\n</thead>\\n<tbody>\\n<tr><td>unloadtruck.1</td><td style=\"text-align: right;\">              0</td><td style=\"text-align: right;\">             4</td><td style=\"text-align: right;\">             0</td></tr>\\n<tr><td>drivetruck.0 </td><td style=\"text-align: right;\">              5</td><td style=\"text-align: right;\">             3</td><td style=\"text-align: right;\">             0</td></tr>\\n<tr><td>boardtruck.1 </td><td style=\"text-align: right;\">              0</td><td style=\"text-align: right;\">             2</td><td style=\"text-align: right;\">             0</td></tr>\\n</tbody>\\n</table>'"
      ]
     },
     "metadata": {},
     "output_type": "display_data"
    },
    {
     "name": "stdout",
     "output_type": "stream",
     "text": [
      "0 1\n",
      "0 2\n",
      "1 2\n",
      "This subset is NOT well-formed\n"
     ]
    },
    {
     "data": {
      "text/markdown": [
       "Checking candidate set *{'disembarktruck.1', 'unloadtruck.1', 'boardtruck.1'}* of class **Truck** for well formedness and Validity"
      ],
      "text/plain": [
       "<IPython.core.display.Markdown object>"
      ]
     },
     "metadata": {},
     "output_type": "display_data"
    },
    {
     "data": {
      "text/html": [
       "<table>\n",
       "<thead>\n",
       "<tr><th>                </th><th style=\"text-align: right;\">  disembarktruck.1</th><th style=\"text-align: right;\">  unloadtruck.1</th><th style=\"text-align: right;\">  boardtruck.1</th></tr>\n",
       "</thead>\n",
       "<tbody>\n",
       "<tr><td>disembarktruck.1</td><td style=\"text-align: right;\">                 0</td><td style=\"text-align: right;\">              0</td><td style=\"text-align: right;\">             4</td></tr>\n",
       "<tr><td>unloadtruck.1   </td><td style=\"text-align: right;\">                 1</td><td style=\"text-align: right;\">              0</td><td style=\"text-align: right;\">             0</td></tr>\n",
       "<tr><td>boardtruck.1    </td><td style=\"text-align: right;\">                 1</td><td style=\"text-align: right;\">              0</td><td style=\"text-align: right;\">             0</td></tr>\n",
       "</tbody>\n",
       "</table>"
      ],
      "text/plain": [
       "'<table>\\n<thead>\\n<tr><th>                </th><th style=\"text-align: right;\">  disembarktruck.1</th><th style=\"text-align: right;\">  unloadtruck.1</th><th style=\"text-align: right;\">  boardtruck.1</th></tr>\\n</thead>\\n<tbody>\\n<tr><td>disembarktruck.1</td><td style=\"text-align: right;\">                 0</td><td style=\"text-align: right;\">              0</td><td style=\"text-align: right;\">             4</td></tr>\\n<tr><td>unloadtruck.1   </td><td style=\"text-align: right;\">                 1</td><td style=\"text-align: right;\">              0</td><td style=\"text-align: right;\">             0</td></tr>\\n<tr><td>boardtruck.1    </td><td style=\"text-align: right;\">                 1</td><td style=\"text-align: right;\">              0</td><td style=\"text-align: right;\">             0</td></tr>\\n</tbody>\\n</table>'"
      ]
     },
     "metadata": {},
     "output_type": "display_data"
    },
    {
     "name": "stdout",
     "output_type": "stream",
     "text": [
      "0 1\n",
      "0 2\n",
      "1 2\n",
      "This subset is well-formed.\n",
      "This subset is valid.\n",
      "Adding this subset {'disembarktruck.1', 'unloadtruck.1', 'boardtruck.1'} to the locm2 transition set.\n",
      "Hole that is covered now:\n",
      "['unloadtruck.1', 'boardtruck.1']\n"
     ]
    },
    {
     "data": {
      "text/markdown": [
       "#### Hole 5: {'disembarktruck.1', 'loadtruck.1'}"
      ],
      "text/plain": [
       "<IPython.core.display.Markdown object>"
      ]
     },
     "metadata": {},
     "output_type": "display_data"
    },
    {
     "data": {
      "text/markdown": [
       "Hole {'disembarktruck.1', 'loadtruck.1'} is already covered."
      ],
      "text/plain": [
       "<IPython.core.display.Markdown object>"
      ]
     },
     "metadata": {},
     "output_type": "display_data"
    },
    {
     "name": "stdout",
     "output_type": "stream",
     "text": [
      "[{'disembarktruck.1', 'unloadtruck.1'}, {'boardtruck.1', 'loadtruck.1'}, {'disembarktruck.1', 'unloadtruck.1', 'loadtruck.1'}, {'disembarktruck.1', 'unloadtruck.1', 'boardtruck.1'}]\n",
      "\n",
      "Removed redundancy transition set list\n",
      "[{'boardtruck.1', 'loadtruck.1'}, {'disembarktruck.1', 'unloadtruck.1', 'loadtruck.1'}, {'disembarktruck.1', 'unloadtruck.1', 'boardtruck.1'}]\n"
     ]
    },
    {
     "data": {
      "text/markdown": [
       "#### Final transition set list"
      ],
      "text/plain": [
       "<IPython.core.display.Markdown object>"
      ]
     },
     "metadata": {},
     "output_type": "display_data"
    },
    {
     "name": "stdout",
     "output_type": "stream",
     "text": [
      "[{'boardtruck.1', 'loadtruck.1'}, {'disembarktruck.1', 'unloadtruck.1', 'loadtruck.1'}, {'disembarktruck.1', 'unloadtruck.1', 'boardtruck.1'}, {'disembarktruck.1', 'drivetruck.0', 'boardtruck.1', 'loadtruck.1', 'unloadtruck.1'}]\n"
     ]
    },
    {
     "data": {
      "text/markdown": [
       "### Package"
      ],
      "text/plain": [
       "<IPython.core.display.Markdown object>"
      ]
     },
     "metadata": {},
     "output_type": "display_data"
    },
    {
     "name": "stdout",
     "output_type": "stream",
     "text": [
      "no holes\n",
      "[]\n",
      "\n",
      "Removed redundancy transition set list\n",
      "[]\n"
     ]
    },
    {
     "data": {
      "text/markdown": [
       "#### Final transition set list"
      ],
      "text/plain": [
       "<IPython.core.display.Markdown object>"
      ]
     },
     "metadata": {},
     "output_type": "display_data"
    },
    {
     "name": "stdout",
     "output_type": "stream",
     "text": [
      "[{'loadtruck.0', 'unloadtruck.0'}]\n"
     ]
    },
    {
     "data": {
      "text/markdown": [
       "### Location"
      ],
      "text/plain": [
       "<IPython.core.display.Markdown object>"
      ]
     },
     "metadata": {},
     "output_type": "display_data"
    },
    {
     "name": "stdout",
     "output_type": "stream",
     "text": [
      "5 holes\n"
     ]
    },
    {
     "data": {
      "text/markdown": [
       "#### Hole 1: {'loadtruck.2'}"
      ],
      "text/plain": [
       "<IPython.core.display.Markdown object>"
      ]
     },
     "metadata": {},
     "output_type": "display_data"
    },
    {
     "data": {
      "text/markdown": [
       "Checking candidate set *{'boardtruck.2', 'loadtruck.2'}* of class **Location** for well formedness and Validity"
      ],
      "text/plain": [
       "<IPython.core.display.Markdown object>"
      ]
     },
     "metadata": {},
     "output_type": "display_data"
    },
    {
     "data": {
      "text/html": [
       "<table>\n",
       "<thead>\n",
       "<tr><th>            </th><th style=\"text-align: right;\">  boardtruck.2</th><th style=\"text-align: right;\">  loadtruck.2</th></tr>\n",
       "</thead>\n",
       "<tbody>\n",
       "<tr><td>boardtruck.2</td><td style=\"text-align: right;\">             0</td><td style=\"text-align: right;\">            3</td></tr>\n",
       "<tr><td>loadtruck.2 </td><td style=\"text-align: right;\">             0</td><td style=\"text-align: right;\">            0</td></tr>\n",
       "</tbody>\n",
       "</table>"
      ],
      "text/plain": [
       "'<table>\\n<thead>\\n<tr><th>            </th><th style=\"text-align: right;\">  boardtruck.2</th><th style=\"text-align: right;\">  loadtruck.2</th></tr>\\n</thead>\\n<tbody>\\n<tr><td>boardtruck.2</td><td style=\"text-align: right;\">             0</td><td style=\"text-align: right;\">            3</td></tr>\\n<tr><td>loadtruck.2 </td><td style=\"text-align: right;\">             0</td><td style=\"text-align: right;\">            0</td></tr>\\n</tbody>\\n</table>'"
      ]
     },
     "metadata": {},
     "output_type": "display_data"
    },
    {
     "name": "stdout",
     "output_type": "stream",
     "text": [
      "0 1\n",
      "This subset is well-formed.\n",
      "This subset is valid.\n",
      "Adding this subset {'boardtruck.2', 'loadtruck.2'} to the locm2 transition set.\n",
      "Hole that is covered now:\n",
      "['loadtruck.2']\n"
     ]
    },
    {
     "data": {
      "text/markdown": [
       "#### Hole 2: {'loadtruck.2', 'disembarktruck.2'}"
      ],
      "text/plain": [
       "<IPython.core.display.Markdown object>"
      ]
     },
     "metadata": {},
     "output_type": "display_data"
    },
    {
     "data": {
      "text/markdown": [
       "Checking candidate set *{'loadtruck.2', 'drivetruck.2', 'disembarktruck.2'}* of class **Location** for well formedness and Validity"
      ],
      "text/plain": [
       "<IPython.core.display.Markdown object>"
      ]
     },
     "metadata": {},
     "output_type": "display_data"
    },
    {
     "data": {
      "text/html": [
       "<table>\n",
       "<thead>\n",
       "<tr><th>                </th><th style=\"text-align: right;\">  loadtruck.2</th><th style=\"text-align: right;\">  drivetruck.2</th><th style=\"text-align: right;\">  disembarktruck.2</th></tr>\n",
       "</thead>\n",
       "<tbody>\n",
       "<tr><td>loadtruck.2     </td><td style=\"text-align: right;\">            0</td><td style=\"text-align: right;\">             0</td><td style=\"text-align: right;\">                 0</td></tr>\n",
       "<tr><td>drivetruck.2    </td><td style=\"text-align: right;\">            2</td><td style=\"text-align: right;\">             0</td><td style=\"text-align: right;\">                 4</td></tr>\n",
       "<tr><td>disembarktruck.2</td><td style=\"text-align: right;\">            0</td><td style=\"text-align: right;\">             1</td><td style=\"text-align: right;\">                 0</td></tr>\n",
       "</tbody>\n",
       "</table>"
      ],
      "text/plain": [
       "'<table>\\n<thead>\\n<tr><th>                </th><th style=\"text-align: right;\">  loadtruck.2</th><th style=\"text-align: right;\">  drivetruck.2</th><th style=\"text-align: right;\">  disembarktruck.2</th></tr>\\n</thead>\\n<tbody>\\n<tr><td>loadtruck.2     </td><td style=\"text-align: right;\">            0</td><td style=\"text-align: right;\">             0</td><td style=\"text-align: right;\">                 0</td></tr>\\n<tr><td>drivetruck.2    </td><td style=\"text-align: right;\">            2</td><td style=\"text-align: right;\">             0</td><td style=\"text-align: right;\">                 4</td></tr>\\n<tr><td>disembarktruck.2</td><td style=\"text-align: right;\">            0</td><td style=\"text-align: right;\">             1</td><td style=\"text-align: right;\">                 0</td></tr>\\n</tbody>\\n</table>'"
      ]
     },
     "metadata": {},
     "output_type": "display_data"
    },
    {
     "name": "stdout",
     "output_type": "stream",
     "text": [
      "0 1\n",
      "0 2\n",
      "1 2\n",
      "This subset is well-formed.\n",
      "This subset is valid.\n",
      "Adding this subset {'loadtruck.2', 'drivetruck.2', 'disembarktruck.2'} to the locm2 transition set.\n",
      "Hole that is covered now:\n",
      "['loadtruck.2', 'disembarktruck.2']\n"
     ]
    },
    {
     "data": {
      "text/markdown": [
       "#### Hole 3: {'unloadtruck.2'}"
      ],
      "text/plain": [
       "<IPython.core.display.Markdown object>"
      ]
     },
     "metadata": {},
     "output_type": "display_data"
    },
    {
     "data": {
      "text/markdown": [
       "Checking candidate set *{'unloadtruck.2', 'disembarktruck.2'}* of class **Location** for well formedness and Validity"
      ],
      "text/plain": [
       "<IPython.core.display.Markdown object>"
      ]
     },
     "metadata": {},
     "output_type": "display_data"
    },
    {
     "data": {
      "text/html": [
       "<table>\n",
       "<thead>\n",
       "<tr><th>                </th><th style=\"text-align: right;\">  unloadtruck.2</th><th style=\"text-align: right;\">  disembarktruck.2</th></tr>\n",
       "</thead>\n",
       "<tbody>\n",
       "<tr><td>unloadtruck.2   </td><td style=\"text-align: right;\">              0</td><td style=\"text-align: right;\">                 1</td></tr>\n",
       "<tr><td>disembarktruck.2</td><td style=\"text-align: right;\">              0</td><td style=\"text-align: right;\">                 0</td></tr>\n",
       "</tbody>\n",
       "</table>"
      ],
      "text/plain": [
       "'<table>\\n<thead>\\n<tr><th>                </th><th style=\"text-align: right;\">  unloadtruck.2</th><th style=\"text-align: right;\">  disembarktruck.2</th></tr>\\n</thead>\\n<tbody>\\n<tr><td>unloadtruck.2   </td><td style=\"text-align: right;\">              0</td><td style=\"text-align: right;\">                 1</td></tr>\\n<tr><td>disembarktruck.2</td><td style=\"text-align: right;\">              0</td><td style=\"text-align: right;\">                 0</td></tr>\\n</tbody>\\n</table>'"
      ]
     },
     "metadata": {},
     "output_type": "display_data"
    },
    {
     "name": "stdout",
     "output_type": "stream",
     "text": [
      "0 1\n",
      "This subset is well-formed.\n",
      "This subset is valid.\n",
      "Adding this subset {'unloadtruck.2', 'disembarktruck.2'} to the locm2 transition set.\n",
      "Hole that is covered now:\n",
      "['unloadtruck.2']\n"
     ]
    },
    {
     "data": {
      "text/markdown": [
       "#### Hole 4: {'unloadtruck.2', 'loadtruck.2'}"
      ],
      "text/plain": [
       "<IPython.core.display.Markdown object>"
      ]
     },
     "metadata": {},
     "output_type": "display_data"
    },
    {
     "data": {
      "text/markdown": [
       "Checking candidate set *{'unloadtruck.2', 'drivetruck.1', 'loadtruck.2'}* of class **Location** for well formedness and Validity"
      ],
      "text/plain": [
       "<IPython.core.display.Markdown object>"
      ]
     },
     "metadata": {},
     "output_type": "display_data"
    },
    {
     "data": {
      "text/html": [
       "<table>\n",
       "<thead>\n",
       "<tr><th>             </th><th style=\"text-align: right;\">  unloadtruck.2</th><th style=\"text-align: right;\">  drivetruck.1</th><th style=\"text-align: right;\">  loadtruck.2</th></tr>\n",
       "</thead>\n",
       "<tbody>\n",
       "<tr><td>unloadtruck.2</td><td style=\"text-align: right;\">              0</td><td style=\"text-align: right;\">             4</td><td style=\"text-align: right;\">            0</td></tr>\n",
       "<tr><td>drivetruck.1 </td><td style=\"text-align: right;\">              0</td><td style=\"text-align: right;\">             0</td><td style=\"text-align: right;\">            0</td></tr>\n",
       "<tr><td>loadtruck.2  </td><td style=\"text-align: right;\">              0</td><td style=\"text-align: right;\">             5</td><td style=\"text-align: right;\">            0</td></tr>\n",
       "</tbody>\n",
       "</table>"
      ],
      "text/plain": [
       "'<table>\\n<thead>\\n<tr><th>             </th><th style=\"text-align: right;\">  unloadtruck.2</th><th style=\"text-align: right;\">  drivetruck.1</th><th style=\"text-align: right;\">  loadtruck.2</th></tr>\\n</thead>\\n<tbody>\\n<tr><td>unloadtruck.2</td><td style=\"text-align: right;\">              0</td><td style=\"text-align: right;\">             4</td><td style=\"text-align: right;\">            0</td></tr>\\n<tr><td>drivetruck.1 </td><td style=\"text-align: right;\">              0</td><td style=\"text-align: right;\">             0</td><td style=\"text-align: right;\">            0</td></tr>\\n<tr><td>loadtruck.2  </td><td style=\"text-align: right;\">              0</td><td style=\"text-align: right;\">             5</td><td style=\"text-align: right;\">            0</td></tr>\\n</tbody>\\n</table>'"
      ]
     },
     "metadata": {},
     "output_type": "display_data"
    },
    {
     "name": "stdout",
     "output_type": "stream",
     "text": [
      "0 1\n",
      "0 2\n",
      "1 2\n",
      "This subset is well-formed.\n",
      "This subset is valid.\n",
      "Adding this subset {'unloadtruck.2', 'drivetruck.1', 'loadtruck.2'} to the locm2 transition set.\n",
      "Hole that is covered now:\n",
      "['unloadtruck.2', 'loadtruck.2']\n"
     ]
    },
    {
     "data": {
      "text/markdown": [
       "#### Hole 5: {'boardtruck.2', 'unloadtruck.2'}"
      ],
      "text/plain": [
       "<IPython.core.display.Markdown object>"
      ]
     },
     "metadata": {},
     "output_type": "display_data"
    },
    {
     "data": {
      "text/markdown": [
       "Checking candidate set *{'boardtruck.2', 'unloadtruck.2', 'disembarktruck.2'}* of class **Location** for well formedness and Validity"
      ],
      "text/plain": [
       "<IPython.core.display.Markdown object>"
      ]
     },
     "metadata": {},
     "output_type": "display_data"
    },
    {
     "data": {
      "text/html": [
       "<table>\n",
       "<thead>\n",
       "<tr><th>                </th><th style=\"text-align: right;\">  boardtruck.2</th><th style=\"text-align: right;\">  unloadtruck.2</th><th style=\"text-align: right;\">  disembarktruck.2</th></tr>\n",
       "</thead>\n",
       "<tbody>\n",
       "<tr><td>boardtruck.2    </td><td style=\"text-align: right;\">             0</td><td style=\"text-align: right;\">              0</td><td style=\"text-align: right;\">                 1</td></tr>\n",
       "<tr><td>unloadtruck.2   </td><td style=\"text-align: right;\">             0</td><td style=\"text-align: right;\">              0</td><td style=\"text-align: right;\">                 1</td></tr>\n",
       "<tr><td>disembarktruck.2</td><td style=\"text-align: right;\">             3</td><td style=\"text-align: right;\">              0</td><td style=\"text-align: right;\">                 0</td></tr>\n",
       "</tbody>\n",
       "</table>"
      ],
      "text/plain": [
       "'<table>\\n<thead>\\n<tr><th>                </th><th style=\"text-align: right;\">  boardtruck.2</th><th style=\"text-align: right;\">  unloadtruck.2</th><th style=\"text-align: right;\">  disembarktruck.2</th></tr>\\n</thead>\\n<tbody>\\n<tr><td>boardtruck.2    </td><td style=\"text-align: right;\">             0</td><td style=\"text-align: right;\">              0</td><td style=\"text-align: right;\">                 1</td></tr>\\n<tr><td>unloadtruck.2   </td><td style=\"text-align: right;\">             0</td><td style=\"text-align: right;\">              0</td><td style=\"text-align: right;\">                 1</td></tr>\\n<tr><td>disembarktruck.2</td><td style=\"text-align: right;\">             3</td><td style=\"text-align: right;\">              0</td><td style=\"text-align: right;\">                 0</td></tr>\\n</tbody>\\n</table>'"
      ]
     },
     "metadata": {},
     "output_type": "display_data"
    },
    {
     "name": "stdout",
     "output_type": "stream",
     "text": [
      "0 1\n",
      "0 2\n",
      "1 2\n",
      "This subset is well-formed.\n",
      "This subset is valid.\n",
      "Adding this subset {'boardtruck.2', 'unloadtruck.2', 'disembarktruck.2'} to the locm2 transition set.\n",
      "Hole that is covered now:\n",
      "['boardtruck.2', 'unloadtruck.2']\n",
      "[{'boardtruck.2', 'loadtruck.2'}, {'loadtruck.2', 'drivetruck.2', 'disembarktruck.2'}, {'unloadtruck.2', 'disembarktruck.2'}, {'unloadtruck.2', 'drivetruck.1', 'loadtruck.2'}, {'boardtruck.2', 'unloadtruck.2', 'disembarktruck.2'}]\n",
      "\n",
      "Removed redundancy transition set list\n",
      "[{'boardtruck.2', 'loadtruck.2'}, {'loadtruck.2', 'drivetruck.2', 'disembarktruck.2'}, {'unloadtruck.2', 'drivetruck.1', 'loadtruck.2'}, {'boardtruck.2', 'unloadtruck.2', 'disembarktruck.2'}]\n"
     ]
    },
    {
     "data": {
      "text/markdown": [
       "#### Final transition set list"
      ],
      "text/plain": [
       "<IPython.core.display.Markdown object>"
      ]
     },
     "metadata": {},
     "output_type": "display_data"
    },
    {
     "name": "stdout",
     "output_type": "stream",
     "text": [
      "[{'boardtruck.2', 'loadtruck.2'}, {'loadtruck.2', 'drivetruck.2', 'disembarktruck.2'}, {'unloadtruck.2', 'drivetruck.1', 'loadtruck.2'}, {'boardtruck.2', 'unloadtruck.2', 'disembarktruck.2'}, {'boardtruck.2', 'loadtruck.2', 'unloadtruck.2', 'drivetruck.1', 'drivetruck.2', 'disembarktruck.2'}]\n"
     ]
    }
   ],
   "source": [
    "def locm2_get_transition_sets_per_class(holes_per_class, transitions_per_class, consecutive_transitions_per_class):\n",
    "    \"\"\"LOCM 2 Algorithm in the original LOCM2 paper\"\"\"\n",
    "    \n",
    "    # contains Solution Set S for each class.\n",
    "    transition_sets_per_class = []\n",
    "\n",
    "    # for each hole for a class/sort\n",
    "    for index, holes in enumerate(holes_per_class):\n",
    "        class_name = class_names[index]\n",
    "        printmd(\"### \"+  class_name)\n",
    "        \n",
    "        # S\n",
    "        transition_set_list = [] #transition_sets_of_a_class, # intially it's empty\n",
    "        \n",
    "        if len(holes)==0:\n",
    "            print(\"no holes\") # S will contain just T_all\n",
    "        \n",
    "        if len(holes) > 0: # if there are any holes for a class\n",
    "            print(str(len(holes)) + \" holes\")\n",
    "            for ind, hole in enumerate(holes):\n",
    "                printmd(\"#### Hole \" + str(ind + 1) + \": \" + str(set(hole)))\n",
    "                is_hole_already_covered_flag = False\n",
    "                if len(transition_set_list)>0:\n",
    "                    for s_prime in transition_set_list:\n",
    "                        if hole.issubset(s_prime):\n",
    "                            printmd(\"Hole \"+ str(set(hole)) + \" is already covered.\")\n",
    "                            is_hole_already_covered_flag = True\n",
    "                            break\n",
    "                     \n",
    "                # discover a set which includes hole and is well-formed and valid against test data.\n",
    "                # if hole is not covered, do BFS with sets of increasing sizes starting with s=hole\n",
    "                if not is_hole_already_covered_flag: \n",
    "                    h = hole.copy()\n",
    "                    candidate_sets = []\n",
    "                    # all subsets of T_all starting from hole's len +1 to T_all-1.\n",
    "                    for i in range(len(h)+1,len(transitions_per_class[index])): \n",
    "                        subsets = findsubsets(transitions_per_class[index],i) # all subsets of length i\n",
    "\n",
    "                        for s in subsets:\n",
    "                            if h.issubset(s): # if  is subset of s\n",
    "                                candidate_sets.append(set(s))\n",
    "                        \n",
    "                        s_well_formed_and_valid = False\n",
    "                        for s in candidate_sets:\n",
    "                            if len(s)>=i:\n",
    "                                printmd(\"Checking candidate set *\" + str(s) + \"* of class **\" + class_name + \"** for well formedness and Validity\")\n",
    "                                subset_df = adjacency_matrix_list[index].loc[list(s),list(s)]\n",
    "                                print_table(subset_df)\n",
    "\n",
    "                                # checking for well-formedness\n",
    "                                well_formed_flag = False\n",
    "                                well_formed_flag = check_well_formed(subset_df)\n",
    "                                if not well_formed_flag:\n",
    "                                    print(\"This subset is NOT well-formed\")\n",
    "                                    \n",
    "                                elif well_formed_flag:\n",
    "                                    print(\"This subset is well-formed.\")\n",
    "                                    # if well-formed validate across the data E\n",
    "                                    # to remove inappropriate dead-ends\n",
    "                                    valid_against_data_flag = False\n",
    "                                    valid_against_data_flag = check_valid(subset_df, consecutive_transitions_per_class)\n",
    "                                    if not valid_against_data_flag:\n",
    "                                        print(\"This subset is well-formed but invalid against example data\")\n",
    "\n",
    "                                    if valid_against_data_flag:\n",
    "                                        print(\"This subset is valid.\")\n",
    "                                        print(\"Adding this subset \" + str(s) +\" to the locm2 transition set.\")\n",
    "                                        if s not in transition_set_list: # do not allow copies.\n",
    "                                            transition_set_list.append(s)\n",
    "                                        \n",
    "                                        print(\"Hole that is covered now:\")\n",
    "                                        print(list(h))\n",
    "                                        s_well_formed_and_valid = True\n",
    "                                        break \n",
    "                        if s_well_formed_and_valid:\n",
    "                                break\n",
    "                                        \n",
    "                                        \n",
    "\n",
    "        print(transition_set_list)                                    \n",
    "        #step 7 : remove redundant sets S - {s1}\n",
    "        ts_copy = transition_set_list.copy()\n",
    "        for i in range(len(ts_copy)):\n",
    "            for j in range(len(ts_copy)):\n",
    "                if ts_copy[i] < ts_copy[j]: #if subset\n",
    "                    if ts_copy[i] in transition_set_list:\n",
    "                        transition_set_list.remove(ts_copy[i])\n",
    "                elif ts_copy[i] > ts_copy[j]:\n",
    "                    if ts_copy[j] in transition_set_list:\n",
    "                        transition_set_list.remove(ts_copy[j])\n",
    "        print(\"\\nRemoved redundancy transition set list\")\n",
    "        print(transition_set_list)\n",
    "\n",
    "        #step-8: include all-transitions machine, even if it is not well-formed.\n",
    "        transition_set_list.append(set(transitions_per_class[index])) #fallback\n",
    "        printmd(\"#### Final transition set list\")\n",
    "        print(transition_set_list)\n",
    "        transition_sets_per_class.append(transition_set_list)\n",
    "        \n",
    "\n",
    "    return transition_sets_per_class\n",
    "\n",
    "\n",
    "############    LOCM2 #################\n",
    "####    Input ready for LOCM2, Starting LOCM2 algorithm now\n",
    "####    Step 8:  selecting transition sets (TS) [Main LOCM2 Algorithm]\n",
    "printmd(\"### Getting transitions sets for each class using LOCM2\")\n",
    "transition_sets_per_class = locm2_get_transition_sets_per_class(holes_per_class, transitions_per_class, consecutive_transitions_per_class)"
   ]
  },
  {
   "cell_type": "markdown",
   "metadata": {},
   "source": [
    "## Step 3: Algorithm For Induction of State Machines\n",
    "\n",
    "- Input: Action training sequence of length N\n",
    "- Output: Transition Set TS, Object states OS.\n",
    "\n",
    "We already have transition set TS per class."
   ]
  },
  {
   "cell_type": "code",
   "execution_count": 122,
   "metadata": {
    "lines_to_next_cell": 2
   },
   "outputs": [],
   "source": [
    "def plot_cytographs_fsm(graph, domain_name):\n",
    "    cytoscapeobj = CytoscapeWidget()\n",
    "    print(\"test\",graph)\n",
    "    cytoscapeobj.graph.add_graph_from_networkx(graph)\n",
    "    edge_list = list()\n",
    "    for source, target, data in graph.edges(data=True):\n",
    "        edge_instance = Edge()\n",
    "        edge_instance.data['source'] = source\n",
    "        edge_instance.data['target'] = target\n",
    "        for k, v in data.items():\n",
    "            cyto_attrs = ['group', 'removed', 'selected', 'selectable',\n",
    "                'locked', 'grabbed', 'grabbable', 'classes', 'position', 'data']\n",
    "            if k in cyto_attrs:\n",
    "                setattr(edge_instance, k, v)\n",
    "            else:\n",
    "                edge_instance.data[k] = v\n",
    "            edge_list.append(edge_instance)\n",
    "\n",
    "    cytoscapeobj.graph.edges = edge_list\n",
    "#     print(\"Nodes:{}\".format(graph.nodes()))\n",
    "#     print(\"Edges:{}\".format(graph.edges()))\n",
    "    cytoscapeobj.set_style([{\n",
    "                    'width':400,\n",
    "                    'height':500,\n",
    "\n",
    "                    'selector': 'node',\n",
    "                    'style': {\n",
    "                        'label': 'data(id)',\n",
    "                        'font-family': 'helvetica',\n",
    "                        'font-size': '8px',\n",
    "                        'background-color': '#11479e',\n",
    "                        'height':'10px',\n",
    "                        'width':'10px',\n",
    "\n",
    "\n",
    "                        }\n",
    "\n",
    "                    },\n",
    "                    {\n",
    "                    'selector': 'node:parent',\n",
    "                    'css': {\n",
    "                        'background-opacity': 0.333,\n",
    "                        'background-color': '#bbb'\n",
    "                        }\n",
    "                    },\n",
    "                    {\n",
    "                    'selector': '$node > node',\n",
    "                    'css': {\n",
    "                        'padding-top': '10px',\n",
    "                        'padding-left': '10px',\n",
    "                        'padding-bottom': '10px',\n",
    "                        'padding-right': '10px',\n",
    "                        'text-valign': 'top',\n",
    "                        'text-halign': 'center',\n",
    "                        'background-color': '#bbb'\n",
    "                      }\n",
    "                    },\n",
    "                   {\n",
    "                        'selector': 'edge',\n",
    "\n",
    "                        'style': {\n",
    "                            'label':'data(weight)',\n",
    "                            'width': 1,\n",
    "                            'line-color': '#9dbaea',\n",
    "                            'target-arrow-shape': 'triangle',\n",
    "                            'target-arrow-color': '#9dbaea',\n",
    "                            'arrow-scale': 0.5,\n",
    "                            'curve-style': 'bezier',\n",
    "                            'font-family': 'helvetica',\n",
    "                            'font-size': '8px',\n",
    "                            'text-valign': 'top',\n",
    "                            'text-halign':'center'\n",
    "                        }\n",
    "                    },\n",
    "                    ])\n",
    "    cytoscapeobj.max_zoom = 2.0\n",
    "    cytoscapeobj.min_zoom = 0.5\n",
    "    display(cytoscapeobj)"
   ]
  },
  {
   "cell_type": "markdown",
   "metadata": {},
   "source": [
    "#### First make start(t) and end(t) as state for each transition in FSM."
   ]
  },
  {
   "cell_type": "code",
   "execution_count": 123,
   "metadata": {
    "lines_to_next_cell": 2,
    "scrolled": true
   },
   "outputs": [
    {
     "data": {
      "text/markdown": [
       "### Driver"
      ],
      "text/plain": [
       "<IPython.core.display.Markdown object>"
      ]
     },
     "metadata": {},
     "output_type": "display_data"
    },
    {
     "name": "stdout",
     "output_type": "stream",
     "text": [
      "Number of FSMS:1\n"
     ]
    },
    {
     "data": {
      "text/markdown": [
       "#### FSM 0"
      ],
      "text/plain": [
       "<IPython.core.display.Markdown object>"
      ]
     },
     "metadata": {},
     "output_type": "display_data"
    },
    {
     "data": {
      "text/html": [
       "<table>\n",
       "<thead>\n",
       "<tr><th>                </th><th style=\"text-align: right;\">  boardtruck.0</th><th style=\"text-align: right;\">  disembarktruck.0</th><th style=\"text-align: right;\">  drivetruck.3</th></tr>\n",
       "</thead>\n",
       "<tbody>\n",
       "<tr><td>boardtruck.0    </td><td style=\"text-align: right;\">             0</td><td style=\"text-align: right;\">                 1</td><td style=\"text-align: right;\">             5</td></tr>\n",
       "<tr><td>disembarktruck.0</td><td style=\"text-align: right;\">             4</td><td style=\"text-align: right;\">                 0</td><td style=\"text-align: right;\">             0</td></tr>\n",
       "<tr><td>drivetruck.3    </td><td style=\"text-align: right;\">             0</td><td style=\"text-align: right;\">                 5</td><td style=\"text-align: right;\">             9</td></tr>\n",
       "</tbody>\n",
       "</table>"
      ],
      "text/plain": [
       "'<table>\\n<thead>\\n<tr><th>                </th><th style=\"text-align: right;\">  boardtruck.0</th><th style=\"text-align: right;\">  disembarktruck.0</th><th style=\"text-align: right;\">  drivetruck.3</th></tr>\\n</thead>\\n<tbody>\\n<tr><td>boardtruck.0    </td><td style=\"text-align: right;\">             0</td><td style=\"text-align: right;\">                 1</td><td style=\"text-align: right;\">             5</td></tr>\\n<tr><td>disembarktruck.0</td><td style=\"text-align: right;\">             4</td><td style=\"text-align: right;\">                 0</td><td style=\"text-align: right;\">             0</td></tr>\\n<tr><td>drivetruck.3    </td><td style=\"text-align: right;\">             0</td><td style=\"text-align: right;\">                 5</td><td style=\"text-align: right;\">             9</td></tr>\\n</tbody>\\n</table>'"
      ]
     },
     "metadata": {},
     "output_type": "display_data"
    },
    {
     "name": "stdout",
     "output_type": "stream",
     "text": [
      "test DiGraph with 2 nodes and 3 edges\n"
     ]
    },
    {
     "name": "stderr",
     "output_type": "stream",
     "text": [
      "/home/uto/miniconda3/lib/python3.12/site-packages/jupyter_client/session.py:721: UserWarning: Message serialization failed with:\n",
      "keys must be str, int, float, bool or None, not tuple\n",
      "Supporting this message is deprecated in jupyter-client 7, please make sure your message is JSON-compliant\n",
      "  content = self.pack(content)\n"
     ]
    },
    {
     "data": {
      "application/vnd.jupyter.widget-view+json": {
       "model_id": "a8bbb8355c2b4a41a97217d669d36ce8",
       "version_major": 2,
       "version_minor": 0
      },
      "text/plain": [
       "CytoscapeWidget(cytoscape_layout={'name': 'cola'}, cytoscape_style=[{'width': 400, 'height': 500, 'selector': …"
      ]
     },
     "metadata": {},
     "output_type": "display_data"
    },
    {
     "data": {
      "text/html": [
       "<table>\n",
       "<thead>\n",
       "<tr><th>                                                                   </th><th style=\"text-align: right;\">  e(disembarktruck.0)|s(boardtruck.0)</th><th style=\"text-align: right;\">  e(drivetruck.3)|e(boardtruck.0)|s(disembarktruck.0)|s(drivetruck.3)</th></tr>\n",
       "</thead>\n",
       "<tbody>\n",
       "<tr><td>e(disembarktruck.0)|s(boardtruck.0)                                </td><td style=\"text-align: right;\">                                    0</td><td style=\"text-align: right;\">                                                                    1</td></tr>\n",
       "<tr><td>e(drivetruck.3)|e(boardtruck.0)|s(disembarktruck.0)|s(drivetruck.3)</td><td style=\"text-align: right;\">                                    1</td><td style=\"text-align: right;\">                                                                    1</td></tr>\n",
       "</tbody>\n",
       "</table>"
      ],
      "text/plain": [
       "'<table>\\n<thead>\\n<tr><th>                                                                   </th><th style=\"text-align: right;\">  e(disembarktruck.0)|s(boardtruck.0)</th><th style=\"text-align: right;\">  e(drivetruck.3)|e(boardtruck.0)|s(disembarktruck.0)|s(drivetruck.3)</th></tr>\\n</thead>\\n<tbody>\\n<tr><td>e(disembarktruck.0)|s(boardtruck.0)                                </td><td style=\"text-align: right;\">                                    0</td><td style=\"text-align: right;\">                                                                    1</td></tr>\\n<tr><td>e(drivetruck.3)|e(boardtruck.0)|s(disembarktruck.0)|s(drivetruck.3)</td><td style=\"text-align: right;\">                                    1</td><td style=\"text-align: right;\">                                                                    1</td></tr>\\n</tbody>\\n</table>'"
      ]
     },
     "metadata": {},
     "output_type": "display_data"
    },
    {
     "data": {
      "text/markdown": [
       "### Truck"
      ],
      "text/plain": [
       "<IPython.core.display.Markdown object>"
      ]
     },
     "metadata": {},
     "output_type": "display_data"
    },
    {
     "name": "stdout",
     "output_type": "stream",
     "text": [
      "Number of FSMS:4\n"
     ]
    },
    {
     "data": {
      "text/markdown": [
       "#### FSM 0"
      ],
      "text/plain": [
       "<IPython.core.display.Markdown object>"
      ]
     },
     "metadata": {},
     "output_type": "display_data"
    },
    {
     "data": {
      "text/html": [
       "<table>\n",
       "<thead>\n",
       "<tr><th>            </th><th style=\"text-align: right;\">  boardtruck.1</th><th style=\"text-align: right;\">  loadtruck.1</th></tr>\n",
       "</thead>\n",
       "<tbody>\n",
       "<tr><td>boardtruck.1</td><td style=\"text-align: right;\">             0</td><td style=\"text-align: right;\">            3</td></tr>\n",
       "<tr><td>loadtruck.1 </td><td style=\"text-align: right;\">             0</td><td style=\"text-align: right;\">            0</td></tr>\n",
       "</tbody>\n",
       "</table>"
      ],
      "text/plain": [
       "'<table>\\n<thead>\\n<tr><th>            </th><th style=\"text-align: right;\">  boardtruck.1</th><th style=\"text-align: right;\">  loadtruck.1</th></tr>\\n</thead>\\n<tbody>\\n<tr><td>boardtruck.1</td><td style=\"text-align: right;\">             0</td><td style=\"text-align: right;\">            3</td></tr>\\n<tr><td>loadtruck.1 </td><td style=\"text-align: right;\">             0</td><td style=\"text-align: right;\">            0</td></tr>\\n</tbody>\\n</table>'"
      ]
     },
     "metadata": {},
     "output_type": "display_data"
    },
    {
     "name": "stdout",
     "output_type": "stream",
     "text": [
      "test DiGraph with 3 nodes and 2 edges\n"
     ]
    },
    {
     "data": {
      "application/vnd.jupyter.widget-view+json": {
       "model_id": "fc30637b8f074636b989ed440ec9019f",
       "version_major": 2,
       "version_minor": 0
      },
      "text/plain": [
       "CytoscapeWidget(cytoscape_layout={'name': 'cola'}, cytoscape_style=[{'width': 400, 'height': 500, 'selector': …"
      ]
     },
     "metadata": {},
     "output_type": "display_data"
    },
    {
     "data": {
      "text/html": [
       "<table>\n",
       "<thead>\n",
       "<tr><th>                              </th><th style=\"text-align: right;\">  s(boardtruck.1)</th><th style=\"text-align: right;\">  e(boardtruck.1)|s(loadtruck.1)</th><th style=\"text-align: right;\">  e(loadtruck.1)</th></tr>\n",
       "</thead>\n",
       "<tbody>\n",
       "<tr><td>s(boardtruck.1)               </td><td style=\"text-align: right;\">                0</td><td style=\"text-align: right;\">                               1</td><td style=\"text-align: right;\">               0</td></tr>\n",
       "<tr><td>e(boardtruck.1)|s(loadtruck.1)</td><td style=\"text-align: right;\">                0</td><td style=\"text-align: right;\">                               0</td><td style=\"text-align: right;\">               1</td></tr>\n",
       "<tr><td>e(loadtruck.1)                </td><td style=\"text-align: right;\">                0</td><td style=\"text-align: right;\">                               0</td><td style=\"text-align: right;\">               0</td></tr>\n",
       "</tbody>\n",
       "</table>"
      ],
      "text/plain": [
       "'<table>\\n<thead>\\n<tr><th>                              </th><th style=\"text-align: right;\">  s(boardtruck.1)</th><th style=\"text-align: right;\">  e(boardtruck.1)|s(loadtruck.1)</th><th style=\"text-align: right;\">  e(loadtruck.1)</th></tr>\\n</thead>\\n<tbody>\\n<tr><td>s(boardtruck.1)               </td><td style=\"text-align: right;\">                0</td><td style=\"text-align: right;\">                               1</td><td style=\"text-align: right;\">               0</td></tr>\\n<tr><td>e(boardtruck.1)|s(loadtruck.1)</td><td style=\"text-align: right;\">                0</td><td style=\"text-align: right;\">                               0</td><td style=\"text-align: right;\">               1</td></tr>\\n<tr><td>e(loadtruck.1)                </td><td style=\"text-align: right;\">                0</td><td style=\"text-align: right;\">                               0</td><td style=\"text-align: right;\">               0</td></tr>\\n</tbody>\\n</table>'"
      ]
     },
     "metadata": {},
     "output_type": "display_data"
    },
    {
     "data": {
      "text/markdown": [
       "#### FSM 1"
      ],
      "text/plain": [
       "<IPython.core.display.Markdown object>"
      ]
     },
     "metadata": {},
     "output_type": "display_data"
    },
    {
     "data": {
      "text/html": [
       "<table>\n",
       "<thead>\n",
       "<tr><th>                </th><th style=\"text-align: right;\">  disembarktruck.1</th><th style=\"text-align: right;\">  unloadtruck.1</th><th style=\"text-align: right;\">  loadtruck.1</th></tr>\n",
       "</thead>\n",
       "<tbody>\n",
       "<tr><td>disembarktruck.1</td><td style=\"text-align: right;\">                 0</td><td style=\"text-align: right;\">              0</td><td style=\"text-align: right;\">            0</td></tr>\n",
       "<tr><td>unloadtruck.1   </td><td style=\"text-align: right;\">                 1</td><td style=\"text-align: right;\">              0</td><td style=\"text-align: right;\">            0</td></tr>\n",
       "<tr><td>loadtruck.1     </td><td style=\"text-align: right;\">                 0</td><td style=\"text-align: right;\">              0</td><td style=\"text-align: right;\">            0</td></tr>\n",
       "</tbody>\n",
       "</table>"
      ],
      "text/plain": [
       "'<table>\\n<thead>\\n<tr><th>                </th><th style=\"text-align: right;\">  disembarktruck.1</th><th style=\"text-align: right;\">  unloadtruck.1</th><th style=\"text-align: right;\">  loadtruck.1</th></tr>\\n</thead>\\n<tbody>\\n<tr><td>disembarktruck.1</td><td style=\"text-align: right;\">                 0</td><td style=\"text-align: right;\">              0</td><td style=\"text-align: right;\">            0</td></tr>\\n<tr><td>unloadtruck.1   </td><td style=\"text-align: right;\">                 1</td><td style=\"text-align: right;\">              0</td><td style=\"text-align: right;\">            0</td></tr>\\n<tr><td>loadtruck.1     </td><td style=\"text-align: right;\">                 0</td><td style=\"text-align: right;\">              0</td><td style=\"text-align: right;\">            0</td></tr>\\n</tbody>\\n</table>'"
      ]
     },
     "metadata": {},
     "output_type": "display_data"
    },
    {
     "name": "stdout",
     "output_type": "stream",
     "text": [
      "test DiGraph with 5 nodes and 3 edges\n"
     ]
    },
    {
     "data": {
      "application/vnd.jupyter.widget-view+json": {
       "model_id": "eff2f931921347c5ab15e0158f9455b2",
       "version_major": 2,
       "version_minor": 0
      },
      "text/plain": [
       "CytoscapeWidget(cytoscape_layout={'name': 'cola'}, cytoscape_style=[{'width': 400, 'height': 500, 'selector': …"
      ]
     },
     "metadata": {},
     "output_type": "display_data"
    },
    {
     "data": {
      "text/html": [
       "<table>\n",
       "<thead>\n",
       "<tr><th>                                    </th><th style=\"text-align: right;\">  e(disembarktruck.1)</th><th style=\"text-align: right;\">  s(unloadtruck.1)</th><th style=\"text-align: right;\">  e(unloadtruck.1)|s(disembarktruck.1)</th><th style=\"text-align: right;\">  s(loadtruck.1)</th><th style=\"text-align: right;\">  e(loadtruck.1)</th></tr>\n",
       "</thead>\n",
       "<tbody>\n",
       "<tr><td>e(disembarktruck.1)                 </td><td style=\"text-align: right;\">                    0</td><td style=\"text-align: right;\">                 0</td><td style=\"text-align: right;\">                                     0</td><td style=\"text-align: right;\">               0</td><td style=\"text-align: right;\">               0</td></tr>\n",
       "<tr><td>s(unloadtruck.1)                    </td><td style=\"text-align: right;\">                    0</td><td style=\"text-align: right;\">                 0</td><td style=\"text-align: right;\">                                     1</td><td style=\"text-align: right;\">               0</td><td style=\"text-align: right;\">               0</td></tr>\n",
       "<tr><td>e(unloadtruck.1)|s(disembarktruck.1)</td><td style=\"text-align: right;\">                    1</td><td style=\"text-align: right;\">                 0</td><td style=\"text-align: right;\">                                     0</td><td style=\"text-align: right;\">               0</td><td style=\"text-align: right;\">               0</td></tr>\n",
       "<tr><td>s(loadtruck.1)                      </td><td style=\"text-align: right;\">                    0</td><td style=\"text-align: right;\">                 0</td><td style=\"text-align: right;\">                                     0</td><td style=\"text-align: right;\">               0</td><td style=\"text-align: right;\">               1</td></tr>\n",
       "<tr><td>e(loadtruck.1)                      </td><td style=\"text-align: right;\">                    0</td><td style=\"text-align: right;\">                 0</td><td style=\"text-align: right;\">                                     0</td><td style=\"text-align: right;\">               0</td><td style=\"text-align: right;\">               0</td></tr>\n",
       "</tbody>\n",
       "</table>"
      ],
      "text/plain": [
       "'<table>\\n<thead>\\n<tr><th>                                    </th><th style=\"text-align: right;\">  e(disembarktruck.1)</th><th style=\"text-align: right;\">  s(unloadtruck.1)</th><th style=\"text-align: right;\">  e(unloadtruck.1)|s(disembarktruck.1)</th><th style=\"text-align: right;\">  s(loadtruck.1)</th><th style=\"text-align: right;\">  e(loadtruck.1)</th></tr>\\n</thead>\\n<tbody>\\n<tr><td>e(disembarktruck.1)                 </td><td style=\"text-align: right;\">                    0</td><td style=\"text-align: right;\">                 0</td><td style=\"text-align: right;\">                                     0</td><td style=\"text-align: right;\">               0</td><td style=\"text-align: right;\">               0</td></tr>\\n<tr><td>s(unloadtruck.1)                    </td><td style=\"text-align: right;\">                    0</td><td style=\"text-align: right;\">                 0</td><td style=\"text-align: right;\">                                     1</td><td style=\"text-align: right;\">               0</td><td style=\"text-align: right;\">               0</td></tr>\\n<tr><td>e(unloadtruck.1)|s(disembarktruck.1)</td><td style=\"text-align: right;\">                    1</td><td style=\"text-align: right;\">                 0</td><td style=\"text-align: right;\">                                     0</td><td style=\"text-align: right;\">               0</td><td style=\"text-align: right;\">               0</td></tr>\\n<tr><td>s(loadtruck.1)                      </td><td style=\"text-align: right;\">                    0</td><td style=\"text-align: right;\">                 0</td><td style=\"text-align: right;\">                                     0</td><td style=\"text-align: right;\">               0</td><td style=\"text-align: right;\">               1</td></tr>\\n<tr><td>e(loadtruck.1)                      </td><td style=\"text-align: right;\">                    0</td><td style=\"text-align: right;\">                 0</td><td style=\"text-align: right;\">                                     0</td><td style=\"text-align: right;\">               0</td><td style=\"text-align: right;\">               0</td></tr>\\n</tbody>\\n</table>'"
      ]
     },
     "metadata": {},
     "output_type": "display_data"
    },
    {
     "data": {
      "text/markdown": [
       "#### FSM 2"
      ],
      "text/plain": [
       "<IPython.core.display.Markdown object>"
      ]
     },
     "metadata": {},
     "output_type": "display_data"
    },
    {
     "data": {
      "text/html": [
       "<table>\n",
       "<thead>\n",
       "<tr><th>                </th><th style=\"text-align: right;\">  disembarktruck.1</th><th style=\"text-align: right;\">  unloadtruck.1</th><th style=\"text-align: right;\">  boardtruck.1</th></tr>\n",
       "</thead>\n",
       "<tbody>\n",
       "<tr><td>disembarktruck.1</td><td style=\"text-align: right;\">                 0</td><td style=\"text-align: right;\">              0</td><td style=\"text-align: right;\">             4</td></tr>\n",
       "<tr><td>unloadtruck.1   </td><td style=\"text-align: right;\">                 1</td><td style=\"text-align: right;\">              0</td><td style=\"text-align: right;\">             0</td></tr>\n",
       "<tr><td>boardtruck.1    </td><td style=\"text-align: right;\">                 1</td><td style=\"text-align: right;\">              0</td><td style=\"text-align: right;\">             0</td></tr>\n",
       "</tbody>\n",
       "</table>"
      ],
      "text/plain": [
       "'<table>\\n<thead>\\n<tr><th>                </th><th style=\"text-align: right;\">  disembarktruck.1</th><th style=\"text-align: right;\">  unloadtruck.1</th><th style=\"text-align: right;\">  boardtruck.1</th></tr>\\n</thead>\\n<tbody>\\n<tr><td>disembarktruck.1</td><td style=\"text-align: right;\">                 0</td><td style=\"text-align: right;\">              0</td><td style=\"text-align: right;\">             4</td></tr>\\n<tr><td>unloadtruck.1   </td><td style=\"text-align: right;\">                 1</td><td style=\"text-align: right;\">              0</td><td style=\"text-align: right;\">             0</td></tr>\\n<tr><td>boardtruck.1    </td><td style=\"text-align: right;\">                 1</td><td style=\"text-align: right;\">              0</td><td style=\"text-align: right;\">             0</td></tr>\\n</tbody>\\n</table>'"
      ]
     },
     "metadata": {},
     "output_type": "display_data"
    },
    {
     "name": "stdout",
     "output_type": "stream",
     "text": [
      "test DiGraph with 3 nodes and 3 edges\n"
     ]
    },
    {
     "data": {
      "application/vnd.jupyter.widget-view+json": {
       "model_id": "f6480f17dddb47549c17c09bf4a6eb3b",
       "version_major": 2,
       "version_minor": 0
      },
      "text/plain": [
       "CytoscapeWidget(cytoscape_layout={'name': 'cola'}, cytoscape_style=[{'width': 400, 'height': 500, 'selector': …"
      ]
     },
     "metadata": {},
     "output_type": "display_data"
    },
    {
     "data": {
      "text/html": [
       "<table>\n",
       "<thead>\n",
       "<tr><th>                                                    </th><th style=\"text-align: right;\">  e(disembarktruck.1)|s(boardtruck.1)</th><th style=\"text-align: right;\">  s(unloadtruck.1)</th><th style=\"text-align: right;\">  e(boardtruck.1)|e(unloadtruck.1)|s(disembarktruck.1)</th></tr>\n",
       "</thead>\n",
       "<tbody>\n",
       "<tr><td>e(disembarktruck.1)|s(boardtruck.1)                 </td><td style=\"text-align: right;\">                                    0</td><td style=\"text-align: right;\">                 0</td><td style=\"text-align: right;\">                                                     1</td></tr>\n",
       "<tr><td>s(unloadtruck.1)                                    </td><td style=\"text-align: right;\">                                    0</td><td style=\"text-align: right;\">                 0</td><td style=\"text-align: right;\">                                                     1</td></tr>\n",
       "<tr><td>e(boardtruck.1)|e(unloadtruck.1)|s(disembarktruck.1)</td><td style=\"text-align: right;\">                                    1</td><td style=\"text-align: right;\">                 0</td><td style=\"text-align: right;\">                                                     0</td></tr>\n",
       "</tbody>\n",
       "</table>"
      ],
      "text/plain": [
       "'<table>\\n<thead>\\n<tr><th>                                                    </th><th style=\"text-align: right;\">  e(disembarktruck.1)|s(boardtruck.1)</th><th style=\"text-align: right;\">  s(unloadtruck.1)</th><th style=\"text-align: right;\">  e(boardtruck.1)|e(unloadtruck.1)|s(disembarktruck.1)</th></tr>\\n</thead>\\n<tbody>\\n<tr><td>e(disembarktruck.1)|s(boardtruck.1)                 </td><td style=\"text-align: right;\">                                    0</td><td style=\"text-align: right;\">                 0</td><td style=\"text-align: right;\">                                                     1</td></tr>\\n<tr><td>s(unloadtruck.1)                                    </td><td style=\"text-align: right;\">                                    0</td><td style=\"text-align: right;\">                 0</td><td style=\"text-align: right;\">                                                     1</td></tr>\\n<tr><td>e(boardtruck.1)|e(unloadtruck.1)|s(disembarktruck.1)</td><td style=\"text-align: right;\">                                    1</td><td style=\"text-align: right;\">                 0</td><td style=\"text-align: right;\">                                                     0</td></tr>\\n</tbody>\\n</table>'"
      ]
     },
     "metadata": {},
     "output_type": "display_data"
    },
    {
     "data": {
      "text/markdown": [
       "#### FSM 3"
      ],
      "text/plain": [
       "<IPython.core.display.Markdown object>"
      ]
     },
     "metadata": {},
     "output_type": "display_data"
    },
    {
     "data": {
      "text/html": [
       "<table>\n",
       "<thead>\n",
       "<tr><th>                </th><th style=\"text-align: right;\">  disembarktruck.1</th><th style=\"text-align: right;\">  drivetruck.0</th><th style=\"text-align: right;\">  boardtruck.1</th><th style=\"text-align: right;\">  loadtruck.1</th><th style=\"text-align: right;\">  unloadtruck.1</th></tr>\n",
       "</thead>\n",
       "<tbody>\n",
       "<tr><td>disembarktruck.1</td><td style=\"text-align: right;\">                 0</td><td style=\"text-align: right;\">             0</td><td style=\"text-align: right;\">             4</td><td style=\"text-align: right;\">            0</td><td style=\"text-align: right;\">              0</td></tr>\n",
       "<tr><td>drivetruck.0    </td><td style=\"text-align: right;\">                 4</td><td style=\"text-align: right;\">             3</td><td style=\"text-align: right;\">             0</td><td style=\"text-align: right;\">            2</td><td style=\"text-align: right;\">              5</td></tr>\n",
       "<tr><td>boardtruck.1    </td><td style=\"text-align: right;\">                 1</td><td style=\"text-align: right;\">             2</td><td style=\"text-align: right;\">             0</td><td style=\"text-align: right;\">            3</td><td style=\"text-align: right;\">              0</td></tr>\n",
       "<tr><td>loadtruck.1     </td><td style=\"text-align: right;\">                 0</td><td style=\"text-align: right;\">             5</td><td style=\"text-align: right;\">             0</td><td style=\"text-align: right;\">            0</td><td style=\"text-align: right;\">              0</td></tr>\n",
       "<tr><td>unloadtruck.1   </td><td style=\"text-align: right;\">                 1</td><td style=\"text-align: right;\">             4</td><td style=\"text-align: right;\">             0</td><td style=\"text-align: right;\">            0</td><td style=\"text-align: right;\">              0</td></tr>\n",
       "</tbody>\n",
       "</table>"
      ],
      "text/plain": [
       "'<table>\\n<thead>\\n<tr><th>                </th><th style=\"text-align: right;\">  disembarktruck.1</th><th style=\"text-align: right;\">  drivetruck.0</th><th style=\"text-align: right;\">  boardtruck.1</th><th style=\"text-align: right;\">  loadtruck.1</th><th style=\"text-align: right;\">  unloadtruck.1</th></tr>\\n</thead>\\n<tbody>\\n<tr><td>disembarktruck.1</td><td style=\"text-align: right;\">                 0</td><td style=\"text-align: right;\">             0</td><td style=\"text-align: right;\">             4</td><td style=\"text-align: right;\">            0</td><td style=\"text-align: right;\">              0</td></tr>\\n<tr><td>drivetruck.0    </td><td style=\"text-align: right;\">                 4</td><td style=\"text-align: right;\">             3</td><td style=\"text-align: right;\">             0</td><td style=\"text-align: right;\">            2</td><td style=\"text-align: right;\">              5</td></tr>\\n<tr><td>boardtruck.1    </td><td style=\"text-align: right;\">                 1</td><td style=\"text-align: right;\">             2</td><td style=\"text-align: right;\">             0</td><td style=\"text-align: right;\">            3</td><td style=\"text-align: right;\">              0</td></tr>\\n<tr><td>loadtruck.1     </td><td style=\"text-align: right;\">                 0</td><td style=\"text-align: right;\">             5</td><td style=\"text-align: right;\">             0</td><td style=\"text-align: right;\">            0</td><td style=\"text-align: right;\">              0</td></tr>\\n<tr><td>unloadtruck.1   </td><td style=\"text-align: right;\">                 1</td><td style=\"text-align: right;\">             4</td><td style=\"text-align: right;\">             0</td><td style=\"text-align: right;\">            0</td><td style=\"text-align: right;\">              0</td></tr>\\n</tbody>\\n</table>'"
      ]
     },
     "metadata": {},
     "output_type": "display_data"
    },
    {
     "name": "stdout",
     "output_type": "stream",
     "text": [
      "test DiGraph with 2 nodes and 3 edges\n"
     ]
    },
    {
     "ename": "RecursionError",
     "evalue": "maximum recursion depth exceeded",
     "output_type": "error",
     "traceback": [
      "\u001b[0;31m---------------------------------------------------------------------------\u001b[0m",
      "\u001b[0;31mRecursionError\u001b[0m                            Traceback (most recent call last)",
      "Cell \u001b[0;32mIn[123], line 65\u001b[0m\n\u001b[1;32m     59\u001b[0m                     t_list\u001b[38;5;241m.\u001b[39mappend(sub_s[\u001b[38;5;241m2\u001b[39m:\u001b[38;5;241m-\u001b[39m\u001b[38;5;241m1\u001b[39m])\n\u001b[1;32m     60\u001b[0m         fsm_graph[s][s][\u001b[38;5;124m'\u001b[39m\u001b[38;5;124mweight\u001b[39m\u001b[38;5;124m'\u001b[39m] \u001b[38;5;241m=\u001b[39m \u001b[38;5;124m'\u001b[39m\u001b[38;5;124m|\u001b[39m\u001b[38;5;124m'\u001b[39m\u001b[38;5;241m.\u001b[39mjoin(t_list)\n\u001b[0;32m---> 65\u001b[0m \u001b[43mplot_cytographs_fsm\u001b[49m\u001b[43m(\u001b[49m\u001b[43mfsm_graph\u001b[49m\u001b[43m,\u001b[49m\u001b[43mdomain_name\u001b[49m\u001b[43m)\u001b[49m\n\u001b[1;32m     66\u001b[0m df \u001b[38;5;241m=\u001b[39m nx\u001b[38;5;241m.\u001b[39mto_pandas_adjacency(fsm_graph, nodelist\u001b[38;5;241m=\u001b[39mfsm_graph\u001b[38;5;241m.\u001b[39mnodes(), weight \u001b[38;5;241m=\u001b[39m \u001b[38;5;241m1\u001b[39m)\n\u001b[1;32m     67\u001b[0m print_table(df)\n",
      "Cell \u001b[0;32mIn[122], line 4\u001b[0m, in \u001b[0;36mplot_cytographs_fsm\u001b[0;34m(graph, domain_name)\u001b[0m\n\u001b[1;32m      2\u001b[0m cytoscapeobj \u001b[38;5;241m=\u001b[39m CytoscapeWidget()\n\u001b[1;32m      3\u001b[0m \u001b[38;5;28mprint\u001b[39m(\u001b[38;5;124m\"\u001b[39m\u001b[38;5;124mtest\u001b[39m\u001b[38;5;124m\"\u001b[39m,graph)\n\u001b[0;32m----> 4\u001b[0m \u001b[43mcytoscapeobj\u001b[49m\u001b[38;5;241;43m.\u001b[39;49m\u001b[43mgraph\u001b[49m\u001b[38;5;241;43m.\u001b[39;49m\u001b[43madd_graph_from_networkx\u001b[49m\u001b[43m(\u001b[49m\u001b[43mgraph\u001b[49m\u001b[43m)\u001b[49m\n\u001b[1;32m      5\u001b[0m edge_list \u001b[38;5;241m=\u001b[39m \u001b[38;5;28mlist\u001b[39m()\n\u001b[1;32m      6\u001b[0m \u001b[38;5;28;01mfor\u001b[39;00m source, target, data \u001b[38;5;129;01min\u001b[39;00m graph\u001b[38;5;241m.\u001b[39medges(data\u001b[38;5;241m=\u001b[39m\u001b[38;5;28;01mTrue\u001b[39;00m):\n",
      "File \u001b[0;32m~/miniconda3/lib/python3.12/site-packages/ipycytoscape/cytoscape.py:515\u001b[0m, in \u001b[0;36mGraph.add_graph_from_networkx\u001b[0;34m(self, g, directed, multiple_edges)\u001b[0m\n\u001b[1;32m    512\u001b[0m \u001b[38;5;28;01melse\u001b[39;00m:\n\u001b[1;32m    513\u001b[0m     edge_instance\u001b[38;5;241m.\u001b[39mdata[\u001b[38;5;124m\"\u001b[39m\u001b[38;5;124mtarget\u001b[39m\u001b[38;5;124m\"\u001b[39m] \u001b[38;5;241m=\u001b[39m \u001b[38;5;28mstr\u001b[39m(target)\n\u001b[0;32m--> 515\u001b[0m \u001b[43m_set_attributes\u001b[49m\u001b[43m(\u001b[49m\u001b[43medge_instance\u001b[49m\u001b[43m,\u001b[49m\u001b[43m \u001b[49m\u001b[43mdata\u001b[49m\u001b[43m)\u001b[49m\n\u001b[1;32m    517\u001b[0m \u001b[38;5;28;01mif\u001b[39;00m directed \u001b[38;5;129;01mand\u001b[39;00m \u001b[38;5;124m\"\u001b[39m\u001b[38;5;124mdirected\u001b[39m\u001b[38;5;124m\"\u001b[39m \u001b[38;5;129;01mnot\u001b[39;00m \u001b[38;5;129;01min\u001b[39;00m edge_instance\u001b[38;5;241m.\u001b[39mclasses:\n\u001b[1;32m    518\u001b[0m     edge_instance\u001b[38;5;241m.\u001b[39mclasses \u001b[38;5;241m+\u001b[39m\u001b[38;5;241m=\u001b[39m \u001b[38;5;124m\"\u001b[39m\u001b[38;5;124m directed \u001b[39m\u001b[38;5;124m\"\u001b[39m\n",
      "File \u001b[0;32m~/miniconda3/lib/python3.12/site-packages/ipycytoscape/cytoscape.py:245\u001b[0m, in \u001b[0;36m_set_attributes\u001b[0;34m(instance, data)\u001b[0m\n\u001b[1;32m    243\u001b[0m     \u001b[38;5;28msetattr\u001b[39m(instance, k, v)\n\u001b[1;32m    244\u001b[0m \u001b[38;5;28;01melse\u001b[39;00m:\n\u001b[0;32m--> 245\u001b[0m     \u001b[43minstance\u001b[49m\u001b[38;5;241;43m.\u001b[39;49m\u001b[43mdata\u001b[49m\u001b[43m[\u001b[49m\u001b[43mk\u001b[49m\u001b[43m]\u001b[49m \u001b[38;5;241m=\u001b[39m v\n",
      "File \u001b[0;32m~/miniconda3/lib/python3.12/site-packages/spectate/base.py:281\u001b[0m, in \u001b[0;36mControl._create_controlled_method.<locals>.wrapped_method\u001b[0;34m(obj, *args, **kwargs)\u001b[0m\n\u001b[1;32m    279\u001b[0m after_control \u001b[38;5;241m=\u001b[39m bound_control\u001b[38;5;241m.\u001b[39mafter\n\u001b[1;32m    280\u001b[0m \u001b[38;5;28;01mif\u001b[39;00m after_control \u001b[38;5;129;01mis\u001b[39;00m \u001b[38;5;129;01mnot\u001b[39;00m \u001b[38;5;28;01mNone\u001b[39;00m:\n\u001b[0;32m--> 281\u001b[0m     \u001b[43mafter_control\u001b[49m\u001b[43m(\u001b[49m\n\u001b[1;32m    282\u001b[0m \u001b[43m        \u001b[49m\u001b[43mobj\u001b[49m\u001b[43m,\u001b[49m\u001b[43m \u001b[49m\u001b[43m{\u001b[49m\u001b[38;5;124;43m\"\u001b[39;49m\u001b[38;5;124;43mbefore\u001b[39;49m\u001b[38;5;124;43m\"\u001b[39;49m\u001b[43m:\u001b[49m\u001b[43m \u001b[49m\u001b[43mbefore_value\u001b[49m\u001b[43m,\u001b[49m\u001b[43m \u001b[49m\u001b[38;5;124;43m\"\u001b[39;49m\u001b[38;5;124;43mname\u001b[39;49m\u001b[38;5;124;43m\"\u001b[39;49m\u001b[43m:\u001b[49m\u001b[43m \u001b[49m\u001b[43mname\u001b[49m\u001b[43m,\u001b[49m\u001b[43m \u001b[49m\u001b[38;5;124;43m\"\u001b[39;49m\u001b[38;5;124;43mvalue\u001b[39;49m\u001b[38;5;124;43m\"\u001b[39;49m\u001b[43m:\u001b[49m\u001b[43m \u001b[49m\u001b[43mresult\u001b[49m\u001b[43m}\u001b[49m\n\u001b[1;32m    283\u001b[0m \u001b[43m    \u001b[49m\u001b[43m)\u001b[49m\n\u001b[1;32m    285\u001b[0m \u001b[38;5;28;01mreturn\u001b[39;00m result\n",
      "File \u001b[0;32m~/miniconda3/lib/python3.12/site-packages/spectate/base.py:341\u001b[0m, in \u001b[0;36mBoundControl.after.<locals>.afterback\u001b[0;34m(value, answer)\u001b[0m\n\u001b[1;32m    339\u001b[0m \u001b[38;5;129m@wraps\u001b[39m(after)\n\u001b[1;32m    340\u001b[0m \u001b[38;5;28;01mdef\u001b[39;00m \u001b[38;5;21mafterback\u001b[39m(value, answer):\n\u001b[0;32m--> 341\u001b[0m \u001b[43m    \u001b[49m\u001b[38;5;28;43;01mwith\u001b[39;49;00m\u001b[43m \u001b[49m\u001b[43mnotifier\u001b[49m\u001b[43m(\u001b[49m\u001b[43mvalue\u001b[49m\u001b[43m)\u001b[49m\u001b[43m \u001b[49m\u001b[38;5;28;43;01mas\u001b[39;49;00m\u001b[43m \u001b[49m\u001b[43mnotify\u001b[49m\u001b[43m:\u001b[49m\n\u001b[1;32m    342\u001b[0m \u001b[43m        \u001b[49m\u001b[38;5;28;43;01mreturn\u001b[39;49;00m\u001b[43m \u001b[49m\u001b[43mafter\u001b[49m\u001b[43m(\u001b[49m\u001b[43manswer\u001b[49m\u001b[43m,\u001b[49m\u001b[43m \u001b[49m\u001b[43mnotify\u001b[49m\u001b[43m)\u001b[49m\n",
      "File \u001b[0;32m~/miniconda3/lib/python3.12/contextlib.py:144\u001b[0m, in \u001b[0;36m_GeneratorContextManager.__exit__\u001b[0;34m(self, typ, value, traceback)\u001b[0m\n\u001b[1;32m    142\u001b[0m \u001b[38;5;28;01mif\u001b[39;00m typ \u001b[38;5;129;01mis\u001b[39;00m \u001b[38;5;28;01mNone\u001b[39;00m:\n\u001b[1;32m    143\u001b[0m     \u001b[38;5;28;01mtry\u001b[39;00m:\n\u001b[0;32m--> 144\u001b[0m         \u001b[38;5;28;43mnext\u001b[39;49m\u001b[43m(\u001b[49m\u001b[38;5;28;43mself\u001b[39;49m\u001b[38;5;241;43m.\u001b[39;49m\u001b[43mgen\u001b[49m\u001b[43m)\u001b[49m\n\u001b[1;32m    145\u001b[0m     \u001b[38;5;28;01mexcept\u001b[39;00m \u001b[38;5;167;01mStopIteration\u001b[39;00m:\n\u001b[1;32m    146\u001b[0m         \u001b[38;5;28;01mreturn\u001b[39;00m \u001b[38;5;28;01mFalse\u001b[39;00m\n",
      "File \u001b[0;32m~/miniconda3/lib/python3.12/site-packages/spectate/base.py:153\u001b[0m, in \u001b[0;36mnotifier\u001b[0;34m(model)\u001b[0m\n\u001b[1;32m    150\u001b[0m \u001b[38;5;28;01myield\u001b[39;00m notify\n\u001b[1;32m    152\u001b[0m \u001b[38;5;28;01mif\u001b[39;00m events:\n\u001b[0;32m--> 153\u001b[0m     \u001b[43mmodel\u001b[49m\u001b[38;5;241;43m.\u001b[39;49m\u001b[43m_notify_model_views\u001b[49m\u001b[43m(\u001b[49m\u001b[38;5;28;43mtuple\u001b[39;49m\u001b[43m(\u001b[49m\u001b[43mevents\u001b[49m\u001b[43m)\u001b[49m\u001b[43m)\u001b[49m\n",
      "File \u001b[0;32m~/miniconda3/lib/python3.12/site-packages/spectate/models.py:27\u001b[0m, in \u001b[0;36mStructure._notify_model_views\u001b[0;34m(self, events)\u001b[0m\n\u001b[1;32m     25\u001b[0m         \u001b[38;5;28;01mif\u001b[39;00m \u001b[38;5;28misinstance\u001b[39m(old, Model):\n\u001b[1;32m     26\u001b[0m             \u001b[38;5;28mself\u001b[39m\u001b[38;5;241m.\u001b[39m_remove_child_model(old)\n\u001b[0;32m---> 27\u001b[0m \u001b[38;5;28;43msuper\u001b[39;49m\u001b[43m(\u001b[49m\u001b[43m)\u001b[49m\u001b[38;5;241;43m.\u001b[39;49m\u001b[43m_notify_model_views\u001b[49m\u001b[43m(\u001b[49m\u001b[43mevents\u001b[49m\u001b[43m)\u001b[49m\n",
      "File \u001b[0;32m~/miniconda3/lib/python3.12/site-packages/spectate/base.py:429\u001b[0m, in \u001b[0;36mModel._notify_model_views\u001b[0;34m(self, events)\u001b[0m\n\u001b[1;32m    427\u001b[0m \u001b[38;5;28;01mdef\u001b[39;00m \u001b[38;5;21m_notify_model_views\u001b[39m(\u001b[38;5;28mself\u001b[39m, events: TupleOfEvents):\n\u001b[1;32m    428\u001b[0m     \u001b[38;5;28;01mfor\u001b[39;00m view \u001b[38;5;129;01min\u001b[39;00m \u001b[38;5;28mself\u001b[39m\u001b[38;5;241m.\u001b[39m_model_views:\n\u001b[0;32m--> 429\u001b[0m         \u001b[43mview\u001b[49m\u001b[43m(\u001b[49m\u001b[38;5;28;43mself\u001b[39;49m\u001b[43m,\u001b[49m\u001b[43m \u001b[49m\u001b[43mevents\u001b[49m\u001b[43m)\u001b[49m\n",
      "File \u001b[0;32m~/miniconda3/lib/python3.12/site-packages/ipycytoscape/cytoscape.py:163\u001b[0m, in \u001b[0;36mMutable.instance_init.<locals>.callback\u001b[0;34m(default, events)\u001b[0m\n\u001b[1;32m    156\u001b[0m \u001b[38;5;129m@mvc\u001b[39m\u001b[38;5;241m.\u001b[39mview(default)\n\u001b[1;32m    157\u001b[0m \u001b[38;5;28;01mdef\u001b[39;00m \u001b[38;5;21mcallback\u001b[39m(default, events):\n\u001b[1;32m    158\u001b[0m     change \u001b[38;5;241m=\u001b[39m \u001b[38;5;28mdict\u001b[39m(\n\u001b[1;32m    159\u001b[0m         new\u001b[38;5;241m=\u001b[39m\u001b[38;5;28mgetattr\u001b[39m(obj, \u001b[38;5;28mself\u001b[39m\u001b[38;5;241m.\u001b[39mname),\n\u001b[1;32m    160\u001b[0m         name\u001b[38;5;241m=\u001b[39m\u001b[38;5;28mself\u001b[39m\u001b[38;5;241m.\u001b[39mname,\n\u001b[1;32m    161\u001b[0m         \u001b[38;5;28mtype\u001b[39m\u001b[38;5;241m=\u001b[39m\u001b[38;5;28mself\u001b[39m\u001b[38;5;241m.\u001b[39m_event_type,\n\u001b[1;32m    162\u001b[0m     )\n\u001b[0;32m--> 163\u001b[0m     \u001b[43mobj\u001b[49m\u001b[38;5;241;43m.\u001b[39;49m\u001b[43mnotify_change\u001b[49m\u001b[43m(\u001b[49m\u001b[43mchange\u001b[49m\u001b[43m)\u001b[49m\n",
      "File \u001b[0;32m~/miniconda3/lib/python3.12/site-packages/ipywidgets/widgets/widget.py:700\u001b[0m, in \u001b[0;36mWidget.notify_change\u001b[0;34m(self, change)\u001b[0m\n\u001b[1;32m    696\u001b[0m \u001b[38;5;28;01mif\u001b[39;00m \u001b[38;5;28mself\u001b[39m\u001b[38;5;241m.\u001b[39mcomm \u001b[38;5;129;01mis\u001b[39;00m \u001b[38;5;129;01mnot\u001b[39;00m \u001b[38;5;28;01mNone\u001b[39;00m \u001b[38;5;129;01mand\u001b[39;00m \u001b[38;5;28mgetattr\u001b[39m(\u001b[38;5;28mself\u001b[39m\u001b[38;5;241m.\u001b[39mcomm, \u001b[38;5;124m'\u001b[39m\u001b[38;5;124mkernel\u001b[39m\u001b[38;5;124m'\u001b[39m, \u001b[38;5;28;01mTrue\u001b[39;00m) \u001b[38;5;129;01mis\u001b[39;00m \u001b[38;5;129;01mnot\u001b[39;00m \u001b[38;5;28;01mNone\u001b[39;00m:\n\u001b[1;32m    697\u001b[0m     \u001b[38;5;66;03m# Make sure this isn't information that the front-end just sent us.\u001b[39;00m\n\u001b[1;32m    698\u001b[0m     \u001b[38;5;28;01mif\u001b[39;00m name \u001b[38;5;129;01min\u001b[39;00m \u001b[38;5;28mself\u001b[39m\u001b[38;5;241m.\u001b[39mkeys \u001b[38;5;129;01mand\u001b[39;00m \u001b[38;5;28mself\u001b[39m\u001b[38;5;241m.\u001b[39m_should_send_property(name, \u001b[38;5;28mgetattr\u001b[39m(\u001b[38;5;28mself\u001b[39m, name)):\n\u001b[1;32m    699\u001b[0m         \u001b[38;5;66;03m# Send new state to front-end\u001b[39;00m\n\u001b[0;32m--> 700\u001b[0m         \u001b[38;5;28;43mself\u001b[39;49m\u001b[38;5;241;43m.\u001b[39;49m\u001b[43msend_state\u001b[49m\u001b[43m(\u001b[49m\u001b[43mkey\u001b[49m\u001b[38;5;241;43m=\u001b[39;49m\u001b[43mname\u001b[49m\u001b[43m)\u001b[49m\n\u001b[1;32m    701\u001b[0m \u001b[38;5;28msuper\u001b[39m()\u001b[38;5;241m.\u001b[39mnotify_change(change)\n",
      "File \u001b[0;32m~/miniconda3/lib/python3.12/site-packages/ipywidgets/widgets/widget.py:584\u001b[0m, in \u001b[0;36mWidget.send_state\u001b[0;34m(self, key)\u001b[0m\n\u001b[1;32m    582\u001b[0m         \u001b[38;5;28;01mif\u001b[39;00m name \u001b[38;5;129;01min\u001b[39;00m \u001b[38;5;28mself\u001b[39m\u001b[38;5;241m.\u001b[39m_property_lock:\n\u001b[1;32m    583\u001b[0m             \u001b[38;5;28mself\u001b[39m\u001b[38;5;241m.\u001b[39m_property_lock[name] \u001b[38;5;241m=\u001b[39m value\n\u001b[0;32m--> 584\u001b[0m state, buffer_paths, buffers \u001b[38;5;241m=\u001b[39m \u001b[43m_remove_buffers\u001b[49m\u001b[43m(\u001b[49m\u001b[43mstate\u001b[49m\u001b[43m)\u001b[49m\n\u001b[1;32m    585\u001b[0m msg \u001b[38;5;241m=\u001b[39m {\u001b[38;5;124m'\u001b[39m\u001b[38;5;124mmethod\u001b[39m\u001b[38;5;124m'\u001b[39m: \u001b[38;5;124m'\u001b[39m\u001b[38;5;124mupdate\u001b[39m\u001b[38;5;124m'\u001b[39m, \u001b[38;5;124m'\u001b[39m\u001b[38;5;124mstate\u001b[39m\u001b[38;5;124m'\u001b[39m: state, \u001b[38;5;124m'\u001b[39m\u001b[38;5;124mbuffer_paths\u001b[39m\u001b[38;5;124m'\u001b[39m: buffer_paths}\n\u001b[1;32m    586\u001b[0m \u001b[38;5;28mself\u001b[39m\u001b[38;5;241m.\u001b[39m_send(msg, buffers\u001b[38;5;241m=\u001b[39mbuffers)\n",
      "File \u001b[0;32m~/miniconda3/lib/python3.12/site-packages/ipywidgets/widgets/widget.py:144\u001b[0m, in \u001b[0;36m_remove_buffers\u001b[0;34m(state)\u001b[0m\n\u001b[1;32m    133\u001b[0m \u001b[38;5;250m\u001b[39m\u001b[38;5;124;03m\"\"\"Return (state_without_buffers, buffer_paths, buffers) for binary message parts\u001b[39;00m\n\u001b[1;32m    134\u001b[0m \n\u001b[1;32m    135\u001b[0m \u001b[38;5;124;03mA binary message part is a memoryview, bytearray, or python 3 bytes object.\u001b[39;00m\n\u001b[0;32m   (...)\u001b[0m\n\u001b[1;32m    141\u001b[0m \u001b[38;5;124;03m [<memory at 0x107ffec48>, <memory at 0x107ffed08>])\u001b[39;00m\n\u001b[1;32m    142\u001b[0m \u001b[38;5;124;03m\"\"\"\u001b[39;00m\n\u001b[1;32m    143\u001b[0m buffer_paths, buffers \u001b[38;5;241m=\u001b[39m [], []\n\u001b[0;32m--> 144\u001b[0m state \u001b[38;5;241m=\u001b[39m \u001b[43m_separate_buffers\u001b[49m\u001b[43m(\u001b[49m\u001b[43mstate\u001b[49m\u001b[43m,\u001b[49m\u001b[43m \u001b[49m\u001b[43m[\u001b[49m\u001b[43m]\u001b[49m\u001b[43m,\u001b[49m\u001b[43m \u001b[49m\u001b[43mbuffer_paths\u001b[49m\u001b[43m,\u001b[49m\u001b[43m \u001b[49m\u001b[43mbuffers\u001b[49m\u001b[43m)\u001b[49m\n\u001b[1;32m    145\u001b[0m \u001b[38;5;28;01mreturn\u001b[39;00m state, buffer_paths, buffers\n",
      "File \u001b[0;32m~/miniconda3/lib/python3.12/site-packages/ipywidgets/widgets/widget.py:122\u001b[0m, in \u001b[0;36m_separate_buffers\u001b[0;34m(substate, path, buffer_paths, buffers)\u001b[0m\n\u001b[1;32m    120\u001b[0m     buffer_paths\u001b[38;5;241m.\u001b[39mappend(path \u001b[38;5;241m+\u001b[39m [k])\n\u001b[1;32m    121\u001b[0m \u001b[38;5;28;01melif\u001b[39;00m \u001b[38;5;28misinstance\u001b[39m(v, (\u001b[38;5;28mdict\u001b[39m, \u001b[38;5;28mlist\u001b[39m, \u001b[38;5;28mtuple\u001b[39m)):\n\u001b[0;32m--> 122\u001b[0m     vnew \u001b[38;5;241m=\u001b[39m \u001b[43m_separate_buffers\u001b[49m\u001b[43m(\u001b[49m\u001b[43mv\u001b[49m\u001b[43m,\u001b[49m\u001b[43m \u001b[49m\u001b[43mpath\u001b[49m\u001b[43m \u001b[49m\u001b[38;5;241;43m+\u001b[39;49m\u001b[43m \u001b[49m\u001b[43m[\u001b[49m\u001b[43mk\u001b[49m\u001b[43m]\u001b[49m\u001b[43m,\u001b[49m\u001b[43m \u001b[49m\u001b[43mbuffer_paths\u001b[49m\u001b[43m,\u001b[49m\u001b[43m \u001b[49m\u001b[43mbuffers\u001b[49m\u001b[43m)\u001b[49m\n\u001b[1;32m    123\u001b[0m     \u001b[38;5;28;01mif\u001b[39;00m v \u001b[38;5;129;01mis\u001b[39;00m \u001b[38;5;129;01mnot\u001b[39;00m vnew: \u001b[38;5;66;03m# only assign when value changed\u001b[39;00m\n\u001b[1;32m    124\u001b[0m         \u001b[38;5;28;01mif\u001b[39;00m \u001b[38;5;129;01mnot\u001b[39;00m is_cloned:\n",
      "File \u001b[0;32m~/miniconda3/lib/python3.12/site-packages/ipywidgets/widgets/widget.py:122\u001b[0m, in \u001b[0;36m_separate_buffers\u001b[0;34m(substate, path, buffer_paths, buffers)\u001b[0m\n\u001b[1;32m    120\u001b[0m     buffer_paths\u001b[38;5;241m.\u001b[39mappend(path \u001b[38;5;241m+\u001b[39m [k])\n\u001b[1;32m    121\u001b[0m \u001b[38;5;28;01melif\u001b[39;00m \u001b[38;5;28misinstance\u001b[39m(v, (\u001b[38;5;28mdict\u001b[39m, \u001b[38;5;28mlist\u001b[39m, \u001b[38;5;28mtuple\u001b[39m)):\n\u001b[0;32m--> 122\u001b[0m     vnew \u001b[38;5;241m=\u001b[39m \u001b[43m_separate_buffers\u001b[49m\u001b[43m(\u001b[49m\u001b[43mv\u001b[49m\u001b[43m,\u001b[49m\u001b[43m \u001b[49m\u001b[43mpath\u001b[49m\u001b[43m \u001b[49m\u001b[38;5;241;43m+\u001b[39;49m\u001b[43m \u001b[49m\u001b[43m[\u001b[49m\u001b[43mk\u001b[49m\u001b[43m]\u001b[49m\u001b[43m,\u001b[49m\u001b[43m \u001b[49m\u001b[43mbuffer_paths\u001b[49m\u001b[43m,\u001b[49m\u001b[43m \u001b[49m\u001b[43mbuffers\u001b[49m\u001b[43m)\u001b[49m\n\u001b[1;32m    123\u001b[0m     \u001b[38;5;28;01mif\u001b[39;00m v \u001b[38;5;129;01mis\u001b[39;00m \u001b[38;5;129;01mnot\u001b[39;00m vnew: \u001b[38;5;66;03m# only assign when value changed\u001b[39;00m\n\u001b[1;32m    124\u001b[0m         \u001b[38;5;28;01mif\u001b[39;00m \u001b[38;5;129;01mnot\u001b[39;00m is_cloned:\n",
      "    \u001b[0;31m[... skipping similar frames: _separate_buffers at line 122 (2961 times)]\u001b[0m\n",
      "File \u001b[0;32m~/miniconda3/lib/python3.12/site-packages/ipywidgets/widgets/widget.py:122\u001b[0m, in \u001b[0;36m_separate_buffers\u001b[0;34m(substate, path, buffer_paths, buffers)\u001b[0m\n\u001b[1;32m    120\u001b[0m     buffer_paths\u001b[38;5;241m.\u001b[39mappend(path \u001b[38;5;241m+\u001b[39m [k])\n\u001b[1;32m    121\u001b[0m \u001b[38;5;28;01melif\u001b[39;00m \u001b[38;5;28misinstance\u001b[39m(v, (\u001b[38;5;28mdict\u001b[39m, \u001b[38;5;28mlist\u001b[39m, \u001b[38;5;28mtuple\u001b[39m)):\n\u001b[0;32m--> 122\u001b[0m     vnew \u001b[38;5;241m=\u001b[39m \u001b[43m_separate_buffers\u001b[49m\u001b[43m(\u001b[49m\u001b[43mv\u001b[49m\u001b[43m,\u001b[49m\u001b[43m \u001b[49m\u001b[43mpath\u001b[49m\u001b[43m \u001b[49m\u001b[38;5;241;43m+\u001b[39;49m\u001b[43m \u001b[49m\u001b[43m[\u001b[49m\u001b[43mk\u001b[49m\u001b[43m]\u001b[49m\u001b[43m,\u001b[49m\u001b[43m \u001b[49m\u001b[43mbuffer_paths\u001b[49m\u001b[43m,\u001b[49m\u001b[43m \u001b[49m\u001b[43mbuffers\u001b[49m\u001b[43m)\u001b[49m\n\u001b[1;32m    123\u001b[0m     \u001b[38;5;28;01mif\u001b[39;00m v \u001b[38;5;129;01mis\u001b[39;00m \u001b[38;5;129;01mnot\u001b[39;00m vnew: \u001b[38;5;66;03m# only assign when value changed\u001b[39;00m\n\u001b[1;32m    124\u001b[0m         \u001b[38;5;28;01mif\u001b[39;00m \u001b[38;5;129;01mnot\u001b[39;00m is_cloned:\n",
      "\u001b[0;31mRecursionError\u001b[0m: maximum recursion depth exceeded"
     ]
    }
   ],
   "source": [
    "state_machines_overall_list = []\n",
    "\n",
    "for index, ts_class in enumerate(transition_sets_per_class):\n",
    "    fsms_per_class = []\n",
    "    printmd(\"### \"+ class_names[index])\n",
    "    num_fsms = len(ts_class)\n",
    "    print(\"Number of FSMS:\" + str(num_fsms))\n",
    "    \n",
    "    for fsm_no, ts in enumerate(ts_class):\n",
    "        fsm_graph = nx.DiGraph()\n",
    "        \n",
    "        printmd(\"#### FSM \" + str(fsm_no))\n",
    "        for t in ts:\n",
    "            source = \"s(\" + str(t) + \")\"\n",
    "            target = \"e(\" + str(t) + \")\"\n",
    "            fsm_graph.add_edge(source,target,weight=t)\n",
    "        \n",
    "       \n",
    "        t_df = adjacency_matrix_list[index].loc[list(ts), list(ts)] #transition df for this fsm\n",
    "        print_table(t_df)\n",
    "        \n",
    "        \n",
    "        # merge end(t1) = start(t2) from transition df\n",
    "        \n",
    "        edge_t_list = [] # edge transition list\n",
    "        for i in range(t_df.shape[0]):\n",
    "            for j in range(t_df.shape[1]):\n",
    "                \n",
    "                if t_df.iloc[i, j] != 'hole':\n",
    "                    if t_df.iloc[i, j] > 0:\n",
    "                        for node in fsm_graph.nodes():\n",
    "                            if \"e(\"+t_df.index[i]+\")\" in node:\n",
    "                                merge_node1 = node\n",
    "                            if \"s(\"+t_df.index[j]+\")\" in node:\n",
    "                                merge_node2 = node\n",
    "                        \n",
    "                        \n",
    "                        \n",
    "\n",
    "                        fsm_graph = nx.contracted_nodes(fsm_graph, merge_node1, merge_node2 , self_loops=True)\n",
    "\n",
    "                        if merge_node1 != merge_node2:\n",
    "                            mapping = {merge_node1: merge_node1 + \"|\" + merge_node2} \n",
    "                            fsm_graph = nx.relabel_nodes(fsm_graph, mapping)\n",
    "\n",
    "        # we need to complete the list of transitions \n",
    "        # that can happen on self-loop nodes \n",
    "        # as these have been overwritten (as graph is not MultiDiGraph)\n",
    "        \n",
    "        sl_state_list = list(nx.nodes_with_selfloops(fsm_graph)) # self looping states.\n",
    "        # if state is self-looping\n",
    "        t_list = []\n",
    "        if len(sl_state_list)>0: \n",
    "            # if s(T1) and e(T1) are there for same node, this T1 can self-loop occur.\n",
    "            for s in sl_state_list:\n",
    "                for sub_s in s.split('|'):\n",
    "                    if sub_s[0] == 'e':\n",
    "                        if ('s' + sub_s[1:]) in s.split('|'):\n",
    "                            t_list.append(sub_s[2:-1])\n",
    "                fsm_graph[s][s]['weight'] = '|'.join(t_list)\n",
    "        \n",
    "        \n",
    "\n",
    "               \n",
    "        plot_cytographs_fsm(fsm_graph,domain_name)\n",
    "        df = nx.to_pandas_adjacency(fsm_graph, nodelist=fsm_graph.nodes(), weight = 1)\n",
    "        print_table(df)\n",
    "        fsms_per_class.append(fsm_graph)\n",
    "    state_machines_overall_list.append(fsms_per_class)"
   ]
  },
  {
   "cell_type": "markdown",
   "metadata": {},
   "source": [
    "## USER INPUT 3: Rename States. \n",
    "\n",
    "\n",
    "As states are shown in terms of end and start of transitions, user can rename them for easy readability later on.\n",
    "\n",
    "If states are renamed, certain hardcoded aspects of code won't work. It is advisable to create a  separate state dictionary and use it after step 9: (formation of PDDL model) to replace states in PDDL code.\n",
    "\n",
    "\n",
    "This also makes it easier to specify problem statements."
   ]
  },
  {
   "cell_type": "markdown",
   "metadata": {},
   "source": [
    "### Automatic creation: rename states as integers 0, 1, 2 .. etc. for each fsm."
   ]
  },
  {
   "cell_type": "code",
   "execution_count": 139,
   "metadata": {},
   "outputs": [
    {
     "data": {
      "text/markdown": [
       "### Driver"
      ],
      "text/plain": [
       "<IPython.core.display.Markdown object>"
      ]
     },
     "metadata": {},
     "output_type": "display_data"
    },
    {
     "name": "stdout",
     "output_type": "stream",
     "text": [
      "Number of FSMS:1\n",
      "test DiGraph with 2 nodes and 3 edges\n"
     ]
    },
    {
     "name": "stderr",
     "output_type": "stream",
     "text": [
      "/home/uto/miniconda3/lib/python3.12/site-packages/jupyter_client/session.py:721: UserWarning: Message serialization failed with:\n",
      "keys must be str, int, float, bool or None, not tuple\n",
      "Supporting this message is deprecated in jupyter-client 7, please make sure your message is JSON-compliant\n",
      "  content = self.pack(content)\n"
     ]
    },
    {
     "data": {
      "application/vnd.jupyter.widget-view+json": {
       "model_id": "8203ad139a6f464d8190f5a389985bd2",
       "version_major": 2,
       "version_minor": 0
      },
      "text/plain": [
       "CytoscapeWidget(cytoscape_layout={'name': 'cola'}, cytoscape_style=[{'width': 400, 'height': 500, 'selector': …"
      ]
     },
     "metadata": {},
     "output_type": "display_data"
    },
    {
     "name": "stdout",
     "output_type": "stream",
     "text": [
      "test DiGraph with 2 nodes and 3 edges\n"
     ]
    },
    {
     "data": {
      "application/vnd.jupyter.widget-view+json": {
       "model_id": "cf04279782c34ce4847c9044634aab79",
       "version_major": 2,
       "version_minor": 0
      },
      "text/plain": [
       "CytoscapeWidget(cytoscape_layout={'name': 'cola'}, cytoscape_style=[{'width': 400, 'height': 500, 'selector': …"
      ]
     },
     "metadata": {},
     "output_type": "display_data"
    },
    {
     "data": {
      "text/markdown": [
       "Fsm 0"
      ],
      "text/plain": [
       "<IPython.core.display.Markdown object>"
      ]
     },
     "metadata": {},
     "output_type": "display_data"
    }
   ],
   "source": [
    "# An Automatic state dictionary is added here where states are \n",
    "# renamed as 0, 1, 2 etc. for a specific FSM\n",
    "\n",
    "state_mappings_class = []\n",
    "state_machines_overall_list_2 = []\n",
    "for index, fsm_graphs in enumerate(state_machines_overall_list):\n",
    "    state_mappings_fsm = []\n",
    "    fsms_per_class_2 = []\n",
    "    printmd(\"### \"+ class_names[index])\n",
    "    num_fsms = len(fsm_graphs)\n",
    "    print(\"Number of FSMS:\" + str(num_fsms))\n",
    "    \n",
    "    for fsm_no, G in enumerate(fsm_graphs):\n",
    "        \n",
    "        state_mapping = {k: v for v, k in enumerate(G.nodes())}\n",
    "        G_copy = nx.relabel_nodes(G, state_mapping)\n",
    "        \n",
    "        plot_cytographs_fsm(G, domain_name)\n",
    "        plot_cytographs_fsm(G_copy, domain_name)\n",
    "        printmd(\"Fsm \"+ str(fsm_no))\n",
    "        fsms_per_class_2.append(G_copy)\n",
    "        state_mappings_fsm.append(state_mapping)\n",
    "        \n",
    "    state_machines_overall_list_2.append(fsms_per_class_2)\n",
    "    state_mappings_class.append(state_mappings_fsm)\n",
    "    \n"
   ]
  },
  {
   "cell_type": "markdown",
   "metadata": {},
   "source": [
    "### Looking at the graph, User can specify states here"
   ]
  },
  {
   "cell_type": "code",
   "execution_count": 140,
   "metadata": {},
   "outputs": [],
   "source": [
    "# User can specify states here.\n",
    "# assign your states in state dictionary called state_mapping\n",
    "# e.g. state_mapping['e(removewheek.2)|s(putonwheel.2)'] = 'jack_free_to_use'"
   ]
  },
  {
   "cell_type": "markdown",
   "metadata": {},
   "source": [
    "## Step 5: Induction of parameterized state machines\n",
    "Create and test hypothesis for state parameters"
   ]
  },
  {
   "cell_type": "markdown",
   "metadata": {},
   "source": [
    "### Form Hyp for HS (Hypothesis set)"
   ]
  },
  {
   "cell_type": "code",
   "execution_count": 141,
   "metadata": {
    "scrolled": false
   },
   "outputs": [
    {
     "data": {
      "text/markdown": [
       "### Driver"
      ],
      "text/plain": [
       "<IPython.core.display.Markdown object>"
      ]
     },
     "metadata": {},
     "output_type": "display_data"
    },
    {
     "data": {
      "text/markdown": [
       "#### FSM: 0 Hypothesis Set"
      ],
      "text/plain": [
       "<IPython.core.display.Markdown object>"
      ]
     },
     "metadata": {},
     "output_type": "display_data"
    },
    {
     "name": "stdout",
     "output_type": "stream",
     "text": [
      "15 hypothesis created\n"
     ]
    },
    {
     "data": {
      "text/markdown": [
       "### Truck"
      ],
      "text/plain": [
       "<IPython.core.display.Markdown object>"
      ]
     },
     "metadata": {},
     "output_type": "display_data"
    },
    {
     "data": {
      "text/markdown": [
       "#### FSM: 0 Hypothesis Set"
      ],
      "text/plain": [
       "<IPython.core.display.Markdown object>"
      ]
     },
     "metadata": {},
     "output_type": "display_data"
    },
    {
     "name": "stdout",
     "output_type": "stream",
     "text": [
      "1 hypothesis created\n"
     ]
    },
    {
     "data": {
      "text/markdown": [
       "#### FSM: 1 Hypothesis Set"
      ],
      "text/plain": [
       "<IPython.core.display.Markdown object>"
      ]
     },
     "metadata": {},
     "output_type": "display_data"
    },
    {
     "name": "stdout",
     "output_type": "stream",
     "text": [
      "1 hypothesis created\n"
     ]
    },
    {
     "data": {
      "text/markdown": [
       "#### FSM: 2 Hypothesis Set"
      ],
      "text/plain": [
       "<IPython.core.display.Markdown object>"
      ]
     },
     "metadata": {},
     "output_type": "display_data"
    },
    {
     "name": "stdout",
     "output_type": "stream",
     "text": [
      "5 hypothesis created\n"
     ]
    },
    {
     "data": {
      "text/markdown": [
       "#### FSM: 3 Hypothesis Set"
      ],
      "text/plain": [
       "<IPython.core.display.Markdown object>"
      ]
     },
     "metadata": {},
     "output_type": "display_data"
    },
    {
     "name": "stdout",
     "output_type": "stream",
     "text": [
      "25 hypothesis created\n"
     ]
    },
    {
     "data": {
      "text/markdown": [
       "### Package"
      ],
      "text/plain": [
       "<IPython.core.display.Markdown object>"
      ]
     },
     "metadata": {},
     "output_type": "display_data"
    },
    {
     "data": {
      "text/markdown": [
       "#### FSM: 0 Hypothesis Set"
      ],
      "text/plain": [
       "<IPython.core.display.Markdown object>"
      ]
     },
     "metadata": {},
     "output_type": "display_data"
    },
    {
     "name": "stdout",
     "output_type": "stream",
     "text": [
      "2 hypothesis created\n"
     ]
    },
    {
     "data": {
      "text/markdown": [
       "### Location"
      ],
      "text/plain": [
       "<IPython.core.display.Markdown object>"
      ]
     },
     "metadata": {},
     "output_type": "display_data"
    },
    {
     "data": {
      "text/markdown": [
       "#### FSM: 0 Hypothesis Set"
      ],
      "text/plain": [
       "<IPython.core.display.Markdown object>"
      ]
     },
     "metadata": {},
     "output_type": "display_data"
    },
    {
     "name": "stdout",
     "output_type": "stream",
     "text": [
      "1 hypothesis created\n"
     ]
    },
    {
     "data": {
      "text/markdown": [
       "#### FSM: 1 Hypothesis Set"
      ],
      "text/plain": [
       "<IPython.core.display.Markdown object>"
      ]
     },
     "metadata": {},
     "output_type": "display_data"
    },
    {
     "name": "stdout",
     "output_type": "stream",
     "text": [
      "5 hypothesis created\n"
     ]
    },
    {
     "data": {
      "text/markdown": [
       "#### FSM: 2 Hypothesis Set"
      ],
      "text/plain": [
       "<IPython.core.display.Markdown object>"
      ]
     },
     "metadata": {},
     "output_type": "display_data"
    },
    {
     "name": "stdout",
     "output_type": "stream",
     "text": [
      "2 hypothesis created\n"
     ]
    },
    {
     "data": {
      "text/markdown": [
       "#### FSM: 3 Hypothesis Set"
      ],
      "text/plain": [
       "<IPython.core.display.Markdown object>"
      ]
     },
     "metadata": {},
     "output_type": "display_data"
    },
    {
     "name": "stdout",
     "output_type": "stream",
     "text": [
      "5 hypothesis created\n"
     ]
    },
    {
     "data": {
      "text/markdown": [
       "#### FSM: 4 Hypothesis Set"
      ],
      "text/plain": [
       "<IPython.core.display.Markdown object>"
      ]
     },
     "metadata": {},
     "output_type": "display_data"
    },
    {
     "name": "stdout",
     "output_type": "stream",
     "text": [
      "24 hypothesis created\n"
     ]
    }
   ],
   "source": [
    "HS_list = []\n",
    "ct_list = []\n",
    "\n",
    "# for transition set of each class\n",
    "for index, ts_class in enumerate(transition_sets_per_class):\n",
    "    printmd(\"### \"+ class_names[index])\n",
    "    \n",
    "    ct_per_class = []\n",
    "    HS_per_class = []\n",
    "    \n",
    "    # for transition set of each fsm in a class\n",
    "    for fsm_no, ts in enumerate(ts_class):\n",
    "        printmd(\"#### FSM: \" + str(fsm_no) + \" Hypothesis Set\")\n",
    "        \n",
    "        # transition matrix for the ts\n",
    "        t_df = adjacency_matrix_list[index].loc[list(ts), list(ts)]\n",
    "        ct_in_fsm = set()  # find consecutive transition set for a state machine in a class.\n",
    "        for i in range(t_df.shape[0]):\n",
    "            for j in range(t_df.shape[1]):\n",
    "                if t_df.iloc[i, j] != 'hole':\n",
    "                    if t_df.iloc[i, j] > 0:\n",
    "                        ct_in_fsm.add((t_df.index[i], t_df.columns[j]))\n",
    "        \n",
    "        ct_per_class.append(ct_in_fsm)\n",
    "        \n",
    "        # add to hypothesis set\n",
    "        HS = set()\n",
    "        \n",
    "        # for each pair B.k and C.l in TS s.t. e(B.k) = S = s(C.l)\n",
    "        for ct in ct_in_fsm:\n",
    "            B = ct[0].split('.')[0] # action name of T1\n",
    "            k = int(ct[0].split('.')[1]) # argument index of T1\n",
    "            \n",
    "            C = ct[1].split('.')[0] # action name of T2\n",
    "            l = int(ct[1].split('.')[1]) # argument index of T2\n",
    "            \n",
    "            \n",
    "            \n",
    "            \n",
    "            # When both actions B and C contain another argument of the same sort G' in position k' and l' respectively, \n",
    "            # we hypothesise that there may be a relation between sorts G and G'.\n",
    "            for seq in sequences:\n",
    "                for actarg_tuple in seq:\n",
    "                    arglist1 = []\n",
    "                    arglist2 = []\n",
    "                    if actarg_tuple[0] == B: #if action name is same as B\n",
    "                        arglist1 = actarg_tuple[1].copy()\n",
    "#                         arglist1.remove(actarg_tuple[1][k]) # remove k from arglist\n",
    "                        for actarg_tuple_prime in seq: #loop through seq again.\n",
    "                            if actarg_tuple_prime[0] == C:\n",
    "                                arglist2 = actarg_tuple_prime[1].copy()\n",
    "#                                 arglist2.remove(actarg_tuple_prime[1][l]) # remove l from arglist\n",
    "                                \n",
    "\n",
    "                        # for arg lists of actions B and C, if class is same add a hypothesis set.\n",
    "                        for i in range(len(arglist1)): # if len is 0, we don't go in\n",
    "                            for j in range(len(arglist2)):\n",
    "                                class1 = get_class_index(arglist1[i], classes)\n",
    "                                class2 = get_class_index(arglist2[j], classes)\n",
    "                                if class1 == class2: # if object at same position have same classes\n",
    "                                    # add hypothesis to hypothesis set.\n",
    "                                    if (k!=i) and (l!=j):\n",
    "                                        HS.add((frozenset({\"e(\"+B+\".\"+ str(k)+\")\", \"s(\"+C+\".\"+str(l)+\")\"}),B,k,i,C,l,j,class_names[index],class_names[class1]))\n",
    "        print(str(len(HS))+ \" hypothesis created\")\n",
    "#         for h in HS:\n",
    "#             print(h)\n",
    "        \n",
    "        HS_per_class.append(HS)\n",
    "    HS_list.append(HS_per_class)\n",
    "    ct_list.append(ct_per_class)"
   ]
  },
  {
   "cell_type": "markdown",
   "metadata": {},
   "source": [
    "### Test hyp against E"
   ]
  },
  {
   "cell_type": "code",
   "execution_count": 142,
   "metadata": {
    "scrolled": false
   },
   "outputs": [
    {
     "data": {
      "text/markdown": [
       "### Driver"
      ],
      "text/plain": [
       "<IPython.core.display.Markdown object>"
      ]
     },
     "metadata": {},
     "output_type": "display_data"
    },
    {
     "data": {
      "text/markdown": [
       "#### FSM: 0 Hypothesis Set"
      ],
      "text/plain": [
       "<IPython.core.display.Markdown object>"
      ]
     },
     "metadata": {},
     "output_type": "display_data"
    },
    {
     "name": "stdout",
     "output_type": "stream",
     "text": [
      "10 hypothesis retained\n"
     ]
    },
    {
     "data": {
      "text/markdown": [
       "### Truck"
      ],
      "text/plain": [
       "<IPython.core.display.Markdown object>"
      ]
     },
     "metadata": {},
     "output_type": "display_data"
    },
    {
     "data": {
      "text/markdown": [
       "#### FSM: 0 Hypothesis Set"
      ],
      "text/plain": [
       "<IPython.core.display.Markdown object>"
      ]
     },
     "metadata": {},
     "output_type": "display_data"
    },
    {
     "name": "stdout",
     "output_type": "stream",
     "text": [
      "1 hypothesis retained\n"
     ]
    },
    {
     "data": {
      "text/markdown": [
       "#### FSM: 1 Hypothesis Set"
      ],
      "text/plain": [
       "<IPython.core.display.Markdown object>"
      ]
     },
     "metadata": {},
     "output_type": "display_data"
    },
    {
     "name": "stdout",
     "output_type": "stream",
     "text": [
      "1 hypothesis retained\n"
     ]
    },
    {
     "data": {
      "text/markdown": [
       "#### FSM: 2 Hypothesis Set"
      ],
      "text/plain": [
       "<IPython.core.display.Markdown object>"
      ]
     },
     "metadata": {},
     "output_type": "display_data"
    },
    {
     "name": "stdout",
     "output_type": "stream",
     "text": [
      "5 hypothesis retained\n"
     ]
    },
    {
     "data": {
      "text/markdown": [
       "#### FSM: 3 Hypothesis Set"
      ],
      "text/plain": [
       "<IPython.core.display.Markdown object>"
      ]
     },
     "metadata": {},
     "output_type": "display_data"
    },
    {
     "name": "stdout",
     "output_type": "stream",
     "text": [
      "16 hypothesis retained\n"
     ]
    },
    {
     "data": {
      "text/markdown": [
       "### Package"
      ],
      "text/plain": [
       "<IPython.core.display.Markdown object>"
      ]
     },
     "metadata": {},
     "output_type": "display_data"
    },
    {
     "data": {
      "text/markdown": [
       "#### FSM: 0 Hypothesis Set"
      ],
      "text/plain": [
       "<IPython.core.display.Markdown object>"
      ]
     },
     "metadata": {},
     "output_type": "display_data"
    },
    {
     "name": "stdout",
     "output_type": "stream",
     "text": [
      "1 hypothesis retained\n"
     ]
    },
    {
     "data": {
      "text/markdown": [
       "### Location"
      ],
      "text/plain": [
       "<IPython.core.display.Markdown object>"
      ]
     },
     "metadata": {},
     "output_type": "display_data"
    },
    {
     "data": {
      "text/markdown": [
       "#### FSM: 0 Hypothesis Set"
      ],
      "text/plain": [
       "<IPython.core.display.Markdown object>"
      ]
     },
     "metadata": {},
     "output_type": "display_data"
    },
    {
     "name": "stdout",
     "output_type": "stream",
     "text": [
      "1 hypothesis retained\n"
     ]
    },
    {
     "data": {
      "text/markdown": [
       "#### FSM: 1 Hypothesis Set"
      ],
      "text/plain": [
       "<IPython.core.display.Markdown object>"
      ]
     },
     "metadata": {},
     "output_type": "display_data"
    },
    {
     "name": "stdout",
     "output_type": "stream",
     "text": [
      "3 hypothesis retained\n"
     ]
    },
    {
     "data": {
      "text/markdown": [
       "#### FSM: 2 Hypothesis Set"
      ],
      "text/plain": [
       "<IPython.core.display.Markdown object>"
      ]
     },
     "metadata": {},
     "output_type": "display_data"
    },
    {
     "name": "stdout",
     "output_type": "stream",
     "text": [
      "2 hypothesis retained\n"
     ]
    },
    {
     "data": {
      "text/markdown": [
       "#### FSM: 3 Hypothesis Set"
      ],
      "text/plain": [
       "<IPython.core.display.Markdown object>"
      ]
     },
     "metadata": {},
     "output_type": "display_data"
    },
    {
     "name": "stdout",
     "output_type": "stream",
     "text": [
      "5 hypothesis retained\n"
     ]
    },
    {
     "data": {
      "text/markdown": [
       "#### FSM: 4 Hypothesis Set"
      ],
      "text/plain": [
       "<IPython.core.display.Markdown object>"
      ]
     },
     "metadata": {},
     "output_type": "display_data"
    },
    {
     "name": "stdout",
     "output_type": "stream",
     "text": [
      "18 hypothesis retained\n"
     ]
    }
   ],
   "source": [
    "HS_list_retained = []\n",
    "for index, HS_class in enumerate(HS_list):\n",
    "    printmd(\"### \"+ class_names[index])\n",
    "    HS_per_class_retained = []\n",
    "\n",
    "\n",
    "    for fsm_no, HS in enumerate(HS_class):\n",
    "        printmd(\"#### FSM: \" + str(fsm_no) + \" Hypothesis Set\")\n",
    "\n",
    "        count=0\n",
    "        HS_copy = HS.copy()\n",
    "        HS_copy2 = HS.copy()\n",
    "\n",
    "        \n",
    "        # for each object O occuring in Ou\n",
    "        for O in arguments:\n",
    "            #   for each pair of transitions Ap.m and Aq.n consecutive for O in seq\n",
    "            ct = []\n",
    "            for seq in sequences:\n",
    "                for actarg_tuple in seq:\n",
    "                    act = actarg_tuple[0]\n",
    "                    for j, arg in enumerate(actarg_tuple[1]):\n",
    "                        if arg == O:\n",
    "                            ct.append((act + '.' + str(j), actarg_tuple[1]))\n",
    "\n",
    "\n",
    "            for i in range(len(ct)-1):\n",
    "                A_p = ct[i][0].split('.')[0]\n",
    "                m = int(ct[i][0].split('.')[1])\n",
    "                A_q = ct[i+1][0].split('.')[0]\n",
    "                n = int(ct[i+1][0].split('.')[1]) \n",
    "\n",
    "                # for each hypothesis H s.t. A_p = B, m = k, A_q = C, n = l\n",
    "\n",
    "                for H in HS_copy2:\n",
    "                    if A_p == H[1] and m == H[2] and A_q == H[4] and n == H[5]:\n",
    "                        k_prime = H[3]\n",
    "                        l_prime = H[6]\n",
    "\n",
    "                        # if O_p,k_prime = Q_q,l_prime\n",
    "                        if ct[i][1][k_prime] != ct[i+1][1][l_prime]:\n",
    "                            if H in HS_copy:\n",
    "                                HS_copy.remove(H)\n",
    "                                count += 1\n",
    "\n",
    "        print(str(len(HS_copy))+ \" hypothesis retained\")\n",
    "        # state machine\n",
    "#         if len(HS_copy)>0:\n",
    "#             plot_cytographs_fsm(state_machines_overall_list[index][fsm_no],domain_name)\n",
    "#         for H in HS_copy:\n",
    "#             print(H)\n",
    "        HS_per_class_retained.append(HS_copy)\n",
    "    HS_list_retained.append(HS_per_class_retained)\n",
    "            "
   ]
  },
  {
   "cell_type": "markdown",
   "metadata": {},
   "source": [
    "## Step 6: Creation and merging of state parameters"
   ]
  },
  {
   "cell_type": "code",
   "execution_count": 144,
   "metadata": {
    "lines_to_end_of_cell_marker": 2,
    "scrolled": false
   },
   "outputs": [
    {
     "name": "stdout",
     "output_type": "stream",
     "text": [
      "Step 6: creating and merging state params\n",
      "[['v0', 'v2', 'v8', 'v9'], ['v3', 'v5', 'v6', 'v7']]\n",
      "Driver\n"
     ]
    },
    {
     "data": {
      "text/markdown": [
       "No. of params earlier:10"
      ],
      "text/plain": [
       "<IPython.core.display.Markdown object>"
      ]
     },
     "metadata": {},
     "output_type": "display_data"
    },
    {
     "data": {
      "text/markdown": [
       "No. of params after merging:4"
      ],
      "text/plain": [
       "<IPython.core.display.Markdown object>"
      ]
     },
     "metadata": {},
     "output_type": "display_data"
    },
    {
     "ename": "IndexError",
     "evalue": "list index out of range",
     "output_type": "error",
     "traceback": [
      "\u001b[0;31m---------------------------------------------------------------------------\u001b[0m",
      "\u001b[0;31mIndexError\u001b[0m                                Traceback (most recent call last)",
      "Cell \u001b[0;32mIn[144], line 19\u001b[0m\n\u001b[1;32m     16\u001b[0m param_binding_list \u001b[38;5;241m=\u001b[39m []\n\u001b[1;32m     18\u001b[0m \u001b[38;5;66;03m# fsm in consideration\u001b[39;00m\n\u001b[0;32m---> 19\u001b[0m G \u001b[38;5;241m=\u001b[39m \u001b[43mstate_machines_overall_list\u001b[49m\u001b[43m[\u001b[49m\u001b[43mclassindex\u001b[49m\u001b[43m]\u001b[49m[fsm_no]\n\u001b[1;32m     20\u001b[0m state_list \u001b[38;5;241m=\u001b[39m G\u001b[38;5;241m.\u001b[39mnodes()\n\u001b[1;32m     22\u001b[0m \u001b[38;5;66;03m# creation\u001b[39;00m\n",
      "\u001b[0;31mIndexError\u001b[0m: list index out of range"
     ]
    }
   ],
   "source": [
    "# Each hypothesis refers to an incoming and outgoing transition \n",
    "# through a particular state of an FSM\n",
    "# and matching associated transitions can be considered\n",
    "# to set and read parameters of a state.\n",
    "# Since there maybe multiple transitions through a give state,\n",
    "# it is possible for the same parameter to have multiple\n",
    "# pairwise occurences.\n",
    "\n",
    "print(\"Step 6: creating and merging state params\")\n",
    "param_bindings_list_overall = []\n",
    "for classindex, HS_per_class in enumerate(HS_list_retained):\n",
    "    param_bind_per_class = []\n",
    "    \n",
    "    \n",
    "    for fsm_no, HS_per_fsm in enumerate(HS_per_class):\n",
    "        param_binding_list = []\n",
    "        \n",
    "        # fsm in consideration\n",
    "        G = state_machines_overall_list[classindex][fsm_no]\n",
    "        state_list = G.nodes()\n",
    "        \n",
    "        # creation\n",
    "        for index,h in enumerate(HS_per_fsm):\n",
    "            param_binding_list.append((h,\"v\"+str(index)))\n",
    "        \n",
    "        merge_pl = [] # parameter to merge list\n",
    "        if len(param_binding_list)>1:\n",
    "            # merging\n",
    "            pairs = findsubsets(param_binding_list, 2)\n",
    "            for pair in pairs:\n",
    "                h_1 = pair[0][0]\n",
    "                h_2 = pair[1][0]\n",
    "                \n",
    "                \n",
    "                # equate states\n",
    "                state_eq_flag = False\n",
    "                for s_index, state in enumerate(state_list):\n",
    "                    # if both hyp states appear in single state in fsm\n",
    "                    if list(h_1[0])[0] in state:\n",
    "                        if list(h_1[0])[0] in state:\n",
    "                            state_eq_flag =True\n",
    "                            \n",
    "                \n",
    "                if ((state_eq_flag and h_1[1] == h_2[1] and h_1[2] == h_2[2] and h_1[3] == h_2[3]) or (state_eq_flag and h_1[4] == h_2[4] and h_1[5] == h_2[5] and h_1[6] == h_2[6])):\n",
    "                    merge_pl.append(list([pair[0][1], pair[1][1]]))\n",
    "          \n",
    "        \n",
    "       \n",
    "        #inner lists to sets (to list of sets)\n",
    "        l=[set(x) for x in merge_pl]\n",
    "\n",
    "        #cartesian product merging elements if some element in common\n",
    "        for a,b in itertools.product(l,l):\n",
    "            if a.intersection( b ):\n",
    "                a.update(b)\n",
    "                b.update(a)\n",
    "\n",
    "        #back to list of lists\n",
    "        l = sorted( [sorted(list(x)) for x in l])\n",
    "\n",
    "        #remove dups\n",
    "        merge_pl = list(l for l,_ in itertools.groupby(l))\n",
    "        \n",
    "        # sort\n",
    "        for pos, l in enumerate(merge_pl):\n",
    "            merge_pl[pos] = sorted(l, key = lambda x: int(x[1:]))\n",
    "        \n",
    "        print(merge_pl) # equal params appear in a list in this list.\n",
    "          \n",
    "            \n",
    "        for z,pb in enumerate(param_binding_list):\n",
    "            for l in merge_pl:\n",
    "                if pb[1] in l:\n",
    "                    # update pb\n",
    "                    param_binding_list[z] = (param_binding_list[z][0], l[0])\n",
    "        \n",
    "\n",
    "                \n",
    "        \n",
    "        param_bind_per_class.append(param_binding_list)\n",
    "        print(class_names[classindex])\n",
    "        \n",
    "        # set of params per class\n",
    "        param = set()\n",
    "        for pb in param_binding_list:\n",
    "#             print(pb)\n",
    "            param.add(pb[1])\n",
    "            \n",
    "        # num of params per class\n",
    "        printmd(\"No. of params earlier:\" + str(len(param_binding_list)))\n",
    "        printmd(\"No. of params after merging:\" + str(len(param)))\n",
    "            \n",
    "        \n",
    "        \n",
    "        \n",
    "        \n",
    "    param_bindings_list_overall.append(param_bind_per_class)"
   ]
  },
  {
   "cell_type": "markdown",
   "metadata": {},
   "source": [
    "## Step 7: Remove Parameter Flaws"
   ]
  },
  {
   "cell_type": "code",
   "execution_count": 59,
   "metadata": {
    "scrolled": true
   },
   "outputs": [
    {
     "name": "stdout",
     "output_type": "stream",
     "text": [
      "Driver\n"
     ]
    },
    {
     "ename": "IndexError",
     "evalue": "list index out of range",
     "output_type": "error",
     "traceback": [
      "\u001b[0;31m---------------------------------------------------------------------------\u001b[0m",
      "\u001b[0;31mIndexError\u001b[0m                                Traceback (most recent call last)",
      "Cell \u001b[0;32mIn[59], line 27\u001b[0m\n\u001b[1;32m     25\u001b[0m S \u001b[38;5;241m=\u001b[39m \u001b[38;5;124m'\u001b[39m\u001b[38;5;124me(\u001b[39m\u001b[38;5;124m'\u001b[39m \u001b[38;5;241m+\u001b[39m t \u001b[38;5;241m+\u001b[39m \u001b[38;5;124m'\u001b[39m\u001b[38;5;124m)\u001b[39m\u001b[38;5;124m'\u001b[39m\n\u001b[1;32m     26\u001b[0m flaw \u001b[38;5;241m=\u001b[39m \u001b[38;5;28;01mTrue\u001b[39;00m\n\u001b[0;32m---> 27\u001b[0m \u001b[38;5;28;01mfor\u001b[39;00m pb \u001b[38;5;129;01min\u001b[39;00m \u001b[43mparam_bindings_list_overall\u001b[49m\u001b[43m[\u001b[49m\u001b[43mclassindex\u001b[49m\u001b[43m]\u001b[49m[fsm_no]:\n\u001b[1;32m     28\u001b[0m     H \u001b[38;5;241m=\u001b[39m pb[\u001b[38;5;241m0\u001b[39m]\n\u001b[1;32m     29\u001b[0m     v \u001b[38;5;241m=\u001b[39m pb[\u001b[38;5;241m1\u001b[39m]\n",
      "\u001b[0;31mIndexError\u001b[0m: list index out of range"
     ]
    }
   ],
   "source": [
    "# Removing State Params.\n",
    "# Flaw occurs Object can reach state S with param P having an inderminate value.\n",
    "# There is transition s.t. end(B.k) = S. \n",
    "# but there is no h = <S,B,k,k',C,l,l',G,G') and <h,P> is in bindings.\n",
    "\n",
    "para_bind_overall_fault_removed  = []\n",
    "for classindex, fsm_per_class in enumerate(state_machines_overall_list):\n",
    "    print(class_names[classindex])\n",
    "    pb_per_class_fault_removed = []\n",
    "\n",
    "    for fsm_no, G in enumerate(fsm_per_class):\n",
    "        \n",
    "        pb_per_fsm_fault_removed = []\n",
    "        # G is fsm in consideration\n",
    "        faulty_pb = []\n",
    "        for state in G.nodes():\n",
    "            inedges = G.in_edges(state, data=True)\n",
    "            \n",
    "            for ie in inedges:\n",
    "                tr = ie[2]['weight']\n",
    "                t_list = tr.split('|')\n",
    "                for t in t_list:\n",
    "                    B = t.split('.')[0]\n",
    "                    k = t.split('.')[1]\n",
    "                    S = 'e(' + t + ')'\n",
    "                    flaw = True\n",
    "                    for pb in param_bindings_list_overall[classindex][fsm_no]:\n",
    "                        H = pb[0]\n",
    "                        v = pb[1]\n",
    "                        if (S in set(H[0])) and (B==H[1]) and (int(k)==H[2]) :\n",
    "                            # this pb is okay\n",
    "                            flaw=False\n",
    "#                     print(flaw)\n",
    "                    if flaw:\n",
    "                        for pb in param_bindings_list_overall[classindex][fsm_no]:\n",
    "                            H = pb[0]\n",
    "                            H_states = list(H[0])\n",
    "                            for h_state in H_states:\n",
    "                                if h_state in state:\n",
    "                                    if pb not in faulty_pb:\n",
    "                                        faulty_pb.append(pb) # no duplicates\n",
    "        \n",
    "        for pb in param_bindings_list_overall[classindex][fsm_no]:\n",
    "            if pb not in faulty_pb:\n",
    "                pb_per_fsm_fault_removed.append(pb)\n",
    "        \n",
    "                                \n",
    "                        \n",
    "                        \n",
    "        print(str(len(pb_per_fsm_fault_removed)) + \"/\" + str(len(param_bindings_list_overall[classindex][fsm_no])) + \" param retained\")\n",
    "        for pb in pb_per_fsm_fault_removed:\n",
    "            print(pb)\n",
    "\n",
    "                \n",
    "        \n",
    "        pb_per_class_fault_removed.append(pb_per_fsm_fault_removed)\n",
    "    para_bind_overall_fault_removed.append(pb_per_class_fault_removed)"
   ]
  },
  {
   "cell_type": "markdown",
   "metadata": {},
   "source": [
    "## Step 8: (TODO) Static Preconditions via LOP\n",
    "As further enhancement, one can add step 8: Extraction of static preconditions from the LOCM paper.\n",
    "However, LOP algorithm is better version of that step.\n",
    "\n",
    "Insert [LOP](https://www.aaai.org/ocs/index.php/ICAPS/ICAPS15/paper/viewFile/10621/10401) here for finding static preconditions"
   ]
  },
  {
   "cell_type": "markdown",
   "metadata": {},
   "source": [
    "## Step 9:  Formation of PDDL Schema"
   ]
  },
  {
   "cell_type": "code",
   "execution_count": 145,
   "metadata": {
    "scrolled": false
   },
   "outputs": [
    {
     "name": "stdout",
     "output_type": "stream",
     "text": [
      ";;********************Learned PDDL domain******************\n"
     ]
    },
    {
     "ename": "IndexError",
     "evalue": "list index out of range",
     "output_type": "error",
     "traceback": [
      "\u001b[0;31m---------------------------------------------------------------------------\u001b[0m",
      "\u001b[0;31mIndexError\u001b[0m                                Traceback (most recent call last)",
      "Cell \u001b[0;32mIn[145], line 67\u001b[0m\n\u001b[1;32m     65\u001b[0m         \u001b[38;5;28;01mfor\u001b[39;00m arg \u001b[38;5;129;01min\u001b[39;00m arglist:\n\u001b[1;32m     66\u001b[0m             current_class_index \u001b[38;5;241m=\u001b[39m get_class_index(arg, classes)\n\u001b[0;32m---> 67\u001b[0m             \u001b[38;5;28;01mfor\u001b[39;00m fsm_no, G \u001b[38;5;129;01min\u001b[39;00m \u001b[38;5;28menumerate\u001b[39m(\u001b[43mstate_machines_overall_list\u001b[49m\u001b[43m[\u001b[49m\u001b[43mcurrent_class_index\u001b[49m\u001b[43m]\u001b[49m):\n\u001b[1;32m     68\u001b[0m \u001b[38;5;66;03m#                \u001b[39;00m\n\u001b[1;32m     69\u001b[0m                 \u001b[38;5;28;01mfor\u001b[39;00m start, end, weight \u001b[38;5;129;01min\u001b[39;00m G\u001b[38;5;241m.\u001b[39medges(data\u001b[38;5;241m=\u001b[39m\u001b[38;5;124m'\u001b[39m\u001b[38;5;124mweight\u001b[39m\u001b[38;5;124m'\u001b[39m):\n\u001b[1;32m     70\u001b[0m                     _actions \u001b[38;5;241m=\u001b[39m weight\u001b[38;5;241m.\u001b[39msplit(\u001b[38;5;124m'\u001b[39m\u001b[38;5;124m|\u001b[39m\u001b[38;5;124m'\u001b[39m)\n",
      "\u001b[0;31mIndexError\u001b[0m: list index out of range"
     ]
    }
   ],
   "source": [
    "# get action schema\n",
    "print(\";;********************Learned PDDL domain******************\")\n",
    "output_file = \"output/\"+ domain_name + \"/\" +  domain_name + \".pddl\"\n",
    "write_file = open(output_file, 'w')\n",
    "write_line = \"(define\"\n",
    "write_line += \"  (domain \"+ domain_name+\")\\n\"\n",
    "write_line += \"  (:requirements :typing)\\n\"\n",
    "write_line += \"  (:types\"\n",
    "for class_name in class_names:\n",
    "    write_line += \" \" + class_name\n",
    "write_line += \")\\n\"\n",
    "write_line += \"  (:predicates\\n\"\n",
    "\n",
    "# one predicate to represent each object state\n",
    "\n",
    "predicates = []\n",
    "for class_index, pb_per_class in enumerate(para_bind_overall_fault_removed):\n",
    "    for fsm_no, pbs_per_fsm in enumerate(pb_per_class):\n",
    "        for state_index, state in enumerate(state_machines_overall_list[class_index][fsm_no].nodes()):\n",
    "            \n",
    "            state_set = set(state.split('|'))\n",
    "            predicate = \"\"\n",
    "       \n",
    "            write_line += \"    (\" + class_names[class_index] + \"_fsm\" + str(fsm_no) + \"_\" +  state\n",
    "            predicate += \"    (\" + class_names[class_index] + \"_fsm\" + str(fsm_no) + \"_\" + state\n",
    "            for pb in pbs_per_fsm:\n",
    "                    if set(pb[0][0]) <= state_set:\n",
    "                        if \" ?\"+pb[1] + \" - \" + str(pb[0][8]) not in predicate:\n",
    "                            write_line += \" ?\"+pb[1] + \" - \" + str(pb[0][8])\n",
    "                            predicate += \" ?\"+pb[1] + \" - \" + str(pb[0][8])\n",
    "    \n",
    "            write_line += \")\\n\"\n",
    "            predicate += \")\"\n",
    "            predicates.append(predicate)\n",
    "write_line += \"  )\\n\"\n",
    "            \n",
    "for action_index, action in enumerate(actions):\n",
    "    write_line += \"\\n\"\n",
    "    write_line += \"  (:action\"\n",
    "    write_line += \"  \" + action + \" \"\n",
    "    write_line += \"  :parameters\"\n",
    "    write_line += \"  (\"\n",
    "    arg_already_written_flag = False\n",
    "    params_per_action = []\n",
    "    args_per_action = []\n",
    "    for seq in sequences:\n",
    "        for actarg_tuple in seq:\n",
    "            if not arg_already_written_flag:\n",
    "                if actarg_tuple[0] == action:\n",
    "                    arglist = []\n",
    "                    for arg in actarg_tuple[1]:\n",
    "                        write_line += \"?\"+arg + \" - \" + class_names[get_class_index(arg,classes)] + \" \"\n",
    "                        arglist.append(arg)\n",
    "                    args_per_action.append(arglist)\n",
    "                    params_per_action.append(actarg_tuple[1])\n",
    "                    arg_already_written_flag = True\n",
    "    write_line += \")\\n\"\n",
    "\n",
    "\n",
    "    # need to use FSMS to get preconditions and effects.\n",
    "    # Start-state = precondition. End state= Effect\n",
    "    preconditions = []\n",
    "    effects = []\n",
    "    for arglist in params_per_action:\n",
    "        for arg in arglist:\n",
    "            current_class_index = get_class_index(arg, classes)\n",
    "            for fsm_no, G in enumerate(state_machines_overall_list[current_class_index]):\n",
    "#                \n",
    "                for start, end, weight in G.edges(data='weight'):\n",
    "                    _actions = weight.split('|')\n",
    "                    for _action in _actions:\n",
    "                        \n",
    "                        if _action.split('.')[0] == action:\n",
    "                            for predicate in predicates:\n",
    "                                pred = predicate.split()[0].lstrip(\"(\")\n",
    "                                clss = pred.split('_')[0]\n",
    "                                fsm = pred.split('_')[1]\n",
    "                                state = set(pred.split('_')[2].replace('))',')').split('|'))\n",
    "\n",
    "\n",
    "\n",
    "                                if clss == class_names[current_class_index]:\n",
    "                                    if fsm == \"fsm\" + str(fsm_no):\n",
    "\n",
    "                                        if state == set(start.split('|')):\n",
    "\n",
    "                                            if predicate not in preconditions:\n",
    "                                                preconditions.append(predicate)\n",
    "\n",
    "                                        if state == set(end.split('|')):\n",
    "                                            if predicate not in effects:\n",
    "                                                effects.append(predicate)\n",
    "                            break\n",
    "                                        \n",
    "    \n",
    "                \n",
    "\n",
    "    write_line += \"   :precondition\"\n",
    "    write_line += \"   (and\\n\"\n",
    "    for precondition in preconditions:\n",
    "        # precondition = precondition.replace(?)\n",
    "        write_line += \"    \"+precondition+\"\\n\"\n",
    "    write_line += \"   )\\n\"\n",
    "    write_line += \"   :effect\"\n",
    "    write_line += \"   (and\\n\"\n",
    "    for effect in effects:\n",
    "        write_line += \"    \" + effect + \"\\n\"\n",
    "    write_line += \"  )\"\n",
    "\n",
    "    write_line += \")\\n\"\n",
    "\n",
    "write_line += \")\\n\" #domain ending bracket\n",
    "\n",
    "\n",
    "print(write_line)\n",
    "\n",
    "write_file.write(write_line)\n",
    "write_file.close()"
   ]
  },
  {
   "cell_type": "markdown",
   "metadata": {},
   "source": [
    "### Validating PDDL -- Fixing Syntax by replacing predicates with state dictionary values\n",
    "This is required because PDDL syntax doesn't support extra paranthesis () which occur in states (transitions occuring in states as 'start(t1)' or  'end(t1)')"
   ]
  },
  {
   "cell_type": "code",
   "execution_count": 61,
   "metadata": {
    "scrolled": false
   },
   "outputs": [
    {
     "name": "stdout",
     "output_type": "stream",
     "text": [
      ";;********************Learned PDDL domain******************\n"
     ]
    },
    {
     "ename": "IndexError",
     "evalue": "list index out of range",
     "output_type": "error",
     "traceback": [
      "\u001b[0;31m---------------------------------------------------------------------------\u001b[0m",
      "\u001b[0;31mIndexError\u001b[0m                                Traceback (most recent call last)",
      "Cell \u001b[0;32mIn[61], line 68\u001b[0m\n\u001b[1;32m     66\u001b[0m \u001b[38;5;28;01mfor\u001b[39;00m arg \u001b[38;5;129;01min\u001b[39;00m arglist:\n\u001b[1;32m     67\u001b[0m     current_class_index \u001b[38;5;241m=\u001b[39m get_class_index(arg, classes)\n\u001b[0;32m---> 68\u001b[0m     \u001b[38;5;28;01mfor\u001b[39;00m fsm_no, G \u001b[38;5;129;01min\u001b[39;00m \u001b[38;5;28menumerate\u001b[39m(\u001b[43mstate_machines_overall_list\u001b[49m\u001b[43m[\u001b[49m\u001b[43mcurrent_class_index\u001b[49m\u001b[43m]\u001b[49m):\n\u001b[1;32m     69\u001b[0m         G_int \u001b[38;5;241m=\u001b[39m state_machines_overall_list_2[current_class_index][fsm_no]\n\u001b[1;32m     70\u001b[0m         state_mapping \u001b[38;5;241m=\u001b[39m state_mappings_class[current_class_index][fsm_no]\n",
      "\u001b[0;31mIndexError\u001b[0m: list index out of range"
     ]
    }
   ],
   "source": [
    "# get action schema\n",
    "print(\";;********************Learned PDDL domain******************\")\n",
    "output_file = \"output/\"+ domain_name + \"/\" +  domain_name + \".pddl\"\n",
    "write_file = open(output_file, 'w')\n",
    "write_line = \"(define\"\n",
    "write_line += \"  (domain \"+ domain_name+\")\\n\"\n",
    "write_line += \"  (:requirements :typing)\\n\"\n",
    "write_line += \"  (:types\"\n",
    "for class_name in class_names:\n",
    "    write_line += \" \" + class_name\n",
    "write_line += \")\\n\"\n",
    "write_line += \"  (:predicates\\n\"\n",
    "\n",
    "# one predicate to represent each object state\n",
    "\n",
    "predicates = []\n",
    "for class_index, pb_per_class in enumerate(para_bind_overall_fault_removed):\n",
    "    for fsm_no, pbs_per_fsm in enumerate(pb_per_class):\n",
    "        state_mapping = state_mappings_class[class_index][fsm_no]\n",
    "        \n",
    "        for state_index, state in enumerate(state_machines_overall_list[class_index][fsm_no].nodes()):\n",
    "            \n",
    "            state_set = set(state.split('|'))\n",
    "            predicate = \"\"\n",
    "       \n",
    "            write_line += \"    (\" + class_names[class_index] + \"_fsm\" + str(fsm_no) + \"_state\" +  str(state_mapping[state])\n",
    "            predicate += \"    (\" + class_names[class_index] + \"_fsm\" + str(fsm_no) + \"_state\" + str(state_mapping[state])\n",
    "            for pb in pbs_per_fsm:\n",
    "                    if set(pb[0][0]) <= state_set:\n",
    "                        if \" ?\"+pb[1] + \" - \" + str(pb[0][8]) not in predicate:\n",
    "                            write_line += \" ?\"+pb[1] + \" - \" + str(pb[0][8])\n",
    "                            predicate += \" ?\"+pb[1] + \" - \" + str(pb[0][8])\n",
    "    \n",
    "            write_line += \")\\n\"\n",
    "            predicate += \")\"\n",
    "            predicates.append(predicate)\n",
    "write_line += \"  )\\n\"\n",
    "            \n",
    "for action_index, action in enumerate(actions):\n",
    "    write_line += \"  (:action\"\n",
    "    write_line += \"  \" + action + \" \"\n",
    "    write_line += \"  :parameters\"\n",
    "    write_line += \"  (\"\n",
    "    arg_already_written_flag = False\n",
    "    params_per_action = []\n",
    "    args_per_action = []\n",
    "    for seq in sequences:\n",
    "        for actarg_tuple in seq:\n",
    "            if not arg_already_written_flag:\n",
    "                if actarg_tuple[0] == action:\n",
    "                    arglist = []\n",
    "                    for arg in actarg_tuple[1]:\n",
    "                        write_line += \"?\"+arg + \" - \" + class_names[get_class_index(arg,classes)] + \" \"\n",
    "                        arglist.append(arg)\n",
    "                    args_per_action.append(arglist)\n",
    "                    params_per_action.append(actarg_tuple[1])\n",
    "                    arg_already_written_flag = True\n",
    "    write_line += \")\\n\"\n",
    "\n",
    "\n",
    "    # need to use FSMS to get preconditions and effects.\n",
    "    # Start-state = precondition. End state= Effect\n",
    "    preconditions = []\n",
    "    effects = []\n",
    "    for arglist in params_per_action:\n",
    "        for arg in arglist:\n",
    "            current_class_index = get_class_index(arg, classes)\n",
    "            for fsm_no, G in enumerate(state_machines_overall_list[current_class_index]):\n",
    "                G_int = state_machines_overall_list_2[current_class_index][fsm_no]\n",
    "                state_mapping = state_mappings_class[current_class_index][fsm_no]\n",
    "                for start, end, weight in G_int.edges(data='weight'):\n",
    "                    _actions = weight.split('|')\n",
    "                    for _action in _actions:\n",
    "                        if _action.split('.')[0] == action:\n",
    "                            for predicate in predicates:\n",
    "                                pred = predicate.split()[0].lstrip(\"(\")\n",
    "                                clss = pred.split('_')[0]\n",
    "                                fsm = pred.split('_')[1]\n",
    "                                state_ind = pred.split('_')[2].rstrip(\")\")[-1]\n",
    "\n",
    "                                if clss == class_names[current_class_index]:\n",
    "                                    if fsm == \"fsm\" + str(fsm_no):\n",
    "                                        if int(state_ind) == int(start):\n",
    "                                            if predicate not in preconditions:\n",
    "                                                preconditions.append(predicate)\n",
    "                                                \n",
    "                                        if int(state_ind) == int(end):\n",
    "                                            if predicate not in effects:\n",
    "                                                effects.append(predicate)\n",
    "                            break\n",
    "                            \n",
    "\n",
    "                \n",
    "\n",
    "    write_line += \"   :precondition\"\n",
    "    write_line += \"   (and\\n\"\n",
    "    for precondition in preconditions:\n",
    "        write_line += \"    \"+precondition+\"\\n\"\n",
    "    write_line += \"   )\\n\"\n",
    "    write_line += \"   :effect\"\n",
    "    write_line += \"   (and\\n\"\n",
    "    for effect in effects:\n",
    "        write_line += \"    \" + effect + \"\\n\"\n",
    "    write_line += \"  )\"\n",
    "\n",
    "    write_line += \")\\n\\n\"\n",
    "\n",
    "write_line += \")\\n\" #domain ending bracket\n",
    "\n",
    "\n",
    "print(write_line)\n",
    "\n",
    "write_file.write(write_line)\n",
    "write_file.close()"
   ]
  },
  {
   "cell_type": "markdown",
   "metadata": {},
   "source": [
    "### State Mapping: What are these states?"
   ]
  },
  {
   "cell_type": "code",
   "execution_count": 62,
   "metadata": {
    "scrolled": false
   },
   "outputs": [
    {
     "data": {
      "text/markdown": [
       "## Class 0"
      ],
      "text/plain": [
       "<IPython.core.display.Markdown object>"
      ]
     },
     "metadata": {},
     "output_type": "display_data"
    },
    {
     "data": {
      "text/markdown": [
       "### Driver"
      ],
      "text/plain": [
       "<IPython.core.display.Markdown object>"
      ]
     },
     "metadata": {},
     "output_type": "display_data"
    },
    {
     "name": "stdout",
     "output_type": "stream",
     "text": [
      "Number of FSMS:1\n"
     ]
    },
    {
     "data": {
      "text/markdown": [
       "Fsm 0"
      ],
      "text/plain": [
       "<IPython.core.display.Markdown object>"
      ]
     },
     "metadata": {},
     "output_type": "display_data"
    },
    {
     "data": {
      "application/vnd.jupyter.widget-view+json": {
       "model_id": "693f7e66b6bc47b485de74255d624ffb",
       "version_major": 2,
       "version_minor": 0
      },
      "text/plain": [
       "CytoscapeWidget(cytoscape_layout={'name': 'cola'}, cytoscape_style=[{'width': 400, 'height': 500, 'selector': …"
      ]
     },
     "metadata": {},
     "output_type": "display_data"
    },
    {
     "data": {
      "application/vnd.jupyter.widget-view+json": {
       "model_id": "92848ffa163848fda01fd7b118c29a68",
       "version_major": 2,
       "version_minor": 0
      },
      "text/plain": [
       "CytoscapeWidget(cytoscape_layout={'name': 'cola'}, cytoscape_style=[{'width': 400, 'height': 500, 'selector': …"
      ]
     },
     "metadata": {},
     "output_type": "display_data"
    }
   ],
   "source": [
    "# To see what these states are, look at the following graphs\n",
    "\n",
    "for index, fsm_graphs in enumerate(state_machines_overall_list):\n",
    "    printmd(\"## Class \" + str(index))\n",
    "    printmd(\"### \"+ class_names[index])\n",
    "    print(\"Number of FSMS:\" + str(num_fsms))\n",
    "    \n",
    "    for fsm_no, G in enumerate(fsm_graphs):  \n",
    "        printmd(\"Fsm \"+ str(fsm_no))\n",
    "        plot_cytographs_fsm(state_machines_overall_list_2[index][fsm_no], domain_name)\n",
    "        plot_cytographs_fsm(G, domain_name)"
   ]
  },
  {
   "cell_type": "markdown",
   "metadata": {},
   "source": [
    "### State Mappings: Text format"
   ]
  },
  {
   "cell_type": "code",
   "execution_count": 63,
   "metadata": {
    "scrolled": false
   },
   "outputs": [
    {
     "data": {
      "text/markdown": [
       "## Class 0"
      ],
      "text/plain": [
       "<IPython.core.display.Markdown object>"
      ]
     },
     "metadata": {},
     "output_type": "display_data"
    },
    {
     "data": {
      "text/markdown": [
       "### Driver"
      ],
      "text/plain": [
       "<IPython.core.display.Markdown object>"
      ]
     },
     "metadata": {},
     "output_type": "display_data"
    },
    {
     "data": {
      "text/markdown": [
       "Fsm 0"
      ],
      "text/plain": [
       "<IPython.core.display.Markdown object>"
      ]
     },
     "metadata": {},
     "output_type": "display_data"
    },
    {
     "name": "stdout",
     "output_type": "stream",
     "text": [
      "{'e(disembarktruck.0)|s(boardtruck.0)': 0,\n",
      " 'e(drivetruck.3)|e(boardtruck.0)|s(disembarktruck.0)|s(drivetruck.3)': 1}\n"
     ]
    }
   ],
   "source": [
    "for index, sm_fsm in enumerate(state_mappings_class):\n",
    "    printmd(\"## Class \" + str(index))\n",
    "    printmd(\"### \"+ class_names[index])\n",
    "\n",
    "    \n",
    "    for fsm_no, mapping in enumerate(sm_fsm):\n",
    "        printmd(\"Fsm \"+ str(fsm_no))\n",
    "        pprint(mapping)"
   ]
  },
  {
   "cell_type": "code",
   "execution_count": null,
   "metadata": {},
   "outputs": [],
   "source": []
  },
  {
   "cell_type": "code",
   "execution_count": null,
   "metadata": {},
   "outputs": [],
   "source": []
  },
  {
   "cell_type": "code",
   "execution_count": null,
   "metadata": {},
   "outputs": [],
   "source": []
  }
 ],
 "metadata": {
  "jupytext": {
   "encoding": "# -*- coding: utf-8 -*-",
   "text_representation": {
    "extension": ".py",
    "format_name": "light",
    "format_version": "1.5",
    "jupytext_version": "1.4.2"
   }
  },
  "kernelspec": {
   "display_name": "base",
   "language": "python",
   "name": "python3"
  },
  "language_info": {
   "codemirror_mode": {
    "name": "ipython",
    "version": 3
   },
   "file_extension": ".py",
   "mimetype": "text/x-python",
   "name": "python",
   "nbconvert_exporter": "python",
   "pygments_lexer": "ipython3",
   "version": "3.12.2"
  },
  "toc": {
   "base_numbering": 1,
   "nav_menu": {},
   "number_sections": true,
   "sideBar": true,
   "skip_h1_title": false,
   "title_cell": "Table of Contents",
   "title_sidebar": "Contents",
   "toc_cell": false,
   "toc_position": {
    "height": "calc(100% - 180px)",
    "left": "10px",
    "top": "150px",
    "width": "193px"
   },
   "toc_section_display": true,
   "toc_window_display": true
  },
  "varInspector": {
   "cols": {
    "lenName": 16,
    "lenType": 16,
    "lenVar": 40
   },
   "kernels_config": {
    "python": {
     "delete_cmd_postfix": "",
     "delete_cmd_prefix": "del ",
     "library": "var_list.py",
     "varRefreshCmd": "print(var_dic_list())"
    },
    "r": {
     "delete_cmd_postfix": ") ",
     "delete_cmd_prefix": "rm(",
     "library": "var_list.r",
     "varRefreshCmd": "cat(var_dic_list()) "
    }
   },
   "types_to_exclude": [
    "module",
    "function",
    "builtin_function_or_method",
    "instance",
    "_Feature"
   ],
   "window_display": false
  }
 },
 "nbformat": 4,
 "nbformat_minor": 2
}
