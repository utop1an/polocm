{
 "cells": [
  {
   "cell_type": "code",
   "execution_count": 22,
   "metadata": {},
   "outputs": [
    {
     "name": "stdout",
     "output_type": "stream",
     "text": [
      "The autoreload extension is already loaded. To reload it, use:\n",
      "  %reload_ext autoreload\n"
     ]
    }
   ],
   "source": [
    "%load_ext autoreload\n",
    "%autoreload 2"
   ]
  },
  {
   "cell_type": "code",
   "execution_count": 23,
   "metadata": {},
   "outputs": [],
   "source": [
    "from extract.locm import AP, Hypothesis, LOCM\n",
    "from traces import *\n",
    "from observation import ActionObservation\n",
    "from extract.model import *"
   ]
  },
  {
   "cell_type": "code",
   "execution_count": 24,
   "metadata": {},
   "outputs": [],
   "source": [
    "def get_example_obs_bw_2traces(print_trace=False):\n",
    "    objects = {\n",
    "        \"A\": PlanningObject(\"unknown\", \"A\"),\n",
    "        \"B\": PlanningObject(\"unknown\", \"B\"),\n",
    "        \"C\": PlanningObject(\"unknown\", \"C\"),\n",
    "    }\n",
    "\n",
    "    actions = {\n",
    "        \"unstackAB\": Action(\"unstack\", [objects[\"A\"], objects[\"B\"]]),\n",
    "        \"unstackBC\": Action(\"unstack\", [objects[\"B\"], objects[\"C\"]]),\n",
    "        \"unstackCB\": Action(\"unstack\", [objects[\"C\"], objects[\"B\"]]),\n",
    "        \"unstackBA\": Action(\"unstack\", [objects[\"B\"], objects[\"A\"]]),\n",
    "        \"unstackAC\": Action(\"unstack\", [objects[\"A\"], objects[\"C\"]]),\n",
    "        \"unstackCA\": Action(\"unstack\", [objects[\"C\"], objects[\"A\"]]),\n",
    "        \"stackAB\": Action(\"stack\", [objects[\"A\"], objects[\"B\"]]),\n",
    "        \"stackBA\": Action(\"stack\", [objects[\"B\"], objects[\"A\"]]),\n",
    "        \"stackAC\": Action(\"stack\", [objects[\"A\"], objects[\"C\"]]),\n",
    "        \"stackCA\": Action(\"stack\", [objects[\"C\"], objects[\"A\"]]),\n",
    "        \"stackBC\": Action(\"stack\", [objects[\"B\"], objects[\"C\"]]),\n",
    "        \"stackCB\": Action(\"stack\", [objects[\"C\"], objects[\"B\"]]),\n",
    "        \"putdownA\": Action(\"putdown\", [objects[\"A\"]]),\n",
    "        \"putdownB\": Action(\"putdown\", [objects[\"B\"]]),\n",
    "        \"putdownC\": Action(\"putdown\", [objects[\"C\"]]),\n",
    "        \"pickupA\": Action(\"pickup\", [objects[\"A\"]]),\n",
    "        \"pickupB\": Action(\"pickup\", [objects[\"B\"]]),\n",
    "        \"pickupC\": Action(\"pickup\", [objects[\"C\"]]),\n",
    "    }\n",
    "\n",
    "    input_action_seqs = '''\n",
    "        unstack(A, B), putdown(A), pickup(B), stack(B,C), unstack(B,C), stack(B,C),pickup(A), stack(A,B)\n",
    "        unstack(C, B), putdown(C), unstack(B,A), putdown(B), pickup(B), stack(B,C), pickup(A), stack(A,B)\n",
    "        unstack(C,B), stack(C,A), pickup(B), putdown(B), pickup(B), stack(B,C)\n",
    "        '''\n",
    "       \n",
    "    traces = TraceList(\n",
    "        [\n",
    "            Trace(\n",
    "                [\n",
    "                    Step(State({}), actions[\"unstackAB\"], 1),\n",
    "                    Step(State({}), actions[\"putdownA\"], 2),\n",
    "                    Step(State({}), actions[\"pickupB\"], 3),\n",
    "                    Step(State({}), actions[\"stackBC\"], 4),\n",
    "                    Step(State({}), actions[\"unstackBC\"], 5),\n",
    "                    Step(State({}), actions[\"stackBC\"], 6),\n",
    "                    Step(State({}), actions[\"pickupA\"], 7),\n",
    "                    Step(State({}), actions[\"stackAB\"], 8),\n",
    "                ]\n",
    "            ),\n",
    "            Trace(\n",
    "                [\n",
    "                    Step(State({}),actions['unstackCB'], 1),\n",
    "                    Step(State({}),actions['putdownC'], 2),\n",
    "                    Step(State({}),actions['unstackBA'], 3),\n",
    "                    Step(State({}),actions['putdownB'], 4),\n",
    "                    Step(State({}),actions['pickupB'], 5),\n",
    "                    Step(State({}),actions['stackBC'], 6),\n",
    "                    Step(State({}),actions['pickupA'], 7),\n",
    "                    Step(State({}),actions['stackAB'], 8),\n",
    "\n",
    "                ]\n",
    "            ),\n",
    "            Trace(\n",
    "                [\n",
    "                    Step(State({}), actions[\"unstackCB\"], 1),\n",
    "                    Step(State({}), actions[\"stackCA\"], 2),\n",
    "                    Step(State({}), actions[\"pickupB\"], 3),\n",
    "                    Step(State({}), actions[\"putdownB\"], 4),\n",
    "                    Step(State({}), actions[\"pickupB\"], 5),\n",
    "                    Step(State({}), actions[\"stackBC\"], 6),\n",
    "                ]\n",
    "            ),\n",
    "            \n",
    "        ]\n",
    "    )\n",
    "    \n",
    "\n",
    "    if print_trace:\n",
    "        # traces.print()\n",
    "        traces.print(\"detail\")\n",
    "\n",
    "    obs = traces.tokenize(ActionObservation)\n",
    "    return obs"
   ]
  },
  {
   "cell_type": "code",
   "execution_count": 25,
   "metadata": {},
   "outputs": [
    {
     "name": "stderr",
     "output_type": "stream",
     "text": [
      "/home/uto/anu/codes/xLOCM/src/traces/trace_list.py:150: UserWarning: Invalid view detail. Defaulting to \"details\".\n",
      "  warn(f'Invalid view {view}. Defaulting to \"details\".')\n"
     ]
    },
    {
     "data": {
      "text/html": [
       "<pre style=\"white-space:pre;overflow-x:auto;line-height:normal;font-family:Menlo,'DejaVu Sans Mono',consolas,'Courier New',monospace\"><span style=\"font-style: italic\">                                                       Trace                                                       </span>\n",
       "Attributes:                                                                                                        \n",
       "  8 steps                                                                                                          \n",
       "  0 fluents                                                                                                        \n",
       "<span style=\"font-style: italic\">                                                       Steps                                                       </span>\n",
       "<span style=\"font-weight: bold\">                     Step       State        Action                                                                </span>\n",
       "                        1                    unstack unknown A unknown B                                           \n",
       "                        2                    putdown unknown A                                                     \n",
       "                        3                    pickup unknown B                                                      \n",
       "                        4                    stack unknown B unknown C                                             \n",
       "                        5                    unstack unknown B unknown C                                           \n",
       "                        6                    stack unknown B unknown C                                             \n",
       "                        7                    pickup unknown A                                                      \n",
       "                        8                    stack unknown A unknown B                                             \n",
       "</pre>\n"
      ],
      "text/plain": [
       "\u001b[3m                                                       Trace                                                       \u001b[0m\n",
       "Attributes:                                                                                                        \n",
       "  8 steps                                                                                                          \n",
       "  0 fluents                                                                                                        \n",
       "\u001b[3m                                                       Steps                                                       \u001b[0m\n",
       "\u001b[1m                     Step\u001b[0m\u001b[1m \u001b[0m\u001b[1m \u001b[0m\u001b[1m     State      \u001b[0m\u001b[1m \u001b[0m\u001b[1m \u001b[0m\u001b[1mAction                                                                \u001b[0m\n",
       "                        1                    unstack unknown A unknown B                                           \n",
       "                        2                    putdown unknown A                                                     \n",
       "                        3                    pickup unknown B                                                      \n",
       "                        4                    stack unknown B unknown C                                             \n",
       "                        5                    unstack unknown B unknown C                                           \n",
       "                        6                    stack unknown B unknown C                                             \n",
       "                        7                    pickup unknown A                                                      \n",
       "                        8                    stack unknown A unknown B                                             \n"
      ]
     },
     "metadata": {},
     "output_type": "display_data"
    },
    {
     "name": "stdout",
     "output_type": "stream",
     "text": [
      "\n"
     ]
    },
    {
     "data": {
      "text/html": [
       "<pre style=\"white-space:pre;overflow-x:auto;line-height:normal;font-family:Menlo,'DejaVu Sans Mono',consolas,'Courier New',monospace\"><span style=\"font-style: italic\">                                                       Trace                                                       </span>\n",
       "Attributes:                                                                                                        \n",
       "  8 steps                                                                                                          \n",
       "  0 fluents                                                                                                        \n",
       "<span style=\"font-style: italic\">                                                       Steps                                                       </span>\n",
       "<span style=\"font-weight: bold\">                     Step       State        Action                                                                </span>\n",
       "                        1                    unstack unknown C unknown B                                           \n",
       "                        2                    putdown unknown C                                                     \n",
       "                        3                    unstack unknown B unknown A                                           \n",
       "                        4                    putdown unknown B                                                     \n",
       "                        5                    pickup unknown B                                                      \n",
       "                        6                    stack unknown B unknown C                                             \n",
       "                        7                    pickup unknown A                                                      \n",
       "                        8                    stack unknown A unknown B                                             \n",
       "</pre>\n"
      ],
      "text/plain": [
       "\u001b[3m                                                       Trace                                                       \u001b[0m\n",
       "Attributes:                                                                                                        \n",
       "  8 steps                                                                                                          \n",
       "  0 fluents                                                                                                        \n",
       "\u001b[3m                                                       Steps                                                       \u001b[0m\n",
       "\u001b[1m                     Step\u001b[0m\u001b[1m \u001b[0m\u001b[1m \u001b[0m\u001b[1m     State      \u001b[0m\u001b[1m \u001b[0m\u001b[1m \u001b[0m\u001b[1mAction                                                                \u001b[0m\n",
       "                        1                    unstack unknown C unknown B                                           \n",
       "                        2                    putdown unknown C                                                     \n",
       "                        3                    unstack unknown B unknown A                                           \n",
       "                        4                    putdown unknown B                                                     \n",
       "                        5                    pickup unknown B                                                      \n",
       "                        6                    stack unknown B unknown C                                             \n",
       "                        7                    pickup unknown A                                                      \n",
       "                        8                    stack unknown A unknown B                                             \n"
      ]
     },
     "metadata": {},
     "output_type": "display_data"
    },
    {
     "name": "stdout",
     "output_type": "stream",
     "text": [
      "\n"
     ]
    },
    {
     "data": {
      "text/html": [
       "<pre style=\"white-space:pre;overflow-x:auto;line-height:normal;font-family:Menlo,'DejaVu Sans Mono',consolas,'Courier New',monospace\"><span style=\"font-style: italic\">                                                       Trace                                                       </span>\n",
       "Attributes:                                                                                                        \n",
       "  6 steps                                                                                                          \n",
       "  0 fluents                                                                                                        \n",
       "<span style=\"font-style: italic\">                                                       Steps                                                       </span>\n",
       "<span style=\"font-weight: bold\">                     Step       State        Action                                                                </span>\n",
       "                        1                    unstack unknown C unknown B                                           \n",
       "                        2                    stack unknown C unknown A                                             \n",
       "                        3                    pickup unknown B                                                      \n",
       "                        4                    putdown unknown B                                                     \n",
       "                        5                    pickup unknown B                                                      \n",
       "                        6                    stack unknown B unknown C                                             \n",
       "</pre>\n"
      ],
      "text/plain": [
       "\u001b[3m                                                       Trace                                                       \u001b[0m\n",
       "Attributes:                                                                                                        \n",
       "  6 steps                                                                                                          \n",
       "  0 fluents                                                                                                        \n",
       "\u001b[3m                                                       Steps                                                       \u001b[0m\n",
       "\u001b[1m                     Step\u001b[0m\u001b[1m \u001b[0m\u001b[1m \u001b[0m\u001b[1m     State      \u001b[0m\u001b[1m \u001b[0m\u001b[1m \u001b[0m\u001b[1mAction                                                                \u001b[0m\n",
       "                        1                    unstack unknown C unknown B                                           \n",
       "                        2                    stack unknown C unknown A                                             \n",
       "                        3                    pickup unknown B                                                      \n",
       "                        4                    putdown unknown B                                                     \n",
       "                        5                    pickup unknown B                                                      \n",
       "                        6                    stack unknown B unknown C                                             \n"
      ]
     },
     "metadata": {},
     "output_type": "display_data"
    },
    {
     "name": "stdout",
     "output_type": "stream",
     "text": [
      "\n"
     ]
    }
   ],
   "source": [
    "obs_tracelist = get_example_obs_bw_2traces(True)"
   ]
  },
  {
   "cell_type": "code",
   "execution_count": 26,
   "metadata": {},
   "outputs": [],
   "source": [
    "sorts = LOCM._get_sorts(obs_tracelist[0])"
   ]
  },
  {
   "cell_type": "code",
   "execution_count": 27,
   "metadata": {},
   "outputs": [],
   "source": [
    "TS, ap_state_pointers, OS = LOCM._step1(obs_tracelist[0], sorts)"
   ]
  },
  {
   "cell_type": "code",
   "execution_count": 28,
   "metadata": {},
   "outputs": [],
   "source": [
    "HS = LOCM._step3(TS,ap_state_pointers, OS, sorts)"
   ]
  },
  {
   "cell_type": "code",
   "execution_count": 29,
   "metadata": {},
   "outputs": [],
   "source": [
    "bindings = LOCM._step4(HS)"
   ]
  },
  {
   "cell_type": "code",
   "execution_count": 30,
   "metadata": {},
   "outputs": [],
   "source": [
    "bidings  = LOCM._step5(HS, bindings)"
   ]
  },
  {
   "cell_type": "code",
   "execution_count": 31,
   "metadata": {},
   "outputs": [
    {
     "name": "stdout",
     "output_type": "stream",
     "text": [
      "ap state pointers\n",
      "{0: {stack.0: (7 -> 8),\n",
      "     unstack.0: (1 -> 2),\n",
      "     pickup.0: (5 -> 6),\n",
      "     putdown.0: (3 -> 4)},\n",
      " 1: {unstack.2: (1 -> 2),\n",
      "     unstack.1: (1 -> 2),\n",
      "     putdown.1: (3 -> 4),\n",
      "     stack.1: (7 -> 8),\n",
      "     stack.2: (3 -> 4),\n",
      "     pickup.1: (5 -> 6)}}\n",
      "\n",
      "OS:\n",
      "{0: [{8, 1, 4, 5}, {2, 3, 6, 7}],\n",
      " 1: [{1, 2, 3, 4, 5, 6, 7, 8}, {1}, {2}, {3}, {4}]}\n",
      "\n",
      "bindings:\n",
      "{}\n",
      "\n",
      "{(sort0_state1 sort0),\n",
      " (sort1_state0 sort1),\n",
      " (sort0_state0 sort0),\n",
      " TemplateFluent(name='sort1_state2',\n",
      "                param_sorts=['sort1']),\n",
      " TemplateFluent(name='sort1_state1',\n",
      "                param_sorts=['sort1']),\n",
      " TemplateFluent(name='sort1_state4',\n",
      "                param_sorts=['sort1']),\n",
      " TemplateFluent(name='sort1_state3',\n",
      "                param_sorts=['sort1'])}\n",
      "{(unstack sort0 sort1 sort1),\n",
      " (putdown sort0 sort1),\n",
      " (pickup sort0 sort1),\n",
      " (stack sort0 sort1 sort1)}\n"
     ]
    }
   ],
   "source": [
    "fluents, actions = LOCM._step7(OS, ap_state_pointers, sorts,bindings, {}, debug=True)\n"
   ]
  },
  {
   "cell_type": "code",
   "execution_count": 32,
   "metadata": {},
   "outputs": [],
   "source": [
    "model = Model(fluents, actions)\n",
    "assert model\n"
   ]
  },
  {
   "cell_type": "code",
   "execution_count": 33,
   "metadata": {},
   "outputs": [
    {
     "ename": "ValueError",
     "evalue": "Could not determine whether the model is grounded or lifted. Fluents are of type <class 'extract.locm.LOCM._step7.<locals>.TemplateFluent'> while actions are of type <class 'extract.learned_action.LearnedLiftedAction'>",
     "output_type": "error",
     "traceback": [
      "\u001b[0;31m---------------------------------------------------------------------------\u001b[0m",
      "\u001b[0;31mValueError\u001b[0m                                Traceback (most recent call last)",
      "Cell \u001b[0;32mIn[33], line 1\u001b[0m\n\u001b[0;32m----> 1\u001b[0m \u001b[43mmodel\u001b[49m\u001b[38;5;241;43m.\u001b[39;49m\u001b[43mto_pddl\u001b[49m\u001b[43m(\u001b[49m\u001b[38;5;124;43m'\u001b[39;49m\u001b[38;5;124;43mlocm\u001b[39;49m\u001b[38;5;124;43m'\u001b[39;49m\u001b[43m)\u001b[49m\n",
      "File \u001b[0;32m~/anu/codes/xLOCM/src/extract/model.py:162\u001b[0m, in \u001b[0;36mModel.to_pddl\u001b[0;34m(self, domain_name, problem_name, domain_filename, problem_filename)\u001b[0m\n\u001b[1;32m    158\u001b[0m     \u001b[38;5;28mself\u001b[39m\u001b[38;5;241m.\u001b[39mto_pddl_grounded(\n\u001b[1;32m    159\u001b[0m         domain_name, problem_name, domain_filename, problem_filename\n\u001b[1;32m    160\u001b[0m     )\n\u001b[1;32m    161\u001b[0m \u001b[38;5;28;01melse\u001b[39;00m:\n\u001b[0;32m--> 162\u001b[0m     \u001b[38;5;28;01mraise\u001b[39;00m \u001b[38;5;167;01mValueError\u001b[39;00m(\n\u001b[1;32m    163\u001b[0m         \u001b[38;5;124mf\u001b[39m\u001b[38;5;124m\"\u001b[39m\u001b[38;5;124mCould not determine whether the model is grounded or lifted. Fluents are of type \u001b[39m\u001b[38;5;132;01m{\u001b[39;00m\u001b[38;5;28mtype\u001b[39m(\u001b[38;5;28mlist\u001b[39m(\u001b[38;5;28mself\u001b[39m\u001b[38;5;241m.\u001b[39mfluents)[\u001b[38;5;241m0\u001b[39m])\u001b[38;5;132;01m}\u001b[39;00m\u001b[38;5;124m while actions are of type \u001b[39m\u001b[38;5;132;01m{\u001b[39;00m\u001b[38;5;28mtype\u001b[39m(\u001b[38;5;28mlist\u001b[39m(\u001b[38;5;28mself\u001b[39m\u001b[38;5;241m.\u001b[39mactions)[\u001b[38;5;241m0\u001b[39m])\u001b[38;5;132;01m}\u001b[39;00m\u001b[38;5;124m\"\u001b[39m\n\u001b[1;32m    164\u001b[0m     )\n",
      "\u001b[0;31mValueError\u001b[0m: Could not determine whether the model is grounded or lifted. Fluents are of type <class 'extract.locm.LOCM._step7.<locals>.TemplateFluent'> while actions are of type <class 'extract.learned_action.LearnedLiftedAction'>"
     ]
    }
   ],
   "source": [
    "model.to_pddl('locm')"
   ]
  },
  {
   "cell_type": "code",
   "execution_count": null,
   "metadata": {},
   "outputs": [],
   "source": []
  }
 ],
 "metadata": {
  "kernelspec": {
   "display_name": "base",
   "language": "python",
   "name": "python3"
  },
  "language_info": {
   "codemirror_mode": {
    "name": "ipython",
    "version": 3
   },
   "file_extension": ".py",
   "mimetype": "text/x-python",
   "name": "python",
   "nbconvert_exporter": "python",
   "pygments_lexer": "ipython3",
   "version": "3.12.2"
  }
 },
 "nbformat": 4,
 "nbformat_minor": 2
}
