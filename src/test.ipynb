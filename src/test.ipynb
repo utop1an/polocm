{
 "cells": [
  {
   "cell_type": "code",
   "execution_count": 3,
   "metadata": {},
   "outputs": [],
   "source": [
    "from collections import defaultdict\n",
    "import itertools\n",
    "import os\n",
    "from tabulate import tabulate\n",
    "from pprint import pprint\n",
    "import matplotlib.pyplot as plt\n",
    "%matplotlib inline\n",
    "import networkx as nx\n",
    "import pandas as pd\n",
    "pd.options.display.max_columns = 100\n",
    "from IPython.display import display, Markdown\n",
    "from ipycytoscape import *\n",
    "import string\n",
    "from ast import literal_eval\n",
    "from _locm2 import *\n",
    "from utils import *\n",
    "%load_ext autoreload\n",
    "%autoreload 2"
   ]
  },
  {
   "cell_type": "code",
   "execution_count": 4,
   "metadata": {},
   "outputs": [],
   "source": [
    "input_action_seqs = '''\n",
    "unstack(A, B), putdown(A), pickup(B), stack(B,C), unstack(B,C), stack(B,C),pickup(A), stack(A,B)\n",
    "unstack(C, B), putdown(C), unstack(B,A), putdown(B), pickup(B), stack(B,C), pickup(A), stack(A,B)\n",
    "unstack(C,B), stack(C,A), pickup(B), putdown(b), pickup(B), stack(B,C)\n",
    "'''\n",
    "input_state_seqs = '''\n",
    "[handempty(),on(A,B)], [not on(A, B), hold(A)],[handempty(), ontable(A)], [hold(B)],[handempty()], [hold(B)],[handempty()], [hold(A)],[handempty()]\n",
    "[handempty()], [hold(C)],[handempty()], [hold(B)],[handempty()], [hold(B)],[handempty()], [hold(A)],[handempty()]\n",
    "[handempty()], [hold(C)],[handempty()], [hold(B)],[handempty()], [hold(B)],[handempty()]\n",
    "'''"
   ]
  },
  {
   "cell_type": "code",
   "execution_count": 5,
   "metadata": {},
   "outputs": [
    {
     "name": "stdout",
     "output_type": "stream",
     "text": [
      "0: ('unstack', ['a', 'b'])\n",
      "1: ('putdown', ['a'])\n",
      "2: ('pickup', ['b'])\n",
      "3: ('stack', ['b', 'c'])\n",
      "4: ('unstack', ['b', 'c'])\n",
      "5: ('stack', ['b', 'c'])\n",
      "6: ('pickup', ['a'])\n",
      "7: ('stack', ['a', 'b'])\n",
      "\n",
      "0: ('unstack', ['c', 'b'])\n",
      "1: ('putdown', ['c'])\n",
      "2: ('unstack', ['b', 'a'])\n",
      "3: ('putdown', ['b'])\n",
      "4: ('pickup', ['b'])\n",
      "5: ('stack', ['b', 'c'])\n",
      "6: ('pickup', ['a'])\n",
      "7: ('stack', ['a', 'b'])\n",
      "\n",
      "0: ('unstack', ['c', 'b'])\n",
      "1: ('stack', ['c', 'a'])\n",
      "2: ('pickup', ['b'])\n",
      "3: ('putdown', ['b'])\n",
      "4: ('pickup', ['b'])\n",
      "5: ('stack', ['b', 'c'])\n",
      "\n",
      "--------------------\n",
      "0: [('handempty', []), ('on', ['a', 'b'])]\n",
      "1: [('hold', ['a'])]\n",
      "2: [('handempty', []), ('ontable', ['a'])]\n",
      "3: [('hold', ['b']), ('ontable', ['a'])]\n",
      "4: [('handempty', []), ('ontable', ['a'])]\n",
      "5: [('hold', ['b']), ('ontable', ['a'])]\n",
      "6: [('handempty', []), ('ontable', ['a'])]\n",
      "7: [('hold', ['a'])]\n",
      "8: [('handempty', [])]\n",
      "\n",
      "0: [('handempty', [])]\n",
      "1: [('hold', ['c'])]\n",
      "2: [('handempty', [])]\n",
      "3: [('hold', ['b'])]\n",
      "4: [('handempty', [])]\n",
      "5: [('hold', ['b'])]\n",
      "6: [('handempty', [])]\n",
      "7: [('hold', ['a'])]\n",
      "8: [('handempty', [])]\n",
      "\n",
      "0: [('handempty', [])]\n",
      "1: [('hold', ['c'])]\n",
      "2: [('handempty', [])]\n",
      "3: [('hold', ['b'])]\n",
      "4: [('handempty', [])]\n",
      "5: [('hold', ['b'])]\n",
      "6: [('handempty', [])]\n",
      "\n"
     ]
    }
   ],
   "source": [
    "LP = LearningProblem(input_action_seqs, input_state_seqs, \"BW-DOMAIN\")\n",
    "LP.print_action_sequences()\n",
    "print(\"-\"*20)\n",
    "LP.print_state_sequences()"
   ]
  },
  {
   "cell_type": "code",
   "execution_count": 6,
   "metadata": {},
   "outputs": [
    {
     "name": "stdout",
     "output_type": "stream",
     "text": [
      "action names:\n",
      " {'pickup', 'stack', 'unstack', 'putdown'}\n",
      "\n",
      "objects:\n",
      " {'b', 'a', 'c'}\n",
      "\n",
      "sorts of obj:\n",
      " [{'zero'}, {'a', 'b', 'c'}]\n",
      "\n",
      "transitions:\n",
      " {'putdown.0', 'stack.1', 'unstack.0', 'pickup.0', 'unstack.1', 'stack.0'}\n",
      "\n",
      "predicate names:\n",
      " {'handempty', 'on', 'hold', 'ontable'}\n"
     ]
    }
   ],
   "source": [
    "LP.print_info()"
   ]
  },
  {
   "cell_type": "code",
   "execution_count": 8,
   "metadata": {},
   "outputs": [
    {
     "name": "stdout",
     "output_type": "stream",
     "text": [
      "adding transition node unstack.handempty, args: [] and [['a', 'b']]\n",
      "adding transition node putdown.handempty, args: [] and [['a']]\n",
      "adding transition node pickup.handempty, args: [] and [['b']]\n",
      "adding transition node stack.handempty, args: [] and [['b', 'c']]\n",
      "adding transition node unstack.handempty, args: [] and [['b', 'c']]\n",
      "adding transition node stack.handempty, args: [] and [['b', 'c']]\n",
      "adding transition node pickup.handempty, args: [] and [['a']]\n",
      "adding transition node stack.handempty, args: [] and [['a', 'b']]\n",
      "adding transition node unstack.handempty, args: [] and [['c', 'b']]\n",
      "adding transition node putdown.handempty, args: [] and [['c']]\n",
      "adding transition node unstack.handempty, args: [] and [['b', 'a']]\n",
      "adding transition node putdown.handempty, args: [] and [['b']]\n",
      "adding transition node pickup.handempty, args: [] and [['b']]\n",
      "adding transition node stack.handempty, args: [] and [['b', 'c']]\n",
      "adding transition node pickup.handempty, args: [] and [['a']]\n",
      "adding transition node stack.handempty, args: [] and [['a', 'b']]\n",
      "adding transition node unstack.handempty, args: [] and [['c', 'b']]\n",
      "adding transition node stack.handempty, args: [] and [['c', 'a']]\n",
      "adding transition node pickup.handempty, args: [] and [['b']]\n",
      "adding transition node putdown.handempty, args: [] and [['b']]\n",
      "adding transition node pickup.handempty, args: [] and [['b']]\n",
      "adding transition node stack.handempty, args: [] and [['b', 'c']]\n",
      "adding transition node unstack.on, args: ['a', 'b'] and [['a', 'b']]\n",
      "adding transition node stack.on, args: ['a', 'b'] and [['a', 'b']]\n",
      "adding transition node unstack.on, args: ['a', 'b'] and [['b', 'a']]\n",
      "adding transition node stack.on, args: ['a', 'b'] and [['a', 'b']]\n",
      "adding transition node unstack.hold, args: ['a'] and [['a', 'b']]\n",
      "adding transition node putdown.hold, args: ['a'] and [['a']]\n",
      "adding transition node pickup.hold, args: ['a'] and [['a']]\n",
      "adding transition node stack.hold, args: ['a'] and [['a', 'b']]\n",
      "adding transition node unstack.hold, args: ['a'] and [['b', 'a']]\n",
      "adding transition node pickup.hold, args: ['a'] and [['a']]\n",
      "adding transition node stack.hold, args: ['a'] and [['a', 'b']]\n",
      "adding transition node stack.hold, args: ['a'] and [['c', 'a']]\n",
      "adding transition node unstack.handempty, args: [] and [['a', 'b']]\n",
      "adding transition node putdown.handempty, args: [] and [['a']]\n",
      "adding transition node pickup.handempty, args: [] and [['b']]\n",
      "adding transition node stack.handempty, args: [] and [['b', 'c']]\n",
      "adding transition node unstack.handempty, args: [] and [['b', 'c']]\n",
      "adding transition node stack.handempty, args: [] and [['b', 'c']]\n",
      "adding transition node pickup.handempty, args: [] and [['a']]\n",
      "adding transition node stack.handempty, args: [] and [['a', 'b']]\n",
      "adding transition node unstack.handempty, args: [] and [['c', 'b']]\n",
      "adding transition node putdown.handempty, args: [] and [['c']]\n",
      "adding transition node unstack.handempty, args: [] and [['b', 'a']]\n",
      "adding transition node putdown.handempty, args: [] and [['b']]\n",
      "adding transition node pickup.handempty, args: [] and [['b']]\n",
      "adding transition node stack.handempty, args: [] and [['b', 'c']]\n",
      "adding transition node pickup.handempty, args: [] and [['a']]\n",
      "adding transition node stack.handempty, args: [] and [['a', 'b']]\n",
      "adding transition node unstack.handempty, args: [] and [['c', 'b']]\n",
      "adding transition node stack.handempty, args: [] and [['c', 'a']]\n",
      "adding transition node pickup.handempty, args: [] and [['b']]\n",
      "adding transition node putdown.handempty, args: [] and [['b']]\n",
      "adding transition node pickup.handempty, args: [] and [['b']]\n",
      "adding transition node stack.handempty, args: [] and [['b', 'c']]\n",
      "adding transition node unstack.ontable, args: ['a'] and [['a', 'b']]\n",
      "adding transition node putdown.ontable, args: ['a'] and [['a']]\n",
      "adding transition node pickup.ontable, args: ['a'] and [['a']]\n",
      "adding transition node stack.ontable, args: ['a'] and [['a', 'b']]\n",
      "adding transition node unstack.ontable, args: ['a'] and [['b', 'a']]\n",
      "adding transition node pickup.ontable, args: ['a'] and [['a']]\n",
      "adding transition node stack.ontable, args: ['a'] and [['a', 'b']]\n",
      "adding transition node stack.ontable, args: ['a'] and [['c', 'a']]\n",
      "adding transition node unstack.hold, args: ['b'] and [['a', 'b']]\n",
      "adding transition node pickup.hold, args: ['b'] and [['b']]\n",
      "adding transition node stack.hold, args: ['b'] and [['b', 'c']]\n",
      "adding transition node unstack.hold, args: ['b'] and [['b', 'c']]\n",
      "adding transition node stack.hold, args: ['b'] and [['b', 'c']]\n",
      "adding transition node stack.hold, args: ['b'] and [['a', 'b']]\n",
      "adding transition node unstack.hold, args: ['b'] and [['c', 'b']]\n",
      "adding transition node unstack.hold, args: ['b'] and [['b', 'a']]\n",
      "adding transition node putdown.hold, args: ['b'] and [['b']]\n",
      "adding transition node pickup.hold, args: ['b'] and [['b']]\n",
      "adding transition node stack.hold, args: ['b'] and [['b', 'c']]\n",
      "adding transition node stack.hold, args: ['b'] and [['a', 'b']]\n",
      "adding transition node unstack.hold, args: ['b'] and [['c', 'b']]\n",
      "adding transition node pickup.hold, args: ['b'] and [['b']]\n",
      "adding transition node putdown.hold, args: ['b'] and [['b']]\n",
      "adding transition node pickup.hold, args: ['b'] and [['b']]\n",
      "adding transition node stack.hold, args: ['b'] and [['b', 'c']]\n",
      "adding transition node unstack.ontable, args: ['a'] and [['a', 'b']]\n",
      "adding transition node putdown.ontable, args: ['a'] and [['a']]\n",
      "adding transition node pickup.ontable, args: ['a'] and [['a']]\n",
      "adding transition node stack.ontable, args: ['a'] and [['a', 'b']]\n",
      "adding transition node unstack.ontable, args: ['a'] and [['b', 'a']]\n",
      "adding transition node pickup.ontable, args: ['a'] and [['a']]\n",
      "adding transition node stack.ontable, args: ['a'] and [['a', 'b']]\n",
      "adding transition node stack.ontable, args: ['a'] and [['c', 'a']]\n",
      "adding transition node unstack.handempty, args: [] and [['a', 'b']]\n",
      "adding transition node putdown.handempty, args: [] and [['a']]\n",
      "adding transition node pickup.handempty, args: [] and [['b']]\n",
      "adding transition node stack.handempty, args: [] and [['b', 'c']]\n",
      "adding transition node unstack.handempty, args: [] and [['b', 'c']]\n",
      "adding transition node stack.handempty, args: [] and [['b', 'c']]\n",
      "adding transition node pickup.handempty, args: [] and [['a']]\n",
      "adding transition node stack.handempty, args: [] and [['a', 'b']]\n",
      "adding transition node unstack.handempty, args: [] and [['c', 'b']]\n",
      "adding transition node putdown.handempty, args: [] and [['c']]\n",
      "adding transition node unstack.handempty, args: [] and [['b', 'a']]\n",
      "adding transition node putdown.handempty, args: [] and [['b']]\n",
      "adding transition node pickup.handempty, args: [] and [['b']]\n",
      "adding transition node stack.handempty, args: [] and [['b', 'c']]\n",
      "adding transition node pickup.handempty, args: [] and [['a']]\n",
      "adding transition node stack.handempty, args: [] and [['a', 'b']]\n",
      "adding transition node unstack.handempty, args: [] and [['c', 'b']]\n",
      "adding transition node stack.handempty, args: [] and [['c', 'a']]\n",
      "adding transition node pickup.handempty, args: [] and [['b']]\n",
      "adding transition node putdown.handempty, args: [] and [['b']]\n",
      "adding transition node pickup.handempty, args: [] and [['b']]\n",
      "adding transition node stack.handempty, args: [] and [['b', 'c']]\n",
      "adding transition node unstack.ontable, args: ['a'] and [['a', 'b']]\n",
      "adding transition node putdown.ontable, args: ['a'] and [['a']]\n",
      "adding transition node pickup.ontable, args: ['a'] and [['a']]\n",
      "adding transition node stack.ontable, args: ['a'] and [['a', 'b']]\n",
      "adding transition node unstack.ontable, args: ['a'] and [['b', 'a']]\n",
      "adding transition node pickup.ontable, args: ['a'] and [['a']]\n",
      "adding transition node stack.ontable, args: ['a'] and [['a', 'b']]\n",
      "adding transition node stack.ontable, args: ['a'] and [['c', 'a']]\n",
      "adding transition node unstack.hold, args: ['b'] and [['a', 'b']]\n",
      "adding transition node pickup.hold, args: ['b'] and [['b']]\n",
      "adding transition node stack.hold, args: ['b'] and [['b', 'c']]\n",
      "adding transition node unstack.hold, args: ['b'] and [['b', 'c']]\n",
      "adding transition node stack.hold, args: ['b'] and [['b', 'c']]\n",
      "adding transition node stack.hold, args: ['b'] and [['a', 'b']]\n",
      "adding transition node unstack.hold, args: ['b'] and [['c', 'b']]\n",
      "adding transition node unstack.hold, args: ['b'] and [['b', 'a']]\n",
      "adding transition node putdown.hold, args: ['b'] and [['b']]\n",
      "adding transition node pickup.hold, args: ['b'] and [['b']]\n",
      "adding transition node stack.hold, args: ['b'] and [['b', 'c']]\n",
      "adding transition node stack.hold, args: ['b'] and [['a', 'b']]\n",
      "adding transition node unstack.hold, args: ['b'] and [['c', 'b']]\n",
      "adding transition node pickup.hold, args: ['b'] and [['b']]\n",
      "adding transition node putdown.hold, args: ['b'] and [['b']]\n",
      "adding transition node pickup.hold, args: ['b'] and [['b']]\n",
      "adding transition node stack.hold, args: ['b'] and [['b', 'c']]\n",
      "adding transition node unstack.ontable, args: ['a'] and [['a', 'b']]\n",
      "adding transition node putdown.ontable, args: ['a'] and [['a']]\n",
      "adding transition node pickup.ontable, args: ['a'] and [['a']]\n",
      "adding transition node stack.ontable, args: ['a'] and [['a', 'b']]\n",
      "adding transition node unstack.ontable, args: ['a'] and [['b', 'a']]\n",
      "adding transition node pickup.ontable, args: ['a'] and [['a']]\n",
      "adding transition node stack.ontable, args: ['a'] and [['a', 'b']]\n",
      "adding transition node stack.ontable, args: ['a'] and [['c', 'a']]\n",
      "adding transition node unstack.handempty, args: [] and [['a', 'b']]\n",
      "adding transition node putdown.handempty, args: [] and [['a']]\n",
      "adding transition node pickup.handempty, args: [] and [['b']]\n",
      "adding transition node stack.handempty, args: [] and [['b', 'c']]\n",
      "adding transition node unstack.handempty, args: [] and [['b', 'c']]\n",
      "adding transition node stack.handempty, args: [] and [['b', 'c']]\n",
      "adding transition node pickup.handempty, args: [] and [['a']]\n",
      "adding transition node stack.handempty, args: [] and [['a', 'b']]\n",
      "adding transition node unstack.handempty, args: [] and [['c', 'b']]\n",
      "adding transition node putdown.handempty, args: [] and [['c']]\n",
      "adding transition node unstack.handempty, args: [] and [['b', 'a']]\n",
      "adding transition node putdown.handempty, args: [] and [['b']]\n",
      "adding transition node pickup.handempty, args: [] and [['b']]\n",
      "adding transition node stack.handempty, args: [] and [['b', 'c']]\n",
      "adding transition node pickup.handempty, args: [] and [['a']]\n",
      "adding transition node stack.handempty, args: [] and [['a', 'b']]\n",
      "adding transition node unstack.handempty, args: [] and [['c', 'b']]\n",
      "adding transition node stack.handempty, args: [] and [['c', 'a']]\n",
      "adding transition node pickup.handempty, args: [] and [['b']]\n",
      "adding transition node putdown.handempty, args: [] and [['b']]\n",
      "adding transition node pickup.handempty, args: [] and [['b']]\n",
      "adding transition node stack.handempty, args: [] and [['b', 'c']]\n",
      "adding transition node unstack.ontable, args: ['a'] and [['a', 'b']]\n",
      "adding transition node putdown.ontable, args: ['a'] and [['a']]\n",
      "adding transition node pickup.ontable, args: ['a'] and [['a']]\n",
      "adding transition node stack.ontable, args: ['a'] and [['a', 'b']]\n",
      "adding transition node unstack.ontable, args: ['a'] and [['b', 'a']]\n",
      "adding transition node pickup.ontable, args: ['a'] and [['a']]\n",
      "adding transition node stack.ontable, args: ['a'] and [['a', 'b']]\n",
      "adding transition node stack.ontable, args: ['a'] and [['c', 'a']]\n",
      "adding transition node unstack.hold, args: ['a'] and [['a', 'b']]\n",
      "adding transition node putdown.hold, args: ['a'] and [['a']]\n",
      "adding transition node pickup.hold, args: ['a'] and [['a']]\n",
      "adding transition node stack.hold, args: ['a'] and [['a', 'b']]\n",
      "adding transition node unstack.hold, args: ['a'] and [['b', 'a']]\n",
      "adding transition node pickup.hold, args: ['a'] and [['a']]\n",
      "adding transition node stack.hold, args: ['a'] and [['a', 'b']]\n",
      "adding transition node stack.hold, args: ['a'] and [['c', 'a']]\n",
      "adding transition node unstack.handempty, args: [] and [['a', 'b']]\n",
      "adding transition node putdown.handempty, args: [] and [['a']]\n",
      "adding transition node pickup.handempty, args: [] and [['b']]\n",
      "adding transition node stack.handempty, args: [] and [['b', 'c']]\n",
      "adding transition node unstack.handempty, args: [] and [['b', 'c']]\n",
      "adding transition node stack.handempty, args: [] and [['b', 'c']]\n",
      "adding transition node pickup.handempty, args: [] and [['a']]\n",
      "adding transition node stack.handempty, args: [] and [['a', 'b']]\n",
      "adding transition node unstack.handempty, args: [] and [['c', 'b']]\n",
      "adding transition node putdown.handempty, args: [] and [['c']]\n",
      "adding transition node unstack.handempty, args: [] and [['b', 'a']]\n",
      "adding transition node putdown.handempty, args: [] and [['b']]\n",
      "adding transition node pickup.handempty, args: [] and [['b']]\n",
      "adding transition node stack.handempty, args: [] and [['b', 'c']]\n",
      "adding transition node pickup.handempty, args: [] and [['a']]\n",
      "adding transition node stack.handempty, args: [] and [['a', 'b']]\n",
      "adding transition node unstack.handempty, args: [] and [['c', 'b']]\n",
      "adding transition node stack.handempty, args: [] and [['c', 'a']]\n",
      "adding transition node pickup.handempty, args: [] and [['b']]\n",
      "adding transition node putdown.handempty, args: [] and [['b']]\n",
      "adding transition node pickup.handempty, args: [] and [['b']]\n",
      "adding transition node stack.handempty, args: [] and [['b', 'c']]\n",
      "adding transition node unstack.handempty, args: [] and [['a', 'b']]\n",
      "adding transition node putdown.handempty, args: [] and [['a']]\n",
      "adding transition node pickup.handempty, args: [] and [['b']]\n",
      "adding transition node stack.handempty, args: [] and [['b', 'c']]\n",
      "adding transition node unstack.handempty, args: [] and [['b', 'c']]\n",
      "adding transition node stack.handempty, args: [] and [['b', 'c']]\n",
      "adding transition node pickup.handempty, args: [] and [['a']]\n",
      "adding transition node stack.handempty, args: [] and [['a', 'b']]\n",
      "adding transition node unstack.handempty, args: [] and [['c', 'b']]\n",
      "adding transition node putdown.handempty, args: [] and [['c']]\n",
      "adding transition node unstack.handempty, args: [] and [['b', 'a']]\n",
      "adding transition node putdown.handempty, args: [] and [['b']]\n",
      "adding transition node pickup.handempty, args: [] and [['b']]\n",
      "adding transition node stack.handempty, args: [] and [['b', 'c']]\n",
      "adding transition node pickup.handempty, args: [] and [['a']]\n",
      "adding transition node stack.handempty, args: [] and [['a', 'b']]\n",
      "adding transition node unstack.handempty, args: [] and [['c', 'b']]\n",
      "adding transition node stack.handempty, args: [] and [['c', 'a']]\n",
      "adding transition node pickup.handempty, args: [] and [['b']]\n",
      "adding transition node putdown.handempty, args: [] and [['b']]\n",
      "adding transition node pickup.handempty, args: [] and [['b']]\n",
      "adding transition node stack.handempty, args: [] and [['b', 'c']]\n",
      "adding transition node stack.hold, args: ['c'] and [['b', 'c']]\n",
      "adding transition node unstack.hold, args: ['c'] and [['b', 'c']]\n",
      "adding transition node stack.hold, args: ['c'] and [['b', 'c']]\n",
      "adding transition node unstack.hold, args: ['c'] and [['c', 'b']]\n",
      "adding transition node putdown.hold, args: ['c'] and [['c']]\n",
      "adding transition node stack.hold, args: ['c'] and [['b', 'c']]\n",
      "adding transition node unstack.hold, args: ['c'] and [['c', 'b']]\n",
      "adding transition node stack.hold, args: ['c'] and [['c', 'a']]\n",
      "adding transition node stack.hold, args: ['c'] and [['b', 'c']]\n",
      "adding transition node unstack.handempty, args: [] and [['a', 'b']]\n",
      "adding transition node putdown.handempty, args: [] and [['a']]\n",
      "adding transition node pickup.handempty, args: [] and [['b']]\n",
      "adding transition node stack.handempty, args: [] and [['b', 'c']]\n",
      "adding transition node unstack.handempty, args: [] and [['b', 'c']]\n",
      "adding transition node stack.handempty, args: [] and [['b', 'c']]\n",
      "adding transition node pickup.handempty, args: [] and [['a']]\n",
      "adding transition node stack.handempty, args: [] and [['a', 'b']]\n",
      "adding transition node unstack.handempty, args: [] and [['c', 'b']]\n",
      "adding transition node putdown.handempty, args: [] and [['c']]\n",
      "adding transition node unstack.handempty, args: [] and [['b', 'a']]\n",
      "adding transition node putdown.handempty, args: [] and [['b']]\n",
      "adding transition node pickup.handempty, args: [] and [['b']]\n",
      "adding transition node stack.handempty, args: [] and [['b', 'c']]\n",
      "adding transition node pickup.handempty, args: [] and [['a']]\n",
      "adding transition node stack.handempty, args: [] and [['a', 'b']]\n",
      "adding transition node unstack.handempty, args: [] and [['c', 'b']]\n",
      "adding transition node stack.handempty, args: [] and [['c', 'a']]\n",
      "adding transition node pickup.handempty, args: [] and [['b']]\n",
      "adding transition node putdown.handempty, args: [] and [['b']]\n",
      "adding transition node pickup.handempty, args: [] and [['b']]\n",
      "adding transition node stack.handempty, args: [] and [['b', 'c']]\n",
      "adding transition node unstack.hold, args: ['b'] and [['a', 'b']]\n",
      "adding transition node pickup.hold, args: ['b'] and [['b']]\n",
      "adding transition node stack.hold, args: ['b'] and [['b', 'c']]\n",
      "adding transition node unstack.hold, args: ['b'] and [['b', 'c']]\n",
      "adding transition node stack.hold, args: ['b'] and [['b', 'c']]\n",
      "adding transition node stack.hold, args: ['b'] and [['a', 'b']]\n",
      "adding transition node unstack.hold, args: ['b'] and [['c', 'b']]\n",
      "adding transition node unstack.hold, args: ['b'] and [['b', 'a']]\n",
      "adding transition node putdown.hold, args: ['b'] and [['b']]\n",
      "adding transition node pickup.hold, args: ['b'] and [['b']]\n",
      "adding transition node stack.hold, args: ['b'] and [['b', 'c']]\n",
      "adding transition node stack.hold, args: ['b'] and [['a', 'b']]\n",
      "adding transition node unstack.hold, args: ['b'] and [['c', 'b']]\n",
      "adding transition node pickup.hold, args: ['b'] and [['b']]\n",
      "adding transition node putdown.hold, args: ['b'] and [['b']]\n",
      "adding transition node pickup.hold, args: ['b'] and [['b']]\n",
      "adding transition node stack.hold, args: ['b'] and [['b', 'c']]\n",
      "adding transition node unstack.handempty, args: [] and [['a', 'b']]\n",
      "adding transition node putdown.handempty, args: [] and [['a']]\n",
      "adding transition node pickup.handempty, args: [] and [['b']]\n",
      "adding transition node stack.handempty, args: [] and [['b', 'c']]\n",
      "adding transition node unstack.handempty, args: [] and [['b', 'c']]\n",
      "adding transition node stack.handempty, args: [] and [['b', 'c']]\n",
      "adding transition node pickup.handempty, args: [] and [['a']]\n",
      "adding transition node stack.handempty, args: [] and [['a', 'b']]\n",
      "adding transition node unstack.handempty, args: [] and [['c', 'b']]\n",
      "adding transition node putdown.handempty, args: [] and [['c']]\n",
      "adding transition node unstack.handempty, args: [] and [['b', 'a']]\n",
      "adding transition node putdown.handempty, args: [] and [['b']]\n",
      "adding transition node pickup.handempty, args: [] and [['b']]\n",
      "adding transition node stack.handempty, args: [] and [['b', 'c']]\n",
      "adding transition node pickup.handempty, args: [] and [['a']]\n",
      "adding transition node stack.handempty, args: [] and [['a', 'b']]\n",
      "adding transition node unstack.handempty, args: [] and [['c', 'b']]\n",
      "adding transition node stack.handempty, args: [] and [['c', 'a']]\n",
      "adding transition node pickup.handempty, args: [] and [['b']]\n",
      "adding transition node putdown.handempty, args: [] and [['b']]\n",
      "adding transition node pickup.handempty, args: [] and [['b']]\n",
      "adding transition node stack.handempty, args: [] and [['b', 'c']]\n",
      "adding transition node unstack.hold, args: ['b'] and [['a', 'b']]\n",
      "adding transition node pickup.hold, args: ['b'] and [['b']]\n",
      "adding transition node stack.hold, args: ['b'] and [['b', 'c']]\n",
      "adding transition node unstack.hold, args: ['b'] and [['b', 'c']]\n",
      "adding transition node stack.hold, args: ['b'] and [['b', 'c']]\n",
      "adding transition node stack.hold, args: ['b'] and [['a', 'b']]\n",
      "adding transition node unstack.hold, args: ['b'] and [['c', 'b']]\n",
      "adding transition node unstack.hold, args: ['b'] and [['b', 'a']]\n",
      "adding transition node putdown.hold, args: ['b'] and [['b']]\n",
      "adding transition node pickup.hold, args: ['b'] and [['b']]\n",
      "adding transition node stack.hold, args: ['b'] and [['b', 'c']]\n",
      "adding transition node stack.hold, args: ['b'] and [['a', 'b']]\n",
      "adding transition node unstack.hold, args: ['b'] and [['c', 'b']]\n",
      "adding transition node pickup.hold, args: ['b'] and [['b']]\n",
      "adding transition node putdown.hold, args: ['b'] and [['b']]\n",
      "adding transition node pickup.hold, args: ['b'] and [['b']]\n",
      "adding transition node stack.hold, args: ['b'] and [['b', 'c']]\n",
      "adding transition node unstack.handempty, args: [] and [['a', 'b']]\n",
      "adding transition node putdown.handempty, args: [] and [['a']]\n",
      "adding transition node pickup.handempty, args: [] and [['b']]\n",
      "adding transition node stack.handempty, args: [] and [['b', 'c']]\n",
      "adding transition node unstack.handempty, args: [] and [['b', 'c']]\n",
      "adding transition node stack.handempty, args: [] and [['b', 'c']]\n",
      "adding transition node pickup.handempty, args: [] and [['a']]\n",
      "adding transition node stack.handempty, args: [] and [['a', 'b']]\n",
      "adding transition node unstack.handempty, args: [] and [['c', 'b']]\n",
      "adding transition node putdown.handempty, args: [] and [['c']]\n",
      "adding transition node unstack.handempty, args: [] and [['b', 'a']]\n",
      "adding transition node putdown.handempty, args: [] and [['b']]\n",
      "adding transition node pickup.handempty, args: [] and [['b']]\n",
      "adding transition node stack.handempty, args: [] and [['b', 'c']]\n",
      "adding transition node pickup.handempty, args: [] and [['a']]\n",
      "adding transition node stack.handempty, args: [] and [['a', 'b']]\n",
      "adding transition node unstack.handempty, args: [] and [['c', 'b']]\n",
      "adding transition node stack.handempty, args: [] and [['c', 'a']]\n",
      "adding transition node pickup.handempty, args: [] and [['b']]\n",
      "adding transition node putdown.handempty, args: [] and [['b']]\n",
      "adding transition node pickup.handempty, args: [] and [['b']]\n",
      "adding transition node stack.handempty, args: [] and [['b', 'c']]\n",
      "adding transition node unstack.hold, args: ['a'] and [['a', 'b']]\n",
      "adding transition node putdown.hold, args: ['a'] and [['a']]\n",
      "adding transition node pickup.hold, args: ['a'] and [['a']]\n",
      "adding transition node stack.hold, args: ['a'] and [['a', 'b']]\n",
      "adding transition node unstack.hold, args: ['a'] and [['b', 'a']]\n",
      "adding transition node pickup.hold, args: ['a'] and [['a']]\n",
      "adding transition node stack.hold, args: ['a'] and [['a', 'b']]\n",
      "adding transition node stack.hold, args: ['a'] and [['c', 'a']]\n",
      "adding transition node unstack.handempty, args: [] and [['a', 'b']]\n",
      "adding transition node putdown.handempty, args: [] and [['a']]\n",
      "adding transition node pickup.handempty, args: [] and [['b']]\n",
      "adding transition node stack.handempty, args: [] and [['b', 'c']]\n",
      "adding transition node unstack.handempty, args: [] and [['b', 'c']]\n",
      "adding transition node stack.handempty, args: [] and [['b', 'c']]\n",
      "adding transition node pickup.handempty, args: [] and [['a']]\n",
      "adding transition node stack.handempty, args: [] and [['a', 'b']]\n",
      "adding transition node unstack.handempty, args: [] and [['c', 'b']]\n",
      "adding transition node putdown.handempty, args: [] and [['c']]\n",
      "adding transition node unstack.handempty, args: [] and [['b', 'a']]\n",
      "adding transition node putdown.handempty, args: [] and [['b']]\n",
      "adding transition node pickup.handempty, args: [] and [['b']]\n",
      "adding transition node stack.handempty, args: [] and [['b', 'c']]\n",
      "adding transition node pickup.handempty, args: [] and [['a']]\n",
      "adding transition node stack.handempty, args: [] and [['a', 'b']]\n",
      "adding transition node unstack.handempty, args: [] and [['c', 'b']]\n",
      "adding transition node stack.handempty, args: [] and [['c', 'a']]\n",
      "adding transition node pickup.handempty, args: [] and [['b']]\n",
      "adding transition node putdown.handempty, args: [] and [['b']]\n",
      "adding transition node pickup.handempty, args: [] and [['b']]\n",
      "adding transition node stack.handempty, args: [] and [['b', 'c']]\n",
      "adding transition node unstack.handempty, args: [] and [['a', 'b']]\n",
      "adding transition node putdown.handempty, args: [] and [['a']]\n",
      "adding transition node pickup.handempty, args: [] and [['b']]\n",
      "adding transition node stack.handempty, args: [] and [['b', 'c']]\n",
      "adding transition node unstack.handempty, args: [] and [['b', 'c']]\n",
      "adding transition node stack.handempty, args: [] and [['b', 'c']]\n",
      "adding transition node pickup.handempty, args: [] and [['a']]\n",
      "adding transition node stack.handempty, args: [] and [['a', 'b']]\n",
      "adding transition node unstack.handempty, args: [] and [['c', 'b']]\n",
      "adding transition node putdown.handempty, args: [] and [['c']]\n",
      "adding transition node unstack.handempty, args: [] and [['b', 'a']]\n",
      "adding transition node putdown.handempty, args: [] and [['b']]\n",
      "adding transition node pickup.handempty, args: [] and [['b']]\n",
      "adding transition node stack.handempty, args: [] and [['b', 'c']]\n",
      "adding transition node pickup.handempty, args: [] and [['a']]\n",
      "adding transition node stack.handempty, args: [] and [['a', 'b']]\n",
      "adding transition node unstack.handempty, args: [] and [['c', 'b']]\n",
      "adding transition node stack.handempty, args: [] and [['c', 'a']]\n",
      "adding transition node pickup.handempty, args: [] and [['b']]\n",
      "adding transition node putdown.handempty, args: [] and [['b']]\n",
      "adding transition node pickup.handempty, args: [] and [['b']]\n",
      "adding transition node stack.handempty, args: [] and [['b', 'c']]\n",
      "adding transition node stack.hold, args: ['c'] and [['b', 'c']]\n",
      "adding transition node unstack.hold, args: ['c'] and [['b', 'c']]\n",
      "adding transition node stack.hold, args: ['c'] and [['b', 'c']]\n",
      "adding transition node unstack.hold, args: ['c'] and [['c', 'b']]\n",
      "adding transition node putdown.hold, args: ['c'] and [['c']]\n",
      "adding transition node stack.hold, args: ['c'] and [['b', 'c']]\n",
      "adding transition node unstack.hold, args: ['c'] and [['c', 'b']]\n",
      "adding transition node stack.hold, args: ['c'] and [['c', 'a']]\n",
      "adding transition node stack.hold, args: ['c'] and [['b', 'c']]\n",
      "adding transition node unstack.handempty, args: [] and [['a', 'b']]\n",
      "adding transition node putdown.handempty, args: [] and [['a']]\n",
      "adding transition node pickup.handempty, args: [] and [['b']]\n",
      "adding transition node stack.handempty, args: [] and [['b', 'c']]\n",
      "adding transition node unstack.handempty, args: [] and [['b', 'c']]\n",
      "adding transition node stack.handempty, args: [] and [['b', 'c']]\n",
      "adding transition node pickup.handempty, args: [] and [['a']]\n",
      "adding transition node stack.handempty, args: [] and [['a', 'b']]\n",
      "adding transition node unstack.handempty, args: [] and [['c', 'b']]\n",
      "adding transition node putdown.handempty, args: [] and [['c']]\n",
      "adding transition node unstack.handempty, args: [] and [['b', 'a']]\n",
      "adding transition node putdown.handempty, args: [] and [['b']]\n",
      "adding transition node pickup.handempty, args: [] and [['b']]\n",
      "adding transition node stack.handempty, args: [] and [['b', 'c']]\n",
      "adding transition node pickup.handempty, args: [] and [['a']]\n",
      "adding transition node stack.handempty, args: [] and [['a', 'b']]\n",
      "adding transition node unstack.handempty, args: [] and [['c', 'b']]\n",
      "adding transition node stack.handempty, args: [] and [['c', 'a']]\n",
      "adding transition node pickup.handempty, args: [] and [['b']]\n",
      "adding transition node putdown.handempty, args: [] and [['b']]\n",
      "adding transition node pickup.handempty, args: [] and [['b']]\n",
      "adding transition node stack.handempty, args: [] and [['b', 'c']]\n",
      "adding transition node unstack.hold, args: ['b'] and [['a', 'b']]\n",
      "adding transition node pickup.hold, args: ['b'] and [['b']]\n",
      "adding transition node stack.hold, args: ['b'] and [['b', 'c']]\n",
      "adding transition node unstack.hold, args: ['b'] and [['b', 'c']]\n",
      "adding transition node stack.hold, args: ['b'] and [['b', 'c']]\n",
      "adding transition node stack.hold, args: ['b'] and [['a', 'b']]\n",
      "adding transition node unstack.hold, args: ['b'] and [['c', 'b']]\n",
      "adding transition node unstack.hold, args: ['b'] and [['b', 'a']]\n",
      "adding transition node putdown.hold, args: ['b'] and [['b']]\n",
      "adding transition node pickup.hold, args: ['b'] and [['b']]\n",
      "adding transition node stack.hold, args: ['b'] and [['b', 'c']]\n",
      "adding transition node stack.hold, args: ['b'] and [['a', 'b']]\n",
      "adding transition node unstack.hold, args: ['b'] and [['c', 'b']]\n",
      "adding transition node pickup.hold, args: ['b'] and [['b']]\n",
      "adding transition node putdown.hold, args: ['b'] and [['b']]\n",
      "adding transition node pickup.hold, args: ['b'] and [['b']]\n",
      "adding transition node stack.hold, args: ['b'] and [['b', 'c']]\n",
      "adding transition node unstack.handempty, args: [] and [['a', 'b']]\n",
      "adding transition node putdown.handempty, args: [] and [['a']]\n",
      "adding transition node pickup.handempty, args: [] and [['b']]\n",
      "adding transition node stack.handempty, args: [] and [['b', 'c']]\n",
      "adding transition node unstack.handempty, args: [] and [['b', 'c']]\n",
      "adding transition node stack.handempty, args: [] and [['b', 'c']]\n",
      "adding transition node pickup.handempty, args: [] and [['a']]\n",
      "adding transition node stack.handempty, args: [] and [['a', 'b']]\n",
      "adding transition node unstack.handempty, args: [] and [['c', 'b']]\n",
      "adding transition node putdown.handempty, args: [] and [['c']]\n",
      "adding transition node unstack.handempty, args: [] and [['b', 'a']]\n",
      "adding transition node putdown.handempty, args: [] and [['b']]\n",
      "adding transition node pickup.handempty, args: [] and [['b']]\n",
      "adding transition node stack.handempty, args: [] and [['b', 'c']]\n",
      "adding transition node pickup.handempty, args: [] and [['a']]\n",
      "adding transition node stack.handempty, args: [] and [['a', 'b']]\n",
      "adding transition node unstack.handempty, args: [] and [['c', 'b']]\n",
      "adding transition node stack.handempty, args: [] and [['c', 'a']]\n",
      "adding transition node pickup.handempty, args: [] and [['b']]\n",
      "adding transition node putdown.handempty, args: [] and [['b']]\n",
      "adding transition node pickup.handempty, args: [] and [['b']]\n",
      "adding transition node stack.handempty, args: [] and [['b', 'c']]\n",
      "adding transition node unstack.hold, args: ['b'] and [['a', 'b']]\n",
      "adding transition node pickup.hold, args: ['b'] and [['b']]\n",
      "adding transition node stack.hold, args: ['b'] and [['b', 'c']]\n",
      "adding transition node unstack.hold, args: ['b'] and [['b', 'c']]\n",
      "adding transition node stack.hold, args: ['b'] and [['b', 'c']]\n",
      "adding transition node stack.hold, args: ['b'] and [['a', 'b']]\n",
      "adding transition node unstack.hold, args: ['b'] and [['c', 'b']]\n",
      "adding transition node unstack.hold, args: ['b'] and [['b', 'a']]\n",
      "adding transition node putdown.hold, args: ['b'] and [['b']]\n",
      "adding transition node pickup.hold, args: ['b'] and [['b']]\n",
      "adding transition node stack.hold, args: ['b'] and [['b', 'c']]\n",
      "adding transition node stack.hold, args: ['b'] and [['a', 'b']]\n",
      "adding transition node unstack.hold, args: ['b'] and [['c', 'b']]\n",
      "adding transition node pickup.hold, args: ['b'] and [['b']]\n",
      "adding transition node putdown.hold, args: ['b'] and [['b']]\n",
      "adding transition node pickup.hold, args: ['b'] and [['b']]\n",
      "adding transition node stack.hold, args: ['b'] and [['b', 'c']]\n",
      "adding transition node unstack.handempty, args: [] and [['a', 'b']]\n",
      "adding transition node putdown.handempty, args: [] and [['a']]\n",
      "adding transition node pickup.handempty, args: [] and [['b']]\n",
      "adding transition node stack.handempty, args: [] and [['b', 'c']]\n",
      "adding transition node unstack.handempty, args: [] and [['b', 'c']]\n",
      "adding transition node stack.handempty, args: [] and [['b', 'c']]\n",
      "adding transition node pickup.handempty, args: [] and [['a']]\n",
      "adding transition node stack.handempty, args: [] and [['a', 'b']]\n",
      "adding transition node unstack.handempty, args: [] and [['c', 'b']]\n",
      "adding transition node putdown.handempty, args: [] and [['c']]\n",
      "adding transition node unstack.handempty, args: [] and [['b', 'a']]\n",
      "adding transition node putdown.handempty, args: [] and [['b']]\n",
      "adding transition node pickup.handempty, args: [] and [['b']]\n",
      "adding transition node stack.handempty, args: [] and [['b', 'c']]\n",
      "adding transition node pickup.handempty, args: [] and [['a']]\n",
      "adding transition node stack.handempty, args: [] and [['a', 'b']]\n",
      "adding transition node unstack.handempty, args: [] and [['c', 'b']]\n",
      "adding transition node stack.handempty, args: [] and [['c', 'a']]\n",
      "adding transition node pickup.handempty, args: [] and [['b']]\n",
      "adding transition node putdown.handempty, args: [] and [['b']]\n",
      "adding transition node pickup.handempty, args: [] and [['b']]\n",
      "adding transition node stack.handempty, args: [] and [['b', 'c']]\n"
     ]
    },
    {
     "data": {
      "text/markdown": [
       "## class **zero**"
      ],
      "text/plain": [
       "<IPython.core.display.Markdown object>"
      ]
     },
     "metadata": {},
     "output_type": "display_data"
    },
    {
     "data": {
      "text/html": [
       "<table>\n",
       "<thead>\n",
       "<tr><th>          </th><th style=\"text-align: right;\">  unstack.-1</th><th style=\"text-align: right;\">  putdown.-1</th><th style=\"text-align: right;\">  pickup.-1</th><th style=\"text-align: right;\">  stack.-1</th></tr>\n",
       "</thead>\n",
       "<tbody>\n",
       "<tr><td>unstack.-1</td><td style=\"text-align: right;\">           0</td><td style=\"text-align: right;\">           3</td><td style=\"text-align: right;\">          0</td><td style=\"text-align: right;\">         2</td></tr>\n",
       "<tr><td>putdown.-1</td><td style=\"text-align: right;\">           1</td><td style=\"text-align: right;\">           0</td><td style=\"text-align: right;\">          3</td><td style=\"text-align: right;\">         0</td></tr>\n",
       "<tr><td>pickup.-1 </td><td style=\"text-align: right;\">           0</td><td style=\"text-align: right;\">           1</td><td style=\"text-align: right;\">          0</td><td style=\"text-align: right;\">         5</td></tr>\n",
       "<tr><td>stack.-1  </td><td style=\"text-align: right;\">           1</td><td style=\"text-align: right;\">           0</td><td style=\"text-align: right;\">          3</td><td style=\"text-align: right;\">         0</td></tr>\n",
       "</tbody>\n",
       "</table>"
      ],
      "text/plain": [
       "'<table>\\n<thead>\\n<tr><th>          </th><th style=\"text-align: right;\">  unstack.-1</th><th style=\"text-align: right;\">  putdown.-1</th><th style=\"text-align: right;\">  pickup.-1</th><th style=\"text-align: right;\">  stack.-1</th></tr>\\n</thead>\\n<tbody>\\n<tr><td>unstack.-1</td><td style=\"text-align: right;\">           0</td><td style=\"text-align: right;\">           3</td><td style=\"text-align: right;\">          0</td><td style=\"text-align: right;\">         2</td></tr>\\n<tr><td>putdown.-1</td><td style=\"text-align: right;\">           1</td><td style=\"text-align: right;\">           0</td><td style=\"text-align: right;\">          3</td><td style=\"text-align: right;\">         0</td></tr>\\n<tr><td>pickup.-1 </td><td style=\"text-align: right;\">           0</td><td style=\"text-align: right;\">           1</td><td style=\"text-align: right;\">          0</td><td style=\"text-align: right;\">         5</td></tr>\\n<tr><td>stack.-1  </td><td style=\"text-align: right;\">           1</td><td style=\"text-align: right;\">           0</td><td style=\"text-align: right;\">          3</td><td style=\"text-align: right;\">         0</td></tr>\\n</tbody>\\n</table>'"
      ]
     },
     "metadata": {},
     "output_type": "display_data"
    },
    {
     "data": {
      "application/vnd.jupyter.widget-view+json": {
       "model_id": "6a68018af39f4859a12c434c257c3dd1",
       "version_major": 2,
       "version_minor": 0
      },
      "text/plain": [
       "CytoscapeWidget(cytoscape_layout={'name': 'cola'}, cytoscape_style=[{'width': 400, 'height': 400, 'selector': …"
      ]
     },
     "metadata": {},
     "output_type": "display_data"
    },
    {
     "data": {
      "text/markdown": [
       "## class **a**"
      ],
      "text/plain": [
       "<IPython.core.display.Markdown object>"
      ]
     },
     "metadata": {},
     "output_type": "display_data"
    },
    {
     "data": {
      "text/html": [
       "<table>\n",
       "<thead>\n",
       "<tr><th>         </th><th style=\"text-align: right;\">  unstack.1</th><th style=\"text-align: right;\">  pickup.0</th><th style=\"text-align: right;\">  stack.0</th><th style=\"text-align: right;\">  unstack.0</th><th style=\"text-align: right;\">  stack.1</th><th style=\"text-align: right;\">  putdown.0</th></tr>\n",
       "</thead>\n",
       "<tbody>\n",
       "<tr><td>unstack.1</td><td style=\"text-align: right;\">          0</td><td style=\"text-align: right;\">         3</td><td style=\"text-align: right;\">        0</td><td style=\"text-align: right;\">          1</td><td style=\"text-align: right;\">        1</td><td style=\"text-align: right;\">          0</td></tr>\n",
       "<tr><td>pickup.0 </td><td style=\"text-align: right;\">          0</td><td style=\"text-align: right;\">         0</td><td style=\"text-align: right;\">        5</td><td style=\"text-align: right;\">          0</td><td style=\"text-align: right;\">        0</td><td style=\"text-align: right;\">          1</td></tr>\n",
       "<tr><td>stack.0  </td><td style=\"text-align: right;\">          0</td><td style=\"text-align: right;\">         0</td><td style=\"text-align: right;\">        0</td><td style=\"text-align: right;\">          1</td><td style=\"text-align: right;\">        3</td><td style=\"text-align: right;\">          0</td></tr>\n",
       "<tr><td>unstack.0</td><td style=\"text-align: right;\">          0</td><td style=\"text-align: right;\">         0</td><td style=\"text-align: right;\">        2</td><td style=\"text-align: right;\">          0</td><td style=\"text-align: right;\">        0</td><td style=\"text-align: right;\">          3</td></tr>\n",
       "<tr><td>stack.1  </td><td style=\"text-align: right;\">          1</td><td style=\"text-align: right;\">         0</td><td style=\"text-align: right;\">        0</td><td style=\"text-align: right;\">          0</td><td style=\"text-align: right;\">        0</td><td style=\"text-align: right;\">          0</td></tr>\n",
       "<tr><td>putdown.0</td><td style=\"text-align: right;\">          0</td><td style=\"text-align: right;\">         3</td><td style=\"text-align: right;\">        0</td><td style=\"text-align: right;\">          0</td><td style=\"text-align: right;\">        1</td><td style=\"text-align: right;\">          0</td></tr>\n",
       "</tbody>\n",
       "</table>"
      ],
      "text/plain": [
       "'<table>\\n<thead>\\n<tr><th>         </th><th style=\"text-align: right;\">  unstack.1</th><th style=\"text-align: right;\">  pickup.0</th><th style=\"text-align: right;\">  stack.0</th><th style=\"text-align: right;\">  unstack.0</th><th style=\"text-align: right;\">  stack.1</th><th style=\"text-align: right;\">  putdown.0</th></tr>\\n</thead>\\n<tbody>\\n<tr><td>unstack.1</td><td style=\"text-align: right;\">          0</td><td style=\"text-align: right;\">         3</td><td style=\"text-align: right;\">        0</td><td style=\"text-align: right;\">          1</td><td style=\"text-align: right;\">        1</td><td style=\"text-align: right;\">          0</td></tr>\\n<tr><td>pickup.0 </td><td style=\"text-align: right;\">          0</td><td style=\"text-align: right;\">         0</td><td style=\"text-align: right;\">        5</td><td style=\"text-align: right;\">          0</td><td style=\"text-align: right;\">        0</td><td style=\"text-align: right;\">          1</td></tr>\\n<tr><td>stack.0  </td><td style=\"text-align: right;\">          0</td><td style=\"text-align: right;\">         0</td><td style=\"text-align: right;\">        0</td><td style=\"text-align: right;\">          1</td><td style=\"text-align: right;\">        3</td><td style=\"text-align: right;\">          0</td></tr>\\n<tr><td>unstack.0</td><td style=\"text-align: right;\">          0</td><td style=\"text-align: right;\">         0</td><td style=\"text-align: right;\">        2</td><td style=\"text-align: right;\">          0</td><td style=\"text-align: right;\">        0</td><td style=\"text-align: right;\">          3</td></tr>\\n<tr><td>stack.1  </td><td style=\"text-align: right;\">          1</td><td style=\"text-align: right;\">         0</td><td style=\"text-align: right;\">        0</td><td style=\"text-align: right;\">          0</td><td style=\"text-align: right;\">        0</td><td style=\"text-align: right;\">          0</td></tr>\\n<tr><td>putdown.0</td><td style=\"text-align: right;\">          0</td><td style=\"text-align: right;\">         3</td><td style=\"text-align: right;\">        0</td><td style=\"text-align: right;\">          0</td><td style=\"text-align: right;\">        1</td><td style=\"text-align: right;\">          0</td></tr>\\n</tbody>\\n</table>'"
      ]
     },
     "metadata": {},
     "output_type": "display_data"
    },
    {
     "data": {
      "application/vnd.jupyter.widget-view+json": {
       "model_id": "a000f8756bb14961b985113aa53ee1ee",
       "version_major": 2,
       "version_minor": 0
      },
      "text/plain": [
       "CytoscapeWidget(cytoscape_layout={'name': 'cola'}, cytoscape_style=[{'width': 400, 'height': 400, 'selector': …"
      ]
     },
     "metadata": {},
     "output_type": "display_data"
    },
    {
     "data": {
      "text/markdown": [
       "## class **handempty**"
      ],
      "text/plain": [
       "<IPython.core.display.Markdown object>"
      ]
     },
     "metadata": {},
     "output_type": "display_data"
    },
    {
     "data": {
      "text/html": [
       "<table>\n",
       "<thead>\n",
       "<tr><th>                 </th><th style=\"text-align: right;\">  unstack.handempty</th><th style=\"text-align: right;\">  putdown.handempty</th><th style=\"text-align: right;\">  pickup.handempty</th><th style=\"text-align: right;\">  stack.handempty</th></tr>\n",
       "</thead>\n",
       "<tbody>\n",
       "<tr><td>unstack.handempty</td><td style=\"text-align: right;\">                  0</td><td style=\"text-align: right;\">                 42</td><td style=\"text-align: right;\">                 0</td><td style=\"text-align: right;\">               28</td></tr>\n",
       "<tr><td>putdown.handempty</td><td style=\"text-align: right;\">                 14</td><td style=\"text-align: right;\">                  0</td><td style=\"text-align: right;\">                42</td><td style=\"text-align: right;\">                0</td></tr>\n",
       "<tr><td>pickup.handempty </td><td style=\"text-align: right;\">                  0</td><td style=\"text-align: right;\">                 14</td><td style=\"text-align: right;\">                 0</td><td style=\"text-align: right;\">               70</td></tr>\n",
       "<tr><td>stack.handempty  </td><td style=\"text-align: right;\">                 14</td><td style=\"text-align: right;\">                  0</td><td style=\"text-align: right;\">                42</td><td style=\"text-align: right;\">                0</td></tr>\n",
       "</tbody>\n",
       "</table>"
      ],
      "text/plain": [
       "'<table>\\n<thead>\\n<tr><th>                 </th><th style=\"text-align: right;\">  unstack.handempty</th><th style=\"text-align: right;\">  putdown.handempty</th><th style=\"text-align: right;\">  pickup.handempty</th><th style=\"text-align: right;\">  stack.handempty</th></tr>\\n</thead>\\n<tbody>\\n<tr><td>unstack.handempty</td><td style=\"text-align: right;\">                  0</td><td style=\"text-align: right;\">                 42</td><td style=\"text-align: right;\">                 0</td><td style=\"text-align: right;\">               28</td></tr>\\n<tr><td>putdown.handempty</td><td style=\"text-align: right;\">                 14</td><td style=\"text-align: right;\">                  0</td><td style=\"text-align: right;\">                42</td><td style=\"text-align: right;\">                0</td></tr>\\n<tr><td>pickup.handempty </td><td style=\"text-align: right;\">                  0</td><td style=\"text-align: right;\">                 14</td><td style=\"text-align: right;\">                 0</td><td style=\"text-align: right;\">               70</td></tr>\\n<tr><td>stack.handempty  </td><td style=\"text-align: right;\">                 14</td><td style=\"text-align: right;\">                  0</td><td style=\"text-align: right;\">                42</td><td style=\"text-align: right;\">                0</td></tr>\\n</tbody>\\n</table>'"
      ]
     },
     "metadata": {},
     "output_type": "display_data"
    },
    {
     "data": {
      "application/vnd.jupyter.widget-view+json": {
       "model_id": "42e2f0b6856c475db9cbbe0fd2835023",
       "version_major": 2,
       "version_minor": 0
      },
      "text/plain": [
       "CytoscapeWidget(cytoscape_layout={'name': 'cola'}, cytoscape_style=[{'width': 400, 'height': 400, 'selector': …"
      ]
     },
     "metadata": {},
     "output_type": "display_data"
    },
    {
     "data": {
      "text/markdown": [
       "## class **on**"
      ],
      "text/plain": [
       "<IPython.core.display.Markdown object>"
      ]
     },
     "metadata": {},
     "output_type": "display_data"
    },
    {
     "data": {
      "text/html": [
       "<table>\n",
       "<thead>\n",
       "<tr><th>          </th><th style=\"text-align: right;\">  unstack.on</th><th style=\"text-align: right;\">  stack.on</th></tr>\n",
       "</thead>\n",
       "<tbody>\n",
       "<tr><td>unstack.on</td><td style=\"text-align: right;\">           0</td><td style=\"text-align: right;\">         2</td></tr>\n",
       "<tr><td>stack.on  </td><td style=\"text-align: right;\">           0</td><td style=\"text-align: right;\">         0</td></tr>\n",
       "</tbody>\n",
       "</table>"
      ],
      "text/plain": [
       "'<table>\\n<thead>\\n<tr><th>          </th><th style=\"text-align: right;\">  unstack.on</th><th style=\"text-align: right;\">  stack.on</th></tr>\\n</thead>\\n<tbody>\\n<tr><td>unstack.on</td><td style=\"text-align: right;\">           0</td><td style=\"text-align: right;\">         2</td></tr>\\n<tr><td>stack.on  </td><td style=\"text-align: right;\">           0</td><td style=\"text-align: right;\">         0</td></tr>\\n</tbody>\\n</table>'"
      ]
     },
     "metadata": {},
     "output_type": "display_data"
    },
    {
     "data": {
      "application/vnd.jupyter.widget-view+json": {
       "model_id": "78e32d46d4f645ae9faef0213d027850",
       "version_major": 2,
       "version_minor": 0
      },
      "text/plain": [
       "CytoscapeWidget(cytoscape_layout={'name': 'cola'}, cytoscape_style=[{'width': 400, 'height': 400, 'selector': …"
      ]
     },
     "metadata": {},
     "output_type": "display_data"
    },
    {
     "data": {
      "text/markdown": [
       "## class **hold**"
      ],
      "text/plain": [
       "<IPython.core.display.Markdown object>"
      ]
     },
     "metadata": {},
     "output_type": "display_data"
    },
    {
     "data": {
      "text/html": [
       "<table>\n",
       "<thead>\n",
       "<tr><th>            </th><th style=\"text-align: right;\">  unstack.hold</th><th style=\"text-align: right;\">  putdown.hold</th><th style=\"text-align: right;\">  pickup.hold</th><th style=\"text-align: right;\">  stack.hold</th></tr>\n",
       "</thead>\n",
       "<tbody>\n",
       "<tr><td>unstack.hold</td><td style=\"text-align: right;\">             6</td><td style=\"text-align: right;\">            11</td><td style=\"text-align: right;\">           15</td><td style=\"text-align: right;\">          10</td></tr>\n",
       "<tr><td>putdown.hold</td><td style=\"text-align: right;\">             0</td><td style=\"text-align: right;\">             0</td><td style=\"text-align: right;\">           15</td><td style=\"text-align: right;\">           2</td></tr>\n",
       "<tr><td>pickup.hold </td><td style=\"text-align: right;\">             0</td><td style=\"text-align: right;\">             6</td><td style=\"text-align: right;\">            0</td><td style=\"text-align: right;\">          24</td></tr>\n",
       "<tr><td>stack.hold  </td><td style=\"text-align: right;\">             8</td><td style=\"text-align: right;\">             0</td><td style=\"text-align: right;\">            0</td><td style=\"text-align: right;\">          14</td></tr>\n",
       "</tbody>\n",
       "</table>"
      ],
      "text/plain": [
       "'<table>\\n<thead>\\n<tr><th>            </th><th style=\"text-align: right;\">  unstack.hold</th><th style=\"text-align: right;\">  putdown.hold</th><th style=\"text-align: right;\">  pickup.hold</th><th style=\"text-align: right;\">  stack.hold</th></tr>\\n</thead>\\n<tbody>\\n<tr><td>unstack.hold</td><td style=\"text-align: right;\">             6</td><td style=\"text-align: right;\">            11</td><td style=\"text-align: right;\">           15</td><td style=\"text-align: right;\">          10</td></tr>\\n<tr><td>putdown.hold</td><td style=\"text-align: right;\">             0</td><td style=\"text-align: right;\">             0</td><td style=\"text-align: right;\">           15</td><td style=\"text-align: right;\">           2</td></tr>\\n<tr><td>pickup.hold </td><td style=\"text-align: right;\">             0</td><td style=\"text-align: right;\">             6</td><td style=\"text-align: right;\">            0</td><td style=\"text-align: right;\">          24</td></tr>\\n<tr><td>stack.hold  </td><td style=\"text-align: right;\">             8</td><td style=\"text-align: right;\">             0</td><td style=\"text-align: right;\">            0</td><td style=\"text-align: right;\">          14</td></tr>\\n</tbody>\\n</table>'"
      ]
     },
     "metadata": {},
     "output_type": "display_data"
    },
    {
     "data": {
      "application/vnd.jupyter.widget-view+json": {
       "model_id": "b666eac2ef8a44cb8bc933c504b73b17",
       "version_major": 2,
       "version_minor": 0
      },
      "text/plain": [
       "CytoscapeWidget(cytoscape_layout={'name': 'cola'}, cytoscape_style=[{'width': 400, 'height': 400, 'selector': …"
      ]
     },
     "metadata": {},
     "output_type": "display_data"
    },
    {
     "data": {
      "text/markdown": [
       "## class **ontable**"
      ],
      "text/plain": [
       "<IPython.core.display.Markdown object>"
      ]
     },
     "metadata": {},
     "output_type": "display_data"
    },
    {
     "data": {
      "text/html": [
       "<table>\n",
       "<thead>\n",
       "<tr><th>               </th><th style=\"text-align: right;\">  unstack.ontable</th><th style=\"text-align: right;\">  putdown.ontable</th><th style=\"text-align: right;\">  pickup.ontable</th><th style=\"text-align: right;\">  stack.ontable</th></tr>\n",
       "</thead>\n",
       "<tbody>\n",
       "<tr><td>unstack.ontable</td><td style=\"text-align: right;\">                0</td><td style=\"text-align: right;\">                5</td><td style=\"text-align: right;\">               5</td><td style=\"text-align: right;\">              0</td></tr>\n",
       "<tr><td>putdown.ontable</td><td style=\"text-align: right;\">                0</td><td style=\"text-align: right;\">                0</td><td style=\"text-align: right;\">               5</td><td style=\"text-align: right;\">              0</td></tr>\n",
       "<tr><td>pickup.ontable </td><td style=\"text-align: right;\">                0</td><td style=\"text-align: right;\">                0</td><td style=\"text-align: right;\">               0</td><td style=\"text-align: right;\">             10</td></tr>\n",
       "<tr><td>stack.ontable  </td><td style=\"text-align: right;\">                0</td><td style=\"text-align: right;\">                0</td><td style=\"text-align: right;\">               0</td><td style=\"text-align: right;\">              0</td></tr>\n",
       "</tbody>\n",
       "</table>"
      ],
      "text/plain": [
       "'<table>\\n<thead>\\n<tr><th>               </th><th style=\"text-align: right;\">  unstack.ontable</th><th style=\"text-align: right;\">  putdown.ontable</th><th style=\"text-align: right;\">  pickup.ontable</th><th style=\"text-align: right;\">  stack.ontable</th></tr>\\n</thead>\\n<tbody>\\n<tr><td>unstack.ontable</td><td style=\"text-align: right;\">                0</td><td style=\"text-align: right;\">                5</td><td style=\"text-align: right;\">               5</td><td style=\"text-align: right;\">              0</td></tr>\\n<tr><td>putdown.ontable</td><td style=\"text-align: right;\">                0</td><td style=\"text-align: right;\">                0</td><td style=\"text-align: right;\">               5</td><td style=\"text-align: right;\">              0</td></tr>\\n<tr><td>pickup.ontable </td><td style=\"text-align: right;\">                0</td><td style=\"text-align: right;\">                0</td><td style=\"text-align: right;\">               0</td><td style=\"text-align: right;\">             10</td></tr>\\n<tr><td>stack.ontable  </td><td style=\"text-align: right;\">                0</td><td style=\"text-align: right;\">                0</td><td style=\"text-align: right;\">               0</td><td style=\"text-align: right;\">              0</td></tr>\\n</tbody>\\n</table>'"
      ]
     },
     "metadata": {},
     "output_type": "display_data"
    },
    {
     "data": {
      "application/vnd.jupyter.widget-view+json": {
       "model_id": "ee1f217121864c4a823020ee181b98a8",
       "version_major": 2,
       "version_minor": 0
      },
      "text/plain": [
       "CytoscapeWidget(cytoscape_layout={'name': 'cola'}, cytoscape_style=[{'width': 400, 'height': 400, 'selector': …"
      ]
     },
     "metadata": {},
     "output_type": "display_data"
    }
   ],
   "source": [
    "LP.build_transition_graphs()"
   ]
  },
  {
   "cell_type": "code",
   "execution_count": 9,
   "metadata": {},
   "outputs": [
    {
     "name": "stdout",
     "output_type": "stream",
     "text": [
      "2\n",
      "2\n"
     ]
    },
    {
     "name": "stderr",
     "output_type": "stream",
     "text": [
      "/home/uto/anu/codes/xLOCM/src/sequence.py:388: FutureWarning: Setting an item of incompatible dtype is deprecated and will raise an error in a future version of pandas. Value 'hole' has dtype incompatible with int64, please explicitly cast to a compatible dtype first.\n",
      "  elif row1.iloc[col] == 0 and row2.iloc[col] > 0:\n",
      "/home/uto/anu/codes/xLOCM/src/sequence.py:388: FutureWarning: Setting an item of incompatible dtype is deprecated and will raise an error in a future version of pandas. Value 'hole' has dtype incompatible with int64, please explicitly cast to a compatible dtype first.\n",
      "  elif row1.iloc[col] == 0 and row2.iloc[col] > 0:\n"
     ]
    },
    {
     "data": {
      "text/markdown": [
       "\n",
       "#### zero"
      ],
      "text/plain": [
       "<IPython.core.display.Markdown object>"
      ]
     },
     "metadata": {},
     "output_type": "display_data"
    },
    {
     "data": {
      "text/html": [
       "<table>\n",
       "<thead>\n",
       "<tr><th>          </th><th style=\"text-align: right;\">  unstack.-1</th><th style=\"text-align: right;\">  putdown.-1</th><th style=\"text-align: right;\">  pickup.-1</th><th style=\"text-align: right;\">  stack.-1</th></tr>\n",
       "</thead>\n",
       "<tbody>\n",
       "<tr><td>unstack.-1</td><td style=\"text-align: right;\">           0</td><td style=\"text-align: right;\">           3</td><td style=\"text-align: right;\">          0</td><td style=\"text-align: right;\">         2</td></tr>\n",
       "<tr><td>putdown.-1</td><td style=\"text-align: right;\">           1</td><td style=\"text-align: right;\">           0</td><td style=\"text-align: right;\">          3</td><td style=\"text-align: right;\">         0</td></tr>\n",
       "<tr><td>pickup.-1 </td><td style=\"text-align: right;\">           0</td><td style=\"text-align: right;\">           1</td><td style=\"text-align: right;\">          0</td><td style=\"text-align: right;\">         5</td></tr>\n",
       "<tr><td>stack.-1  </td><td style=\"text-align: right;\">           1</td><td style=\"text-align: right;\">           0</td><td style=\"text-align: right;\">          3</td><td style=\"text-align: right;\">         0</td></tr>\n",
       "</tbody>\n",
       "</table>"
      ],
      "text/plain": [
       "'<table>\\n<thead>\\n<tr><th>          </th><th style=\"text-align: right;\">  unstack.-1</th><th style=\"text-align: right;\">  putdown.-1</th><th style=\"text-align: right;\">  pickup.-1</th><th style=\"text-align: right;\">  stack.-1</th></tr>\\n</thead>\\n<tbody>\\n<tr><td>unstack.-1</td><td style=\"text-align: right;\">           0</td><td style=\"text-align: right;\">           3</td><td style=\"text-align: right;\">          0</td><td style=\"text-align: right;\">         2</td></tr>\\n<tr><td>putdown.-1</td><td style=\"text-align: right;\">           1</td><td style=\"text-align: right;\">           0</td><td style=\"text-align: right;\">          3</td><td style=\"text-align: right;\">         0</td></tr>\\n<tr><td>pickup.-1 </td><td style=\"text-align: right;\">           0</td><td style=\"text-align: right;\">           1</td><td style=\"text-align: right;\">          0</td><td style=\"text-align: right;\">         5</td></tr>\\n<tr><td>stack.-1  </td><td style=\"text-align: right;\">           1</td><td style=\"text-align: right;\">           0</td><td style=\"text-align: right;\">          3</td><td style=\"text-align: right;\">         0</td></tr>\\n</tbody>\\n</table>'"
      ]
     },
     "metadata": {},
     "output_type": "display_data"
    },
    {
     "data": {
      "text/markdown": [
       "\n",
       "#### HOLES: zero"
      ],
      "text/plain": [
       "<IPython.core.display.Markdown object>"
      ]
     },
     "metadata": {},
     "output_type": "display_data"
    },
    {
     "data": {
      "text/html": [
       "<table>\n",
       "<thead>\n",
       "<tr><th>          </th><th style=\"text-align: right;\">  unstack.-1</th><th style=\"text-align: right;\">  putdown.-1</th><th style=\"text-align: right;\">  pickup.-1</th><th style=\"text-align: right;\">  stack.-1</th></tr>\n",
       "</thead>\n",
       "<tbody>\n",
       "<tr><td>unstack.-1</td><td style=\"text-align: right;\">           0</td><td style=\"text-align: right;\">           3</td><td style=\"text-align: right;\">          0</td><td style=\"text-align: right;\">         2</td></tr>\n",
       "<tr><td>putdown.-1</td><td style=\"text-align: right;\">           1</td><td style=\"text-align: right;\">           0</td><td style=\"text-align: right;\">          3</td><td style=\"text-align: right;\">         0</td></tr>\n",
       "<tr><td>pickup.-1 </td><td style=\"text-align: right;\">           0</td><td style=\"text-align: right;\">           1</td><td style=\"text-align: right;\">          0</td><td style=\"text-align: right;\">         5</td></tr>\n",
       "<tr><td>stack.-1  </td><td style=\"text-align: right;\">           1</td><td style=\"text-align: right;\">           0</td><td style=\"text-align: right;\">          3</td><td style=\"text-align: right;\">         0</td></tr>\n",
       "</tbody>\n",
       "</table>"
      ],
      "text/plain": [
       "'<table>\\n<thead>\\n<tr><th>          </th><th style=\"text-align: right;\">  unstack.-1</th><th style=\"text-align: right;\">  putdown.-1</th><th style=\"text-align: right;\">  pickup.-1</th><th style=\"text-align: right;\">  stack.-1</th></tr>\\n</thead>\\n<tbody>\\n<tr><td>unstack.-1</td><td style=\"text-align: right;\">           0</td><td style=\"text-align: right;\">           3</td><td style=\"text-align: right;\">          0</td><td style=\"text-align: right;\">         2</td></tr>\\n<tr><td>putdown.-1</td><td style=\"text-align: right;\">           1</td><td style=\"text-align: right;\">           0</td><td style=\"text-align: right;\">          3</td><td style=\"text-align: right;\">         0</td></tr>\\n<tr><td>pickup.-1 </td><td style=\"text-align: right;\">           0</td><td style=\"text-align: right;\">           1</td><td style=\"text-align: right;\">          0</td><td style=\"text-align: right;\">         5</td></tr>\\n<tr><td>stack.-1  </td><td style=\"text-align: right;\">           1</td><td style=\"text-align: right;\">           0</td><td style=\"text-align: right;\">          3</td><td style=\"text-align: right;\">         0</td></tr>\\n</tbody>\\n</table>'"
      ]
     },
     "metadata": {},
     "output_type": "display_data"
    },
    {
     "data": {
      "text/markdown": [
       "\n",
       "#### b"
      ],
      "text/plain": [
       "<IPython.core.display.Markdown object>"
      ]
     },
     "metadata": {},
     "output_type": "display_data"
    },
    {
     "data": {
      "text/html": [
       "<table>\n",
       "<thead>\n",
       "<tr><th>         </th><th style=\"text-align: right;\">  unstack.1</th><th style=\"text-align: right;\">  pickup.0</th><th style=\"text-align: right;\">  stack.0</th><th style=\"text-align: right;\">  unstack.0</th><th style=\"text-align: right;\">  stack.1</th><th style=\"text-align: right;\">  putdown.0</th></tr>\n",
       "</thead>\n",
       "<tbody>\n",
       "<tr><td>unstack.1</td><td style=\"text-align: right;\">          0</td><td style=\"text-align: right;\">         3</td><td style=\"text-align: right;\">        0</td><td style=\"text-align: right;\">          1</td><td style=\"text-align: right;\">        1</td><td style=\"text-align: right;\">          0</td></tr>\n",
       "<tr><td>pickup.0 </td><td style=\"text-align: right;\">          0</td><td style=\"text-align: right;\">         0</td><td style=\"text-align: right;\">        5</td><td style=\"text-align: right;\">          0</td><td style=\"text-align: right;\">        0</td><td style=\"text-align: right;\">          1</td></tr>\n",
       "<tr><td>stack.0  </td><td style=\"text-align: right;\">          0</td><td style=\"text-align: right;\">         0</td><td style=\"text-align: right;\">        0</td><td style=\"text-align: right;\">          1</td><td style=\"text-align: right;\">        3</td><td style=\"text-align: right;\">          0</td></tr>\n",
       "<tr><td>unstack.0</td><td style=\"text-align: right;\">          0</td><td style=\"text-align: right;\">         0</td><td style=\"text-align: right;\">        2</td><td style=\"text-align: right;\">          0</td><td style=\"text-align: right;\">        0</td><td style=\"text-align: right;\">          3</td></tr>\n",
       "<tr><td>stack.1  </td><td style=\"text-align: right;\">          1</td><td style=\"text-align: right;\">         0</td><td style=\"text-align: right;\">        0</td><td style=\"text-align: right;\">          0</td><td style=\"text-align: right;\">        0</td><td style=\"text-align: right;\">          0</td></tr>\n",
       "<tr><td>putdown.0</td><td style=\"text-align: right;\">          0</td><td style=\"text-align: right;\">         3</td><td style=\"text-align: right;\">        0</td><td style=\"text-align: right;\">          0</td><td style=\"text-align: right;\">        1</td><td style=\"text-align: right;\">          0</td></tr>\n",
       "</tbody>\n",
       "</table>"
      ],
      "text/plain": [
       "'<table>\\n<thead>\\n<tr><th>         </th><th style=\"text-align: right;\">  unstack.1</th><th style=\"text-align: right;\">  pickup.0</th><th style=\"text-align: right;\">  stack.0</th><th style=\"text-align: right;\">  unstack.0</th><th style=\"text-align: right;\">  stack.1</th><th style=\"text-align: right;\">  putdown.0</th></tr>\\n</thead>\\n<tbody>\\n<tr><td>unstack.1</td><td style=\"text-align: right;\">          0</td><td style=\"text-align: right;\">         3</td><td style=\"text-align: right;\">        0</td><td style=\"text-align: right;\">          1</td><td style=\"text-align: right;\">        1</td><td style=\"text-align: right;\">          0</td></tr>\\n<tr><td>pickup.0 </td><td style=\"text-align: right;\">          0</td><td style=\"text-align: right;\">         0</td><td style=\"text-align: right;\">        5</td><td style=\"text-align: right;\">          0</td><td style=\"text-align: right;\">        0</td><td style=\"text-align: right;\">          1</td></tr>\\n<tr><td>stack.0  </td><td style=\"text-align: right;\">          0</td><td style=\"text-align: right;\">         0</td><td style=\"text-align: right;\">        0</td><td style=\"text-align: right;\">          1</td><td style=\"text-align: right;\">        3</td><td style=\"text-align: right;\">          0</td></tr>\\n<tr><td>unstack.0</td><td style=\"text-align: right;\">          0</td><td style=\"text-align: right;\">         0</td><td style=\"text-align: right;\">        2</td><td style=\"text-align: right;\">          0</td><td style=\"text-align: right;\">        0</td><td style=\"text-align: right;\">          3</td></tr>\\n<tr><td>stack.1  </td><td style=\"text-align: right;\">          1</td><td style=\"text-align: right;\">         0</td><td style=\"text-align: right;\">        0</td><td style=\"text-align: right;\">          0</td><td style=\"text-align: right;\">        0</td><td style=\"text-align: right;\">          0</td></tr>\\n<tr><td>putdown.0</td><td style=\"text-align: right;\">          0</td><td style=\"text-align: right;\">         3</td><td style=\"text-align: right;\">        0</td><td style=\"text-align: right;\">          0</td><td style=\"text-align: right;\">        1</td><td style=\"text-align: right;\">          0</td></tr>\\n</tbody>\\n</table>'"
      ]
     },
     "metadata": {},
     "output_type": "display_data"
    },
    {
     "data": {
      "text/markdown": [
       "\n",
       "#### HOLES: b"
      ],
      "text/plain": [
       "<IPython.core.display.Markdown object>"
      ]
     },
     "metadata": {},
     "output_type": "display_data"
    },
    {
     "data": {
      "text/html": [
       "<table>\n",
       "<thead>\n",
       "<tr><th>         </th><th style=\"text-align: right;\">  unstack.1</th><th>pickup.0  </th><th style=\"text-align: right;\">  stack.0</th><th>unstack.0  </th><th style=\"text-align: right;\">  stack.1</th><th style=\"text-align: right;\">  putdown.0</th></tr>\n",
       "</thead>\n",
       "<tbody>\n",
       "<tr><td>unstack.1</td><td style=\"text-align: right;\">          0</td><td>3         </td><td style=\"text-align: right;\">        0</td><td>1          </td><td style=\"text-align: right;\">        1</td><td style=\"text-align: right;\">          0</td></tr>\n",
       "<tr><td>pickup.0 </td><td style=\"text-align: right;\">          0</td><td>0         </td><td style=\"text-align: right;\">        5</td><td>0          </td><td style=\"text-align: right;\">        0</td><td style=\"text-align: right;\">          1</td></tr>\n",
       "<tr><td>stack.0  </td><td style=\"text-align: right;\">          0</td><td>hole      </td><td style=\"text-align: right;\">        0</td><td>1          </td><td style=\"text-align: right;\">        3</td><td style=\"text-align: right;\">          0</td></tr>\n",
       "<tr><td>unstack.0</td><td style=\"text-align: right;\">          0</td><td>0         </td><td style=\"text-align: right;\">        2</td><td>0          </td><td style=\"text-align: right;\">        0</td><td style=\"text-align: right;\">          3</td></tr>\n",
       "<tr><td>stack.1  </td><td style=\"text-align: right;\">          1</td><td>0         </td><td style=\"text-align: right;\">        0</td><td>0          </td><td style=\"text-align: right;\">        0</td><td style=\"text-align: right;\">          0</td></tr>\n",
       "<tr><td>putdown.0</td><td style=\"text-align: right;\">          0</td><td>3         </td><td style=\"text-align: right;\">        0</td><td>hole       </td><td style=\"text-align: right;\">        1</td><td style=\"text-align: right;\">          0</td></tr>\n",
       "</tbody>\n",
       "</table>"
      ],
      "text/plain": [
       "'<table>\\n<thead>\\n<tr><th>         </th><th style=\"text-align: right;\">  unstack.1</th><th>pickup.0  </th><th style=\"text-align: right;\">  stack.0</th><th>unstack.0  </th><th style=\"text-align: right;\">  stack.1</th><th style=\"text-align: right;\">  putdown.0</th></tr>\\n</thead>\\n<tbody>\\n<tr><td>unstack.1</td><td style=\"text-align: right;\">          0</td><td>3         </td><td style=\"text-align: right;\">        0</td><td>1          </td><td style=\"text-align: right;\">        1</td><td style=\"text-align: right;\">          0</td></tr>\\n<tr><td>pickup.0 </td><td style=\"text-align: right;\">          0</td><td>0         </td><td style=\"text-align: right;\">        5</td><td>0          </td><td style=\"text-align: right;\">        0</td><td style=\"text-align: right;\">          1</td></tr>\\n<tr><td>stack.0  </td><td style=\"text-align: right;\">          0</td><td>hole      </td><td style=\"text-align: right;\">        0</td><td>1          </td><td style=\"text-align: right;\">        3</td><td style=\"text-align: right;\">          0</td></tr>\\n<tr><td>unstack.0</td><td style=\"text-align: right;\">          0</td><td>0         </td><td style=\"text-align: right;\">        2</td><td>0          </td><td style=\"text-align: right;\">        0</td><td style=\"text-align: right;\">          3</td></tr>\\n<tr><td>stack.1  </td><td style=\"text-align: right;\">          1</td><td>0         </td><td style=\"text-align: right;\">        0</td><td>0          </td><td style=\"text-align: right;\">        0</td><td style=\"text-align: right;\">          0</td></tr>\\n<tr><td>putdown.0</td><td style=\"text-align: right;\">          0</td><td>3         </td><td style=\"text-align: right;\">        0</td><td>hole       </td><td style=\"text-align: right;\">        1</td><td style=\"text-align: right;\">          0</td></tr>\\n</tbody>\\n</table>'"
      ]
     },
     "metadata": {},
     "output_type": "display_data"
    },
    {
     "name": "stdout",
     "output_type": "stream",
     "text": [
      "#holes in sort zero:0\n",
      "#holes in sort b:2\n"
     ]
    },
    {
     "data": {
      "text/markdown": [
       "### zero"
      ],
      "text/plain": [
       "<IPython.core.display.Markdown object>"
      ]
     },
     "metadata": {},
     "output_type": "display_data"
    },
    {
     "name": "stdout",
     "output_type": "stream",
     "text": [
      "no holes\n",
      "[]\n",
      "\n",
      "Removed redundancy transition set list\n",
      "[]\n"
     ]
    },
    {
     "data": {
      "text/markdown": [
       "#### Final transition set list"
      ],
      "text/plain": [
       "<IPython.core.display.Markdown object>"
      ]
     },
     "metadata": {},
     "output_type": "display_data"
    },
    {
     "name": "stdout",
     "output_type": "stream",
     "text": [
      "[{'putdown.-1', 'stack.-1', 'pickup.-1', 'unstack.-1'}]\n"
     ]
    },
    {
     "data": {
      "text/markdown": [
       "### b"
      ],
      "text/plain": [
       "<IPython.core.display.Markdown object>"
      ]
     },
     "metadata": {},
     "output_type": "display_data"
    },
    {
     "name": "stdout",
     "output_type": "stream",
     "text": [
      "2 holes\n"
     ]
    },
    {
     "data": {
      "text/markdown": [
       "#### Hole 1: {'putdown.0', 'unstack.0'}"
      ],
      "text/plain": [
       "<IPython.core.display.Markdown object>"
      ]
     },
     "metadata": {},
     "output_type": "display_data"
    },
    {
     "data": {
      "text/markdown": [
       "Checking candidate set *{'putdown.0', 'unstack.0', 'stack.1'}* of class **b** for well formedness and Validity"
      ],
      "text/plain": [
       "<IPython.core.display.Markdown object>"
      ]
     },
     "metadata": {},
     "output_type": "display_data"
    },
    {
     "data": {
      "text/html": [
       "<table>\n",
       "<thead>\n",
       "<tr><th>         </th><th style=\"text-align: right;\">  putdown.0</th><th style=\"text-align: right;\">  unstack.0</th><th style=\"text-align: right;\">  stack.1</th></tr>\n",
       "</thead>\n",
       "<tbody>\n",
       "<tr><td>putdown.0</td><td style=\"text-align: right;\">          0</td><td style=\"text-align: right;\">          0</td><td style=\"text-align: right;\">        1</td></tr>\n",
       "<tr><td>unstack.0</td><td style=\"text-align: right;\">          3</td><td style=\"text-align: right;\">          0</td><td style=\"text-align: right;\">        0</td></tr>\n",
       "<tr><td>stack.1  </td><td style=\"text-align: right;\">          0</td><td style=\"text-align: right;\">          0</td><td style=\"text-align: right;\">        0</td></tr>\n",
       "</tbody>\n",
       "</table>"
      ],
      "text/plain": [
       "'<table>\\n<thead>\\n<tr><th>         </th><th style=\"text-align: right;\">  putdown.0</th><th style=\"text-align: right;\">  unstack.0</th><th style=\"text-align: right;\">  stack.1</th></tr>\\n</thead>\\n<tbody>\\n<tr><td>putdown.0</td><td style=\"text-align: right;\">          0</td><td style=\"text-align: right;\">          0</td><td style=\"text-align: right;\">        1</td></tr>\\n<tr><td>unstack.0</td><td style=\"text-align: right;\">          3</td><td style=\"text-align: right;\">          0</td><td style=\"text-align: right;\">        0</td></tr>\\n<tr><td>stack.1  </td><td style=\"text-align: right;\">          0</td><td style=\"text-align: right;\">          0</td><td style=\"text-align: right;\">        0</td></tr>\\n</tbody>\\n</table>'"
      ]
     },
     "metadata": {},
     "output_type": "display_data"
    },
    {
     "name": "stdout",
     "output_type": "stream",
     "text": [
      "0 1\n",
      "0 2\n",
      "1 2\n",
      "This subset is well-formed.\n",
      "This subset is valid.\n",
      "Adding this subset {'putdown.0', 'unstack.0', 'stack.1'} to the locm2 transition set.\n",
      "Hole that is covered now:\n",
      "['putdown.0', 'unstack.0']\n"
     ]
    },
    {
     "data": {
      "text/markdown": [
       "#### Hole 2: {'stack.0', 'pickup.0'}"
      ],
      "text/plain": [
       "<IPython.core.display.Markdown object>"
      ]
     },
     "metadata": {},
     "output_type": "display_data"
    },
    {
     "data": {
      "text/markdown": [
       "Checking candidate set *{'putdown.0', 'stack.0', 'pickup.0'}* of class **b** for well formedness and Validity"
      ],
      "text/plain": [
       "<IPython.core.display.Markdown object>"
      ]
     },
     "metadata": {},
     "output_type": "display_data"
    },
    {
     "data": {
      "text/html": [
       "<table>\n",
       "<thead>\n",
       "<tr><th>         </th><th style=\"text-align: right;\">  putdown.0</th><th style=\"text-align: right;\">  stack.0</th><th style=\"text-align: right;\">  pickup.0</th></tr>\n",
       "</thead>\n",
       "<tbody>\n",
       "<tr><td>putdown.0</td><td style=\"text-align: right;\">          0</td><td style=\"text-align: right;\">        0</td><td style=\"text-align: right;\">         3</td></tr>\n",
       "<tr><td>stack.0  </td><td style=\"text-align: right;\">          0</td><td style=\"text-align: right;\">        0</td><td style=\"text-align: right;\">         0</td></tr>\n",
       "<tr><td>pickup.0 </td><td style=\"text-align: right;\">          1</td><td style=\"text-align: right;\">        5</td><td style=\"text-align: right;\">         0</td></tr>\n",
       "</tbody>\n",
       "</table>"
      ],
      "text/plain": [
       "'<table>\\n<thead>\\n<tr><th>         </th><th style=\"text-align: right;\">  putdown.0</th><th style=\"text-align: right;\">  stack.0</th><th style=\"text-align: right;\">  pickup.0</th></tr>\\n</thead>\\n<tbody>\\n<tr><td>putdown.0</td><td style=\"text-align: right;\">          0</td><td style=\"text-align: right;\">        0</td><td style=\"text-align: right;\">         3</td></tr>\\n<tr><td>stack.0  </td><td style=\"text-align: right;\">          0</td><td style=\"text-align: right;\">        0</td><td style=\"text-align: right;\">         0</td></tr>\\n<tr><td>pickup.0 </td><td style=\"text-align: right;\">          1</td><td style=\"text-align: right;\">        5</td><td style=\"text-align: right;\">         0</td></tr>\\n</tbody>\\n</table>'"
      ]
     },
     "metadata": {},
     "output_type": "display_data"
    },
    {
     "name": "stdout",
     "output_type": "stream",
     "text": [
      "0 1\n",
      "0 2\n",
      "1 2\n",
      "This subset is well-formed.\n",
      "This subset is valid.\n",
      "Adding this subset {'putdown.0', 'stack.0', 'pickup.0'} to the locm2 transition set.\n",
      "Hole that is covered now:\n",
      "['stack.0', 'pickup.0']\n",
      "[{'putdown.0', 'unstack.0', 'stack.1'}, {'putdown.0', 'stack.0', 'pickup.0'}]\n",
      "\n",
      "Removed redundancy transition set list\n",
      "[{'putdown.0', 'unstack.0', 'stack.1'}, {'putdown.0', 'stack.0', 'pickup.0'}]\n"
     ]
    },
    {
     "data": {
      "text/markdown": [
       "#### Final transition set list"
      ],
      "text/plain": [
       "<IPython.core.display.Markdown object>"
      ]
     },
     "metadata": {},
     "output_type": "display_data"
    },
    {
     "name": "stdout",
     "output_type": "stream",
     "text": [
      "[{'putdown.0', 'unstack.0', 'stack.1'}, {'putdown.0', 'stack.0', 'pickup.0'}, {'putdown.0', 'pickup.0', 'stack.0', 'stack.1', 'unstack.1', 'unstack.0'}]\n"
     ]
    }
   ],
   "source": [
    "LP.locm2()"
   ]
  },
  {
   "cell_type": "code",
   "execution_count": 10,
   "metadata": {},
   "outputs": [
    {
     "data": {
      "text/markdown": [
       "### zero"
      ],
      "text/plain": [
       "<IPython.core.display.Markdown object>"
      ]
     },
     "metadata": {},
     "output_type": "display_data"
    },
    {
     "name": "stdout",
     "output_type": "stream",
     "text": [
      "Number of FSMS:1\n"
     ]
    },
    {
     "data": {
      "text/markdown": [
       "#### FSM 0"
      ],
      "text/plain": [
       "<IPython.core.display.Markdown object>"
      ]
     },
     "metadata": {},
     "output_type": "display_data"
    },
    {
     "data": {
      "text/html": [
       "<table>\n",
       "<thead>\n",
       "<tr><th>          </th><th style=\"text-align: right;\">  putdown.-1</th><th style=\"text-align: right;\">  stack.-1</th><th style=\"text-align: right;\">  pickup.-1</th><th style=\"text-align: right;\">  unstack.-1</th></tr>\n",
       "</thead>\n",
       "<tbody>\n",
       "<tr><td>putdown.-1</td><td style=\"text-align: right;\">           0</td><td style=\"text-align: right;\">         0</td><td style=\"text-align: right;\">          3</td><td style=\"text-align: right;\">           1</td></tr>\n",
       "<tr><td>stack.-1  </td><td style=\"text-align: right;\">           0</td><td style=\"text-align: right;\">         0</td><td style=\"text-align: right;\">          3</td><td style=\"text-align: right;\">           1</td></tr>\n",
       "<tr><td>pickup.-1 </td><td style=\"text-align: right;\">           1</td><td style=\"text-align: right;\">         5</td><td style=\"text-align: right;\">          0</td><td style=\"text-align: right;\">           0</td></tr>\n",
       "<tr><td>unstack.-1</td><td style=\"text-align: right;\">           3</td><td style=\"text-align: right;\">         2</td><td style=\"text-align: right;\">          0</td><td style=\"text-align: right;\">           0</td></tr>\n",
       "</tbody>\n",
       "</table>"
      ],
      "text/plain": [
       "'<table>\\n<thead>\\n<tr><th>          </th><th style=\"text-align: right;\">  putdown.-1</th><th style=\"text-align: right;\">  stack.-1</th><th style=\"text-align: right;\">  pickup.-1</th><th style=\"text-align: right;\">  unstack.-1</th></tr>\\n</thead>\\n<tbody>\\n<tr><td>putdown.-1</td><td style=\"text-align: right;\">           0</td><td style=\"text-align: right;\">         0</td><td style=\"text-align: right;\">          3</td><td style=\"text-align: right;\">           1</td></tr>\\n<tr><td>stack.-1  </td><td style=\"text-align: right;\">           0</td><td style=\"text-align: right;\">         0</td><td style=\"text-align: right;\">          3</td><td style=\"text-align: right;\">           1</td></tr>\\n<tr><td>pickup.-1 </td><td style=\"text-align: right;\">           1</td><td style=\"text-align: right;\">         5</td><td style=\"text-align: right;\">          0</td><td style=\"text-align: right;\">           0</td></tr>\\n<tr><td>unstack.-1</td><td style=\"text-align: right;\">           3</td><td style=\"text-align: right;\">         2</td><td style=\"text-align: right;\">          0</td><td style=\"text-align: right;\">           0</td></tr>\\n</tbody>\\n</table>'"
      ]
     },
     "metadata": {},
     "output_type": "display_data"
    },
    {
     "name": "stderr",
     "output_type": "stream",
     "text": [
      "/home/uto/miniconda3/lib/python3.12/site-packages/jupyter_client/session.py:721: UserWarning: Message serialization failed with:\n",
      "keys must be str, int, float, bool or None, not tuple\n",
      "Supporting this message is deprecated in jupyter-client 7, please make sure your message is JSON-compliant\n",
      "  content = self.pack(content)\n"
     ]
    },
    {
     "data": {
      "application/vnd.jupyter.widget-view+json": {
       "model_id": "b9a04891880c4ac793793e4f7a6ff8ef",
       "version_major": 2,
       "version_minor": 0
      },
      "text/plain": [
       "CytoscapeWidget(cytoscape_layout={'name': 'cola'}, cytoscape_style=[{'width': 400, 'height': 500, 'selector': …"
      ]
     },
     "metadata": {},
     "output_type": "display_data"
    },
    {
     "data": {
      "text/html": [
       "<table>\n",
       "<thead>\n",
       "<tr><th>                                                    </th><th style=\"text-align: right;\">  e(stack.-1)|e(putdown.-1)|s(pickup.-1)|s(unstack.-1)</th><th style=\"text-align: right;\">  e(unstack.-1)|e(pickup.-1)|s(putdown.-1)|s(stack.-1)</th></tr>\n",
       "</thead>\n",
       "<tbody>\n",
       "<tr><td>e(stack.-1)|e(putdown.-1)|s(pickup.-1)|s(unstack.-1)</td><td style=\"text-align: right;\">                                                     0</td><td style=\"text-align: right;\">                                                     1</td></tr>\n",
       "<tr><td>e(unstack.-1)|e(pickup.-1)|s(putdown.-1)|s(stack.-1)</td><td style=\"text-align: right;\">                                                     1</td><td style=\"text-align: right;\">                                                     0</td></tr>\n",
       "</tbody>\n",
       "</table>"
      ],
      "text/plain": [
       "'<table>\\n<thead>\\n<tr><th>                                                    </th><th style=\"text-align: right;\">  e(stack.-1)|e(putdown.-1)|s(pickup.-1)|s(unstack.-1)</th><th style=\"text-align: right;\">  e(unstack.-1)|e(pickup.-1)|s(putdown.-1)|s(stack.-1)</th></tr>\\n</thead>\\n<tbody>\\n<tr><td>e(stack.-1)|e(putdown.-1)|s(pickup.-1)|s(unstack.-1)</td><td style=\"text-align: right;\">                                                     0</td><td style=\"text-align: right;\">                                                     1</td></tr>\\n<tr><td>e(unstack.-1)|e(pickup.-1)|s(putdown.-1)|s(stack.-1)</td><td style=\"text-align: right;\">                                                     1</td><td style=\"text-align: right;\">                                                     0</td></tr>\\n</tbody>\\n</table>'"
      ]
     },
     "metadata": {},
     "output_type": "display_data"
    },
    {
     "data": {
      "text/markdown": [
       "### b"
      ],
      "text/plain": [
       "<IPython.core.display.Markdown object>"
      ]
     },
     "metadata": {},
     "output_type": "display_data"
    },
    {
     "name": "stdout",
     "output_type": "stream",
     "text": [
      "Number of FSMS:3\n"
     ]
    },
    {
     "data": {
      "text/markdown": [
       "#### FSM 0"
      ],
      "text/plain": [
       "<IPython.core.display.Markdown object>"
      ]
     },
     "metadata": {},
     "output_type": "display_data"
    },
    {
     "data": {
      "text/html": [
       "<table>\n",
       "<thead>\n",
       "<tr><th>         </th><th style=\"text-align: right;\">  putdown.0</th><th style=\"text-align: right;\">  unstack.0</th><th style=\"text-align: right;\">  stack.1</th></tr>\n",
       "</thead>\n",
       "<tbody>\n",
       "<tr><td>putdown.0</td><td style=\"text-align: right;\">          0</td><td style=\"text-align: right;\">          0</td><td style=\"text-align: right;\">        1</td></tr>\n",
       "<tr><td>unstack.0</td><td style=\"text-align: right;\">          3</td><td style=\"text-align: right;\">          0</td><td style=\"text-align: right;\">        0</td></tr>\n",
       "<tr><td>stack.1  </td><td style=\"text-align: right;\">          0</td><td style=\"text-align: right;\">          0</td><td style=\"text-align: right;\">        0</td></tr>\n",
       "</tbody>\n",
       "</table>"
      ],
      "text/plain": [
       "'<table>\\n<thead>\\n<tr><th>         </th><th style=\"text-align: right;\">  putdown.0</th><th style=\"text-align: right;\">  unstack.0</th><th style=\"text-align: right;\">  stack.1</th></tr>\\n</thead>\\n<tbody>\\n<tr><td>putdown.0</td><td style=\"text-align: right;\">          0</td><td style=\"text-align: right;\">          0</td><td style=\"text-align: right;\">        1</td></tr>\\n<tr><td>unstack.0</td><td style=\"text-align: right;\">          3</td><td style=\"text-align: right;\">          0</td><td style=\"text-align: right;\">        0</td></tr>\\n<tr><td>stack.1  </td><td style=\"text-align: right;\">          0</td><td style=\"text-align: right;\">          0</td><td style=\"text-align: right;\">        0</td></tr>\\n</tbody>\\n</table>'"
      ]
     },
     "metadata": {},
     "output_type": "display_data"
    },
    {
     "data": {
      "application/vnd.jupyter.widget-view+json": {
       "model_id": "d02a9f9c5972422dbec9c894c355abaf",
       "version_major": 2,
       "version_minor": 0
      },
      "text/plain": [
       "CytoscapeWidget(cytoscape_layout={'name': 'cola'}, cytoscape_style=[{'width': 400, 'height': 500, 'selector': …"
      ]
     },
     "metadata": {},
     "output_type": "display_data"
    },
    {
     "data": {
      "text/html": [
       "<table>\n",
       "<thead>\n",
       "<tr><th>                         </th><th style=\"text-align: right;\">  e(putdown.0)|s(stack.1)</th><th style=\"text-align: right;\">  s(unstack.0)</th><th style=\"text-align: right;\">  e(unstack.0)|s(putdown.0)</th><th style=\"text-align: right;\">  e(stack.1)</th></tr>\n",
       "</thead>\n",
       "<tbody>\n",
       "<tr><td>e(putdown.0)|s(stack.1)  </td><td style=\"text-align: right;\">                        0</td><td style=\"text-align: right;\">             0</td><td style=\"text-align: right;\">                          0</td><td style=\"text-align: right;\">           1</td></tr>\n",
       "<tr><td>s(unstack.0)             </td><td style=\"text-align: right;\">                        0</td><td style=\"text-align: right;\">             0</td><td style=\"text-align: right;\">                          1</td><td style=\"text-align: right;\">           0</td></tr>\n",
       "<tr><td>e(unstack.0)|s(putdown.0)</td><td style=\"text-align: right;\">                        1</td><td style=\"text-align: right;\">             0</td><td style=\"text-align: right;\">                          0</td><td style=\"text-align: right;\">           0</td></tr>\n",
       "<tr><td>e(stack.1)               </td><td style=\"text-align: right;\">                        0</td><td style=\"text-align: right;\">             0</td><td style=\"text-align: right;\">                          0</td><td style=\"text-align: right;\">           0</td></tr>\n",
       "</tbody>\n",
       "</table>"
      ],
      "text/plain": [
       "'<table>\\n<thead>\\n<tr><th>                         </th><th style=\"text-align: right;\">  e(putdown.0)|s(stack.1)</th><th style=\"text-align: right;\">  s(unstack.0)</th><th style=\"text-align: right;\">  e(unstack.0)|s(putdown.0)</th><th style=\"text-align: right;\">  e(stack.1)</th></tr>\\n</thead>\\n<tbody>\\n<tr><td>e(putdown.0)|s(stack.1)  </td><td style=\"text-align: right;\">                        0</td><td style=\"text-align: right;\">             0</td><td style=\"text-align: right;\">                          0</td><td style=\"text-align: right;\">           1</td></tr>\\n<tr><td>s(unstack.0)             </td><td style=\"text-align: right;\">                        0</td><td style=\"text-align: right;\">             0</td><td style=\"text-align: right;\">                          1</td><td style=\"text-align: right;\">           0</td></tr>\\n<tr><td>e(unstack.0)|s(putdown.0)</td><td style=\"text-align: right;\">                        1</td><td style=\"text-align: right;\">             0</td><td style=\"text-align: right;\">                          0</td><td style=\"text-align: right;\">           0</td></tr>\\n<tr><td>e(stack.1)               </td><td style=\"text-align: right;\">                        0</td><td style=\"text-align: right;\">             0</td><td style=\"text-align: right;\">                          0</td><td style=\"text-align: right;\">           0</td></tr>\\n</tbody>\\n</table>'"
      ]
     },
     "metadata": {},
     "output_type": "display_data"
    },
    {
     "data": {
      "text/markdown": [
       "#### FSM 1"
      ],
      "text/plain": [
       "<IPython.core.display.Markdown object>"
      ]
     },
     "metadata": {},
     "output_type": "display_data"
    },
    {
     "data": {
      "text/html": [
       "<table>\n",
       "<thead>\n",
       "<tr><th>         </th><th style=\"text-align: right;\">  putdown.0</th><th style=\"text-align: right;\">  stack.0</th><th style=\"text-align: right;\">  pickup.0</th></tr>\n",
       "</thead>\n",
       "<tbody>\n",
       "<tr><td>putdown.0</td><td style=\"text-align: right;\">          0</td><td style=\"text-align: right;\">        0</td><td style=\"text-align: right;\">         3</td></tr>\n",
       "<tr><td>stack.0  </td><td style=\"text-align: right;\">          0</td><td style=\"text-align: right;\">        0</td><td style=\"text-align: right;\">         0</td></tr>\n",
       "<tr><td>pickup.0 </td><td style=\"text-align: right;\">          1</td><td style=\"text-align: right;\">        5</td><td style=\"text-align: right;\">         0</td></tr>\n",
       "</tbody>\n",
       "</table>"
      ],
      "text/plain": [
       "'<table>\\n<thead>\\n<tr><th>         </th><th style=\"text-align: right;\">  putdown.0</th><th style=\"text-align: right;\">  stack.0</th><th style=\"text-align: right;\">  pickup.0</th></tr>\\n</thead>\\n<tbody>\\n<tr><td>putdown.0</td><td style=\"text-align: right;\">          0</td><td style=\"text-align: right;\">        0</td><td style=\"text-align: right;\">         3</td></tr>\\n<tr><td>stack.0  </td><td style=\"text-align: right;\">          0</td><td style=\"text-align: right;\">        0</td><td style=\"text-align: right;\">         0</td></tr>\\n<tr><td>pickup.0 </td><td style=\"text-align: right;\">          1</td><td style=\"text-align: right;\">        5</td><td style=\"text-align: right;\">         0</td></tr>\\n</tbody>\\n</table>'"
      ]
     },
     "metadata": {},
     "output_type": "display_data"
    },
    {
     "data": {
      "application/vnd.jupyter.widget-view+json": {
       "model_id": "17084e600c824359b3e703aadfa48249",
       "version_major": 2,
       "version_minor": 0
      },
      "text/plain": [
       "CytoscapeWidget(cytoscape_layout={'name': 'cola'}, cytoscape_style=[{'width': 400, 'height': 500, 'selector': …"
      ]
     },
     "metadata": {},
     "output_type": "display_data"
    },
    {
     "data": {
      "text/html": [
       "<table>\n",
       "<thead>\n",
       "<tr><th>                                   </th><th style=\"text-align: right;\">  e(putdown.0)|s(pickup.0)</th><th style=\"text-align: right;\">  e(stack.0)</th><th style=\"text-align: right;\">  e(pickup.0)|s(putdown.0)|s(stack.0)</th></tr>\n",
       "</thead>\n",
       "<tbody>\n",
       "<tr><td>e(putdown.0)|s(pickup.0)           </td><td style=\"text-align: right;\">                         0</td><td style=\"text-align: right;\">           0</td><td style=\"text-align: right;\">                                    1</td></tr>\n",
       "<tr><td>e(stack.0)                         </td><td style=\"text-align: right;\">                         0</td><td style=\"text-align: right;\">           0</td><td style=\"text-align: right;\">                                    0</td></tr>\n",
       "<tr><td>e(pickup.0)|s(putdown.0)|s(stack.0)</td><td style=\"text-align: right;\">                         1</td><td style=\"text-align: right;\">           1</td><td style=\"text-align: right;\">                                    0</td></tr>\n",
       "</tbody>\n",
       "</table>"
      ],
      "text/plain": [
       "'<table>\\n<thead>\\n<tr><th>                                   </th><th style=\"text-align: right;\">  e(putdown.0)|s(pickup.0)</th><th style=\"text-align: right;\">  e(stack.0)</th><th style=\"text-align: right;\">  e(pickup.0)|s(putdown.0)|s(stack.0)</th></tr>\\n</thead>\\n<tbody>\\n<tr><td>e(putdown.0)|s(pickup.0)           </td><td style=\"text-align: right;\">                         0</td><td style=\"text-align: right;\">           0</td><td style=\"text-align: right;\">                                    1</td></tr>\\n<tr><td>e(stack.0)                         </td><td style=\"text-align: right;\">                         0</td><td style=\"text-align: right;\">           0</td><td style=\"text-align: right;\">                                    0</td></tr>\\n<tr><td>e(pickup.0)|s(putdown.0)|s(stack.0)</td><td style=\"text-align: right;\">                         1</td><td style=\"text-align: right;\">           1</td><td style=\"text-align: right;\">                                    0</td></tr>\\n</tbody>\\n</table>'"
      ]
     },
     "metadata": {},
     "output_type": "display_data"
    },
    {
     "data": {
      "text/markdown": [
       "#### FSM 2"
      ],
      "text/plain": [
       "<IPython.core.display.Markdown object>"
      ]
     },
     "metadata": {},
     "output_type": "display_data"
    },
    {
     "data": {
      "text/html": [
       "<table>\n",
       "<thead>\n",
       "<tr><th>         </th><th style=\"text-align: right;\">  putdown.0</th><th style=\"text-align: right;\">  pickup.0</th><th style=\"text-align: right;\">  stack.0</th><th style=\"text-align: right;\">  stack.1</th><th style=\"text-align: right;\">  unstack.1</th><th style=\"text-align: right;\">  unstack.0</th></tr>\n",
       "</thead>\n",
       "<tbody>\n",
       "<tr><td>putdown.0</td><td style=\"text-align: right;\">          0</td><td style=\"text-align: right;\">         3</td><td style=\"text-align: right;\">        0</td><td style=\"text-align: right;\">        1</td><td style=\"text-align: right;\">          0</td><td style=\"text-align: right;\">          0</td></tr>\n",
       "<tr><td>pickup.0 </td><td style=\"text-align: right;\">          1</td><td style=\"text-align: right;\">         0</td><td style=\"text-align: right;\">        5</td><td style=\"text-align: right;\">        0</td><td style=\"text-align: right;\">          0</td><td style=\"text-align: right;\">          0</td></tr>\n",
       "<tr><td>stack.0  </td><td style=\"text-align: right;\">          0</td><td style=\"text-align: right;\">         0</td><td style=\"text-align: right;\">        0</td><td style=\"text-align: right;\">        3</td><td style=\"text-align: right;\">          0</td><td style=\"text-align: right;\">          1</td></tr>\n",
       "<tr><td>stack.1  </td><td style=\"text-align: right;\">          0</td><td style=\"text-align: right;\">         0</td><td style=\"text-align: right;\">        0</td><td style=\"text-align: right;\">        0</td><td style=\"text-align: right;\">          1</td><td style=\"text-align: right;\">          0</td></tr>\n",
       "<tr><td>unstack.1</td><td style=\"text-align: right;\">          0</td><td style=\"text-align: right;\">         3</td><td style=\"text-align: right;\">        0</td><td style=\"text-align: right;\">        1</td><td style=\"text-align: right;\">          0</td><td style=\"text-align: right;\">          1</td></tr>\n",
       "<tr><td>unstack.0</td><td style=\"text-align: right;\">          3</td><td style=\"text-align: right;\">         0</td><td style=\"text-align: right;\">        2</td><td style=\"text-align: right;\">        0</td><td style=\"text-align: right;\">          0</td><td style=\"text-align: right;\">          0</td></tr>\n",
       "</tbody>\n",
       "</table>"
      ],
      "text/plain": [
       "'<table>\\n<thead>\\n<tr><th>         </th><th style=\"text-align: right;\">  putdown.0</th><th style=\"text-align: right;\">  pickup.0</th><th style=\"text-align: right;\">  stack.0</th><th style=\"text-align: right;\">  stack.1</th><th style=\"text-align: right;\">  unstack.1</th><th style=\"text-align: right;\">  unstack.0</th></tr>\\n</thead>\\n<tbody>\\n<tr><td>putdown.0</td><td style=\"text-align: right;\">          0</td><td style=\"text-align: right;\">         3</td><td style=\"text-align: right;\">        0</td><td style=\"text-align: right;\">        1</td><td style=\"text-align: right;\">          0</td><td style=\"text-align: right;\">          0</td></tr>\\n<tr><td>pickup.0 </td><td style=\"text-align: right;\">          1</td><td style=\"text-align: right;\">         0</td><td style=\"text-align: right;\">        5</td><td style=\"text-align: right;\">        0</td><td style=\"text-align: right;\">          0</td><td style=\"text-align: right;\">          0</td></tr>\\n<tr><td>stack.0  </td><td style=\"text-align: right;\">          0</td><td style=\"text-align: right;\">         0</td><td style=\"text-align: right;\">        0</td><td style=\"text-align: right;\">        3</td><td style=\"text-align: right;\">          0</td><td style=\"text-align: right;\">          1</td></tr>\\n<tr><td>stack.1  </td><td style=\"text-align: right;\">          0</td><td style=\"text-align: right;\">         0</td><td style=\"text-align: right;\">        0</td><td style=\"text-align: right;\">        0</td><td style=\"text-align: right;\">          1</td><td style=\"text-align: right;\">          0</td></tr>\\n<tr><td>unstack.1</td><td style=\"text-align: right;\">          0</td><td style=\"text-align: right;\">         3</td><td style=\"text-align: right;\">        0</td><td style=\"text-align: right;\">        1</td><td style=\"text-align: right;\">          0</td><td style=\"text-align: right;\">          1</td></tr>\\n<tr><td>unstack.0</td><td style=\"text-align: right;\">          3</td><td style=\"text-align: right;\">         0</td><td style=\"text-align: right;\">        2</td><td style=\"text-align: right;\">        0</td><td style=\"text-align: right;\">          0</td><td style=\"text-align: right;\">          0</td></tr>\\n</tbody>\\n</table>'"
      ]
     },
     "metadata": {},
     "output_type": "display_data"
    },
    {
     "name": "stderr",
     "output_type": "stream",
     "text": [
      "/home/uto/miniconda3/lib/python3.12/site-packages/jupyter_client/session.py:721: UserWarning: Message serialization failed with:\n",
      "keys must be str, int, float, bool or None, not tuple\n",
      "Supporting this message is deprecated in jupyter-client 7, please make sure your message is JSON-compliant\n",
      "  content = self.pack(content)\n"
     ]
    },
    {
     "data": {
      "application/vnd.jupyter.widget-view+json": {
       "model_id": "a43dec6c7a284a6faf33fa6a71f6548d",
       "version_major": 2,
       "version_minor": 0
      },
      "text/plain": [
       "CytoscapeWidget(cytoscape_layout={'name': 'cola'}, cytoscape_style=[{'width': 400, 'height': 500, 'selector': …"
      ]
     },
     "metadata": {},
     "output_type": "display_data"
    },
    {
     "data": {
      "text/html": [
       "<table>\n",
       "<thead>\n",
       "<tr><th>                                                                        </th><th style=\"text-align: right;\">  e(stack.1)|s(unstack.1)</th><th style=\"text-align: right;\">  e(unstack.1)|e(stack.0)|e(putdown.0)|s(pickup.0)|s(stack.1)|s(unstack.0)</th><th style=\"text-align: right;\">  e(unstack.0)|e(pickup.0)|s(putdown.0)|s(stack.0)</th></tr>\n",
       "</thead>\n",
       "<tbody>\n",
       "<tr><td>e(stack.1)|s(unstack.1)                                                 </td><td style=\"text-align: right;\">                        0</td><td style=\"text-align: right;\">                                                                         1</td><td style=\"text-align: right;\">                                                 0</td></tr>\n",
       "<tr><td>e(unstack.1)|e(stack.0)|e(putdown.0)|s(pickup.0)|s(stack.1)|s(unstack.0)</td><td style=\"text-align: right;\">                        1</td><td style=\"text-align: right;\">                                                                         0</td><td style=\"text-align: right;\">                                                 1</td></tr>\n",
       "<tr><td>e(unstack.0)|e(pickup.0)|s(putdown.0)|s(stack.0)                        </td><td style=\"text-align: right;\">                        0</td><td style=\"text-align: right;\">                                                                         1</td><td style=\"text-align: right;\">                                                 0</td></tr>\n",
       "</tbody>\n",
       "</table>"
      ],
      "text/plain": [
       "'<table>\\n<thead>\\n<tr><th>                                                                        </th><th style=\"text-align: right;\">  e(stack.1)|s(unstack.1)</th><th style=\"text-align: right;\">  e(unstack.1)|e(stack.0)|e(putdown.0)|s(pickup.0)|s(stack.1)|s(unstack.0)</th><th style=\"text-align: right;\">  e(unstack.0)|e(pickup.0)|s(putdown.0)|s(stack.0)</th></tr>\\n</thead>\\n<tbody>\\n<tr><td>e(stack.1)|s(unstack.1)                                                 </td><td style=\"text-align: right;\">                        0</td><td style=\"text-align: right;\">                                                                         1</td><td style=\"text-align: right;\">                                                 0</td></tr>\\n<tr><td>e(unstack.1)|e(stack.0)|e(putdown.0)|s(pickup.0)|s(stack.1)|s(unstack.0)</td><td style=\"text-align: right;\">                        1</td><td style=\"text-align: right;\">                                                                         0</td><td style=\"text-align: right;\">                                                 1</td></tr>\\n<tr><td>e(unstack.0)|e(pickup.0)|s(putdown.0)|s(stack.0)                        </td><td style=\"text-align: right;\">                        0</td><td style=\"text-align: right;\">                                                                         1</td><td style=\"text-align: right;\">                                                 0</td></tr>\\n</tbody>\\n</table>'"
      ]
     },
     "metadata": {},
     "output_type": "display_data"
    },
    {
     "data": {
      "text/markdown": [
       "### zero"
      ],
      "text/plain": [
       "<IPython.core.display.Markdown object>"
      ]
     },
     "metadata": {},
     "output_type": "display_data"
    },
    {
     "name": "stdout",
     "output_type": "stream",
     "text": [
      "Number of FSMS:1\n"
     ]
    },
    {
     "data": {
      "application/vnd.jupyter.widget-view+json": {
       "model_id": "5c9cbde3dfb448bd9ba7d7aa4905cdaf",
       "version_major": 2,
       "version_minor": 0
      },
      "text/plain": [
       "CytoscapeWidget(cytoscape_layout={'name': 'cola'}, cytoscape_style=[{'width': 400, 'height': 500, 'selector': …"
      ]
     },
     "metadata": {},
     "output_type": "display_data"
    },
    {
     "data": {
      "application/vnd.jupyter.widget-view+json": {
       "model_id": "7452a672fc3a402c9b54fb49a984101a",
       "version_major": 2,
       "version_minor": 0
      },
      "text/plain": [
       "CytoscapeWidget(cytoscape_layout={'name': 'cola'}, cytoscape_style=[{'width': 400, 'height': 500, 'selector': …"
      ]
     },
     "metadata": {},
     "output_type": "display_data"
    },
    {
     "data": {
      "text/markdown": [
       "Fsm 0"
      ],
      "text/plain": [
       "<IPython.core.display.Markdown object>"
      ]
     },
     "metadata": {},
     "output_type": "display_data"
    },
    {
     "data": {
      "text/markdown": [
       "### b"
      ],
      "text/plain": [
       "<IPython.core.display.Markdown object>"
      ]
     },
     "metadata": {},
     "output_type": "display_data"
    },
    {
     "name": "stdout",
     "output_type": "stream",
     "text": [
      "Number of FSMS:3\n"
     ]
    },
    {
     "data": {
      "application/vnd.jupyter.widget-view+json": {
       "model_id": "73c2e61864ce4af9aa44c6dff3a36a5e",
       "version_major": 2,
       "version_minor": 0
      },
      "text/plain": [
       "CytoscapeWidget(cytoscape_layout={'name': 'cola'}, cytoscape_style=[{'width': 400, 'height': 500, 'selector': …"
      ]
     },
     "metadata": {},
     "output_type": "display_data"
    },
    {
     "data": {
      "application/vnd.jupyter.widget-view+json": {
       "model_id": "0805d51cef4d42029ac6603c1cca9f24",
       "version_major": 2,
       "version_minor": 0
      },
      "text/plain": [
       "CytoscapeWidget(cytoscape_layout={'name': 'cola'}, cytoscape_style=[{'width': 400, 'height': 500, 'selector': …"
      ]
     },
     "metadata": {},
     "output_type": "display_data"
    },
    {
     "data": {
      "text/markdown": [
       "Fsm 0"
      ],
      "text/plain": [
       "<IPython.core.display.Markdown object>"
      ]
     },
     "metadata": {},
     "output_type": "display_data"
    },
    {
     "data": {
      "application/vnd.jupyter.widget-view+json": {
       "model_id": "4d83452308fa4eeb98b788fe8ca90696",
       "version_major": 2,
       "version_minor": 0
      },
      "text/plain": [
       "CytoscapeWidget(cytoscape_layout={'name': 'cola'}, cytoscape_style=[{'width': 400, 'height': 500, 'selector': …"
      ]
     },
     "metadata": {},
     "output_type": "display_data"
    },
    {
     "data": {
      "application/vnd.jupyter.widget-view+json": {
       "model_id": "bd21117381924c79af729ac1a99dcddb",
       "version_major": 2,
       "version_minor": 0
      },
      "text/plain": [
       "CytoscapeWidget(cytoscape_layout={'name': 'cola'}, cytoscape_style=[{'width': 400, 'height': 500, 'selector': …"
      ]
     },
     "metadata": {},
     "output_type": "display_data"
    },
    {
     "data": {
      "text/markdown": [
       "Fsm 1"
      ],
      "text/plain": [
       "<IPython.core.display.Markdown object>"
      ]
     },
     "metadata": {},
     "output_type": "display_data"
    },
    {
     "data": {
      "application/vnd.jupyter.widget-view+json": {
       "model_id": "25f669bbe2c24be59cc90e2ecd1dd2c3",
       "version_major": 2,
       "version_minor": 0
      },
      "text/plain": [
       "CytoscapeWidget(cytoscape_layout={'name': 'cola'}, cytoscape_style=[{'width': 400, 'height': 500, 'selector': …"
      ]
     },
     "metadata": {},
     "output_type": "display_data"
    },
    {
     "data": {
      "application/vnd.jupyter.widget-view+json": {
       "model_id": "df774c2a58af4a378023e2f0d9a9704c",
       "version_major": 2,
       "version_minor": 0
      },
      "text/plain": [
       "CytoscapeWidget(cytoscape_layout={'name': 'cola'}, cytoscape_style=[{'width': 400, 'height': 500, 'selector': …"
      ]
     },
     "metadata": {},
     "output_type": "display_data"
    },
    {
     "data": {
      "text/markdown": [
       "Fsm 2"
      ],
      "text/plain": [
       "<IPython.core.display.Markdown object>"
      ]
     },
     "metadata": {},
     "output_type": "display_data"
    },
    {
     "data": {
      "text/markdown": [
       "### zero"
      ],
      "text/plain": [
       "<IPython.core.display.Markdown object>"
      ]
     },
     "metadata": {},
     "output_type": "display_data"
    },
    {
     "data": {
      "text/markdown": [
       "#### FSM: 0 Hypothesis Set"
      ],
      "text/plain": [
       "<IPython.core.display.Markdown object>"
      ]
     },
     "metadata": {},
     "output_type": "display_data"
    },
    {
     "name": "stdout",
     "output_type": "stream",
     "text": [
      "18 hypothesis created\n"
     ]
    },
    {
     "data": {
      "text/markdown": [
       "### b"
      ],
      "text/plain": [
       "<IPython.core.display.Markdown object>"
      ]
     },
     "metadata": {},
     "output_type": "display_data"
    },
    {
     "data": {
      "text/markdown": [
       "#### FSM: 0 Hypothesis Set"
      ],
      "text/plain": [
       "<IPython.core.display.Markdown object>"
      ]
     },
     "metadata": {},
     "output_type": "display_data"
    },
    {
     "name": "stdout",
     "output_type": "stream",
     "text": [
      "0 hypothesis created\n"
     ]
    },
    {
     "data": {
      "text/markdown": [
       "#### FSM: 1 Hypothesis Set"
      ],
      "text/plain": [
       "<IPython.core.display.Markdown object>"
      ]
     },
     "metadata": {},
     "output_type": "display_data"
    },
    {
     "name": "stdout",
     "output_type": "stream",
     "text": [
      "0 hypothesis created\n"
     ]
    },
    {
     "data": {
      "text/markdown": [
       "#### FSM: 2 Hypothesis Set"
      ],
      "text/plain": [
       "<IPython.core.display.Markdown object>"
      ]
     },
     "metadata": {},
     "output_type": "display_data"
    },
    {
     "name": "stdout",
     "output_type": "stream",
     "text": [
      "6 hypothesis created\n"
     ]
    },
    {
     "data": {
      "text/markdown": [
       "### zero"
      ],
      "text/plain": [
       "<IPython.core.display.Markdown object>"
      ]
     },
     "metadata": {},
     "output_type": "display_data"
    },
    {
     "data": {
      "text/markdown": [
       "#### FSM: 0 Hypothesis Set"
      ],
      "text/plain": [
       "<IPython.core.display.Markdown object>"
      ]
     },
     "metadata": {},
     "output_type": "display_data"
    },
    {
     "name": "stdout",
     "output_type": "stream",
     "text": [
      "18 hypothesis retained\n"
     ]
    },
    {
     "data": {
      "text/markdown": [
       "### b"
      ],
      "text/plain": [
       "<IPython.core.display.Markdown object>"
      ]
     },
     "metadata": {},
     "output_type": "display_data"
    },
    {
     "data": {
      "text/markdown": [
       "#### FSM: 0 Hypothesis Set"
      ],
      "text/plain": [
       "<IPython.core.display.Markdown object>"
      ]
     },
     "metadata": {},
     "output_type": "display_data"
    },
    {
     "name": "stdout",
     "output_type": "stream",
     "text": [
      "0 hypothesis retained\n"
     ]
    },
    {
     "data": {
      "text/markdown": [
       "#### FSM: 1 Hypothesis Set"
      ],
      "text/plain": [
       "<IPython.core.display.Markdown object>"
      ]
     },
     "metadata": {},
     "output_type": "display_data"
    },
    {
     "name": "stdout",
     "output_type": "stream",
     "text": [
      "0 hypothesis retained\n"
     ]
    },
    {
     "data": {
      "text/markdown": [
       "#### FSM: 2 Hypothesis Set"
      ],
      "text/plain": [
       "<IPython.core.display.Markdown object>"
      ]
     },
     "metadata": {},
     "output_type": "display_data"
    },
    {
     "name": "stdout",
     "output_type": "stream",
     "text": [
      "2 hypothesis retained\n",
      "Step 6: creating and merging state params\n",
      "[['v0', 'v1', 'v2', 'v4', 'v11', 'v12', 'v14', 'v15', 'v17'], ['v3', 'v5', 'v6', 'v7', 'v8', 'v9', 'v10', 'v13', 'v16']]\n",
      "zero\n"
     ]
    },
    {
     "data": {
      "text/markdown": [
       "No. of params earlier:18"
      ],
      "text/plain": [
       "<IPython.core.display.Markdown object>"
      ]
     },
     "metadata": {},
     "output_type": "display_data"
    },
    {
     "data": {
      "text/markdown": [
       "No. of params after merging:2"
      ],
      "text/plain": [
       "<IPython.core.display.Markdown object>"
      ]
     },
     "metadata": {},
     "output_type": "display_data"
    },
    {
     "name": "stdout",
     "output_type": "stream",
     "text": [
      "[]\n",
      "b\n"
     ]
    },
    {
     "data": {
      "text/markdown": [
       "No. of params earlier:0"
      ],
      "text/plain": [
       "<IPython.core.display.Markdown object>"
      ]
     },
     "metadata": {},
     "output_type": "display_data"
    },
    {
     "data": {
      "text/markdown": [
       "No. of params after merging:0"
      ],
      "text/plain": [
       "<IPython.core.display.Markdown object>"
      ]
     },
     "metadata": {},
     "output_type": "display_data"
    },
    {
     "name": "stdout",
     "output_type": "stream",
     "text": [
      "[]\n",
      "b\n"
     ]
    },
    {
     "data": {
      "text/markdown": [
       "No. of params earlier:0"
      ],
      "text/plain": [
       "<IPython.core.display.Markdown object>"
      ]
     },
     "metadata": {},
     "output_type": "display_data"
    },
    {
     "data": {
      "text/markdown": [
       "No. of params after merging:0"
      ],
      "text/plain": [
       "<IPython.core.display.Markdown object>"
      ]
     },
     "metadata": {},
     "output_type": "display_data"
    },
    {
     "name": "stdout",
     "output_type": "stream",
     "text": [
      "[]\n",
      "b\n"
     ]
    },
    {
     "data": {
      "text/markdown": [
       "No. of params earlier:2"
      ],
      "text/plain": [
       "<IPython.core.display.Markdown object>"
      ]
     },
     "metadata": {},
     "output_type": "display_data"
    },
    {
     "data": {
      "text/markdown": [
       "No. of params after merging:2"
      ],
      "text/plain": [
       "<IPython.core.display.Markdown object>"
      ]
     },
     "metadata": {},
     "output_type": "display_data"
    },
    {
     "name": "stdout",
     "output_type": "stream",
     "text": [
      "zero\n",
      "18/18 param retained\n",
      "((frozenset({'e(stack.-1)', 's(unstack.-1)'}), 'stack', -1, 1, 'unstack', -1, 0, 'zero', 'b'), 'v0')\n",
      "((frozenset({'e(stack.-1)', 's(unstack.-1)'}), 'stack', -1, 0, 'unstack', -1, 0, 'zero', 'b'), 'v0')\n",
      "((frozenset({'s(unstack.-1)', 'e(putdown.-1)'}), 'putdown', -1, 0, 'unstack', -1, 1, 'zero', 'b'), 'v0')\n",
      "((frozenset({'s(stack.-1)', 'e(pickup.-1)'}), 'pickup', -1, 0, 'stack', -1, 1, 'zero', 'b'), 'v3')\n",
      "((frozenset({'e(stack.-1)', 's(unstack.-1)'}), 'stack', -1, 0, 'unstack', -1, 1, 'zero', 'b'), 'v0')\n",
      "((frozenset({'e(unstack.-1)', 's(putdown.-1)'}), 'unstack', -1, 1, 'putdown', -1, 0, 'zero', 'b'), 'v3')\n",
      "((frozenset({'e(unstack.-1)', 's(putdown.-1)'}), 'unstack', -1, 0, 'putdown', -1, 0, 'zero', 'b'), 'v3')\n",
      "((frozenset({'s(stack.-1)', 'e(pickup.-1)'}), 'pickup', -1, 0, 'stack', -1, 0, 'zero', 'b'), 'v3')\n",
      "((frozenset({'s(putdown.-1)', 'e(pickup.-1)'}), 'pickup', -1, 0, 'putdown', -1, 0, 'zero', 'b'), 'v3')\n",
      "((frozenset({'e(unstack.-1)', 's(stack.-1)'}), 'unstack', -1, 1, 'stack', -1, 0, 'zero', 'b'), 'v3')\n",
      "((frozenset({'e(unstack.-1)', 's(stack.-1)'}), 'unstack', -1, 1, 'stack', -1, 1, 'zero', 'b'), 'v3')\n",
      "((frozenset({'e(stack.-1)', 's(pickup.-1)'}), 'stack', -1, 1, 'pickup', -1, 0, 'zero', 'b'), 'v0')\n",
      "((frozenset({'s(unstack.-1)', 'e(putdown.-1)'}), 'putdown', -1, 0, 'unstack', -1, 0, 'zero', 'b'), 'v0')\n",
      "((frozenset({'e(unstack.-1)', 's(stack.-1)'}), 'unstack', -1, 0, 'stack', -1, 0, 'zero', 'b'), 'v3')\n",
      "((frozenset({'e(stack.-1)', 's(unstack.-1)'}), 'stack', -1, 1, 'unstack', -1, 1, 'zero', 'b'), 'v0')\n",
      "((frozenset({'s(pickup.-1)', 'e(putdown.-1)'}), 'putdown', -1, 0, 'pickup', -1, 0, 'zero', 'b'), 'v0')\n",
      "((frozenset({'e(unstack.-1)', 's(stack.-1)'}), 'unstack', -1, 0, 'stack', -1, 1, 'zero', 'b'), 'v3')\n",
      "((frozenset({'e(stack.-1)', 's(pickup.-1)'}), 'stack', -1, 0, 'pickup', -1, 0, 'zero', 'b'), 'v0')\n",
      "b\n",
      "0/0 param retained\n",
      "0/0 param retained\n",
      "2/2 param retained\n",
      "((frozenset({'e(unstack.1)', 's(stack.1)'}), 'unstack', 1, 0, 'stack', 1, 0, 'b', 'b'), 'v0')\n",
      "((frozenset({'s(unstack.0)', 'e(stack.0)'}), 'stack', 0, 1, 'unstack', 0, 1, 'b', 'b'), 'v1')\n"
     ]
    }
   ],
   "source": [
    "LP.locm()"
   ]
  },
  {
   "cell_type": "code",
   "execution_count": 11,
   "metadata": {},
   "outputs": [
    {
     "name": "stdout",
     "output_type": "stream",
     "text": [
      ";;********************Learned PDDL domain******************\n",
      "(define  (domain BW-DOMAIN)\n",
      "  (:requirements :typing)\n",
      "  (:types zero b)\n",
      "  (:predicates\n",
      "    (zero_fsm0_state0 ?v0 - b)\n",
      "    (zero_fsm0_state1 ?v3 - b)\n",
      "    (b_fsm0_state0)\n",
      "    (b_fsm0_state1)\n",
      "    (b_fsm0_state2)\n",
      "    (b_fsm0_state3)\n",
      "    (b_fsm1_state0)\n",
      "    (b_fsm1_state1)\n",
      "    (b_fsm1_state2)\n",
      "    (b_fsm2_state0)\n",
      "    (b_fsm2_state1 ?v0 - b ?v1 - b)\n",
      "    (b_fsm2_state2)\n",
      "  )\n",
      "  (:action  stack   :parameters  (?b - b ?c - b )\n",
      "   :precondition   (and\n",
      "        (b_fsm0_state0)\n",
      "        (b_fsm1_state2)\n",
      "        (b_fsm2_state1 ?v0 - b ?v1 - b)\n",
      "        (b_fsm2_state2)\n",
      "   )\n",
      "   :effect   (and\n",
      "        (b_fsm0_state3)\n",
      "        (b_fsm1_state1)\n",
      "        (b_fsm2_state0)\n",
      "        (b_fsm2_state1 ?v0 - b ?v1 - b)\n",
      "  ))\n",
      "\n",
      "  (:action  unstack   :parameters  (?a - b ?b - b )\n",
      "   :precondition   (and\n",
      "        (b_fsm0_state1)\n",
      "        (b_fsm2_state0)\n",
      "        (b_fsm2_state1 ?v0 - b ?v1 - b)\n",
      "   )\n",
      "   :effect   (and\n",
      "        (b_fsm0_state2)\n",
      "        (b_fsm2_state1 ?v0 - b ?v1 - b)\n",
      "        (b_fsm2_state2)\n",
      "  ))\n",
      "\n",
      "  (:action  pickup   :parameters  (?b - b )\n",
      "   :precondition   (and\n",
      "        (b_fsm1_state0)\n",
      "   )\n",
      "   :effect   (and\n",
      "        (b_fsm1_state2)\n",
      "  ))\n",
      "\n",
      "  (:action  putdown   :parameters  (?a - b )\n",
      "   :precondition   (and\n",
      "        (b_fsm0_state2)\n",
      "        (b_fsm1_state2)\n",
      "   )\n",
      "   :effect   (and\n",
      "        (b_fsm0_state0)\n",
      "        (b_fsm1_state0)\n",
      "  ))\n",
      "\n",
      ")\n",
      "\n"
     ]
    }
   ],
   "source": [
    "LP.toPDDL()"
   ]
  },
  {
   "cell_type": "code",
   "execution_count": null,
   "metadata": {},
   "outputs": [],
   "source": []
  }
 ],
 "metadata": {
  "kernelspec": {
   "display_name": "base",
   "language": "python",
   "name": "python3"
  },
  "language_info": {
   "codemirror_mode": {
    "name": "ipython",
    "version": 3
   },
   "file_extension": ".py",
   "mimetype": "text/x-python",
   "name": "python",
   "nbconvert_exporter": "python",
   "pygments_lexer": "ipython3",
   "version": "3.12.2"
  }
 },
 "nbformat": 4,
 "nbformat_minor": 2
}
